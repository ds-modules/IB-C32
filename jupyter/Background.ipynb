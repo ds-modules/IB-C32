{
 "cells": [
  {
   "cell_type": "markdown",
   "id": "1c2aadfb",
   "metadata": {
    "toc": true
   },
   "source": [
    "<h1>Table of Contents<span class=\"tocSkip\"></span></h1>\n",
    "<div class=\"toc\"><ul class=\"toc-item\"><li><span><a href=\"#Row-Granularity-and-Feature-Descriptions\" data-toc-modified-id=\"Row-Granularity-and-Feature-Descriptions-1\">Row Granularity and Feature Descriptions</a></span></li><li><span><a href=\"#Load-the-Data\" data-toc-modified-id=\"Load-the-Data-2\">Load the Data</a></span></li></ul></div>"
   ]
  },
  {
   "cell_type": "markdown",
   "id": "3a5637cc-fce0-4bc3-9d86-b67c6c3acc3b",
   "metadata": {},
   "source": [
    "# Data Background"
   ]
  },
  {
   "cell_type": "code",
   "execution_count": null,
   "id": "3bc94353-da3a-496a-9d66-e4d816d7cea5",
   "metadata": {
    "scrolled": true
   },
   "outputs": [
    {
     "name": "stdout",
     "output_type": "stream",
     "text": [
      "Note: you may need to restart the kernel to use updated packages.\n"
     ]
    }
   ],
   "source": [
    "import pandas as pd\n",
    "import numpy as np\n",
    "from datascience import *\n",
    "from utils import *\n",
    "%pip install -q openpyxl\n",
    "from IPython.display import *"
   ]
  },
  {
   "cell_type": "markdown",
   "id": "ce356c37-6e49-4c9a-afd9-7e8dd2cf1d0a",
   "metadata": {},
   "source": [
    "<center><pre style=\"font-size:20px; color: gold\">Ignore the note above</pre></center>"
   ]
  },
  {
   "cell_type": "markdown",
   "id": "bf0489ba-ebbf-45f6-9f27-af4cd4f1f6dd",
   "metadata": {},
   "source": [
    "## Row Granularity and Feature Descriptions\n",
    "\n",
    "In just a bit, we'll be loading some data from previous semesters from this project. But first, lets take a moment to get acquainted with it!\n",
    "\n",
    "We'll be loading two tables, `class_data`, and `section_data` (you might already be able to guess what each represents from their names).\n",
    "\n",
    "In both tables, **each row represents one observation, _or_ one point on a scatter plot**.\n",
    "> ***Note:*** The following tables **do not** represent any data you may or may not have collected\n",
    "\n",
    "Each row in both tables has the following attributes:\n",
    "\n",
    "<center><pre>Shared Data Attributes</pre></center>\n",
    "\n",
    "|Name|Description|Units|Coding/Representation|\n",
    "|-|-|-|-|\n",
    "|Mass (g)| The mass of the weight or object |$\\text{Grams}$|`Decimal Number`|\n",
    "|Angle (deg)| Angle at which the weight or object is held or hangs|$\\text{Degrees}$|`Decimal Number`|\n",
    "|Shear Force (N)| The Shear Force Exerted|$\\text{Newtons}$|`Decimal Number`|\n",
    "|Adhesive Force (N)| The Adhesive Force Exerted|$\\text{Newtons}$|`Decimal Number`|\n",
    "\n",
    "The `class_data` table has one other column:\n",
    "\n",
    "<center><pre>Class_Data Attributes</pre></center>\n",
    "\n",
    "|Name|Description|Coding/Representation|\n",
    "|-|-|-|\n",
    "|Collected|The term in which the data was collected|`Letters` (either \"Spring 2020\" or \"Spring 2021\")|\n",
    "\n",
    "The `section_data` table has two other columns:\n",
    "\n",
    "<center><pre>Section_Data Attributes</pre></center>\n",
    "\n",
    "|Name|Description|Coding/Representation|\n",
    "|-|-|-|\n",
    "|Section|The section number in which the data was collected|`Whole Number`|\n",
    "|Team|The unique number of the team that collected the data|`Whole Number`|\n",
    "\n",
    "Let's take a look at the tables!"
   ]
  },
  {
   "cell_type": "markdown",
   "id": "d689f71d-2206-44a2-a04d-94ab656b5ec1",
   "metadata": {},
   "source": [
    "## Load the Data\n",
    "In this section we download some data from previous semesters, and we'll take care of some cleaning for you.\n",
    "The cell below downloads this data, using a library called <code><a href=\"https://pandas.pydata.org/docs/reference/api/pandas.read_excel.html?highlight=read_excel\">pandas</a></code>."
   ]
  },
  {
   "cell_type": "code",
   "execution_count": null,
   "id": "cc2abe0e-e10f-4a58-9a99-2bab9d73c01b",
   "metadata": {
    "scrolled": true
   },
   "outputs": [],
   "source": [
    "cleaner = lambda x: x.replace(\"Sp\", \"Spring \")\n",
    "class_data = Table.from_df(pd.read_excel(\"Data/gecko.xlsx\", sheet_name=\"Class\"))\n",
    "class_data[\"Collected\"] = class_data.apply(cleaner, \"Collected\")\n",
    "section_data = pd.read_excel(\"Data/gecko.xlsx\", sheet_name=\"Sections\")\n",
    "section_data.columns = ['Section', 'Team', 'Mass (g)', 'Angle (deg)', 'Shear Force (N)', 'Adhesive Force (N)']\n",
    "section_data = Table.from_df(section_data)"
   ]
  },
  {
   "cell_type": "code",
   "execution_count": null,
   "id": "941d562f-f7a0-40d6-9ad7-b339f0590b02",
   "metadata": {
    "tags": []
   },
   "outputs": [
    {
     "data": {
      "text/markdown": [
       "<pre>Use the slider below to select how many rows to show<pre>"
      ],
      "text/plain": [
       "<IPython.core.display.Markdown object>"
      ]
     },
     "metadata": {},
     "output_type": "display_data"
    },
    {
     "data": {
      "application/vnd.jupyter.widget-view+json": {
       "model_id": "786fdffab6274d0eba2f8625e552fbb6",
       "version_major": 2,
       "version_minor": 0
      },
      "text/plain": [
       "interactive(children=(IntSlider(value=5, description='Rows', max=543, min=1), Output()), _dom_classes=('widget…"
      ]
     },
     "metadata": {},
     "output_type": "display_data"
    },
    {
     "data": {
      "text/markdown": [
       "<pre>Use the slider below to select how many rows to show<pre>"
      ],
      "text/plain": [
       "<IPython.core.display.Markdown object>"
      ]
     },
     "metadata": {},
     "output_type": "display_data"
    },
    {
     "data": {
      "application/vnd.jupyter.widget-view+json": {
       "model_id": "7f87f887e66d41698c505eecb017b1a4",
       "version_major": 2,
       "version_minor": 0
      },
      "text/plain": [
       "interactive(children=(IntSlider(value=5, description='Rows', max=203, min=1), Output()), _dom_classes=('widget…"
      ]
     },
     "metadata": {},
     "output_type": "display_data"
    }
   ],
   "source": [
    "class_data.show_interact()\n",
    "section_data.show_interact()"
   ]
  },
  {
   "cell_type": "markdown",
   "id": "9c67b920-c946-47b7-828b-60a944d991ef",
   "metadata": {},
   "source": [
    "Use the cell below to look at the data using some specific filter!\n",
    "\n",
    "<center><b>Just Run this Cell</b></center>"
   ]
  },
  {
   "cell_type": "code",
   "execution_count": null,
   "id": "ac5283ca-8279-4639-9025-7db45dcd9daa",
   "metadata": {
    "tags": []
   },
   "outputs": [
    {
     "data": {
      "text/markdown": [
       "\n",
       "_**NOTE:**_ \n",
       "- To show ***ALL*** data, click the orange button\n",
       "    - Click it again to reset\n",
       "- Use the first dropdown box to choose what filter you'd like to use \n",
       "- Use the second box to chose what value you'd like to look for using the selected filter \n",
       "- Use the slider to pick how many rows of the table to show"
      ],
      "text/plain": [
       "<IPython.core.display.Markdown object>"
      ]
     },
     "metadata": {},
     "output_type": "display_data"
    },
    {
     "data": {
      "text/markdown": [
       " "
      ],
      "text/plain": [
       "<IPython.core.display.Markdown object>"
      ]
     },
     "metadata": {},
     "output_type": "display_data"
    },
    {
     "data": {
      "application/vnd.jupyter.widget-view+json": {
       "model_id": "40d2f537bcf0417dbe3757764103c841",
       "version_major": 2,
       "version_minor": 0
      },
      "text/plain": [
       "interactive(children=(ToggleButton(value=False, button_style='warning', description='Show ALL Tables', icon='e…"
      ]
     },
     "metadata": {},
     "output_type": "display_data"
    }
   ],
   "source": [
    "show_gecko_tables()"
   ]
  },
  {
   "cell_type": "code",
   "execution_count": null,
   "id": "969bd684",
   "metadata": {},
   "outputs": [],
   "source": []
  }
 ],
 "metadata": {
  "kernelspec": {
   "display_name": "Python 3 (ipykernel)",
   "language": "python",
   "name": "python3"
  },
  "language_info": {
   "codemirror_mode": {
    "name": "ipython",
    "version": 3
   },
   "file_extension": ".py",
   "mimetype": "text/x-python",
   "name": "python",
   "nbconvert_exporter": "python",
   "pygments_lexer": "ipython3",
   "version": "3.10.1"
  },
  "toc": {
   "base_numbering": 1,
   "nav_menu": {},
   "number_sections": false,
   "sideBar": true,
   "skip_h1_title": true,
   "title_cell": "Table of Contents",
   "title_sidebar": "Contents",
   "toc_cell": true,
   "toc_position": {},
   "toc_section_display": true,
   "toc_window_display": false
  },
  "widgets": {
   "application/vnd.jupyter.widget-state+json": {
    "state": {},
    "version_major": 2,
    "version_minor": 0
   }
  }
 },
 "nbformat": 4,
 "nbformat_minor": 5
}
