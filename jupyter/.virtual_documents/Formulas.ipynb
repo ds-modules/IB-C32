import plotly.express as px;
import scipy.constants as constant; import numpy as np; import math
from ipywidgets import *; from utils import *


forces_plot()
