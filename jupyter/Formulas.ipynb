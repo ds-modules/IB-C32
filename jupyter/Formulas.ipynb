{
 "cells": [
  {
   "cell_type": "markdown",
   "id": "4cbf5871",
   "metadata": {
    "toc": true
   },
   "source": [
    "<h1>Table of Contents<span class=\"tocSkip\"></span></h1>\n",
    "<div class=\"toc\"><ul class=\"toc-item\"><li><span><a href=\"#Imports-for-Graphing-Functions\" data-toc-modified-id=\"Imports-for-Graphing-Functions-1\">Imports for Graphing Functions</a></span></li><li><span><a href=\"#Functions-and-Variables\" data-toc-modified-id=\"Functions-and-Variables-2\">Functions and Variables</a></span><ul class=\"toc-item\"><li><span><a href=\"#Variables\" data-toc-modified-id=\"Variables-2.1\">Variables</a></span></li><li><span><a href=\"#Formulae\" data-toc-modified-id=\"Formulae-2.2\">Formulae</a></span></li></ul></li><li><span><a href=\"#Visualization-of-Formulae\" data-toc-modified-id=\"Visualization-of-Formulae-3\">Visualization of Formulae</a></span></li></ul></div>"
   ]
  },
  {
   "cell_type": "markdown",
   "id": "f5d4c470-8cc3-4b8d-86d8-850e547cbbca",
   "metadata": {
    "slideshow": {
     "slide_type": "slide"
    },
    "tags": []
   },
   "source": [
    "## Imports for Graphing Functions"
   ]
  },
  {
   "cell_type": "code",
   "execution_count": 1,
   "id": "c8089ef0-d951-4201-98fd-3a6b0b1d5cdc",
   "metadata": {
    "slideshow": {
     "slide_type": "subslide"
    },
    "tags": []
   },
   "outputs": [],
   "source": [
    "import plotly.express as px;\n",
    "import scipy.constants as constant; import numpy as np; import math\n",
    "from ipywidgets import *; from utils import *"
   ]
  },
  {
   "cell_type": "markdown",
   "id": "853dc197-5d57-42ff-89d2-d8570ec18829",
   "metadata": {
    "slideshow": {
     "slide_type": "slide"
    },
    "tags": []
   },
   "source": [
    "In this notebook, you will be calculating force in one of two ways. \n",
    "\n",
    "The first is called the *Adhesive Force*, which we will represent with $F_\\perp$. You can think of this as the force exerted **perpendicular** (or orthogonally) to the surface. The second force we will calculate is the *Shear Force*, which we will abbreviate similarly as $F_\\parallel$. You can think of this as the force exerted **parallel** to the surface. \n",
    "\n",
    "You can measure the values of each formula by changing the angle of attachment away from vertical $(90°)$ as if the gecko was on the underside of an over-hang.\n",
    "\n",
    "In a more typical material, the shear force (also referred to as friction) is equal to the coefficient of friction $(\\mu)$ times the normal load $(F_\\perp)$. We can represent this relationship as follow: \n",
    "\n",
    "$F_\\parallel = \\mu \\times F_\\perp$"
   ]
  },
  {
   "cell_type": "markdown",
   "id": "f7bf5aa4-5dd4-4c09-8d56-59a0986a8ac3",
   "metadata": {
    "slideshow": {
     "slide_type": "slide"
    },
    "tags": []
   },
   "source": [
    "When setae are dragged along their natural curvature, they exhibit a response that violates this law. As shear force is increased $(F_\\parallel)$, an adhesive force results $(-F_\\perp)$, perpendicular to the surface pulling away from the surface). It has been shown that **the angle of the setal shaft to the surface $(\\alpha)$ must be kept below $30°$ or detachment occurs**. The requirement of shear force to maintain adhesion is an advantage because it provides precise control over adhesion via friction or shear force [(Autumn et al. 2006)](https://journals.biologists.com/jeb/article/209/18/3558/16105/Effective-elastic-modulus-of-isolated-gecko-setal), allowing strong attachment and easy removal.\n",
    "\n",
    "So, we can resolve the force $(F)$ along the setal shaft as follows:\n",
    "\n",
    "$F_\\perp = mg \\cdot \\sin(\\alpha)$\n",
    "\n",
    "$F_\\parallel = mg \\cdot \\cos(\\alpha)$\n",
    "\n",
    "where m is mass and g is acceleration due to gravity (mg = the weight of the object you will hang from your adhesive, plus the weight of the adhesive itself), then:\n",
    "\n",
    "$F_\\perp = F_\\parallel \\cdot \\tan(\\alpha)$\n",
    "\n",
    "As you add weight to your GSA sample, you will measure the angle at which your sample detaches and then calculate the shear $(F_\\parallel)$ and adhesive forces $(F_\\perp)$."
   ]
  },
  {
   "cell_type": "markdown",
   "id": "e6acfcab-7012-4816-a3f7-932a200f74e0",
   "metadata": {
    "slideshow": {
     "slide_type": "slide"
    },
    "tags": []
   },
   "source": [
    "## Functions and Variables\n",
    "### Variables\n",
    "\n",
    "|Symbol|Meaning|\n",
    "|------|-------|\n",
    "|$\\alpha$ | Angle of the setal shaft to surface [`degrees or radians`]|\n",
    "|$m$ | Mass of the Object [`grams or kilograms`]|\n",
    "|$g$ | Gravitational Constant of Earth $\\approx 9.807 \\ m/s^2$ [`unit of acceletation`]|\n",
    "|$\\mu$ | Coefficient of Friction [`no units`]|\n",
    "|$F_\\parallel$ | Shear Force [`Newtons`] |\n",
    "|$F_\\perp$ | Adhesive Force [`Newtons`] |\n",
    "\n",
    "### Formulae\n",
    "\n",
    "$$\\text{General Shear Force Equation: } F_\\parallel = \\mu \\times F_\\perp$$\n",
    "\n",
    "$$\\text{Special Adhesive Force Equation: } F_\\perp = F_\\parallel \\cdot \\tan(\\alpha)$$\n",
    "\n",
    "$$\\text{Shear Force From Angle Equation: }F_\\parallel = mg \\cdot \\cos(\\alpha)$$\n",
    "\n",
    "$$\\text{Adhesive Force From Angle Equation: }F_\\parallel = mg \\cdot \\sin(\\alpha)$$"
   ]
  },
  {
   "cell_type": "markdown",
   "id": "682995fe-7c90-4986-8c05-f8097255035c",
   "metadata": {
    "slideshow": {
     "slide_type": "slide"
    },
    "tags": []
   },
   "source": [
    "## Visualization of Formulae\n",
    "\n",
    "**The cell below will plot \"Shear Force\" as the x-axis, \"Adhesive Force\" as the y-axis, and what the result would look like in a perfect world!** \n",
    "\n",
    "> **Run this cell, then use the slider to check out some of the visualizations!**"
   ]
  },
  {
   "cell_type": "code",
   "execution_count": 2,
   "id": "b482ae09-dbf0-4e77-aa41-9af6cbcbc614",
   "metadata": {
    "slideshow": {
     "slide_type": "subslide"
    },
    "tags": []
   },
   "outputs": [
    {
     "data": {
      "text/markdown": [
       ">***Tip***: Hover your mouse over the line to see the points!"
      ],
      "text/plain": [
       "<IPython.core.display.Markdown object>"
      ]
     },
     "metadata": {},
     "output_type": "display_data"
    },
    {
     "data": {
      "text/markdown": [
       "The graph may take a second to update after you release the slider"
      ],
      "text/plain": [
       "<IPython.core.display.Markdown object>"
      ]
     },
     "metadata": {},
     "output_type": "display_data"
    },
    {
     "data": {
      "text/markdown": [
       " "
      ],
      "text/plain": [
       "<IPython.core.display.Markdown object>"
      ]
     },
     "metadata": {},
     "output_type": "display_data"
    },
    {
     "data": {
      "text/markdown": [
       "Changing `m` will change the magnitude"
      ],
      "text/plain": [
       "<IPython.core.display.Markdown object>"
      ]
     },
     "metadata": {},
     "output_type": "display_data"
    },
    {
     "data": {
      "text/markdown": [
       "Changing `r` will change the amount of points that are plotted."
      ],
      "text/plain": [
       "<IPython.core.display.Markdown object>"
      ]
     },
     "metadata": {},
     "output_type": "display_data"
    },
    {
     "data": {
      "application/vnd.jupyter.widget-view+json": {
       "model_id": "46b635065a2d463aaee9b902e1bd208b",
       "version_major": 2,
       "version_minor": 0
      },
      "text/plain": [
       "interactive(children=(FloatSlider(value=4.0, description='m', max=10.0, step=0.05), FloatSlider(value=0.1, des…"
      ]
     },
     "metadata": {},
     "output_type": "display_data"
    }
   ],
   "source": [
    "forces_plot()"
   ]
  }
 ],
 "metadata": {
  "kernelspec": {
   "display_name": "Python 3 (ipykernel)",
   "language": "python",
   "name": "python3"
  },
  "language_info": {
   "codemirror_mode": {
    "name": "ipython",
    "version": 3
   },
   "file_extension": ".py",
   "mimetype": "text/x-python",
   "name": "python",
   "nbconvert_exporter": "python",
   "pygments_lexer": "ipython3",
   "version": "3.10.1"
  },
  "toc": {
   "base_numbering": 1,
   "nav_menu": {},
   "number_sections": false,
   "sideBar": true,
   "skip_h1_title": true,
   "title_cell": "Table of Contents",
   "title_sidebar": "Contents",
   "toc_cell": true,
   "toc_position": {},
   "toc_section_display": true,
   "toc_window_display": false
  },
  "toc-showcode": true,
  "toc-showtags": false,
  "widgets": {
   "application/vnd.jupyter.widget-state+json": {
    "state": {},
    "version_major": 2,
    "version_minor": 0
   }
  }
 },
 "nbformat": 4,
 "nbformat_minor": 5
}
