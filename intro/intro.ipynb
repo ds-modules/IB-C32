{
    "cells": [
        {
            "cell_type": "markdown",
            "metadata": {
                "cell_id": "00001-eedf9a46-cb0c-42bc-a90f-96265663c0d3",
                "deepnote_cell_type": "markdown",
                "tags": [
                    "ignore"
                ]
            },
            "source": [
                "## Notebook 1: Introduction to Jupyter Notebooks and Python\n",
                "\n",
                "## **Jupyter Notebooks**\n",
                "\n",
                "Welcome to a Jupyter Notebook! **Notebooks** are documents that support interactive computing in which code is interwoven with text, visualizations, and more.\n",
                "\n",
                "The way notebooks are formatted encourages **exploration**, allowing users to iteratively update code and document the results. In use cases such as **data exploration and communication**, notebooks excel. Science (and computational work in general) has become quite sophisticated: models are built upon experiments that are conducted on large swaths of data, methods and results are abstracted away into symbols, and papers are full of technical jargon. *A static document like a paper might not be sufficient to both effectively communicate a new discovery and allow someone else to discover it for themselves*."
            ]
        },
        {
            "attachments": {},
            "cell_type": "markdown",
            "metadata": {},
            "source": [
                "<div class=\"alert alert-block alert-danger\">\n",
                "    <p style=\"font-size:20px\">In this notebook, there are some more advance topics that are <i>\"optional\"</i>. This means you can just read over these sections, don't worry about fully understanding these parts unless you are really interested. They may be useful later in the course, but for now they are not necessary, so feel free to just skim these parts!\n",
                "</div>"
            ]
        },
        {
            "attachments": {},
            "cell_type": "markdown",
            "metadata": {},
            "source": [
                "<div class=\"alert alert-block alert-success\">\n",
                "    <p style=\"font-size:20px\">This section is advanced/optional\n",
                "</div>"
            ]
        },
        {
            "cell_type": "markdown",
            "metadata": {},
            "source": [
                "<hr style=\"border: 2px solid #003262\">\n",
                "<hr style=\"border: 2px solid #C9B676\">"
            ]
        },
        {
            "cell_type": "markdown",
            "metadata": {},
            "source": [
                "## Learning Outcomes\n",
                "Working through this notebook, you will learn about:\n",
                "1. The history behind **Jupyter notebooks** and why they are used in computing\n",
                "2. How a Jupyter notebook is **structured** and how to use them\n",
                "3. Python fundamentals and working with **tabular data**"
            ]
        },
        {
            "cell_type": "markdown",
            "metadata": {},
            "source": [
                "<hr style=\"border: 2px solid #003262\">\n",
                "<hr style=\"border: 2px solid #C9B676\">"
            ]
        },
        {
            "attachments": {},
            "cell_type": "markdown",
            "metadata": {
                "cell_id": "00003-a9cd1167-2276-4e0f-85b6-43d803731627",
                "deepnote_cell_type": "markdown",
                "tags": []
            },
            "source": [
                "## A Brief History\n",
                "The Jupyter Notebook is an _interactive computational environment_ that supports over **40** different programming languages, but was first released as a web-based interface for IPython in 2011. [Fernando Perez](https://bids.berkeley.edu/people/fernando-p%C3%A9rez), a professor in the Statistics department here at UC Berkeley, created [IPython](https://bids.berkeley.edu/research/ipython) as a graduate student in 2001 and co-founded [Project Jupyter](https://bids.berkeley.edu/research/project-jupyter) in 2014. \n",
                "\n",
                "Project Jupyter's name is a reference to the three core programming languages supported by Jupyter, which are `Julia`, `Python` and `R` (`\"ju\"` from `\"Julia\"`, `\"pyt\"` from `\"Python\"`, and `\"er\"` from `\"R\"`; all together you get `\"ju\" + \"pyt\" + \"er\" = \"jupyter\"`). \n",
                "\n",
                "The word notebook is an homage to Galileo's notebooks in which he documents his discovery of the the moons of Jupiter (the planet).\n",
                "\n",
                "Though the Jupyter Notebook interface has been around only about a decade, the first notebook interface, [Mathematica](https://www.mathematica.org/), was released over 30 years ago in 1988. Other notebook interfaces have been released since then, but none have gained as much traction as Jupyter Notebooks have. Starting in the early 2000s, open-source scientific tools were becoming more and more popular and with the widespread popularity of Jupyter, it's well on its way to becoming a standard for sharing research methodology and results."
            ]
        },
        {
            "attachments": {},
            "cell_type": "markdown",
            "metadata": {},
            "source": [
                "<img src=\"assets/mathematica.png\" alt=\"Early Mathematica Interface\" style=\"width: 350px;\" class=\"center\"/><br>\n",
                "The early Mathematica Interface."
            ]
        },
        {
            "attachments": {},
            "cell_type": "markdown",
            "metadata": {
                "cell_id": "00004-6505161d-0615-4da6-bdf1-11b7204319a9",
                "deepnote_cell_type": "markdown",
                "tags": []
            },
            "source": [
                "## Why (Jupyter) Notebooks?\n",
                "Notebooks are used for [*literate programming*](https://en.wikipedia.org/wiki/Literate_programming), a programming paradigm introduced by [Donald Knuth](https://en.wikipedia.org/wiki/Donald_Knuth) in 1984, in which a programming language is accompanied with a documentation language, or a natural language. In other words, the computer program has an explanation in a natural language. \n",
                "\n",
                "This approach to programming effectively treats software as works of literature ([Knuth](http://www.literateprogramming.com/knuthweb.pdf), \"Literate Programming\"). _It supports people to have a strong conceptual map of what is happening in the code and also to have clarity on the flow and logic of the code/program, which is helpful for both the writer and the reader_.\n",
                "\n",
                "Jupyter leverages this idea and enables users to create and share documents that combine code, visualizations, narrative text, equations, and rich media. Notebooks are multipurpose and can be used in any discipline. The notebook is like a laboratory notebook, but for computing. \n",
                "\n",
                "Researchers can write code to work with their data while supplementing their methods with explanations, analysis, or hypotheses. Notebooks are also used in education because they enable students to engage with content presented in different forms, experience computation with no prior experience, and practice programming in a scaffolded way. "
            ]
        },
        {
            "cell_type": "markdown",
            "metadata": {},
            "source": [
                "<hr style=\"border: 2px solid #003262\">\n",
                "<hr style=\"border: 2px solid #C9B676\">"
            ]
        },
        {
            "cell_type": "markdown",
            "metadata": {
                "cell_id": "00003-058e2913-9587-45ac-8c2f-f284333ac4f3",
                "deepnote_cell_type": "markdown"
            },
            "source": [
                "## Notebook Structure\n",
                "\n",
                "### Cell Types\n",
                "A notebook is composed of rectangular sections called **cells**. There are 2 kinds of cells: markdown and code. \n",
                "- A **markdown cell**, such as this one, contains text. \n",
                "- A **code cell** contains code in Python, a programming language that we will be using with all of our data science modules in this class. You can select any cell by clicking it once.\n",
                "    - Code cells can also contain code in other languages like Julia, or R: both of which can also be used in data analysis\n",
                "\n",
                "### Running Cells\n",
                "To \"run\" a code cell (i.e. tell the computer to perform the programmed instructions in the cell), select it and then,\n",
                "- Press `Shift` + `Enter` to run the cell and move to the following cell\n",
                "- Press `Command/Control` + `Enter` to run the cell but stay on the same cell\n",
                "    - This can be used repeatedley to re-run the same process\n",
                "- Click the Run button in the toolbar at the top of the screen. \n",
                "\n",
                "### Results and Outputs of a Cell\n",
                "When you run a code cell, a number of things can happen, depending on the type and contents of the cell:\n",
                "1. If the cell is a markdown cell, the text will be rendered according to the structure (_Markdown_, _HTML_, etc.)\n",
                "2. If the cell is a code cell, the result of the last line in the cell will be shown\n",
                "    - This output may be text, a number, a picture, or a visualization\n",
                "\n",
                "If a code cell is running, you will see an asterisk (\\*) appear in the square brackets to the left of the cell. Once the cell has finished running, a number will replace the asterisk and any output from the code will appear under the cell.\n",
                "\n",
                "Let's try it! **Run the cell below to see the output.** Feel free to play around with the code -- try changing 'World' to your name."
            ]
        },
        {
            "cell_type": "code",
            "execution_count": null,
            "metadata": {
                "cell_id": "00004-a9f5f74b-a641-44a7-8dd5-2f9f58c10236",
                "deepnote_cell_type": "code",
                "execution": {
                    "iopub.execute_input": "2022-08-03T09:02:40.079967Z",
                    "iopub.status.busy": "2022-08-03T09:02:40.079000Z",
                    "iopub.status.idle": "2022-08-03T09:02:40.118322Z",
                    "shell.execute_reply": "2022-08-03T09:02:40.117260Z",
                    "shell.execute_reply.started": "2022-08-03T09:02:40.079911Z"
                },
                "tags": [
                    "ignore"
                ]
            },
            "outputs": [],
            "source": [
                "print(\"Hello World!\") # Run the cell by using one of the methods we mentioned above!"
            ]
        },
        {
            "cell_type": "markdown",
            "metadata": {
                "cell_id": "00005-7327a678-bcb7-4a12-b09a-a4054660c9af",
                "deepnote_cell_type": "markdown",
                "tags": [
                    "ignore"
                ]
            },
            "source": [
                "### Comments\n",
                "You'll notice that many code cells contain lines of blue text that start with a `#`. These are ***comments***. Comments often contain helpful information about what the code does or what you are supposed to do in the cell. The leading `#` tells the computer to ignore whatever text follows it."
            ]
        },
        {
            "cell_type": "markdown",
            "metadata": {},
            "source": [
                "<hr style=\"border: 2px solid #003262\">\n",
                "<hr style=\"border: 2px solid #C9B676\">"
            ]
        },
        {
            "attachments": {},
            "cell_type": "markdown",
            "metadata": {
                "cell_id": "00006-dadd2623-2173-4cdb-8c95-207741ecc765",
                "deepnote_cell_type": "markdown",
                "tags": [
                    "ignore"
                ]
            },
            "source": [
                "## Editing the Notebook\n",
                "\n",
                "You can change the text in a markdown cell by clicking it twice. Text in markdown cells is written in [**Markdown**](https://daringfireball.net/projects/markdown/), a formatting language for plain text, so you may see some funky symbols should you try and edit a markdown cell we've already written. Once you've made changes to a markdown cell, you can exit editing mode by running the cell the same way you'd run a code cell."
            ]
        },
        {
            "cell_type": "markdown",
            "metadata": {},
            "source": [
                "<blockquote>\n",
                "    <div class=\"alert alert-block alert-warning\">\n",
                "        <b>\n",
                "            Try double-clicking on this text to see what some Markdown formatting looks like.\n",
                "        </b>\n",
                "    </div>\n",
                "</blockquote>"
            ]
        },
        {
            "cell_type": "markdown",
            "metadata": {
                "cell_id": "00007-068d7862-911b-48aa-aa89-fe1376726a4f",
                "deepnote_cell_type": "markdown",
                "tags": [
                    "ignore"
                ]
            },
            "source": [
                "### Manipulating Cells\n",
                "\n",
                "Another feature of Jupyter Notebooks is the ability to add and delete cells, whether that be code or markdown. You can add cells by pressing the plus sign icon in the menu bar. This will add (by default) a code cell immediately below your current highlighted cell.\n",
                "\n",
                "To convert a cell to markdown, you can press 'Cell' in the menu bar, select 'Cell Type', and finally pick the desired option. This works the other way around too!\n",
                "\n",
                "To delete a cell, simply press the scissors icon in the menu bar. A common fear is deleting a cell that you needed -- but don't worry! This can be undone using 'Edit' > 'Undo Delete Cells'! If you accidentally delete content in a cell, you can use `Ctrl` + `Z` to undo."
            ]
        },
        {
            "attachments": {},
            "cell_type": "markdown",
            "metadata": {},
            "source": [
                "<h3>Shortcuts</h3>"
            ]
        },
        {
            "attachments": {},
            "cell_type": "markdown",
            "metadata": {},
            "source": [
                "<div class=\"alert alert-block alert-success\">\n",
                "    <p style=\"font-size:20px\">This section is optional\n",
                "</div>"
            ]
        },
        {
            "attachments": {},
            "cell_type": "markdown",
            "metadata": {},
            "source": [
                "Select a cell by clicking on the empty space to the left of the text (there will be a blue bar to the left of the cell at this point)\n",
                "<ul>\n",
                "<li>To <b>add a cell <i>below</i></b> the selected one, press the <code>b</code> key (<i>b for below</i>) </li>\n",
                "<li>To <b>add a cell <i>above</i></b> the selected one, press the <code>a</code> key (<i>a for above</i>) </li>\n",
                "<li>To <b>delete a cell</b>, press the <code>d</code> key (<i>d for delete</i>) </li>\n",
                "<li>To <b>copy a cell</b>, press the <code>c</code> key (<i>c for copy</i>) </li>\n",
                "<li>To <b>cut a cell</b>, press the <code>x</code> key (<i>same as the general cut text command</i>) </li>\n",
                "<li>To <b>delete a cell</b>, press the <code>d</code> key <b><i>twice</i></b> (<i>d for delete, twice to ensure the action</i>) </li>\n",
                "<li>To <b>paste a cell</b>, press the <code>v</code> key (<i>same as the general paste text command</i>) </li>\n",
                "<li>To <b>convert a cell to a markdown cell</b>, press the <code>m</code> key (<i>m for markdown</i>) </li>\n",
                "<li>To <b>convert a cell to a code cell</b>, press the <code>y</code> key </li>\n",
                "</ul>"
            ]
        },
        {
            "attachments": {},
            "cell_type": "markdown",
            "metadata": {
                "cell_id": "00008-50df70cb-c544-42c2-8146-20897007051c",
                "deepnote_cell_type": "markdown",
                "tags": [
                    "ignore"
                ]
            },
            "source": [
                "### Saving and Loading\n",
                "\n",
                "Your notebook will automatically save your text and code edits, as well as any graphs you generate or any calculations you make. However, you can also manually save the notebook in its current state by using `Ctrl` + `S`, clicking the floppy disk icon in the toolbar at the top of the page, or by going to the 'File' menu and selecting 'Save and Checkpoint'.\n",
                "\n",
                "Next time you open your notebook, it will look the same as when you last saved it!"
            ]
        },
        {
            "attachments": {},
            "cell_type": "markdown",
            "metadata": {},
            "source": [
                "<blockquote>\n",
                "    <div class=\"alert alert-block alert-info\">\n",
                "        <b>Note:</b> When you load a notebook you will see all the outputs from your last saved session (such as graphs, computations, etc.) but you won't be able to use any of the variables you assigned in your code without running it again.\n",
                "    </div>\n",
                "</blockquote>"
            ]
        },
        {
            "cell_type": "markdown",
            "metadata": {},
            "source": [
                "An easy way to \"catch up\" to the last work you did is to highlight the cell you left off on and click \"Run all above\" under the Cell tab in the menu at the top of the screen."
            ]
        },
        {
            "cell_type": "markdown",
            "metadata": {},
            "source": [
                "<hr style=\"border: 2px solid #003262\">\n",
                "<hr style=\"border: 2px solid #C9B676\">"
            ]
        },
        {
            "attachments": {},
            "cell_type": "markdown",
            "metadata": {},
            "source": [
                "## Python Basics\n",
                "[**Python**](https://www.python.org/) is a programming language – a way for us to communicate with the computer and give it instructions.\n",
                "\n",
                "Just like any language, Python has a set vocabulary made up of words it can understand, and a syntax which provides the rules for how to structure our commands and give instructions."
            ]
        },
        {
            "cell_type": "markdown",
            "metadata": {},
            "source": [
                "### Math\n",
                "Python is a great language for math, as it is easy to understand, and looks very similar to what it would look like in a regular scientific calculator!\n",
                "\n",
                "- `+` Acts as the addition operator\n",
                "- `-` Acts as the subtraction operator and can also act as a negative sign if next to a number (e.g., `-2` vs `- 2`)\n",
                "- `*` Acts as the multiplication operator\n",
                "- `**` Acts as the exponentiation operator\n",
                "- `/` Acts as the division operator\n",
                "- `()` Acts as the grouping operator\n",
                "\n",
                "There are two types of numbers in python: Integers, also known as `int`, (e.g., `4`, `7`, `15`, `2354`) and decimal numbers, aka `float` (e.g., `13.0`, `14.5`, `2.731`, `3.1415`). \n",
                "\n",
                "When using the `/` operator, even if the result is a whole number, the result will be a `float`. For example, `10 / 5` is `2.0`, not `2`.\n",
                "\n",
                "> There are other, more advanced operators such as [floor division](https://www.pythontutorial.net/advanced-python/python-floor-division/) and [modulo](https://realpython.com/python-modulo-operator/), however, we won't be using those for the time being, so feel free to explore if you'd like, but this is very out of scope for this material\n",
                "\n",
                "Let's look at some examples of using these operators. As usual, feel free to play artound with these cells or even add new ones to explore how these operations work!"
            ]
        },
        {
            "cell_type": "code",
            "execution_count": null,
            "metadata": {},
            "outputs": [],
            "source": [
                "1 + 3"
            ]
        },
        {
            "cell_type": "code",
            "execution_count": null,
            "metadata": {},
            "outputs": [],
            "source": [
                "1 + 3 - 4 + 5"
            ]
        },
        {
            "cell_type": "code",
            "execution_count": null,
            "metadata": {},
            "outputs": [],
            "source": [
                "1 + 10 / 2 + 7"
            ]
        },
        {
            "cell_type": "code",
            "execution_count": null,
            "metadata": {},
            "outputs": [],
            "source": [
                "3 * 4"
            ]
        },
        {
            "cell_type": "code",
            "execution_count": null,
            "metadata": {
                "execution": {
                    "iopub.execute_input": "2022-08-03T09:59:56.480883Z",
                    "iopub.status.busy": "2022-08-03T09:59:56.480486Z",
                    "iopub.status.idle": "2022-08-03T09:59:56.490422Z",
                    "shell.execute_reply": "2022-08-03T09:59:56.489698Z",
                    "shell.execute_reply.started": "2022-08-03T09:59:56.480853Z"
                }
            },
            "outputs": [],
            "source": [
                "5 ** 2"
            ]
        },
        {
            "cell_type": "code",
            "execution_count": null,
            "metadata": {
                "execution": {
                    "iopub.execute_input": "2022-08-03T10:00:04.963271Z",
                    "iopub.status.busy": "2022-08-03T10:00:04.962795Z",
                    "iopub.status.idle": "2022-08-03T10:00:04.976298Z",
                    "shell.execute_reply": "2022-08-03T10:00:04.974251Z",
                    "shell.execute_reply.started": "2022-08-03T10:00:04.963234Z"
                }
            },
            "outputs": [],
            "source": [
                "2 ** 3"
            ]
        },
        {
            "cell_type": "code",
            "execution_count": null,
            "metadata": {
                "execution": {
                    "iopub.execute_input": "2022-08-03T10:00:16.629885Z",
                    "iopub.status.busy": "2022-08-03T10:00:16.629327Z",
                    "iopub.status.idle": "2022-08-03T10:00:16.641667Z",
                    "shell.execute_reply": "2022-08-03T10:00:16.640691Z",
                    "shell.execute_reply.started": "2022-08-03T10:00:16.629849Z"
                }
            },
            "outputs": [],
            "source": [
                "4 ** .5"
            ]
        },
        {
            "cell_type": "code",
            "execution_count": null,
            "metadata": {
                "tags": []
            },
            "outputs": [],
            "source": [
                "6 + 4 * 2 - 15"
            ]
        },
        {
            "cell_type": "code",
            "execution_count": null,
            "metadata": {},
            "outputs": [],
            "source": [
                "(6 + 4) * 2 - 15"
            ]
        },
        {
            "cell_type": "code",
            "execution_count": null,
            "metadata": {},
            "outputs": [],
            "source": [
                "5 * 10 / 10"
            ]
        },
        {
            "cell_type": "code",
            "execution_count": null,
            "metadata": {
                "tags": []
            },
            "outputs": [],
            "source": [
                "2 - 100 * -2"
            ]
        },
        {
            "cell_type": "markdown",
            "metadata": {},
            "source": [
                "### Strings\n",
                "Strings are what we call words or text in Python. A string is surrounded in either single ('') or double (\"\") quotes. Here are some examples of strings"
            ]
        },
        {
            "cell_type": "code",
            "execution_count": null,
            "metadata": {},
            "outputs": [],
            "source": [
                "\"This is a string\""
            ]
        },
        {
            "cell_type": "code",
            "execution_count": null,
            "metadata": {},
            "outputs": [],
            "source": [
                "'This is too'"
            ]
        },
        {
            "cell_type": "code",
            "execution_count": null,
            "metadata": {},
            "outputs": [],
            "source": [
                "\"eVeNtHiSiSaStRiNg\""
            ]
        },
        {
            "cell_type": "markdown",
            "metadata": {},
            "source": [
                "You can even do math with strings!\n",
                "<div class=\"alert alert-block alert-success\">\n",
                "    <p style=\"font-size:20px\">These examples are advanced/optional\n",
                "</div>"
            ]
        },
        {
            "cell_type": "code",
            "execution_count": null,
            "metadata": {
                "tags": []
            },
            "outputs": [],
            "source": [
                "'Ha' * 10"
            ]
        },
        {
            "cell_type": "code",
            "execution_count": null,
            "metadata": {
                "tags": []
            },
            "outputs": [],
            "source": [
                "\"Ha\" + \" \" + \"Ha\" + \"     \" + \"Ha\""
            ]
        },
        {
            "cell_type": "markdown",
            "metadata": {
                "cell_id": "00012-b219d532-3d18-4f5b-8c0b-8300087fd4fc",
                "deepnote_cell_type": "markdown",
                "tags": [
                    "ignore"
                ]
            },
            "source": [
                "### Errors\n",
                "Errors in programming are common and totally okay! Don't be afraid when you see an error because more likely than not the solution lies in the error code itself! Let's see what an error looks like. **Run the cell below to see the output.**"
            ]
        },
        {
            "cell_type": "code",
            "execution_count": null,
            "metadata": {
                "cell_id": "00013-eb788b09-06e6-46f1-b6fd-5f63d3beaf17",
                "deepnote_cell_type": "code",
                "tags": [
                    "ignore"
                ]
            },
            "outputs": [],
            "source": [
                "print('This line is missing something.' #we are missing a closing parentheses here!"
            ]
        },
        {
            "cell_type": "markdown",
            "metadata": {
                "cell_id": "00014-7e39cbe6-b521-4466-8200-3a4f652750f9",
                "deepnote_cell_type": "markdown",
                "tags": [
                    "ignore"
                ]
            },
            "source": [
                "The last line of the error output attempts to tell you what went wrong. \n",
                "\n",
                "The *syntax* of a language is its structure, and this `SyntaxError` tells you that you have created an illegal structure.  \n",
                "\n",
                "`EOF` means \"End of File,\" so the message is saying Python expected you to write something more (in this case, a right parenthesis) before finishing the cell.\n",
                "\n",
                "There's a lot of terminology in programming languages, but you don't need to know it all in order to program effectively. If you see a cryptic message like this, you can often get by without deciphering it.  (Of course, if you're frustrated, you can usually find out by searching for the error message online.)"
            ]
        },
        {
            "cell_type": "markdown",
            "metadata": {
                "cell_id": "00015-6798c00d-6c61-4fb9-9db5-391b056d479c",
                "deepnote_cell_type": "markdown",
                "tags": [
                    "ignore"
                ]
            },
            "source": [
                "### Variables\n",
                "\n",
                "As we mentioned before, in this Jupyter Notebook you will be assigning data, figures, numbers, text, or other objects to **variables**. \n",
                "\n",
                "You can even assign graph output or functions to variables, but that is out of scope for this assignment so don't worry about it for now! \n",
                "\n",
                "Variables are stored in a computer's memory and you can use it over and over again in future calculations!\n",
                "\n",
                "Sometimes, instead of trying to work with raw information all the time in a long calculation you will want to store it as a **variable** for easy access in future calculations. **Check out how we can use variables to our advantage below!**"
            ]
        },
        {
            "cell_type": "markdown",
            "metadata": {},
            "source": [
                "<div class=\"alert alert-block alert-warning\">\n",
                "<b>Note:</b> In Python, variable names must be a combination of letters (capital and/or lowercase), numbers, and underscores ( _ ). <b>Variable names <i>cannot</i> begin with a number</b>\n",
                "</div>"
            ]
        },
        {
            "attachments": {},
            "cell_type": "markdown",
            "metadata": {},
            "source": [
                "- The following are all valid variable names:\n",
                "    - `pants`, `pan_cakes`, `_`, `_no_fun`, `potato940`, `bowser_32`, `FOO`, `BaR`, `bAr`\n",
                "    \n",
                "- These are invalid names: \n",
                "    - `123`, `1_fun`, `f@ke`, `fun time`, `fun_times!!`, `00f00`"
            ]
        },
        {
            "cell_type": "markdown",
            "metadata": {
                "tags": []
            },
            "source": [
                "## Assignment Statements\n",
                "Here is an example of what we call an _assignment statement_, what we use to create a variable. Here is an example of an assignment statement:"
            ]
        },
        {
            "cell_type": "code",
            "execution_count": null,
            "metadata": {
                "execution": {
                    "iopub.execute_input": "2022-08-03T08:17:30.594949Z",
                    "iopub.status.busy": "2022-08-03T08:17:30.594085Z",
                    "iopub.status.idle": "2022-08-03T08:17:30.617549Z",
                    "shell.execute_reply": "2022-08-03T08:17:30.616312Z",
                    "shell.execute_reply.started": "2022-08-03T08:17:30.594868Z"
                }
            },
            "outputs": [],
            "source": [
                "x = 1 + 2 + 3 + 4 "
            ]
        },
        {
            "cell_type": "markdown",
            "metadata": {},
            "source": [
                "The first part of the statment is the **variable name**, in this case `x`. Then we write an equals sign (`=`). The final part is the left hand side, **the value** is the value of the variable, in this case it is `1 + 2 + 3 + 4`. \n",
                "\n",
                "Also, notice that there was no output; an assignment statement has no output value! But, if we run a cell with the variable name itself, we can see the output, which is the value of `x`."
            ]
        },
        {
            "cell_type": "code",
            "execution_count": null,
            "metadata": {
                "execution": {
                    "iopub.execute_input": "2022-08-03T08:23:41.528689Z",
                    "iopub.status.busy": "2022-08-03T08:23:41.527499Z",
                    "iopub.status.idle": "2022-08-03T08:23:41.539992Z",
                    "shell.execute_reply": "2022-08-03T08:23:41.537221Z",
                    "shell.execute_reply.started": "2022-08-03T08:23:41.528645Z"
                },
                "tags": []
            },
            "outputs": [],
            "source": [
                "x #just run this cell"
            ]
        },
        {
            "cell_type": "markdown",
            "metadata": {},
            "source": [
                "You can also chain variable assignments, as follows:"
            ]
        },
        {
            "cell_type": "code",
            "execution_count": null,
            "metadata": {
                "execution": {
                    "iopub.execute_input": "2022-08-03T08:24:33.065858Z",
                    "iopub.status.busy": "2022-08-03T08:24:33.065177Z",
                    "iopub.status.idle": "2022-08-03T08:24:33.075613Z",
                    "shell.execute_reply": "2022-08-03T08:24:33.074196Z",
                    "shell.execute_reply.started": "2022-08-03T08:24:33.065827Z"
                }
            },
            "outputs": [],
            "source": [
                "y = (x + 3 + x + 2) * 4\n",
                "y"
            ]
        },
        {
            "cell_type": "markdown",
            "metadata": {},
            "source": [
                "### Variable Examples\n",
                "Let's look at a couple examples of when using variables can help us immensely!"
            ]
        },
        {
            "cell_type": "markdown",
            "metadata": {},
            "source": [
                "#### Example 1: Seconds in a Year\n",
                "Let's say we want to find out how many seconds are in a year. We could calcluate it raw as following: $$60 \\cdot 60 \\cdot 24 \\cdot 365$$ However, someone reading this may not understand it, and we might want to use this information for further calculations. Let's see how we can do this using variables!"
            ]
        },
        {
            "cell_type": "code",
            "execution_count": null,
            "metadata": {
                "execution": {
                    "iopub.execute_input": "2022-08-05T08:28:27.327630Z",
                    "iopub.status.busy": "2022-08-05T08:28:27.327137Z",
                    "iopub.status.idle": "2022-08-05T08:28:27.334135Z",
                    "shell.execute_reply": "2022-08-05T08:28:27.333397Z",
                    "shell.execute_reply.started": "2022-08-05T08:28:27.327604Z"
                },
                "tags": []
            },
            "outputs": [],
            "source": [
                "days = 365 #the days in a year\n",
                "hours = 24 #the hours in a day\n",
                "minutes = 60 #the minutes in an hour\n",
                "seconds = 60 #the seconds in a minute\n",
                "seconds_per_year = days * hours * minutes * seconds #the seconds in one year\n",
                "seconds_per_year"
            ]
        },
        {
            "cell_type": "markdown",
            "metadata": {},
            "source": [
                "This method is far easier to understand, and we can use our new variable `seconds_per_year` to answer other questions! Lets say we wanted to find the number of seconds in half a year, $7$ years, $234$ years, or even $3.1415$ years as follows!"
            ]
        },
        {
            "cell_type": "code",
            "execution_count": null,
            "metadata": {
                "execution": {
                    "iopub.execute_input": "2022-08-05T08:28:28.328910Z",
                    "iopub.status.busy": "2022-08-05T08:28:28.328282Z",
                    "iopub.status.idle": "2022-08-05T08:28:28.336686Z",
                    "shell.execute_reply": "2022-08-05T08:28:28.335576Z",
                    "shell.execute_reply.started": "2022-08-05T08:28:28.328873Z"
                },
                "tags": []
            },
            "outputs": [],
            "source": [
                "print(\"Seconds in half a year:\", seconds_per_year / 2)\n",
                "print(\"Seconds in seven years:\", seconds_per_year * 7)\n",
                "print(\"Seconds in two hundred and thirty-four years:\", seconds_per_year * 243)\n",
                "print(\"Seconds in 3.1415 years:\", seconds_per_year * 3.1415)"
            ]
        },
        {
            "cell_type": "markdown",
            "metadata": {},
            "source": [
                "As you can see, we don't need to re-do the problem four times to get all the results, we just need to use the result we already calculated! (Cool right?)"
            ]
        },
        {
            "cell_type": "markdown",
            "metadata": {},
            "source": [
                "#### Example 2: Equation of a Line\n",
                "If you haven't done algebra in a while, for reference, the equation of a line is $$y = mx + b$$ We can use variables to easily calculate the $y$ for any $x$, and we can set $m$ (the slope) and $b$ (the intercept)."
            ]
        },
        {
            "cell_type": "code",
            "execution_count": null,
            "metadata": {
                "execution": {
                    "iopub.execute_input": "2022-08-05T08:28:29.986870Z",
                    "iopub.status.busy": "2022-08-05T08:28:29.985790Z",
                    "iopub.status.idle": "2022-08-05T08:28:30.038201Z",
                    "shell.execute_reply": "2022-08-05T08:28:30.015123Z",
                    "shell.execute_reply.started": "2022-08-05T08:28:29.986832Z"
                },
                "tags": []
            },
            "outputs": [],
            "source": [
                "m = 1 #the slope\n",
                "b = 5 #the intercept\n",
                "x = 4 # try changing this value to see how the output changes!\n",
                "y = m * x + b\n",
                "print(f\"On the line y = {m}x + {b}, at x = {x}, y is equal to {y}\")"
            ]
        },
        {
            "cell_type": "markdown",
            "metadata": {},
            "source": [
                "## Lists\n",
                "Variable values may be more sophisticated. We can store multiple numbers under a single name if we make the value a list. The following cell stores 3 numbers in a list:"
            ]
        },
        {
            "cell_type": "code",
            "execution_count": null,
            "metadata": {},
            "outputs": [],
            "source": [
                "y = [4,9,16]"
            ]
        },
        {
            "attachments": {},
            "cell_type": "markdown",
            "metadata": {},
            "source": [
                "You can add values to a list or even take them out! This can be useful when you want to do a lot of calculations and keep them under one variable. See the following example for one such reson why lists are helpful. In this example, we add another element to the list, which is the sum of all of the numbers in the list already"
            ]
        },
        {
            "cell_type": "markdown",
            "metadata": {},
            "source": [
                "<div class=\"alert alert-block alert-success\">\n",
                "    <p style=\"font-size:20px\">This example is advanced/optional\n",
                "</div>"
            ]
        },
        {
            "cell_type": "code",
            "execution_count": null,
            "metadata": {
                "execution": {
                    "iopub.execute_input": "2022-08-05T08:30:16.887836Z",
                    "iopub.status.busy": "2022-08-05T08:30:16.887112Z",
                    "iopub.status.idle": "2022-08-05T08:30:16.904101Z",
                    "shell.execute_reply": "2022-08-05T08:30:16.901939Z",
                    "shell.execute_reply.started": "2022-08-05T08:30:16.887795Z"
                },
                "tags": []
            },
            "outputs": [],
            "source": [
                "running_totals = [1]\n",
                "running_totals = running_totals + [sum(running_totals)]\n",
                "running_totals = running_totals + [sum(running_totals)]\n",
                "running_totals = running_totals + [sum(running_totals)]\n",
                "running_totals = running_totals + [sum(running_totals)]\n",
                "running_totals = running_totals + [sum(running_totals)]\n",
                "running_totals = running_totals + [sum(running_totals)]\n",
                "running_totals"
            ]
        },
        {
            "attachments": {},
            "cell_type": "markdown",
            "metadata": {},
            "source": [
                "<h2>Loops</h2>"
            ]
        },
        {
            "cell_type": "markdown",
            "metadata": {},
            "source": [
                "<div class=\"alert alert-block alert-success\">\n",
                "    <p style=\"font-size:20px\">This section is advanced/optional\n",
                "</div>"
            ]
        },
        {
            "attachments": {},
            "cell_type": "markdown",
            "metadata": {},
            "source": [
                "That code above looks a little repetative, instead of typing that out, we can use what is called a <i>for loop</i>, to have the computer do it for us! The code in the cell below does the exact same thing as the cell above, just in a shorter way!"
            ]
        },
        {
            "cell_type": "code",
            "execution_count": null,
            "metadata": {
                "execution": {
                    "iopub.execute_input": "2022-08-05T08:33:05.691267Z",
                    "iopub.status.busy": "2022-08-05T08:33:05.690675Z",
                    "iopub.status.idle": "2022-08-05T08:33:05.718127Z",
                    "shell.execute_reply": "2022-08-05T08:33:05.716987Z",
                    "shell.execute_reply.started": "2022-08-05T08:33:05.691229Z"
                }
            },
            "outputs": [],
            "source": [
                "running_totals = [1]\n",
                "for _ in range(6): #do the intented action 6 times\n",
                "    running_totals = running_totals + [sum(running_totals)]\n",
                "running_totals"
            ]
        },
        {
            "attachments": {},
            "cell_type": "markdown",
            "metadata": {
                "cell_id": "00022-ad81de6d-4f04-4922-8b42-b54b01daeb8c",
                "deepnote_cell_type": "markdown",
                "tags": []
            },
            "source": [
                "## Functions\n",
                "We've seen that values can have names (often called **variables**), but operations may also have names. A named operation is called a **function**. Python has some functions built into it."
            ]
        },
        {
            "cell_type": "code",
            "execution_count": null,
            "metadata": {
                "cell_id": "00023-7a1ac018-a44a-4e08-a681-2479fd06afed",
                "deepnote_cell_type": "code",
                "execution": {
                    "iopub.execute_input": "2022-08-05T10:03:23.718343Z",
                    "iopub.status.busy": "2022-08-05T10:03:23.716471Z",
                    "iopub.status.idle": "2022-08-05T10:03:23.767727Z",
                    "shell.execute_reply": "2022-08-05T10:03:23.766540Z",
                    "shell.execute_reply.started": "2022-08-05T10:03:23.718231Z"
                },
                "tags": []
            },
            "outputs": [],
            "source": [
                "round # a built-in function "
            ]
        },
        {
            "cell_type": "markdown",
            "metadata": {},
            "source": [
                "If you Put the name of a function followed by a question mark (?), you can see some documentation on the function, such as what it us supposed to do!"
            ]
        },
        {
            "cell_type": "code",
            "execution_count": null,
            "metadata": {
                "execution": {
                    "iopub.execute_input": "2022-08-05T10:04:19.808557Z",
                    "iopub.status.busy": "2022-08-05T10:04:19.808107Z",
                    "iopub.status.idle": "2022-08-05T10:04:20.039446Z",
                    "shell.execute_reply": "2022-08-05T10:04:20.038442Z",
                    "shell.execute_reply.started": "2022-08-05T10:04:19.808524Z"
                }
            },
            "outputs": [],
            "source": [
                "round?"
            ]
        },
        {
            "cell_type": "markdown",
            "metadata": {
                "cell_id": "00024-61af2610-4945-4252-86a1-a4f67e1cf4ce",
                "deepnote_cell_type": "markdown",
                "tags": []
            },
            "source": [
                "Functions get used in *call expressions*, where a function is named and given values to operate on inside a set of parentheses. The `round` function returns the number it was given, rounded to the nearest whole number."
            ]
        },
        {
            "cell_type": "code",
            "execution_count": null,
            "metadata": {
                "cell_id": "00025-ddd3aeb9-2868-4a79-8404-5c5052baab1b",
                "deepnote_cell_type": "code",
                "execution": {
                    "iopub.execute_input": "2022-08-05T10:04:42.464415Z",
                    "iopub.status.busy": "2022-08-05T10:04:42.463960Z",
                    "iopub.status.idle": "2022-08-05T10:04:42.471954Z",
                    "shell.execute_reply": "2022-08-05T10:04:42.470894Z",
                    "shell.execute_reply.started": "2022-08-05T10:04:42.464379Z"
                },
                "tags": []
            },
            "outputs": [],
            "source": [
                "round(1988.74699) # a call expression using round"
            ]
        },
        {
            "cell_type": "markdown",
            "metadata": {
                "cell_id": "00027-27b5ba99-fd19-4093-9b69-1d42154c979f",
                "deepnote_cell_type": "markdown",
                "tags": []
            },
            "source": [
                "A function may also be called on more than one value (called *arguments*). For instance, the `min` function takes however many arguments you'd like and returns the smallest. Multiple arguments are separated by commas."
            ]
        },
        {
            "cell_type": "code",
            "execution_count": null,
            "metadata": {
                "cell_id": "00027-26d2e33c-79e0-44b3-aad9-59361b3dba09",
                "deepnote_cell_type": "code",
                "execution": {
                    "iopub.execute_input": "2022-08-05T10:04:45.328292Z",
                    "iopub.status.busy": "2022-08-05T10:04:45.327813Z",
                    "iopub.status.idle": "2022-08-05T10:04:45.339306Z",
                    "shell.execute_reply": "2022-08-05T10:04:45.338338Z",
                    "shell.execute_reply.started": "2022-08-05T10:04:45.328257Z"
                },
                "tags": []
            },
            "outputs": [],
            "source": [
                "min(9, -34, 0, 99)"
            ]
        },
        {
            "attachments": {},
            "cell_type": "markdown",
            "metadata": {
                "tags": []
            },
            "source": [
                "### User-Defined Functions"
            ]
        },
        {
            "cell_type": "markdown",
            "metadata": {},
            "source": [
                "<div class=\"alert alert-block alert-success\">\n",
                "    <p style=\"font-size:20px\">This section is advanced/optional\n",
                "</div>"
            ]
        },
        {
            "cell_type": "markdown",
            "metadata": {},
            "source": [
                "One of the most useful features in python is the ability to define your own functions using what we call a `\"def\"` statement. \n",
                "\n",
                "Here is an example of one such function based on our earier example of seconds in one year:"
            ]
        },
        {
            "attachments": {},
            "cell_type": "markdown",
            "metadata": {},
            "source": [
                "<div class=\"alert alert-block alert-info\">\n",
                "    <p style=\"font-size:15px\">\n",
                "    Note: All of the text between the tripple quotes (<code>\"\"\"</code>) is called a \n",
                "    <i>docstring</i>. This isn't required for the function to work, \n",
                "    but if we are sharing our code with someone else it allows us to explain the code\n",
                "    to them, or if we forget what it does later down the line!\n",
                "</div>"
            ]
        },
        {
            "cell_type": "code",
            "execution_count": 14,
            "metadata": {
                "execution": {
                    "iopub.execute_input": "2022-08-05T10:10:47.113600Z",
                    "iopub.status.busy": "2022-08-05T10:10:47.113101Z",
                    "iopub.status.idle": "2022-08-05T10:10:47.127183Z",
                    "shell.execute_reply": "2022-08-05T10:10:47.126223Z",
                    "shell.execute_reply.started": "2022-08-05T10:10:47.113562Z"
                },
                "tags": []
            },
            "outputs": [],
            "source": [
                "def seconds(x):\n",
                "    \"\"\"\n",
                "    Returns the number of seconds in `x` years.\n",
                "\n",
                "    Parameters\n",
                "    ----------\n",
                "    x : int or float or ndarray\n",
                "        Input for number of years.\n",
                "\n",
                "    Returns\n",
                "    -------\n",
                "    seconds : int or float or ndarray\n",
                "        Number of seconds in `x` years.\n",
                "\n",
                "    \"\"\"\n",
                "    days = 365\n",
                "    hours = 24\n",
                "    minutes = 60\n",
                "    seconds = 60\n",
                "    per_year = days * hours * minutes * seconds\n",
                "    return per_year * x"
            ]
        },
        {
            "cell_type": "markdown",
            "metadata": {},
            "source": [
                "Now we can use this function just like a built-in function!"
            ]
        },
        {
            "cell_type": "code",
            "execution_count": 12,
            "metadata": {
                "execution": {
                    "iopub.execute_input": "2022-08-05T10:10:56.866771Z",
                    "iopub.status.busy": "2022-08-05T10:10:56.866052Z",
                    "iopub.status.idle": "2022-08-05T10:10:56.883125Z",
                    "shell.execute_reply": "2022-08-05T10:10:56.882140Z",
                    "shell.execute_reply.started": "2022-08-05T10:10:56.866731Z"
                }
            },
            "outputs": [
                {
                    "data": {
                        "text/plain": [
                            "<function __main__.seconds(x)>"
                        ]
                    },
                    "execution_count": 12,
                    "metadata": {},
                    "output_type": "execute_result"
                }
            ],
            "source": [
                "seconds"
            ]
        },
        {
            "cell_type": "code",
            "execution_count": 15,
            "metadata": {
                "execution": {
                    "iopub.execute_input": "2022-08-05T10:10:58.618168Z",
                    "iopub.status.busy": "2022-08-05T10:10:58.617698Z",
                    "iopub.status.idle": "2022-08-05T10:10:58.625682Z",
                    "shell.execute_reply": "2022-08-05T10:10:58.624733Z",
                    "shell.execute_reply.started": "2022-08-05T10:10:58.618131Z"
                },
                "tags": []
            },
            "outputs": [
                {
                    "name": "stdout",
                    "output_type": "stream",
                    "text": [
                        "\u001b[0;31mSignature:\u001b[0m \u001b[0mseconds\u001b[0m\u001b[0;34m(\u001b[0m\u001b[0mx\u001b[0m\u001b[0;34m)\u001b[0m\u001b[0;34m\u001b[0m\u001b[0;34m\u001b[0m\u001b[0m\n",
                        "\u001b[0;31mDocstring:\u001b[0m\n",
                        "Returns the number of seconds in `x` years.\n",
                        "\n",
                        "Parameters\n",
                        "----------\n",
                        "x : int or float or ndarray\n",
                        "    Input for number of years.\n",
                        "\n",
                        "Returns\n",
                        "-------\n",
                        "seconds : int or float or ndarray\n",
                        "    Number of seconds in `x` years.\n",
                        "\u001b[0;31mFile:\u001b[0m      /var/folders/3k/k6qjt0ds37g89ylq_8dq2wwh0000gn/T/ipykernel_9126/657701453.py\n",
                        "\u001b[0;31mType:\u001b[0m      function\n"
                    ]
                }
            ],
            "source": [
                "seconds?"
            ]
        },
        {
            "cell_type": "code",
            "execution_count": null,
            "metadata": {
                "execution": {
                    "iopub.execute_input": "2022-08-05T10:14:48.215330Z",
                    "iopub.status.busy": "2022-08-05T10:14:48.214859Z",
                    "iopub.status.idle": "2022-08-05T10:14:48.230126Z",
                    "shell.execute_reply": "2022-08-05T10:14:48.227294Z",
                    "shell.execute_reply.started": "2022-08-05T10:14:48.215296Z"
                },
                "tags": []
            },
            "outputs": [],
            "source": [
                "print(\"Seconds in one year:\", seconds(1))\n",
                "print(\"Seconds in 57 years:\", seconds(57))\n",
                "print(\"Seconds in 6.022 years:\", round(seconds(6.022)))\n",
                "print(\"Seconds since Berkeley was founded (the year 1868):\", seconds(2022-1868))"
            ]
        },
        {
            "cell_type": "markdown",
            "metadata": {},
            "source": [
                "### Practice"
            ]
        },
        {
            "attachments": {},
            "cell_type": "markdown",
            "metadata": {
                "cell_id": "00028-85d551d0-1121-4f0d-9b6d-da0049cad3e7",
                "deepnote_cell_type": "markdown",
                "tags": []
            },
            "source": [
                "<div class=\"alert alert-block alert-warning\">\n",
                "<ul>\n",
                "    <li>The <code>abs</code> function takes one argument (just like <code>round</code>)</li>\n",
                "    <li>The <code>max</code> function takes one or more arguments (just like <code>min</code>)</li>\n",
                "</ul>\n"
            ]
        },
        {
            "cell_type": "markdown",
            "metadata": {},
            "source": [
                "\n",
                "Try calling <code>abs</code> and <code>max</code> in the cell below. What does each function do?\n",
                "\n",
                "Also try calling each function <i>incorrectly</i>, such as with the wrong number of arguments. What kinds of error messages do you see?\n",
                "</div>"
            ]
        },
        {
            "cell_type": "code",
            "execution_count": null,
            "metadata": {
                "cell_id": "00029-ba5cb6d4-659b-4236-87ba-a1cddd93da6f",
                "deepnote_cell_type": "code",
                "tags": []
            },
            "outputs": [],
            "source": [
                "... # replace the ... with calls to abs and max"
            ]
        },
        {
            "cell_type": "markdown",
            "metadata": {},
            "source": [
                "<hr style=\"border: 2px solid #003262\">\n",
                "<hr style=\"border: 2px solid #C9B676\">"
            ]
        },
        {
            "attachments": {},
            "cell_type": "markdown",
            "metadata": {
                "cell_id": "00009-52f60190-e21f-4107-99a9-d42ab128df40",
                "deepnote_cell_type": "markdown",
                "tags": [
                    "ignore"
                ]
            },
            "source": [
                "## Modules\n",
                "\n",
                "Now that we've covered our bases with regards to the platform we'll be working on for this assignment, let's load some **modules** we need to explore the data we are working with. Python **modules** are extra packages we can load to help use tools that are not otherwise available. These can include visualization modules such as `matplotlib` or numerical tools like `numpy`. You can see how we load these modules below:"
            ]
        },
        {
            "cell_type": "code",
            "execution_count": 87,
            "metadata": {
                "cell_id": "00010-be6eaa80-c135-4a5e-b17e-afa03953823b",
                "deepnote_cell_type": "code",
                "execution": {
                    "iopub.execute_input": "2022-08-05T10:23:25.851604Z",
                    "iopub.status.busy": "2022-08-05T10:23:25.850800Z",
                    "iopub.status.idle": "2022-08-05T10:23:25.858681Z",
                    "shell.execute_reply": "2022-08-05T10:23:25.857773Z",
                    "shell.execute_reply.started": "2022-08-05T10:23:25.851561Z"
                },
                "tags": [
                    "ignore"
                ]
            },
            "outputs": [],
            "source": [
                "from datascience import * # This loads tools from the datascience module\n",
                "import matplotlib.pyplot as plt # This loads tools from the matplotlib module\n",
                "%matplotlib inline\n",
                "plt.style.use(\"fivethirtyeight\") # This makes plots appear in the notebook\n",
                "import numpy as np # Loads numerical methods\n",
                "import math, random #Loads math and random functions\n",
                "import seaborn as sns, plotly.express as px #Loads plotting tools"
            ]
        },
        {
            "attachments": {},
            "cell_type": "markdown",
            "metadata": {},
            "source": [
                "For your reference, we'll break down one line of the large cell below. In this line:\n",
                "\n",
                "```python\n",
                "import numpy as np\n",
                "```\n",
                "\n",
                "We import the numpy module. Essentially, we're telling python that we want to use a specific set of functions that has been named \"`numpy`\". We then use the `as` keyword to specify that we want to use some other name to refer to \"`numpy`\"; in this context we told python we want to call it \"`np`\".\n",
                "\n",
                "Lets say we want to use the `numpy.mean` function (this takes the mean of a list of numbers). Because we imported \"`numpy`\" as \"`np`\", we could now call `np.mean()`\n",
                "\n",
                "Note: We name `numpy` as \"`np`\" because it is the standard name in the industry, however we could have said:\n",
                "\n",
                "```python\n",
                "import numpy as harrystyles\n",
                "```\n",
                "Which would've allowed us to run `harrystyles.mean()`. However, his would be confusing for a reader, so its considered best practice to use standard names such as \"`np`\" for \"`numpy`\", so that different people can all read your work and not be confused as to what function you are using or what module it came from.\n",
                "\n",
                "The cell below runs what we just talked about. Feel free to play around and try things out!"
            ]
        },
        {
            "cell_type": "code",
            "execution_count": 48,
            "metadata": {
                "execution": {
                    "iopub.execute_input": "2022-08-05T10:40:59.244987Z",
                    "iopub.status.busy": "2022-08-05T10:40:59.244628Z",
                    "iopub.status.idle": "2022-08-05T10:40:59.250972Z",
                    "shell.execute_reply": "2022-08-05T10:40:59.249926Z",
                    "shell.execute_reply.started": "2022-08-05T10:40:59.244962Z"
                },
                "tags": []
            },
            "outputs": [
                {
                    "name": "stdout",
                    "output_type": "stream",
                    "text": [
                        "Harry Styles is NumPy? True\n",
                        "Harry Styles' mean of [1, 2, 3, 4, 5, 6, 7, 8] : 4.5\n",
                        "NumPy's mean of [1, 2, 3, 4, 5, 6, 7, 8] : 4.5\n"
                    ]
                }
            ],
            "source": [
                "import numpy as harrystyles\n",
                "print(\"Harry Styles is NumPy?\", harrystyles == np)\n",
                "numbers = [1, 2, 3, 4, 5, 6, 7, 8]\n",
                "print(\"Harry Styles' mean of\", numbers, \":\", harrystyles.mean(numbers))\n",
                "print(\"NumPy's mean of\", numbers, \":\", np.mean(numbers))\n",
                "\n",
                "# this line delete the silly import of `harrystyles` that we just made\n",
                "del harrystyles"
            ]
        },
        {
            "cell_type": "markdown",
            "metadata": {
                "cell_id": "00030-114d6671-9eff-4835-a25c-11b521f0f643",
                "deepnote_cell_type": "markdown",
                "tags": []
            },
            "source": [
                "#### Dot Notation\n",
                "Python has a lot of [built-in functions](https://docs.python.org/3/library/functions.html) (that is, functions that are already named and defined in Python), but even more functions are stored in collections called *modules*. Earlier, we imported the `math` module so we could use it later. Once a module is imported, you can use its functions by typing the name of the module, then the name of the function you want from it, separated with a `.`."
            ]
        },
        {
            "cell_type": "markdown",
            "metadata": {},
            "source": [
                "<div class=\"alert alert-block alert-info\">\n",
                "<p style='font-size:18px'><b>Tip:</b> If you type the name of a <i>module</i>, but can't remember the name of the function you're looking for, type a dot <code>.</code>, then press the <code>Tab</code> key to bring up an auto-complete menu to help you find the function you're looking for!\n",
                "    </p>\n",
                "</div>"
            ]
        },
        {
            "cell_type": "code",
            "execution_count": null,
            "metadata": {
                "cell_id": "00031-9b6fdd99-2357-45c8-a6b2-ba29f6dfc470",
                "deepnote_cell_type": "code",
                "execution": {
                    "iopub.execute_input": "2022-08-05T10:22:36.029638Z",
                    "iopub.status.busy": "2022-08-05T10:22:36.029172Z",
                    "iopub.status.idle": "2022-08-05T10:22:36.037838Z",
                    "shell.execute_reply": "2022-08-05T10:22:36.036937Z",
                    "shell.execute_reply.started": "2022-08-05T10:22:36.029603Z"
                },
                "tags": []
            },
            "outputs": [],
            "source": [
                "math.factorial(5) # a call expression with the factorial function from the math module"
            ]
        },
        {
            "cell_type": "markdown",
            "metadata": {},
            "source": [
                "Many math operations can be applied to lists. Try calling math.sqrt on y which you saved as the list [4, 9, 16].\n",
                "\n",
                "Operations like math.sqrt output a list of the same length as the input. Some reduce a list to a single number: try calling sum() on [4,9,16]."
            ]
        },
        {
            "cell_type": "markdown",
            "metadata": {
                "cell_id": "00032-6d349935-df0f-4c4d-96de-7d0769f50c3f",
                "deepnote_cell_type": "markdown",
                "tags": []
            },
            "source": [
                "<!-- BEGIN QUESTION -->\n",
                "\n",
                "<div class=\"alert alert-block alert-info\">\n",
                "<b>Question 1:</b>\n",
                "`math` also has a function called `sqrt` that takes one argument and returns the square root. Call `sqrt` on 16 in the next cell.\n",
                "</div>\n",
                "\n",
                "<!--\n",
                "BEGIN QUESTION\n",
                "name: q1\n",
                "points: 1\n",
                "manual: true\n",
                "-->"
            ]
        },
        {
            "cell_type": "code",
            "execution_count": null,
            "metadata": {
                "cell_id": "00032-5c32dfa7-9a29-4971-8c65-9c69c87abd56",
                "deepnote_cell_type": "code",
                "execution": {
                    "iopub.execute_input": "2022-08-05T10:22:45.405191Z",
                    "iopub.status.busy": "2022-08-05T10:22:45.404720Z",
                    "iopub.status.idle": "2022-08-05T10:22:45.434714Z",
                    "shell.execute_reply": "2022-08-05T10:22:45.421548Z",
                    "shell.execute_reply.started": "2022-08-05T10:22:45.405155Z"
                },
                "execution_millis": 0,
                "execution_start": 1605740158098,
                "output_cleared": false,
                "source_hash": "a311e606",
                "tags": []
            },
            "outputs": [],
            "source": [
                "... # Replace the ...with the call to use math.sqrt() to get the square root of 16"
            ]
        },
        {
            "cell_type": "markdown",
            "metadata": {},
            "source": [
                "**Answer here** *Double click to edit this markdown cell with your answer*"
            ]
        },
        {
            "cell_type": "markdown",
            "metadata": {},
            "source": [
                "<!-- END QUESTION -->\n",
                "\n",
                "### Random numbers and sampling\n",
                "Random sampling plays a key role in data science. The random module implements functions for random sampling and random number generation. For example, the cell below generates a random integer between 1 and 50. \n",
                "\n",
                "Note that any whole number between 1 and 50 has an equal probability of being selected --- the sampling probabilities are uniform.\n",
                "\n",
                "Try running this cell multiple times by holding `Command (mac)/Control (windows)` and pressing `Enter` repeatedly; notice how the output changes even though the code stays the same"
            ]
        },
        {
            "cell_type": "code",
            "execution_count": null,
            "metadata": {
                "execution": {
                    "iopub.execute_input": "2022-08-05T10:18:29.612947Z",
                    "iopub.status.busy": "2022-08-05T10:18:29.612338Z",
                    "iopub.status.idle": "2022-08-05T10:18:29.622383Z",
                    "shell.execute_reply": "2022-08-05T10:18:29.621393Z",
                    "shell.execute_reply.started": "2022-08-05T10:18:29.612905Z"
                },
                "tags": []
            },
            "outputs": [],
            "source": [
                "random.randint(1,50)"
            ]
        },
        {
            "cell_type": "markdown",
            "metadata": {},
            "source": [
                "<hr style=\"border: 2px solid #003262\">\n",
                "<hr style=\"border: 2px solid #C9B676\">"
            ]
        },
        {
            "attachments": {},
            "cell_type": "markdown",
            "metadata": {
                "cell_id": "00021-9acaedfa-35c8-4480-9195-ff3f525895da",
                "deepnote_cell_type": "markdown",
                "tags": [
                    "ignore"
                ]
            },
            "source": [
                "## Tables"
            ]
        },
        {
            "attachments": {},
            "cell_type": "markdown",
            "metadata": {},
            "source": [
                "### Loading a Table\n",
                "\n",
                "In data analysis, there is almost always a file holding your data that already exists. There are thousands of databases online that contain information on topics from all domains. In general, to import data from a file, we write something like:\n",
                "\n",
                "```python\n",
                "Table.read_table(\"file_location/file_name\")\n",
                "```\n",
                "\n",
                "Most often, these file names end in .csv to show the data format. .csv format is popular for spreadsheets and can be imported/exported from programs such as Microsoft Excel or Google spreadsheets."
            ]
        },
        {
            "attachments": {},
            "cell_type": "markdown",
            "metadata": {},
            "source": [
                "### Context \n",
                "\n",
                "The dataset that is loaded in the cell below contains one row for a party that went out for food at a restraunt. It includes the following information about each party:\n",
                "\n",
                "|column name| meaning |type|\n",
                "|--|--|--|\n",
                "|total|total cost of the bill |number |\n",
                "|tip|the tip left by the party |number |\n",
                "|sex|sex of the person paying |category |\n",
                "|smoker|if the person paying was smoking |category |\n",
                "|day|day of the week |category |\n",
                "|time|meal (e.g., Lunch, Dinner, etc.) |category |\n",
                "|size|how many people were in the party |number |"
            ]
        },
        {
            "cell_type": "code",
            "execution_count": 39,
            "metadata": {
                "execution": {
                    "iopub.execute_input": "2022-08-05T10:29:21.969406Z",
                    "iopub.status.busy": "2022-08-05T10:29:21.968920Z",
                    "iopub.status.idle": "2022-08-05T10:29:22.036243Z",
                    "shell.execute_reply": "2022-08-05T10:29:22.033954Z",
                    "shell.execute_reply.started": "2022-08-05T10:29:21.969370Z"
                }
            },
            "outputs": [
                {
                    "data": {
                        "text/html": [
                            "<table border=\"1\" class=\"dataframe\">\n",
                            "    <thead>\n",
                            "        <tr>\n",
                            "            <th>total</th> <th>tip</th> <th>sex</th> <th>smoker</th> <th>day</th> <th>time</th> <th>size</th>\n",
                            "        </tr>\n",
                            "    </thead>\n",
                            "    <tbody>\n",
                            "        <tr>\n",
                            "            <td>16.99</td> <td>1.01</td> <td>Female</td> <td>No    </td> <td>Sun </td> <td>Dinner</td> <td>2   </td>\n",
                            "        </tr>\n",
                            "        <tr>\n",
                            "            <td>10.34</td> <td>1.66</td> <td>Male  </td> <td>No    </td> <td>Sun </td> <td>Dinner</td> <td>3   </td>\n",
                            "        </tr>\n",
                            "        <tr>\n",
                            "            <td>21.01</td> <td>3.5 </td> <td>Male  </td> <td>No    </td> <td>Sun </td> <td>Dinner</td> <td>3   </td>\n",
                            "        </tr>\n",
                            "        <tr>\n",
                            "            <td>23.68</td> <td>3.31</td> <td>Male  </td> <td>No    </td> <td>Sun </td> <td>Dinner</td> <td>2   </td>\n",
                            "        </tr>\n",
                            "        <tr>\n",
                            "            <td>24.59</td> <td>3.61</td> <td>Female</td> <td>No    </td> <td>Sun </td> <td>Dinner</td> <td>4   </td>\n",
                            "        </tr>\n",
                            "        <tr>\n",
                            "            <td>25.29</td> <td>4.71</td> <td>Male  </td> <td>No    </td> <td>Sun </td> <td>Dinner</td> <td>4   </td>\n",
                            "        </tr>\n",
                            "        <tr>\n",
                            "            <td>8.77 </td> <td>2   </td> <td>Male  </td> <td>No    </td> <td>Sun </td> <td>Dinner</td> <td>2   </td>\n",
                            "        </tr>\n",
                            "        <tr>\n",
                            "            <td>26.88</td> <td>3.12</td> <td>Male  </td> <td>No    </td> <td>Sun </td> <td>Dinner</td> <td>4   </td>\n",
                            "        </tr>\n",
                            "        <tr>\n",
                            "            <td>15.04</td> <td>1.96</td> <td>Male  </td> <td>No    </td> <td>Sun </td> <td>Dinner</td> <td>2   </td>\n",
                            "        </tr>\n",
                            "        <tr>\n",
                            "            <td>14.78</td> <td>3.23</td> <td>Male  </td> <td>No    </td> <td>Sun </td> <td>Dinner</td> <td>2   </td>\n",
                            "        </tr>\n",
                            "    </tbody>\n",
                            "</table>\n",
                            "<p>... (234 rows omitted)</p>"
                        ],
                        "text/plain": [
                            "total | tip  | sex    | smoker | day  | time   | size\n",
                            "16.99 | 1.01 | Female | No     | Sun  | Dinner | 2\n",
                            "10.34 | 1.66 | Male   | No     | Sun  | Dinner | 3\n",
                            "21.01 | 3.5  | Male   | No     | Sun  | Dinner | 3\n",
                            "23.68 | 3.31 | Male   | No     | Sun  | Dinner | 2\n",
                            "24.59 | 3.61 | Female | No     | Sun  | Dinner | 4\n",
                            "25.29 | 4.71 | Male   | No     | Sun  | Dinner | 4\n",
                            "8.77  | 2    | Male   | No     | Sun  | Dinner | 2\n",
                            "26.88 | 3.12 | Male   | No     | Sun  | Dinner | 4\n",
                            "15.04 | 1.96 | Male   | No     | Sun  | Dinner | 2\n",
                            "14.78 | 3.23 | Male   | No     | Sun  | Dinner | 2\n",
                            "... (234 rows omitted)"
                        ]
                    },
                    "execution_count": 39,
                    "metadata": {},
                    "output_type": "execute_result"
                }
            ],
            "source": [
                "tips = Table.read_table(\"tips.csv\") #Here we see an assignment statement\n",
                "tips"
            ]
        },
        {
            "attachments": {},
            "cell_type": "markdown",
            "metadata": {},
            "source": [
                "### Size of a Table\n",
                "\n",
                "This notebook can calculate how large this table is with two functions: `num_rows` and `num_columns`. \n",
                "\n",
                "The general form for these built-in table functions are `table.num_rows` and `table.num_columns` where table is the name of the table.\n",
                "\n",
                "Let's use these on the table above."
            ]
        },
        {
            "cell_type": "code",
            "execution_count": 40,
            "metadata": {},
            "outputs": [
                {
                    "name": "stdout",
                    "output_type": "stream",
                    "text": [
                        "The tips table has 7 columns and 244 rows.\n"
                    ]
                }
            ],
            "source": [
                "cols = tips.num_columns\n",
                "rows = tips.num_rows\n",
                "print(\"The tips table has\", cols, \"columns and\", rows, \"rows.\")"
            ]
        },
        {
            "attachments": {},
            "cell_type": "markdown",
            "metadata": {},
            "source": [
                "### Selecting Columns\n",
                "As we saw, there is a lot of data! However, what if we only care about some of it? In that case we can `select` a few of the columns.\n",
                "\n",
                "Let's say we want to focus on the `total` and `size` of the party. We will use the `select` function on the table to make a smaller table."
            ]
        },
        {
            "cell_type": "code",
            "execution_count": 41,
            "metadata": {},
            "outputs": [
                {
                    "data": {
                        "text/html": [
                            "<table border=\"1\" class=\"dataframe\">\n",
                            "    <thead>\n",
                            "        <tr>\n",
                            "            <th>total</th> <th>tip</th>\n",
                            "        </tr>\n",
                            "    </thead>\n",
                            "    <tbody>\n",
                            "        <tr>\n",
                            "            <td>16.99</td> <td>1.01</td>\n",
                            "        </tr>\n",
                            "        <tr>\n",
                            "            <td>10.34</td> <td>1.66</td>\n",
                            "        </tr>\n",
                            "        <tr>\n",
                            "            <td>21.01</td> <td>3.5 </td>\n",
                            "        </tr>\n",
                            "        <tr>\n",
                            "            <td>23.68</td> <td>3.31</td>\n",
                            "        </tr>\n",
                            "        <tr>\n",
                            "            <td>24.59</td> <td>3.61</td>\n",
                            "        </tr>\n",
                            "        <tr>\n",
                            "            <td>25.29</td> <td>4.71</td>\n",
                            "        </tr>\n",
                            "        <tr>\n",
                            "            <td>8.77 </td> <td>2   </td>\n",
                            "        </tr>\n",
                            "        <tr>\n",
                            "            <td>26.88</td> <td>3.12</td>\n",
                            "        </tr>\n",
                            "        <tr>\n",
                            "            <td>15.04</td> <td>1.96</td>\n",
                            "        </tr>\n",
                            "        <tr>\n",
                            "            <td>14.78</td> <td>3.23</td>\n",
                            "        </tr>\n",
                            "    </tbody>\n",
                            "</table>\n",
                            "<p>... (234 rows omitted)</p>"
                        ],
                        "text/plain": [
                            "total | tip\n",
                            "16.99 | 1.01\n",
                            "10.34 | 1.66\n",
                            "21.01 | 3.5\n",
                            "23.68 | 3.31\n",
                            "24.59 | 3.61\n",
                            "25.29 | 4.71\n",
                            "8.77  | 2\n",
                            "26.88 | 3.12\n",
                            "15.04 | 1.96\n",
                            "14.78 | 3.23\n",
                            "... (234 rows omitted)"
                        ]
                    },
                    "execution_count": 41,
                    "metadata": {},
                    "output_type": "execute_result"
                }
            ],
            "source": [
                "total_and_tip = tips.select(\"total\", \"tip\")\n",
                "total_and_tip"
            ]
        },
        {
            "attachments": {},
            "cell_type": "markdown",
            "metadata": {},
            "source": [
                "### Sorting\n",
                "\n",
                "Now, what if we want to sort the table, and look at the biggest tips? We can use the `sort` function!"
            ]
        },
        {
            "cell_type": "code",
            "execution_count": 42,
            "metadata": {},
            "outputs": [
                {
                    "data": {
                        "text/html": [
                            "<table border=\"1\" class=\"dataframe\">\n",
                            "    <thead>\n",
                            "        <tr>\n",
                            "            <th>total</th> <th>tip</th>\n",
                            "        </tr>\n",
                            "    </thead>\n",
                            "    <tbody>\n",
                            "        <tr>\n",
                            "            <td>50.81</td> <td>10  </td>\n",
                            "        </tr>\n",
                            "        <tr>\n",
                            "            <td>48.33</td> <td>9   </td>\n",
                            "        </tr>\n",
                            "        <tr>\n",
                            "            <td>39.42</td> <td>7.58</td>\n",
                            "        </tr>\n",
                            "        <tr>\n",
                            "            <td>48.27</td> <td>6.73</td>\n",
                            "        </tr>\n",
                            "        <tr>\n",
                            "            <td>34.3 </td> <td>6.7 </td>\n",
                            "        </tr>\n",
                            "        <tr>\n",
                            "            <td>23.17</td> <td>6.5 </td>\n",
                            "        </tr>\n",
                            "        <tr>\n",
                            "            <td>28.17</td> <td>6.5 </td>\n",
                            "        </tr>\n",
                            "        <tr>\n",
                            "            <td>32.4 </td> <td>6   </td>\n",
                            "        </tr>\n",
                            "        <tr>\n",
                            "            <td>29.03</td> <td>5.92</td>\n",
                            "        </tr>\n",
                            "        <tr>\n",
                            "            <td>24.71</td> <td>5.85</td>\n",
                            "        </tr>\n",
                            "    </tbody>\n",
                            "</table>\n",
                            "<p>... (234 rows omitted)</p>"
                        ],
                        "text/plain": [
                            "total | tip\n",
                            "50.81 | 10\n",
                            "48.33 | 9\n",
                            "39.42 | 7.58\n",
                            "48.27 | 6.73\n",
                            "34.3  | 6.7\n",
                            "23.17 | 6.5\n",
                            "28.17 | 6.5\n",
                            "32.4  | 6\n",
                            "29.03 | 5.92\n",
                            "24.71 | 5.85\n",
                            "... (234 rows omitted)"
                        ]
                    },
                    "execution_count": 42,
                    "metadata": {},
                    "output_type": "execute_result"
                }
            ],
            "source": [
                "total_and_tip.sort(\"tip\", descending=True)"
            ]
        },
        {
            "cell_type": "markdown",
            "metadata": {},
            "source": [
                "<hr style=\"border: 2px solid #003262\">\n",
                "<hr style=\"border: 2px solid #C9B676\">"
            ]
        },
        {
            "cell_type": "markdown",
            "metadata": {},
            "source": [
                "## Columns\n",
                "\n",
                "What if we want to look at the average bill total? To do that, we need to get the `total` column my itself. We can use the `column` function to do that! \n",
                "\n",
                "When you run the cell below, you'll see a lot of numbers, which might be overwhelming. But don't worry, we'll ignore the numbers for now, we just want to show what a column by itself looks like!"
            ]
        },
        {
            "cell_type": "code",
            "execution_count": null,
            "metadata": {},
            "outputs": [
                {
                    "name": "stdout",
                    "output_type": "stream",
                    "text": [
                        "[ 16.99  10.34  21.01  23.68  24.59  25.29   8.77  26.88  15.04  14.78\n",
                        "  10.27  35.26  15.42  18.43  14.83  21.58  10.33  16.29  16.97  20.65\n",
                        "  17.92  20.29  15.77  39.42  19.82  17.81  13.37  12.69  21.7   19.65\n",
                        "   9.55  18.35  15.06  20.69  17.78  24.06  16.31  16.93  18.69  31.27\n",
                        "  16.04  17.46  13.94   9.68  30.4   18.29  22.23  32.4   28.55  18.04\n",
                        "  12.54  10.29  34.81   9.94  25.56  19.49  38.01  26.41  11.24  48.27\n",
                        "  20.29  13.81  11.02  18.29  17.59  20.08  16.45   3.07  20.23  15.01\n",
                        "  12.02  17.07  26.86  25.28  14.73  10.51  17.92  27.2   22.76  17.29\n",
                        "  19.44  16.66  10.07  32.68  15.98  34.83  13.03  18.28  24.71  21.16\n",
                        "  28.97  22.49   5.75  16.32  22.75  40.17  27.28  12.03  21.01  12.46\n",
                        "  11.35  15.38  44.3   22.42  20.92  15.36  20.49  25.21  18.24  14.31\n",
                        "  14.     7.25  38.07  23.95  25.71  17.31  29.93  10.65  12.43  24.08\n",
                        "  11.69  13.42  14.26  15.95  12.48  29.8    8.52  14.52  11.38  22.82\n",
                        "  19.08  20.27  11.17  12.26  18.26   8.51  10.33  14.15  16.    13.16\n",
                        "  17.47  34.3   41.19  27.05  16.43   8.35  18.64  11.87   9.78   7.51\n",
                        "  14.07  13.13  17.26  24.55  19.77  29.85  48.17  25.    13.39  16.49\n",
                        "  21.5   12.66  16.21  13.81  17.51  24.52  20.76  31.71  10.59  10.63\n",
                        "  50.81  15.81   7.25  31.85  16.82  32.9   17.89  14.48   9.6   34.63\n",
                        "  34.65  23.33  45.35  23.17  40.55  20.69  20.9   30.46  18.15  23.1\n",
                        "  15.69  19.81  28.44  15.48  16.58   7.56  10.34  43.11  13.    13.51\n",
                        "  18.71  12.74  13.    16.4   20.53  16.47  26.59  38.73  24.27  12.76\n",
                        "  30.06  25.89  48.33  13.27  28.17  12.9   28.15  11.59   7.74  30.14\n",
                        "  12.16  13.42   8.58  15.98  13.42  16.27  10.09  20.45  13.28  22.12\n",
                        "  24.01  15.69  11.61  10.77  15.53  10.07  12.6   32.83  35.83  29.03\n",
                        "  27.18  22.67  17.82  18.78]\n"
                    ]
                }
            ],
            "source": [
                "totals = total_and_tip.column(\"total\")\n",
                "print(totals)"
            ]
        },
        {
            "cell_type": "markdown",
            "metadata": {},
            "source": [
                "### Statistics with Columns\n",
                "\n",
                "Now that we have the totals as a list of numbers we can use the `numpy` module that we saw eariler to find some cool statistics about this data! Check out the cells below!"
            ]
        },
        {
            "cell_type": "code",
            "execution_count": null,
            "metadata": {},
            "outputs": [
                {
                    "name": "stdout",
                    "output_type": "stream",
                    "text": [
                        "The average total is 19.785942623 dollars\n"
                    ]
                }
            ],
            "source": [
                "average = np.mean(totals) # the mean of the totals\n",
                "print(\"The average total is\", average, \"dollars\")"
            ]
        },
        {
            "cell_type": "code",
            "execution_count": null,
            "metadata": {},
            "outputs": [
                {
                    "name": "stdout",
                    "output_type": "stream",
                    "text": [
                        "The smallest total is 3.07 dollars\n"
                    ]
                }
            ],
            "source": [
                "minimum = np.min(totals) # the minimum of the totals\n",
                "print(\"The smallest total is\", minimum, \"dollars\")"
            ]
        },
        {
            "cell_type": "code",
            "execution_count": 105,
            "metadata": {},
            "outputs": [
                {
                    "name": "stdout",
                    "output_type": "stream",
                    "text": [
                        "The biggest total is 50.81 dollars\n"
                    ]
                }
            ],
            "source": [
                "maximum = np.max(totals) # the maximum of the totals\n",
                "print(\"The biggest total is\", maximum, \"dollars\")"
            ]
        },
        {
            "cell_type": "markdown",
            "metadata": {},
            "source": [
                "<hr style=\"border: 2px solid #003262\">\n",
                "<hr style=\"border: 2px solid #C9B676\">"
            ]
        },
        {
            "attachments": {},
            "cell_type": "markdown",
            "metadata": {},
            "source": [
                "## Plotting"
            ]
        },
        {
            "attachments": {},
            "cell_type": "markdown",
            "metadata": {},
            "source": [
                "While knowing the average, the biggest, and the smallest are good, they don't tell us the whole story. And just looking at a bunch of numbers isn't fun to do. So, we need to make a visualization of our data!\n",
                "\n",
                "Luckily for us there are lots of functions to do that for us! We'll examine a few below!"
            ]
        },
        {
            "cell_type": "markdown",
            "metadata": {},
            "source": [
                "### Histogram\n",
                "The `hist` function will plot a histogram of the column you specify."
            ]
        },
        {
            "cell_type": "code",
            "execution_count": 93,
            "metadata": {},
            "outputs": [
                {
                    "data": {
                        "image/png": "[encoded data removed]",
                        "image/svg+xml": "<?xml version=\"1.0\" encoding=\"utf-8\" standalone=\"no\"?>\n<!DOCTYPE svg PUBLIC \"-//W3C//DTD SVG 1.1//EN\"\n  \"http://www.w3.org/Graphics/SVG/1.1/DTD/svg11.dtd\">\n<svg xmlns:xlink=\"http://www.w3.org/1999/xlink\" width=\"422.90675pt\" height=\"284.214375pt\" viewBox=\"0 0 422.90675 284.214375\" xmlns=\"http://www.w3.org/2000/svg\" version=\"1.1\">\n <metadata>\n  <rdf:RDF xmlns:dc=\"http://purl.org/dc/elements/1.1/\" xmlns:cc=\"http://creativecommons.org/ns#\" xmlns:rdf=\"http://www.w3.org/1999/02/22-rdf-syntax-ns#\">\n   <cc:Work>\n    <dc:type rdf:resource=\"http://purl.org/dc/dcmitype/StillImage\"/>\n    <dc:date>2023-02-10T01:15:02.185185</dc:date>\n    <dc:format>image/svg+xml</dc:format>\n    <dc:creator>\n     <cc:Agent>\n      <dc:title>Matplotlib v3.5.1, https://matplotlib.org/</dc:title>\n     </cc:Agent>\n    </dc:creator>\n   </cc:Work>\n  </rdf:RDF>\n </metadata>\n <defs>\n  <style type=\"text/css\">*{stroke-linejoin: round; stroke-linecap: butt}</style>\n </defs>\n <g id=\"figure_1\">\n  <g id=\"patch_1\">\n   <path d=\"M 0 284.214375 \nL 422.90675 284.214375 \nL 422.90675 0 \nL 0 0 \nz\n\" style=\"fill: #f0f0f0\"/>\n  </g>\n  <g id=\"axes_1\">\n   <g id=\"patch_2\">\n    <path d=\"M 39.86675 240.48 \nL 415.70675 240.48 \nL 415.70675 7.2 \nL 39.86675 7.2 \nz\n\" style=\"fill: #f0f0f0\"/>\n   </g>\n   <g id=\"matplotlib.axis_1\">\n    <g id=\"xtick_1\">\n     <g id=\"line2d_1\">\n      <path d=\"M 56.950386 240.48 \nL 56.950386 7.2 \n\" clip-path=\"url(#pf32ed85836)\" style=\"fill: none; stroke: #cbcbcb\"/>\n     </g>\n     <g id=\"line2d_2\"/>\n     <g id=\"text_1\">\n      <!-- 0 -->\n      <g style=\"fill: #ffffff\" transform=\"translate(52.496636 254.617813)scale(0.14 -0.14)\">\n       <defs>\n        <path id=\"DejaVuSans-30\" d=\"M 2034 4250 \nQ 1547 4250 1301 3770 \nQ 1056 3291 1056 2328 \nQ 1056 1369 1301 889 \nQ 1547 409 2034 409 \nQ 2525 409 2770 889 \nQ 3016 1369 3016 2328 \nQ 3016 3291 2770 3770 \nQ 2525 4250 2034 4250 \nz\nM 2034 4750 \nQ 2819 4750 3233 4129 \nQ 3647 3509 3647 2328 \nQ 3647 1150 3233 529 \nQ 2819 -91 2034 -91 \nQ 1250 -91 836 529 \nQ 422 1150 422 2328 \nQ 422 3509 836 4129 \nQ 1250 4750 2034 4750 \nz\n\" transform=\"scale(0.015625)\"/>\n       </defs>\n       <use xlink:href=\"#DejaVuSans-30\"/>\n      </g>\n     </g>\n    </g>\n    <g id=\"xtick_2\">\n     <g id=\"line2d_3\">\n      <path d=\"M 119.0727 240.48 \nL 119.0727 7.2 \n\" clip-path=\"url(#pf32ed85836)\" style=\"fill: none; stroke: #cbcbcb\"/>\n     </g>\n     <g id=\"line2d_4\"/>\n     <g id=\"text_2\">\n      <!-- 10 -->\n      <g style=\"fill: #ffffff\" transform=\"translate(110.1652 254.617813)scale(0.14 -0.14)\">\n       <defs>\n        <path id=\"DejaVuSans-31\" d=\"M 794 531 \nL 1825 531 \nL 1825 4091 \nL 703 3866 \nL 703 4441 \nL 1819 4666 \nL 2450 4666 \nL 2450 531 \nL 3481 531 \nL 3481 0 \nL 794 0 \nL 794 531 \nz\n\" transform=\"scale(0.015625)\"/>\n       </defs>\n       <use xlink:href=\"#DejaVuSans-31\"/>\n       <use xlink:href=\"#DejaVuSans-30\" x=\"63.623047\"/>\n      </g>\n     </g>\n    </g>\n    <g id=\"xtick_3\">\n     <g id=\"line2d_5\">\n      <path d=\"M 181.195014 240.48 \nL 181.195014 7.2 \n\" clip-path=\"url(#pf32ed85836)\" style=\"fill: none; stroke: #cbcbcb\"/>\n     </g>\n     <g id=\"line2d_6\"/>\n     <g id=\"text_3\">\n      <!-- 20 -->\n      <g style=\"fill: #ffffff\" transform=\"translate(172.287514 254.617813)scale(0.14 -0.14)\">\n       <defs>\n        <path id=\"DejaVuSans-32\" d=\"M 1228 531 \nL 3431 531 \nL 3431 0 \nL 469 0 \nL 469 531 \nQ 828 903 1448 1529 \nQ 2069 2156 2228 2338 \nQ 2531 2678 2651 2914 \nQ 2772 3150 2772 3378 \nQ 2772 3750 2511 3984 \nQ 2250 4219 1831 4219 \nQ 1534 4219 1204 4116 \nQ 875 4013 500 3803 \nL 500 4441 \nQ 881 4594 1212 4672 \nQ 1544 4750 1819 4750 \nQ 2544 4750 2975 4387 \nQ 3406 4025 3406 3419 \nQ 3406 3131 3298 2873 \nQ 3191 2616 2906 2266 \nQ 2828 2175 2409 1742 \nQ 1991 1309 1228 531 \nz\n\" transform=\"scale(0.015625)\"/>\n       </defs>\n       <use xlink:href=\"#DejaVuSans-32\"/>\n       <use xlink:href=\"#DejaVuSans-30\" x=\"63.623047\"/>\n      </g>\n     </g>\n    </g>\n    <g id=\"xtick_4\">\n     <g id=\"line2d_7\">\n      <path d=\"M 243.317329 240.48 \nL 243.317329 7.2 \n\" clip-path=\"url(#pf32ed85836)\" style=\"fill: none; stroke: #cbcbcb\"/>\n     </g>\n     <g id=\"line2d_8\"/>\n     <g id=\"text_4\">\n      <!-- 30 -->\n      <g style=\"fill: #ffffff\" transform=\"translate(234.409829 254.617813)scale(0.14 -0.14)\">\n       <defs>\n        <path id=\"DejaVuSans-33\" d=\"M 2597 2516 \nQ 3050 2419 3304 2112 \nQ 3559 1806 3559 1356 \nQ 3559 666 3084 287 \nQ 2609 -91 1734 -91 \nQ 1441 -91 1130 -33 \nQ 819 25 488 141 \nL 488 750 \nQ 750 597 1062 519 \nQ 1375 441 1716 441 \nQ 2309 441 2620 675 \nQ 2931 909 2931 1356 \nQ 2931 1769 2642 2001 \nQ 2353 2234 1838 2234 \nL 1294 2234 \nL 1294 2753 \nL 1863 2753 \nQ 2328 2753 2575 2939 \nQ 2822 3125 2822 3475 \nQ 2822 3834 2567 4026 \nQ 2313 4219 1838 4219 \nQ 1578 4219 1281 4162 \nQ 984 4106 628 3988 \nL 628 4550 \nQ 988 4650 1302 4700 \nQ 1616 4750 1894 4750 \nQ 2613 4750 3031 4423 \nQ 3450 4097 3450 3541 \nQ 3450 3153 3228 2886 \nQ 3006 2619 2597 2516 \nz\n\" transform=\"scale(0.015625)\"/>\n       </defs>\n       <use xlink:href=\"#DejaVuSans-33\"/>\n       <use xlink:href=\"#DejaVuSans-30\" x=\"63.623047\"/>\n      </g>\n     </g>\n    </g>\n    <g id=\"xtick_5\">\n     <g id=\"line2d_9\">\n      <path d=\"M 305.439643 240.48 \nL 305.439643 7.2 \n\" clip-path=\"url(#pf32ed85836)\" style=\"fill: none; stroke: #cbcbcb\"/>\n     </g>\n     <g id=\"line2d_10\"/>\n     <g id=\"text_5\">\n      <!-- 40 -->\n      <g style=\"fill: #ffffff\" transform=\"translate(296.532143 254.617813)scale(0.14 -0.14)\">\n       <defs>\n        <path id=\"DejaVuSans-34\" d=\"M 2419 4116 \nL 825 1625 \nL 2419 1625 \nL 2419 4116 \nz\nM 2253 4666 \nL 3047 4666 \nL 3047 1625 \nL 3713 1625 \nL 3713 1100 \nL 3047 1100 \nL 3047 0 \nL 2419 0 \nL 2419 1100 \nL 313 1100 \nL 313 1709 \nL 2253 4666 \nz\n\" transform=\"scale(0.015625)\"/>\n       </defs>\n       <use xlink:href=\"#DejaVuSans-34\"/>\n       <use xlink:href=\"#DejaVuSans-30\" x=\"63.623047\"/>\n      </g>\n     </g>\n    </g>\n    <g id=\"xtick_6\">\n     <g id=\"line2d_11\">\n      <path d=\"M 367.561957 240.48 \nL 367.561957 7.2 \n\" clip-path=\"url(#pf32ed85836)\" style=\"fill: none; stroke: #cbcbcb\"/>\n     </g>\n     <g id=\"line2d_12\"/>\n     <g id=\"text_6\">\n      <!-- 50 -->\n      <g style=\"fill: #ffffff\" transform=\"translate(358.654457 254.617813)scale(0.14 -0.14)\">\n       <defs>\n        <path id=\"DejaVuSans-35\" d=\"M 691 4666 \nL 3169 4666 \nL 3169 4134 \nL 1269 4134 \nL 1269 2991 \nQ 1406 3038 1543 3061 \nQ 1681 3084 1819 3084 \nQ 2600 3084 3056 2656 \nQ 3513 2228 3513 1497 \nQ 3513 744 3044 326 \nQ 2575 -91 1722 -91 \nQ 1428 -91 1123 -41 \nQ 819 9 494 109 \nL 494 744 \nQ 775 591 1075 516 \nQ 1375 441 1709 441 \nQ 2250 441 2565 725 \nQ 2881 1009 2881 1497 \nQ 2881 1984 2565 2268 \nQ 2250 2553 1709 2553 \nQ 1456 2553 1204 2497 \nQ 953 2441 691 2322 \nL 691 4666 \nz\n\" transform=\"scale(0.015625)\"/>\n       </defs>\n       <use xlink:href=\"#DejaVuSans-35\"/>\n       <use xlink:href=\"#DejaVuSans-30\" x=\"63.623047\"/>\n      </g>\n     </g>\n    </g>\n    <g id=\"text_7\">\n     <!-- total -->\n     <g style=\"fill: #ffffff\" transform=\"translate(209.49425 273.686875)scale(0.16 -0.16)\">\n      <defs>\n       <path id=\"DejaVuSans-74\" d=\"M 1172 4494 \nL 1172 3500 \nL 2356 3500 \nL 2356 3053 \nL 1172 3053 \nL 1172 1153 \nQ 1172 725 1289 603 \nQ 1406 481 1766 481 \nL 2356 481 \nL 2356 0 \nL 1766 0 \nQ 1100 0 847 248 \nQ 594 497 594 1153 \nL 594 3053 \nL 172 3053 \nL 172 3500 \nL 594 3500 \nL 594 4494 \nL 1172 4494 \nz\n\" transform=\"scale(0.015625)\"/>\n       <path id=\"DejaVuSans-6f\" d=\"M 1959 3097 \nQ 1497 3097 1228 2736 \nQ 959 2375 959 1747 \nQ 959 1119 1226 758 \nQ 1494 397 1959 397 \nQ 2419 397 2687 759 \nQ 2956 1122 2956 1747 \nQ 2956 2369 2687 2733 \nQ 2419 3097 1959 3097 \nz\nM 1959 3584 \nQ 2709 3584 3137 3096 \nQ 3566 2609 3566 1747 \nQ 3566 888 3137 398 \nQ 2709 -91 1959 -91 \nQ 1206 -91 779 398 \nQ 353 888 353 1747 \nQ 353 2609 779 3096 \nQ 1206 3584 1959 3584 \nz\n\" transform=\"scale(0.015625)\"/>\n       <path id=\"DejaVuSans-61\" d=\"M 2194 1759 \nQ 1497 1759 1228 1600 \nQ 959 1441 959 1056 \nQ 959 750 1161 570 \nQ 1363 391 1709 391 \nQ 2188 391 2477 730 \nQ 2766 1069 2766 1631 \nL 2766 1759 \nL 2194 1759 \nz\nM 3341 1997 \nL 3341 0 \nL 2766 0 \nL 2766 531 \nQ 2569 213 2275 61 \nQ 1981 -91 1556 -91 \nQ 1019 -91 701 211 \nQ 384 513 384 1019 \nQ 384 1609 779 1909 \nQ 1175 2209 1959 2209 \nL 2766 2209 \nL 2766 2266 \nQ 2766 2663 2505 2880 \nQ 2244 3097 1772 3097 \nQ 1472 3097 1187 3025 \nQ 903 2953 641 2809 \nL 641 3341 \nQ 956 3463 1253 3523 \nQ 1550 3584 1831 3584 \nQ 2591 3584 2966 3190 \nQ 3341 2797 3341 1997 \nz\n\" transform=\"scale(0.015625)\"/>\n       <path id=\"DejaVuSans-6c\" d=\"M 603 4863 \nL 1178 4863 \nL 1178 0 \nL 603 0 \nL 603 4863 \nz\n\" transform=\"scale(0.015625)\"/>\n      </defs>\n      <use xlink:href=\"#DejaVuSans-74\"/>\n      <use xlink:href=\"#DejaVuSans-6f\" x=\"39.208984\"/>\n      <use xlink:href=\"#DejaVuSans-74\" x=\"100.390625\"/>\n      <use xlink:href=\"#DejaVuSans-61\" x=\"139.599609\"/>\n      <use xlink:href=\"#DejaVuSans-6c\" x=\"200.878906\"/>\n     </g>\n    </g>\n   </g>\n   <g id=\"matplotlib.axis_2\">\n    <g id=\"ytick_1\">\n     <g id=\"line2d_13\">\n      <path d=\"M 39.86675 240.48 \nL 415.70675 240.48 \n\" clip-path=\"url(#pf32ed85836)\" style=\"fill: none; stroke: #cbcbcb\"/>\n     </g>\n     <g id=\"line2d_14\"/>\n     <g id=\"text_8\">\n      <!-- 0 -->\n      <g style=\"fill: #ffffff\" transform=\"translate(27.45925 245.798906)scale(0.14 -0.14)\">\n       <use xlink:href=\"#DejaVuSans-30\"/>\n      </g>\n     </g>\n    </g>\n    <g id=\"ytick_2\">\n     <g id=\"line2d_15\">\n      <path d=\"M 39.86675 200.024904 \nL 415.70675 200.024904 \n\" clip-path=\"url(#pf32ed85836)\" style=\"fill: none; stroke: #cbcbcb\"/>\n     </g>\n     <g id=\"line2d_16\"/>\n     <g id=\"text_9\">\n      <!-- 1 -->\n      <g style=\"fill: #ffffff\" transform=\"translate(27.45925 205.34381)scale(0.14 -0.14)\">\n       <use xlink:href=\"#DejaVuSans-31\"/>\n      </g>\n     </g>\n    </g>\n    <g id=\"ytick_3\">\n     <g id=\"line2d_17\">\n      <path d=\"M 39.86675 159.569808 \nL 415.70675 159.569808 \n\" clip-path=\"url(#pf32ed85836)\" style=\"fill: none; stroke: #cbcbcb\"/>\n     </g>\n     <g id=\"line2d_18\"/>\n     <g id=\"text_10\">\n      <!-- 2 -->\n      <g style=\"fill: #ffffff\" transform=\"translate(27.45925 164.888714)scale(0.14 -0.14)\">\n       <use xlink:href=\"#DejaVuSans-32\"/>\n      </g>\n     </g>\n    </g>\n    <g id=\"ytick_4\">\n     <g id=\"line2d_19\">\n      <path d=\"M 39.86675 119.114712 \nL 415.70675 119.114712 \n\" clip-path=\"url(#pf32ed85836)\" style=\"fill: none; stroke: #cbcbcb\"/>\n     </g>\n     <g id=\"line2d_20\"/>\n     <g id=\"text_11\">\n      <!-- 3 -->\n      <g style=\"fill: #ffffff\" transform=\"translate(27.45925 124.433618)scale(0.14 -0.14)\">\n       <use xlink:href=\"#DejaVuSans-33\"/>\n      </g>\n     </g>\n    </g>\n    <g id=\"ytick_5\">\n     <g id=\"line2d_21\">\n      <path d=\"M 39.86675 78.659616 \nL 415.70675 78.659616 \n\" clip-path=\"url(#pf32ed85836)\" style=\"fill: none; stroke: #cbcbcb\"/>\n     </g>\n     <g id=\"line2d_22\"/>\n     <g id=\"text_12\">\n      <!-- 4 -->\n      <g style=\"fill: #ffffff\" transform=\"translate(27.45925 83.978522)scale(0.14 -0.14)\">\n       <use xlink:href=\"#DejaVuSans-34\"/>\n      </g>\n     </g>\n    </g>\n    <g id=\"ytick_6\">\n     <g id=\"line2d_23\">\n      <path d=\"M 39.86675 38.20452 \nL 415.70675 38.20452 \n\" clip-path=\"url(#pf32ed85836)\" style=\"fill: none; stroke: #cbcbcb\"/>\n     </g>\n     <g id=\"line2d_24\"/>\n     <g id=\"text_13\">\n      <!-- 5 -->\n      <g style=\"fill: #ffffff\" transform=\"translate(27.45925 43.523427)scale(0.14 -0.14)\">\n       <use xlink:href=\"#DejaVuSans-35\"/>\n      </g>\n     </g>\n    </g>\n    <g id=\"text_14\">\n     <!-- Percent per unit -->\n     <g style=\"fill: #ffffff\" transform=\"translate(19.965375 191.004563)rotate(-90)scale(0.168 -0.168)\">\n      <defs>\n       <path id=\"DejaVuSans-50\" d=\"M 1259 4147 \nL 1259 2394 \nL 2053 2394 \nQ 2494 2394 2734 2622 \nQ 2975 2850 2975 3272 \nQ 2975 3691 2734 3919 \nQ 2494 4147 2053 4147 \nL 1259 4147 \nz\nM 628 4666 \nL 2053 4666 \nQ 2838 4666 3239 4311 \nQ 3641 3956 3641 3272 \nQ 3641 2581 3239 2228 \nQ 2838 1875 2053 1875 \nL 1259 1875 \nL 1259 0 \nL 628 0 \nL 628 4666 \nz\n\" transform=\"scale(0.015625)\"/>\n       <path id=\"DejaVuSans-65\" d=\"M 3597 1894 \nL 3597 1613 \nL 953 1613 \nQ 991 1019 1311 708 \nQ 1631 397 2203 397 \nQ 2534 397 2845 478 \nQ 3156 559 3463 722 \nL 3463 178 \nQ 3153 47 2828 -22 \nQ 2503 -91 2169 -91 \nQ 1331 -91 842 396 \nQ 353 884 353 1716 \nQ 353 2575 817 3079 \nQ 1281 3584 2069 3584 \nQ 2775 3584 3186 3129 \nQ 3597 2675 3597 1894 \nz\nM 3022 2063 \nQ 3016 2534 2758 2815 \nQ 2500 3097 2075 3097 \nQ 1594 3097 1305 2825 \nQ 1016 2553 972 2059 \nL 3022 2063 \nz\n\" transform=\"scale(0.015625)\"/>\n       <path id=\"DejaVuSans-72\" d=\"M 2631 2963 \nQ 2534 3019 2420 3045 \nQ 2306 3072 2169 3072 \nQ 1681 3072 1420 2755 \nQ 1159 2438 1159 1844 \nL 1159 0 \nL 581 0 \nL 581 3500 \nL 1159 3500 \nL 1159 2956 \nQ 1341 3275 1631 3429 \nQ 1922 3584 2338 3584 \nQ 2397 3584 2469 3576 \nQ 2541 3569 2628 3553 \nL 2631 2963 \nz\n\" transform=\"scale(0.015625)\"/>\n       <path id=\"DejaVuSans-63\" d=\"M 3122 3366 \nL 3122 2828 \nQ 2878 2963 2633 3030 \nQ 2388 3097 2138 3097 \nQ 1578 3097 1268 2742 \nQ 959 2388 959 1747 \nQ 959 1106 1268 751 \nQ 1578 397 2138 397 \nQ 2388 397 2633 464 \nQ 2878 531 3122 666 \nL 3122 134 \nQ 2881 22 2623 -34 \nQ 2366 -91 2075 -91 \nQ 1284 -91 818 406 \nQ 353 903 353 1747 \nQ 353 2603 823 3093 \nQ 1294 3584 2113 3584 \nQ 2378 3584 2631 3529 \nQ 2884 3475 3122 3366 \nz\n\" transform=\"scale(0.015625)\"/>\n       <path id=\"DejaVuSans-6e\" d=\"M 3513 2113 \nL 3513 0 \nL 2938 0 \nL 2938 2094 \nQ 2938 2591 2744 2837 \nQ 2550 3084 2163 3084 \nQ 1697 3084 1428 2787 \nQ 1159 2491 1159 1978 \nL 1159 0 \nL 581 0 \nL 581 3500 \nL 1159 3500 \nL 1159 2956 \nQ 1366 3272 1645 3428 \nQ 1925 3584 2291 3584 \nQ 2894 3584 3203 3211 \nQ 3513 2838 3513 2113 \nz\n\" transform=\"scale(0.015625)\"/>\n       <path id=\"DejaVuSans-20\" transform=\"scale(0.015625)\"/>\n       <path id=\"DejaVuSans-70\" d=\"M 1159 525 \nL 1159 -1331 \nL 581 -1331 \nL 581 3500 \nL 1159 3500 \nL 1159 2969 \nQ 1341 3281 1617 3432 \nQ 1894 3584 2278 3584 \nQ 2916 3584 3314 3078 \nQ 3713 2572 3713 1747 \nQ 3713 922 3314 415 \nQ 2916 -91 2278 -91 \nQ 1894 -91 1617 61 \nQ 1341 213 1159 525 \nz\nM 3116 1747 \nQ 3116 2381 2855 2742 \nQ 2594 3103 2138 3103 \nQ 1681 3103 1420 2742 \nQ 1159 2381 1159 1747 \nQ 1159 1113 1420 752 \nQ 1681 391 2138 391 \nQ 2594 391 2855 752 \nQ 3116 1113 3116 1747 \nz\n\" transform=\"scale(0.015625)\"/>\n       <path id=\"DejaVuSans-75\" d=\"M 544 1381 \nL 544 3500 \nL 1119 3500 \nL 1119 1403 \nQ 1119 906 1312 657 \nQ 1506 409 1894 409 \nQ 2359 409 2629 706 \nQ 2900 1003 2900 1516 \nL 2900 3500 \nL 3475 3500 \nL 3475 0 \nL 2900 0 \nL 2900 538 \nQ 2691 219 2414 64 \nQ 2138 -91 1772 -91 \nQ 1169 -91 856 284 \nQ 544 659 544 1381 \nz\nM 1991 3584 \nL 1991 3584 \nz\n\" transform=\"scale(0.015625)\"/>\n       <path id=\"DejaVuSans-69\" d=\"M 603 3500 \nL 1178 3500 \nL 1178 0 \nL 603 0 \nL 603 3500 \nz\nM 603 4863 \nL 1178 4863 \nL 1178 4134 \nL 603 4134 \nL 603 4863 \nz\n\" transform=\"scale(0.015625)\"/>\n      </defs>\n      <use xlink:href=\"#DejaVuSans-50\"/>\n      <use xlink:href=\"#DejaVuSans-65\" x=\"56.677734\"/>\n      <use xlink:href=\"#DejaVuSans-72\" x=\"118.201172\"/>\n      <use xlink:href=\"#DejaVuSans-63\" x=\"157.064453\"/>\n      <use xlink:href=\"#DejaVuSans-65\" x=\"212.044922\"/>\n      <use xlink:href=\"#DejaVuSans-6e\" x=\"273.568359\"/>\n      <use xlink:href=\"#DejaVuSans-74\" x=\"336.947266\"/>\n      <use xlink:href=\"#DejaVuSans-20\" x=\"376.15625\"/>\n      <use xlink:href=\"#DejaVuSans-70\" x=\"407.943359\"/>\n      <use xlink:href=\"#DejaVuSans-65\" x=\"471.419922\"/>\n      <use xlink:href=\"#DejaVuSans-72\" x=\"532.943359\"/>\n      <use xlink:href=\"#DejaVuSans-20\" x=\"574.056641\"/>\n      <use xlink:href=\"#DejaVuSans-75\" x=\"605.84375\"/>\n      <use xlink:href=\"#DejaVuSans-6e\" x=\"669.222656\"/>\n      <use xlink:href=\"#DejaVuSans-69\" x=\"732.601562\"/>\n      <use xlink:href=\"#DejaVuSans-74\" x=\"760.384766\"/>\n     </g>\n    </g>\n   </g>\n   <g id=\"patch_3\">\n    <path d=\"M 56.950386 240.48 \nL 88.011543 240.48 \nL 88.011543 237.164009 \nL 56.950386 237.164009 \nz\n\" clip-path=\"url(#pf32ed85836)\" style=\"fill: #001e42; fill-opacity: 0.7; stroke: #f0f0f0; stroke-width: 0.5; stroke-linejoin: miter\"/>\n   </g>\n   <g id=\"patch_4\">\n    <path d=\"M 88.011543 240.48 \nL 119.0727 240.48 \nL 119.0727 187.424136 \nL 88.011543 187.424136 \nz\n\" clip-path=\"url(#pf32ed85836)\" style=\"fill: #001e42; fill-opacity: 0.7; stroke: #f0f0f0; stroke-width: 0.5; stroke-linejoin: miter\"/>\n   </g>\n   <g id=\"patch_5\">\n    <path d=\"M 119.0727 240.48 \nL 150.133857 240.48 \nL 150.133857 31.572537 \nL 119.0727 31.572537 \nz\n\" clip-path=\"url(#pf32ed85836)\" style=\"fill: #001e42; fill-opacity: 0.7; stroke: #f0f0f0; stroke-width: 0.5; stroke-linejoin: miter\"/>\n   </g>\n   <g id=\"patch_6\">\n    <path d=\"M 150.133857 240.48 \nL 181.195014 240.48 \nL 181.195014 18.308571 \nL 150.133857 18.308571 \nz\n\" clip-path=\"url(#pf32ed85836)\" style=\"fill: #001e42; fill-opacity: 0.7; stroke: #f0f0f0; stroke-width: 0.5; stroke-linejoin: miter\"/>\n   </g>\n   <g id=\"patch_7\">\n    <path d=\"M 181.195014 240.48 \nL 212.256171 240.48 \nL 212.256171 104.52435 \nL 181.195014 104.52435 \nz\n\" clip-path=\"url(#pf32ed85836)\" style=\"fill: #001e42; fill-opacity: 0.7; stroke: #f0f0f0; stroke-width: 0.5; stroke-linejoin: miter\"/>\n   </g>\n   <g id=\"patch_8\">\n    <path d=\"M 212.256171 240.48 \nL 243.317329 240.48 \nL 243.317329 160.896205 \nL 212.256171 160.896205 \nz\n\" clip-path=\"url(#pf32ed85836)\" style=\"fill: #001e42; fill-opacity: 0.7; stroke: #f0f0f0; stroke-width: 0.5; stroke-linejoin: miter\"/>\n   </g>\n   <g id=\"patch_9\">\n    <path d=\"M 243.317329 240.48 \nL 274.378486 240.48 \nL 274.378486 187.424136 \nL 243.317329 187.424136 \nz\n\" clip-path=\"url(#pf32ed85836)\" style=\"fill: #001e42; fill-opacity: 0.7; stroke: #f0f0f0; stroke-width: 0.5; stroke-linejoin: miter\"/>\n   </g>\n   <g id=\"patch_10\">\n    <path d=\"M 274.378486 240.48 \nL 305.439643 240.48 \nL 305.439643 220.584051 \nL 274.378486 220.584051 \nz\n\" clip-path=\"url(#pf32ed85836)\" style=\"fill: #001e42; fill-opacity: 0.7; stroke: #f0f0f0; stroke-width: 0.5; stroke-linejoin: miter\"/>\n   </g>\n   <g id=\"patch_11\">\n    <path d=\"M 305.439643 240.48 \nL 336.5008 240.48 \nL 336.5008 223.900043 \nL 305.439643 223.900043 \nz\n\" clip-path=\"url(#pf32ed85836)\" style=\"fill: #001e42; fill-opacity: 0.7; stroke: #f0f0f0; stroke-width: 0.5; stroke-linejoin: miter\"/>\n   </g>\n   <g id=\"patch_12\">\n    <path d=\"M 336.5008 240.48 \nL 367.561957 240.48 \nL 367.561957 227.216034 \nL 336.5008 227.216034 \nz\n\" clip-path=\"url(#pf32ed85836)\" style=\"fill: #001e42; fill-opacity: 0.7; stroke: #f0f0f0; stroke-width: 0.5; stroke-linejoin: miter\"/>\n   </g>\n   <g id=\"patch_13\">\n    <path d=\"M 367.561957 240.48 \nL 398.623114 240.48 \nL 398.623114 237.164009 \nL 367.561957 237.164009 \nz\n\" clip-path=\"url(#pf32ed85836)\" style=\"fill: #001e42; fill-opacity: 0.7; stroke: #f0f0f0; stroke-width: 0.5; stroke-linejoin: miter\"/>\n   </g>\n   <g id=\"patch_14\">\n    <path d=\"M 39.86675 240.48 \nL 39.86675 7.2 \n\" style=\"fill: none; stroke: #f0f0f0; stroke-width: 3; stroke-linejoin: miter; stroke-linecap: square\"/>\n   </g>\n   <g id=\"patch_15\">\n    <path d=\"M 415.70675 240.48 \nL 415.70675 7.2 \n\" style=\"fill: none; stroke: #f0f0f0; stroke-width: 3; stroke-linejoin: miter; stroke-linecap: square\"/>\n   </g>\n   <g id=\"patch_16\">\n    <path d=\"M 39.86675 240.48 \nL 415.70675 240.48 \n\" style=\"fill: none; stroke: #f0f0f0; stroke-width: 3; stroke-linejoin: miter; stroke-linecap: square\"/>\n   </g>\n   <g id=\"patch_17\">\n    <path d=\"M 39.86675 7.2 \nL 415.70675 7.2 \n\" style=\"fill: none; stroke: #f0f0f0; stroke-width: 3; stroke-linejoin: miter; stroke-linecap: square\"/>\n   </g>\n  </g>\n </g>\n <defs>\n  <clipPath id=\"pf32ed85836\">\n   <rect x=\"39.86675\" y=\"7.2\" width=\"375.84\" height=\"233.28\"/>\n  </clipPath>\n </defs>\n</svg>\n",
                        "text/plain": [
                            "<Figure size 432x288 with 1 Axes>"
                        ]
                    },
                    "metadata": {},
                    "output_type": "display_data"
                }
            ],
            "source": [
                "tips.hist(\"total\", bins=np.arange(0, 60, 5))"
            ]
        },
        {
            "attachments": {},
            "cell_type": "markdown",
            "metadata": {},
            "source": [
                "### Scatter Plot\n",
                "\n",
                "The `scatter` function makes a scatter plot, where the first name is the name of the column for the x axis and the second name is the column for the y axis"
            ]
        },
        {
            "cell_type": "code",
            "execution_count": 102,
            "metadata": {},
            "outputs": [
                {
                    "data": {
                        "image/png": "[encoded data removed]",
                        "image/svg+xml": "<?xml version=\"1.0\" encoding=\"utf-8\" standalone=\"no\"?>\n<!DOCTYPE svg PUBLIC \"-//W3C//DTD SVG 1.1//EN\"\n  \"http://www.w3.org/Graphics/SVG/1.1/DTD/svg11.dtd\">\n<svg xmlns:xlink=\"http://www.w3.org/1999/xlink\" width=\"368.4pt\" height=\"342.534375pt\" viewBox=\"0 0 368.4 342.534375\" xmlns=\"http://www.w3.org/2000/svg\" version=\"1.1\">\n <metadata>\n  <rdf:RDF xmlns:dc=\"http://purl.org/dc/elements/1.1/\" xmlns:cc=\"http://creativecommons.org/ns#\" xmlns:rdf=\"http://www.w3.org/1999/02/22-rdf-syntax-ns#\">\n   <cc:Work>\n    <dc:type rdf:resource=\"http://purl.org/dc/dcmitype/StillImage\"/>\n    <dc:date>2023-02-10T01:21:13.110166</dc:date>\n    <dc:format>image/svg+xml</dc:format>\n    <dc:creator>\n     <cc:Agent>\n      <dc:title>Matplotlib v3.5.1, https://matplotlib.org/</dc:title>\n     </cc:Agent>\n    </dc:creator>\n   </cc:Work>\n  </rdf:RDF>\n </metadata>\n <defs>\n  <style type=\"text/css\">*{stroke-linejoin: round; stroke-linecap: butt}</style>\n </defs>\n <g id=\"figure_1\">\n  <g id=\"patch_1\">\n   <path d=\"M 0 342.534375 \nL 368.4 342.534375 \nL 368.4 0 \nL 0 0 \nz\n\" style=\"fill: #f0f0f0\"/>\n  </g>\n  <g id=\"axes_1\">\n   <g id=\"patch_2\">\n    <path d=\"M 48 298.8 \nL 361.2 298.8 \nL 361.2 7.2 \nL 48 7.2 \nz\n\" style=\"fill: #f0f0f0\"/>\n   </g>\n   <g id=\"matplotlib.axis_1\">\n    <g id=\"xtick_1\">\n     <g id=\"line2d_1\">\n      <path d=\"M 103.567742 298.8 \nL 103.567742 7.2 \n\" clip-path=\"url(#p42df382904)\" style=\"fill: none; stroke: #cbcbcb\"/>\n     </g>\n     <g id=\"line2d_2\"/>\n     <g id=\"text_1\">\n      <!-- 10 -->\n      <g style=\"fill: #ffffff\" transform=\"translate(94.660242 312.937813)scale(0.14 -0.14)\">\n       <defs>\n        <path id=\"DejaVuSans-31\" d=\"M 794 531 \nL 1825 531 \nL 1825 4091 \nL 703 3866 \nL 703 4441 \nL 1819 4666 \nL 2450 4666 \nL 2450 531 \nL 3481 531 \nL 3481 0 \nL 794 0 \nL 794 531 \nz\n\" transform=\"scale(0.015625)\"/>\n        <path id=\"DejaVuSans-30\" d=\"M 2034 4250 \nQ 1547 4250 1301 3770 \nQ 1056 3291 1056 2328 \nQ 1056 1369 1301 889 \nQ 1547 409 2034 409 \nQ 2525 409 2770 889 \nQ 3016 1369 3016 2328 \nQ 3016 3291 2770 3770 \nQ 2525 4250 2034 4250 \nz\nM 2034 4750 \nQ 2819 4750 3233 4129 \nQ 3647 3509 3647 2328 \nQ 3647 1150 3233 529 \nQ 2819 -91 2034 -91 \nQ 1250 -91 836 529 \nQ 422 1150 422 2328 \nQ 422 3509 836 4129 \nQ 1250 4750 2034 4750 \nz\n\" transform=\"scale(0.015625)\"/>\n       </defs>\n       <use xlink:href=\"#DejaVuSans-31\"/>\n       <use xlink:href=\"#DejaVuSans-30\" x=\"63.623047\"/>\n      </g>\n     </g>\n    </g>\n    <g id=\"xtick_2\">\n     <g id=\"line2d_3\">\n      <path d=\"M 163.20898 298.8 \nL 163.20898 7.2 \n\" clip-path=\"url(#p42df382904)\" style=\"fill: none; stroke: #cbcbcb\"/>\n     </g>\n     <g id=\"line2d_4\"/>\n     <g id=\"text_2\">\n      <!-- 20 -->\n      <g style=\"fill: #ffffff\" transform=\"translate(154.30148 312.937813)scale(0.14 -0.14)\">\n       <defs>\n        <path id=\"DejaVuSans-32\" d=\"M 1228 531 \nL 3431 531 \nL 3431 0 \nL 469 0 \nL 469 531 \nQ 828 903 1448 1529 \nQ 2069 2156 2228 2338 \nQ 2531 2678 2651 2914 \nQ 2772 3150 2772 3378 \nQ 2772 3750 2511 3984 \nQ 2250 4219 1831 4219 \nQ 1534 4219 1204 4116 \nQ 875 4013 500 3803 \nL 500 4441 \nQ 881 4594 1212 4672 \nQ 1544 4750 1819 4750 \nQ 2544 4750 2975 4387 \nQ 3406 4025 3406 3419 \nQ 3406 3131 3298 2873 \nQ 3191 2616 2906 2266 \nQ 2828 2175 2409 1742 \nQ 1991 1309 1228 531 \nz\n\" transform=\"scale(0.015625)\"/>\n       </defs>\n       <use xlink:href=\"#DejaVuSans-32\"/>\n       <use xlink:href=\"#DejaVuSans-30\" x=\"63.623047\"/>\n      </g>\n     </g>\n    </g>\n    <g id=\"xtick_3\">\n     <g id=\"line2d_5\">\n      <path d=\"M 222.850219 298.8 \nL 222.850219 7.2 \n\" clip-path=\"url(#p42df382904)\" style=\"fill: none; stroke: #cbcbcb\"/>\n     </g>\n     <g id=\"line2d_6\"/>\n     <g id=\"text_3\">\n      <!-- 30 -->\n      <g style=\"fill: #ffffff\" transform=\"translate(213.942719 312.937813)scale(0.14 -0.14)\">\n       <defs>\n        <path id=\"DejaVuSans-33\" d=\"M 2597 2516 \nQ 3050 2419 3304 2112 \nQ 3559 1806 3559 1356 \nQ 3559 666 3084 287 \nQ 2609 -91 1734 -91 \nQ 1441 -91 1130 -33 \nQ 819 25 488 141 \nL 488 750 \nQ 750 597 1062 519 \nQ 1375 441 1716 441 \nQ 2309 441 2620 675 \nQ 2931 909 2931 1356 \nQ 2931 1769 2642 2001 \nQ 2353 2234 1838 2234 \nL 1294 2234 \nL 1294 2753 \nL 1863 2753 \nQ 2328 2753 2575 2939 \nQ 2822 3125 2822 3475 \nQ 2822 3834 2567 4026 \nQ 2313 4219 1838 4219 \nQ 1578 4219 1281 4162 \nQ 984 4106 628 3988 \nL 628 4550 \nQ 988 4650 1302 4700 \nQ 1616 4750 1894 4750 \nQ 2613 4750 3031 4423 \nQ 3450 4097 3450 3541 \nQ 3450 3153 3228 2886 \nQ 3006 2619 2597 2516 \nz\n\" transform=\"scale(0.015625)\"/>\n       </defs>\n       <use xlink:href=\"#DejaVuSans-33\"/>\n       <use xlink:href=\"#DejaVuSans-30\" x=\"63.623047\"/>\n      </g>\n     </g>\n    </g>\n    <g id=\"xtick_4\">\n     <g id=\"line2d_7\">\n      <path d=\"M 282.491458 298.8 \nL 282.491458 7.2 \n\" clip-path=\"url(#p42df382904)\" style=\"fill: none; stroke: #cbcbcb\"/>\n     </g>\n     <g id=\"line2d_8\"/>\n     <g id=\"text_4\">\n      <!-- 40 -->\n      <g style=\"fill: #ffffff\" transform=\"translate(273.583958 312.937813)scale(0.14 -0.14)\">\n       <defs>\n        <path id=\"DejaVuSans-34\" d=\"M 2419 4116 \nL 825 1625 \nL 2419 1625 \nL 2419 4116 \nz\nM 2253 4666 \nL 3047 4666 \nL 3047 1625 \nL 3713 1625 \nL 3713 1100 \nL 3047 1100 \nL 3047 0 \nL 2419 0 \nL 2419 1100 \nL 313 1100 \nL 313 1709 \nL 2253 4666 \nz\n\" transform=\"scale(0.015625)\"/>\n       </defs>\n       <use xlink:href=\"#DejaVuSans-34\"/>\n       <use xlink:href=\"#DejaVuSans-30\" x=\"63.623047\"/>\n      </g>\n     </g>\n    </g>\n    <g id=\"xtick_5\">\n     <g id=\"line2d_9\">\n      <path d=\"M 342.132696 298.8 \nL 342.132696 7.2 \n\" clip-path=\"url(#p42df382904)\" style=\"fill: none; stroke: #cbcbcb\"/>\n     </g>\n     <g id=\"line2d_10\"/>\n     <g id=\"text_5\">\n      <!-- 50 -->\n      <g style=\"fill: #ffffff\" transform=\"translate(333.225196 312.937813)scale(0.14 -0.14)\">\n       <defs>\n        <path id=\"DejaVuSans-35\" d=\"M 691 4666 \nL 3169 4666 \nL 3169 4134 \nL 1269 4134 \nL 1269 2991 \nQ 1406 3038 1543 3061 \nQ 1681 3084 1819 3084 \nQ 2600 3084 3056 2656 \nQ 3513 2228 3513 1497 \nQ 3513 744 3044 326 \nQ 2575 -91 1722 -91 \nQ 1428 -91 1123 -41 \nQ 819 9 494 109 \nL 494 744 \nQ 775 591 1075 516 \nQ 1375 441 1709 441 \nQ 2250 441 2565 725 \nQ 2881 1009 2881 1497 \nQ 2881 1984 2565 2268 \nQ 2250 2553 1709 2553 \nQ 1456 2553 1204 2497 \nQ 953 2441 691 2322 \nL 691 4666 \nz\n\" transform=\"scale(0.015625)\"/>\n       </defs>\n       <use xlink:href=\"#DejaVuSans-35\"/>\n       <use xlink:href=\"#DejaVuSans-30\" x=\"63.623047\"/>\n      </g>\n     </g>\n    </g>\n    <g id=\"text_6\">\n     <!-- total -->\n     <g style=\"fill: #ffffff\" transform=\"translate(186.3075 332.006875)scale(0.16 -0.16)\">\n      <defs>\n       <path id=\"DejaVuSans-74\" d=\"M 1172 4494 \nL 1172 3500 \nL 2356 3500 \nL 2356 3053 \nL 1172 3053 \nL 1172 1153 \nQ 1172 725 1289 603 \nQ 1406 481 1766 481 \nL 2356 481 \nL 2356 0 \nL 1766 0 \nQ 1100 0 847 248 \nQ 594 497 594 1153 \nL 594 3053 \nL 172 3053 \nL 172 3500 \nL 594 3500 \nL 594 4494 \nL 1172 4494 \nz\n\" transform=\"scale(0.015625)\"/>\n       <path id=\"DejaVuSans-6f\" d=\"M 1959 3097 \nQ 1497 3097 1228 2736 \nQ 959 2375 959 1747 \nQ 959 1119 1226 758 \nQ 1494 397 1959 397 \nQ 2419 397 2687 759 \nQ 2956 1122 2956 1747 \nQ 2956 2369 2687 2733 \nQ 2419 3097 1959 3097 \nz\nM 1959 3584 \nQ 2709 3584 3137 3096 \nQ 3566 2609 3566 1747 \nQ 3566 888 3137 398 \nQ 2709 -91 1959 -91 \nQ 1206 -91 779 398 \nQ 353 888 353 1747 \nQ 353 2609 779 3096 \nQ 1206 3584 1959 3584 \nz\n\" transform=\"scale(0.015625)\"/>\n       <path id=\"DejaVuSans-61\" d=\"M 2194 1759 \nQ 1497 1759 1228 1600 \nQ 959 1441 959 1056 \nQ 959 750 1161 570 \nQ 1363 391 1709 391 \nQ 2188 391 2477 730 \nQ 2766 1069 2766 1631 \nL 2766 1759 \nL 2194 1759 \nz\nM 3341 1997 \nL 3341 0 \nL 2766 0 \nL 2766 531 \nQ 2569 213 2275 61 \nQ 1981 -91 1556 -91 \nQ 1019 -91 701 211 \nQ 384 513 384 1019 \nQ 384 1609 779 1909 \nQ 1175 2209 1959 2209 \nL 2766 2209 \nL 2766 2266 \nQ 2766 2663 2505 2880 \nQ 2244 3097 1772 3097 \nQ 1472 3097 1187 3025 \nQ 903 2953 641 2809 \nL 641 3341 \nQ 956 3463 1253 3523 \nQ 1550 3584 1831 3584 \nQ 2591 3584 2966 3190 \nQ 3341 2797 3341 1997 \nz\n\" transform=\"scale(0.015625)\"/>\n       <path id=\"DejaVuSans-6c\" d=\"M 603 4863 \nL 1178 4863 \nL 1178 0 \nL 603 0 \nL 603 4863 \nz\n\" transform=\"scale(0.015625)\"/>\n      </defs>\n      <use xlink:href=\"#DejaVuSans-74\"/>\n      <use xlink:href=\"#DejaVuSans-6f\" x=\"39.208984\"/>\n      <use xlink:href=\"#DejaVuSans-74\" x=\"100.390625\"/>\n      <use xlink:href=\"#DejaVuSans-61\" x=\"139.599609\"/>\n      <use xlink:href=\"#DejaVuSans-6c\" x=\"200.878906\"/>\n     </g>\n    </g>\n   </g>\n   <g id=\"matplotlib.axis_2\">\n    <g id=\"ytick_1\">\n     <g id=\"line2d_11\">\n      <path d=\"M 48 256.090909 \nL 361.2 256.090909 \n\" clip-path=\"url(#p42df382904)\" style=\"fill: none; stroke: #cbcbcb\"/>\n     </g>\n     <g id=\"line2d_12\"/>\n     <g id=\"text_7\">\n      <!-- 2 -->\n      <g style=\"fill: #ffffff\" transform=\"translate(35.5925 261.409815)scale(0.14 -0.14)\">\n       <use xlink:href=\"#DejaVuSans-32\"/>\n      </g>\n     </g>\n    </g>\n    <g id=\"ytick_2\">\n     <g id=\"line2d_13\">\n      <path d=\"M 48 197.181818 \nL 361.2 197.181818 \n\" clip-path=\"url(#p42df382904)\" style=\"fill: none; stroke: #cbcbcb\"/>\n     </g>\n     <g id=\"line2d_14\"/>\n     <g id=\"text_8\">\n      <!-- 4 -->\n      <g style=\"fill: #ffffff\" transform=\"translate(35.5925 202.500724)scale(0.14 -0.14)\">\n       <use xlink:href=\"#DejaVuSans-34\"/>\n      </g>\n     </g>\n    </g>\n    <g id=\"ytick_3\">\n     <g id=\"line2d_15\">\n      <path d=\"M 48 138.272727 \nL 361.2 138.272727 \n\" clip-path=\"url(#p42df382904)\" style=\"fill: none; stroke: #cbcbcb\"/>\n     </g>\n     <g id=\"line2d_16\"/>\n     <g id=\"text_9\">\n      <!-- 6 -->\n      <g style=\"fill: #ffffff\" transform=\"translate(35.5925 143.591634)scale(0.14 -0.14)\">\n       <defs>\n        <path id=\"DejaVuSans-36\" d=\"M 2113 2584 \nQ 1688 2584 1439 2293 \nQ 1191 2003 1191 1497 \nQ 1191 994 1439 701 \nQ 1688 409 2113 409 \nQ 2538 409 2786 701 \nQ 3034 994 3034 1497 \nQ 3034 2003 2786 2293 \nQ 2538 2584 2113 2584 \nz\nM 3366 4563 \nL 3366 3988 \nQ 3128 4100 2886 4159 \nQ 2644 4219 2406 4219 \nQ 1781 4219 1451 3797 \nQ 1122 3375 1075 2522 \nQ 1259 2794 1537 2939 \nQ 1816 3084 2150 3084 \nQ 2853 3084 3261 2657 \nQ 3669 2231 3669 1497 \nQ 3669 778 3244 343 \nQ 2819 -91 2113 -91 \nQ 1303 -91 875 529 \nQ 447 1150 447 2328 \nQ 447 3434 972 4092 \nQ 1497 4750 2381 4750 \nQ 2619 4750 2861 4703 \nQ 3103 4656 3366 4563 \nz\n\" transform=\"scale(0.015625)\"/>\n       </defs>\n       <use xlink:href=\"#DejaVuSans-36\"/>\n      </g>\n     </g>\n    </g>\n    <g id=\"ytick_4\">\n     <g id=\"line2d_17\">\n      <path d=\"M 48 79.363636 \nL 361.2 79.363636 \n\" clip-path=\"url(#p42df382904)\" style=\"fill: none; stroke: #cbcbcb\"/>\n     </g>\n     <g id=\"line2d_18\"/>\n     <g id=\"text_10\">\n      <!-- 8 -->\n      <g style=\"fill: #ffffff\" transform=\"translate(35.5925 84.682543)scale(0.14 -0.14)\">\n       <defs>\n        <path id=\"DejaVuSans-38\" d=\"M 2034 2216 \nQ 1584 2216 1326 1975 \nQ 1069 1734 1069 1313 \nQ 1069 891 1326 650 \nQ 1584 409 2034 409 \nQ 2484 409 2743 651 \nQ 3003 894 3003 1313 \nQ 3003 1734 2745 1975 \nQ 2488 2216 2034 2216 \nz\nM 1403 2484 \nQ 997 2584 770 2862 \nQ 544 3141 544 3541 \nQ 544 4100 942 4425 \nQ 1341 4750 2034 4750 \nQ 2731 4750 3128 4425 \nQ 3525 4100 3525 3541 \nQ 3525 3141 3298 2862 \nQ 3072 2584 2669 2484 \nQ 3125 2378 3379 2068 \nQ 3634 1759 3634 1313 \nQ 3634 634 3220 271 \nQ 2806 -91 2034 -91 \nQ 1263 -91 848 271 \nQ 434 634 434 1313 \nQ 434 1759 690 2068 \nQ 947 2378 1403 2484 \nz\nM 1172 3481 \nQ 1172 3119 1398 2916 \nQ 1625 2713 2034 2713 \nQ 2441 2713 2670 2916 \nQ 2900 3119 2900 3481 \nQ 2900 3844 2670 4047 \nQ 2441 4250 2034 4250 \nQ 1625 4250 1398 4047 \nQ 1172 3844 1172 3481 \nz\n\" transform=\"scale(0.015625)\"/>\n       </defs>\n       <use xlink:href=\"#DejaVuSans-38\"/>\n      </g>\n     </g>\n    </g>\n    <g id=\"ytick_5\">\n     <g id=\"line2d_19\">\n      <path d=\"M 48 20.454545 \nL 361.2 20.454545 \n\" clip-path=\"url(#p42df382904)\" style=\"fill: none; stroke: #cbcbcb\"/>\n     </g>\n     <g id=\"line2d_20\"/>\n     <g id=\"text_11\">\n      <!-- 10 -->\n      <g style=\"fill: #ffffff\" transform=\"translate(26.685 25.773452)scale(0.14 -0.14)\">\n       <use xlink:href=\"#DejaVuSans-31\"/>\n       <use xlink:href=\"#DejaVuSans-30\" x=\"63.623047\"/>\n      </g>\n     </g>\n    </g>\n    <g id=\"text_12\">\n     <!-- tip -->\n     <g style=\"fill: #ffffff\" transform=\"translate(19.3575 163.4375)rotate(-90)scale(0.16 -0.16)\">\n      <defs>\n       <path id=\"DejaVuSans-69\" d=\"M 603 3500 \nL 1178 3500 \nL 1178 0 \nL 603 0 \nL 603 3500 \nz\nM 603 4863 \nL 1178 4863 \nL 1178 4134 \nL 603 4134 \nL 603 4863 \nz\n\" transform=\"scale(0.015625)\"/>\n       <path id=\"DejaVuSans-70\" d=\"M 1159 525 \nL 1159 -1331 \nL 581 -1331 \nL 581 3500 \nL 1159 3500 \nL 1159 2969 \nQ 1341 3281 1617 3432 \nQ 1894 3584 2278 3584 \nQ 2916 3584 3314 3078 \nQ 3713 2572 3713 1747 \nQ 3713 922 3314 415 \nQ 2916 -91 2278 -91 \nQ 1894 -91 1617 61 \nQ 1341 213 1159 525 \nz\nM 3116 1747 \nQ 3116 2381 2855 2742 \nQ 2594 3103 2138 3103 \nQ 1681 3103 1420 2742 \nQ 1159 2381 1159 1747 \nQ 1159 1113 1420 752 \nQ 1681 391 2138 391 \nQ 2594 391 2855 752 \nQ 3116 1113 3116 1747 \nz\n\" transform=\"scale(0.015625)\"/>\n      </defs>\n      <use xlink:href=\"#DejaVuSans-74\"/>\n      <use xlink:href=\"#DejaVuSans-69\" x=\"39.208984\"/>\n      <use xlink:href=\"#DejaVuSans-70\" x=\"66.992188\"/>\n     </g>\n    </g>\n   </g>\n   <g id=\"PathCollection_1\">\n    <defs>\n     <path id=\"m90c90bb864\" d=\"M 0 2.236068 \nC 0.593012 2.236068 1.161816 2.000462 1.581139 1.581139 \nC 2.000462 1.161816 2.236068 0.593012 2.236068 0 \nC 2.236068 -0.593012 2.000462 -1.161816 1.581139 -1.581139 \nC 1.161816 -2.000462 0.593012 -2.236068 0 -2.236068 \nC -0.593012 -2.236068 -1.161816 -2.000462 -1.581139 -1.581139 \nC -2.000462 -1.161816 -2.236068 -0.593012 -2.236068 0 \nC -2.236068 0.593012 -2.000462 1.161816 -1.581139 1.581139 \nC -1.161816 2.000462 -0.593012 2.236068 0 2.236068 \nz\n\" style=\"stroke: #001e42; stroke-opacity: 0.7; stroke-width: 0.5\"/>\n    </defs>\n    <g clip-path=\"url(#p42df382904)\">\n     <use xlink:href=\"#m90c90bb864\" x=\"145.256968\" y=\"285.250909\" style=\"fill: #001e42; fill-opacity: 0.7; stroke: #001e42; stroke-opacity: 0.7; stroke-width: 0.5\"/>\n     <use xlink:href=\"#m90c90bb864\" x=\"105.595544\" y=\"266.105455\" style=\"fill: #001e42; fill-opacity: 0.7; stroke: #001e42; stroke-opacity: 0.7; stroke-width: 0.5\"/>\n     <use xlink:href=\"#m90c90bb864\" x=\"169.232746\" y=\"211.909091\" style=\"fill: #001e42; fill-opacity: 0.7; stroke: #001e42; stroke-opacity: 0.7; stroke-width: 0.5\"/>\n     <use xlink:href=\"#m90c90bb864\" x=\"185.156956\" y=\"217.505455\" style=\"fill: #001e42; fill-opacity: 0.7; stroke: #001e42; stroke-opacity: 0.7; stroke-width: 0.5\"/>\n     <use xlink:href=\"#m90c90bb864\" x=\"190.584309\" y=\"208.669091\" style=\"fill: #001e42; fill-opacity: 0.7; stroke: #001e42; stroke-opacity: 0.7; stroke-width: 0.5\"/>\n     <use xlink:href=\"#m90c90bb864\" x=\"194.759196\" y=\"176.269091\" style=\"fill: #001e42; fill-opacity: 0.7; stroke: #001e42; stroke-opacity: 0.7; stroke-width: 0.5\"/>\n     <use xlink:href=\"#m90c90bb864\" x=\"96.23187\" y=\"256.090909\" style=\"fill: #001e42; fill-opacity: 0.7; stroke: #001e42; stroke-opacity: 0.7; stroke-width: 0.5\"/>\n     <use xlink:href=\"#m90c90bb864\" x=\"204.242153\" y=\"223.101818\" style=\"fill: #001e42; fill-opacity: 0.7; stroke: #001e42; stroke-opacity: 0.7; stroke-width: 0.5\"/>\n     <use xlink:href=\"#m90c90bb864\" x=\"133.626926\" y=\"257.269091\" style=\"fill: #001e42; fill-opacity: 0.7; stroke: #001e42; stroke-opacity: 0.7; stroke-width: 0.5\"/>\n     <use xlink:href=\"#m90c90bb864\" x=\"132.076254\" y=\"219.861818\" style=\"fill: #001e42; fill-opacity: 0.7; stroke: #001e42; stroke-opacity: 0.7; stroke-width: 0.5\"/>\n     <use xlink:href=\"#m90c90bb864\" x=\"105.178055\" y=\"264.632727\" style=\"fill: #001e42; fill-opacity: 0.7; stroke: #001e42; stroke-opacity: 0.7; stroke-width: 0.5\"/>\n     <use xlink:href=\"#m90c90bb864\" x=\"254.22151\" y=\"167.727273\" style=\"fill: #001e42; fill-opacity: 0.7; stroke: #001e42; stroke-opacity: 0.7; stroke-width: 0.5\"/>\n     <use xlink:href=\"#m90c90bb864\" x=\"135.893293\" y=\"268.756364\" style=\"fill: #001e42; fill-opacity: 0.7; stroke: #001e42; stroke-opacity: 0.7; stroke-width: 0.5\"/>\n     <use xlink:href=\"#m90c90bb864\" x=\"153.845306\" y=\"226.636364\" style=\"fill: #001e42; fill-opacity: 0.7; stroke: #001e42; stroke-opacity: 0.7; stroke-width: 0.5\"/>\n     <use xlink:href=\"#m90c90bb864\" x=\"132.37446\" y=\"226.047273\" style=\"fill: #001e42; fill-opacity: 0.7; stroke: #001e42; stroke-opacity: 0.7; stroke-width: 0.5\"/>\n     <use xlink:href=\"#m90c90bb864\" x=\"172.632296\" y=\"199.538182\" style=\"fill: #001e42; fill-opacity: 0.7; stroke: #001e42; stroke-opacity: 0.7; stroke-width: 0.5\"/>\n     <use xlink:href=\"#m90c90bb864\" x=\"105.535903\" y=\"265.810909\" style=\"fill: #001e42; fill-opacity: 0.7; stroke: #001e42; stroke-opacity: 0.7; stroke-width: 0.5\"/>\n     <use xlink:href=\"#m90c90bb864\" x=\"141.082081\" y=\"205.723636\" style=\"fill: #001e42; fill-opacity: 0.7; stroke: #001e42; stroke-opacity: 0.7; stroke-width: 0.5\"/>\n     <use xlink:href=\"#m90c90bb864\" x=\"145.137685\" y=\"211.909091\" style=\"fill: #001e42; fill-opacity: 0.7; stroke: #001e42; stroke-opacity: 0.7; stroke-width: 0.5\"/>\n     <use xlink:href=\"#m90c90bb864\" x=\"167.085661\" y=\"216.327273\" style=\"fill: #001e42; fill-opacity: 0.7; stroke: #001e42; stroke-opacity: 0.7; stroke-width: 0.5\"/>\n     <use xlink:href=\"#m90c90bb864\" x=\"150.803603\" y=\"194.825455\" style=\"fill: #001e42; fill-opacity: 0.7; stroke: #001e42; stroke-opacity: 0.7; stroke-width: 0.5\"/>\n     <use xlink:href=\"#m90c90bb864\" x=\"164.938576\" y=\"234\" style=\"fill: #001e42; fill-opacity: 0.7; stroke: #001e42; stroke-opacity: 0.7; stroke-width: 0.5\"/>\n     <use xlink:href=\"#m90c90bb864\" x=\"137.980737\" y=\"249.316364\" style=\"fill: #001e42; fill-opacity: 0.7; stroke: #001e42; stroke-opacity: 0.7; stroke-width: 0.5\"/>\n     <use xlink:href=\"#m90c90bb864\" x=\"279.032266\" y=\"91.734545\" style=\"fill: #001e42; fill-opacity: 0.7; stroke: #001e42; stroke-opacity: 0.7; stroke-width: 0.5\"/>\n     <use xlink:href=\"#m90c90bb864\" x=\"162.135438\" y=\"221.334545\" style=\"fill: #001e42; fill-opacity: 0.7; stroke: #001e42; stroke-opacity: 0.7; stroke-width: 0.5\"/>\n     <use xlink:href=\"#m90c90bb864\" x=\"150.147549\" y=\"246.076364\" style=\"fill: #001e42; fill-opacity: 0.7; stroke: #001e42; stroke-opacity: 0.7; stroke-width: 0.5\"/>\n     <use xlink:href=\"#m90c90bb864\" x=\"123.666839\" y=\"256.090909\" style=\"fill: #001e42; fill-opacity: 0.7; stroke: #001e42; stroke-opacity: 0.7; stroke-width: 0.5\"/>\n     <use xlink:href=\"#m90c90bb864\" x=\"119.611235\" y=\"256.090909\" style=\"fill: #001e42; fill-opacity: 0.7; stroke: #001e42; stroke-opacity: 0.7; stroke-width: 0.5\"/>\n     <use xlink:href=\"#m90c90bb864\" x=\"173.347991\" y=\"188.345455\" style=\"fill: #001e42; fill-opacity: 0.7; stroke: #001e42; stroke-opacity: 0.7; stroke-width: 0.5\"/>\n     <use xlink:href=\"#m90c90bb864\" x=\"161.121537\" y=\"226.636364\" style=\"fill: #001e42; fill-opacity: 0.7; stroke: #001e42; stroke-opacity: 0.7; stroke-width: 0.5\"/>\n     <use xlink:href=\"#m90c90bb864\" x=\"100.883886\" y=\"272.290909\" style=\"fill: #001e42; fill-opacity: 0.7; stroke: #001e42; stroke-opacity: 0.7; stroke-width: 0.5\"/>\n     <use xlink:href=\"#m90c90bb864\" x=\"153.368176\" y=\"241.363636\" style=\"fill: #001e42; fill-opacity: 0.7; stroke: #001e42; stroke-opacity: 0.7; stroke-width: 0.5\"/>\n     <use xlink:href=\"#m90c90bb864\" x=\"133.746209\" y=\"226.636364\" style=\"fill: #001e42; fill-opacity: 0.7; stroke: #001e42; stroke-opacity: 0.7; stroke-width: 0.5\"/>\n     <use xlink:href=\"#m90c90bb864\" x=\"167.324226\" y=\"242.836364\" style=\"fill: #001e42; fill-opacity: 0.7; stroke: #001e42; stroke-opacity: 0.7; stroke-width: 0.5\"/>\n     <use xlink:href=\"#m90c90bb864\" x=\"149.968626\" y=\"218.683636\" style=\"fill: #001e42; fill-opacity: 0.7; stroke: #001e42; stroke-opacity: 0.7; stroke-width: 0.5\"/>\n     <use xlink:href=\"#m90c90bb864\" x=\"187.423323\" y=\"208.963636\" style=\"fill: #001e42; fill-opacity: 0.7; stroke: #001e42; stroke-opacity: 0.7; stroke-width: 0.5\"/>\n     <use xlink:href=\"#m90c90bb864\" x=\"141.201363\" y=\"256.090909\" style=\"fill: #001e42; fill-opacity: 0.7; stroke: #001e42; stroke-opacity: 0.7; stroke-width: 0.5\"/>\n     <use xlink:href=\"#m90c90bb864\" x=\"144.89912\" y=\"224.574545\" style=\"fill: #001e42; fill-opacity: 0.7; stroke: #001e42; stroke-opacity: 0.7; stroke-width: 0.5\"/>\n     <use xlink:href=\"#m90c90bb864\" x=\"155.395978\" y=\"246.96\" style=\"fill: #001e42; fill-opacity: 0.7; stroke: #001e42; stroke-opacity: 0.7; stroke-width: 0.5\"/>\n     <use xlink:href=\"#m90c90bb864\" x=\"230.424656\" y=\"167.727273\" style=\"fill: #001e42; fill-opacity: 0.7; stroke: #001e42; stroke-opacity: 0.7; stroke-width: 0.5\"/>\n     <use xlink:href=\"#m90c90bb864\" x=\"139.59105\" y=\"249.021818\" style=\"fill: #001e42; fill-opacity: 0.7; stroke: #001e42; stroke-opacity: 0.7; stroke-width: 0.5\"/>\n     <use xlink:href=\"#m90c90bb864\" x=\"148.060106\" y=\"240.185455\" style=\"fill: #001e42; fill-opacity: 0.7; stroke: #001e42; stroke-opacity: 0.7; stroke-width: 0.5\"/>\n     <use xlink:href=\"#m90c90bb864\" x=\"127.06639\" y=\"224.869091\" style=\"fill: #001e42; fill-opacity: 0.7; stroke: #001e42; stroke-opacity: 0.7; stroke-width: 0.5\"/>\n     <use xlink:href=\"#m90c90bb864\" x=\"101.659222\" y=\"276.12\" style=\"fill: #001e42; fill-opacity: 0.7; stroke: #001e42; stroke-opacity: 0.7; stroke-width: 0.5\"/>\n     <use xlink:href=\"#m90c90bb864\" x=\"225.235869\" y=\"150.054545\" style=\"fill: #001e42; fill-opacity: 0.7; stroke: #001e42; stroke-opacity: 0.7; stroke-width: 0.5\"/>\n     <use xlink:href=\"#m90c90bb864\" x=\"153.010329\" y=\"226.636364\" style=\"fill: #001e42; fill-opacity: 0.7; stroke: #001e42; stroke-opacity: 0.7; stroke-width: 0.5\"/>\n     <use xlink:href=\"#m90c90bb864\" x=\"176.508977\" y=\"167.727273\" style=\"fill: #001e42; fill-opacity: 0.7; stroke: #001e42; stroke-opacity: 0.7; stroke-width: 0.5\"/>\n     <use xlink:href=\"#m90c90bb864\" x=\"237.164116\" y=\"138.272727\" style=\"fill: #001e42; fill-opacity: 0.7; stroke: #001e42; stroke-opacity: 0.7; stroke-width: 0.5\"/>\n     <use xlink:href=\"#m90c90bb864\" x=\"214.202239\" y=\"254.618182\" style=\"fill: #001e42; fill-opacity: 0.7; stroke: #001e42; stroke-opacity: 0.7; stroke-width: 0.5\"/>\n     <use xlink:href=\"#m90c90bb864\" x=\"151.519298\" y=\"226.636364\" style=\"fill: #001e42; fill-opacity: 0.7; stroke: #001e42; stroke-opacity: 0.7; stroke-width: 0.5\"/>\n     <use xlink:href=\"#m90c90bb864\" x=\"118.716617\" y=\"241.363636\" style=\"fill: #001e42; fill-opacity: 0.7; stroke: #001e42; stroke-opacity: 0.7; stroke-width: 0.5\"/>\n     <use xlink:href=\"#m90c90bb864\" x=\"105.297338\" y=\"238.418182\" style=\"fill: #001e42; fill-opacity: 0.7; stroke: #001e42; stroke-opacity: 0.7; stroke-width: 0.5\"/>\n     <use xlink:href=\"#m90c90bb864\" x=\"251.537655\" y=\"161.836364\" style=\"fill: #001e42; fill-opacity: 0.7; stroke: #001e42; stroke-opacity: 0.7; stroke-width: 0.5\"/>\n     <use xlink:href=\"#m90c90bb864\" x=\"103.209895\" y=\"269.050909\" style=\"fill: #001e42; fill-opacity: 0.7; stroke: #001e42; stroke-opacity: 0.7; stroke-width: 0.5\"/>\n     <use xlink:href=\"#m90c90bb864\" x=\"196.369509\" y=\"187.167273\" style=\"fill: #001e42; fill-opacity: 0.7; stroke: #001e42; stroke-opacity: 0.7; stroke-width: 0.5\"/>\n     <use xlink:href=\"#m90c90bb864\" x=\"160.167277\" y=\"211.614545\" style=\"fill: #001e42; fill-opacity: 0.7; stroke: #001e42; stroke-opacity: 0.7; stroke-width: 0.5\"/>\n     <use xlink:href=\"#m90c90bb864\" x=\"270.622851\" y=\"226.636364\" style=\"fill: #001e42; fill-opacity: 0.7; stroke: #001e42; stroke-opacity: 0.7; stroke-width: 0.5\"/>\n     <use xlink:href=\"#m90c90bb864\" x=\"201.439014\" y=\"270.818182\" style=\"fill: #001e42; fill-opacity: 0.7; stroke: #001e42; stroke-opacity: 0.7; stroke-width: 0.5\"/>\n     <use xlink:href=\"#m90c90bb864\" x=\"110.963256\" y=\"263.16\" style=\"fill: #001e42; fill-opacity: 0.7; stroke: #001e42; stroke-opacity: 0.7; stroke-width: 0.5\"/>\n     <use xlink:href=\"#m90c90bb864\" x=\"331.814762\" y=\"116.770909\" style=\"fill: #001e42; fill-opacity: 0.7; stroke: #001e42; stroke-opacity: 0.7; stroke-width: 0.5\"/>\n     <use xlink:href=\"#m90c90bb864\" x=\"164.938576\" y=\"220.450909\" style=\"fill: #001e42; fill-opacity: 0.7; stroke: #001e42; stroke-opacity: 0.7; stroke-width: 0.5\"/>\n     <use xlink:href=\"#m90c90bb864\" x=\"126.291054\" y=\"256.090909\" style=\"fill: #001e42; fill-opacity: 0.7; stroke: #001e42; stroke-opacity: 0.7; stroke-width: 0.5\"/>\n     <use xlink:href=\"#m90c90bb864\" x=\"109.651148\" y=\"256.68\" style=\"fill: #001e42; fill-opacity: 0.7; stroke: #001e42; stroke-opacity: 0.7; stroke-width: 0.5\"/>\n     <use xlink:href=\"#m90c90bb864\" x=\"153.010329\" y=\"204.250909\" style=\"fill: #001e42; fill-opacity: 0.7; stroke: #001e42; stroke-opacity: 0.7; stroke-width: 0.5\"/>\n     <use xlink:href=\"#m90c90bb864\" x=\"148.835442\" y=\"237.24\" style=\"fill: #001e42; fill-opacity: 0.7; stroke: #001e42; stroke-opacity: 0.7; stroke-width: 0.5\"/>\n     <use xlink:href=\"#m90c90bb864\" x=\"163.68611\" y=\"222.218182\" style=\"fill: #001e42; fill-opacity: 0.7; stroke: #001e42; stroke-opacity: 0.7; stroke-width: 0.5\"/>\n     <use xlink:href=\"#m90c90bb864\" x=\"142.036341\" y=\"242.247273\" style=\"fill: #001e42; fill-opacity: 0.7; stroke: #001e42; stroke-opacity: 0.7; stroke-width: 0.5\"/>\n     <use xlink:href=\"#m90c90bb864\" x=\"62.236364\" y=\"285.545455\" style=\"fill: #001e42; fill-opacity: 0.7; stroke: #001e42; stroke-opacity: 0.7; stroke-width: 0.5\"/>\n     <use xlink:href=\"#m90c90bb864\" x=\"164.580729\" y=\"255.796364\" style=\"fill: #001e42; fill-opacity: 0.7; stroke: #001e42; stroke-opacity: 0.7; stroke-width: 0.5\"/>\n     <use xlink:href=\"#m90c90bb864\" x=\"133.448002\" y=\"253.44\" style=\"fill: #001e42; fill-opacity: 0.7; stroke: #001e42; stroke-opacity: 0.7; stroke-width: 0.5\"/>\n     <use xlink:href=\"#m90c90bb864\" x=\"115.615272\" y=\"256.974545\" style=\"fill: #001e42; fill-opacity: 0.7; stroke: #001e42; stroke-opacity: 0.7; stroke-width: 0.5\"/>\n     <use xlink:href=\"#m90c90bb864\" x=\"145.734098\" y=\"226.636364\" style=\"fill: #001e42; fill-opacity: 0.7; stroke: #001e42; stroke-opacity: 0.7; stroke-width: 0.5\"/>\n     <use xlink:href=\"#m90c90bb864\" x=\"204.12287\" y=\"222.512727\" style=\"fill: #001e42; fill-opacity: 0.7; stroke: #001e42; stroke-opacity: 0.7; stroke-width: 0.5\"/>\n     <use xlink:href=\"#m90c90bb864\" x=\"194.699554\" y=\"167.727273\" style=\"fill: #001e42; fill-opacity: 0.7; stroke: #001e42; stroke-opacity: 0.7; stroke-width: 0.5\"/>\n     <use xlink:href=\"#m90c90bb864\" x=\"131.778048\" y=\"250.2\" style=\"fill: #001e42; fill-opacity: 0.7; stroke: #001e42; stroke-opacity: 0.7; stroke-width: 0.5\"/>\n     <use xlink:href=\"#m90c90bb864\" x=\"106.609445\" y=\"278.181818\" style=\"fill: #001e42; fill-opacity: 0.7; stroke: #001e42; stroke-opacity: 0.7; stroke-width: 0.5\"/>\n     <use xlink:href=\"#m90c90bb864\" x=\"150.803603\" y=\"224.28\" style=\"fill: #001e42; fill-opacity: 0.7; stroke: #001e42; stroke-opacity: 0.7; stroke-width: 0.5\"/>\n     <use xlink:href=\"#m90c90bb864\" x=\"206.150672\" y=\"197.181818\" style=\"fill: #001e42; fill-opacity: 0.7; stroke: #001e42; stroke-opacity: 0.7; stroke-width: 0.5\"/>\n     <use xlink:href=\"#m90c90bb864\" x=\"179.669962\" y=\"226.636364\" style=\"fill: #001e42; fill-opacity: 0.7; stroke: #001e42; stroke-opacity: 0.7; stroke-width: 0.5\"/>\n     <use xlink:href=\"#m90c90bb864\" x=\"147.046205\" y=\"235.178182\" style=\"fill: #001e42; fill-opacity: 0.7; stroke: #001e42; stroke-opacity: 0.7; stroke-width: 0.5\"/>\n     <use xlink:href=\"#m90c90bb864\" x=\"159.869071\" y=\"226.636364\" style=\"fill: #001e42; fill-opacity: 0.7; stroke: #001e42; stroke-opacity: 0.7; stroke-width: 0.5\"/>\n     <use xlink:href=\"#m90c90bb864\" x=\"143.288807\" y=\"214.854545\" style=\"fill: #001e42; fill-opacity: 0.7; stroke: #001e42; stroke-opacity: 0.7; stroke-width: 0.5\"/>\n     <use xlink:href=\"#m90c90bb864\" x=\"103.985231\" y=\"261.098182\" style=\"fill: #001e42; fill-opacity: 0.7; stroke: #001e42; stroke-opacity: 0.7; stroke-width: 0.5\"/>\n     <use xlink:href=\"#m90c90bb864\" x=\"238.834071\" y=\"167.727273\" style=\"fill: #001e42; fill-opacity: 0.7; stroke: #001e42; stroke-opacity: 0.7; stroke-width: 0.5\"/>\n     <use xlink:href=\"#m90c90bb864\" x=\"139.233203\" y=\"255.207273\" style=\"fill: #001e42; fill-opacity: 0.7; stroke: #001e42; stroke-opacity: 0.7; stroke-width: 0.5\"/>\n     <use xlink:href=\"#m90c90bb864\" x=\"251.656937\" y=\"162.72\" style=\"fill: #001e42; fill-opacity: 0.7; stroke: #001e42; stroke-opacity: 0.7; stroke-width: 0.5\"/>\n     <use xlink:href=\"#m90c90bb864\" x=\"121.639037\" y=\"256.090909\" style=\"fill: #001e42; fill-opacity: 0.7; stroke: #001e42; stroke-opacity: 0.7; stroke-width: 0.5\"/>\n     <use xlink:href=\"#m90c90bb864\" x=\"152.950687\" y=\"197.181818\" style=\"fill: #001e42; fill-opacity: 0.7; stroke: #001e42; stroke-opacity: 0.7; stroke-width: 0.5\"/>\n     <use xlink:href=\"#m90c90bb864\" x=\"191.300004\" y=\"142.690909\" style=\"fill: #001e42; fill-opacity: 0.7; stroke: #001e42; stroke-opacity: 0.7; stroke-width: 0.5\"/>\n     <use xlink:href=\"#m90c90bb864\" x=\"170.127364\" y=\"226.636364\" style=\"fill: #001e42; fill-opacity: 0.7; stroke: #001e42; stroke-opacity: 0.7; stroke-width: 0.5\"/>\n     <use xlink:href=\"#m90c90bb864\" x=\"216.707171\" y=\"226.636364\" style=\"fill: #001e42; fill-opacity: 0.7; stroke: #001e42; stroke-opacity: 0.7; stroke-width: 0.5\"/>\n     <use xlink:href=\"#m90c90bb864\" x=\"178.059649\" y=\"211.909091\" style=\"fill: #001e42; fill-opacity: 0.7; stroke: #001e42; stroke-opacity: 0.7; stroke-width: 0.5\"/>\n     <use xlink:href=\"#m90c90bb864\" x=\"78.220216\" y=\"285.545455\" style=\"fill: #001e42; fill-opacity: 0.7; stroke: #001e42; stroke-opacity: 0.7; stroke-width: 0.5\"/>\n     <use xlink:href=\"#m90c90bb864\" x=\"141.261005\" y=\"188.345455\" style=\"fill: #001e42; fill-opacity: 0.7; stroke: #001e42; stroke-opacity: 0.7; stroke-width: 0.5\"/>\n     <use xlink:href=\"#m90c90bb864\" x=\"179.610321\" y=\"219.272727\" style=\"fill: #001e42; fill-opacity: 0.7; stroke: #001e42; stroke-opacity: 0.7; stroke-width: 0.5\"/>\n     <use xlink:href=\"#m90c90bb864\" x=\"283.505359\" y=\"175.68\" style=\"fill: #001e42; fill-opacity: 0.7; stroke: #001e42; stroke-opacity: 0.7; stroke-width: 0.5\"/>\n     <use xlink:href=\"#m90c90bb864\" x=\"206.627802\" y=\"197.181818\" style=\"fill: #001e42; fill-opacity: 0.7; stroke: #001e42; stroke-opacity: 0.7; stroke-width: 0.5\"/>\n     <use xlink:href=\"#m90c90bb864\" x=\"115.674913\" y=\"270.818182\" style=\"fill: #001e42; fill-opacity: 0.7; stroke: #001e42; stroke-opacity: 0.7; stroke-width: 0.5\"/>\n     <use xlink:href=\"#m90c90bb864\" x=\"169.232746\" y=\"226.636364\" style=\"fill: #001e42; fill-opacity: 0.7; stroke: #001e42; stroke-opacity: 0.7; stroke-width: 0.5\"/>\n     <use xlink:href=\"#m90c90bb864\" x=\"118.239487\" y=\"270.818182\" style=\"fill: #001e42; fill-opacity: 0.7; stroke: #001e42; stroke-opacity: 0.7; stroke-width: 0.5\"/>\n     <use xlink:href=\"#m90c90bb864\" x=\"111.619309\" y=\"241.363636\" style=\"fill: #001e42; fill-opacity: 0.7; stroke: #001e42; stroke-opacity: 0.7; stroke-width: 0.5\"/>\n     <use xlink:href=\"#m90c90bb864\" x=\"135.654728\" y=\"226.636364\" style=\"fill: #001e42; fill-opacity: 0.7; stroke: #001e42; stroke-opacity: 0.7; stroke-width: 0.5\"/>\n     <use xlink:href=\"#m90c90bb864\" x=\"308.13719\" y=\"241.363636\" style=\"fill: #001e42; fill-opacity: 0.7; stroke: #001e42; stroke-opacity: 0.7; stroke-width: 0.5\"/>\n     <use xlink:href=\"#m90c90bb864\" x=\"177.64216\" y=\"212.498182\" style=\"fill: #001e42; fill-opacity: 0.7; stroke: #001e42; stroke-opacity: 0.7; stroke-width: 0.5\"/>\n     <use xlink:href=\"#m90c90bb864\" x=\"168.695974\" y=\"194.825455\" style=\"fill: #001e42; fill-opacity: 0.7; stroke: #001e42; stroke-opacity: 0.7; stroke-width: 0.5\"/>\n     <use xlink:href=\"#m90c90bb864\" x=\"135.535446\" y=\"266.694545\" style=\"fill: #001e42; fill-opacity: 0.7; stroke: #001e42; stroke-opacity: 0.7; stroke-width: 0.5\"/>\n     <use xlink:href=\"#m90c90bb864\" x=\"166.131401\" y=\"195.414545\" style=\"fill: #001e42; fill-opacity: 0.7; stroke: #001e42; stroke-opacity: 0.7; stroke-width: 0.5\"/>\n     <use xlink:href=\"#m90c90bb864\" x=\"194.282066\" y=\"188.64\" style=\"fill: #001e42; fill-opacity: 0.7; stroke: #001e42; stroke-opacity: 0.7; stroke-width: 0.5\"/>\n     <use xlink:href=\"#m90c90bb864\" x=\"152.712122\" y=\"204.250909\" style=\"fill: #001e42; fill-opacity: 0.7; stroke: #001e42; stroke-opacity: 0.7; stroke-width: 0.5\"/>\n     <use xlink:href=\"#m90c90bb864\" x=\"129.273116\" y=\"197.181818\" style=\"fill: #001e42; fill-opacity: 0.7; stroke: #001e42; stroke-opacity: 0.7; stroke-width: 0.5\"/>\n     <use xlink:href=\"#m90c90bb864\" x=\"127.424237\" y=\"226.636364\" style=\"fill: #001e42; fill-opacity: 0.7; stroke: #001e42; stroke-opacity: 0.7; stroke-width: 0.5\"/>\n     <use xlink:href=\"#m90c90bb864\" x=\"87.166401\" y=\"285.545455\" style=\"fill: #001e42; fill-opacity: 0.7; stroke: #001e42; stroke-opacity: 0.7; stroke-width: 0.5\"/>\n     <use xlink:href=\"#m90c90bb864\" x=\"270.980698\" y=\"197.181818\" style=\"fill: #001e42; fill-opacity: 0.7; stroke: #001e42; stroke-opacity: 0.7; stroke-width: 0.5\"/>\n     <use xlink:href=\"#m90c90bb864\" x=\"186.76727\" y=\"239.890909\" style=\"fill: #001e42; fill-opacity: 0.7; stroke: #001e42; stroke-opacity: 0.7; stroke-width: 0.5\"/>\n     <use xlink:href=\"#m90c90bb864\" x=\"197.264128\" y=\"197.181818\" style=\"fill: #001e42; fill-opacity: 0.7; stroke: #001e42; stroke-opacity: 0.7; stroke-width: 0.5\"/>\n     <use xlink:href=\"#m90c90bb864\" x=\"147.165487\" y=\"211.909091\" style=\"fill: #001e42; fill-opacity: 0.7; stroke: #001e42; stroke-opacity: 0.7; stroke-width: 0.5\"/>\n     <use xlink:href=\"#m90c90bb864\" x=\"222.43273\" y=\"165.665455\" style=\"fill: #001e42; fill-opacity: 0.7; stroke: #001e42; stroke-opacity: 0.7; stroke-width: 0.5\"/>\n     <use xlink:href=\"#m90c90bb864\" x=\"107.444422\" y=\"270.818182\" style=\"fill: #001e42; fill-opacity: 0.7; stroke: #001e42; stroke-opacity: 0.7; stroke-width: 0.5\"/>\n     <use xlink:href=\"#m90c90bb864\" x=\"118.060563\" y=\"261.981818\" style=\"fill: #001e42; fill-opacity: 0.7; stroke: #001e42; stroke-opacity: 0.7; stroke-width: 0.5\"/>\n     <use xlink:href=\"#m90c90bb864\" x=\"187.542606\" y=\"228.992727\" style=\"fill: #001e42; fill-opacity: 0.7; stroke: #001e42; stroke-opacity: 0.7; stroke-width: 0.5\"/>\n     <use xlink:href=\"#m90c90bb864\" x=\"113.647111\" y=\"246.96\" style=\"fill: #001e42; fill-opacity: 0.7; stroke: #001e42; stroke-opacity: 0.7; stroke-width: 0.5\"/>\n     <use xlink:href=\"#m90c90bb864\" x=\"123.965046\" y=\"265.516364\" style=\"fill: #001e42; fill-opacity: 0.7; stroke: #001e42; stroke-opacity: 0.7; stroke-width: 0.5\"/>\n     <use xlink:href=\"#m90c90bb864\" x=\"128.97491\" y=\"241.363636\" style=\"fill: #001e42; fill-opacity: 0.7; stroke: #001e42; stroke-opacity: 0.7; stroke-width: 0.5\"/>\n     <use xlink:href=\"#m90c90bb864\" x=\"139.054279\" y=\"256.090909\" style=\"fill: #001e42; fill-opacity: 0.7; stroke: #001e42; stroke-opacity: 0.7; stroke-width: 0.5\"/>\n     <use xlink:href=\"#m90c90bb864\" x=\"118.358769\" y=\"240.774545\" style=\"fill: #001e42; fill-opacity: 0.7; stroke: #001e42; stroke-opacity: 0.7; stroke-width: 0.5\"/>\n     <use xlink:href=\"#m90c90bb864\" x=\"221.657394\" y=\"191.290909\" style=\"fill: #001e42; fill-opacity: 0.7; stroke: #001e42; stroke-opacity: 0.7; stroke-width: 0.5\"/>\n     <use xlink:href=\"#m90c90bb864\" x=\"94.740839\" y=\"271.407273\" style=\"fill: #001e42; fill-opacity: 0.7; stroke: #001e42; stroke-opacity: 0.7; stroke-width: 0.5\"/>\n     <use xlink:href=\"#m90c90bb864\" x=\"130.525582\" y=\"256.090909\" style=\"fill: #001e42; fill-opacity: 0.7; stroke: #001e42; stroke-opacity: 0.7; stroke-width: 0.5\"/>\n     <use xlink:href=\"#m90c90bb864\" x=\"111.798233\" y=\"256.090909\" style=\"fill: #001e42; fill-opacity: 0.7; stroke: #001e42; stroke-opacity: 0.7; stroke-width: 0.5\"/>\n     <use xlink:href=\"#m90c90bb864\" x=\"180.02781\" y=\"250.789091\" style=\"fill: #001e42; fill-opacity: 0.7; stroke: #001e42; stroke-opacity: 0.7; stroke-width: 0.5\"/>\n     <use xlink:href=\"#m90c90bb864\" x=\"157.721987\" y=\"270.818182\" style=\"fill: #001e42; fill-opacity: 0.7; stroke: #001e42; stroke-opacity: 0.7; stroke-width: 0.5\"/>\n     <use xlink:href=\"#m90c90bb864\" x=\"164.819294\" y=\"231.643636\" style=\"fill: #001e42; fill-opacity: 0.7; stroke: #001e42; stroke-opacity: 0.7; stroke-width: 0.5\"/>\n     <use xlink:href=\"#m90c90bb864\" x=\"110.545767\" y=\"270.818182\" style=\"fill: #001e42; fill-opacity: 0.7; stroke: #001e42; stroke-opacity: 0.7; stroke-width: 0.5\"/>\n     <use xlink:href=\"#m90c90bb864\" x=\"117.046662\" y=\"256.090909\" style=\"fill: #001e42; fill-opacity: 0.7; stroke: #001e42; stroke-opacity: 0.7; stroke-width: 0.5\"/>\n     <use xlink:href=\"#m90c90bb864\" x=\"152.831405\" y=\"219.272727\" style=\"fill: #001e42; fill-opacity: 0.7; stroke: #001e42; stroke-opacity: 0.7; stroke-width: 0.5\"/>\n     <use xlink:href=\"#m90c90bb864\" x=\"94.681197\" y=\"278.181818\" style=\"fill: #001e42; fill-opacity: 0.7; stroke: #001e42; stroke-opacity: 0.7; stroke-width: 0.5\"/>\n     <use xlink:href=\"#m90c90bb864\" x=\"105.535903\" y=\"256.090909\" style=\"fill: #001e42; fill-opacity: 0.7; stroke: #001e42; stroke-opacity: 0.7; stroke-width: 0.5\"/>\n     <use xlink:href=\"#m90c90bb864\" x=\"128.318856\" y=\"256.090909\" style=\"fill: #001e42; fill-opacity: 0.7; stroke: #001e42; stroke-opacity: 0.7; stroke-width: 0.5\"/>\n     <use xlink:href=\"#m90c90bb864\" x=\"139.352485\" y=\"256.090909\" style=\"fill: #001e42; fill-opacity: 0.7; stroke: #001e42; stroke-opacity: 0.7; stroke-width: 0.5\"/>\n     <use xlink:href=\"#m90c90bb864\" x=\"122.414373\" y=\"234\" style=\"fill: #001e42; fill-opacity: 0.7; stroke: #001e42; stroke-opacity: 0.7; stroke-width: 0.5\"/>\n     <use xlink:href=\"#m90c90bb864\" x=\"148.119747\" y=\"211.909091\" style=\"fill: #001e42; fill-opacity: 0.7; stroke: #001e42; stroke-opacity: 0.7; stroke-width: 0.5\"/>\n     <use xlink:href=\"#m90c90bb864\" x=\"248.495952\" y=\"117.654545\" style=\"fill: #001e42; fill-opacity: 0.7; stroke: #001e42; stroke-opacity: 0.7; stroke-width: 0.5\"/>\n     <use xlink:href=\"#m90c90bb864\" x=\"289.588765\" y=\"167.727273\" style=\"fill: #001e42; fill-opacity: 0.7; stroke: #001e42; stroke-opacity: 0.7; stroke-width: 0.5\"/>\n     <use xlink:href=\"#m90c90bb864\" x=\"205.256054\" y=\"167.727273\" style=\"fill: #001e42; fill-opacity: 0.7; stroke: #001e42; stroke-opacity: 0.7; stroke-width: 0.5\"/>\n     <use xlink:href=\"#m90c90bb864\" x=\"141.917058\" y=\"247.254545\" style=\"fill: #001e42; fill-opacity: 0.7; stroke: #001e42; stroke-opacity: 0.7; stroke-width: 0.5\"/>\n     <use xlink:href=\"#m90c90bb864\" x=\"93.726938\" y=\"270.818182\" style=\"fill: #001e42; fill-opacity: 0.7; stroke: #001e42; stroke-opacity: 0.7; stroke-width: 0.5\"/>\n     <use xlink:href=\"#m90c90bb864\" x=\"155.097772\" y=\"274.941818\" style=\"fill: #001e42; fill-opacity: 0.7; stroke: #001e42; stroke-opacity: 0.7; stroke-width: 0.5\"/>\n     <use xlink:href=\"#m90c90bb864\" x=\"114.720654\" y=\"266.989091\" style=\"fill: #001e42; fill-opacity: 0.7; stroke: #001e42; stroke-opacity: 0.7; stroke-width: 0.5\"/>\n     <use xlink:href=\"#m90c90bb864\" x=\"102.255635\" y=\"264.043636\" style=\"fill: #001e42; fill-opacity: 0.7; stroke: #001e42; stroke-opacity: 0.7; stroke-width: 0.5\"/>\n     <use xlink:href=\"#m90c90bb864\" x=\"88.717074\" y=\"256.090909\" style=\"fill: #001e42; fill-opacity: 0.7; stroke: #001e42; stroke-opacity: 0.7; stroke-width: 0.5\"/>\n     <use xlink:href=\"#m90c90bb864\" x=\"127.841726\" y=\"241.363636\" style=\"fill: #001e42; fill-opacity: 0.7; stroke: #001e42; stroke-opacity: 0.7; stroke-width: 0.5\"/>\n     <use xlink:href=\"#m90c90bb864\" x=\"122.23545\" y=\"256.090909\" style=\"fill: #001e42; fill-opacity: 0.7; stroke: #001e42; stroke-opacity: 0.7; stroke-width: 0.5\"/>\n     <use xlink:href=\"#m90c90bb864\" x=\"146.867281\" y=\"234.294545\" style=\"fill: #001e42; fill-opacity: 0.7; stroke: #001e42; stroke-opacity: 0.7; stroke-width: 0.5\"/>\n     <use xlink:href=\"#m90c90bb864\" x=\"190.345744\" y=\"256.090909\" style=\"fill: #001e42; fill-opacity: 0.7; stroke: #001e42; stroke-opacity: 0.7; stroke-width: 0.5\"/>\n     <use xlink:href=\"#m90c90bb864\" x=\"161.837232\" y=\"256.090909\" style=\"fill: #001e42; fill-opacity: 0.7; stroke: #001e42; stroke-opacity: 0.7; stroke-width: 0.5\"/>\n     <use xlink:href=\"#m90c90bb864\" x=\"221.9556\" y=\"163.603636\" style=\"fill: #001e42; fill-opacity: 0.7; stroke: #001e42; stroke-opacity: 0.7; stroke-width: 0.5\"/>\n     <use xlink:href=\"#m90c90bb864\" x=\"331.218349\" y=\"167.727273\" style=\"fill: #001e42; fill-opacity: 0.7; stroke: #001e42; stroke-opacity: 0.7; stroke-width: 0.5\"/>\n     <use xlink:href=\"#m90c90bb864\" x=\"193.0296\" y=\"204.545455\" style=\"fill: #001e42; fill-opacity: 0.7; stroke: #001e42; stroke-opacity: 0.7; stroke-width: 0.5\"/>\n     <use xlink:href=\"#m90c90bb864\" x=\"123.786122\" y=\"238.123636\" style=\"fill: #001e42; fill-opacity: 0.7; stroke: #001e42; stroke-opacity: 0.7; stroke-width: 0.5\"/>\n     <use xlink:href=\"#m90c90bb864\" x=\"142.274906\" y=\"256.090909\" style=\"fill: #001e42; fill-opacity: 0.7; stroke: #001e42; stroke-opacity: 0.7; stroke-width: 0.5\"/>\n     <use xlink:href=\"#m90c90bb864\" x=\"172.155166\" y=\"211.909091\" style=\"fill: #001e42; fill-opacity: 0.7; stroke: #001e42; stroke-opacity: 0.7; stroke-width: 0.5\"/>\n     <use xlink:href=\"#m90c90bb864\" x=\"119.432311\" y=\"241.363636\" style=\"fill: #001e42; fill-opacity: 0.7; stroke: #001e42; stroke-opacity: 0.7; stroke-width: 0.5\"/>\n     <use xlink:href=\"#m90c90bb864\" x=\"140.604951\" y=\"256.090909\" style=\"fill: #001e42; fill-opacity: 0.7; stroke: #001e42; stroke-opacity: 0.7; stroke-width: 0.5\"/>\n     <use xlink:href=\"#m90c90bb864\" x=\"126.291054\" y=\"256.090909\" style=\"fill: #001e42; fill-opacity: 0.7; stroke: #001e42; stroke-opacity: 0.7; stroke-width: 0.5\"/>\n     <use xlink:href=\"#m90c90bb864\" x=\"148.358312\" y=\"226.636364\" style=\"fill: #001e42; fill-opacity: 0.7; stroke: #001e42; stroke-opacity: 0.7; stroke-width: 0.5\"/>\n     <use xlink:href=\"#m90c90bb864\" x=\"190.16682\" y=\"212.498182\" style=\"fill: #001e42; fill-opacity: 0.7; stroke: #001e42; stroke-opacity: 0.7; stroke-width: 0.5\"/>\n     <use xlink:href=\"#m90c90bb864\" x=\"167.741715\" y=\"249.021818\" style=\"fill: #001e42; fill-opacity: 0.7; stroke: #001e42; stroke-opacity: 0.7; stroke-width: 0.5\"/>\n     <use xlink:href=\"#m90c90bb864\" x=\"233.048871\" y=\"182.454545\" style=\"fill: #001e42; fill-opacity: 0.7; stroke: #001e42; stroke-opacity: 0.7; stroke-width: 0.5\"/>\n     <use xlink:href=\"#m90c90bb864\" x=\"107.086575\" y=\"267.578182\" style=\"fill: #001e42; fill-opacity: 0.7; stroke: #001e42; stroke-opacity: 0.7; stroke-width: 0.5\"/>\n     <use xlink:href=\"#m90c90bb864\" x=\"107.32514\" y=\"256.090909\" style=\"fill: #001e42; fill-opacity: 0.7; stroke: #001e42; stroke-opacity: 0.7; stroke-width: 0.5\"/>\n     <use xlink:href=\"#m90c90bb864\" x=\"346.963636\" y=\"20.454545\" style=\"fill: #001e42; fill-opacity: 0.7; stroke: #001e42; stroke-opacity: 0.7; stroke-width: 0.5\"/>\n     <use xlink:href=\"#m90c90bb864\" x=\"138.219302\" y=\"221.923636\" style=\"fill: #001e42; fill-opacity: 0.7; stroke: #001e42; stroke-opacity: 0.7; stroke-width: 0.5\"/>\n     <use xlink:href=\"#m90c90bb864\" x=\"87.166401\" y=\"163.309091\" style=\"fill: #001e42; fill-opacity: 0.7; stroke: #001e42; stroke-opacity: 0.7; stroke-width: 0.5\"/>\n     <use xlink:href=\"#m90c90bb864\" x=\"233.883848\" y=\"221.334545\" style=\"fill: #001e42; fill-opacity: 0.7; stroke: #001e42; stroke-opacity: 0.7; stroke-width: 0.5\"/>\n     <use xlink:href=\"#m90c90bb864\" x=\"144.243067\" y=\"197.181818\" style=\"fill: #001e42; fill-opacity: 0.7; stroke: #001e42; stroke-opacity: 0.7; stroke-width: 0.5\"/>\n     <use xlink:href=\"#m90c90bb864\" x=\"240.146178\" y=\"223.396364\" style=\"fill: #001e42; fill-opacity: 0.7; stroke: #001e42; stroke-opacity: 0.7; stroke-width: 0.5\"/>\n     <use xlink:href=\"#m90c90bb864\" x=\"150.624679\" y=\"256.090909\" style=\"fill: #001e42; fill-opacity: 0.7; stroke: #001e42; stroke-opacity: 0.7; stroke-width: 0.5\"/>\n     <use xlink:href=\"#m90c90bb864\" x=\"130.287017\" y=\"256.090909\" style=\"fill: #001e42; fill-opacity: 0.7; stroke: #001e42; stroke-opacity: 0.7; stroke-width: 0.5\"/>\n     <use xlink:href=\"#m90c90bb864\" x=\"101.182092\" y=\"197.181818\" style=\"fill: #001e42; fill-opacity: 0.7; stroke: #001e42; stroke-opacity: 0.7; stroke-width: 0.5\"/>\n     <use xlink:href=\"#m90c90bb864\" x=\"250.464112\" y=\"210.436364\" style=\"fill: #001e42; fill-opacity: 0.7; stroke: #001e42; stroke-opacity: 0.7; stroke-width: 0.5\"/>\n     <use xlink:href=\"#m90c90bb864\" x=\"250.583395\" y=\"206.607273\" style=\"fill: #001e42; fill-opacity: 0.7; stroke: #001e42; stroke-opacity: 0.7; stroke-width: 0.5\"/>\n     <use xlink:href=\"#m90c90bb864\" x=\"183.069513\" y=\"148.581818\" style=\"fill: #001e42; fill-opacity: 0.7; stroke: #001e42; stroke-opacity: 0.7; stroke-width: 0.5\"/>\n     <use xlink:href=\"#m90c90bb864\" x=\"314.39952\" y=\"211.909091\" style=\"fill: #001e42; fill-opacity: 0.7; stroke: #001e42; stroke-opacity: 0.7; stroke-width: 0.5\"/>\n     <use xlink:href=\"#m90c90bb864\" x=\"182.115253\" y=\"123.545455\" style=\"fill: #001e42; fill-opacity: 0.7; stroke: #001e42; stroke-opacity: 0.7; stroke-width: 0.5\"/>\n     <use xlink:href=\"#m90c90bb864\" x=\"285.771726\" y=\"226.636364\" style=\"fill: #001e42; fill-opacity: 0.7; stroke: #001e42; stroke-opacity: 0.7; stroke-width: 0.5\"/>\n     <use xlink:href=\"#m90c90bb864\" x=\"167.324226\" y=\"167.727273\" style=\"fill: #001e42; fill-opacity: 0.7; stroke: #001e42; stroke-opacity: 0.7; stroke-width: 0.5\"/>\n     <use xlink:href=\"#m90c90bb864\" x=\"168.576692\" y=\"211.909091\" style=\"fill: #001e42; fill-opacity: 0.7; stroke: #001e42; stroke-opacity: 0.7; stroke-width: 0.5\"/>\n     <use xlink:href=\"#m90c90bb864\" x=\"225.593716\" y=\"256.090909\" style=\"fill: #001e42; fill-opacity: 0.7; stroke: #001e42; stroke-opacity: 0.7; stroke-width: 0.5\"/>\n     <use xlink:href=\"#m90c90bb864\" x=\"152.175351\" y=\"211.909091\" style=\"fill: #001e42; fill-opacity: 0.7; stroke: #001e42; stroke-opacity: 0.7; stroke-width: 0.5\"/>\n     <use xlink:href=\"#m90c90bb864\" x=\"181.697764\" y=\"197.181818\" style=\"fill: #001e42; fill-opacity: 0.7; stroke: #001e42; stroke-opacity: 0.7; stroke-width: 0.5\"/>\n     <use xlink:href=\"#m90c90bb864\" x=\"137.503607\" y=\"270.818182\" style=\"fill: #001e42; fill-opacity: 0.7; stroke: #001e42; stroke-opacity: 0.7; stroke-width: 0.5\"/>\n     <use xlink:href=\"#m90c90bb864\" x=\"162.075797\" y=\"191.585455\" style=\"fill: #001e42; fill-opacity: 0.7; stroke: #001e42; stroke-opacity: 0.7; stroke-width: 0.5\"/>\n     <use xlink:href=\"#m90c90bb864\" x=\"213.546186\" y=\"239.596364\" style=\"fill: #001e42; fill-opacity: 0.7; stroke: #001e42; stroke-opacity: 0.7; stroke-width: 0.5\"/>\n     <use xlink:href=\"#m90c90bb864\" x=\"136.251141\" y=\"255.501818\" style=\"fill: #001e42; fill-opacity: 0.7; stroke: #001e42; stroke-opacity: 0.7; stroke-width: 0.5\"/>\n     <use xlink:href=\"#m90c90bb864\" x=\"142.811677\" y=\"197.181818\" style=\"fill: #001e42; fill-opacity: 0.7; stroke: #001e42; stroke-opacity: 0.7; stroke-width: 0.5\"/>\n     <use xlink:href=\"#m90c90bb864\" x=\"89.01528\" y=\"272.585455\" style=\"fill: #001e42; fill-opacity: 0.7; stroke: #001e42; stroke-opacity: 0.7; stroke-width: 0.5\"/>\n     <use xlink:href=\"#m90c90bb864\" x=\"105.595544\" y=\"256.090909\" style=\"fill: #001e42; fill-opacity: 0.7; stroke: #001e42; stroke-opacity: 0.7; stroke-width: 0.5\"/>\n     <use xlink:href=\"#m90c90bb864\" x=\"301.039883\" y=\"167.727273\" style=\"fill: #001e42; fill-opacity: 0.7; stroke: #001e42; stroke-opacity: 0.7; stroke-width: 0.5\"/>\n     <use xlink:href=\"#m90c90bb864\" x=\"121.460113\" y=\"256.090909\" style=\"fill: #001e42; fill-opacity: 0.7; stroke: #001e42; stroke-opacity: 0.7; stroke-width: 0.5\"/>\n     <use xlink:href=\"#m90c90bb864\" x=\"124.501817\" y=\"256.090909\" style=\"fill: #001e42; fill-opacity: 0.7; stroke: #001e42; stroke-opacity: 0.7; stroke-width: 0.5\"/>\n     <use xlink:href=\"#m90c90bb864\" x=\"155.515261\" y=\"197.181818\" style=\"fill: #001e42; fill-opacity: 0.7; stroke: #001e42; stroke-opacity: 0.7; stroke-width: 0.5\"/>\n     <use xlink:href=\"#m90c90bb864\" x=\"119.909441\" y=\"255.796364\" style=\"fill: #001e42; fill-opacity: 0.7; stroke: #001e42; stroke-opacity: 0.7; stroke-width: 0.5\"/>\n     <use xlink:href=\"#m90c90bb864\" x=\"121.460113\" y=\"256.090909\" style=\"fill: #001e42; fill-opacity: 0.7; stroke: #001e42; stroke-opacity: 0.7; stroke-width: 0.5\"/>\n     <use xlink:href=\"#m90c90bb864\" x=\"141.738135\" y=\"241.363636\" style=\"fill: #001e42; fill-opacity: 0.7; stroke: #001e42; stroke-opacity: 0.7; stroke-width: 0.5\"/>\n     <use xlink:href=\"#m90c90bb864\" x=\"166.369966\" y=\"197.181818\" style=\"fill: #001e42; fill-opacity: 0.7; stroke: #001e42; stroke-opacity: 0.7; stroke-width: 0.5\"/>\n     <use xlink:href=\"#m90c90bb864\" x=\"142.155623\" y=\"219.861818\" style=\"fill: #001e42; fill-opacity: 0.7; stroke: #001e42; stroke-opacity: 0.7; stroke-width: 0.5\"/>\n     <use xlink:href=\"#m90c90bb864\" x=\"202.512557\" y=\"214.56\" style=\"fill: #001e42; fill-opacity: 0.7; stroke: #001e42; stroke-opacity: 0.7; stroke-width: 0.5\"/>\n     <use xlink:href=\"#m90c90bb864\" x=\"274.91702\" y=\"226.636364\" style=\"fill: #001e42; fill-opacity: 0.7; stroke: #001e42; stroke-opacity: 0.7; stroke-width: 0.5\"/>\n     <use xlink:href=\"#m90c90bb864\" x=\"188.675789\" y=\"255.207273\" style=\"fill: #001e42; fill-opacity: 0.7; stroke: #001e42; stroke-opacity: 0.7; stroke-width: 0.5\"/>\n     <use xlink:href=\"#m90c90bb864\" x=\"120.028724\" y=\"249.316364\" style=\"fill: #001e42; fill-opacity: 0.7; stroke: #001e42; stroke-opacity: 0.7; stroke-width: 0.5\"/>\n     <use xlink:href=\"#m90c90bb864\" x=\"223.208066\" y=\"256.090909\" style=\"fill: #001e42; fill-opacity: 0.7; stroke: #001e42; stroke-opacity: 0.7; stroke-width: 0.5\"/>\n     <use xlink:href=\"#m90c90bb864\" x=\"198.33767\" y=\"163.014545\" style=\"fill: #001e42; fill-opacity: 0.7; stroke: #001e42; stroke-opacity: 0.7; stroke-width: 0.5\"/>\n     <use xlink:href=\"#m90c90bb864\" x=\"332.172609\" y=\"49.909091\" style=\"fill: #001e42; fill-opacity: 0.7; stroke: #001e42; stroke-opacity: 0.7; stroke-width: 0.5\"/>\n     <use xlink:href=\"#m90c90bb864\" x=\"123.070427\" y=\"241.363636\" style=\"fill: #001e42; fill-opacity: 0.7; stroke: #001e42; stroke-opacity: 0.7; stroke-width: 0.5\"/>\n     <use xlink:href=\"#m90c90bb864\" x=\"211.935872\" y=\"123.545455\" style=\"fill: #001e42; fill-opacity: 0.7; stroke: #001e42; stroke-opacity: 0.7; stroke-width: 0.5\"/>\n     <use xlink:href=\"#m90c90bb864\" x=\"120.863701\" y=\"282.6\" style=\"fill: #001e42; fill-opacity: 0.7; stroke: #001e42; stroke-opacity: 0.7; stroke-width: 0.5\"/>\n     <use xlink:href=\"#m90c90bb864\" x=\"211.81659\" y=\"226.636364\" style=\"fill: #001e42; fill-opacity: 0.7; stroke: #001e42; stroke-opacity: 0.7; stroke-width: 0.5\"/>\n     <use xlink:href=\"#m90c90bb864\" x=\"113.050699\" y=\"270.818182\" style=\"fill: #001e42; fill-opacity: 0.7; stroke: #001e42; stroke-opacity: 0.7; stroke-width: 0.5\"/>\n     <use xlink:href=\"#m90c90bb864\" x=\"90.088822\" y=\"272.585455\" style=\"fill: #001e42; fill-opacity: 0.7; stroke: #001e42; stroke-opacity: 0.7; stroke-width: 0.5\"/>\n     <use xlink:href=\"#m90c90bb864\" x=\"223.685196\" y=\"223.985455\" style=\"fill: #001e42; fill-opacity: 0.7; stroke: #001e42; stroke-opacity: 0.7; stroke-width: 0.5\"/>\n     <use xlink:href=\"#m90c90bb864\" x=\"116.450249\" y=\"250.2\" style=\"fill: #001e42; fill-opacity: 0.7; stroke: #001e42; stroke-opacity: 0.7; stroke-width: 0.5\"/>\n     <use xlink:href=\"#m90c90bb864\" x=\"123.965046\" y=\"212.498182\" style=\"fill: #001e42; fill-opacity: 0.7; stroke: #001e42; stroke-opacity: 0.7; stroke-width: 0.5\"/>\n     <use xlink:href=\"#m90c90bb864\" x=\"95.098686\" y=\"258.447273\" style=\"fill: #001e42; fill-opacity: 0.7; stroke: #001e42; stroke-opacity: 0.7; stroke-width: 0.5\"/>\n     <use xlink:href=\"#m90c90bb864\" x=\"139.233203\" y=\"226.636364\" style=\"fill: #001e42; fill-opacity: 0.7; stroke: #001e42; stroke-opacity: 0.7; stroke-width: 0.5\"/>\n     <use xlink:href=\"#m90c90bb864\" x=\"123.965046\" y=\"268.461818\" style=\"fill: #001e42; fill-opacity: 0.7; stroke: #001e42; stroke-opacity: 0.7; stroke-width: 0.5\"/>\n     <use xlink:href=\"#m90c90bb864\" x=\"140.962798\" y=\"241.363636\" style=\"fill: #001e42; fill-opacity: 0.7; stroke: #001e42; stroke-opacity: 0.7; stroke-width: 0.5\"/>\n     <use xlink:href=\"#m90c90bb864\" x=\"104.104513\" y=\"256.090909\" style=\"fill: #001e42; fill-opacity: 0.7; stroke: #001e42; stroke-opacity: 0.7; stroke-width: 0.5\"/>\n     <use xlink:href=\"#m90c90bb864\" x=\"165.892836\" y=\"226.636364\" style=\"fill: #001e42; fill-opacity: 0.7; stroke: #001e42; stroke-opacity: 0.7; stroke-width: 0.5\"/>\n     <use xlink:href=\"#m90c90bb864\" x=\"123.130068\" y=\"234.883636\" style=\"fill: #001e42; fill-opacity: 0.7; stroke: #001e42; stroke-opacity: 0.7; stroke-width: 0.5\"/>\n     <use xlink:href=\"#m90c90bb864\" x=\"175.852923\" y=\"230.170909\" style=\"fill: #001e42; fill-opacity: 0.7; stroke: #001e42; stroke-opacity: 0.7; stroke-width: 0.5\"/>\n     <use xlink:href=\"#m90c90bb864\" x=\"187.125117\" y=\"256.090909\" style=\"fill: #001e42; fill-opacity: 0.7; stroke: #001e42; stroke-opacity: 0.7; stroke-width: 0.5\"/>\n     <use xlink:href=\"#m90c90bb864\" x=\"137.503607\" y=\"226.636364\" style=\"fill: #001e42; fill-opacity: 0.7; stroke: #001e42; stroke-opacity: 0.7; stroke-width: 0.5\"/>\n     <use xlink:href=\"#m90c90bb864\" x=\"113.169981\" y=\"215.149091\" style=\"fill: #001e42; fill-opacity: 0.7; stroke: #001e42; stroke-opacity: 0.7; stroke-width: 0.5\"/>\n     <use xlink:href=\"#m90c90bb864\" x=\"108.160117\" y=\"271.701818\" style=\"fill: #001e42; fill-opacity: 0.7; stroke: #001e42; stroke-opacity: 0.7; stroke-width: 0.5\"/>\n     <use xlink:href=\"#m90c90bb864\" x=\"136.549347\" y=\"226.636364\" style=\"fill: #001e42; fill-opacity: 0.7; stroke: #001e42; stroke-opacity: 0.7; stroke-width: 0.5\"/>\n     <use xlink:href=\"#m90c90bb864\" x=\"103.985231\" y=\"278.181818\" style=\"fill: #001e42; fill-opacity: 0.7; stroke: #001e42; stroke-opacity: 0.7; stroke-width: 0.5\"/>\n     <use xlink:href=\"#m90c90bb864\" x=\"119.074464\" y=\"285.545455\" style=\"fill: #001e42; fill-opacity: 0.7; stroke: #001e42; stroke-opacity: 0.7; stroke-width: 0.5\"/>\n     <use xlink:href=\"#m90c90bb864\" x=\"239.728689\" y=\"280.538182\" style=\"fill: #001e42; fill-opacity: 0.7; stroke: #001e42; stroke-opacity: 0.7; stroke-width: 0.5\"/>\n     <use xlink:href=\"#m90c90bb864\" x=\"257.621061\" y=\"177.447273\" style=\"fill: #001e42; fill-opacity: 0.7; stroke: #001e42; stroke-opacity: 0.7; stroke-width: 0.5\"/>\n     <use xlink:href=\"#m90c90bb864\" x=\"217.065019\" y=\"140.629091\" style=\"fill: #001e42; fill-opacity: 0.7; stroke: #001e42; stroke-opacity: 0.7; stroke-width: 0.5\"/>\n     <use xlink:href=\"#m90c90bb864\" x=\"206.03139\" y=\"256.090909\" style=\"fill: #001e42; fill-opacity: 0.7; stroke: #001e42; stroke-opacity: 0.7; stroke-width: 0.5\"/>\n     <use xlink:href=\"#m90c90bb864\" x=\"179.133191\" y=\"256.090909\" style=\"fill: #001e42; fill-opacity: 0.7; stroke: #001e42; stroke-opacity: 0.7; stroke-width: 0.5\"/>\n     <use xlink:href=\"#m90c90bb864\" x=\"150.20719\" y=\"263.454545\" style=\"fill: #001e42; fill-opacity: 0.7; stroke: #001e42; stroke-opacity: 0.7; stroke-width: 0.5\"/>\n     <use xlink:href=\"#m90c90bb864\" x=\"155.932749\" y=\"226.636364\" style=\"fill: #001e42; fill-opacity: 0.7; stroke: #001e42; stroke-opacity: 0.7; stroke-width: 0.5\"/>\n    </g>\n   </g>\n   <g id=\"patch_3\">\n    <path d=\"M 48 298.8 \nL 48 7.2 \n\" style=\"fill: none; stroke: #f0f0f0; stroke-width: 3; stroke-linejoin: miter; stroke-linecap: square\"/>\n   </g>\n   <g id=\"patch_4\">\n    <path d=\"M 361.2 298.8 \nL 361.2 7.2 \n\" style=\"fill: none; stroke: #f0f0f0; stroke-width: 3; stroke-linejoin: miter; stroke-linecap: square\"/>\n   </g>\n   <g id=\"patch_5\">\n    <path d=\"M 48 298.8 \nL 361.2 298.8 \n\" style=\"fill: none; stroke: #f0f0f0; stroke-width: 3; stroke-linejoin: miter; stroke-linecap: square\"/>\n   </g>\n   <g id=\"patch_6\">\n    <path d=\"M 48 7.2 \nL 361.2 7.2 \n\" style=\"fill: none; stroke: #f0f0f0; stroke-width: 3; stroke-linejoin: miter; stroke-linecap: square\"/>\n   </g>\n  </g>\n </g>\n <defs>\n  <clipPath id=\"p42df382904\">\n   <rect x=\"48\" y=\"7.2\" width=\"313.2\" height=\"291.6\"/>\n  </clipPath>\n </defs>\n</svg>\n",
                        "text/plain": [
                            "<Figure size 360x360 with 1 Axes>"
                        ]
                    },
                    "metadata": {},
                    "output_type": "display_data"
                }
            ],
            "source": [
                "tips.scatter(\"total\", \"tip\")"
            ]
        },
        {
            "attachments": {},
            "cell_type": "markdown",
            "metadata": {},
            "source": [
                "### Interactive Visualizations"
            ]
        },
        {
            "cell_type": "markdown",
            "metadata": {},
            "source": [
                "<div class=\"alert alert-block alert-success\">\n",
                "    <p style=\"font-size:20px\">This section is advanced/optional\n",
                "</div>"
            ]
        },
        {
            "attachments": {},
            "cell_type": "markdown",
            "metadata": {},
            "source": [
                "The plots above are great, and are suitible for almost all cases. However, we can take it one step further by creating an interactive plot! We can do this with the `plotly` library. In these plots you can hover your mouse over data, and information about it will pop up!\n",
                "\n",
                "Don't worry about understanding the code below, just check out the cool visualizations, and try hovering over the data with your mouse in different spots! \n",
                "\n",
                "_Check out the comments for a description of the visualizations!_"
            ]
        },
        {
            "cell_type": "code",
            "execution_count": null,
            "metadata": {},
            "outputs": [
                {
                    "data": {
                        "application/vnd.plotly.v1+json": {
                            "config": {
                                "plotlyServerURL": "https://plot.ly"
                            },
                            "data": [
                                {
                                    "alignmentgroup": "True",
                                    "bingroup": "x",
                                    "hovertemplate": "Total Bill Amounts=%{x}<br>count=%{y}<extra></extra>",
                                    "legendgroup": "",
                                    "marker": {
                                        "color": "rgb(76,114,176)",
                                        "pattern": {
                                            "shape": ""
                                        }
                                    },
                                    "name": "",
                                    "nbinsx": 20,
                                    "offsetgroup": "",
                                    "orientation": "v",
                                    "showlegend": false,
                                    "type": "histogram",
                                    "x": [
                                        16.99,
                                        10.34,
                                        21.01,
                                        23.68,
                                        24.59,
                                        25.29,
                                        8.77,
                                        26.88,
                                        15.04,
                                        14.78,
                                        10.27,
                                        35.26,
                                        15.42,
                                        18.43,
                                        14.83,
                                        21.58,
                                        10.33,
                                        16.29,
                                        16.97,
                                        20.65,
                                        17.92,
                                        20.29,
                                        15.77,
                                        39.42,
                                        19.82,
                                        17.81,
                                        13.37,
                                        12.69,
                                        21.7,
                                        19.65,
                                        9.55,
                                        18.35,
                                        15.06,
                                        20.69,
                                        17.78,
                                        24.06,
                                        16.31,
                                        16.93,
                                        18.69,
                                        31.27,
                                        16.04,
                                        17.46,
                                        13.94,
                                        9.68,
                                        30.4,
                                        18.29,
                                        22.23,
                                        32.4,
                                        28.55,
                                        18.04,
                                        12.54,
                                        10.29,
                                        34.81,
                                        9.94,
                                        25.56,
                                        19.49,
                                        38.01,
                                        26.41,
                                        11.24,
                                        48.27,
                                        20.29,
                                        13.81,
                                        11.02,
                                        18.29,
                                        17.59,
                                        20.08,
                                        16.45,
                                        3.07,
                                        20.23,
                                        15.01,
                                        12.02,
                                        17.07,
                                        26.86,
                                        25.28,
                                        14.73,
                                        10.51,
                                        17.92,
                                        27.2,
                                        22.76,
                                        17.29,
                                        19.44,
                                        16.66,
                                        10.07,
                                        32.68,
                                        15.98,
                                        34.83,
                                        13.03,
                                        18.28,
                                        24.71,
                                        21.16,
                                        28.97,
                                        22.49,
                                        5.75,
                                        16.32,
                                        22.75,
                                        40.17,
                                        27.28,
                                        12.03,
                                        21.01,
                                        12.46,
                                        11.35,
                                        15.38,
                                        44.3,
                                        22.42,
                                        20.92,
                                        15.36,
                                        20.49,
                                        25.21,
                                        18.24,
                                        14.31,
                                        14,
                                        7.25,
                                        38.07,
                                        23.95,
                                        25.71,
                                        17.31,
                                        29.93,
                                        10.65,
                                        12.43,
                                        24.08,
                                        11.69,
                                        13.42,
                                        14.26,
                                        15.95,
                                        12.48,
                                        29.8,
                                        8.52,
                                        14.52,
                                        11.38,
                                        22.82,
                                        19.08,
                                        20.27,
                                        11.17,
                                        12.26,
                                        18.26,
                                        8.51,
                                        10.33,
                                        14.15,
                                        16,
                                        13.16,
                                        17.47,
                                        34.3,
                                        41.19,
                                        27.05,
                                        16.43,
                                        8.35,
                                        18.64,
                                        11.87,
                                        9.78,
                                        7.51,
                                        14.07,
                                        13.13,
                                        17.26,
                                        24.55,
                                        19.77,
                                        29.85,
                                        48.17,
                                        25,
                                        13.39,
                                        16.49,
                                        21.5,
                                        12.66,
                                        16.21,
                                        13.81,
                                        17.51,
                                        24.52,
                                        20.76,
                                        31.71,
                                        10.59,
                                        10.63,
                                        50.81,
                                        15.81,
                                        7.25,
                                        31.85,
                                        16.82,
                                        32.9,
                                        17.89,
                                        14.48,
                                        9.6,
                                        34.63,
                                        34.65,
                                        23.33,
                                        45.35,
                                        23.17,
                                        40.55,
                                        20.69,
                                        20.9,
                                        30.46,
                                        18.15,
                                        23.1,
                                        15.69,
                                        19.81,
                                        28.44,
                                        15.48,
                                        16.58,
                                        7.56,
                                        10.34,
                                        43.11,
                                        13,
                                        13.51,
                                        18.71,
                                        12.74,
                                        13,
                                        16.4,
                                        20.53,
                                        16.47,
                                        26.59,
                                        38.73,
                                        24.27,
                                        12.76,
                                        30.06,
                                        25.89,
                                        48.33,
                                        13.27,
                                        28.17,
                                        12.9,
                                        28.15,
                                        11.59,
                                        7.74,
                                        30.14,
                                        12.16,
                                        13.42,
                                        8.58,
                                        15.98,
                                        13.42,
                                        16.27,
                                        10.09,
                                        20.45,
                                        13.28,
                                        22.12,
                                        24.01,
                                        15.69,
                                        11.61,
                                        10.77,
                                        15.53,
                                        10.07,
                                        12.6,
                                        32.83,
                                        35.83,
                                        29.03,
                                        27.18,
                                        22.67,
                                        17.82,
                                        18.78
                                    ],
                                    "xaxis": "x",
                                    "yaxis": "y"
                                }
                            ],
                            "layout": {
                                "barmode": "relative",
                                "height": 400,
                                "legend": {
                                    "tracegroupgap": 0
                                },
                                "template": {
                                    "data": {
                                        "bar": [
                                            {
                                                "error_x": {
                                                    "color": "rgb(36,36,36)"
                                                },
                                                "error_y": {
                                                    "color": "rgb(36,36,36)"
                                                },
                                                "marker": {
                                                    "line": {
                                                        "color": "rgb(234,234,242)",
                                                        "width": 0.5
                                                    },
                                                    "pattern": {
                                                        "fillmode": "overlay",
                                                        "size": 10,
                                                        "solidity": 0.2
                                                    }
                                                },
                                                "type": "bar"
                                            }
                                        ],
                                        "barpolar": [
                                            {
                                                "marker": {
                                                    "line": {
                                                        "color": "rgb(234,234,242)",
                                                        "width": 0.5
                                                    },
                                                    "pattern": {
                                                        "fillmode": "overlay",
                                                        "size": 10,
                                                        "solidity": 0.2
                                                    }
                                                },
                                                "type": "barpolar"
                                            }
                                        ],
                                        "carpet": [
                                            {
                                                "aaxis": {
                                                    "endlinecolor": "rgb(36,36,36)",
                                                    "gridcolor": "white",
                                                    "linecolor": "white",
                                                    "minorgridcolor": "white",
                                                    "startlinecolor": "rgb(36,36,36)"
                                                },
                                                "baxis": {
                                                    "endlinecolor": "rgb(36,36,36)",
                                                    "gridcolor": "white",
                                                    "linecolor": "white",
                                                    "minorgridcolor": "white",
                                                    "startlinecolor": "rgb(36,36,36)"
                                                },
                                                "type": "carpet"
                                            }
                                        ],
                                        "choropleth": [
                                            {
                                                "colorbar": {
                                                    "outlinewidth": 0,
                                                    "tickcolor": "rgb(36,36,36)",
                                                    "ticklen": 8,
                                                    "ticks": "outside",
                                                    "tickwidth": 2
                                                },
                                                "type": "choropleth"
                                            }
                                        ],
                                        "contour": [
                                            {
                                                "colorbar": {
                                                    "outlinewidth": 0,
                                                    "tickcolor": "rgb(36,36,36)",
                                                    "ticklen": 8,
                                                    "ticks": "outside",
                                                    "tickwidth": 2
                                                },
                                                "colorscale": [
                                                    [
                                                        0,
                                                        "rgb(2,4,25)"
                                                    ],
                                                    [
                                                        0.06274509803921569,
                                                        "rgb(24,15,41)"
                                                    ],
                                                    [
                                                        0.12549019607843137,
                                                        "rgb(47,23,57)"
                                                    ],
                                                    [
                                                        0.18823529411764706,
                                                        "rgb(71,28,72)"
                                                    ],
                                                    [
                                                        0.25098039215686274,
                                                        "rgb(97,30,82)"
                                                    ],
                                                    [
                                                        0.3137254901960784,
                                                        "rgb(123,30,89)"
                                                    ],
                                                    [
                                                        0.3764705882352941,
                                                        "rgb(150,27,91)"
                                                    ],
                                                    [
                                                        0.4392156862745098,
                                                        "rgb(177,22,88)"
                                                    ],
                                                    [
                                                        0.5019607843137255,
                                                        "rgb(203,26,79)"
                                                    ],
                                                    [
                                                        0.5647058823529412,
                                                        "rgb(223,47,67)"
                                                    ],
                                                    [
                                                        0.6274509803921569,
                                                        "rgb(236,76,61)"
                                                    ],
                                                    [
                                                        0.6901960784313725,
                                                        "rgb(242,107,73)"
                                                    ],
                                                    [
                                                        0.7529411764705882,
                                                        "rgb(244,135,95)"
                                                    ],
                                                    [
                                                        0.8156862745098039,
                                                        "rgb(245,162,122)"
                                                    ],
                                                    [
                                                        0.8784313725490196,
                                                        "rgb(246,188,153)"
                                                    ],
                                                    [
                                                        0.9411764705882353,
                                                        "rgb(247,212,187)"
                                                    ],
                                                    [
                                                        1,
                                                        "rgb(250,234,220)"
                                                    ]
                                                ],
                                                "type": "contour"
                                            }
                                        ],
                                        "contourcarpet": [
                                            {
                                                "colorbar": {
                                                    "outlinewidth": 0,
                                                    "tickcolor": "rgb(36,36,36)",
                                                    "ticklen": 8,
                                                    "ticks": "outside",
                                                    "tickwidth": 2
                                                },
                                                "type": "contourcarpet"
                                            }
                                        ],
                                        "heatmap": [
                                            {
                                                "colorbar": {
                                                    "outlinewidth": 0,
                                                    "tickcolor": "rgb(36,36,36)",
                                                    "ticklen": 8,
                                                    "ticks": "outside",
                                                    "tickwidth": 2
                                                },
                                                "colorscale": [
                                                    [
                                                        0,
                                                        "rgb(2,4,25)"
                                                    ],
                                                    [
                                                        0.06274509803921569,
                                                        "rgb(24,15,41)"
                                                    ],
                                                    [
                                                        0.12549019607843137,
                                                        "rgb(47,23,57)"
                                                    ],
                                                    [
                                                        0.18823529411764706,
                                                        "rgb(71,28,72)"
                                                    ],
                                                    [
                                                        0.25098039215686274,
                                                        "rgb(97,30,82)"
                                                    ],
                                                    [
                                                        0.3137254901960784,
                                                        "rgb(123,30,89)"
                                                    ],
                                                    [
                                                        0.3764705882352941,
                                                        "rgb(150,27,91)"
                                                    ],
                                                    [
                                                        0.4392156862745098,
                                                        "rgb(177,22,88)"
                                                    ],
                                                    [
                                                        0.5019607843137255,
                                                        "rgb(203,26,79)"
                                                    ],
                                                    [
                                                        0.5647058823529412,
                                                        "rgb(223,47,67)"
                                                    ],
                                                    [
                                                        0.6274509803921569,
                                                        "rgb(236,76,61)"
                                                    ],
                                                    [
                                                        0.6901960784313725,
                                                        "rgb(242,107,73)"
                                                    ],
                                                    [
                                                        0.7529411764705882,
                                                        "rgb(244,135,95)"
                                                    ],
                                                    [
                                                        0.8156862745098039,
                                                        "rgb(245,162,122)"
                                                    ],
                                                    [
                                                        0.8784313725490196,
                                                        "rgb(246,188,153)"
                                                    ],
                                                    [
                                                        0.9411764705882353,
                                                        "rgb(247,212,187)"
                                                    ],
                                                    [
                                                        1,
                                                        "rgb(250,234,220)"
                                                    ]
                                                ],
                                                "type": "heatmap"
                                            }
                                        ],
                                        "heatmapgl": [
                                            {
                                                "colorbar": {
                                                    "outlinewidth": 0,
                                                    "tickcolor": "rgb(36,36,36)",
                                                    "ticklen": 8,
                                                    "ticks": "outside",
                                                    "tickwidth": 2
                                                },
                                                "colorscale": [
                                                    [
                                                        0,
                                                        "rgb(2,4,25)"
                                                    ],
                                                    [
                                                        0.06274509803921569,
                                                        "rgb(24,15,41)"
                                                    ],
                                                    [
                                                        0.12549019607843137,
                                                        "rgb(47,23,57)"
                                                    ],
                                                    [
                                                        0.18823529411764706,
                                                        "rgb(71,28,72)"
                                                    ],
                                                    [
                                                        0.25098039215686274,
                                                        "rgb(97,30,82)"
                                                    ],
                                                    [
                                                        0.3137254901960784,
                                                        "rgb(123,30,89)"
                                                    ],
                                                    [
                                                        0.3764705882352941,
                                                        "rgb(150,27,91)"
                                                    ],
                                                    [
                                                        0.4392156862745098,
                                                        "rgb(177,22,88)"
                                                    ],
                                                    [
                                                        0.5019607843137255,
                                                        "rgb(203,26,79)"
                                                    ],
                                                    [
                                                        0.5647058823529412,
                                                        "rgb(223,47,67)"
                                                    ],
                                                    [
                                                        0.6274509803921569,
                                                        "rgb(236,76,61)"
                                                    ],
                                                    [
                                                        0.6901960784313725,
                                                        "rgb(242,107,73)"
                                                    ],
                                                    [
                                                        0.7529411764705882,
                                                        "rgb(244,135,95)"
                                                    ],
                                                    [
                                                        0.8156862745098039,
                                                        "rgb(245,162,122)"
                                                    ],
                                                    [
                                                        0.8784313725490196,
                                                        "rgb(246,188,153)"
                                                    ],
                                                    [
                                                        0.9411764705882353,
                                                        "rgb(247,212,187)"
                                                    ],
                                                    [
                                                        1,
                                                        "rgb(250,234,220)"
                                                    ]
                                                ],
                                                "type": "heatmapgl"
                                            }
                                        ],
                                        "histogram": [
                                            {
                                                "marker": {
                                                    "pattern": {
                                                        "fillmode": "overlay",
                                                        "size": 10,
                                                        "solidity": 0.2
                                                    }
                                                },
                                                "type": "histogram"
                                            }
                                        ],
                                        "histogram2d": [
                                            {
                                                "colorbar": {
                                                    "outlinewidth": 0,
                                                    "tickcolor": "rgb(36,36,36)",
                                                    "ticklen": 8,
                                                    "ticks": "outside",
                                                    "tickwidth": 2
                                                },
                                                "colorscale": [
                                                    [
                                                        0,
                                                        "rgb(2,4,25)"
                                                    ],
                                                    [
                                                        0.06274509803921569,
                                                        "rgb(24,15,41)"
                                                    ],
                                                    [
                                                        0.12549019607843137,
                                                        "rgb(47,23,57)"
                                                    ],
                                                    [
                                                        0.18823529411764706,
                                                        "rgb(71,28,72)"
                                                    ],
                                                    [
                                                        0.25098039215686274,
                                                        "rgb(97,30,82)"
                                                    ],
                                                    [
                                                        0.3137254901960784,
                                                        "rgb(123,30,89)"
                                                    ],
                                                    [
                                                        0.3764705882352941,
                                                        "rgb(150,27,91)"
                                                    ],
                                                    [
                                                        0.4392156862745098,
                                                        "rgb(177,22,88)"
                                                    ],
                                                    [
                                                        0.5019607843137255,
                                                        "rgb(203,26,79)"
                                                    ],
                                                    [
                                                        0.5647058823529412,
                                                        "rgb(223,47,67)"
                                                    ],
                                                    [
                                                        0.6274509803921569,
                                                        "rgb(236,76,61)"
                                                    ],
                                                    [
                                                        0.6901960784313725,
                                                        "rgb(242,107,73)"
                                                    ],
                                                    [
                                                        0.7529411764705882,
                                                        "rgb(244,135,95)"
                                                    ],
                                                    [
                                                        0.8156862745098039,
                                                        "rgb(245,162,122)"
                                                    ],
                                                    [
                                                        0.8784313725490196,
                                                        "rgb(246,188,153)"
                                                    ],
                                                    [
                                                        0.9411764705882353,
                                                        "rgb(247,212,187)"
                                                    ],
                                                    [
                                                        1,
                                                        "rgb(250,234,220)"
                                                    ]
                                                ],
                                                "type": "histogram2d"
                                            }
                                        ],
                                        "histogram2dcontour": [
                                            {
                                                "colorbar": {
                                                    "outlinewidth": 0,
                                                    "tickcolor": "rgb(36,36,36)",
                                                    "ticklen": 8,
                                                    "ticks": "outside",
                                                    "tickwidth": 2
                                                },
                                                "colorscale": [
                                                    [
                                                        0,
                                                        "rgb(2,4,25)"
                                                    ],
                                                    [
                                                        0.06274509803921569,
                                                        "rgb(24,15,41)"
                                                    ],
                                                    [
                                                        0.12549019607843137,
                                                        "rgb(47,23,57)"
                                                    ],
                                                    [
                                                        0.18823529411764706,
                                                        "rgb(71,28,72)"
                                                    ],
                                                    [
                                                        0.25098039215686274,
                                                        "rgb(97,30,82)"
                                                    ],
                                                    [
                                                        0.3137254901960784,
                                                        "rgb(123,30,89)"
                                                    ],
                                                    [
                                                        0.3764705882352941,
                                                        "rgb(150,27,91)"
                                                    ],
                                                    [
                                                        0.4392156862745098,
                                                        "rgb(177,22,88)"
                                                    ],
                                                    [
                                                        0.5019607843137255,
                                                        "rgb(203,26,79)"
                                                    ],
                                                    [
                                                        0.5647058823529412,
                                                        "rgb(223,47,67)"
                                                    ],
                                                    [
                                                        0.6274509803921569,
                                                        "rgb(236,76,61)"
                                                    ],
                                                    [
                                                        0.6901960784313725,
                                                        "rgb(242,107,73)"
                                                    ],
                                                    [
                                                        0.7529411764705882,
                                                        "rgb(244,135,95)"
                                                    ],
                                                    [
                                                        0.8156862745098039,
                                                        "rgb(245,162,122)"
                                                    ],
                                                    [
                                                        0.8784313725490196,
                                                        "rgb(246,188,153)"
                                                    ],
                                                    [
                                                        0.9411764705882353,
                                                        "rgb(247,212,187)"
                                                    ],
                                                    [
                                                        1,
                                                        "rgb(250,234,220)"
                                                    ]
                                                ],
                                                "type": "histogram2dcontour"
                                            }
                                        ],
                                        "mesh3d": [
                                            {
                                                "colorbar": {
                                                    "outlinewidth": 0,
                                                    "tickcolor": "rgb(36,36,36)",
                                                    "ticklen": 8,
                                                    "ticks": "outside",
                                                    "tickwidth": 2
                                                },
                                                "type": "mesh3d"
                                            }
                                        ],
                                        "parcoords": [
                                            {
                                                "line": {
                                                    "colorbar": {
                                                        "outlinewidth": 0,
                                                        "tickcolor": "rgb(36,36,36)",
                                                        "ticklen": 8,
                                                        "ticks": "outside",
                                                        "tickwidth": 2
                                                    }
                                                },
                                                "type": "parcoords"
                                            }
                                        ],
                                        "pie": [
                                            {
                                                "automargin": true,
                                                "type": "pie"
                                            }
                                        ],
                                        "scatter": [
                                            {
                                                "fillpattern": {
                                                    "fillmode": "overlay",
                                                    "size": 10,
                                                    "solidity": 0.2
                                                },
                                                "type": "scatter"
                                            }
                                        ],
                                        "scatter3d": [
                                            {
                                                "line": {
                                                    "colorbar": {
                                                        "outlinewidth": 0,
                                                        "tickcolor": "rgb(36,36,36)",
                                                        "ticklen": 8,
                                                        "ticks": "outside",
                                                        "tickwidth": 2
                                                    }
                                                },
                                                "marker": {
                                                    "colorbar": {
                                                        "outlinewidth": 0,
                                                        "tickcolor": "rgb(36,36,36)",
                                                        "ticklen": 8,
                                                        "ticks": "outside",
                                                        "tickwidth": 2
                                                    }
                                                },
                                                "type": "scatter3d"
                                            }
                                        ],
                                        "scattercarpet": [
                                            {
                                                "marker": {
                                                    "colorbar": {
                                                        "outlinewidth": 0,
                                                        "tickcolor": "rgb(36,36,36)",
                                                        "ticklen": 8,
                                                        "ticks": "outside",
                                                        "tickwidth": 2
                                                    }
                                                },
                                                "type": "scattercarpet"
                                            }
                                        ],
                                        "scattergeo": [
                                            {
                                                "marker": {
                                                    "colorbar": {
                                                        "outlinewidth": 0,
                                                        "tickcolor": "rgb(36,36,36)",
                                                        "ticklen": 8,
                                                        "ticks": "outside",
                                                        "tickwidth": 2
                                                    }
                                                },
                                                "type": "scattergeo"
                                            }
                                        ],
                                        "scattergl": [
                                            {
                                                "marker": {
                                                    "colorbar": {
                                                        "outlinewidth": 0,
                                                        "tickcolor": "rgb(36,36,36)",
                                                        "ticklen": 8,
                                                        "ticks": "outside",
                                                        "tickwidth": 2
                                                    }
                                                },
                                                "type": "scattergl"
                                            }
                                        ],
                                        "scattermapbox": [
                                            {
                                                "marker": {
                                                    "colorbar": {
                                                        "outlinewidth": 0,
                                                        "tickcolor": "rgb(36,36,36)",
                                                        "ticklen": 8,
                                                        "ticks": "outside",
                                                        "tickwidth": 2
                                                    }
                                                },
                                                "type": "scattermapbox"
                                            }
                                        ],
                                        "scatterpolar": [
                                            {
                                                "marker": {
                                                    "colorbar": {
                                                        "outlinewidth": 0,
                                                        "tickcolor": "rgb(36,36,36)",
                                                        "ticklen": 8,
                                                        "ticks": "outside",
                                                        "tickwidth": 2
                                                    }
                                                },
                                                "type": "scatterpolar"
                                            }
                                        ],
                                        "scatterpolargl": [
                                            {
                                                "marker": {
                                                    "colorbar": {
                                                        "outlinewidth": 0,
                                                        "tickcolor": "rgb(36,36,36)",
                                                        "ticklen": 8,
                                                        "ticks": "outside",
                                                        "tickwidth": 2
                                                    }
                                                },
                                                "type": "scatterpolargl"
                                            }
                                        ],
                                        "scatterternary": [
                                            {
                                                "marker": {
                                                    "colorbar": {
                                                        "outlinewidth": 0,
                                                        "tickcolor": "rgb(36,36,36)",
                                                        "ticklen": 8,
                                                        "ticks": "outside",
                                                        "tickwidth": 2
                                                    }
                                                },
                                                "type": "scatterternary"
                                            }
                                        ],
                                        "surface": [
                                            {
                                                "colorbar": {
                                                    "outlinewidth": 0,
                                                    "tickcolor": "rgb(36,36,36)",
                                                    "ticklen": 8,
                                                    "ticks": "outside",
                                                    "tickwidth": 2
                                                },
                                                "colorscale": [
                                                    [
                                                        0,
                                                        "rgb(2,4,25)"
                                                    ],
                                                    [
                                                        0.06274509803921569,
                                                        "rgb(24,15,41)"
                                                    ],
                                                    [
                                                        0.12549019607843137,
                                                        "rgb(47,23,57)"
                                                    ],
                                                    [
                                                        0.18823529411764706,
                                                        "rgb(71,28,72)"
                                                    ],
                                                    [
                                                        0.25098039215686274,
                                                        "rgb(97,30,82)"
                                                    ],
                                                    [
                                                        0.3137254901960784,
                                                        "rgb(123,30,89)"
                                                    ],
                                                    [
                                                        0.3764705882352941,
                                                        "rgb(150,27,91)"
                                                    ],
                                                    [
                                                        0.4392156862745098,
                                                        "rgb(177,22,88)"
                                                    ],
                                                    [
                                                        0.5019607843137255,
                                                        "rgb(203,26,79)"
                                                    ],
                                                    [
                                                        0.5647058823529412,
                                                        "rgb(223,47,67)"
                                                    ],
                                                    [
                                                        0.6274509803921569,
                                                        "rgb(236,76,61)"
                                                    ],
                                                    [
                                                        0.6901960784313725,
                                                        "rgb(242,107,73)"
                                                    ],
                                                    [
                                                        0.7529411764705882,
                                                        "rgb(244,135,95)"
                                                    ],
                                                    [
                                                        0.8156862745098039,
                                                        "rgb(245,162,122)"
                                                    ],
                                                    [
                                                        0.8784313725490196,
                                                        "rgb(246,188,153)"
                                                    ],
                                                    [
                                                        0.9411764705882353,
                                                        "rgb(247,212,187)"
                                                    ],
                                                    [
                                                        1,
                                                        "rgb(250,234,220)"
                                                    ]
                                                ],
                                                "type": "surface"
                                            }
                                        ],
                                        "table": [
                                            {
                                                "cells": {
                                                    "fill": {
                                                        "color": "rgb(231,231,240)"
                                                    },
                                                    "line": {
                                                        "color": "white"
                                                    }
                                                },
                                                "header": {
                                                    "fill": {
                                                        "color": "rgb(183,183,191)"
                                                    },
                                                    "line": {
                                                        "color": "white"
                                                    }
                                                },
                                                "type": "table"
                                            }
                                        ]
                                    },
                                    "layout": {
                                        "annotationdefaults": {
                                            "arrowcolor": "rgb(67,103,167)"
                                        },
                                        "autotypenumbers": "strict",
                                        "coloraxis": {
                                            "colorbar": {
                                                "outlinewidth": 0,
                                                "tickcolor": "rgb(36,36,36)",
                                                "ticklen": 8,
                                                "ticks": "outside",
                                                "tickwidth": 2
                                            }
                                        },
                                        "colorscale": {
                                            "sequential": [
                                                [
                                                    0,
                                                    "rgb(2,4,25)"
                                                ],
                                                [
                                                    0.06274509803921569,
                                                    "rgb(24,15,41)"
                                                ],
                                                [
                                                    0.12549019607843137,
                                                    "rgb(47,23,57)"
                                                ],
                                                [
                                                    0.18823529411764706,
                                                    "rgb(71,28,72)"
                                                ],
                                                [
                                                    0.25098039215686274,
                                                    "rgb(97,30,82)"
                                                ],
                                                [
                                                    0.3137254901960784,
                                                    "rgb(123,30,89)"
                                                ],
                                                [
                                                    0.3764705882352941,
                                                    "rgb(150,27,91)"
                                                ],
                                                [
                                                    0.4392156862745098,
                                                    "rgb(177,22,88)"
                                                ],
                                                [
                                                    0.5019607843137255,
                                                    "rgb(203,26,79)"
                                                ],
                                                [
                                                    0.5647058823529412,
                                                    "rgb(223,47,67)"
                                                ],
                                                [
                                                    0.6274509803921569,
                                                    "rgb(236,76,61)"
                                                ],
                                                [
                                                    0.6901960784313725,
                                                    "rgb(242,107,73)"
                                                ],
                                                [
                                                    0.7529411764705882,
                                                    "rgb(244,135,95)"
                                                ],
                                                [
                                                    0.8156862745098039,
                                                    "rgb(245,162,122)"
                                                ],
                                                [
                                                    0.8784313725490196,
                                                    "rgb(246,188,153)"
                                                ],
                                                [
                                                    0.9411764705882353,
                                                    "rgb(247,212,187)"
                                                ],
                                                [
                                                    1,
                                                    "rgb(250,234,220)"
                                                ]
                                            ],
                                            "sequentialminus": [
                                                [
                                                    0,
                                                    "rgb(2,4,25)"
                                                ],
                                                [
                                                    0.06274509803921569,
                                                    "rgb(24,15,41)"
                                                ],
                                                [
                                                    0.12549019607843137,
                                                    "rgb(47,23,57)"
                                                ],
                                                [
                                                    0.18823529411764706,
                                                    "rgb(71,28,72)"
                                                ],
                                                [
                                                    0.25098039215686274,
                                                    "rgb(97,30,82)"
                                                ],
                                                [
                                                    0.3137254901960784,
                                                    "rgb(123,30,89)"
                                                ],
                                                [
                                                    0.3764705882352941,
                                                    "rgb(150,27,91)"
                                                ],
                                                [
                                                    0.4392156862745098,
                                                    "rgb(177,22,88)"
                                                ],
                                                [
                                                    0.5019607843137255,
                                                    "rgb(203,26,79)"
                                                ],
                                                [
                                                    0.5647058823529412,
                                                    "rgb(223,47,67)"
                                                ],
                                                [
                                                    0.6274509803921569,
                                                    "rgb(236,76,61)"
                                                ],
                                                [
                                                    0.6901960784313725,
                                                    "rgb(242,107,73)"
                                                ],
                                                [
                                                    0.7529411764705882,
                                                    "rgb(244,135,95)"
                                                ],
                                                [
                                                    0.8156862745098039,
                                                    "rgb(245,162,122)"
                                                ],
                                                [
                                                    0.8784313725490196,
                                                    "rgb(246,188,153)"
                                                ],
                                                [
                                                    0.9411764705882353,
                                                    "rgb(247,212,187)"
                                                ],
                                                [
                                                    1,
                                                    "rgb(250,234,220)"
                                                ]
                                            ]
                                        },
                                        "colorway": [
                                            "rgb(76,114,176)",
                                            "rgb(221,132,82)",
                                            "rgb(85,168,104)",
                                            "rgb(196,78,82)",
                                            "rgb(129,114,179)",
                                            "rgb(147,120,96)",
                                            "rgb(218,139,195)",
                                            "rgb(140,140,140)",
                                            "rgb(204,185,116)",
                                            "rgb(100,181,205)"
                                        ],
                                        "font": {
                                            "color": "rgb(36,36,36)"
                                        },
                                        "geo": {
                                            "bgcolor": "white",
                                            "lakecolor": "white",
                                            "landcolor": "rgb(234,234,242)",
                                            "showlakes": true,
                                            "showland": true,
                                            "subunitcolor": "white"
                                        },
                                        "hoverlabel": {
                                            "align": "left"
                                        },
                                        "hovermode": "closest",
                                        "paper_bgcolor": "white",
                                        "plot_bgcolor": "rgb(234,234,242)",
                                        "polar": {
                                            "angularaxis": {
                                                "gridcolor": "white",
                                                "linecolor": "white",
                                                "showgrid": true,
                                                "ticks": ""
                                            },
                                            "bgcolor": "rgb(234,234,242)",
                                            "radialaxis": {
                                                "gridcolor": "white",
                                                "linecolor": "white",
                                                "showgrid": true,
                                                "ticks": ""
                                            }
                                        },
                                        "scene": {
                                            "xaxis": {
                                                "backgroundcolor": "rgb(234,234,242)",
                                                "gridcolor": "white",
                                                "gridwidth": 2,
                                                "linecolor": "white",
                                                "showbackground": true,
                                                "showgrid": true,
                                                "ticks": "",
                                                "zerolinecolor": "white"
                                            },
                                            "yaxis": {
                                                "backgroundcolor": "rgb(234,234,242)",
                                                "gridcolor": "white",
                                                "gridwidth": 2,
                                                "linecolor": "white",
                                                "showbackground": true,
                                                "showgrid": true,
                                                "ticks": "",
                                                "zerolinecolor": "white"
                                            },
                                            "zaxis": {
                                                "backgroundcolor": "rgb(234,234,242)",
                                                "gridcolor": "white",
                                                "gridwidth": 2,
                                                "linecolor": "white",
                                                "showbackground": true,
                                                "showgrid": true,
                                                "ticks": "",
                                                "zerolinecolor": "white"
                                            }
                                        },
                                        "shapedefaults": {
                                            "fillcolor": "rgb(67,103,167)",
                                            "line": {
                                                "width": 0
                                            },
                                            "opacity": 0.5
                                        },
                                        "ternary": {
                                            "aaxis": {
                                                "gridcolor": "white",
                                                "linecolor": "white",
                                                "showgrid": true,
                                                "ticks": ""
                                            },
                                            "baxis": {
                                                "gridcolor": "white",
                                                "linecolor": "white",
                                                "showgrid": true,
                                                "ticks": ""
                                            },
                                            "bgcolor": "rgb(234,234,242)",
                                            "caxis": {
                                                "gridcolor": "white",
                                                "linecolor": "white",
                                                "showgrid": true,
                                                "ticks": ""
                                            }
                                        },
                                        "xaxis": {
                                            "automargin": true,
                                            "gridcolor": "white",
                                            "linecolor": "white",
                                            "showgrid": true,
                                            "ticks": "",
                                            "title": {
                                                "standoff": 15
                                            },
                                            "zerolinecolor": "white"
                                        },
                                        "yaxis": {
                                            "automargin": true,
                                            "gridcolor": "white",
                                            "linecolor": "white",
                                            "showgrid": true,
                                            "ticks": "",
                                            "title": {
                                                "standoff": 15
                                            },
                                            "zerolinecolor": "white"
                                        }
                                    }
                                },
                                "title": {
                                    "text": "Histogram of Total Bill Amounts"
                                },
                                "width": 600,
                                "xaxis": {
                                    "anchor": "y",
                                    "domain": [
                                        0,
                                        1
                                    ],
                                    "title": {
                                        "text": "Total Bill Amounts"
                                    }
                                },
                                "yaxis": {
                                    "anchor": "x",
                                    "domain": [
                                        0,
                                        1
                                    ],
                                    "title": {
                                        "text": "count"
                                    }
                                }
                            }
                        }
                    },
                    "metadata": {},
                    "output_type": "display_data"
                }
            ],
            "source": [
                "px.histogram(x=tips.column(\"total\"), title=\"Histogram of Total Bill Amounts\", \n",
                "             template = \"seaborn\", labels={\"x\":\"Total Bill Amounts\", \"y\":\"Count\"},\n",
                "             width = 600, height = 400, nbins=20)\n",
                "# plots a histogram of the total bill amounts"
            ]
        },
        {
            "cell_type": "code",
            "execution_count": 100,
            "metadata": {},
            "outputs": [
                {
                    "data": {
                        "application/vnd.plotly.v1+json": {
                            "config": {
                                "plotlyServerURL": "https://plot.ly"
                            },
                            "data": [
                                {
                                    "alignmentgroup": "True",
                                    "bingroup": "x",
                                    "histfunc": "avg",
                                    "hovertemplate": "color=Dinner<br>Day=%{x}<br>avg of Tips=%{y}<extra></extra>",
                                    "legendgroup": "Dinner",
                                    "marker": {
                                        "color": "rgb(76,114,176)",
                                        "pattern": {
                                            "shape": ""
                                        }
                                    },
                                    "name": "Dinner",
                                    "offsetgroup": "Dinner",
                                    "orientation": "v",
                                    "showlegend": true,
                                    "type": "histogram",
                                    "x": [
                                        "Dinner",
                                        "Dinner",
                                        "Dinner",
                                        "Dinner",
                                        "Dinner",
                                        "Dinner",
                                        "Dinner",
                                        "Dinner",
                                        "Dinner",
                                        "Dinner",
                                        "Dinner",
                                        "Dinner",
                                        "Dinner",
                                        "Dinner",
                                        "Dinner",
                                        "Dinner",
                                        "Dinner",
                                        "Dinner",
                                        "Dinner",
                                        "Dinner",
                                        "Dinner",
                                        "Dinner",
                                        "Dinner",
                                        "Dinner",
                                        "Dinner",
                                        "Dinner",
                                        "Dinner",
                                        "Dinner",
                                        "Dinner",
                                        "Dinner",
                                        "Dinner",
                                        "Dinner",
                                        "Dinner",
                                        "Dinner",
                                        "Dinner",
                                        "Dinner",
                                        "Dinner",
                                        "Dinner",
                                        "Dinner",
                                        "Dinner",
                                        "Dinner",
                                        "Dinner",
                                        "Dinner",
                                        "Dinner",
                                        "Dinner",
                                        "Dinner",
                                        "Dinner",
                                        "Dinner",
                                        "Dinner",
                                        "Dinner",
                                        "Dinner",
                                        "Dinner",
                                        "Dinner",
                                        "Dinner",
                                        "Dinner",
                                        "Dinner",
                                        "Dinner",
                                        "Dinner",
                                        "Dinner",
                                        "Dinner",
                                        "Dinner",
                                        "Dinner",
                                        "Dinner",
                                        "Dinner",
                                        "Dinner",
                                        "Dinner",
                                        "Dinner",
                                        "Dinner",
                                        "Dinner",
                                        "Dinner",
                                        "Dinner",
                                        "Dinner",
                                        "Dinner",
                                        "Dinner",
                                        "Dinner",
                                        "Dinner",
                                        "Dinner",
                                        "Dinner",
                                        "Dinner",
                                        "Dinner",
                                        "Dinner",
                                        "Dinner",
                                        "Dinner",
                                        "Dinner",
                                        "Dinner",
                                        "Dinner",
                                        "Dinner",
                                        "Dinner",
                                        "Dinner",
                                        "Dinner",
                                        "Dinner",
                                        "Dinner",
                                        "Dinner",
                                        "Dinner",
                                        "Dinner",
                                        "Dinner",
                                        "Dinner",
                                        "Dinner",
                                        "Dinner",
                                        "Dinner",
                                        "Dinner",
                                        "Dinner",
                                        "Dinner",
                                        "Dinner",
                                        "Dinner",
                                        "Dinner",
                                        "Dinner",
                                        "Dinner",
                                        "Dinner",
                                        "Dinner",
                                        "Dinner",
                                        "Dinner",
                                        "Dinner",
                                        "Dinner",
                                        "Dinner",
                                        "Dinner",
                                        "Dinner",
                                        "Dinner",
                                        "Dinner",
                                        "Dinner",
                                        "Dinner",
                                        "Dinner",
                                        "Dinner",
                                        "Dinner",
                                        "Dinner",
                                        "Dinner",
                                        "Dinner",
                                        "Dinner",
                                        "Dinner",
                                        "Dinner",
                                        "Dinner",
                                        "Dinner",
                                        "Dinner",
                                        "Dinner",
                                        "Dinner",
                                        "Dinner",
                                        "Dinner",
                                        "Dinner",
                                        "Dinner",
                                        "Dinner",
                                        "Dinner",
                                        "Dinner",
                                        "Dinner",
                                        "Dinner",
                                        "Dinner",
                                        "Dinner",
                                        "Dinner",
                                        "Dinner",
                                        "Dinner",
                                        "Dinner",
                                        "Dinner",
                                        "Dinner",
                                        "Dinner",
                                        "Dinner",
                                        "Dinner",
                                        "Dinner",
                                        "Dinner",
                                        "Dinner",
                                        "Dinner",
                                        "Dinner",
                                        "Dinner",
                                        "Dinner",
                                        "Dinner",
                                        "Dinner",
                                        "Dinner",
                                        "Dinner",
                                        "Dinner",
                                        "Dinner",
                                        "Dinner",
                                        "Dinner",
                                        "Dinner",
                                        "Dinner",
                                        "Dinner",
                                        "Dinner",
                                        "Dinner",
                                        "Dinner"
                                    ],
                                    "xaxis": "x",
                                    "y": [
                                        1.01,
                                        1.66,
                                        3.5,
                                        3.31,
                                        3.61,
                                        4.71,
                                        2,
                                        3.12,
                                        1.96,
                                        3.23,
                                        1.71,
                                        5,
                                        1.57,
                                        3,
                                        3.02,
                                        3.92,
                                        1.67,
                                        3.71,
                                        3.5,
                                        3.35,
                                        4.08,
                                        2.75,
                                        2.23,
                                        7.58,
                                        3.18,
                                        2.34,
                                        2,
                                        2,
                                        4.3,
                                        3,
                                        1.45,
                                        2.5,
                                        3,
                                        2.45,
                                        3.27,
                                        3.6,
                                        2,
                                        3.07,
                                        2.31,
                                        5,
                                        2.24,
                                        2.54,
                                        3.06,
                                        1.32,
                                        5.6,
                                        3,
                                        5,
                                        6,
                                        2.05,
                                        3,
                                        2.5,
                                        2.6,
                                        5.2,
                                        1.56,
                                        4.34,
                                        3.51,
                                        3,
                                        1.5,
                                        1.76,
                                        6.73,
                                        3.21,
                                        2,
                                        1.98,
                                        3.76,
                                        2.64,
                                        3.15,
                                        2.47,
                                        1,
                                        2.01,
                                        2.09,
                                        1.97,
                                        3,
                                        3.14,
                                        5,
                                        2.2,
                                        1.25,
                                        3.08,
                                        3,
                                        3.5,
                                        1,
                                        4.3,
                                        3.25,
                                        4.73,
                                        4,
                                        1.5,
                                        3,
                                        1.5,
                                        2.5,
                                        3,
                                        2.5,
                                        3.48,
                                        4.08,
                                        1.64,
                                        4.06,
                                        4.29,
                                        3.76,
                                        4,
                                        3,
                                        1,
                                        4,
                                        2.55,
                                        4,
                                        3.5,
                                        5.07,
                                        2.5,
                                        2,
                                        2.74,
                                        2,
                                        2,
                                        5.14,
                                        5,
                                        3.75,
                                        2.61,
                                        2,
                                        3.5,
                                        2.5,
                                        2,
                                        2,
                                        3,
                                        3.48,
                                        2.24,
                                        4.5,
                                        1.61,
                                        2,
                                        10,
                                        3.16,
                                        5.15,
                                        3.18,
                                        4,
                                        3.11,
                                        2,
                                        2,
                                        4,
                                        3.55,
                                        3.68,
                                        5.65,
                                        3.5,
                                        6.5,
                                        3,
                                        5,
                                        3.5,
                                        2,
                                        3.5,
                                        4,
                                        1.5,
                                        3.41,
                                        3,
                                        2.03,
                                        2.23,
                                        2,
                                        5.16,
                                        9,
                                        2.5,
                                        6.5,
                                        1.1,
                                        3,
                                        1.5,
                                        1.44,
                                        3.09,
                                        3,
                                        2.72,
                                        2.88,
                                        2,
                                        3,
                                        3.39,
                                        1.47,
                                        3,
                                        1.25,
                                        1,
                                        1.17,
                                        4.67,
                                        5.92,
                                        2,
                                        2,
                                        1.75,
                                        3
                                    ],
                                    "yaxis": "y"
                                },
                                {
                                    "alignmentgroup": "True",
                                    "bingroup": "x",
                                    "histfunc": "avg",
                                    "hovertemplate": "color=Lunch<br>Day=%{x}<br>avg of Tips=%{y}<extra></extra>",
                                    "legendgroup": "Lunch",
                                    "marker": {
                                        "color": "rgb(221,132,82)",
                                        "pattern": {
                                            "shape": ""
                                        }
                                    },
                                    "name": "Lunch",
                                    "offsetgroup": "Lunch",
                                    "orientation": "v",
                                    "showlegend": true,
                                    "type": "histogram",
                                    "x": [
                                        "Lunch",
                                        "Lunch",
                                        "Lunch",
                                        "Lunch",
                                        "Lunch",
                                        "Lunch",
                                        "Lunch",
                                        "Lunch",
                                        "Lunch",
                                        "Lunch",
                                        "Lunch",
                                        "Lunch",
                                        "Lunch",
                                        "Lunch",
                                        "Lunch",
                                        "Lunch",
                                        "Lunch",
                                        "Lunch",
                                        "Lunch",
                                        "Lunch",
                                        "Lunch",
                                        "Lunch",
                                        "Lunch",
                                        "Lunch",
                                        "Lunch",
                                        "Lunch",
                                        "Lunch",
                                        "Lunch",
                                        "Lunch",
                                        "Lunch",
                                        "Lunch",
                                        "Lunch",
                                        "Lunch",
                                        "Lunch",
                                        "Lunch",
                                        "Lunch",
                                        "Lunch",
                                        "Lunch",
                                        "Lunch",
                                        "Lunch",
                                        "Lunch",
                                        "Lunch",
                                        "Lunch",
                                        "Lunch",
                                        "Lunch",
                                        "Lunch",
                                        "Lunch",
                                        "Lunch",
                                        "Lunch",
                                        "Lunch",
                                        "Lunch",
                                        "Lunch",
                                        "Lunch",
                                        "Lunch",
                                        "Lunch",
                                        "Lunch",
                                        "Lunch",
                                        "Lunch",
                                        "Lunch",
                                        "Lunch",
                                        "Lunch",
                                        "Lunch",
                                        "Lunch",
                                        "Lunch",
                                        "Lunch",
                                        "Lunch",
                                        "Lunch",
                                        "Lunch"
                                    ],
                                    "xaxis": "x",
                                    "y": [
                                        4,
                                        3,
                                        2.71,
                                        3,
                                        3.4,
                                        1.83,
                                        5,
                                        2.03,
                                        5.17,
                                        2,
                                        4,
                                        5.85,
                                        3,
                                        1.5,
                                        1.8,
                                        2.92,
                                        2.31,
                                        1.68,
                                        2.5,
                                        2,
                                        2.52,
                                        4.2,
                                        1.48,
                                        2,
                                        2,
                                        2.18,
                                        1.5,
                                        2.83,
                                        1.5,
                                        2,
                                        3.25,
                                        1.25,
                                        2,
                                        2,
                                        2,
                                        2.75,
                                        3.5,
                                        6.7,
                                        5,
                                        5,
                                        2.3,
                                        1.5,
                                        1.36,
                                        1.63,
                                        1.73,
                                        2,
                                        4.19,
                                        2.56,
                                        2.02,
                                        4,
                                        1.44,
                                        2,
                                        5,
                                        2,
                                        2,
                                        4,
                                        2.01,
                                        2,
                                        2.5,
                                        4,
                                        3.23,
                                        2.2,
                                        3.48,
                                        1.92,
                                        3,
                                        1.58,
                                        2.5,
                                        2
                                    ],
                                    "yaxis": "y"
                                }
                            ],
                            "layout": {
                                "barmode": "relative",
                                "height": 400,
                                "legend": {
                                    "title": {
                                        "text": "color"
                                    },
                                    "tracegroupgap": 0
                                },
                                "template": {
                                    "data": {
                                        "bar": [
                                            {
                                                "error_x": {
                                                    "color": "rgb(36,36,36)"
                                                },
                                                "error_y": {
                                                    "color": "rgb(36,36,36)"
                                                },
                                                "marker": {
                                                    "line": {
                                                        "color": "rgb(234,234,242)",
                                                        "width": 0.5
                                                    },
                                                    "pattern": {
                                                        "fillmode": "overlay",
                                                        "size": 10,
                                                        "solidity": 0.2
                                                    }
                                                },
                                                "type": "bar"
                                            }
                                        ],
                                        "barpolar": [
                                            {
                                                "marker": {
                                                    "line": {
                                                        "color": "rgb(234,234,242)",
                                                        "width": 0.5
                                                    },
                                                    "pattern": {
                                                        "fillmode": "overlay",
                                                        "size": 10,
                                                        "solidity": 0.2
                                                    }
                                                },
                                                "type": "barpolar"
                                            }
                                        ],
                                        "carpet": [
                                            {
                                                "aaxis": {
                                                    "endlinecolor": "rgb(36,36,36)",
                                                    "gridcolor": "white",
                                                    "linecolor": "white",
                                                    "minorgridcolor": "white",
                                                    "startlinecolor": "rgb(36,36,36)"
                                                },
                                                "baxis": {
                                                    "endlinecolor": "rgb(36,36,36)",
                                                    "gridcolor": "white",
                                                    "linecolor": "white",
                                                    "minorgridcolor": "white",
                                                    "startlinecolor": "rgb(36,36,36)"
                                                },
                                                "type": "carpet"
                                            }
                                        ],
                                        "choropleth": [
                                            {
                                                "colorbar": {
                                                    "outlinewidth": 0,
                                                    "tickcolor": "rgb(36,36,36)",
                                                    "ticklen": 8,
                                                    "ticks": "outside",
                                                    "tickwidth": 2
                                                },
                                                "type": "choropleth"
                                            }
                                        ],
                                        "contour": [
                                            {
                                                "colorbar": {
                                                    "outlinewidth": 0,
                                                    "tickcolor": "rgb(36,36,36)",
                                                    "ticklen": 8,
                                                    "ticks": "outside",
                                                    "tickwidth": 2
                                                },
                                                "colorscale": [
                                                    [
                                                        0,
                                                        "rgb(2,4,25)"
                                                    ],
                                                    [
                                                        0.06274509803921569,
                                                        "rgb(24,15,41)"
                                                    ],
                                                    [
                                                        0.12549019607843137,
                                                        "rgb(47,23,57)"
                                                    ],
                                                    [
                                                        0.18823529411764706,
                                                        "rgb(71,28,72)"
                                                    ],
                                                    [
                                                        0.25098039215686274,
                                                        "rgb(97,30,82)"
                                                    ],
                                                    [
                                                        0.3137254901960784,
                                                        "rgb(123,30,89)"
                                                    ],
                                                    [
                                                        0.3764705882352941,
                                                        "rgb(150,27,91)"
                                                    ],
                                                    [
                                                        0.4392156862745098,
                                                        "rgb(177,22,88)"
                                                    ],
                                                    [
                                                        0.5019607843137255,
                                                        "rgb(203,26,79)"
                                                    ],
                                                    [
                                                        0.5647058823529412,
                                                        "rgb(223,47,67)"
                                                    ],
                                                    [
                                                        0.6274509803921569,
                                                        "rgb(236,76,61)"
                                                    ],
                                                    [
                                                        0.6901960784313725,
                                                        "rgb(242,107,73)"
                                                    ],
                                                    [
                                                        0.7529411764705882,
                                                        "rgb(244,135,95)"
                                                    ],
                                                    [
                                                        0.8156862745098039,
                                                        "rgb(245,162,122)"
                                                    ],
                                                    [
                                                        0.8784313725490196,
                                                        "rgb(246,188,153)"
                                                    ],
                                                    [
                                                        0.9411764705882353,
                                                        "rgb(247,212,187)"
                                                    ],
                                                    [
                                                        1,
                                                        "rgb(250,234,220)"
                                                    ]
                                                ],
                                                "type": "contour"
                                            }
                                        ],
                                        "contourcarpet": [
                                            {
                                                "colorbar": {
                                                    "outlinewidth": 0,
                                                    "tickcolor": "rgb(36,36,36)",
                                                    "ticklen": 8,
                                                    "ticks": "outside",
                                                    "tickwidth": 2
                                                },
                                                "type": "contourcarpet"
                                            }
                                        ],
                                        "heatmap": [
                                            {
                                                "colorbar": {
                                                    "outlinewidth": 0,
                                                    "tickcolor": "rgb(36,36,36)",
                                                    "ticklen": 8,
                                                    "ticks": "outside",
                                                    "tickwidth": 2
                                                },
                                                "colorscale": [
                                                    [
                                                        0,
                                                        "rgb(2,4,25)"
                                                    ],
                                                    [
                                                        0.06274509803921569,
                                                        "rgb(24,15,41)"
                                                    ],
                                                    [
                                                        0.12549019607843137,
                                                        "rgb(47,23,57)"
                                                    ],
                                                    [
                                                        0.18823529411764706,
                                                        "rgb(71,28,72)"
                                                    ],
                                                    [
                                                        0.25098039215686274,
                                                        "rgb(97,30,82)"
                                                    ],
                                                    [
                                                        0.3137254901960784,
                                                        "rgb(123,30,89)"
                                                    ],
                                                    [
                                                        0.3764705882352941,
                                                        "rgb(150,27,91)"
                                                    ],
                                                    [
                                                        0.4392156862745098,
                                                        "rgb(177,22,88)"
                                                    ],
                                                    [
                                                        0.5019607843137255,
                                                        "rgb(203,26,79)"
                                                    ],
                                                    [
                                                        0.5647058823529412,
                                                        "rgb(223,47,67)"
                                                    ],
                                                    [
                                                        0.6274509803921569,
                                                        "rgb(236,76,61)"
                                                    ],
                                                    [
                                                        0.6901960784313725,
                                                        "rgb(242,107,73)"
                                                    ],
                                                    [
                                                        0.7529411764705882,
                                                        "rgb(244,135,95)"
                                                    ],
                                                    [
                                                        0.8156862745098039,
                                                        "rgb(245,162,122)"
                                                    ],
                                                    [
                                                        0.8784313725490196,
                                                        "rgb(246,188,153)"
                                                    ],
                                                    [
                                                        0.9411764705882353,
                                                        "rgb(247,212,187)"
                                                    ],
                                                    [
                                                        1,
                                                        "rgb(250,234,220)"
                                                    ]
                                                ],
                                                "type": "heatmap"
                                            }
                                        ],
                                        "heatmapgl": [
                                            {
                                                "colorbar": {
                                                    "outlinewidth": 0,
                                                    "tickcolor": "rgb(36,36,36)",
                                                    "ticklen": 8,
                                                    "ticks": "outside",
                                                    "tickwidth": 2
                                                },
                                                "colorscale": [
                                                    [
                                                        0,
                                                        "rgb(2,4,25)"
                                                    ],
                                                    [
                                                        0.06274509803921569,
                                                        "rgb(24,15,41)"
                                                    ],
                                                    [
                                                        0.12549019607843137,
                                                        "rgb(47,23,57)"
                                                    ],
                                                    [
                                                        0.18823529411764706,
                                                        "rgb(71,28,72)"
                                                    ],
                                                    [
                                                        0.25098039215686274,
                                                        "rgb(97,30,82)"
                                                    ],
                                                    [
                                                        0.3137254901960784,
                                                        "rgb(123,30,89)"
                                                    ],
                                                    [
                                                        0.3764705882352941,
                                                        "rgb(150,27,91)"
                                                    ],
                                                    [
                                                        0.4392156862745098,
                                                        "rgb(177,22,88)"
                                                    ],
                                                    [
                                                        0.5019607843137255,
                                                        "rgb(203,26,79)"
                                                    ],
                                                    [
                                                        0.5647058823529412,
                                                        "rgb(223,47,67)"
                                                    ],
                                                    [
                                                        0.6274509803921569,
                                                        "rgb(236,76,61)"
                                                    ],
                                                    [
                                                        0.6901960784313725,
                                                        "rgb(242,107,73)"
                                                    ],
                                                    [
                                                        0.7529411764705882,
                                                        "rgb(244,135,95)"
                                                    ],
                                                    [
                                                        0.8156862745098039,
                                                        "rgb(245,162,122)"
                                                    ],
                                                    [
                                                        0.8784313725490196,
                                                        "rgb(246,188,153)"
                                                    ],
                                                    [
                                                        0.9411764705882353,
                                                        "rgb(247,212,187)"
                                                    ],
                                                    [
                                                        1,
                                                        "rgb(250,234,220)"
                                                    ]
                                                ],
                                                "type": "heatmapgl"
                                            }
                                        ],
                                        "histogram": [
                                            {
                                                "marker": {
                                                    "pattern": {
                                                        "fillmode": "overlay",
                                                        "size": 10,
                                                        "solidity": 0.2
                                                    }
                                                },
                                                "type": "histogram"
                                            }
                                        ],
                                        "histogram2d": [
                                            {
                                                "colorbar": {
                                                    "outlinewidth": 0,
                                                    "tickcolor": "rgb(36,36,36)",
                                                    "ticklen": 8,
                                                    "ticks": "outside",
                                                    "tickwidth": 2
                                                },
                                                "colorscale": [
                                                    [
                                                        0,
                                                        "rgb(2,4,25)"
                                                    ],
                                                    [
                                                        0.06274509803921569,
                                                        "rgb(24,15,41)"
                                                    ],
                                                    [
                                                        0.12549019607843137,
                                                        "rgb(47,23,57)"
                                                    ],
                                                    [
                                                        0.18823529411764706,
                                                        "rgb(71,28,72)"
                                                    ],
                                                    [
                                                        0.25098039215686274,
                                                        "rgb(97,30,82)"
                                                    ],
                                                    [
                                                        0.3137254901960784,
                                                        "rgb(123,30,89)"
                                                    ],
                                                    [
                                                        0.3764705882352941,
                                                        "rgb(150,27,91)"
                                                    ],
                                                    [
                                                        0.4392156862745098,
                                                        "rgb(177,22,88)"
                                                    ],
                                                    [
                                                        0.5019607843137255,
                                                        "rgb(203,26,79)"
                                                    ],
                                                    [
                                                        0.5647058823529412,
                                                        "rgb(223,47,67)"
                                                    ],
                                                    [
                                                        0.6274509803921569,
                                                        "rgb(236,76,61)"
                                                    ],
                                                    [
                                                        0.6901960784313725,
                                                        "rgb(242,107,73)"
                                                    ],
                                                    [
                                                        0.7529411764705882,
                                                        "rgb(244,135,95)"
                                                    ],
                                                    [
                                                        0.8156862745098039,
                                                        "rgb(245,162,122)"
                                                    ],
                                                    [
                                                        0.8784313725490196,
                                                        "rgb(246,188,153)"
                                                    ],
                                                    [
                                                        0.9411764705882353,
                                                        "rgb(247,212,187)"
                                                    ],
                                                    [
                                                        1,
                                                        "rgb(250,234,220)"
                                                    ]
                                                ],
                                                "type": "histogram2d"
                                            }
                                        ],
                                        "histogram2dcontour": [
                                            {
                                                "colorbar": {
                                                    "outlinewidth": 0,
                                                    "tickcolor": "rgb(36,36,36)",
                                                    "ticklen": 8,
                                                    "ticks": "outside",
                                                    "tickwidth": 2
                                                },
                                                "colorscale": [
                                                    [
                                                        0,
                                                        "rgb(2,4,25)"
                                                    ],
                                                    [
                                                        0.06274509803921569,
                                                        "rgb(24,15,41)"
                                                    ],
                                                    [
                                                        0.12549019607843137,
                                                        "rgb(47,23,57)"
                                                    ],
                                                    [
                                                        0.18823529411764706,
                                                        "rgb(71,28,72)"
                                                    ],
                                                    [
                                                        0.25098039215686274,
                                                        "rgb(97,30,82)"
                                                    ],
                                                    [
                                                        0.3137254901960784,
                                                        "rgb(123,30,89)"
                                                    ],
                                                    [
                                                        0.3764705882352941,
                                                        "rgb(150,27,91)"
                                                    ],
                                                    [
                                                        0.4392156862745098,
                                                        "rgb(177,22,88)"
                                                    ],
                                                    [
                                                        0.5019607843137255,
                                                        "rgb(203,26,79)"
                                                    ],
                                                    [
                                                        0.5647058823529412,
                                                        "rgb(223,47,67)"
                                                    ],
                                                    [
                                                        0.6274509803921569,
                                                        "rgb(236,76,61)"
                                                    ],
                                                    [
                                                        0.6901960784313725,
                                                        "rgb(242,107,73)"
                                                    ],
                                                    [
                                                        0.7529411764705882,
                                                        "rgb(244,135,95)"
                                                    ],
                                                    [
                                                        0.8156862745098039,
                                                        "rgb(245,162,122)"
                                                    ],
                                                    [
                                                        0.8784313725490196,
                                                        "rgb(246,188,153)"
                                                    ],
                                                    [
                                                        0.9411764705882353,
                                                        "rgb(247,212,187)"
                                                    ],
                                                    [
                                                        1,
                                                        "rgb(250,234,220)"
                                                    ]
                                                ],
                                                "type": "histogram2dcontour"
                                            }
                                        ],
                                        "mesh3d": [
                                            {
                                                "colorbar": {
                                                    "outlinewidth": 0,
                                                    "tickcolor": "rgb(36,36,36)",
                                                    "ticklen": 8,
                                                    "ticks": "outside",
                                                    "tickwidth": 2
                                                },
                                                "type": "mesh3d"
                                            }
                                        ],
                                        "parcoords": [
                                            {
                                                "line": {
                                                    "colorbar": {
                                                        "outlinewidth": 0,
                                                        "tickcolor": "rgb(36,36,36)",
                                                        "ticklen": 8,
                                                        "ticks": "outside",
                                                        "tickwidth": 2
                                                    }
                                                },
                                                "type": "parcoords"
                                            }
                                        ],
                                        "pie": [
                                            {
                                                "automargin": true,
                                                "type": "pie"
                                            }
                                        ],
                                        "scatter": [
                                            {
                                                "fillpattern": {
                                                    "fillmode": "overlay",
                                                    "size": 10,
                                                    "solidity": 0.2
                                                },
                                                "type": "scatter"
                                            }
                                        ],
                                        "scatter3d": [
                                            {
                                                "line": {
                                                    "colorbar": {
                                                        "outlinewidth": 0,
                                                        "tickcolor": "rgb(36,36,36)",
                                                        "ticklen": 8,
                                                        "ticks": "outside",
                                                        "tickwidth": 2
                                                    }
                                                },
                                                "marker": {
                                                    "colorbar": {
                                                        "outlinewidth": 0,
                                                        "tickcolor": "rgb(36,36,36)",
                                                        "ticklen": 8,
                                                        "ticks": "outside",
                                                        "tickwidth": 2
                                                    }
                                                },
                                                "type": "scatter3d"
                                            }
                                        ],
                                        "scattercarpet": [
                                            {
                                                "marker": {
                                                    "colorbar": {
                                                        "outlinewidth": 0,
                                                        "tickcolor": "rgb(36,36,36)",
                                                        "ticklen": 8,
                                                        "ticks": "outside",
                                                        "tickwidth": 2
                                                    }
                                                },
                                                "type": "scattercarpet"
                                            }
                                        ],
                                        "scattergeo": [
                                            {
                                                "marker": {
                                                    "colorbar": {
                                                        "outlinewidth": 0,
                                                        "tickcolor": "rgb(36,36,36)",
                                                        "ticklen": 8,
                                                        "ticks": "outside",
                                                        "tickwidth": 2
                                                    }
                                                },
                                                "type": "scattergeo"
                                            }
                                        ],
                                        "scattergl": [
                                            {
                                                "marker": {
                                                    "colorbar": {
                                                        "outlinewidth": 0,
                                                        "tickcolor": "rgb(36,36,36)",
                                                        "ticklen": 8,
                                                        "ticks": "outside",
                                                        "tickwidth": 2
                                                    }
                                                },
                                                "type": "scattergl"
                                            }
                                        ],
                                        "scattermapbox": [
                                            {
                                                "marker": {
                                                    "colorbar": {
                                                        "outlinewidth": 0,
                                                        "tickcolor": "rgb(36,36,36)",
                                                        "ticklen": 8,
                                                        "ticks": "outside",
                                                        "tickwidth": 2
                                                    }
                                                },
                                                "type": "scattermapbox"
                                            }
                                        ],
                                        "scatterpolar": [
                                            {
                                                "marker": {
                                                    "colorbar": {
                                                        "outlinewidth": 0,
                                                        "tickcolor": "rgb(36,36,36)",
                                                        "ticklen": 8,
                                                        "ticks": "outside",
                                                        "tickwidth": 2
                                                    }
                                                },
                                                "type": "scatterpolar"
                                            }
                                        ],
                                        "scatterpolargl": [
                                            {
                                                "marker": {
                                                    "colorbar": {
                                                        "outlinewidth": 0,
                                                        "tickcolor": "rgb(36,36,36)",
                                                        "ticklen": 8,
                                                        "ticks": "outside",
                                                        "tickwidth": 2
                                                    }
                                                },
                                                "type": "scatterpolargl"
                                            }
                                        ],
                                        "scatterternary": [
                                            {
                                                "marker": {
                                                    "colorbar": {
                                                        "outlinewidth": 0,
                                                        "tickcolor": "rgb(36,36,36)",
                                                        "ticklen": 8,
                                                        "ticks": "outside",
                                                        "tickwidth": 2
                                                    }
                                                },
                                                "type": "scatterternary"
                                            }
                                        ],
                                        "surface": [
                                            {
                                                "colorbar": {
                                                    "outlinewidth": 0,
                                                    "tickcolor": "rgb(36,36,36)",
                                                    "ticklen": 8,
                                                    "ticks": "outside",
                                                    "tickwidth": 2
                                                },
                                                "colorscale": [
                                                    [
                                                        0,
                                                        "rgb(2,4,25)"
                                                    ],
                                                    [
                                                        0.06274509803921569,
                                                        "rgb(24,15,41)"
                                                    ],
                                                    [
                                                        0.12549019607843137,
                                                        "rgb(47,23,57)"
                                                    ],
                                                    [
                                                        0.18823529411764706,
                                                        "rgb(71,28,72)"
                                                    ],
                                                    [
                                                        0.25098039215686274,
                                                        "rgb(97,30,82)"
                                                    ],
                                                    [
                                                        0.3137254901960784,
                                                        "rgb(123,30,89)"
                                                    ],
                                                    [
                                                        0.3764705882352941,
                                                        "rgb(150,27,91)"
                                                    ],
                                                    [
                                                        0.4392156862745098,
                                                        "rgb(177,22,88)"
                                                    ],
                                                    [
                                                        0.5019607843137255,
                                                        "rgb(203,26,79)"
                                                    ],
                                                    [
                                                        0.5647058823529412,
                                                        "rgb(223,47,67)"
                                                    ],
                                                    [
                                                        0.6274509803921569,
                                                        "rgb(236,76,61)"
                                                    ],
                                                    [
                                                        0.6901960784313725,
                                                        "rgb(242,107,73)"
                                                    ],
                                                    [
                                                        0.7529411764705882,
                                                        "rgb(244,135,95)"
                                                    ],
                                                    [
                                                        0.8156862745098039,
                                                        "rgb(245,162,122)"
                                                    ],
                                                    [
                                                        0.8784313725490196,
                                                        "rgb(246,188,153)"
                                                    ],
                                                    [
                                                        0.9411764705882353,
                                                        "rgb(247,212,187)"
                                                    ],
                                                    [
                                                        1,
                                                        "rgb(250,234,220)"
                                                    ]
                                                ],
                                                "type": "surface"
                                            }
                                        ],
                                        "table": [
                                            {
                                                "cells": {
                                                    "fill": {
                                                        "color": "rgb(231,231,240)"
                                                    },
                                                    "line": {
                                                        "color": "white"
                                                    }
                                                },
                                                "header": {
                                                    "fill": {
                                                        "color": "rgb(183,183,191)"
                                                    },
                                                    "line": {
                                                        "color": "white"
                                                    }
                                                },
                                                "type": "table"
                                            }
                                        ]
                                    },
                                    "layout": {
                                        "annotationdefaults": {
                                            "arrowcolor": "rgb(67,103,167)"
                                        },
                                        "autotypenumbers": "strict",
                                        "coloraxis": {
                                            "colorbar": {
                                                "outlinewidth": 0,
                                                "tickcolor": "rgb(36,36,36)",
                                                "ticklen": 8,
                                                "ticks": "outside",
                                                "tickwidth": 2
                                            }
                                        },
                                        "colorscale": {
                                            "sequential": [
                                                [
                                                    0,
                                                    "rgb(2,4,25)"
                                                ],
                                                [
                                                    0.06274509803921569,
                                                    "rgb(24,15,41)"
                                                ],
                                                [
                                                    0.12549019607843137,
                                                    "rgb(47,23,57)"
                                                ],
                                                [
                                                    0.18823529411764706,
                                                    "rgb(71,28,72)"
                                                ],
                                                [
                                                    0.25098039215686274,
                                                    "rgb(97,30,82)"
                                                ],
                                                [
                                                    0.3137254901960784,
                                                    "rgb(123,30,89)"
                                                ],
                                                [
                                                    0.3764705882352941,
                                                    "rgb(150,27,91)"
                                                ],
                                                [
                                                    0.4392156862745098,
                                                    "rgb(177,22,88)"
                                                ],
                                                [
                                                    0.5019607843137255,
                                                    "rgb(203,26,79)"
                                                ],
                                                [
                                                    0.5647058823529412,
                                                    "rgb(223,47,67)"
                                                ],
                                                [
                                                    0.6274509803921569,
                                                    "rgb(236,76,61)"
                                                ],
                                                [
                                                    0.6901960784313725,
                                                    "rgb(242,107,73)"
                                                ],
                                                [
                                                    0.7529411764705882,
                                                    "rgb(244,135,95)"
                                                ],
                                                [
                                                    0.8156862745098039,
                                                    "rgb(245,162,122)"
                                                ],
                                                [
                                                    0.8784313725490196,
                                                    "rgb(246,188,153)"
                                                ],
                                                [
                                                    0.9411764705882353,
                                                    "rgb(247,212,187)"
                                                ],
                                                [
                                                    1,
                                                    "rgb(250,234,220)"
                                                ]
                                            ],
                                            "sequentialminus": [
                                                [
                                                    0,
                                                    "rgb(2,4,25)"
                                                ],
                                                [
                                                    0.06274509803921569,
                                                    "rgb(24,15,41)"
                                                ],
                                                [
                                                    0.12549019607843137,
                                                    "rgb(47,23,57)"
                                                ],
                                                [
                                                    0.18823529411764706,
                                                    "rgb(71,28,72)"
                                                ],
                                                [
                                                    0.25098039215686274,
                                                    "rgb(97,30,82)"
                                                ],
                                                [
                                                    0.3137254901960784,
                                                    "rgb(123,30,89)"
                                                ],
                                                [
                                                    0.3764705882352941,
                                                    "rgb(150,27,91)"
                                                ],
                                                [
                                                    0.4392156862745098,
                                                    "rgb(177,22,88)"
                                                ],
                                                [
                                                    0.5019607843137255,
                                                    "rgb(203,26,79)"
                                                ],
                                                [
                                                    0.5647058823529412,
                                                    "rgb(223,47,67)"
                                                ],
                                                [
                                                    0.6274509803921569,
                                                    "rgb(236,76,61)"
                                                ],
                                                [
                                                    0.6901960784313725,
                                                    "rgb(242,107,73)"
                                                ],
                                                [
                                                    0.7529411764705882,
                                                    "rgb(244,135,95)"
                                                ],
                                                [
                                                    0.8156862745098039,
                                                    "rgb(245,162,122)"
                                                ],
                                                [
                                                    0.8784313725490196,
                                                    "rgb(246,188,153)"
                                                ],
                                                [
                                                    0.9411764705882353,
                                                    "rgb(247,212,187)"
                                                ],
                                                [
                                                    1,
                                                    "rgb(250,234,220)"
                                                ]
                                            ]
                                        },
                                        "colorway": [
                                            "rgb(76,114,176)",
                                            "rgb(221,132,82)",
                                            "rgb(85,168,104)",
                                            "rgb(196,78,82)",
                                            "rgb(129,114,179)",
                                            "rgb(147,120,96)",
                                            "rgb(218,139,195)",
                                            "rgb(140,140,140)",
                                            "rgb(204,185,116)",
                                            "rgb(100,181,205)"
                                        ],
                                        "font": {
                                            "color": "rgb(36,36,36)"
                                        },
                                        "geo": {
                                            "bgcolor": "white",
                                            "lakecolor": "white",
                                            "landcolor": "rgb(234,234,242)",
                                            "showlakes": true,
                                            "showland": true,
                                            "subunitcolor": "white"
                                        },
                                        "hoverlabel": {
                                            "align": "left"
                                        },
                                        "hovermode": "closest",
                                        "paper_bgcolor": "white",
                                        "plot_bgcolor": "rgb(234,234,242)",
                                        "polar": {
                                            "angularaxis": {
                                                "gridcolor": "white",
                                                "linecolor": "white",
                                                "showgrid": true,
                                                "ticks": ""
                                            },
                                            "bgcolor": "rgb(234,234,242)",
                                            "radialaxis": {
                                                "gridcolor": "white",
                                                "linecolor": "white",
                                                "showgrid": true,
                                                "ticks": ""
                                            }
                                        },
                                        "scene": {
                                            "xaxis": {
                                                "backgroundcolor": "rgb(234,234,242)",
                                                "gridcolor": "white",
                                                "gridwidth": 2,
                                                "linecolor": "white",
                                                "showbackground": true,
                                                "showgrid": true,
                                                "ticks": "",
                                                "zerolinecolor": "white"
                                            },
                                            "yaxis": {
                                                "backgroundcolor": "rgb(234,234,242)",
                                                "gridcolor": "white",
                                                "gridwidth": 2,
                                                "linecolor": "white",
                                                "showbackground": true,
                                                "showgrid": true,
                                                "ticks": "",
                                                "zerolinecolor": "white"
                                            },
                                            "zaxis": {
                                                "backgroundcolor": "rgb(234,234,242)",
                                                "gridcolor": "white",
                                                "gridwidth": 2,
                                                "linecolor": "white",
                                                "showbackground": true,
                                                "showgrid": true,
                                                "ticks": "",
                                                "zerolinecolor": "white"
                                            }
                                        },
                                        "shapedefaults": {
                                            "fillcolor": "rgb(67,103,167)",
                                            "line": {
                                                "width": 0
                                            },
                                            "opacity": 0.5
                                        },
                                        "ternary": {
                                            "aaxis": {
                                                "gridcolor": "white",
                                                "linecolor": "white",
                                                "showgrid": true,
                                                "ticks": ""
                                            },
                                            "baxis": {
                                                "gridcolor": "white",
                                                "linecolor": "white",
                                                "showgrid": true,
                                                "ticks": ""
                                            },
                                            "bgcolor": "rgb(234,234,242)",
                                            "caxis": {
                                                "gridcolor": "white",
                                                "linecolor": "white",
                                                "showgrid": true,
                                                "ticks": ""
                                            }
                                        },
                                        "xaxis": {
                                            "automargin": true,
                                            "gridcolor": "white",
                                            "linecolor": "white",
                                            "showgrid": true,
                                            "ticks": "",
                                            "title": {
                                                "standoff": 15
                                            },
                                            "zerolinecolor": "white"
                                        },
                                        "yaxis": {
                                            "automargin": true,
                                            "gridcolor": "white",
                                            "linecolor": "white",
                                            "showgrid": true,
                                            "ticks": "",
                                            "title": {
                                                "standoff": 15
                                            },
                                            "zerolinecolor": "white"
                                        }
                                    }
                                },
                                "title": {
                                    "text": "Average Tips by Meal"
                                },
                                "width": 600,
                                "xaxis": {
                                    "anchor": "y",
                                    "domain": [
                                        0,
                                        1
                                    ],
                                    "title": {
                                        "text": "Day"
                                    }
                                },
                                "yaxis": {
                                    "anchor": "x",
                                    "domain": [
                                        0,
                                        1
                                    ],
                                    "title": {
                                        "text": "avg of Tips"
                                    }
                                }
                            }
                        }
                    },
                    "metadata": {},
                    "output_type": "display_data"
                }
            ],
            "source": [
                "px.histogram(x=tips.column(\"time\"), y=tips.column(\"tip\"), color = tips.column(\"time\"), \n",
                "             template = \"seaborn\", title = \"Average Tips by Meal\", labels = {\"x\": \"Day\", \"y\": \"Tips\"},\n",
                "             histfunc = \"avg\", width = 600, height = 400)\n",
                "# plots a bar chart of the tips by meal"
            ]
        },
        {
            "cell_type": "code",
            "execution_count": 82,
            "metadata": {},
            "outputs": [
                {
                    "data": {
                        "application/vnd.plotly.v1+json": {
                            "config": {
                                "plotlyServerURL": "https://plot.ly"
                            },
                            "data": [
                                {
                                    "alignmentgroup": "True",
                                    "bingroup": "x",
                                    "histfunc": "sum",
                                    "hovertemplate": "color=Sun<br>Day=%{x}<br>sum of Tips=%{y}<extra></extra>",
                                    "legendgroup": "Sun",
                                    "marker": {
                                        "color": "rgb(76,114,176)",
                                        "pattern": {
                                            "shape": ""
                                        }
                                    },
                                    "name": "Sun",
                                    "offsetgroup": "Sun",
                                    "orientation": "v",
                                    "showlegend": true,
                                    "type": "histogram",
                                    "x": [
                                        "Sun",
                                        "Sun",
                                        "Sun",
                                        "Sun",
                                        "Sun",
                                        "Sun",
                                        "Sun",
                                        "Sun",
                                        "Sun",
                                        "Sun",
                                        "Sun",
                                        "Sun",
                                        "Sun",
                                        "Sun",
                                        "Sun",
                                        "Sun",
                                        "Sun",
                                        "Sun",
                                        "Sun",
                                        "Sun",
                                        "Sun",
                                        "Sun",
                                        "Sun",
                                        "Sun",
                                        "Sun",
                                        "Sun",
                                        "Sun",
                                        "Sun",
                                        "Sun",
                                        "Sun",
                                        "Sun",
                                        "Sun",
                                        "Sun",
                                        "Sun",
                                        "Sun",
                                        "Sun",
                                        "Sun",
                                        "Sun",
                                        "Sun",
                                        "Sun",
                                        "Sun",
                                        "Sun",
                                        "Sun",
                                        "Sun",
                                        "Sun",
                                        "Sun",
                                        "Sun",
                                        "Sun",
                                        "Sun",
                                        "Sun",
                                        "Sun",
                                        "Sun",
                                        "Sun",
                                        "Sun",
                                        "Sun",
                                        "Sun",
                                        "Sun",
                                        "Sun",
                                        "Sun",
                                        "Sun",
                                        "Sun",
                                        "Sun",
                                        "Sun",
                                        "Sun",
                                        "Sun",
                                        "Sun",
                                        "Sun",
                                        "Sun",
                                        "Sun",
                                        "Sun",
                                        "Sun",
                                        "Sun",
                                        "Sun",
                                        "Sun",
                                        "Sun",
                                        "Sun"
                                    ],
                                    "xaxis": "x",
                                    "y": [
                                        1.01,
                                        1.66,
                                        3.5,
                                        3.31,
                                        3.61,
                                        4.71,
                                        2,
                                        3.12,
                                        1.96,
                                        3.23,
                                        1.71,
                                        5,
                                        1.57,
                                        3,
                                        3.02,
                                        3.92,
                                        1.67,
                                        3.71,
                                        3.5,
                                        2.54,
                                        3.06,
                                        1.32,
                                        5.6,
                                        3,
                                        5,
                                        6,
                                        2.05,
                                        3,
                                        2.5,
                                        2.6,
                                        5.2,
                                        1.56,
                                        4.34,
                                        3.51,
                                        4,
                                        2.55,
                                        4,
                                        3.5,
                                        5.07,
                                        2.5,
                                        2,
                                        2.74,
                                        2,
                                        2,
                                        5.14,
                                        5,
                                        3.75,
                                        2.61,
                                        2,
                                        3.5,
                                        2.5,
                                        2,
                                        2,
                                        3,
                                        3.48,
                                        2.24,
                                        4.5,
                                        5.15,
                                        3.18,
                                        4,
                                        3.11,
                                        2,
                                        2,
                                        4,
                                        3.55,
                                        3.68,
                                        5.65,
                                        3.5,
                                        6.5,
                                        3,
                                        5,
                                        3.5,
                                        2,
                                        3.5,
                                        4,
                                        1.5
                                    ],
                                    "yaxis": "y"
                                },
                                {
                                    "alignmentgroup": "True",
                                    "bingroup": "x",
                                    "histfunc": "sum",
                                    "hovertemplate": "color=Sat<br>Day=%{x}<br>sum of Tips=%{y}<extra></extra>",
                                    "legendgroup": "Sat",
                                    "marker": {
                                        "color": "rgb(221,132,82)",
                                        "pattern": {
                                            "shape": ""
                                        }
                                    },
                                    "name": "Sat",
                                    "offsetgroup": "Sat",
                                    "orientation": "v",
                                    "showlegend": true,
                                    "type": "histogram",
                                    "x": [
                                        "Sat",
                                        "Sat",
                                        "Sat",
                                        "Sat",
                                        "Sat",
                                        "Sat",
                                        "Sat",
                                        "Sat",
                                        "Sat",
                                        "Sat",
                                        "Sat",
                                        "Sat",
                                        "Sat",
                                        "Sat",
                                        "Sat",
                                        "Sat",
                                        "Sat",
                                        "Sat",
                                        "Sat",
                                        "Sat",
                                        "Sat",
                                        "Sat",
                                        "Sat",
                                        "Sat",
                                        "Sat",
                                        "Sat",
                                        "Sat",
                                        "Sat",
                                        "Sat",
                                        "Sat",
                                        "Sat",
                                        "Sat",
                                        "Sat",
                                        "Sat",
                                        "Sat",
                                        "Sat",
                                        "Sat",
                                        "Sat",
                                        "Sat",
                                        "Sat",
                                        "Sat",
                                        "Sat",
                                        "Sat",
                                        "Sat",
                                        "Sat",
                                        "Sat",
                                        "Sat",
                                        "Sat",
                                        "Sat",
                                        "Sat",
                                        "Sat",
                                        "Sat",
                                        "Sat",
                                        "Sat",
                                        "Sat",
                                        "Sat",
                                        "Sat",
                                        "Sat",
                                        "Sat",
                                        "Sat",
                                        "Sat",
                                        "Sat",
                                        "Sat",
                                        "Sat",
                                        "Sat",
                                        "Sat",
                                        "Sat",
                                        "Sat",
                                        "Sat",
                                        "Sat",
                                        "Sat",
                                        "Sat",
                                        "Sat",
                                        "Sat",
                                        "Sat",
                                        "Sat",
                                        "Sat",
                                        "Sat",
                                        "Sat",
                                        "Sat",
                                        "Sat",
                                        "Sat",
                                        "Sat",
                                        "Sat",
                                        "Sat",
                                        "Sat",
                                        "Sat"
                                    ],
                                    "xaxis": "x",
                                    "y": [
                                        3.35,
                                        4.08,
                                        2.75,
                                        2.23,
                                        7.58,
                                        3.18,
                                        2.34,
                                        2,
                                        2,
                                        4.3,
                                        3,
                                        1.45,
                                        2.5,
                                        3,
                                        2.45,
                                        3.27,
                                        3.6,
                                        2,
                                        3.07,
                                        2.31,
                                        5,
                                        2.24,
                                        3,
                                        1.5,
                                        1.76,
                                        6.73,
                                        3.21,
                                        2,
                                        1.98,
                                        3.76,
                                        2.64,
                                        3.15,
                                        2.47,
                                        1,
                                        2.01,
                                        2.09,
                                        1.97,
                                        3,
                                        3.14,
                                        5,
                                        2.2,
                                        1.25,
                                        3.08,
                                        2.5,
                                        3.48,
                                        4.08,
                                        1.64,
                                        4.06,
                                        4.29,
                                        3.76,
                                        4,
                                        3,
                                        1,
                                        1.61,
                                        2,
                                        10,
                                        3.16,
                                        3.41,
                                        3,
                                        2.03,
                                        2.23,
                                        2,
                                        5.16,
                                        9,
                                        2.5,
                                        6.5,
                                        1.1,
                                        3,
                                        1.5,
                                        1.44,
                                        3.09,
                                        3,
                                        2.72,
                                        2.88,
                                        2,
                                        3,
                                        3.39,
                                        1.47,
                                        3,
                                        1.25,
                                        1,
                                        1.17,
                                        4.67,
                                        5.92,
                                        2,
                                        2,
                                        1.75
                                    ],
                                    "yaxis": "y"
                                },
                                {
                                    "alignmentgroup": "True",
                                    "bingroup": "x",
                                    "histfunc": "sum",
                                    "hovertemplate": "color=Thur<br>Day=%{x}<br>sum of Tips=%{y}<extra></extra>",
                                    "legendgroup": "Thur",
                                    "marker": {
                                        "color": "rgb(85,168,104)",
                                        "pattern": {
                                            "shape": ""
                                        }
                                    },
                                    "name": "Thur",
                                    "offsetgroup": "Thur",
                                    "orientation": "v",
                                    "showlegend": true,
                                    "type": "histogram",
                                    "x": [
                                        "Thur",
                                        "Thur",
                                        "Thur",
                                        "Thur",
                                        "Thur",
                                        "Thur",
                                        "Thur",
                                        "Thur",
                                        "Thur",
                                        "Thur",
                                        "Thur",
                                        "Thur",
                                        "Thur",
                                        "Thur",
                                        "Thur",
                                        "Thur",
                                        "Thur",
                                        "Thur",
                                        "Thur",
                                        "Thur",
                                        "Thur",
                                        "Thur",
                                        "Thur",
                                        "Thur",
                                        "Thur",
                                        "Thur",
                                        "Thur",
                                        "Thur",
                                        "Thur",
                                        "Thur",
                                        "Thur",
                                        "Thur",
                                        "Thur",
                                        "Thur",
                                        "Thur",
                                        "Thur",
                                        "Thur",
                                        "Thur",
                                        "Thur",
                                        "Thur",
                                        "Thur",
                                        "Thur",
                                        "Thur",
                                        "Thur",
                                        "Thur",
                                        "Thur",
                                        "Thur",
                                        "Thur",
                                        "Thur",
                                        "Thur",
                                        "Thur",
                                        "Thur",
                                        "Thur",
                                        "Thur",
                                        "Thur",
                                        "Thur",
                                        "Thur",
                                        "Thur",
                                        "Thur",
                                        "Thur",
                                        "Thur",
                                        "Thur"
                                    ],
                                    "xaxis": "x",
                                    "y": [
                                        4,
                                        3,
                                        2.71,
                                        3,
                                        3.4,
                                        1.83,
                                        5,
                                        2.03,
                                        5.17,
                                        2,
                                        4,
                                        5.85,
                                        3,
                                        1.5,
                                        1.8,
                                        2.92,
                                        2.31,
                                        1.68,
                                        2.5,
                                        2,
                                        2.52,
                                        4.2,
                                        1.48,
                                        2,
                                        2,
                                        2.18,
                                        1.5,
                                        2.83,
                                        1.5,
                                        2,
                                        3.25,
                                        1.25,
                                        2,
                                        2,
                                        2,
                                        2.75,
                                        3.5,
                                        6.7,
                                        5,
                                        5,
                                        2.3,
                                        1.5,
                                        1.36,
                                        1.63,
                                        1.73,
                                        2,
                                        4.19,
                                        2.56,
                                        2.02,
                                        4,
                                        1.44,
                                        2,
                                        5,
                                        2,
                                        2,
                                        4,
                                        2.01,
                                        2,
                                        2.5,
                                        4,
                                        3.23,
                                        3
                                    ],
                                    "yaxis": "y"
                                },
                                {
                                    "alignmentgroup": "True",
                                    "bingroup": "x",
                                    "histfunc": "sum",
                                    "hovertemplate": "color=Fri<br>Day=%{x}<br>sum of Tips=%{y}<extra></extra>",
                                    "legendgroup": "Fri",
                                    "marker": {
                                        "color": "rgb(196,78,82)",
                                        "pattern": {
                                            "shape": ""
                                        }
                                    },
                                    "name": "Fri",
                                    "offsetgroup": "Fri",
                                    "orientation": "v",
                                    "showlegend": true,
                                    "type": "histogram",
                                    "x": [
                                        "Fri",
                                        "Fri",
                                        "Fri",
                                        "Fri",
                                        "Fri",
                                        "Fri",
                                        "Fri",
                                        "Fri",
                                        "Fri",
                                        "Fri",
                                        "Fri",
                                        "Fri",
                                        "Fri",
                                        "Fri",
                                        "Fri",
                                        "Fri",
                                        "Fri",
                                        "Fri",
                                        "Fri"
                                    ],
                                    "xaxis": "x",
                                    "y": [
                                        3,
                                        3.5,
                                        1,
                                        4.3,
                                        3.25,
                                        4.73,
                                        4,
                                        1.5,
                                        3,
                                        1.5,
                                        2.5,
                                        3,
                                        2.2,
                                        3.48,
                                        1.92,
                                        3,
                                        1.58,
                                        2.5,
                                        2
                                    ],
                                    "yaxis": "y"
                                }
                            ],
                            "layout": {
                                "barmode": "relative",
                                "height": 400,
                                "legend": {
                                    "title": {
                                        "text": "color"
                                    },
                                    "tracegroupgap": 0
                                },
                                "template": {
                                    "data": {
                                        "bar": [
                                            {
                                                "error_x": {
                                                    "color": "rgb(36,36,36)"
                                                },
                                                "error_y": {
                                                    "color": "rgb(36,36,36)"
                                                },
                                                "marker": {
                                                    "line": {
                                                        "color": "rgb(234,234,242)",
                                                        "width": 0.5
                                                    },
                                                    "pattern": {
                                                        "fillmode": "overlay",
                                                        "size": 10,
                                                        "solidity": 0.2
                                                    }
                                                },
                                                "type": "bar"
                                            }
                                        ],
                                        "barpolar": [
                                            {
                                                "marker": {
                                                    "line": {
                                                        "color": "rgb(234,234,242)",
                                                        "width": 0.5
                                                    },
                                                    "pattern": {
                                                        "fillmode": "overlay",
                                                        "size": 10,
                                                        "solidity": 0.2
                                                    }
                                                },
                                                "type": "barpolar"
                                            }
                                        ],
                                        "carpet": [
                                            {
                                                "aaxis": {
                                                    "endlinecolor": "rgb(36,36,36)",
                                                    "gridcolor": "white",
                                                    "linecolor": "white",
                                                    "minorgridcolor": "white",
                                                    "startlinecolor": "rgb(36,36,36)"
                                                },
                                                "baxis": {
                                                    "endlinecolor": "rgb(36,36,36)",
                                                    "gridcolor": "white",
                                                    "linecolor": "white",
                                                    "minorgridcolor": "white",
                                                    "startlinecolor": "rgb(36,36,36)"
                                                },
                                                "type": "carpet"
                                            }
                                        ],
                                        "choropleth": [
                                            {
                                                "colorbar": {
                                                    "outlinewidth": 0,
                                                    "tickcolor": "rgb(36,36,36)",
                                                    "ticklen": 8,
                                                    "ticks": "outside",
                                                    "tickwidth": 2
                                                },
                                                "type": "choropleth"
                                            }
                                        ],
                                        "contour": [
                                            {
                                                "colorbar": {
                                                    "outlinewidth": 0,
                                                    "tickcolor": "rgb(36,36,36)",
                                                    "ticklen": 8,
                                                    "ticks": "outside",
                                                    "tickwidth": 2
                                                },
                                                "colorscale": [
                                                    [
                                                        0,
                                                        "rgb(2,4,25)"
                                                    ],
                                                    [
                                                        0.06274509803921569,
                                                        "rgb(24,15,41)"
                                                    ],
                                                    [
                                                        0.12549019607843137,
                                                        "rgb(47,23,57)"
                                                    ],
                                                    [
                                                        0.18823529411764706,
                                                        "rgb(71,28,72)"
                                                    ],
                                                    [
                                                        0.25098039215686274,
                                                        "rgb(97,30,82)"
                                                    ],
                                                    [
                                                        0.3137254901960784,
                                                        "rgb(123,30,89)"
                                                    ],
                                                    [
                                                        0.3764705882352941,
                                                        "rgb(150,27,91)"
                                                    ],
                                                    [
                                                        0.4392156862745098,
                                                        "rgb(177,22,88)"
                                                    ],
                                                    [
                                                        0.5019607843137255,
                                                        "rgb(203,26,79)"
                                                    ],
                                                    [
                                                        0.5647058823529412,
                                                        "rgb(223,47,67)"
                                                    ],
                                                    [
                                                        0.6274509803921569,
                                                        "rgb(236,76,61)"
                                                    ],
                                                    [
                                                        0.6901960784313725,
                                                        "rgb(242,107,73)"
                                                    ],
                                                    [
                                                        0.7529411764705882,
                                                        "rgb(244,135,95)"
                                                    ],
                                                    [
                                                        0.8156862745098039,
                                                        "rgb(245,162,122)"
                                                    ],
                                                    [
                                                        0.8784313725490196,
                                                        "rgb(246,188,153)"
                                                    ],
                                                    [
                                                        0.9411764705882353,
                                                        "rgb(247,212,187)"
                                                    ],
                                                    [
                                                        1,
                                                        "rgb(250,234,220)"
                                                    ]
                                                ],
                                                "type": "contour"
                                            }
                                        ],
                                        "contourcarpet": [
                                            {
                                                "colorbar": {
                                                    "outlinewidth": 0,
                                                    "tickcolor": "rgb(36,36,36)",
                                                    "ticklen": 8,
                                                    "ticks": "outside",
                                                    "tickwidth": 2
                                                },
                                                "type": "contourcarpet"
                                            }
                                        ],
                                        "heatmap": [
                                            {
                                                "colorbar": {
                                                    "outlinewidth": 0,
                                                    "tickcolor": "rgb(36,36,36)",
                                                    "ticklen": 8,
                                                    "ticks": "outside",
                                                    "tickwidth": 2
                                                },
                                                "colorscale": [
                                                    [
                                                        0,
                                                        "rgb(2,4,25)"
                                                    ],
                                                    [
                                                        0.06274509803921569,
                                                        "rgb(24,15,41)"
                                                    ],
                                                    [
                                                        0.12549019607843137,
                                                        "rgb(47,23,57)"
                                                    ],
                                                    [
                                                        0.18823529411764706,
                                                        "rgb(71,28,72)"
                                                    ],
                                                    [
                                                        0.25098039215686274,
                                                        "rgb(97,30,82)"
                                                    ],
                                                    [
                                                        0.3137254901960784,
                                                        "rgb(123,30,89)"
                                                    ],
                                                    [
                                                        0.3764705882352941,
                                                        "rgb(150,27,91)"
                                                    ],
                                                    [
                                                        0.4392156862745098,
                                                        "rgb(177,22,88)"
                                                    ],
                                                    [
                                                        0.5019607843137255,
                                                        "rgb(203,26,79)"
                                                    ],
                                                    [
                                                        0.5647058823529412,
                                                        "rgb(223,47,67)"
                                                    ],
                                                    [
                                                        0.6274509803921569,
                                                        "rgb(236,76,61)"
                                                    ],
                                                    [
                                                        0.6901960784313725,
                                                        "rgb(242,107,73)"
                                                    ],
                                                    [
                                                        0.7529411764705882,
                                                        "rgb(244,135,95)"
                                                    ],
                                                    [
                                                        0.8156862745098039,
                                                        "rgb(245,162,122)"
                                                    ],
                                                    [
                                                        0.8784313725490196,
                                                        "rgb(246,188,153)"
                                                    ],
                                                    [
                                                        0.9411764705882353,
                                                        "rgb(247,212,187)"
                                                    ],
                                                    [
                                                        1,
                                                        "rgb(250,234,220)"
                                                    ]
                                                ],
                                                "type": "heatmap"
                                            }
                                        ],
                                        "heatmapgl": [
                                            {
                                                "colorbar": {
                                                    "outlinewidth": 0,
                                                    "tickcolor": "rgb(36,36,36)",
                                                    "ticklen": 8,
                                                    "ticks": "outside",
                                                    "tickwidth": 2
                                                },
                                                "colorscale": [
                                                    [
                                                        0,
                                                        "rgb(2,4,25)"
                                                    ],
                                                    [
                                                        0.06274509803921569,
                                                        "rgb(24,15,41)"
                                                    ],
                                                    [
                                                        0.12549019607843137,
                                                        "rgb(47,23,57)"
                                                    ],
                                                    [
                                                        0.18823529411764706,
                                                        "rgb(71,28,72)"
                                                    ],
                                                    [
                                                        0.25098039215686274,
                                                        "rgb(97,30,82)"
                                                    ],
                                                    [
                                                        0.3137254901960784,
                                                        "rgb(123,30,89)"
                                                    ],
                                                    [
                                                        0.3764705882352941,
                                                        "rgb(150,27,91)"
                                                    ],
                                                    [
                                                        0.4392156862745098,
                                                        "rgb(177,22,88)"
                                                    ],
                                                    [
                                                        0.5019607843137255,
                                                        "rgb(203,26,79)"
                                                    ],
                                                    [
                                                        0.5647058823529412,
                                                        "rgb(223,47,67)"
                                                    ],
                                                    [
                                                        0.6274509803921569,
                                                        "rgb(236,76,61)"
                                                    ],
                                                    [
                                                        0.6901960784313725,
                                                        "rgb(242,107,73)"
                                                    ],
                                                    [
                                                        0.7529411764705882,
                                                        "rgb(244,135,95)"
                                                    ],
                                                    [
                                                        0.8156862745098039,
                                                        "rgb(245,162,122)"
                                                    ],
                                                    [
                                                        0.8784313725490196,
                                                        "rgb(246,188,153)"
                                                    ],
                                                    [
                                                        0.9411764705882353,
                                                        "rgb(247,212,187)"
                                                    ],
                                                    [
                                                        1,
                                                        "rgb(250,234,220)"
                                                    ]
                                                ],
                                                "type": "heatmapgl"
                                            }
                                        ],
                                        "histogram": [
                                            {
                                                "marker": {
                                                    "pattern": {
                                                        "fillmode": "overlay",
                                                        "size": 10,
                                                        "solidity": 0.2
                                                    }
                                                },
                                                "type": "histogram"
                                            }
                                        ],
                                        "histogram2d": [
                                            {
                                                "colorbar": {
                                                    "outlinewidth": 0,
                                                    "tickcolor": "rgb(36,36,36)",
                                                    "ticklen": 8,
                                                    "ticks": "outside",
                                                    "tickwidth": 2
                                                },
                                                "colorscale": [
                                                    [
                                                        0,
                                                        "rgb(2,4,25)"
                                                    ],
                                                    [
                                                        0.06274509803921569,
                                                        "rgb(24,15,41)"
                                                    ],
                                                    [
                                                        0.12549019607843137,
                                                        "rgb(47,23,57)"
                                                    ],
                                                    [
                                                        0.18823529411764706,
                                                        "rgb(71,28,72)"
                                                    ],
                                                    [
                                                        0.25098039215686274,
                                                        "rgb(97,30,82)"
                                                    ],
                                                    [
                                                        0.3137254901960784,
                                                        "rgb(123,30,89)"
                                                    ],
                                                    [
                                                        0.3764705882352941,
                                                        "rgb(150,27,91)"
                                                    ],
                                                    [
                                                        0.4392156862745098,
                                                        "rgb(177,22,88)"
                                                    ],
                                                    [
                                                        0.5019607843137255,
                                                        "rgb(203,26,79)"
                                                    ],
                                                    [
                                                        0.5647058823529412,
                                                        "rgb(223,47,67)"
                                                    ],
                                                    [
                                                        0.6274509803921569,
                                                        "rgb(236,76,61)"
                                                    ],
                                                    [
                                                        0.6901960784313725,
                                                        "rgb(242,107,73)"
                                                    ],
                                                    [
                                                        0.7529411764705882,
                                                        "rgb(244,135,95)"
                                                    ],
                                                    [
                                                        0.8156862745098039,
                                                        "rgb(245,162,122)"
                                                    ],
                                                    [
                                                        0.8784313725490196,
                                                        "rgb(246,188,153)"
                                                    ],
                                                    [
                                                        0.9411764705882353,
                                                        "rgb(247,212,187)"
                                                    ],
                                                    [
                                                        1,
                                                        "rgb(250,234,220)"
                                                    ]
                                                ],
                                                "type": "histogram2d"
                                            }
                                        ],
                                        "histogram2dcontour": [
                                            {
                                                "colorbar": {
                                                    "outlinewidth": 0,
                                                    "tickcolor": "rgb(36,36,36)",
                                                    "ticklen": 8,
                                                    "ticks": "outside",
                                                    "tickwidth": 2
                                                },
                                                "colorscale": [
                                                    [
                                                        0,
                                                        "rgb(2,4,25)"
                                                    ],
                                                    [
                                                        0.06274509803921569,
                                                        "rgb(24,15,41)"
                                                    ],
                                                    [
                                                        0.12549019607843137,
                                                        "rgb(47,23,57)"
                                                    ],
                                                    [
                                                        0.18823529411764706,
                                                        "rgb(71,28,72)"
                                                    ],
                                                    [
                                                        0.25098039215686274,
                                                        "rgb(97,30,82)"
                                                    ],
                                                    [
                                                        0.3137254901960784,
                                                        "rgb(123,30,89)"
                                                    ],
                                                    [
                                                        0.3764705882352941,
                                                        "rgb(150,27,91)"
                                                    ],
                                                    [
                                                        0.4392156862745098,
                                                        "rgb(177,22,88)"
                                                    ],
                                                    [
                                                        0.5019607843137255,
                                                        "rgb(203,26,79)"
                                                    ],
                                                    [
                                                        0.5647058823529412,
                                                        "rgb(223,47,67)"
                                                    ],
                                                    [
                                                        0.6274509803921569,
                                                        "rgb(236,76,61)"
                                                    ],
                                                    [
                                                        0.6901960784313725,
                                                        "rgb(242,107,73)"
                                                    ],
                                                    [
                                                        0.7529411764705882,
                                                        "rgb(244,135,95)"
                                                    ],
                                                    [
                                                        0.8156862745098039,
                                                        "rgb(245,162,122)"
                                                    ],
                                                    [
                                                        0.8784313725490196,
                                                        "rgb(246,188,153)"
                                                    ],
                                                    [
                                                        0.9411764705882353,
                                                        "rgb(247,212,187)"
                                                    ],
                                                    [
                                                        1,
                                                        "rgb(250,234,220)"
                                                    ]
                                                ],
                                                "type": "histogram2dcontour"
                                            }
                                        ],
                                        "mesh3d": [
                                            {
                                                "colorbar": {
                                                    "outlinewidth": 0,
                                                    "tickcolor": "rgb(36,36,36)",
                                                    "ticklen": 8,
                                                    "ticks": "outside",
                                                    "tickwidth": 2
                                                },
                                                "type": "mesh3d"
                                            }
                                        ],
                                        "parcoords": [
                                            {
                                                "line": {
                                                    "colorbar": {
                                                        "outlinewidth": 0,
                                                        "tickcolor": "rgb(36,36,36)",
                                                        "ticklen": 8,
                                                        "ticks": "outside",
                                                        "tickwidth": 2
                                                    }
                                                },
                                                "type": "parcoords"
                                            }
                                        ],
                                        "pie": [
                                            {
                                                "automargin": true,
                                                "type": "pie"
                                            }
                                        ],
                                        "scatter": [
                                            {
                                                "fillpattern": {
                                                    "fillmode": "overlay",
                                                    "size": 10,
                                                    "solidity": 0.2
                                                },
                                                "type": "scatter"
                                            }
                                        ],
                                        "scatter3d": [
                                            {
                                                "line": {
                                                    "colorbar": {
                                                        "outlinewidth": 0,
                                                        "tickcolor": "rgb(36,36,36)",
                                                        "ticklen": 8,
                                                        "ticks": "outside",
                                                        "tickwidth": 2
                                                    }
                                                },
                                                "marker": {
                                                    "colorbar": {
                                                        "outlinewidth": 0,
                                                        "tickcolor": "rgb(36,36,36)",
                                                        "ticklen": 8,
                                                        "ticks": "outside",
                                                        "tickwidth": 2
                                                    }
                                                },
                                                "type": "scatter3d"
                                            }
                                        ],
                                        "scattercarpet": [
                                            {
                                                "marker": {
                                                    "colorbar": {
                                                        "outlinewidth": 0,
                                                        "tickcolor": "rgb(36,36,36)",
                                                        "ticklen": 8,
                                                        "ticks": "outside",
                                                        "tickwidth": 2
                                                    }
                                                },
                                                "type": "scattercarpet"
                                            }
                                        ],
                                        "scattergeo": [
                                            {
                                                "marker": {
                                                    "colorbar": {
                                                        "outlinewidth": 0,
                                                        "tickcolor": "rgb(36,36,36)",
                                                        "ticklen": 8,
                                                        "ticks": "outside",
                                                        "tickwidth": 2
                                                    }
                                                },
                                                "type": "scattergeo"
                                            }
                                        ],
                                        "scattergl": [
                                            {
                                                "marker": {
                                                    "colorbar": {
                                                        "outlinewidth": 0,
                                                        "tickcolor": "rgb(36,36,36)",
                                                        "ticklen": 8,
                                                        "ticks": "outside",
                                                        "tickwidth": 2
                                                    }
                                                },
                                                "type": "scattergl"
                                            }
                                        ],
                                        "scattermapbox": [
                                            {
                                                "marker": {
                                                    "colorbar": {
                                                        "outlinewidth": 0,
                                                        "tickcolor": "rgb(36,36,36)",
                                                        "ticklen": 8,
                                                        "ticks": "outside",
                                                        "tickwidth": 2
                                                    }
                                                },
                                                "type": "scattermapbox"
                                            }
                                        ],
                                        "scatterpolar": [
                                            {
                                                "marker": {
                                                    "colorbar": {
                                                        "outlinewidth": 0,
                                                        "tickcolor": "rgb(36,36,36)",
                                                        "ticklen": 8,
                                                        "ticks": "outside",
                                                        "tickwidth": 2
                                                    }
                                                },
                                                "type": "scatterpolar"
                                            }
                                        ],
                                        "scatterpolargl": [
                                            {
                                                "marker": {
                                                    "colorbar": {
                                                        "outlinewidth": 0,
                                                        "tickcolor": "rgb(36,36,36)",
                                                        "ticklen": 8,
                                                        "ticks": "outside",
                                                        "tickwidth": 2
                                                    }
                                                },
                                                "type": "scatterpolargl"
                                            }
                                        ],
                                        "scatterternary": [
                                            {
                                                "marker": {
                                                    "colorbar": {
                                                        "outlinewidth": 0,
                                                        "tickcolor": "rgb(36,36,36)",
                                                        "ticklen": 8,
                                                        "ticks": "outside",
                                                        "tickwidth": 2
                                                    }
                                                },
                                                "type": "scatterternary"
                                            }
                                        ],
                                        "surface": [
                                            {
                                                "colorbar": {
                                                    "outlinewidth": 0,
                                                    "tickcolor": "rgb(36,36,36)",
                                                    "ticklen": 8,
                                                    "ticks": "outside",
                                                    "tickwidth": 2
                                                },
                                                "colorscale": [
                                                    [
                                                        0,
                                                        "rgb(2,4,25)"
                                                    ],
                                                    [
                                                        0.06274509803921569,
                                                        "rgb(24,15,41)"
                                                    ],
                                                    [
                                                        0.12549019607843137,
                                                        "rgb(47,23,57)"
                                                    ],
                                                    [
                                                        0.18823529411764706,
                                                        "rgb(71,28,72)"
                                                    ],
                                                    [
                                                        0.25098039215686274,
                                                        "rgb(97,30,82)"
                                                    ],
                                                    [
                                                        0.3137254901960784,
                                                        "rgb(123,30,89)"
                                                    ],
                                                    [
                                                        0.3764705882352941,
                                                        "rgb(150,27,91)"
                                                    ],
                                                    [
                                                        0.4392156862745098,
                                                        "rgb(177,22,88)"
                                                    ],
                                                    [
                                                        0.5019607843137255,
                                                        "rgb(203,26,79)"
                                                    ],
                                                    [
                                                        0.5647058823529412,
                                                        "rgb(223,47,67)"
                                                    ],
                                                    [
                                                        0.6274509803921569,
                                                        "rgb(236,76,61)"
                                                    ],
                                                    [
                                                        0.6901960784313725,
                                                        "rgb(242,107,73)"
                                                    ],
                                                    [
                                                        0.7529411764705882,
                                                        "rgb(244,135,95)"
                                                    ],
                                                    [
                                                        0.8156862745098039,
                                                        "rgb(245,162,122)"
                                                    ],
                                                    [
                                                        0.8784313725490196,
                                                        "rgb(246,188,153)"
                                                    ],
                                                    [
                                                        0.9411764705882353,
                                                        "rgb(247,212,187)"
                                                    ],
                                                    [
                                                        1,
                                                        "rgb(250,234,220)"
                                                    ]
                                                ],
                                                "type": "surface"
                                            }
                                        ],
                                        "table": [
                                            {
                                                "cells": {
                                                    "fill": {
                                                        "color": "rgb(231,231,240)"
                                                    },
                                                    "line": {
                                                        "color": "white"
                                                    }
                                                },
                                                "header": {
                                                    "fill": {
                                                        "color": "rgb(183,183,191)"
                                                    },
                                                    "line": {
                                                        "color": "white"
                                                    }
                                                },
                                                "type": "table"
                                            }
                                        ]
                                    },
                                    "layout": {
                                        "annotationdefaults": {
                                            "arrowcolor": "rgb(67,103,167)"
                                        },
                                        "autotypenumbers": "strict",
                                        "coloraxis": {
                                            "colorbar": {
                                                "outlinewidth": 0,
                                                "tickcolor": "rgb(36,36,36)",
                                                "ticklen": 8,
                                                "ticks": "outside",
                                                "tickwidth": 2
                                            }
                                        },
                                        "colorscale": {
                                            "sequential": [
                                                [
                                                    0,
                                                    "rgb(2,4,25)"
                                                ],
                                                [
                                                    0.06274509803921569,
                                                    "rgb(24,15,41)"
                                                ],
                                                [
                                                    0.12549019607843137,
                                                    "rgb(47,23,57)"
                                                ],
                                                [
                                                    0.18823529411764706,
                                                    "rgb(71,28,72)"
                                                ],
                                                [
                                                    0.25098039215686274,
                                                    "rgb(97,30,82)"
                                                ],
                                                [
                                                    0.3137254901960784,
                                                    "rgb(123,30,89)"
                                                ],
                                                [
                                                    0.3764705882352941,
                                                    "rgb(150,27,91)"
                                                ],
                                                [
                                                    0.4392156862745098,
                                                    "rgb(177,22,88)"
                                                ],
                                                [
                                                    0.5019607843137255,
                                                    "rgb(203,26,79)"
                                                ],
                                                [
                                                    0.5647058823529412,
                                                    "rgb(223,47,67)"
                                                ],
                                                [
                                                    0.6274509803921569,
                                                    "rgb(236,76,61)"
                                                ],
                                                [
                                                    0.6901960784313725,
                                                    "rgb(242,107,73)"
                                                ],
                                                [
                                                    0.7529411764705882,
                                                    "rgb(244,135,95)"
                                                ],
                                                [
                                                    0.8156862745098039,
                                                    "rgb(245,162,122)"
                                                ],
                                                [
                                                    0.8784313725490196,
                                                    "rgb(246,188,153)"
                                                ],
                                                [
                                                    0.9411764705882353,
                                                    "rgb(247,212,187)"
                                                ],
                                                [
                                                    1,
                                                    "rgb(250,234,220)"
                                                ]
                                            ],
                                            "sequentialminus": [
                                                [
                                                    0,
                                                    "rgb(2,4,25)"
                                                ],
                                                [
                                                    0.06274509803921569,
                                                    "rgb(24,15,41)"
                                                ],
                                                [
                                                    0.12549019607843137,
                                                    "rgb(47,23,57)"
                                                ],
                                                [
                                                    0.18823529411764706,
                                                    "rgb(71,28,72)"
                                                ],
                                                [
                                                    0.25098039215686274,
                                                    "rgb(97,30,82)"
                                                ],
                                                [
                                                    0.3137254901960784,
                                                    "rgb(123,30,89)"
                                                ],
                                                [
                                                    0.3764705882352941,
                                                    "rgb(150,27,91)"
                                                ],
                                                [
                                                    0.4392156862745098,
                                                    "rgb(177,22,88)"
                                                ],
                                                [
                                                    0.5019607843137255,
                                                    "rgb(203,26,79)"
                                                ],
                                                [
                                                    0.5647058823529412,
                                                    "rgb(223,47,67)"
                                                ],
                                                [
                                                    0.6274509803921569,
                                                    "rgb(236,76,61)"
                                                ],
                                                [
                                                    0.6901960784313725,
                                                    "rgb(242,107,73)"
                                                ],
                                                [
                                                    0.7529411764705882,
                                                    "rgb(244,135,95)"
                                                ],
                                                [
                                                    0.8156862745098039,
                                                    "rgb(245,162,122)"
                                                ],
                                                [
                                                    0.8784313725490196,
                                                    "rgb(246,188,153)"
                                                ],
                                                [
                                                    0.9411764705882353,
                                                    "rgb(247,212,187)"
                                                ],
                                                [
                                                    1,
                                                    "rgb(250,234,220)"
                                                ]
                                            ]
                                        },
                                        "colorway": [
                                            "rgb(76,114,176)",
                                            "rgb(221,132,82)",
                                            "rgb(85,168,104)",
                                            "rgb(196,78,82)",
                                            "rgb(129,114,179)",
                                            "rgb(147,120,96)",
                                            "rgb(218,139,195)",
                                            "rgb(140,140,140)",
                                            "rgb(204,185,116)",
                                            "rgb(100,181,205)"
                                        ],
                                        "font": {
                                            "color": "rgb(36,36,36)"
                                        },
                                        "geo": {
                                            "bgcolor": "white",
                                            "lakecolor": "white",
                                            "landcolor": "rgb(234,234,242)",
                                            "showlakes": true,
                                            "showland": true,
                                            "subunitcolor": "white"
                                        },
                                        "hoverlabel": {
                                            "align": "left"
                                        },
                                        "hovermode": "closest",
                                        "paper_bgcolor": "white",
                                        "plot_bgcolor": "rgb(234,234,242)",
                                        "polar": {
                                            "angularaxis": {
                                                "gridcolor": "white",
                                                "linecolor": "white",
                                                "showgrid": true,
                                                "ticks": ""
                                            },
                                            "bgcolor": "rgb(234,234,242)",
                                            "radialaxis": {
                                                "gridcolor": "white",
                                                "linecolor": "white",
                                                "showgrid": true,
                                                "ticks": ""
                                            }
                                        },
                                        "scene": {
                                            "xaxis": {
                                                "backgroundcolor": "rgb(234,234,242)",
                                                "gridcolor": "white",
                                                "gridwidth": 2,
                                                "linecolor": "white",
                                                "showbackground": true,
                                                "showgrid": true,
                                                "ticks": "",
                                                "zerolinecolor": "white"
                                            },
                                            "yaxis": {
                                                "backgroundcolor": "rgb(234,234,242)",
                                                "gridcolor": "white",
                                                "gridwidth": 2,
                                                "linecolor": "white",
                                                "showbackground": true,
                                                "showgrid": true,
                                                "ticks": "",
                                                "zerolinecolor": "white"
                                            },
                                            "zaxis": {
                                                "backgroundcolor": "rgb(234,234,242)",
                                                "gridcolor": "white",
                                                "gridwidth": 2,
                                                "linecolor": "white",
                                                "showbackground": true,
                                                "showgrid": true,
                                                "ticks": "",
                                                "zerolinecolor": "white"
                                            }
                                        },
                                        "shapedefaults": {
                                            "fillcolor": "rgb(67,103,167)",
                                            "line": {
                                                "width": 0
                                            },
                                            "opacity": 0.5
                                        },
                                        "ternary": {
                                            "aaxis": {
                                                "gridcolor": "white",
                                                "linecolor": "white",
                                                "showgrid": true,
                                                "ticks": ""
                                            },
                                            "baxis": {
                                                "gridcolor": "white",
                                                "linecolor": "white",
                                                "showgrid": true,
                                                "ticks": ""
                                            },
                                            "bgcolor": "rgb(234,234,242)",
                                            "caxis": {
                                                "gridcolor": "white",
                                                "linecolor": "white",
                                                "showgrid": true,
                                                "ticks": ""
                                            }
                                        },
                                        "xaxis": {
                                            "automargin": true,
                                            "gridcolor": "white",
                                            "linecolor": "white",
                                            "showgrid": true,
                                            "ticks": "",
                                            "title": {
                                                "standoff": 15
                                            },
                                            "zerolinecolor": "white"
                                        },
                                        "yaxis": {
                                            "automargin": true,
                                            "gridcolor": "white",
                                            "linecolor": "white",
                                            "showgrid": true,
                                            "ticks": "",
                                            "title": {
                                                "standoff": 15
                                            },
                                            "zerolinecolor": "white"
                                        }
                                    }
                                },
                                "title": {
                                    "text": "Tips by Day"
                                },
                                "width": 600,
                                "xaxis": {
                                    "anchor": "y",
                                    "domain": [
                                        0,
                                        1
                                    ],
                                    "title": {
                                        "text": "Day"
                                    }
                                },
                                "yaxis": {
                                    "anchor": "x",
                                    "domain": [
                                        0,
                                        1
                                    ],
                                    "title": {
                                        "text": "sum of Tips"
                                    }
                                }
                            }
                        }
                    },
                    "metadata": {},
                    "output_type": "display_data"
                }
            ],
            "source": [
                "px.histogram(x=tips.column(\"day\"), y=tips.column(\"tip\"), color = tips.column(\"day\"), \n",
                "             template = \"seaborn\", title = \"Tips by Day\", labels = {\"x\": \"Day\", \"y\": \"Tips\"},\n",
                "             width = 600, height = 400)\n",
                "# plots a bar chart of the tips by day"
            ]
        },
        {
            "cell_type": "code",
            "execution_count": 101,
            "metadata": {},
            "outputs": [
                {
                    "data": {
                        "application/vnd.plotly.v1+json": {
                            "config": {
                                "plotlyServerURL": "https://plot.ly"
                            },
                            "data": [
                                {
                                    "hovertemplate": "Total Bill Amount=%{x}<br>Tip Amount=%{y}<extra></extra>",
                                    "legendgroup": "",
                                    "marker": {
                                        "color": "rgb(76,114,176)",
                                        "symbol": "circle"
                                    },
                                    "mode": "markers",
                                    "name": "",
                                    "orientation": "v",
                                    "showlegend": false,
                                    "type": "scatter",
                                    "x": [
                                        16.99,
                                        10.34,
                                        21.01,
                                        23.68,
                                        24.59,
                                        25.29,
                                        8.77,
                                        26.88,
                                        15.04,
                                        14.78,
                                        10.27,
                                        35.26,
                                        15.42,
                                        18.43,
                                        14.83,
                                        21.58,
                                        10.33,
                                        16.29,
                                        16.97,
                                        20.65,
                                        17.92,
                                        20.29,
                                        15.77,
                                        39.42,
                                        19.82,
                                        17.81,
                                        13.37,
                                        12.69,
                                        21.7,
                                        19.65,
                                        9.55,
                                        18.35,
                                        15.06,
                                        20.69,
                                        17.78,
                                        24.06,
                                        16.31,
                                        16.93,
                                        18.69,
                                        31.27,
                                        16.04,
                                        17.46,
                                        13.94,
                                        9.68,
                                        30.4,
                                        18.29,
                                        22.23,
                                        32.4,
                                        28.55,
                                        18.04,
                                        12.54,
                                        10.29,
                                        34.81,
                                        9.94,
                                        25.56,
                                        19.49,
                                        38.01,
                                        26.41,
                                        11.24,
                                        48.27,
                                        20.29,
                                        13.81,
                                        11.02,
                                        18.29,
                                        17.59,
                                        20.08,
                                        16.45,
                                        3.07,
                                        20.23,
                                        15.01,
                                        12.02,
                                        17.07,
                                        26.86,
                                        25.28,
                                        14.73,
                                        10.51,
                                        17.92,
                                        27.2,
                                        22.76,
                                        17.29,
                                        19.44,
                                        16.66,
                                        10.07,
                                        32.68,
                                        15.98,
                                        34.83,
                                        13.03,
                                        18.28,
                                        24.71,
                                        21.16,
                                        28.97,
                                        22.49,
                                        5.75,
                                        16.32,
                                        22.75,
                                        40.17,
                                        27.28,
                                        12.03,
                                        21.01,
                                        12.46,
                                        11.35,
                                        15.38,
                                        44.3,
                                        22.42,
                                        20.92,
                                        15.36,
                                        20.49,
                                        25.21,
                                        18.24,
                                        14.31,
                                        14,
                                        7.25,
                                        38.07,
                                        23.95,
                                        25.71,
                                        17.31,
                                        29.93,
                                        10.65,
                                        12.43,
                                        24.08,
                                        11.69,
                                        13.42,
                                        14.26,
                                        15.95,
                                        12.48,
                                        29.8,
                                        8.52,
                                        14.52,
                                        11.38,
                                        22.82,
                                        19.08,
                                        20.27,
                                        11.17,
                                        12.26,
                                        18.26,
                                        8.51,
                                        10.33,
                                        14.15,
                                        16,
                                        13.16,
                                        17.47,
                                        34.3,
                                        41.19,
                                        27.05,
                                        16.43,
                                        8.35,
                                        18.64,
                                        11.87,
                                        9.78,
                                        7.51,
                                        14.07,
                                        13.13,
                                        17.26,
                                        24.55,
                                        19.77,
                                        29.85,
                                        48.17,
                                        25,
                                        13.39,
                                        16.49,
                                        21.5,
                                        12.66,
                                        16.21,
                                        13.81,
                                        17.51,
                                        24.52,
                                        20.76,
                                        31.71,
                                        10.59,
                                        10.63,
                                        50.81,
                                        15.81,
                                        7.25,
                                        31.85,
                                        16.82,
                                        32.9,
                                        17.89,
                                        14.48,
                                        9.6,
                                        34.63,
                                        34.65,
                                        23.33,
                                        45.35,
                                        23.17,
                                        40.55,
                                        20.69,
                                        20.9,
                                        30.46,
                                        18.15,
                                        23.1,
                                        15.69,
                                        19.81,
                                        28.44,
                                        15.48,
                                        16.58,
                                        7.56,
                                        10.34,
                                        43.11,
                                        13,
                                        13.51,
                                        18.71,
                                        12.74,
                                        13,
                                        16.4,
                                        20.53,
                                        16.47,
                                        26.59,
                                        38.73,
                                        24.27,
                                        12.76,
                                        30.06,
                                        25.89,
                                        48.33,
                                        13.27,
                                        28.17,
                                        12.9,
                                        28.15,
                                        11.59,
                                        7.74,
                                        30.14,
                                        12.16,
                                        13.42,
                                        8.58,
                                        15.98,
                                        13.42,
                                        16.27,
                                        10.09,
                                        20.45,
                                        13.28,
                                        22.12,
                                        24.01,
                                        15.69,
                                        11.61,
                                        10.77,
                                        15.53,
                                        10.07,
                                        12.6,
                                        32.83,
                                        35.83,
                                        29.03,
                                        27.18,
                                        22.67,
                                        17.82,
                                        18.78
                                    ],
                                    "xaxis": "x",
                                    "y": [
                                        1.01,
                                        1.66,
                                        3.5,
                                        3.31,
                                        3.61,
                                        4.71,
                                        2,
                                        3.12,
                                        1.96,
                                        3.23,
                                        1.71,
                                        5,
                                        1.57,
                                        3,
                                        3.02,
                                        3.92,
                                        1.67,
                                        3.71,
                                        3.5,
                                        3.35,
                                        4.08,
                                        2.75,
                                        2.23,
                                        7.58,
                                        3.18,
                                        2.34,
                                        2,
                                        2,
                                        4.3,
                                        3,
                                        1.45,
                                        2.5,
                                        3,
                                        2.45,
                                        3.27,
                                        3.6,
                                        2,
                                        3.07,
                                        2.31,
                                        5,
                                        2.24,
                                        2.54,
                                        3.06,
                                        1.32,
                                        5.6,
                                        3,
                                        5,
                                        6,
                                        2.05,
                                        3,
                                        2.5,
                                        2.6,
                                        5.2,
                                        1.56,
                                        4.34,
                                        3.51,
                                        3,
                                        1.5,
                                        1.76,
                                        6.73,
                                        3.21,
                                        2,
                                        1.98,
                                        3.76,
                                        2.64,
                                        3.15,
                                        2.47,
                                        1,
                                        2.01,
                                        2.09,
                                        1.97,
                                        3,
                                        3.14,
                                        5,
                                        2.2,
                                        1.25,
                                        3.08,
                                        4,
                                        3,
                                        2.71,
                                        3,
                                        3.4,
                                        1.83,
                                        5,
                                        2.03,
                                        5.17,
                                        2,
                                        4,
                                        5.85,
                                        3,
                                        3,
                                        3.5,
                                        1,
                                        4.3,
                                        3.25,
                                        4.73,
                                        4,
                                        1.5,
                                        3,
                                        1.5,
                                        2.5,
                                        3,
                                        2.5,
                                        3.48,
                                        4.08,
                                        1.64,
                                        4.06,
                                        4.29,
                                        3.76,
                                        4,
                                        3,
                                        1,
                                        4,
                                        2.55,
                                        4,
                                        3.5,
                                        5.07,
                                        1.5,
                                        1.8,
                                        2.92,
                                        2.31,
                                        1.68,
                                        2.5,
                                        2,
                                        2.52,
                                        4.2,
                                        1.48,
                                        2,
                                        2,
                                        2.18,
                                        1.5,
                                        2.83,
                                        1.5,
                                        2,
                                        3.25,
                                        1.25,
                                        2,
                                        2,
                                        2,
                                        2.75,
                                        3.5,
                                        6.7,
                                        5,
                                        5,
                                        2.3,
                                        1.5,
                                        1.36,
                                        1.63,
                                        1.73,
                                        2,
                                        2.5,
                                        2,
                                        2.74,
                                        2,
                                        2,
                                        5.14,
                                        5,
                                        3.75,
                                        2.61,
                                        2,
                                        3.5,
                                        2.5,
                                        2,
                                        2,
                                        3,
                                        3.48,
                                        2.24,
                                        4.5,
                                        1.61,
                                        2,
                                        10,
                                        3.16,
                                        5.15,
                                        3.18,
                                        4,
                                        3.11,
                                        2,
                                        2,
                                        4,
                                        3.55,
                                        3.68,
                                        5.65,
                                        3.5,
                                        6.5,
                                        3,
                                        5,
                                        3.5,
                                        2,
                                        3.5,
                                        4,
                                        1.5,
                                        4.19,
                                        2.56,
                                        2.02,
                                        4,
                                        1.44,
                                        2,
                                        5,
                                        2,
                                        2,
                                        4,
                                        2.01,
                                        2,
                                        2.5,
                                        4,
                                        3.23,
                                        3.41,
                                        3,
                                        2.03,
                                        2.23,
                                        2,
                                        5.16,
                                        9,
                                        2.5,
                                        6.5,
                                        1.1,
                                        3,
                                        1.5,
                                        1.44,
                                        3.09,
                                        2.2,
                                        3.48,
                                        1.92,
                                        3,
                                        1.58,
                                        2.5,
                                        2,
                                        3,
                                        2.72,
                                        2.88,
                                        2,
                                        3,
                                        3.39,
                                        1.47,
                                        3,
                                        1.25,
                                        1,
                                        1.17,
                                        4.67,
                                        5.92,
                                        2,
                                        2,
                                        1.75,
                                        3
                                    ],
                                    "yaxis": "y"
                                }
                            ],
                            "layout": {
                                "height": 500,
                                "legend": {
                                    "tracegroupgap": 0
                                },
                                "template": {
                                    "data": {
                                        "bar": [
                                            {
                                                "error_x": {
                                                    "color": "rgb(36,36,36)"
                                                },
                                                "error_y": {
                                                    "color": "rgb(36,36,36)"
                                                },
                                                "marker": {
                                                    "line": {
                                                        "color": "rgb(234,234,242)",
                                                        "width": 0.5
                                                    },
                                                    "pattern": {
                                                        "fillmode": "overlay",
                                                        "size": 10,
                                                        "solidity": 0.2
                                                    }
                                                },
                                                "type": "bar"
                                            }
                                        ],
                                        "barpolar": [
                                            {
                                                "marker": {
                                                    "line": {
                                                        "color": "rgb(234,234,242)",
                                                        "width": 0.5
                                                    },
                                                    "pattern": {
                                                        "fillmode": "overlay",
                                                        "size": 10,
                                                        "solidity": 0.2
                                                    }
                                                },
                                                "type": "barpolar"
                                            }
                                        ],
                                        "carpet": [
                                            {
                                                "aaxis": {
                                                    "endlinecolor": "rgb(36,36,36)",
                                                    "gridcolor": "white",
                                                    "linecolor": "white",
                                                    "minorgridcolor": "white",
                                                    "startlinecolor": "rgb(36,36,36)"
                                                },
                                                "baxis": {
                                                    "endlinecolor": "rgb(36,36,36)",
                                                    "gridcolor": "white",
                                                    "linecolor": "white",
                                                    "minorgridcolor": "white",
                                                    "startlinecolor": "rgb(36,36,36)"
                                                },
                                                "type": "carpet"
                                            }
                                        ],
                                        "choropleth": [
                                            {
                                                "colorbar": {
                                                    "outlinewidth": 0,
                                                    "tickcolor": "rgb(36,36,36)",
                                                    "ticklen": 8,
                                                    "ticks": "outside",
                                                    "tickwidth": 2
                                                },
                                                "type": "choropleth"
                                            }
                                        ],
                                        "contour": [
                                            {
                                                "colorbar": {
                                                    "outlinewidth": 0,
                                                    "tickcolor": "rgb(36,36,36)",
                                                    "ticklen": 8,
                                                    "ticks": "outside",
                                                    "tickwidth": 2
                                                },
                                                "colorscale": [
                                                    [
                                                        0,
                                                        "rgb(2,4,25)"
                                                    ],
                                                    [
                                                        0.06274509803921569,
                                                        "rgb(24,15,41)"
                                                    ],
                                                    [
                                                        0.12549019607843137,
                                                        "rgb(47,23,57)"
                                                    ],
                                                    [
                                                        0.18823529411764706,
                                                        "rgb(71,28,72)"
                                                    ],
                                                    [
                                                        0.25098039215686274,
                                                        "rgb(97,30,82)"
                                                    ],
                                                    [
                                                        0.3137254901960784,
                                                        "rgb(123,30,89)"
                                                    ],
                                                    [
                                                        0.3764705882352941,
                                                        "rgb(150,27,91)"
                                                    ],
                                                    [
                                                        0.4392156862745098,
                                                        "rgb(177,22,88)"
                                                    ],
                                                    [
                                                        0.5019607843137255,
                                                        "rgb(203,26,79)"
                                                    ],
                                                    [
                                                        0.5647058823529412,
                                                        "rgb(223,47,67)"
                                                    ],
                                                    [
                                                        0.6274509803921569,
                                                        "rgb(236,76,61)"
                                                    ],
                                                    [
                                                        0.6901960784313725,
                                                        "rgb(242,107,73)"
                                                    ],
                                                    [
                                                        0.7529411764705882,
                                                        "rgb(244,135,95)"
                                                    ],
                                                    [
                                                        0.8156862745098039,
                                                        "rgb(245,162,122)"
                                                    ],
                                                    [
                                                        0.8784313725490196,
                                                        "rgb(246,188,153)"
                                                    ],
                                                    [
                                                        0.9411764705882353,
                                                        "rgb(247,212,187)"
                                                    ],
                                                    [
                                                        1,
                                                        "rgb(250,234,220)"
                                                    ]
                                                ],
                                                "type": "contour"
                                            }
                                        ],
                                        "contourcarpet": [
                                            {
                                                "colorbar": {
                                                    "outlinewidth": 0,
                                                    "tickcolor": "rgb(36,36,36)",
                                                    "ticklen": 8,
                                                    "ticks": "outside",
                                                    "tickwidth": 2
                                                },
                                                "type": "contourcarpet"
                                            }
                                        ],
                                        "heatmap": [
                                            {
                                                "colorbar": {
                                                    "outlinewidth": 0,
                                                    "tickcolor": "rgb(36,36,36)",
                                                    "ticklen": 8,
                                                    "ticks": "outside",
                                                    "tickwidth": 2
                                                },
                                                "colorscale": [
                                                    [
                                                        0,
                                                        "rgb(2,4,25)"
                                                    ],
                                                    [
                                                        0.06274509803921569,
                                                        "rgb(24,15,41)"
                                                    ],
                                                    [
                                                        0.12549019607843137,
                                                        "rgb(47,23,57)"
                                                    ],
                                                    [
                                                        0.18823529411764706,
                                                        "rgb(71,28,72)"
                                                    ],
                                                    [
                                                        0.25098039215686274,
                                                        "rgb(97,30,82)"
                                                    ],
                                                    [
                                                        0.3137254901960784,
                                                        "rgb(123,30,89)"
                                                    ],
                                                    [
                                                        0.3764705882352941,
                                                        "rgb(150,27,91)"
                                                    ],
                                                    [
                                                        0.4392156862745098,
                                                        "rgb(177,22,88)"
                                                    ],
                                                    [
                                                        0.5019607843137255,
                                                        "rgb(203,26,79)"
                                                    ],
                                                    [
                                                        0.5647058823529412,
                                                        "rgb(223,47,67)"
                                                    ],
                                                    [
                                                        0.6274509803921569,
                                                        "rgb(236,76,61)"
                                                    ],
                                                    [
                                                        0.6901960784313725,
                                                        "rgb(242,107,73)"
                                                    ],
                                                    [
                                                        0.7529411764705882,
                                                        "rgb(244,135,95)"
                                                    ],
                                                    [
                                                        0.8156862745098039,
                                                        "rgb(245,162,122)"
                                                    ],
                                                    [
                                                        0.8784313725490196,
                                                        "rgb(246,188,153)"
                                                    ],
                                                    [
                                                        0.9411764705882353,
                                                        "rgb(247,212,187)"
                                                    ],
                                                    [
                                                        1,
                                                        "rgb(250,234,220)"
                                                    ]
                                                ],
                                                "type": "heatmap"
                                            }
                                        ],
                                        "heatmapgl": [
                                            {
                                                "colorbar": {
                                                    "outlinewidth": 0,
                                                    "tickcolor": "rgb(36,36,36)",
                                                    "ticklen": 8,
                                                    "ticks": "outside",
                                                    "tickwidth": 2
                                                },
                                                "colorscale": [
                                                    [
                                                        0,
                                                        "rgb(2,4,25)"
                                                    ],
                                                    [
                                                        0.06274509803921569,
                                                        "rgb(24,15,41)"
                                                    ],
                                                    [
                                                        0.12549019607843137,
                                                        "rgb(47,23,57)"
                                                    ],
                                                    [
                                                        0.18823529411764706,
                                                        "rgb(71,28,72)"
                                                    ],
                                                    [
                                                        0.25098039215686274,
                                                        "rgb(97,30,82)"
                                                    ],
                                                    [
                                                        0.3137254901960784,
                                                        "rgb(123,30,89)"
                                                    ],
                                                    [
                                                        0.3764705882352941,
                                                        "rgb(150,27,91)"
                                                    ],
                                                    [
                                                        0.4392156862745098,
                                                        "rgb(177,22,88)"
                                                    ],
                                                    [
                                                        0.5019607843137255,
                                                        "rgb(203,26,79)"
                                                    ],
                                                    [
                                                        0.5647058823529412,
                                                        "rgb(223,47,67)"
                                                    ],
                                                    [
                                                        0.6274509803921569,
                                                        "rgb(236,76,61)"
                                                    ],
                                                    [
                                                        0.6901960784313725,
                                                        "rgb(242,107,73)"
                                                    ],
                                                    [
                                                        0.7529411764705882,
                                                        "rgb(244,135,95)"
                                                    ],
                                                    [
                                                        0.8156862745098039,
                                                        "rgb(245,162,122)"
                                                    ],
                                                    [
                                                        0.8784313725490196,
                                                        "rgb(246,188,153)"
                                                    ],
                                                    [
                                                        0.9411764705882353,
                                                        "rgb(247,212,187)"
                                                    ],
                                                    [
                                                        1,
                                                        "rgb(250,234,220)"
                                                    ]
                                                ],
                                                "type": "heatmapgl"
                                            }
                                        ],
                                        "histogram": [
                                            {
                                                "marker": {
                                                    "pattern": {
                                                        "fillmode": "overlay",
                                                        "size": 10,
                                                        "solidity": 0.2
                                                    }
                                                },
                                                "type": "histogram"
                                            }
                                        ],
                                        "histogram2d": [
                                            {
                                                "colorbar": {
                                                    "outlinewidth": 0,
                                                    "tickcolor": "rgb(36,36,36)",
                                                    "ticklen": 8,
                                                    "ticks": "outside",
                                                    "tickwidth": 2
                                                },
                                                "colorscale": [
                                                    [
                                                        0,
                                                        "rgb(2,4,25)"
                                                    ],
                                                    [
                                                        0.06274509803921569,
                                                        "rgb(24,15,41)"
                                                    ],
                                                    [
                                                        0.12549019607843137,
                                                        "rgb(47,23,57)"
                                                    ],
                                                    [
                                                        0.18823529411764706,
                                                        "rgb(71,28,72)"
                                                    ],
                                                    [
                                                        0.25098039215686274,
                                                        "rgb(97,30,82)"
                                                    ],
                                                    [
                                                        0.3137254901960784,
                                                        "rgb(123,30,89)"
                                                    ],
                                                    [
                                                        0.3764705882352941,
                                                        "rgb(150,27,91)"
                                                    ],
                                                    [
                                                        0.4392156862745098,
                                                        "rgb(177,22,88)"
                                                    ],
                                                    [
                                                        0.5019607843137255,
                                                        "rgb(203,26,79)"
                                                    ],
                                                    [
                                                        0.5647058823529412,
                                                        "rgb(223,47,67)"
                                                    ],
                                                    [
                                                        0.6274509803921569,
                                                        "rgb(236,76,61)"
                                                    ],
                                                    [
                                                        0.6901960784313725,
                                                        "rgb(242,107,73)"
                                                    ],
                                                    [
                                                        0.7529411764705882,
                                                        "rgb(244,135,95)"
                                                    ],
                                                    [
                                                        0.8156862745098039,
                                                        "rgb(245,162,122)"
                                                    ],
                                                    [
                                                        0.8784313725490196,
                                                        "rgb(246,188,153)"
                                                    ],
                                                    [
                                                        0.9411764705882353,
                                                        "rgb(247,212,187)"
                                                    ],
                                                    [
                                                        1,
                                                        "rgb(250,234,220)"
                                                    ]
                                                ],
                                                "type": "histogram2d"
                                            }
                                        ],
                                        "histogram2dcontour": [
                                            {
                                                "colorbar": {
                                                    "outlinewidth": 0,
                                                    "tickcolor": "rgb(36,36,36)",
                                                    "ticklen": 8,
                                                    "ticks": "outside",
                                                    "tickwidth": 2
                                                },
                                                "colorscale": [
                                                    [
                                                        0,
                                                        "rgb(2,4,25)"
                                                    ],
                                                    [
                                                        0.06274509803921569,
                                                        "rgb(24,15,41)"
                                                    ],
                                                    [
                                                        0.12549019607843137,
                                                        "rgb(47,23,57)"
                                                    ],
                                                    [
                                                        0.18823529411764706,
                                                        "rgb(71,28,72)"
                                                    ],
                                                    [
                                                        0.25098039215686274,
                                                        "rgb(97,30,82)"
                                                    ],
                                                    [
                                                        0.3137254901960784,
                                                        "rgb(123,30,89)"
                                                    ],
                                                    [
                                                        0.3764705882352941,
                                                        "rgb(150,27,91)"
                                                    ],
                                                    [
                                                        0.4392156862745098,
                                                        "rgb(177,22,88)"
                                                    ],
                                                    [
                                                        0.5019607843137255,
                                                        "rgb(203,26,79)"
                                                    ],
                                                    [
                                                        0.5647058823529412,
                                                        "rgb(223,47,67)"
                                                    ],
                                                    [
                                                        0.6274509803921569,
                                                        "rgb(236,76,61)"
                                                    ],
                                                    [
                                                        0.6901960784313725,
                                                        "rgb(242,107,73)"
                                                    ],
                                                    [
                                                        0.7529411764705882,
                                                        "rgb(244,135,95)"
                                                    ],
                                                    [
                                                        0.8156862745098039,
                                                        "rgb(245,162,122)"
                                                    ],
                                                    [
                                                        0.8784313725490196,
                                                        "rgb(246,188,153)"
                                                    ],
                                                    [
                                                        0.9411764705882353,
                                                        "rgb(247,212,187)"
                                                    ],
                                                    [
                                                        1,
                                                        "rgb(250,234,220)"
                                                    ]
                                                ],
                                                "type": "histogram2dcontour"
                                            }
                                        ],
                                        "mesh3d": [
                                            {
                                                "colorbar": {
                                                    "outlinewidth": 0,
                                                    "tickcolor": "rgb(36,36,36)",
                                                    "ticklen": 8,
                                                    "ticks": "outside",
                                                    "tickwidth": 2
                                                },
                                                "type": "mesh3d"
                                            }
                                        ],
                                        "parcoords": [
                                            {
                                                "line": {
                                                    "colorbar": {
                                                        "outlinewidth": 0,
                                                        "tickcolor": "rgb(36,36,36)",
                                                        "ticklen": 8,
                                                        "ticks": "outside",
                                                        "tickwidth": 2
                                                    }
                                                },
                                                "type": "parcoords"
                                            }
                                        ],
                                        "pie": [
                                            {
                                                "automargin": true,
                                                "type": "pie"
                                            }
                                        ],
                                        "scatter": [
                                            {
                                                "fillpattern": {
                                                    "fillmode": "overlay",
                                                    "size": 10,
                                                    "solidity": 0.2
                                                },
                                                "type": "scatter"
                                            }
                                        ],
                                        "scatter3d": [
                                            {
                                                "line": {
                                                    "colorbar": {
                                                        "outlinewidth": 0,
                                                        "tickcolor": "rgb(36,36,36)",
                                                        "ticklen": 8,
                                                        "ticks": "outside",
                                                        "tickwidth": 2
                                                    }
                                                },
                                                "marker": {
                                                    "colorbar": {
                                                        "outlinewidth": 0,
                                                        "tickcolor": "rgb(36,36,36)",
                                                        "ticklen": 8,
                                                        "ticks": "outside",
                                                        "tickwidth": 2
                                                    }
                                                },
                                                "type": "scatter3d"
                                            }
                                        ],
                                        "scattercarpet": [
                                            {
                                                "marker": {
                                                    "colorbar": {
                                                        "outlinewidth": 0,
                                                        "tickcolor": "rgb(36,36,36)",
                                                        "ticklen": 8,
                                                        "ticks": "outside",
                                                        "tickwidth": 2
                                                    }
                                                },
                                                "type": "scattercarpet"
                                            }
                                        ],
                                        "scattergeo": [
                                            {
                                                "marker": {
                                                    "colorbar": {
                                                        "outlinewidth": 0,
                                                        "tickcolor": "rgb(36,36,36)",
                                                        "ticklen": 8,
                                                        "ticks": "outside",
                                                        "tickwidth": 2
                                                    }
                                                },
                                                "type": "scattergeo"
                                            }
                                        ],
                                        "scattergl": [
                                            {
                                                "marker": {
                                                    "colorbar": {
                                                        "outlinewidth": 0,
                                                        "tickcolor": "rgb(36,36,36)",
                                                        "ticklen": 8,
                                                        "ticks": "outside",
                                                        "tickwidth": 2
                                                    }
                                                },
                                                "type": "scattergl"
                                            }
                                        ],
                                        "scattermapbox": [
                                            {
                                                "marker": {
                                                    "colorbar": {
                                                        "outlinewidth": 0,
                                                        "tickcolor": "rgb(36,36,36)",
                                                        "ticklen": 8,
                                                        "ticks": "outside",
                                                        "tickwidth": 2
                                                    }
                                                },
                                                "type": "scattermapbox"
                                            }
                                        ],
                                        "scatterpolar": [
                                            {
                                                "marker": {
                                                    "colorbar": {
                                                        "outlinewidth": 0,
                                                        "tickcolor": "rgb(36,36,36)",
                                                        "ticklen": 8,
                                                        "ticks": "outside",
                                                        "tickwidth": 2
                                                    }
                                                },
                                                "type": "scatterpolar"
                                            }
                                        ],
                                        "scatterpolargl": [
                                            {
                                                "marker": {
                                                    "colorbar": {
                                                        "outlinewidth": 0,
                                                        "tickcolor": "rgb(36,36,36)",
                                                        "ticklen": 8,
                                                        "ticks": "outside",
                                                        "tickwidth": 2
                                                    }
                                                },
                                                "type": "scatterpolargl"
                                            }
                                        ],
                                        "scatterternary": [
                                            {
                                                "marker": {
                                                    "colorbar": {
                                                        "outlinewidth": 0,
                                                        "tickcolor": "rgb(36,36,36)",
                                                        "ticklen": 8,
                                                        "ticks": "outside",
                                                        "tickwidth": 2
                                                    }
                                                },
                                                "type": "scatterternary"
                                            }
                                        ],
                                        "surface": [
                                            {
                                                "colorbar": {
                                                    "outlinewidth": 0,
                                                    "tickcolor": "rgb(36,36,36)",
                                                    "ticklen": 8,
                                                    "ticks": "outside",
                                                    "tickwidth": 2
                                                },
                                                "colorscale": [
                                                    [
                                                        0,
                                                        "rgb(2,4,25)"
                                                    ],
                                                    [
                                                        0.06274509803921569,
                                                        "rgb(24,15,41)"
                                                    ],
                                                    [
                                                        0.12549019607843137,
                                                        "rgb(47,23,57)"
                                                    ],
                                                    [
                                                        0.18823529411764706,
                                                        "rgb(71,28,72)"
                                                    ],
                                                    [
                                                        0.25098039215686274,
                                                        "rgb(97,30,82)"
                                                    ],
                                                    [
                                                        0.3137254901960784,
                                                        "rgb(123,30,89)"
                                                    ],
                                                    [
                                                        0.3764705882352941,
                                                        "rgb(150,27,91)"
                                                    ],
                                                    [
                                                        0.4392156862745098,
                                                        "rgb(177,22,88)"
                                                    ],
                                                    [
                                                        0.5019607843137255,
                                                        "rgb(203,26,79)"
                                                    ],
                                                    [
                                                        0.5647058823529412,
                                                        "rgb(223,47,67)"
                                                    ],
                                                    [
                                                        0.6274509803921569,
                                                        "rgb(236,76,61)"
                                                    ],
                                                    [
                                                        0.6901960784313725,
                                                        "rgb(242,107,73)"
                                                    ],
                                                    [
                                                        0.7529411764705882,
                                                        "rgb(244,135,95)"
                                                    ],
                                                    [
                                                        0.8156862745098039,
                                                        "rgb(245,162,122)"
                                                    ],
                                                    [
                                                        0.8784313725490196,
                                                        "rgb(246,188,153)"
                                                    ],
                                                    [
                                                        0.9411764705882353,
                                                        "rgb(247,212,187)"
                                                    ],
                                                    [
                                                        1,
                                                        "rgb(250,234,220)"
                                                    ]
                                                ],
                                                "type": "surface"
                                            }
                                        ],
                                        "table": [
                                            {
                                                "cells": {
                                                    "fill": {
                                                        "color": "rgb(231,231,240)"
                                                    },
                                                    "line": {
                                                        "color": "white"
                                                    }
                                                },
                                                "header": {
                                                    "fill": {
                                                        "color": "rgb(183,183,191)"
                                                    },
                                                    "line": {
                                                        "color": "white"
                                                    }
                                                },
                                                "type": "table"
                                            }
                                        ]
                                    },
                                    "layout": {
                                        "annotationdefaults": {
                                            "arrowcolor": "rgb(67,103,167)"
                                        },
                                        "autotypenumbers": "strict",
                                        "coloraxis": {
                                            "colorbar": {
                                                "outlinewidth": 0,
                                                "tickcolor": "rgb(36,36,36)",
                                                "ticklen": 8,
                                                "ticks": "outside",
                                                "tickwidth": 2
                                            }
                                        },
                                        "colorscale": {
                                            "sequential": [
                                                [
                                                    0,
                                                    "rgb(2,4,25)"
                                                ],
                                                [
                                                    0.06274509803921569,
                                                    "rgb(24,15,41)"
                                                ],
                                                [
                                                    0.12549019607843137,
                                                    "rgb(47,23,57)"
                                                ],
                                                [
                                                    0.18823529411764706,
                                                    "rgb(71,28,72)"
                                                ],
                                                [
                                                    0.25098039215686274,
                                                    "rgb(97,30,82)"
                                                ],
                                                [
                                                    0.3137254901960784,
                                                    "rgb(123,30,89)"
                                                ],
                                                [
                                                    0.3764705882352941,
                                                    "rgb(150,27,91)"
                                                ],
                                                [
                                                    0.4392156862745098,
                                                    "rgb(177,22,88)"
                                                ],
                                                [
                                                    0.5019607843137255,
                                                    "rgb(203,26,79)"
                                                ],
                                                [
                                                    0.5647058823529412,
                                                    "rgb(223,47,67)"
                                                ],
                                                [
                                                    0.6274509803921569,
                                                    "rgb(236,76,61)"
                                                ],
                                                [
                                                    0.6901960784313725,
                                                    "rgb(242,107,73)"
                                                ],
                                                [
                                                    0.7529411764705882,
                                                    "rgb(244,135,95)"
                                                ],
                                                [
                                                    0.8156862745098039,
                                                    "rgb(245,162,122)"
                                                ],
                                                [
                                                    0.8784313725490196,
                                                    "rgb(246,188,153)"
                                                ],
                                                [
                                                    0.9411764705882353,
                                                    "rgb(247,212,187)"
                                                ],
                                                [
                                                    1,
                                                    "rgb(250,234,220)"
                                                ]
                                            ],
                                            "sequentialminus": [
                                                [
                                                    0,
                                                    "rgb(2,4,25)"
                                                ],
                                                [
                                                    0.06274509803921569,
                                                    "rgb(24,15,41)"
                                                ],
                                                [
                                                    0.12549019607843137,
                                                    "rgb(47,23,57)"
                                                ],
                                                [
                                                    0.18823529411764706,
                                                    "rgb(71,28,72)"
                                                ],
                                                [
                                                    0.25098039215686274,
                                                    "rgb(97,30,82)"
                                                ],
                                                [
                                                    0.3137254901960784,
                                                    "rgb(123,30,89)"
                                                ],
                                                [
                                                    0.3764705882352941,
                                                    "rgb(150,27,91)"
                                                ],
                                                [
                                                    0.4392156862745098,
                                                    "rgb(177,22,88)"
                                                ],
                                                [
                                                    0.5019607843137255,
                                                    "rgb(203,26,79)"
                                                ],
                                                [
                                                    0.5647058823529412,
                                                    "rgb(223,47,67)"
                                                ],
                                                [
                                                    0.6274509803921569,
                                                    "rgb(236,76,61)"
                                                ],
                                                [
                                                    0.6901960784313725,
                                                    "rgb(242,107,73)"
                                                ],
                                                [
                                                    0.7529411764705882,
                                                    "rgb(244,135,95)"
                                                ],
                                                [
                                                    0.8156862745098039,
                                                    "rgb(245,162,122)"
                                                ],
                                                [
                                                    0.8784313725490196,
                                                    "rgb(246,188,153)"
                                                ],
                                                [
                                                    0.9411764705882353,
                                                    "rgb(247,212,187)"
                                                ],
                                                [
                                                    1,
                                                    "rgb(250,234,220)"
                                                ]
                                            ]
                                        },
                                        "colorway": [
                                            "rgb(76,114,176)",
                                            "rgb(221,132,82)",
                                            "rgb(85,168,104)",
                                            "rgb(196,78,82)",
                                            "rgb(129,114,179)",
                                            "rgb(147,120,96)",
                                            "rgb(218,139,195)",
                                            "rgb(140,140,140)",
                                            "rgb(204,185,116)",
                                            "rgb(100,181,205)"
                                        ],
                                        "font": {
                                            "color": "rgb(36,36,36)"
                                        },
                                        "geo": {
                                            "bgcolor": "white",
                                            "lakecolor": "white",
                                            "landcolor": "rgb(234,234,242)",
                                            "showlakes": true,
                                            "showland": true,
                                            "subunitcolor": "white"
                                        },
                                        "hoverlabel": {
                                            "align": "left"
                                        },
                                        "hovermode": "closest",
                                        "paper_bgcolor": "white",
                                        "plot_bgcolor": "rgb(234,234,242)",
                                        "polar": {
                                            "angularaxis": {
                                                "gridcolor": "white",
                                                "linecolor": "white",
                                                "showgrid": true,
                                                "ticks": ""
                                            },
                                            "bgcolor": "rgb(234,234,242)",
                                            "radialaxis": {
                                                "gridcolor": "white",
                                                "linecolor": "white",
                                                "showgrid": true,
                                                "ticks": ""
                                            }
                                        },
                                        "scene": {
                                            "xaxis": {
                                                "backgroundcolor": "rgb(234,234,242)",
                                                "gridcolor": "white",
                                                "gridwidth": 2,
                                                "linecolor": "white",
                                                "showbackground": true,
                                                "showgrid": true,
                                                "ticks": "",
                                                "zerolinecolor": "white"
                                            },
                                            "yaxis": {
                                                "backgroundcolor": "rgb(234,234,242)",
                                                "gridcolor": "white",
                                                "gridwidth": 2,
                                                "linecolor": "white",
                                                "showbackground": true,
                                                "showgrid": true,
                                                "ticks": "",
                                                "zerolinecolor": "white"
                                            },
                                            "zaxis": {
                                                "backgroundcolor": "rgb(234,234,242)",
                                                "gridcolor": "white",
                                                "gridwidth": 2,
                                                "linecolor": "white",
                                                "showbackground": true,
                                                "showgrid": true,
                                                "ticks": "",
                                                "zerolinecolor": "white"
                                            }
                                        },
                                        "shapedefaults": {
                                            "fillcolor": "rgb(67,103,167)",
                                            "line": {
                                                "width": 0
                                            },
                                            "opacity": 0.5
                                        },
                                        "ternary": {
                                            "aaxis": {
                                                "gridcolor": "white",
                                                "linecolor": "white",
                                                "showgrid": true,
                                                "ticks": ""
                                            },
                                            "baxis": {
                                                "gridcolor": "white",
                                                "linecolor": "white",
                                                "showgrid": true,
                                                "ticks": ""
                                            },
                                            "bgcolor": "rgb(234,234,242)",
                                            "caxis": {
                                                "gridcolor": "white",
                                                "linecolor": "white",
                                                "showgrid": true,
                                                "ticks": ""
                                            }
                                        },
                                        "xaxis": {
                                            "automargin": true,
                                            "gridcolor": "white",
                                            "linecolor": "white",
                                            "showgrid": true,
                                            "ticks": "",
                                            "title": {
                                                "standoff": 15
                                            },
                                            "zerolinecolor": "white"
                                        },
                                        "yaxis": {
                                            "automargin": true,
                                            "gridcolor": "white",
                                            "linecolor": "white",
                                            "showgrid": true,
                                            "ticks": "",
                                            "title": {
                                                "standoff": 15
                                            },
                                            "zerolinecolor": "white"
                                        }
                                    }
                                },
                                "title": {
                                    "text": "Scatter Plot of Total Bill Amounts vs. Tip Amounts"
                                },
                                "width": 500,
                                "xaxis": {
                                    "anchor": "y",
                                    "domain": [
                                        0,
                                        1
                                    ],
                                    "title": {
                                        "text": "Total Bill Amount"
                                    }
                                },
                                "yaxis": {
                                    "anchor": "x",
                                    "domain": [
                                        0,
                                        1
                                    ],
                                    "title": {
                                        "text": "Tip Amount"
                                    }
                                }
                            }
                        }
                    },
                    "metadata": {},
                    "output_type": "display_data"
                }
            ],
            "source": [
                "px.scatter(x=tips.column(\"total\"), y=tips.column(\"tip\"), \n",
                "           title=\"Scatter Plot of Total Bill Amounts vs. Tip Amounts\", template = \"seaborn\",\n",
                "           labels = {\"x\": \"Total Bill Amount\", \"y\": \"Tip Amount\"},\n",
                "           width=500, height=500)\n",
                "# plots a scatter plot of the total bill amounts vs. the tip amounts"
            ]
        },
        {
            "cell_type": "markdown",
            "metadata": {},
            "source": [
                "<hr style=\"border: 2px solid #003262\">\n",
                "<hr style=\"border: 2px solid #C9B676\">"
            ]
        },
        {
            "attachments": {},
            "cell_type": "markdown",
            "metadata": {
                "cell_id": "00033-cdd8d4fd-d181-4b60-84c6-53fce944a344",
                "deepnote_cell_type": "markdown"
            },
            "source": [
                "## Notebooks in Practice\n",
                "\n",
                "With proprietary software like *Mathematica*, users are supposed to trust the results returned and are unable to check the code. In contrast, *Jupyter* fosters **transparency** and hence encourages **reproducibility**, which refers to the ability to reproduce the results of a scientific study. Not only is the code behind the software available for anyone to inspect or tinker with, but code in the notebooks can also be examined or re-run to reproduce the results. \n",
                "\n",
                "[Theodore Gray](http://home.theodoregray.com/), the co-founder of [Wolfram Research](https://en.wikipedia.org/wiki/Wolfram_Research) who was also involved in creating the *Mathematica* interface, said about *Jupyter*,\n",
                ">*\"I think what they have is **acceptance from the scientific community** as a tool that is considered to be **universal**.\"*\n",
                "\n",
                "In other words, *Jupyter Notebooks* support the computational work of researchers from different fields, from astronomy to psychology to literature, and therefore enable new ways for researchers in very different domains to **share research tools, methods, and learn from one another**.\n",
                "\n",
                "The power of the notebook lies in its ability to include a **variety of media** with the computation as a means to maintain **accountability, integrity, and transparency** for both the author of the notebook and the audiences that you share your work with. "
            ]
        },
        {
            "cell_type": "markdown",
            "metadata": {},
            "source": [
                "<hr style=\"border: 2px solid #003262\">\n",
                "<hr style=\"border: 2px solid #C9B676\">"
            ]
        },
        {
            "cell_type": "markdown",
            "metadata": {},
            "source": []
        },
        {
            "cell_type": "markdown",
            "metadata": {},
            "source": [
                "<hr style=\"border: 2px solid #003262\">\n",
                "<hr style=\"border: 2px solid #C9B676\">"
            ]
        },
        {
            "attachments": {},
            "cell_type": "markdown",
            "metadata": {},
            "source": [
                "## A Final Request: Feedback Form"
            ]
        },
        {
            "attachments": {},
            "cell_type": "markdown",
            "metadata": {},
            "source": [
                "<div class=\"alert alert-block alert-info\">\n",
                "    <p style=\"font-size:20px\">We encourage students to fill out the following feedback form to share your experience with this Module notebook. This feedback form will take no longer than 5 minutes. At UC Berkeley Data Science Undergraduate Studies Modules, we appreciate all feedback to improve the learning of students and experience utilizing Jupyter Notebooks for Data Science Education. You can fill out the survey by following the link below.\n",
                "</div>"
            ]
        },
        {
            "attachments": {},
            "cell_type": "markdown",
            "metadata": {},
            "source": [
                "<centre><a href=\"https://forms.gle/hipxf2uFw5Ud4Hyn8\" style=\"font-size:18px\">Fill out the feedback form here</a></centre>"
            ]
        }
    ],
    "metadata": {
        "deepnote_execution_queue": [],
        "deepnote_notebook_id": "693e9760-244f-475b-aa3d-f49b62665db0",
        "kernelspec": {
            "display_name": "Python 3",
            "language": "python",
            "name": "python3"
        },
        "language_info": {
            "codemirror_mode": {
                "name": "ipython",
                "version": 3
            },
            "file_extension": ".py",
            "mimetype": "text/x-python",
            "name": "python",
            "nbconvert_exporter": "python",
            "pygments_lexer": "ipython3",
            "version": "3.10.1"
        },
        "vscode": {
            "interpreter": {
                "hash": "aee8b7b246df8f9039afb4144a1f6fd8d2ca17a180786b69acc140d282b71a49"
            }
        },
        "widgets": {
            "application/vnd.jupyter.widget-state+json": {
                "state": {},
                "version_major": 2,
                "version_minor": 0
            }
        }
    },
    "nbformat": 4,
    "nbformat_minor": 4
}
