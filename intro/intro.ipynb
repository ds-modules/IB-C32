{
    "cells": [
        {
            "cell_type": "markdown",
            "metadata": {
                "cell_id": "00001-eedf9a46-cb0c-42bc-a90f-96265663c0d3",
                "deepnote_cell_type": "markdown",
                "tags": [
                    "ignore"
                ]
            },
            "source": [
                "## Notebook 1: Introduction to Jupyter Notebooks and Python\n",
                "\n",
                "## **Jupyter Notebooks**\n",
                "\n",
                "Welcome to a Jupyter Notebook! **Notebooks** are documents that support interactive computing in which code is interwoven with text, visualizations, and more.\n",
                "\n",
                "The way notebooks are formatted encourages **exploration**, allowing users to iteratively update code and document the results. In use cases such as **data exploration and communication**, notebooks excel. Science (and computational work in general) has become quite sophisticated: models are built upon experiments that are conducted on large swaths of data, methods and results are abstracted away into symbols, and papers are full of technical jargon. *A static document like a paper might not be sufficient to both effectively communicate a new discovery and allow someone else to discover it for themselves*."
            ]
        },
        {
            "attachments": {},
            "cell_type": "markdown",
            "metadata": {},
            "source": [
                "<div class=\"alert alert-block alert-danger\">\n",
                "    <p style=\"font-size:20px\">In this notebook, there are some more advance topics that are <i>\"optional\"</i>. This means you can just read over these sections, don't worry about fully understanding these parts unless you are really interested. They may be useful later in the course, but for now they are not necessary, so feel free to just skim these parts!\n",
                "</div>"
            ]
        },
        {
            "attachments": {},
            "cell_type": "markdown",
            "metadata": {},
            "source": [
                "<div class=\"alert alert-block alert-success\">\n",
                "    <p style=\"font-size:20px\">This section is advanced/optional\n",
                "</div>"
            ]
        },
        {
            "cell_type": "markdown",
            "metadata": {},
            "source": [
                "<hr style=\"border: 2px solid #003262\">\n",
                "<hr style=\"border: 2px solid #C9B676\">"
            ]
        },
        {
            "cell_type": "markdown",
            "metadata": {},
            "source": [
                "## Learning Outcomes\n",
                "Working through this notebook, you will learn about:\n",
                "1. The history behind **Jupyter notebooks** and why they are used in computing\n",
                "2. How a Jupyter notebook is **structured** and how to use them\n",
                "3. Python fundamentals and working with **tabular data**"
            ]
        },
        {
            "cell_type": "markdown",
            "metadata": {},
            "source": [
                "<hr style=\"border: 2px solid #003262\">\n",
                "<hr style=\"border: 2px solid #C9B676\">"
            ]
        },
        {
            "attachments": {},
            "cell_type": "markdown",
            "metadata": {
                "cell_id": "00003-a9cd1167-2276-4e0f-85b6-43d803731627",
                "deepnote_cell_type": "markdown",
                "tags": []
            },
            "source": [
                "## A Brief History\n",
                "The Jupyter Notebook is an _interactive computational environment_ that supports over **40** different programming languages, but was first released as a web-based interface for IPython in 2011. [Fernando Perez](https://bids.berkeley.edu/people/fernando-p%C3%A9rez), a professor in the Statistics department here at UC Berkeley, created [IPython](https://bids.berkeley.edu/research/ipython) as a graduate student in 2001 and co-founded [Project Jupyter](https://bids.berkeley.edu/research/project-jupyter) in 2014. \n",
                "\n",
                "Project Jupyter's name is a reference to the three core programming languages supported by Jupyter, which are `Julia`, `Python` and `R` (`\"ju\"` from `\"Julia\"`, `\"pyt\"` from `\"Python\"`, and `\"er\"` from `\"R\"`; all together you get `\"ju\" + \"pyt\" + \"er\" = \"jupyter\"`). \n",
                "\n",
                "The word notebook is an homage to Galileo's notebooks in which he documents his discovery of the the moons of Jupiter (the planet).\n",
                "\n",
                "Though the Jupyter Notebook interface has been around only about a decade, the first notebook interface, [Mathematica](https://www.mathematica.org/), was released over 30 years ago in 1988. Other notebook interfaces have been released since then, but none have gained as much traction as Jupyter Notebooks have. Starting in the early 2000s, open-source scientific tools were becoming more and more popular and with the widespread popularity of Jupyter, it's well on its way to becoming a standard for sharing research methodology and results."
            ]
        },
        {
            "attachments": {},
            "cell_type": "markdown",
            "metadata": {},
            "source": [
                "<img src=\"assets/mathematica.png\" alt=\"Early Mathematica Interface\" style=\"width: 350px;\" class=\"center\"/><br>\n",
                "The early Mathematica Interface."
            ]
        },
        {
            "attachments": {},
            "cell_type": "markdown",
            "metadata": {
                "cell_id": "00004-6505161d-0615-4da6-bdf1-11b7204319a9",
                "deepnote_cell_type": "markdown",
                "tags": []
            },
            "source": [
                "## Why (Jupyter) Notebooks?\n",
                "Notebooks are used for [*literate programming*](https://en.wikipedia.org/wiki/Literate_programming), a programming paradigm introduced by [Donald Knuth](https://en.wikipedia.org/wiki/Donald_Knuth) in 1984, in which a programming language is accompanied with a documentation language, or a natural language. In other words, the computer program has an explanation in a natural language. \n",
                "\n",
                "This approach to programming effectively treats software as works of literature ([Knuth](http://www.literateprogramming.com/knuthweb.pdf), \"Literate Programming\"). _It supports people to have a strong conceptual map of what is happening in the code and also to have clarity on the flow and logic of the code/program, which is helpful for both the writer and the reader_.\n",
                "\n",
                "Jupyter leverages this idea and enables users to create and share documents that combine code, visualizations, narrative text, equations, and rich media. Notebooks are multipurpose and can be used in any discipline. The notebook is like a laboratory notebook, but for computing. \n",
                "\n",
                "Researchers can write code to work with their data while supplementing their methods with explanations, analysis, or hypotheses. Notebooks are also used in education because they enable students to engage with content presented in different forms, experience computation with no prior experience, and practice programming in a scaffolded way. "
            ]
        },
        {
            "cell_type": "markdown",
            "metadata": {},
            "source": [
                "<hr style=\"border: 2px solid #003262\">\n",
                "<hr style=\"border: 2px solid #C9B676\">"
            ]
        },
        {
            "cell_type": "markdown",
            "metadata": {
                "cell_id": "00003-058e2913-9587-45ac-8c2f-f284333ac4f3",
                "deepnote_cell_type": "markdown"
            },
            "source": [
                "## Notebook Structure\n",
                "\n",
                "### Cell Types\n",
                "A notebook is composed of rectangular sections called **cells**. There are 2 kinds of cells: markdown and code. \n",
                "- A **markdown cell**, such as this one, contains text. \n",
                "- A **code cell** contains code in Python, a programming language that we will be using with all of our data science modules in this class. You can select any cell by clicking it once.\n",
                "    - Code cells can also contain code in other languages like Julia, or R: both of which can also be used in data analysis\n",
                "\n",
                "### Running Cells\n",
                "To \"run\" a code cell (i.e. tell the computer to perform the programmed instructions in the cell), select it and then,\n",
                "- Press `Shift` + `Enter` to run the cell and move to the following cell\n",
                "- Press `Command/Control` + `Enter` to run the cell but stay on the same cell\n",
                "    - This can be used repeatedley to re-run the same process\n",
                "- Click the Run button in the toolbar at the top of the screen. \n",
                "\n",
                "### Results and Outputs of a Cell\n",
                "When you run a code cell, a number of things can happen, depending on the type and contents of the cell:\n",
                "1. If the cell is a markdown cell, the text will be rendered according to the structure (_Markdown_, _HTML_, etc.)\n",
                "2. If the cell is a code cell, the result of the last line in the cell will be shown\n",
                "    - This output may be text, a number, a picture, or a visualization\n",
                "\n",
                "If a code cell is running, you will see an asterisk (\\*) appear in the square brackets to the left of the cell. Once the cell has finished running, a number will replace the asterisk and any output from the code will appear under the cell.\n",
                "\n",
                "Let's try it! **Run the cell below to see the output.** Feel free to play around with the code -- try changing 'World' to your name."
            ]
        },
        {
            "cell_type": "code",
            "execution_count": null,
            "metadata": {
                "cell_id": "00004-a9f5f74b-a641-44a7-8dd5-2f9f58c10236",
                "deepnote_cell_type": "code",
                "execution": {
                    "iopub.execute_input": "2022-08-03T09:02:40.079967Z",
                    "iopub.status.busy": "2022-08-03T09:02:40.079000Z",
                    "iopub.status.idle": "2022-08-03T09:02:40.118322Z",
                    "shell.execute_reply": "2022-08-03T09:02:40.117260Z",
                    "shell.execute_reply.started": "2022-08-03T09:02:40.079911Z"
                },
                "tags": [
                    "ignore"
                ]
            },
            "outputs": [],
            "source": [
                "print(\"Hello World!\") # Run the cell by using one of the methods we mentioned above!"
            ]
        },
        {
            "cell_type": "markdown",
            "metadata": {
                "cell_id": "00005-7327a678-bcb7-4a12-b09a-a4054660c9af",
                "deepnote_cell_type": "markdown",
                "tags": [
                    "ignore"
                ]
            },
            "source": [
                "### Comments\n",
                "You'll notice that many code cells contain lines of blue text that start with a `#`. These are ***comments***. Comments often contain helpful information about what the code does or what you are supposed to do in the cell. The leading `#` tells the computer to ignore whatever text follows it."
            ]
        },
        {
            "cell_type": "markdown",
            "metadata": {},
            "source": [
                "<hr style=\"border: 2px solid #003262\">\n",
                "<hr style=\"border: 2px solid #C9B676\">"
            ]
        },
        {
            "attachments": {},
            "cell_type": "markdown",
            "metadata": {
                "cell_id": "00006-dadd2623-2173-4cdb-8c95-207741ecc765",
                "deepnote_cell_type": "markdown",
                "tags": [
                    "ignore"
                ]
            },
            "source": [
                "## Editing the Notebook\n",
                "\n",
                "You can change the text in a markdown cell by clicking it twice. Text in markdown cells is written in [**Markdown**](https://daringfireball.net/projects/markdown/), a formatting language for plain text, so you may see some funky symbols should you try and edit a markdown cell we've already written. Once you've made changes to a markdown cell, you can exit editing mode by running the cell the same way you'd run a code cell."
            ]
        },
        {
            "cell_type": "markdown",
            "metadata": {},
            "source": [
                "<blockquote>\n",
                "    <div class=\"alert alert-block alert-warning\">\n",
                "        <b>\n",
                "            Try double-clicking on this text to see what some Markdown formatting looks like.\n",
                "        </b>\n",
                "    </div>\n",
                "</blockquote>"
            ]
        },
        {
            "cell_type": "markdown",
            "metadata": {
                "cell_id": "00007-068d7862-911b-48aa-aa89-fe1376726a4f",
                "deepnote_cell_type": "markdown",
                "tags": [
                    "ignore"
                ]
            },
            "source": [
                "### Manipulating Cells\n",
                "\n",
                "Another feature of Jupyter Notebooks is the ability to add and delete cells, whether that be code or markdown. You can add cells by pressing the plus sign icon in the menu bar. This will add (by default) a code cell immediately below your current highlighted cell.\n",
                "\n",
                "To convert a cell to markdown, you can press 'Cell' in the menu bar, select 'Cell Type', and finally pick the desired option. This works the other way around too!\n",
                "\n",
                "To delete a cell, simply press the scissors icon in the menu bar. A common fear is deleting a cell that you needed -- but don't worry! This can be undone using 'Edit' > 'Undo Delete Cells'! If you accidentally delete content in a cell, you can use `Ctrl` + `Z` to undo."
            ]
        },
        {
            "attachments": {},
            "cell_type": "markdown",
            "metadata": {},
            "source": [
                "<h3>Shortcuts</h3>"
            ]
        },
        {
            "attachments": {},
            "cell_type": "markdown",
            "metadata": {},
            "source": [
                "<div class=\"alert alert-block alert-success\">\n",
                "    <p style=\"font-size:20px\">This section is optional\n",
                "</div>"
            ]
        },
        {
            "attachments": {},
            "cell_type": "markdown",
            "metadata": {},
            "source": [
                "Select a cell by clicking on the empty space to the left of the text (there will be a blue bar to the left of the cell at this point)\n",
                "<ul>\n",
                "<li>To <b>add a cell <i>below</i></b> the selected one, press the <code>b</code> key (<i>b for below</i>) </li>\n",
                "<li>To <b>add a cell <i>above</i></b> the selected one, press the <code>a</code> key (<i>a for above</i>) </li>\n",
                "<li>To <b>delete a cell</b>, press the <code>d</code> key (<i>d for delete</i>) </li>\n",
                "<li>To <b>copy a cell</b>, press the <code>c</code> key (<i>c for copy</i>) </li>\n",
                "<li>To <b>cut a cell</b>, press the <code>x</code> key (<i>same as the general cut text command</i>) </li>\n",
                "<li>To <b>delete a cell</b>, press the <code>d</code> key <b><i>twice</i></b> (<i>d for delete, twice to ensure the action</i>) </li>\n",
                "<li>To <b>paste a cell</b>, press the <code>v</code> key (<i>same as the general paste text command</i>) </li>\n",
                "<li>To <b>convert a cell to a markdown cell</b>, press the <code>m</code> key (<i>m for markdown</i>) </li>\n",
                "<li>To <b>convert a cell to a code cell</b>, press the <code>y</code> key </li>\n",
                "</ul>"
            ]
        },
        {
            "attachments": {},
            "cell_type": "markdown",
            "metadata": {
                "cell_id": "00008-50df70cb-c544-42c2-8146-20897007051c",
                "deepnote_cell_type": "markdown",
                "tags": [
                    "ignore"
                ]
            },
            "source": [
                "### Saving and Loading\n",
                "\n",
                "Your notebook will automatically save your text and code edits, as well as any graphs you generate or any calculations you make. However, you can also manually save the notebook in its current state by using `Ctrl` + `S`, clicking the floppy disk icon in the toolbar at the top of the page, or by going to the 'File' menu and selecting 'Save and Checkpoint'.\n",
                "\n",
                "Next time you open your notebook, it will look the same as when you last saved it!"
            ]
        },
        {
            "attachments": {},
            "cell_type": "markdown",
            "metadata": {},
            "source": [
                "<blockquote>\n",
                "    <div class=\"alert alert-block alert-info\">\n",
                "        <b>Note:</b> When you load a notebook you will see all the outputs from your last saved session (such as graphs, computations, etc.) but you won't be able to use any of the variables you assigned in your code without running it again.\n",
                "    </div>\n",
                "</blockquote>"
            ]
        },
        {
            "cell_type": "markdown",
            "metadata": {},
            "source": [
                "An easy way to \"catch up\" to the last work you did is to highlight the cell you left off on and click \"Run all above\" under the Cell tab in the menu at the top of the screen."
            ]
        },
        {
            "cell_type": "markdown",
            "metadata": {},
            "source": [
                "<hr style=\"border: 2px solid #003262\">\n",
                "<hr style=\"border: 2px solid #C9B676\">"
            ]
        },
        {
            "attachments": {},
            "cell_type": "markdown",
            "metadata": {},
            "source": [
                "## Python Basics\n",
                "[**Python**](https://www.python.org/) is a programming language – a way for us to communicate with the computer and give it instructions.\n",
                "\n",
                "Just like any language, Python has a set vocabulary made up of words it can understand, and a syntax which provides the rules for how to structure our commands and give instructions."
            ]
        },
        {
            "cell_type": "markdown",
            "metadata": {},
            "source": [
                "### Math\n",
                "Python is a great language for math, as it is easy to understand, and looks very similar to what it would look like in a regular scientific calculator!\n",
                "\n",
                "- `+` Acts as the addition operator\n",
                "- `-` Acts as the subtraction operator and can also act as a negative sign if next to a number (e.g., `-2` vs `- 2`)\n",
                "- `*` Acts as the multiplication operator\n",
                "- `**` Acts as the exponentiation operator\n",
                "- `/` Acts as the division operator\n",
                "- `()` Acts as the grouping operator\n",
                "\n",
                "There are two types of numbers in python: Integers, also known as `int`, (e.g., `4`, `7`, `15`, `2354`) and decimal numbers, aka `float` (e.g., `13.0`, `14.5`, `2.731`, `3.1415`). \n",
                "\n",
                "When using the `/` operator, even if the result is a whole number, the result will be a `float`. For example, `10 / 5` is `2.0`, not `2`.\n",
                "\n",
                "> There are other, more advanced operators such as [floor division](https://www.pythontutorial.net/advanced-python/python-floor-division/) and [modulo](https://realpython.com/python-modulo-operator/), however, we won't be using those for the time being, so feel free to explore if you'd like, but this is very out of scope for this material\n",
                "\n",
                "Let's look at some examples of using these operators. As usual, feel free to play artound with these cells or even add new ones to explore how these operations work!"
            ]
        },
        {
            "cell_type": "code",
            "execution_count": null,
            "metadata": {},
            "outputs": [],
            "source": [
                "1 + 3"
            ]
        },
        {
            "cell_type": "code",
            "execution_count": null,
            "metadata": {},
            "outputs": [],
            "source": [
                "1 + 3 - 4 + 5"
            ]
        },
        {
            "cell_type": "code",
            "execution_count": null,
            "metadata": {},
            "outputs": [],
            "source": [
                "1 + 10 / 2 + 7"
            ]
        },
        {
            "cell_type": "code",
            "execution_count": null,
            "metadata": {},
            "outputs": [],
            "source": [
                "3 * 4"
            ]
        },
        {
            "cell_type": "code",
            "execution_count": null,
            "metadata": {
                "execution": {
                    "iopub.execute_input": "2022-08-03T09:59:56.480883Z",
                    "iopub.status.busy": "2022-08-03T09:59:56.480486Z",
                    "iopub.status.idle": "2022-08-03T09:59:56.490422Z",
                    "shell.execute_reply": "2022-08-03T09:59:56.489698Z",
                    "shell.execute_reply.started": "2022-08-03T09:59:56.480853Z"
                }
            },
            "outputs": [],
            "source": [
                "5 ** 2"
            ]
        },
        {
            "cell_type": "code",
            "execution_count": null,
            "metadata": {
                "execution": {
                    "iopub.execute_input": "2022-08-03T10:00:04.963271Z",
                    "iopub.status.busy": "2022-08-03T10:00:04.962795Z",
                    "iopub.status.idle": "2022-08-03T10:00:04.976298Z",
                    "shell.execute_reply": "2022-08-03T10:00:04.974251Z",
                    "shell.execute_reply.started": "2022-08-03T10:00:04.963234Z"
                }
            },
            "outputs": [],
            "source": [
                "2 ** 3"
            ]
        },
        {
            "cell_type": "code",
            "execution_count": null,
            "metadata": {
                "execution": {
                    "iopub.execute_input": "2022-08-03T10:00:16.629885Z",
                    "iopub.status.busy": "2022-08-03T10:00:16.629327Z",
                    "iopub.status.idle": "2022-08-03T10:00:16.641667Z",
                    "shell.execute_reply": "2022-08-03T10:00:16.640691Z",
                    "shell.execute_reply.started": "2022-08-03T10:00:16.629849Z"
                }
            },
            "outputs": [],
            "source": [
                "4 ** .5"
            ]
        },
        {
            "cell_type": "code",
            "execution_count": null,
            "metadata": {
                "tags": []
            },
            "outputs": [],
            "source": [
                "6 + 4 * 2 - 15"
            ]
        },
        {
            "cell_type": "code",
            "execution_count": null,
            "metadata": {},
            "outputs": [],
            "source": [
                "(6 + 4) * 2 - 15"
            ]
        },
        {
            "cell_type": "code",
            "execution_count": null,
            "metadata": {},
            "outputs": [],
            "source": [
                "5 * 10 / 10"
            ]
        },
        {
            "cell_type": "code",
            "execution_count": null,
            "metadata": {
                "tags": []
            },
            "outputs": [],
            "source": [
                "2 - 100 * -2"
            ]
        },
        {
            "cell_type": "markdown",
            "metadata": {},
            "source": [
                "### Strings\n",
                "Strings are what we call words or text in Python. A string is surrounded in either single ('') or double (\"\") quotes. Here are some examples of strings"
            ]
        },
        {
            "cell_type": "code",
            "execution_count": null,
            "metadata": {},
            "outputs": [],
            "source": [
                "\"This is a string\""
            ]
        },
        {
            "cell_type": "code",
            "execution_count": null,
            "metadata": {},
            "outputs": [],
            "source": [
                "'This is too'"
            ]
        },
        {
            "cell_type": "code",
            "execution_count": null,
            "metadata": {},
            "outputs": [],
            "source": [
                "\"eVeNtHiSiSaStRiNg\""
            ]
        },
        {
            "cell_type": "markdown",
            "metadata": {},
            "source": [
                "You can even do math with strings!\n",
                "<div class=\"alert alert-block alert-success\">\n",
                "    <p style=\"font-size:20px\">These examples are advanced/optional\n",
                "</div>"
            ]
        },
        {
            "cell_type": "code",
            "execution_count": null,
            "metadata": {
                "tags": []
            },
            "outputs": [],
            "source": [
                "'Ha' * 10"
            ]
        },
        {
            "cell_type": "code",
            "execution_count": null,
            "metadata": {
                "tags": []
            },
            "outputs": [],
            "source": [
                "\"Ha\" + \" \" + \"Ha\" + \"     \" + \"Ha\""
            ]
        },
        {
            "cell_type": "markdown",
            "metadata": {
                "cell_id": "00012-b219d532-3d18-4f5b-8c0b-8300087fd4fc",
                "deepnote_cell_type": "markdown",
                "tags": [
                    "ignore"
                ]
            },
            "source": [
                "### Errors\n",
                "Errors in programming are common and totally okay! Don't be afraid when you see an error because more likely than not the solution lies in the error code itself! Let's see what an error looks like. **Run the cell below to see the output.**"
            ]
        },
        {
            "cell_type": "code",
            "execution_count": null,
            "metadata": {
                "cell_id": "00013-eb788b09-06e6-46f1-b6fd-5f63d3beaf17",
                "deepnote_cell_type": "code",
                "tags": [
                    "ignore"
                ]
            },
            "outputs": [],
            "source": [
                "print('This line is missing something.' #we are missing a closing parentheses here!"
            ]
        },
        {
            "cell_type": "markdown",
            "metadata": {
                "cell_id": "00014-7e39cbe6-b521-4466-8200-3a4f652750f9",
                "deepnote_cell_type": "markdown",
                "tags": [
                    "ignore"
                ]
            },
            "source": [
                "The last line of the error output attempts to tell you what went wrong. \n",
                "\n",
                "The *syntax* of a language is its structure, and this `SyntaxError` tells you that you have created an illegal structure.  \n",
                "\n",
                "`EOF` means \"End of File,\" so the message is saying Python expected you to write something more (in this case, a right parenthesis) before finishing the cell.\n",
                "\n",
                "There's a lot of terminology in programming languages, but you don't need to know it all in order to program effectively. If you see a cryptic message like this, you can often get by without deciphering it.  (Of course, if you're frustrated, you can usually find out by searching for the error message online.)"
            ]
        },
        {
            "cell_type": "markdown",
            "metadata": {
                "cell_id": "00015-6798c00d-6c61-4fb9-9db5-391b056d479c",
                "deepnote_cell_type": "markdown",
                "tags": [
                    "ignore"
                ]
            },
            "source": [
                "### Variables\n",
                "\n",
                "As we mentioned before, in this Jupyter Notebook you will be assigning data, figures, numbers, text, or other objects to **variables**. \n",
                "\n",
                "You can even assign graph output or functions to variables, but that is out of scope for this assignment so don't worry about it for now! \n",
                "\n",
                "Variables are stored in a computer's memory and you can use it over and over again in future calculations!\n",
                "\n",
                "Sometimes, instead of trying to work with raw information all the time in a long calculation you will want to store it as a **variable** for easy access in future calculations. **Check out how we can use variables to our advantage below!**"
            ]
        },
        {
            "cell_type": "markdown",
            "metadata": {},
            "source": [
                "<div class=\"alert alert-block alert-warning\">\n",
                "<b>Note:</b> In Python, variable names must be a combination of letters (capital and/or lowercase), numbers, and underscores ( _ ). <b>Variable names <i>cannot</i> begin with a number</b>\n",
                "</div>"
            ]
        },
        {
            "attachments": {},
            "cell_type": "markdown",
            "metadata": {},
            "source": [
                "- The following are all valid variable names:\n",
                "    - `pants`, `pan_cakes`, `_`, `_no_fun`, `potato940`, `bowser_32`, `FOO`, `BaR`, `bAr`\n",
                "    \n",
                "- These are invalid names: \n",
                "    - `123`, `1_fun`, `f@ke`, `fun time`, `fun_times!!`, `00f00`"
            ]
        },
        {
            "cell_type": "markdown",
            "metadata": {
                "tags": []
            },
            "source": [
                "## Assignment Statements\n",
                "Here is an example of what we call an _assignment statement_, what we use to create a variable. Here is an example of an assignment statement:"
            ]
        },
        {
            "cell_type": "code",
            "execution_count": null,
            "metadata": {
                "execution": {
                    "iopub.execute_input": "2022-08-03T08:17:30.594949Z",
                    "iopub.status.busy": "2022-08-03T08:17:30.594085Z",
                    "iopub.status.idle": "2022-08-03T08:17:30.617549Z",
                    "shell.execute_reply": "2022-08-03T08:17:30.616312Z",
                    "shell.execute_reply.started": "2022-08-03T08:17:30.594868Z"
                }
            },
            "outputs": [],
            "source": [
                "x = 1 + 2 + 3 + 4 "
            ]
        },
        {
            "cell_type": "markdown",
            "metadata": {},
            "source": [
                "The first part of the statment is the **variable name**, in this case `x`. Then we write an equals sign (`=`). The final part is the left hand side, **the value** is the value of the variable, in this case it is `1 + 2 + 3 + 4`. \n",
                "\n",
                "Also, notice that there was no output; an assignment statement has no output value! But, if we run a cell with the variable name itself, we can see the output, which is the value of `x`."
            ]
        },
        {
            "cell_type": "code",
            "execution_count": null,
            "metadata": {
                "execution": {
                    "iopub.execute_input": "2022-08-03T08:23:41.528689Z",
                    "iopub.status.busy": "2022-08-03T08:23:41.527499Z",
                    "iopub.status.idle": "2022-08-03T08:23:41.539992Z",
                    "shell.execute_reply": "2022-08-03T08:23:41.537221Z",
                    "shell.execute_reply.started": "2022-08-03T08:23:41.528645Z"
                },
                "tags": []
            },
            "outputs": [],
            "source": [
                "x #just run this cell"
            ]
        },
        {
            "cell_type": "markdown",
            "metadata": {},
            "source": [
                "You can also chain variable assignments, as follows:"
            ]
        },
        {
            "cell_type": "code",
            "execution_count": null,
            "metadata": {
                "execution": {
                    "iopub.execute_input": "2022-08-03T08:24:33.065858Z",
                    "iopub.status.busy": "2022-08-03T08:24:33.065177Z",
                    "iopub.status.idle": "2022-08-03T08:24:33.075613Z",
                    "shell.execute_reply": "2022-08-03T08:24:33.074196Z",
                    "shell.execute_reply.started": "2022-08-03T08:24:33.065827Z"
                }
            },
            "outputs": [],
            "source": [
                "y = (x + 3 + x + 2) * 4\n",
                "y"
            ]
        },
        {
            "cell_type": "markdown",
            "metadata": {},
            "source": [
                "### Variable Examples\n",
                "Let's look at a couple examples of when using variables can help us immensely!"
            ]
        },
        {
            "cell_type": "markdown",
            "metadata": {},
            "source": [
                "#### Example 1: Seconds in a Year\n",
                "Let's say we want to find out how many seconds are in a year. We could calcluate it raw as following: $$60 \\cdot 60 \\cdot 24 \\cdot 365$$ However, someone reading this may not understand it, and we might want to use this information for further calculations. Let's see how we can do this using variables!"
            ]
        },
        {
            "cell_type": "code",
            "execution_count": null,
            "metadata": {
                "execution": {
                    "iopub.execute_input": "2022-08-05T08:28:27.327630Z",
                    "iopub.status.busy": "2022-08-05T08:28:27.327137Z",
                    "iopub.status.idle": "2022-08-05T08:28:27.334135Z",
                    "shell.execute_reply": "2022-08-05T08:28:27.333397Z",
                    "shell.execute_reply.started": "2022-08-05T08:28:27.327604Z"
                },
                "tags": []
            },
            "outputs": [],
            "source": [
                "days = 365 #the days in a year\n",
                "hours = 24 #the hours in a day\n",
                "minutes = 60 #the minutes in an hour\n",
                "seconds = 60 #the seconds in a minute\n",
                "seconds_per_year = days * hours * minutes * seconds #the seconds in one year\n",
                "seconds_per_year"
            ]
        },
        {
            "cell_type": "markdown",
            "metadata": {},
            "source": [
                "This method is far easier to understand, and we can use our new variable `seconds_per_year` to answer other questions! Lets say we wanted to find the number of seconds in half a year, $7$ years, $234$ years, or even $3.1415$ years as follows!"
            ]
        },
        {
            "cell_type": "code",
            "execution_count": null,
            "metadata": {
                "execution": {
                    "iopub.execute_input": "2022-08-05T08:28:28.328910Z",
                    "iopub.status.busy": "2022-08-05T08:28:28.328282Z",
                    "iopub.status.idle": "2022-08-05T08:28:28.336686Z",
                    "shell.execute_reply": "2022-08-05T08:28:28.335576Z",
                    "shell.execute_reply.started": "2022-08-05T08:28:28.328873Z"
                },
                "tags": []
            },
            "outputs": [],
            "source": [
                "print(\"Seconds in half a year:\", seconds_per_year / 2)\n",
                "print(\"Seconds in seven years:\", seconds_per_year * 7)\n",
                "print(\"Seconds in two hundred and thirty-four years:\", seconds_per_year * 243)\n",
                "print(\"Seconds in 3.1415 years:\", seconds_per_year * 3.1415)"
            ]
        },
        {
            "cell_type": "markdown",
            "metadata": {},
            "source": [
                "As you can see, we don't need to re-do the problem four times to get all the results, we just need to use the result we already calculated! (Cool right?)"
            ]
        },
        {
            "cell_type": "markdown",
            "metadata": {},
            "source": [
                "#### Example 2: Equation of a Line\n",
                "If you haven't done algebra in a while, for reference, the equation of a line is $$y = mx + b$$ We can use variables to easily calculate the $y$ for any $x$, and we can set $m$ (the slope) and $b$ (the intercept)."
            ]
        },
        {
            "cell_type": "code",
            "execution_count": null,
            "metadata": {
                "execution": {
                    "iopub.execute_input": "2022-08-05T08:28:29.986870Z",
                    "iopub.status.busy": "2022-08-05T08:28:29.985790Z",
                    "iopub.status.idle": "2022-08-05T08:28:30.038201Z",
                    "shell.execute_reply": "2022-08-05T08:28:30.015123Z",
                    "shell.execute_reply.started": "2022-08-05T08:28:29.986832Z"
                },
                "tags": []
            },
            "outputs": [],
            "source": [
                "m = 1 #the slope\n",
                "b = 5 #the intercept\n",
                "x = 4 # try changing this value to see how the output changes!\n",
                "y = m * x + b\n",
                "print(f\"On the line y = {m}x + {b}, at x = {x}, y is equal to {y}\")"
            ]
        },
        {
            "cell_type": "markdown",
            "metadata": {},
            "source": [
                "## Lists\n",
                "Variable values may be more sophisticated. We can store multiple numbers under a single name if we make the value a list. The following cell stores 3 numbers in a list:"
            ]
        },
        {
            "cell_type": "code",
            "execution_count": null,
            "metadata": {},
            "outputs": [],
            "source": [
                "y = [4,9,16]"
            ]
        },
        {
            "attachments": {},
            "cell_type": "markdown",
            "metadata": {},
            "source": [
                "You can add values to a list or even take them out! This can be useful when you want to do a lot of calculations and keep them under one variable. See the following example for one such reson why lists are helpful. In this example, we add another element to the list, which is the sum of all of the numbers in the list already"
            ]
        },
        {
            "cell_type": "markdown",
            "metadata": {},
            "source": [
                "<div class=\"alert alert-block alert-success\">\n",
                "    <p style=\"font-size:20px\">This example is advanced/optional\n",
                "</div>"
            ]
        },
        {
            "cell_type": "code",
            "execution_count": null,
            "metadata": {
                "execution": {
                    "iopub.execute_input": "2022-08-05T08:30:16.887836Z",
                    "iopub.status.busy": "2022-08-05T08:30:16.887112Z",
                    "iopub.status.idle": "2022-08-05T08:30:16.904101Z",
                    "shell.execute_reply": "2022-08-05T08:30:16.901939Z",
                    "shell.execute_reply.started": "2022-08-05T08:30:16.887795Z"
                },
                "tags": []
            },
            "outputs": [],
            "source": [
                "running_totals = [1]\n",
                "running_totals = running_totals + [sum(running_totals)]\n",
                "running_totals = running_totals + [sum(running_totals)]\n",
                "running_totals = running_totals + [sum(running_totals)]\n",
                "running_totals = running_totals + [sum(running_totals)]\n",
                "running_totals = running_totals + [sum(running_totals)]\n",
                "running_totals = running_totals + [sum(running_totals)]\n",
                "running_totals"
            ]
        },
        {
            "attachments": {},
            "cell_type": "markdown",
            "metadata": {},
            "source": [
                "<h2>Loops</h2>"
            ]
        },
        {
            "cell_type": "markdown",
            "metadata": {},
            "source": [
                "<div class=\"alert alert-block alert-success\">\n",
                "    <p style=\"font-size:20px\">This section is advanced/optional\n",
                "</div>"
            ]
        },
        {
            "attachments": {},
            "cell_type": "markdown",
            "metadata": {},
            "source": [
                "That code above looks a little repetative, instead of typing that out, we can use what is called a <i>for loop</i>, to have the computer do it for us! The code in the cell below does the exact same thing as the cell above, just in a shorter way!"
            ]
        },
        {
            "cell_type": "code",
            "execution_count": null,
            "metadata": {
                "execution": {
                    "iopub.execute_input": "2022-08-05T08:33:05.691267Z",
                    "iopub.status.busy": "2022-08-05T08:33:05.690675Z",
                    "iopub.status.idle": "2022-08-05T08:33:05.718127Z",
                    "shell.execute_reply": "2022-08-05T08:33:05.716987Z",
                    "shell.execute_reply.started": "2022-08-05T08:33:05.691229Z"
                }
            },
            "outputs": [],
            "source": [
                "running_totals = [1]\n",
                "for _ in range(6): #do the intented action 6 times\n",
                "    running_totals = running_totals + [sum(running_totals)]\n",
                "running_totals"
            ]
        },
        {
            "attachments": {},
            "cell_type": "markdown",
            "metadata": {
                "cell_id": "00022-ad81de6d-4f04-4922-8b42-b54b01daeb8c",
                "deepnote_cell_type": "markdown",
                "tags": []
            },
            "source": [
                "## Functions\n",
                "We've seen that values can have names (often called **variables**), but operations may also have names. A named operation is called a **function**. Python has some functions built into it."
            ]
        },
        {
            "cell_type": "code",
            "execution_count": null,
            "metadata": {
                "cell_id": "00023-7a1ac018-a44a-4e08-a681-2479fd06afed",
                "deepnote_cell_type": "code",
                "execution": {
                    "iopub.execute_input": "2022-08-05T10:03:23.718343Z",
                    "iopub.status.busy": "2022-08-05T10:03:23.716471Z",
                    "iopub.status.idle": "2022-08-05T10:03:23.767727Z",
                    "shell.execute_reply": "2022-08-05T10:03:23.766540Z",
                    "shell.execute_reply.started": "2022-08-05T10:03:23.718231Z"
                },
                "tags": []
            },
            "outputs": [],
            "source": [
                "round # a built-in function "
            ]
        },
        {
            "cell_type": "markdown",
            "metadata": {},
            "source": [
                "If you Put the name of a function followed by a question mark (?), you can see some documentation on the function, such as what it us supposed to do!"
            ]
        },
        {
            "cell_type": "code",
            "execution_count": null,
            "metadata": {
                "execution": {
                    "iopub.execute_input": "2022-08-05T10:04:19.808557Z",
                    "iopub.status.busy": "2022-08-05T10:04:19.808107Z",
                    "iopub.status.idle": "2022-08-05T10:04:20.039446Z",
                    "shell.execute_reply": "2022-08-05T10:04:20.038442Z",
                    "shell.execute_reply.started": "2022-08-05T10:04:19.808524Z"
                }
            },
            "outputs": [],
            "source": [
                "round?"
            ]
        },
        {
            "cell_type": "markdown",
            "metadata": {
                "cell_id": "00024-61af2610-4945-4252-86a1-a4f67e1cf4ce",
                "deepnote_cell_type": "markdown",
                "tags": []
            },
            "source": [
                "Functions get used in *call expressions*, where a function is named and given values to operate on inside a set of parentheses. The `round` function returns the number it was given, rounded to the nearest whole number."
            ]
        },
        {
            "cell_type": "code",
            "execution_count": null,
            "metadata": {
                "cell_id": "00025-ddd3aeb9-2868-4a79-8404-5c5052baab1b",
                "deepnote_cell_type": "code",
                "execution": {
                    "iopub.execute_input": "2022-08-05T10:04:42.464415Z",
                    "iopub.status.busy": "2022-08-05T10:04:42.463960Z",
                    "iopub.status.idle": "2022-08-05T10:04:42.471954Z",
                    "shell.execute_reply": "2022-08-05T10:04:42.470894Z",
                    "shell.execute_reply.started": "2022-08-05T10:04:42.464379Z"
                },
                "tags": []
            },
            "outputs": [],
            "source": [
                "round(1988.74699) # a call expression using round"
            ]
        },
        {
            "cell_type": "markdown",
            "metadata": {
                "cell_id": "00027-27b5ba99-fd19-4093-9b69-1d42154c979f",
                "deepnote_cell_type": "markdown",
                "tags": []
            },
            "source": [
                "A function may also be called on more than one value (called *arguments*). For instance, the `min` function takes however many arguments you'd like and returns the smallest. Multiple arguments are separated by commas."
            ]
        },
        {
            "cell_type": "code",
            "execution_count": null,
            "metadata": {
                "cell_id": "00027-26d2e33c-79e0-44b3-aad9-59361b3dba09",
                "deepnote_cell_type": "code",
                "execution": {
                    "iopub.execute_input": "2022-08-05T10:04:45.328292Z",
                    "iopub.status.busy": "2022-08-05T10:04:45.327813Z",
                    "iopub.status.idle": "2022-08-05T10:04:45.339306Z",
                    "shell.execute_reply": "2022-08-05T10:04:45.338338Z",
                    "shell.execute_reply.started": "2022-08-05T10:04:45.328257Z"
                },
                "tags": []
            },
            "outputs": [],
            "source": [
                "min(9, -34, 0, 99)"
            ]
        },
        {
            "attachments": {},
            "cell_type": "markdown",
            "metadata": {
                "tags": []
            },
            "source": [
                "### User-Defined Functions"
            ]
        },
        {
            "cell_type": "markdown",
            "metadata": {},
            "source": [
                "<div class=\"alert alert-block alert-success\">\n",
                "    <p style=\"font-size:20px\">This section is advanced/optional\n",
                "</div>"
            ]
        },
        {
            "cell_type": "markdown",
            "metadata": {},
            "source": [
                "One of the most useful features in python is the ability to define your own functions using what we call a `\"def\"` statement. \n",
                "\n",
                "Here is an example of one such function based on our earier example of seconds in one year:"
            ]
        },
        {
            "attachments": {},
            "cell_type": "markdown",
            "metadata": {},
            "source": [
                "<div class=\"alert alert-block alert-info\">\n",
                "    <p style=\"font-size:15px\">\n",
                "    Note: All of the text between the tripple quotes (<code>\"\"\"</code>) is called a \n",
                "    <i>docstring</i>. This isn't required for the function to work, \n",
                "    but if we are sharing our code with someone else it allows us to explain the code\n",
                "    to them, or if we forget what it does later down the line!\n",
                "</div>"
            ]
        },
        {
            "cell_type": "code",
            "execution_count": 14,
            "metadata": {
                "execution": {
                    "iopub.execute_input": "2022-08-05T10:10:47.113600Z",
                    "iopub.status.busy": "2022-08-05T10:10:47.113101Z",
                    "iopub.status.idle": "2022-08-05T10:10:47.127183Z",
                    "shell.execute_reply": "2022-08-05T10:10:47.126223Z",
                    "shell.execute_reply.started": "2022-08-05T10:10:47.113562Z"
                },
                "tags": []
            },
            "outputs": [],
            "source": [
                "def seconds(x):\n",
                "    \"\"\"\n",
                "    Returns the number of seconds in `x` years.\n",
                "\n",
                "    Parameters\n",
                "    ----------\n",
                "    x : int or float or ndarray\n",
                "        Input for number of years.\n",
                "\n",
                "    Returns\n",
                "    -------\n",
                "    seconds : int or float or ndarray\n",
                "        Number of seconds in `x` years.\n",
                "\n",
                "    \"\"\"\n",
                "    days = 365\n",
                "    hours = 24\n",
                "    minutes = 60\n",
                "    seconds = 60\n",
                "    per_year = days * hours * minutes * seconds\n",
                "    return per_year * x"
            ]
        },
        {
            "cell_type": "markdown",
            "metadata": {},
            "source": [
                "Now we can use this function just like a built-in function!"
            ]
        },
        {
            "cell_type": "code",
            "execution_count": 12,
            "metadata": {
                "execution": {
                    "iopub.execute_input": "2022-08-05T10:10:56.866771Z",
                    "iopub.status.busy": "2022-08-05T10:10:56.866052Z",
                    "iopub.status.idle": "2022-08-05T10:10:56.883125Z",
                    "shell.execute_reply": "2022-08-05T10:10:56.882140Z",
                    "shell.execute_reply.started": "2022-08-05T10:10:56.866731Z"
                }
            },
            "outputs": [
                {
                    "data": {
                        "text/plain": [
                            "<function __main__.seconds(x)>"
                        ]
                    },
                    "execution_count": 12,
                    "metadata": {},
                    "output_type": "execute_result"
                }
            ],
            "source": [
                "seconds"
            ]
        },
        {
            "cell_type": "code",
            "execution_count": 15,
            "metadata": {
                "execution": {
                    "iopub.execute_input": "2022-08-05T10:10:58.618168Z",
                    "iopub.status.busy": "2022-08-05T10:10:58.617698Z",
                    "iopub.status.idle": "2022-08-05T10:10:58.625682Z",
                    "shell.execute_reply": "2022-08-05T10:10:58.624733Z",
                    "shell.execute_reply.started": "2022-08-05T10:10:58.618131Z"
                },
                "tags": []
            },
            "outputs": [
                {
                    "name": "stdout",
                    "output_type": "stream",
                    "text": [
                        "\u001b[0;31mSignature:\u001b[0m \u001b[0mseconds\u001b[0m\u001b[0;34m(\u001b[0m\u001b[0mx\u001b[0m\u001b[0;34m)\u001b[0m\u001b[0;34m\u001b[0m\u001b[0;34m\u001b[0m\u001b[0m\n",
                        "\u001b[0;31mDocstring:\u001b[0m\n",
                        "Returns the number of seconds in `x` years.\n",
                        "\n",
                        "Parameters\n",
                        "----------\n",
                        "x : int or float or ndarray\n",
                        "    Input for number of years.\n",
                        "\n",
                        "Returns\n",
                        "-------\n",
                        "seconds : int or float or ndarray\n",
                        "    Number of seconds in `x` years.\n",
                        "\u001b[0;31mFile:\u001b[0m      /var/folders/3k/k6qjt0ds37g89ylq_8dq2wwh0000gn/T/ipykernel_9126/657701453.py\n",
                        "\u001b[0;31mType:\u001b[0m      function\n"
                    ]
                }
            ],
            "source": [
                "seconds?"
            ]
        },
        {
            "cell_type": "code",
            "execution_count": null,
            "metadata": {
                "execution": {
                    "iopub.execute_input": "2022-08-05T10:14:48.215330Z",
                    "iopub.status.busy": "2022-08-05T10:14:48.214859Z",
                    "iopub.status.idle": "2022-08-05T10:14:48.230126Z",
                    "shell.execute_reply": "2022-08-05T10:14:48.227294Z",
                    "shell.execute_reply.started": "2022-08-05T10:14:48.215296Z"
                },
                "tags": []
            },
            "outputs": [],
            "source": [
                "print(\"Seconds in one year:\", seconds(1))\n",
                "print(\"Seconds in 57 years:\", seconds(57))\n",
                "print(\"Seconds in 6.022 years:\", round(seconds(6.022)))\n",
                "print(\"Seconds since Berkeley was founded (the year 1868):\", seconds(2022-1868))"
            ]
        },
        {
            "cell_type": "markdown",
            "metadata": {},
            "source": [
                "### Practice"
            ]
        },
        {
            "attachments": {},
            "cell_type": "markdown",
            "metadata": {
                "cell_id": "00028-85d551d0-1121-4f0d-9b6d-da0049cad3e7",
                "deepnote_cell_type": "markdown",
                "tags": []
            },
            "source": [
                "<div class=\"alert alert-block alert-warning\">\n",
                "<ul>\n",
                "    <li>The <code>abs</code> function takes one argument (just like <code>round</code>)</li>\n",
                "    <li>The <code>max</code> function takes one or more arguments (just like <code>min</code>)</li>\n",
                "</ul>\n"
            ]
        },
        {
            "cell_type": "markdown",
            "metadata": {},
            "source": [
                "\n",
                "Try calling <code>abs</code> and <code>max</code> in the cell below. What does each function do?\n",
                "\n",
                "Also try calling each function <i>incorrectly</i>, such as with the wrong number of arguments. What kinds of error messages do you see?\n",
                "</div>"
            ]
        },
        {
            "cell_type": "code",
            "execution_count": null,
            "metadata": {
                "cell_id": "00029-ba5cb6d4-659b-4236-87ba-a1cddd93da6f",
                "deepnote_cell_type": "code",
                "tags": []
            },
            "outputs": [],
            "source": [
                "... # replace the ... with calls to abs and max"
            ]
        },
        {
            "cell_type": "markdown",
            "metadata": {},
            "source": [
                "<hr style=\"border: 2px solid #003262\">\n",
                "<hr style=\"border: 2px solid #C9B676\">"
            ]
        },
        {
            "attachments": {},
            "cell_type": "markdown",
            "metadata": {
                "cell_id": "00009-52f60190-e21f-4107-99a9-d42ab128df40",
                "deepnote_cell_type": "markdown",
                "tags": [
                    "ignore"
                ]
            },
            "source": [
                "## Modules\n",
                "\n",
                "Now that we've covered our bases with regards to the platform we'll be working on for this assignment, let's load some **modules** we need to explore the data we are working with. Python **modules** are extra packages we can load to help use tools that are not otherwise available. These can include visualization modules such as `matplotlib` or numerical tools like `numpy`. You can see how we load these modules below:"
            ]
        },
        {
            "cell_type": "code",
            "execution_count": 20,
            "metadata": {
                "cell_id": "00010-be6eaa80-c135-4a5e-b17e-afa03953823b",
                "deepnote_cell_type": "code",
                "execution": {
                    "iopub.execute_input": "2022-08-05T10:23:25.851604Z",
                    "iopub.status.busy": "2022-08-05T10:23:25.850800Z",
                    "iopub.status.idle": "2022-08-05T10:23:25.858681Z",
                    "shell.execute_reply": "2022-08-05T10:23:25.857773Z",
                    "shell.execute_reply.started": "2022-08-05T10:23:25.851561Z"
                },
                "tags": [
                    "ignore"
                ]
            },
            "outputs": [],
            "source": [
                "from datascience import * # This loads tools from the datascience module\n",
                "import numpy as np # Loads numerical methods\n",
                "import math, random #Loads math and random functions\n",
                "import seaborn as sns, plotly.express as px #Loads plotting tools"
            ]
        },
        {
            "attachments": {},
            "cell_type": "markdown",
            "metadata": {},
            "source": [
                "For your reference, we'll break down one line of the large cell below. In this line:\n",
                "\n",
                "```python\n",
                "import numpy as np\n",
                "```\n",
                "\n",
                "We import the numpy module. Essentially, we're telling python that we want to use a specific set of functions that has been named \"`numpy`\". We then use the `as` keyword to specify that we want to use some other name to refer to \"`numpy`\"; in this context we told python we want to call it \"`np`\".\n",
                "\n",
                "Lets say we want to use the `numpy.mean` function (this takes the mean of a list of numbers). Because we imported \"`numpy`\" as \"`np`\", we could now call `np.mean()`\n",
                "\n",
                "Note: We name `numpy` as \"`np`\" because it is the standard name in the industry, however we could have said:\n",
                "\n",
                "```python\n",
                "import numpy as harrystyles\n",
                "```\n",
                "Which would've allowed us to run `harrystyles.mean()`. However, his would be confusing for a reader, so its considered best practice to use standard names such as \"`np`\" for \"`numpy`\", so that different people can all read your work and not be confused as to what function you are using or what module it came from.\n",
                "\n",
                "The cell below runs what we just talked about. Feel free to play around and try things out!"
            ]
        },
        {
            "cell_type": "code",
            "execution_count": null,
            "metadata": {
                "execution": {
                    "iopub.execute_input": "2022-08-05T10:40:59.244987Z",
                    "iopub.status.busy": "2022-08-05T10:40:59.244628Z",
                    "iopub.status.idle": "2022-08-05T10:40:59.250972Z",
                    "shell.execute_reply": "2022-08-05T10:40:59.249926Z",
                    "shell.execute_reply.started": "2022-08-05T10:40:59.244962Z"
                },
                "tags": []
            },
            "outputs": [],
            "source": [
                "import numpy as harrystyles\n",
                "print(\"Harry Styles is NumPy?\", harrystyles == np)\n",
                "numbers = [1, 2, 3, 4, 5, 6, 7, 8]\n",
                "print(f\"Harry Styles' mean of {numbers}:\", harrystyles.mean(numbers))\n",
                "print(f\"NumPy's mean of {numbers}:\", np.mean(numbers))\n",
                "\n",
                "# this line delete the silly import of `harrystyles` that we just made\n",
                "del harrystyles"
            ]
        },
        {
            "cell_type": "markdown",
            "metadata": {
                "cell_id": "00030-114d6671-9eff-4835-a25c-11b521f0f643",
                "deepnote_cell_type": "markdown",
                "tags": []
            },
            "source": [
                "#### Dot Notation\n",
                "Python has a lot of [built-in functions](https://docs.python.org/3/library/functions.html) (that is, functions that are already named and defined in Python), but even more functions are stored in collections called *modules*. Earlier, we imported the `math` module so we could use it later. Once a module is imported, you can use its functions by typing the name of the module, then the name of the function you want from it, separated with a `.`."
            ]
        },
        {
            "cell_type": "markdown",
            "metadata": {},
            "source": [
                "<div class=\"alert alert-block alert-info\">\n",
                "<p style='font-size:18px'><b>Tip:</b> If you type the name of a <i>module</i>, but can't remember the name of the function you're looking for, type a dot <code>.</code>, then press the <code>Tab</code> key to bring up an auto-complete menu to help you find the function you're looking for!\n",
                "    </p>\n",
                "</div>"
            ]
        },
        {
            "cell_type": "code",
            "execution_count": null,
            "metadata": {
                "cell_id": "00031-9b6fdd99-2357-45c8-a6b2-ba29f6dfc470",
                "deepnote_cell_type": "code",
                "execution": {
                    "iopub.execute_input": "2022-08-05T10:22:36.029638Z",
                    "iopub.status.busy": "2022-08-05T10:22:36.029172Z",
                    "iopub.status.idle": "2022-08-05T10:22:36.037838Z",
                    "shell.execute_reply": "2022-08-05T10:22:36.036937Z",
                    "shell.execute_reply.started": "2022-08-05T10:22:36.029603Z"
                },
                "tags": []
            },
            "outputs": [],
            "source": [
                "math.factorial(5) # a call expression with the factorial function from the math module"
            ]
        },
        {
            "cell_type": "markdown",
            "metadata": {},
            "source": [
                "Many math operations can be applied to lists. Try calling math.sqrt on y which you saved as the list [4, 9, 16].\n",
                "\n",
                "Operations like math.sqrt output a list of the same length as the input. Some reduce a list to a single number: try calling sum() on [4,9,16]."
            ]
        },
        {
            "cell_type": "markdown",
            "metadata": {
                "cell_id": "00032-6d349935-df0f-4c4d-96de-7d0769f50c3f",
                "deepnote_cell_type": "markdown",
                "tags": []
            },
            "source": [
                "<!-- BEGIN QUESTION -->\n",
                "\n",
                "<div class=\"alert alert-block alert-info\">\n",
                "<b>Question 1:</b>\n",
                "`math` also has a function called `sqrt` that takes one argument and returns the square root. Call `sqrt` on 16 in the next cell.\n",
                "</div>\n",
                "\n",
                "<!--\n",
                "BEGIN QUESTION\n",
                "name: q1\n",
                "points: 1\n",
                "manual: true\n",
                "-->"
            ]
        },
        {
            "cell_type": "code",
            "execution_count": null,
            "metadata": {
                "cell_id": "00032-5c32dfa7-9a29-4971-8c65-9c69c87abd56",
                "deepnote_cell_type": "code",
                "execution": {
                    "iopub.execute_input": "2022-08-05T10:22:45.405191Z",
                    "iopub.status.busy": "2022-08-05T10:22:45.404720Z",
                    "iopub.status.idle": "2022-08-05T10:22:45.434714Z",
                    "shell.execute_reply": "2022-08-05T10:22:45.421548Z",
                    "shell.execute_reply.started": "2022-08-05T10:22:45.405155Z"
                },
                "execution_millis": 0,
                "execution_start": 1605740158098,
                "output_cleared": false,
                "source_hash": "a311e606",
                "tags": []
            },
            "outputs": [],
            "source": [
                "... # Replace the ...with the call to use math.sqrt() to get the square root of 16"
            ]
        },
        {
            "cell_type": "markdown",
            "metadata": {},
            "source": [
                "**Answer here** *Double click to edit this markdown cell with your answer*"
            ]
        },
        {
            "cell_type": "markdown",
            "metadata": {},
            "source": [
                "<!-- END QUESTION -->\n",
                "\n",
                "### Random numbers and sampling\n",
                "Random sampling plays a key role in data science. The random module implements functions for random sampling and random number generation. For example, the cell below generates a random integer between 1 and 50. \n",
                "\n",
                "Note that any whole number between 1 and 50 has an equal probability of being selected --- the sampling probabilities are uniform.\n",
                "\n",
                "Try running this cell multiple times by holding `Command (mac)/Control (windows)` and pressing `Enter` repeatedly; notice how the output changes even though the code stays the same"
            ]
        },
        {
            "cell_type": "code",
            "execution_count": null,
            "metadata": {
                "execution": {
                    "iopub.execute_input": "2022-08-05T10:18:29.612947Z",
                    "iopub.status.busy": "2022-08-05T10:18:29.612338Z",
                    "iopub.status.idle": "2022-08-05T10:18:29.622383Z",
                    "shell.execute_reply": "2022-08-05T10:18:29.621393Z",
                    "shell.execute_reply.started": "2022-08-05T10:18:29.612905Z"
                },
                "tags": []
            },
            "outputs": [],
            "source": [
                "random.randint(1,50)"
            ]
        },
        {
            "cell_type": "markdown",
            "metadata": {},
            "source": [
                "<hr style=\"border: 2px solid #003262\">\n",
                "<hr style=\"border: 2px solid #C9B676\">"
            ]
        },
        {
            "attachments": {},
            "cell_type": "markdown",
            "metadata": {
                "cell_id": "00021-9acaedfa-35c8-4480-9195-ff3f525895da",
                "deepnote_cell_type": "markdown",
                "tags": [
                    "ignore"
                ]
            },
            "source": [
                "## Tables"
            ]
        },
        {
            "attachments": {},
            "cell_type": "markdown",
            "metadata": {},
            "source": [
                "### Loading a Table\n",
                "\n",
                "In data analysis, there is almost always a file holding your data that already exists. There are thousands of databases online that contain information on topics from all domains. In general, to import data from a file, we write something like:\n",
                "\n",
                "```python\n",
                "Table.read_table(\"file_location/file_name\")\n",
                "```\n",
                "\n",
                "Most often, these file names end in .csv to show the data format. .csv format is popular for spreadsheets and can be imported/exported from programs such as Microsoft Excel or Google spreadsheets."
            ]
        },
        {
            "attachments": {},
            "cell_type": "markdown",
            "metadata": {},
            "source": [
                "### Context \n",
                "\n",
                "The dataset that is loaded in the cell below contains one row for a party that went out for food at a restraunt. It includes the following information about each party:\n",
                "\n",
                "|column name| meaning |type|\n",
                "|--|--|--|\n",
                "|total|total cost of the bill |number |\n",
                "|tip|the tip left by the party |number |\n",
                "|sex|sex of the person paying |category |\n",
                "|smoker|if the person paying was smoking |category |\n",
                "|day|day of the week |category |\n",
                "|time|meal (e.g., Lunch, Dinner, etc.) |category |\n",
                "|size|how many people were in the party |number |"
            ]
        },
        {
            "cell_type": "code",
            "execution_count": 39,
            "metadata": {
                "execution": {
                    "iopub.execute_input": "2022-08-05T10:29:21.969406Z",
                    "iopub.status.busy": "2022-08-05T10:29:21.968920Z",
                    "iopub.status.idle": "2022-08-05T10:29:22.036243Z",
                    "shell.execute_reply": "2022-08-05T10:29:22.033954Z",
                    "shell.execute_reply.started": "2022-08-05T10:29:21.969370Z"
                }
            },
            "outputs": [
                {
                    "data": {
                        "text/html": [
                            "<table border=\"1\" class=\"dataframe\">\n",
                            "    <thead>\n",
                            "        <tr>\n",
                            "            <th>total</th> <th>tip</th> <th>sex</th> <th>smoker</th> <th>day</th> <th>time</th> <th>size</th>\n",
                            "        </tr>\n",
                            "    </thead>\n",
                            "    <tbody>\n",
                            "        <tr>\n",
                            "            <td>16.99</td> <td>1.01</td> <td>Female</td> <td>No    </td> <td>Sun </td> <td>Dinner</td> <td>2   </td>\n",
                            "        </tr>\n",
                            "        <tr>\n",
                            "            <td>10.34</td> <td>1.66</td> <td>Male  </td> <td>No    </td> <td>Sun </td> <td>Dinner</td> <td>3   </td>\n",
                            "        </tr>\n",
                            "        <tr>\n",
                            "            <td>21.01</td> <td>3.5 </td> <td>Male  </td> <td>No    </td> <td>Sun </td> <td>Dinner</td> <td>3   </td>\n",
                            "        </tr>\n",
                            "        <tr>\n",
                            "            <td>23.68</td> <td>3.31</td> <td>Male  </td> <td>No    </td> <td>Sun </td> <td>Dinner</td> <td>2   </td>\n",
                            "        </tr>\n",
                            "        <tr>\n",
                            "            <td>24.59</td> <td>3.61</td> <td>Female</td> <td>No    </td> <td>Sun </td> <td>Dinner</td> <td>4   </td>\n",
                            "        </tr>\n",
                            "        <tr>\n",
                            "            <td>25.29</td> <td>4.71</td> <td>Male  </td> <td>No    </td> <td>Sun </td> <td>Dinner</td> <td>4   </td>\n",
                            "        </tr>\n",
                            "        <tr>\n",
                            "            <td>8.77 </td> <td>2   </td> <td>Male  </td> <td>No    </td> <td>Sun </td> <td>Dinner</td> <td>2   </td>\n",
                            "        </tr>\n",
                            "        <tr>\n",
                            "            <td>26.88</td> <td>3.12</td> <td>Male  </td> <td>No    </td> <td>Sun </td> <td>Dinner</td> <td>4   </td>\n",
                            "        </tr>\n",
                            "        <tr>\n",
                            "            <td>15.04</td> <td>1.96</td> <td>Male  </td> <td>No    </td> <td>Sun </td> <td>Dinner</td> <td>2   </td>\n",
                            "        </tr>\n",
                            "        <tr>\n",
                            "            <td>14.78</td> <td>3.23</td> <td>Male  </td> <td>No    </td> <td>Sun </td> <td>Dinner</td> <td>2   </td>\n",
                            "        </tr>\n",
                            "    </tbody>\n",
                            "</table>\n",
                            "<p>... (234 rows omitted)</p>"
                        ],
                        "text/plain": [
                            "total | tip  | sex    | smoker | day  | time   | size\n",
                            "16.99 | 1.01 | Female | No     | Sun  | Dinner | 2\n",
                            "10.34 | 1.66 | Male   | No     | Sun  | Dinner | 3\n",
                            "21.01 | 3.5  | Male   | No     | Sun  | Dinner | 3\n",
                            "23.68 | 3.31 | Male   | No     | Sun  | Dinner | 2\n",
                            "24.59 | 3.61 | Female | No     | Sun  | Dinner | 4\n",
                            "25.29 | 4.71 | Male   | No     | Sun  | Dinner | 4\n",
                            "8.77  | 2    | Male   | No     | Sun  | Dinner | 2\n",
                            "26.88 | 3.12 | Male   | No     | Sun  | Dinner | 4\n",
                            "15.04 | 1.96 | Male   | No     | Sun  | Dinner | 2\n",
                            "14.78 | 3.23 | Male   | No     | Sun  | Dinner | 2\n",
                            "... (234 rows omitted)"
                        ]
                    },
                    "execution_count": 39,
                    "metadata": {},
                    "output_type": "execute_result"
                }
            ],
            "source": [
                "tips = Table.read_table(\"tips.csv\") #Here we see an assignment statement\n",
                "tips"
            ]
        },
        {
            "attachments": {},
            "cell_type": "markdown",
            "metadata": {},
            "source": [
                "### Size of a Table\n",
                "\n",
                "This notebook can calculate how large this table is with two functions: `num_rows` and `num_columns`. \n",
                "\n",
                "The general form for these built-in table functions are `table.num_rows` and `table.num_columns` where table is the name of the table.\n",
                "\n",
                "Let's use these on the table above."
            ]
        },
        {
            "cell_type": "code",
            "execution_count": 40,
            "metadata": {},
            "outputs": [
                {
                    "name": "stdout",
                    "output_type": "stream",
                    "text": [
                        "The tips table has 7 columns and 244 rows.\n"
                    ]
                }
            ],
            "source": [
                "cols = tips.num_columns\n",
                "rows = tips.num_rows\n",
                "print(\"The tips table has\", cols, \"columns and\", rows, \"rows.\")"
            ]
        },
        {
            "attachments": {},
            "cell_type": "markdown",
            "metadata": {},
            "source": [
                "### Selecting Columns\n",
                "As we saw, there is a lot of data! However, what if we only care about some of it? In that case we can `select` a few of the columns.\n",
                "\n",
                "Let's say we want to focus on the `total` and `size` of the party. We will use the `select` function on the table to make a smaller table."
            ]
        },
        {
            "cell_type": "code",
            "execution_count": 41,
            "metadata": {},
            "outputs": [
                {
                    "data": {
                        "text/html": [
                            "<table border=\"1\" class=\"dataframe\">\n",
                            "    <thead>\n",
                            "        <tr>\n",
                            "            <th>total</th> <th>tip</th>\n",
                            "        </tr>\n",
                            "    </thead>\n",
                            "    <tbody>\n",
                            "        <tr>\n",
                            "            <td>16.99</td> <td>1.01</td>\n",
                            "        </tr>\n",
                            "        <tr>\n",
                            "            <td>10.34</td> <td>1.66</td>\n",
                            "        </tr>\n",
                            "        <tr>\n",
                            "            <td>21.01</td> <td>3.5 </td>\n",
                            "        </tr>\n",
                            "        <tr>\n",
                            "            <td>23.68</td> <td>3.31</td>\n",
                            "        </tr>\n",
                            "        <tr>\n",
                            "            <td>24.59</td> <td>3.61</td>\n",
                            "        </tr>\n",
                            "        <tr>\n",
                            "            <td>25.29</td> <td>4.71</td>\n",
                            "        </tr>\n",
                            "        <tr>\n",
                            "            <td>8.77 </td> <td>2   </td>\n",
                            "        </tr>\n",
                            "        <tr>\n",
                            "            <td>26.88</td> <td>3.12</td>\n",
                            "        </tr>\n",
                            "        <tr>\n",
                            "            <td>15.04</td> <td>1.96</td>\n",
                            "        </tr>\n",
                            "        <tr>\n",
                            "            <td>14.78</td> <td>3.23</td>\n",
                            "        </tr>\n",
                            "    </tbody>\n",
                            "</table>\n",
                            "<p>... (234 rows omitted)</p>"
                        ],
                        "text/plain": [
                            "total | tip\n",
                            "16.99 | 1.01\n",
                            "10.34 | 1.66\n",
                            "21.01 | 3.5\n",
                            "23.68 | 3.31\n",
                            "24.59 | 3.61\n",
                            "25.29 | 4.71\n",
                            "8.77  | 2\n",
                            "26.88 | 3.12\n",
                            "15.04 | 1.96\n",
                            "14.78 | 3.23\n",
                            "... (234 rows omitted)"
                        ]
                    },
                    "execution_count": 41,
                    "metadata": {},
                    "output_type": "execute_result"
                }
            ],
            "source": [
                "total_and_tip = tips.select(\"total\", \"tip\")\n",
                "total_and_tip"
            ]
        },
        {
            "attachments": {},
            "cell_type": "markdown",
            "metadata": {},
            "source": [
                "### Sorting\n",
                "\n",
                "Now, what if we want to sort the table, and look at the biggest tips? We can use the `sort` function!"
            ]
        },
        {
            "cell_type": "code",
            "execution_count": 42,
            "metadata": {},
            "outputs": [
                {
                    "data": {
                        "text/html": [
                            "<table border=\"1\" class=\"dataframe\">\n",
                            "    <thead>\n",
                            "        <tr>\n",
                            "            <th>total</th> <th>tip</th>\n",
                            "        </tr>\n",
                            "    </thead>\n",
                            "    <tbody>\n",
                            "        <tr>\n",
                            "            <td>50.81</td> <td>10  </td>\n",
                            "        </tr>\n",
                            "        <tr>\n",
                            "            <td>48.33</td> <td>9   </td>\n",
                            "        </tr>\n",
                            "        <tr>\n",
                            "            <td>39.42</td> <td>7.58</td>\n",
                            "        </tr>\n",
                            "        <tr>\n",
                            "            <td>48.27</td> <td>6.73</td>\n",
                            "        </tr>\n",
                            "        <tr>\n",
                            "            <td>34.3 </td> <td>6.7 </td>\n",
                            "        </tr>\n",
                            "        <tr>\n",
                            "            <td>23.17</td> <td>6.5 </td>\n",
                            "        </tr>\n",
                            "        <tr>\n",
                            "            <td>28.17</td> <td>6.5 </td>\n",
                            "        </tr>\n",
                            "        <tr>\n",
                            "            <td>32.4 </td> <td>6   </td>\n",
                            "        </tr>\n",
                            "        <tr>\n",
                            "            <td>29.03</td> <td>5.92</td>\n",
                            "        </tr>\n",
                            "        <tr>\n",
                            "            <td>24.71</td> <td>5.85</td>\n",
                            "        </tr>\n",
                            "    </tbody>\n",
                            "</table>\n",
                            "<p>... (234 rows omitted)</p>"
                        ],
                        "text/plain": [
                            "total | tip\n",
                            "50.81 | 10\n",
                            "48.33 | 9\n",
                            "39.42 | 7.58\n",
                            "48.27 | 6.73\n",
                            "34.3  | 6.7\n",
                            "23.17 | 6.5\n",
                            "28.17 | 6.5\n",
                            "32.4  | 6\n",
                            "29.03 | 5.92\n",
                            "24.71 | 5.85\n",
                            "... (234 rows omitted)"
                        ]
                    },
                    "execution_count": 42,
                    "metadata": {},
                    "output_type": "execute_result"
                }
            ],
            "source": [
                "total_and_tip.sort(\"tip\", descending=True)"
            ]
        },
        {
            "cell_type": "markdown",
            "metadata": {},
            "source": [
                "<hr style=\"border: 2px solid #003262\">\n",
                "<hr style=\"border: 2px solid #C9B676\">"
            ]
        },
        {
            "cell_type": "markdown",
            "metadata": {},
            "source": [
                "## Columns\n",
                "\n",
                "What if we want to look at the average bill total? To do that, we need to get the `total` column my itself. We can use the `column` function to do that! \n",
                "\n",
                "When you run the cell below, you'll see a lot of numbers, which might be overwhelming. But don't worry, we'll ignore the numbers for now, we just want to show what a column by itself looks like!"
            ]
        },
        {
            "cell_type": "code",
            "execution_count": null,
            "metadata": {},
            "outputs": [
                {
                    "name": "stdout",
                    "output_type": "stream",
                    "text": [
                        "[ 16.99  10.34  21.01  23.68  24.59  25.29   8.77  26.88  15.04  14.78\n",
                        "  10.27  35.26  15.42  18.43  14.83  21.58  10.33  16.29  16.97  20.65\n",
                        "  17.92  20.29  15.77  39.42  19.82  17.81  13.37  12.69  21.7   19.65\n",
                        "   9.55  18.35  15.06  20.69  17.78  24.06  16.31  16.93  18.69  31.27\n",
                        "  16.04  17.46  13.94   9.68  30.4   18.29  22.23  32.4   28.55  18.04\n",
                        "  12.54  10.29  34.81   9.94  25.56  19.49  38.01  26.41  11.24  48.27\n",
                        "  20.29  13.81  11.02  18.29  17.59  20.08  16.45   3.07  20.23  15.01\n",
                        "  12.02  17.07  26.86  25.28  14.73  10.51  17.92  27.2   22.76  17.29\n",
                        "  19.44  16.66  10.07  32.68  15.98  34.83  13.03  18.28  24.71  21.16\n",
                        "  28.97  22.49   5.75  16.32  22.75  40.17  27.28  12.03  21.01  12.46\n",
                        "  11.35  15.38  44.3   22.42  20.92  15.36  20.49  25.21  18.24  14.31\n",
                        "  14.     7.25  38.07  23.95  25.71  17.31  29.93  10.65  12.43  24.08\n",
                        "  11.69  13.42  14.26  15.95  12.48  29.8    8.52  14.52  11.38  22.82\n",
                        "  19.08  20.27  11.17  12.26  18.26   8.51  10.33  14.15  16.    13.16\n",
                        "  17.47  34.3   41.19  27.05  16.43   8.35  18.64  11.87   9.78   7.51\n",
                        "  14.07  13.13  17.26  24.55  19.77  29.85  48.17  25.    13.39  16.49\n",
                        "  21.5   12.66  16.21  13.81  17.51  24.52  20.76  31.71  10.59  10.63\n",
                        "  50.81  15.81   7.25  31.85  16.82  32.9   17.89  14.48   9.6   34.63\n",
                        "  34.65  23.33  45.35  23.17  40.55  20.69  20.9   30.46  18.15  23.1\n",
                        "  15.69  19.81  28.44  15.48  16.58   7.56  10.34  43.11  13.    13.51\n",
                        "  18.71  12.74  13.    16.4   20.53  16.47  26.59  38.73  24.27  12.76\n",
                        "  30.06  25.89  48.33  13.27  28.17  12.9   28.15  11.59   7.74  30.14\n",
                        "  12.16  13.42   8.58  15.98  13.42  16.27  10.09  20.45  13.28  22.12\n",
                        "  24.01  15.69  11.61  10.77  15.53  10.07  12.6   32.83  35.83  29.03\n",
                        "  27.18  22.67  17.82  18.78]\n"
                    ]
                }
            ],
            "source": [
                "totals = total_and_tip.column(\"total\")\n",
                "print(totals)"
            ]
        },
        {
            "cell_type": "markdown",
            "metadata": {},
            "source": [
                "### Statistics with Columns\n",
                "\n",
                "Now that we have the totals as a list of numbers we can use the `numpy` module that we saw eariler to find some cool statistics about this data! Check out the cells below!"
            ]
        },
        {
            "cell_type": "code",
            "execution_count": null,
            "metadata": {},
            "outputs": [
                {
                    "name": "stdout",
                    "output_type": "stream",
                    "text": [
                        "The average total is 19.785942623 dollars\n"
                    ]
                }
            ],
            "source": [
                "average = np.mean(totals) # the mean of the totals\n",
                "print(\"The average total is\", average, \"dollars\")"
            ]
        },
        {
            "cell_type": "code",
            "execution_count": null,
            "metadata": {},
            "outputs": [
                {
                    "name": "stdout",
                    "output_type": "stream",
                    "text": [
                        "The smallest total is 3.07 dollars\n"
                    ]
                }
            ],
            "source": [
                "minimum = np.min(totals) # the minimum of the totals\n",
                "print(\"The smallest total is\", minimum, \"dollars\")"
            ]
        },
        {
            "cell_type": "code",
            "execution_count": null,
            "metadata": {},
            "outputs": [
                {
                    "name": "stdout",
                    "output_type": "stream",
                    "text": [
                        "The biggest total is 50.81 dollars\n"
                    ]
                }
            ],
            "source": [
                "maximum = np.max(totals) # the maximum of the totals\n",
                "print(\"The biggest total is\", maximum, \"dollars\")"
            ]
        },
        {
            "cell_type": "markdown",
            "metadata": {},
            "source": [
                "<hr style=\"border: 2px solid #003262\">\n",
                "<hr style=\"border: 2px solid #C9B676\">"
            ]
        },
        {
            "cell_type": "markdown",
            "metadata": {
                "cell_id": "00033-cdd8d4fd-d181-4b60-84c6-53fce944a344",
                "deepnote_cell_type": "markdown"
            },
            "source": [
                "## Notebooks in Practice\n",
                "\n",
                "With proprietary software like *Mathematica*, users are supposed to trust the results returned and are unable to check the code. In contrast, *Jupyter* fosters **transparency** and hence encourages **reproducibility**, which refers to the ability to reproduce the results of a scientific study. Not only is the code behind the software available for anyone to inspect or tinker with, but code in the notebooks can also be examined or re-run to reproduce the results. \n",
                "\n",
                "[Theodore Gray](http://home.theodoregray.com/), the co-founder of [Wolfram Research](https://en.wikipedia.org/wiki/Wolfram_Research) who was also involved in creating the *Mathematica* interface, said about *Jupyter*,\n",
                ">*\"I think what they have is **acceptance from the scientific community** as a tool that is considered to be **universal**.\"*\n",
                "\n",
                "In other words, *Jupyter Notebooks* support the computational work of researchers from different fields, from astronomy to psychology to literature, and therefore enable new ways for researchers in very different domains to **share research tools, methods, and learn from one another**.\n",
                "\n",
                "The versatility of the Notebook also has important consequences for data science and the workflows that are involved when working with data in settings other than research, such as for **education and community science projects**. The process of working with data can be messy and nonlinear, which a Jupyter notebook can handle well because of its **flexibility** (though this messiness is often reflected in the resulting notebook!). \n",
                "\n",
                "The power of the notebook lies in its ability to include a **variety of media** with the computation as a means to maintain **accountability, integrity, and transparency** for both the author of the notebook and the audiences that you share your work with. \n",
                "\n",
                "**In a world in which algorithms and data analysis inform many aspects of life and where computation is getting more and more abstract, the ability to understand and reason about computational work is more important than ever.**"
            ]
        }
    ],
    "metadata": {
        "deepnote_execution_queue": [],
        "deepnote_notebook_id": "693e9760-244f-475b-aa3d-f49b62665db0",
        "kernelspec": {
            "display_name": "Python 3",
            "language": "python",
            "name": "python3"
        },
        "language_info": {
            "codemirror_mode": {
                "name": "ipython",
                "version": 3
            },
            "file_extension": ".py",
            "mimetype": "text/x-python",
            "name": "python",
            "nbconvert_exporter": "python",
            "pygments_lexer": "ipython3",
            "version": "3.10.1"
        },
        "vscode": {
            "interpreter": {
                "hash": "aee8b7b246df8f9039afb4144a1f6fd8d2ca17a180786b69acc140d282b71a49"
            }
        },
        "widgets": {
            "application/vnd.jupyter.widget-state+json": {
                "state": {},
                "version_major": 2,
                "version_minor": 0
            }
        }
    },
    "nbformat": 4,
    "nbformat_minor": 4
}
