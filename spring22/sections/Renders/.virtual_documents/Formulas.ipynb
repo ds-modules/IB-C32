import plotly.express as px; import plotly.io as pio; pio.renderers.default = 'notebook'
import scipy.constants as constant; import numpy as np; import math
import ipywidgets as widgets; from ipywidgets import interact, interactive, fixed, interact_manual


print("The graph may take a second",
      "to update after you release the slider", "\n")
print("Changing m will change the magnitude")
print("Changing r will change the amount",
     "of points that are plotted.")
@interact(m = widgets.FloatSlider(min=0, max=10, 
                                  step=.05, value=4),
          r = widgets.FloatSlider(min=0, max=1,
                                  step=.1, value=.1),
         continuous_update=False)
def both(m, r):
    '''Graph Adhesive vs. Shear Force'''
    
    def shear(m, a):
        '''Calculate Shear Force'''
        force_from_gravity = constant.g * m
        angled = np.array([math.cos(i) for i in a])
        return force_from_gravity * angled
    
    def adhesive(m, a):
        '''Calculate Adhesive Force'''
        force_from_gravity = constant.g * m
        angled = np.array([math.sin(i) for i in a])
        return force_from_gravity * angled

    x = np.arange(0, 100, r)
    sh, ad = shear(m, x), adhesive(m, x)
    graph = px.line(x = sh, y = ad, 
                    width = 500, height = 500, 
                    color_discrete_sequence = ["#003262"],
                    labels={"x": 'Shear Force (N)',
                            "y": "Adhesive Force (N)"})
    graph.update_xaxes(range=(0, 100))
    graph.update_yaxes(range=(0, 100))
    graph.show()



