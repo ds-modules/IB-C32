{
 "cells": [
  {
   "cell_type": "markdown",
   "id": "678874f0",
   "metadata": {},
   "source": [
    "# IB C32 - Gecko Inspired Adhesive Analysis\n",
    "***\n",
    "**Professor:** Robert Fall \n",
    "\n",
    "**GSI:** Ali Bhatti\n",
    "\n",
    "***\n",
    "\n",
    "### Table of Contents\n",
    "\n",
    "[Introduction to Jupyter](#jupyterintro)\n",
    "\n",
    "[Introduction](#intro)\n",
    "\n",
    "[Introduction to Equations](#introequations)\n",
    "\n",
    "[Background to the Data](#background)\n",
    "\n",
    "[Data Visualization](#visualization)\n",
    "\n",
    "[Discussion](#Discussion)"
   ]
  },
  {
   "cell_type": "markdown",
   "id": "12dade59",
   "metadata": {},
   "source": [
    "### **Introduction to Jupyter** <a id='jupyterintro'></a>\n",
    "Welcome to a Jupyter Notebook! **Notebooks** are documents that can contain text, code, visualizations, and more!\n",
    "\n",
    "A notebook is composed of rectangular sections called **cells**. There are 2 kinds of cells: markdown and code. A **markdown cell**, such as this one, contains text. A **code cell** contains code in Python, a programming language that we will be using for the remainder of this module. You can select any cell by clicking it once.\n",
    "\n",
    "To run a code cell once it's been selected, \n",
    "- Press Shift + Enter, or\n",
    "- Click the Run button in the toolbar at the top of the screen. \n",
    "\n",
    "If a code cell is running, you will see an asterisk (\\*) appear in the square brackets to the left of the cell. Once the cell has finished running, a number will replace the asterisk and any output from the code will appear under the cell.\n",
    "\n",
    "Let's try it! <font color = #d14d0f>**Run the cell below to see the output.**</font> Feel free to play around with the code -- try changing 'World' to your name."
   ]
  },
  {
   "cell_type": "code",
   "execution_count": 65,
   "id": "d8e14ede",
   "metadata": {},
   "outputs": [
    {
     "name": "stdout",
     "output_type": "stream",
     "text": [
      "Hello World!\n"
     ]
    }
   ],
   "source": [
    "# Run the cell by using one of the methods we mentioned above!\n",
    "\n",
    "print(\"Hello World!\")"
   ]
  },
  {
   "cell_type": "markdown",
   "id": "d8802fd1",
   "metadata": {},
   "source": [
    "You'll notice that many code cells contain lines of blue text that start with a `#`. These are *comments*. Comments often contain helpful information about what the code does or what you are supposed to do in the cell. The leading `#` tells the computer to ignore whatever text follows it."
   ]
  },
  {
   "cell_type": "markdown",
   "id": "1ea7f956",
   "metadata": {},
   "source": [
    "#### Editing\n",
    "\n",
    "You can change the text in markdown cell by clicking it twice. Text in markdown cells is written in [**Markdown**](https://daringfireball.net/projects/markdown/), a formatting language for plain text, so you may see some funky symbols should you try and edit a markdown cell we've already written. Once you've made changes to a markdown cell, you can exit editing mode by running the cell the same way you'd run a code cell.\n",
    "\n",
    "<font color = #d14d0f>**Try double-clicking on this text to see what some Markdown formatting looks like.**</font>"
   ]
  },
  {
   "cell_type": "markdown",
   "id": "5276d6b8",
   "metadata": {},
   "source": [
    "#### Adding and Deleting Cells\n",
    "\n",
    "Another feature of Jupyter Notebooks is the ability to add and delete cells, whether that be code or markdown. You can add cells by pressing the plus sign icon in the menu bar. This will add (by default) a code cell immediately below your current highlighted cell.\n",
    "\n",
    "To convert a cell to markdown, you can press 'Cell' in the menu bar, select 'Cell Type', and finally pick the desired option. This works the other way around too!\n",
    "\n",
    "To delete a cell, simply press the scissors icon in the menu bar. A common fear is deleting a cell that you needed -- but don't worry! This can be undone using 'Edit' > 'Undo Delete Cells'! If you accidentally delete a cells content, you can use `Ctrl` + `Z`."
   ]
  },
  {
   "cell_type": "markdown",
   "id": "25802d47",
   "metadata": {},
   "source": [
    "#### Saving and Loading\n",
    "\n",
    "Your notebook will automatically save your text and code edits, as well as any graphs you generate or any calculations you make. However, you can also manually save the notebook in its current state by using `Ctrl` + `S`, clicking the floppy disk icon in the toolbar at the top of the page, or by going to the 'File' menu and selecting 'Save and Checkpoint'.\n",
    "\n",
    "Next time you open your notebook, it will look the same as when you last saved it!\n",
    "\n",
    "**Note:** When you load a notebook you will see all the outputs from your last saved session (such as graphs, computations, etc.) but you won't be able to use any of the variables you assigned in your code without running it again.\n",
    "\n",
    "An easy way to \"catch up\" to the last work you did is to highlight the cell you left off on and click \"Run all above\" under the Cell tab in the menu at the top of the screen."
   ]
  },
  {
   "cell_type": "markdown",
   "id": "890fa0ad",
   "metadata": {},
   "source": [
    "#### Getting Started\n",
    "\n",
    "Now that we've covered our bases with regards to the platform we'll be working on for this assignment, let's load some **libraries** we need to explore the data we are working with. Python **libraries** are extra packages we can load to help use tools that are not otherwise available. These can include visualization libraries such as `matplotlib` or numerical tools like `numpy`. You can see how we load these libraries below:"
   ]
  },
  {
   "cell_type": "code",
   "execution_count": 58,
   "id": "79473d5f",
   "metadata": {},
   "outputs": [
    {
     "ename": "ModuleNotFoundError",
     "evalue": "No module named 'utils'",
     "output_type": "error",
     "traceback": [
      "\u001b[0;31m---------------------------------------------------------------------------\u001b[0m",
      "\u001b[0;31mModuleNotFoundError\u001b[0m                       Traceback (most recent call last)",
      "Input \u001b[0;32mIn [58]\u001b[0m, in \u001b[0;36m<module>\u001b[0;34m\u001b[0m\n\u001b[1;32m      1\u001b[0m \u001b[38;5;28;01mimport\u001b[39;00m \u001b[38;5;21;01mplotly\u001b[39;00m\u001b[38;5;21;01m.\u001b[39;00m\u001b[38;5;21;01mexpress\u001b[39;00m \u001b[38;5;28;01mas\u001b[39;00m \u001b[38;5;21;01mpx\u001b[39;00m;\n\u001b[1;32m      2\u001b[0m \u001b[38;5;28;01mimport\u001b[39;00m \u001b[38;5;21;01mscipy\u001b[39;00m\u001b[38;5;21;01m.\u001b[39;00m\u001b[38;5;21;01mconstants\u001b[39;00m \u001b[38;5;28;01mas\u001b[39;00m \u001b[38;5;21;01mconstant\u001b[39;00m; \u001b[38;5;28;01mimport\u001b[39;00m \u001b[38;5;21;01mnumpy\u001b[39;00m \u001b[38;5;28;01mas\u001b[39;00m \u001b[38;5;21;01mnp\u001b[39;00m; \u001b[38;5;28;01mimport\u001b[39;00m \u001b[38;5;21;01mmath\u001b[39;00m \u001b[38;5;66;03m# Loads numerical methods\u001b[39;00m\n\u001b[0;32m----> 3\u001b[0m \u001b[38;5;28;01mfrom\u001b[39;00m \u001b[38;5;21;01mipywidgets\u001b[39;00m \u001b[38;5;28;01mimport\u001b[39;00m \u001b[38;5;241m*\u001b[39m; \u001b[38;5;28;01mfrom\u001b[39;00m \u001b[38;5;21;01mutils\u001b[39;00m \u001b[38;5;28;01mimport\u001b[39;00m \u001b[38;5;241m*\u001b[39m \u001b[38;5;66;03m# Loads a widgets library that will allow for interactive learning\u001b[39;00m\n\u001b[1;32m      4\u001b[0m \u001b[38;5;28;01mimport\u001b[39;00m \u001b[38;5;21;01mpandas\u001b[39;00m \u001b[38;5;28;01mas\u001b[39;00m \u001b[38;5;21;01mpd\u001b[39;00m; \u001b[38;5;28;01mimport\u001b[39;00m \u001b[38;5;21;01mnumpy\u001b[39;00m \u001b[38;5;28;01mas\u001b[39;00m \u001b[38;5;21;01mnp\u001b[39;00m \u001b[38;5;66;03m# Loads Data Science Packages\u001b[39;00m\n\u001b[1;32m      5\u001b[0m \u001b[38;5;28;01mfrom\u001b[39;00m \u001b[38;5;21;01mdatascience\u001b[39;00m \u001b[38;5;28;01mimport\u001b[39;00m \u001b[38;5;241m*\u001b[39m; \u001b[38;5;28;01mfrom\u001b[39;00m \u001b[38;5;21;01mIPython\u001b[39;00m\u001b[38;5;21;01m.\u001b[39;00m\u001b[38;5;21;01mdisplay\u001b[39;00m \u001b[38;5;28;01mimport\u001b[39;00m \u001b[38;5;241m*\u001b[39m \u001b[38;5;66;03m# This loads tools from the datascience library\u001b[39;00m\n",
      "\u001b[0;31mModuleNotFoundError\u001b[0m: No module named 'utils'"
     ]
    }
   ],
   "source": [
    "import plotly.express as px;\n",
    "import scipy.constants as constant; import numpy as np; import math # Loads numerical methods\n",
    "from ipywidgets import *; from utils import * # Loads a widgets library that will allow for interactive learning\n",
    "import pandas as pd; import numpy as np # Loads Data Science Packages\n",
    "from datascience import *; from IPython.display import * # This loads tools from the datascience library\n",
    "%pip install -q openpyxl"
   ]
  },
  {
   "cell_type": "markdown",
   "id": "dce4b6a6",
   "metadata": {},
   "source": [
    "Now that we've loaded some relevant libraries, let's go over some Python basics.\n",
    "\n",
    "### **Python Basics** <a id='subsectionpy'></a>"
   ]
  },
  {
   "cell_type": "markdown",
   "id": "7447cce8",
   "metadata": {},
   "source": [
    "**Python** is a programming language -- a way for us to communicate with the computer and give it instructions.\n",
    "\n",
    "Just like any language, Python has a set vocabulary made up of words it can understand, and a syntax which provides the rules for how to structure our commands and give instructions.\n",
    "\n",
    "#### Errors\n",
    "Errors in programming are common and totally okay! Don't be afraid when you see an error because more likely than not the solution lies in the error code itself! Let's see what an error looks like. <font color = #d14d0f>**Run the cell below to see the output.**</font>"
   ]
  },
  {
   "cell_type": "code",
   "execution_count": 51,
   "id": "0d99aa72",
   "metadata": {},
   "outputs": [
    {
     "ename": "SyntaxError",
     "evalue": "unexpected EOF while parsing (2588290324.py, line 1)",
     "output_type": "error",
     "traceback": [
      "\u001b[0;36m  Input \u001b[0;32mIn [51]\u001b[0;36m\u001b[0m\n\u001b[0;31m    print('This line is missing something.'\u001b[0m\n\u001b[0m                                           ^\u001b[0m\n\u001b[0;31mSyntaxError\u001b[0m\u001b[0;31m:\u001b[0m unexpected EOF while parsing\n"
     ]
    }
   ],
   "source": [
    "print('This line is missing something.'"
   ]
  },
  {
   "cell_type": "markdown",
   "id": "81e83ce1",
   "metadata": {},
   "source": [
    "The last line of the error message in the output attempts to tell you what went wrong. You should see a message saying \"SyntaxError: unexpected EOF while parsing.\" This just means it expected a closing to your code in this instance. <font color = #d14d0f>**Try adding a parentheses to end the statement and watch the error message disappear!**</font>"
   ]
  },
  {
   "cell_type": "markdown",
   "id": "00c48d8c",
   "metadata": {},
   "source": [
    "#### Variables\n",
    "\n",
    "As we mentioned before, in this Jupyter Notebook you will be assigning data or figures to **variables**. You can even assign graph output or functions to variables, but that is out of scope for this assignment so don't worry about it! Variables are stored in a computer's memory and you can use it over and over again in future calculations!\n",
    "\n",
    "Sometimes, instead of trying to work with raw information all the time in a long calculation like `4 - 2 * (1 + 6 / 3)` you will want to store it as a **variable** for easy access in future calculations. <font color = #d14d0f>**Check out how we can use variables to our advantage below!**</font>"
   ]
  },
  {
   "cell_type": "code",
   "execution_count": 52,
   "id": "5b6ff730",
   "metadata": {},
   "outputs": [
    {
     "data": {
      "text/plain": [
       "-2.0"
      ]
     },
     "execution_count": 52,
     "metadata": {},
     "output_type": "execute_result"
    }
   ],
   "source": [
    "# Instead of performing this calculation over and over again ...\n",
    "4 - 2 * (1 + 6 / 3)"
   ]
  },
  {
   "cell_type": "code",
   "execution_count": 53,
   "id": "b3551fe8",
   "metadata": {},
   "outputs": [],
   "source": [
    "# Try assigning it to a variable for future use!\n",
    "y = 4 - 2 * (1 + 6 / 3)"
   ]
  },
  {
   "cell_type": "markdown",
   "id": "c6914a7c",
   "metadata": {},
   "source": [
    "An assignment statement, such as `y = 4 - 2 * (1 + 6 / 3)` has three parts: on the left is the variable **name** (`y`), on the right is the variable's **value** (`4 - 2 * (1 + 6 / 3)`), and the equals sign in the middle tells the computer to assign the value to the name.\n",
    "\n",
    "You might have noticed that running that second cell did not output anything, however, we can access that value again and again in the future."
   ]
  },
  {
   "cell_type": "code",
   "execution_count": 54,
   "id": "844a0650",
   "metadata": {},
   "outputs": [
    {
     "data": {
      "text/plain": [
       "-2.0"
      ]
     },
     "execution_count": 54,
     "metadata": {},
     "output_type": "execute_result"
    }
   ],
   "source": [
    "# We can print the value as follows\n",
    "y"
   ]
  },
  {
   "cell_type": "code",
   "execution_count": 55,
   "id": "2ecb79a4",
   "metadata": {},
   "outputs": [
    {
     "data": {
      "text/plain": [
       "-4.0"
      ]
     },
     "execution_count": 55,
     "metadata": {},
     "output_type": "execute_result"
    }
   ],
   "source": [
    "# We can also use it in other calculations now!\n",
    "y * 2"
   ]
  },
  {
   "cell_type": "markdown",
   "id": "afba9cfb",
   "metadata": {},
   "source": [
    "#### Tables\n",
    "\n",
    "In most cases, when interacting with data you will be working with **tables**. \n",
    "\n",
    "**Tables** are the fundamental way we organize and display data. \n",
    "\n",
    "To read in data, we will use **pandas**, one of the most common data science libraries for Python. \n",
    "\n",
    "We can use **pd.read_csv('/home/jovyan/file.csv')** for our purposes\n",
    "\n",
    "**Note***: /home/jovyan/file.csv is a particular path that links directly to our datahub.berkeley.edu homepage. To read more about paths and what they are check out this Medium article: <a href=\"https://medium.com/@Linda_Ikechukwu/understanding-file-paths-165c07ec5cf0#:~:text=File%20paths%20specify%20the%20location%20of%20individual%20files.,two%20types%20%3A%20Absolute%20and%20Relative.&text=Relative%20file%20paths%20on%20the,to%20the%20current%20working%20file\"> File paths</a>"
   ]
  },
  {
   "cell_type": "markdown",
   "id": "cfc57983",
   "metadata": {},
   "source": [
    "#### Importing Data\n",
    "\n",
    "Importing data using jupyterhub is quick and simple!\n",
    "\n",
    "**First**, make sure you have your csv ready to go. \n",
    "\n",
    "    • To get a .csv file from Google Sheets, simply click File -> Download -> Comma Seperated Values (.csv)\n",
    "\n",
    "**Then**, save your work, and in a new tab open <a href= \"datahub.berkeley.edu\"> datahub.berkeley.edu</a>. If it gets mad, just type the link itself. \n",
    "\n",
    "    • Click upload on the top right, and upload your csv file!\n",
    "    • Then, read in your csv file below!"
   ]
  },
  {
   "cell_type": "code",
   "execution_count": null,
   "id": "749c351c",
   "metadata": {},
   "outputs": [],
   "source": [
    "# Below we are going to imput our own data!\n",
    "# We are telling the computer to create a Table and read in some data.\n",
    "\n",
    "myClassData = pd.read_csv(\"/home/jovyan/...\")\n",
    "\n",
    "#Hint: should look something like pd.read_csv(\"/home/jovyan/myclassdata.csv\")\n",
    "# This next command will display the top 5 entries. You can change the number\n",
    "# to view a different amount of entries at time.\n",
    "myClassData.show(5)"
   ]
  },
  {
   "cell_type": "markdown",
   "id": "1a850ef1",
   "metadata": {},
   "source": [
    "Congrats on finishing the Jupyter Notebook and Python overview!"
   ]
  },
  {
   "cell_type": "markdown",
   "id": "d98e3afb",
   "metadata": {},
   "source": [
    "### **Introduction** <a id='intro'></a>"
   ]
  },
  {
   "cell_type": "markdown",
   "id": "bbc9f84b",
   "metadata": {},
   "source": [
    "If geckos had not evolved, it is possible that **humans would never have invented adhesive nanostructures** (Autumn and Gravish, 2008). Geckos use millions of adhesive setae on their toes to climb vertical surfaces at speeds of over 1 m s-1. Climbing presents a significant challenge for an adhesive in requiring both strong attachment and easy rapid removal. Conventional pressure-sensitive adhesives (PSAs) are either strong and difficult to remove (e.g. duct tape) or weak and easy to remove (e.g. sticky notes). The gecko adhesive differs dramatically from conventional adhesives. Conventional PSAs are soft viscoelastic polymers that degrade, foul, self-adhere and attach accidentally to inappropriate surfaces. In contrast, gecko toes bear angled arrays of branched, hair-like setae formed from stiff, hydrophobic keratin (like your hair or finger nails) that act as a bed of angled springs with similar relative stiffness to that of PSAs. Setae are self-cleaning and maintain function for months during repeated use in dirty conditions. Setae function as an anisotropic (direction dependent) ‘frictional adhesive’ (Autumn et al., 2006a,b) where adhesion force (perpendicular to the surface) requires a proximally directed (pulled to body) shear force (parallel to the surface).\n",
    "\n",
    "The actual structure of the adhesive is hierarchical in nature and extends across the macro-, meso-, micro-, and even nanoscale. The whole hierarchical structure of a gecko, such as the Tokay, includes four feet, each foot with five toes, each toe with approximately 20 rows of lamellae (scansors), each lamella with many setal arrays consisting of thousands of setae, which amounts to approximately 200,000 setae per toe, and each seta consisting of hundreds to 1,000 spatulae at its end with sizes near 200 nm. Over the years since we discovered how geckos stick (Autumn et al, 2000, 2002), many investigators have shown that all levels of the hierarchy contribute to function, not just the nano-sized, spatular split-ends.\n"
   ]
  },
  {
   "cell_type": "markdown",
   "id": "9e62295b",
   "metadata": {},
   "source": [
    "### Introduction to Equations <a id='introequations'></a>"
   ]
  },
  {
   "cell_type": "markdown",
   "id": "45ea7d1a",
   "metadata": {},
   "source": [
    "In this notebook, you will be calculating force in one of two ways. \n",
    "\n",
    "The first is called the *Adhesive Force*, which we will represent with $F_\\perp$. You can think of this as the force exerted **perpendicular** (or orthogonally) to the surface. The second force we will calculate is the *Shear Force*, which we will abbreviate similarly as $F_\\parallel$. You can think of this as the force exerted **parallel** to the surface. \n",
    "\n",
    "You can measure the values of each formula by changing the angle of attachment away from vertical $(90°)$ as if the gecko was on the underside of an over-hang.\n",
    "\n",
    "In a more typical material, the shear force (also referred to as friction) is equal to the coefficient of friction $(\\mu)$ times the normal load $(F_\\perp)$. We can represent this relationship as follow: \n",
    "\n",
    "$F_\\parallel = \\mu \\times F_\\perp$"
   ]
  },
  {
   "cell_type": "markdown",
   "id": "fc0a24a5",
   "metadata": {},
   "source": [
    "When setae are dragged along their natural curvature, they exhibit a response that violates this law. As shear force is increased $(F_\\parallel)$, an adhesive force results $(-F_\\perp)$, perpendicular to the surface pulling away from the surface). It has been shown that **the angle of the setal shaft to the surface $(\\alpha)$ must be kept below $30°$ or detachment occurs**. The requirement of shear force to maintain adhesion is an advantage because it provides precise control over adhesion via friction or shear force [(Autumn et al. 2006)](https://journals.biologists.com/jeb/article/209/18/3558/16105/Effective-elastic-modulus-of-isolated-gecko-setal), allowing strong attachment and easy removal.\n",
    "\n",
    "So, we can resolve the force $(F)$ along the setal shaft as follows:\n",
    "\n",
    "$F_\\perp = mg \\cdot \\sin(\\alpha)$\n",
    "\n",
    "$F_\\parallel = mg \\cdot \\cos(\\alpha)$\n",
    "\n",
    "where m is mass and g is acceleration due to gravity (mg = the weight of the object you will hang from your adhesive, plus the weight of the adhesive itself), then:\n",
    "\n",
    "$F_\\perp = F_\\parallel \\cdot \\tan(\\alpha)$\n",
    "\n",
    "As you add weight to your GSA sample, you will measure the angle at which your sample detaches and then calculate the shear $(F_\\parallel)$ and adhesive forces $(F_\\perp)$."
   ]
  },
  {
   "cell_type": "markdown",
   "id": "14139c61",
   "metadata": {},
   "source": [
    "### Functions and Variables\n",
    "#### Variables\n",
    "\n",
    "|Symbol|Meaning|\n",
    "|------|-------|\n",
    "|$\\alpha$ | Angle of the setal shaft to surface [`degrees or radians`]|\n",
    "|$m$ | Mass of the Object [`grams or kilograms`]|\n",
    "|$g$ | Gravitational Constant of Earth $\\approx 9.807 \\ m/s^2$ [`unit of acceletation`]|\n",
    "|$\\mu$ | Coefficient of Friction [`no units`]|\n",
    "|$F_\\parallel$ | Shear Force [`Newtons`] |\n",
    "|$F_\\perp$ | Adhesive Force [`Newtons`] |\n",
    "\n",
    "#### Formulae\n",
    "\n",
    "$$\\text{General Shear Force Equation: } F_\\parallel = \\mu \\times F_\\perp$$\n",
    "\n",
    "$$\\text{Special Adhesive Force Equation: } F_\\perp = F_\\parallel \\cdot \\tan(\\alpha)$$\n",
    "\n",
    "$$\\text{Shear Force From Angle Equation: }F_\\parallel = mg \\cdot \\cos(\\alpha)$$\n",
    "\n",
    "$$\\text{Adhesive Force From Angle Equation: }F_\\parallel = mg \\cdot \\sin(\\alpha)$$"
   ]
  },
  {
   "cell_type": "markdown",
   "id": "2cf1f527",
   "metadata": {},
   "source": [
    "### Visualization of Formulae\n",
    "\n",
    "**The cell below will plot \"Shear Force\" as the x-axis, \"Adhesive Force\" as the y-axis, and what the result would look like in a perfect world!** \n",
    "\n",
    "> **Run this cell, then use the slider to check out some of the visualizations!**"
   ]
  },
  {
   "cell_type": "code",
   "execution_count": 1,
   "id": "9acf581c",
   "metadata": {},
   "outputs": [
    {
     "ename": "NameError",
     "evalue": "name 'forces_plot' is not defined",
     "output_type": "error",
     "traceback": [
      "\u001b[0;31m---------------------------------------------------------------------------\u001b[0m",
      "\u001b[0;31mNameError\u001b[0m                                 Traceback (most recent call last)",
      "Input \u001b[0;32mIn [1]\u001b[0m, in \u001b[0;36m<module>\u001b[0;34m\u001b[0m\n\u001b[0;32m----> 1\u001b[0m \u001b[43mforces_plot\u001b[49m()\n",
      "\u001b[0;31mNameError\u001b[0m: name 'forces_plot' is not defined"
     ]
    }
   ],
   "source": [
    "forces_plot()"
   ]
  },
  {
   "cell_type": "markdown",
   "id": "adf3ef58",
   "metadata": {},
   "source": [
    "### Data Background<a id='background'></a>"
   ]
  },
  {
   "cell_type": "markdown",
   "id": "01b69d14",
   "metadata": {},
   "source": [
    "#### Row Granularity and Feature Descriptions\n",
    "\n",
    "In just a bit, we'll be loading some data from previous semesters from this project. But first, lets take a moment to get acquainted with it!\n",
    "\n",
    "We'll be loading two tables, `class_data`, and `section_data` (you might already be able to guess what each represents from their names).\n",
    "\n",
    "In both tables, **each row represents one observation, _or_ one point on a scatter plot**.\n",
    "> ***Note:*** The following tables **do not** represent any data you may or may not have collected\n",
    "\n",
    "Each row in both tables has the following attributes:\n",
    "\n",
    "<center><pre>Shared Data Attributes</pre></center>\n",
    "\n",
    "|Name|Description|Units|Coding/Representation|\n",
    "|-|-|-|-|\n",
    "|Mass (g)| The mass of the weight or object |$\\text{Grams}$|`Decimal Number`|\n",
    "|Angle (deg)| Angle at which the weight or object is held or hangs|$\\text{Degrees}$|`Decimal Number`|\n",
    "|Shear Force (N)| The Shear Force Exerted|$\\text{Newtons}$|`Decimal Number`|\n",
    "|Adhesive Force (N)| The Adhesive Force Exerted|$\\text{Newtons}$|`Decimal Number`|\n",
    "\n",
    "The `class_data` table has one other column:\n",
    "\n",
    "<center><pre>Class_Data Attributes</pre></center>\n",
    "\n",
    "|Name|Description|Coding/Representation|\n",
    "|-|-|-|\n",
    "|Collected|The term in which the data was collected|`Letters` (either \"Spring 2020\" or \"Spring 2021\")|\n",
    "\n",
    "The `section_data` table has two other columns:\n",
    "\n",
    "<center><pre>Section_Data Attributes</pre></center>\n",
    "\n",
    "|Name|Description|Coding/Representation|\n",
    "|-|-|-|\n",
    "|Section|The section number in which the data was collected|`Whole Number`|\n",
    "|Team|The unique number of the team that collected the data|`Whole Number`|\n",
    "\n",
    "Let's take a look at the tables!"
   ]
  },
  {
   "cell_type": "markdown",
   "id": "f26c88d8",
   "metadata": {},
   "source": [
    "### Previous Data"
   ]
  },
  {
   "cell_type": "markdown",
   "id": "e9b42ea3",
   "metadata": {},
   "source": [
    "### Load the Previous Data\n",
    "In this section we download some data from previous semesters, and we'll take care of some cleaning for you.\n",
    "The cell below downloads this data, using a library called <code><a href=\"https://pandas.pydata.org/docs/reference/api/pandas.read_excel.html?highlight=read_excel\">pandas</a></code>.\n",
    "\n",
    "> ***NOTE:*** This data is not related to your data. You don't need to understand this cell, and a lot of the complexity has been hidden. **Just know this we are uploading previous data here.**"
   ]
  },
  {
   "cell_type": "code",
   "execution_count": 2,
   "id": "b301a0c9",
   "metadata": {},
   "outputs": [
    {
     "ename": "NameError",
     "evalue": "name 'utils' is not defined",
     "output_type": "error",
     "traceback": [
      "\u001b[0;31m---------------------------------------------------------------------------\u001b[0m",
      "\u001b[0;31mNameError\u001b[0m                                 Traceback (most recent call last)",
      "Input \u001b[0;32mIn [2]\u001b[0m, in \u001b[0;36m<module>\u001b[0;34m\u001b[0m\n\u001b[0;32m----> 1\u001b[0m cleaner \u001b[38;5;241m=\u001b[39m \u001b[43mutils\u001b[49m\u001b[38;5;241m.\u001b[39mcleaner\n\u001b[1;32m      2\u001b[0m class_data \u001b[38;5;241m=\u001b[39m utils\u001b[38;5;241m.\u001b[39mclass_data\n\u001b[1;32m      3\u001b[0m section_data \u001b[38;5;241m=\u001b[39m utils\u001b[38;5;241m.\u001b[39msection_data\n",
      "\u001b[0;31mNameError\u001b[0m: name 'utils' is not defined"
     ]
    }
   ],
   "source": [
    "cleaner = utils.cleaner\n",
    "class_data = utils.class_data\n",
    "section_data = utils.section_data"
   ]
  },
  {
   "cell_type": "code",
   "execution_count": 3,
   "id": "b1bf256c",
   "metadata": {},
   "outputs": [
    {
     "ename": "NameError",
     "evalue": "name 'class_data' is not defined",
     "output_type": "error",
     "traceback": [
      "\u001b[0;31m---------------------------------------------------------------------------\u001b[0m",
      "\u001b[0;31mNameError\u001b[0m                                 Traceback (most recent call last)",
      "Input \u001b[0;32mIn [3]\u001b[0m, in \u001b[0;36m<module>\u001b[0;34m\u001b[0m\n\u001b[0;32m----> 1\u001b[0m \u001b[43mclass_data\u001b[49m\u001b[38;5;241m.\u001b[39mshow_interact()\n\u001b[1;32m      2\u001b[0m section_data\u001b[38;5;241m.\u001b[39mshow_interact()\n",
      "\u001b[0;31mNameError\u001b[0m: name 'class_data' is not defined"
     ]
    }
   ],
   "source": [
    "class_data.show_interact()\n",
    "section_data.show_interact()"
   ]
  },
  {
   "cell_type": "markdown",
   "id": "4af054be",
   "metadata": {},
   "source": [
    "Use the cell below to look at the data using some specific filter!\n",
    "\n",
    "<center><b>Just Run this Cell</b></center>"
   ]
  },
  {
   "cell_type": "code",
   "execution_count": 4,
   "id": "a676f44a",
   "metadata": {},
   "outputs": [
    {
     "ename": "NameError",
     "evalue": "name 'show_gecko_tables' is not defined",
     "output_type": "error",
     "traceback": [
      "\u001b[0;31m---------------------------------------------------------------------------\u001b[0m",
      "\u001b[0;31mNameError\u001b[0m                                 Traceback (most recent call last)",
      "Input \u001b[0;32mIn [4]\u001b[0m, in \u001b[0;36m<module>\u001b[0;34m\u001b[0m\n\u001b[0;32m----> 1\u001b[0m \u001b[43mshow_gecko_tables\u001b[49m()\n",
      "\u001b[0;31mNameError\u001b[0m: name 'show_gecko_tables' is not defined"
     ]
    }
   ],
   "source": [
    "show_gecko_tables()"
   ]
  },
  {
   "cell_type": "markdown",
   "id": "730e22ea",
   "metadata": {},
   "source": [
    "### Previous Data Visualization<a id='visualization'></a>"
   ]
  },
  {
   "cell_type": "markdown",
   "id": "0b449cb2",
   "metadata": {},
   "source": [
    "> Use the cell below to view a histogram of the other numerical columns of the table."
   ]
  },
  {
   "cell_type": "code",
   "execution_count": 5,
   "id": "b195b174",
   "metadata": {},
   "outputs": [
    {
     "ename": "NameError",
     "evalue": "name 'class_data' is not defined",
     "output_type": "error",
     "traceback": [
      "\u001b[0;31m---------------------------------------------------------------------------\u001b[0m",
      "\u001b[0;31mNameError\u001b[0m                                 Traceback (most recent call last)",
      "Input \u001b[0;32mIn [5]\u001b[0m, in \u001b[0;36m<module>\u001b[0;34m\u001b[0m\n\u001b[1;32m      4\u001b[0m         \u001b[38;5;28;01mif\u001b[39;00m x:\n\u001b[1;32m      5\u001b[0m             px\u001b[38;5;241m.\u001b[39mhistogram(table\u001b[38;5;241m.\u001b[39mto_df(), x \u001b[38;5;241m=\u001b[39m x, marginal \u001b[38;5;241m=\u001b[39m \u001b[38;5;124m\"\u001b[39m\u001b[38;5;124mbox\u001b[39m\u001b[38;5;124m\"\u001b[39m, template\u001b[38;5;241m=\u001b[39m\u001b[38;5;124m'\u001b[39m\u001b[38;5;124mseaborn\u001b[39m\u001b[38;5;124m'\u001b[39m, title \u001b[38;5;241m=\u001b[39m x)\u001b[38;5;241m.\u001b[39mshow()\n\u001b[0;32m----> 6\u001b[0m ploter(\u001b[43mclass_data\u001b[49m)\n",
      "\u001b[0;31mNameError\u001b[0m: name 'class_data' is not defined"
     ]
    }
   ],
   "source": [
    "def ploter(table):\n",
    "    @interact(x=widgets.Dropdown(options=[None] + list(table.labels), description=\"Column\"), value = None)\n",
    "    def plot_helper(x):\n",
    "        if x:\n",
    "            px.histogram(table.to_df(), x = x, marginal = \"box\", template='seaborn', title = x).show()\n",
    "ploter(class_data)"
   ]
  },
  {
   "cell_type": "markdown",
   "id": "1606f919",
   "metadata": {},
   "source": [
    "Use the cell below to view by coloring each column of the table. By deault, there is no color\n",
    "> ***TIP:*** hover your mouse over the data to select it"
   ]
  },
  {
   "cell_type": "code",
   "execution_count": 6,
   "id": "a06270f5",
   "metadata": {},
   "outputs": [
    {
     "ename": "NameError",
     "evalue": "name 'interact' is not defined",
     "output_type": "error",
     "traceback": [
      "\u001b[0;31m---------------------------------------------------------------------------\u001b[0m",
      "\u001b[0;31mNameError\u001b[0m                                 Traceback (most recent call last)",
      "Input \u001b[0;32mIn [6]\u001b[0m, in \u001b[0;36m<module>\u001b[0;34m\u001b[0m\n\u001b[0;32m----> 1\u001b[0m \u001b[38;5;129m@interact\u001b[39m(Columns \u001b[38;5;241m=\u001b[39m widgets\u001b[38;5;241m.\u001b[39mDropdown(options \u001b[38;5;241m=\u001b[39m [\u001b[38;5;28;01mNone\u001b[39;00m] \u001b[38;5;241m+\u001b[39m \u001b[38;5;28mlist\u001b[39m(class_data\u001b[38;5;241m.\u001b[39mlabels), value \u001b[38;5;241m=\u001b[39m \u001b[38;5;28;01mNone\u001b[39;00m))\n\u001b[1;32m      2\u001b[0m \u001b[38;5;28;01mdef\u001b[39;00m \u001b[38;5;21mcolored\u001b[39m(Columns):\n\u001b[1;32m      3\u001b[0m     px\u001b[38;5;241m.\u001b[39mscatter(data_frame \u001b[38;5;241m=\u001b[39m class_data\u001b[38;5;241m.\u001b[39mto_df(), \n\u001b[1;32m      4\u001b[0m            x\u001b[38;5;241m=\u001b[39m\u001b[38;5;124m\"\u001b[39m\u001b[38;5;124mShear Force (N)\u001b[39m\u001b[38;5;124m\"\u001b[39m, \n\u001b[1;32m      5\u001b[0m            y \u001b[38;5;241m=\u001b[39m \u001b[38;5;124m\"\u001b[39m\u001b[38;5;124mAdhesive Force (N)\u001b[39m\u001b[38;5;124m\"\u001b[39m,\n\u001b[0;32m   (...)\u001b[0m\n\u001b[1;32m      8\u001b[0m            marginal_x \u001b[38;5;241m=\u001b[39m \u001b[38;5;124m\"\u001b[39m\u001b[38;5;124mhistogram\u001b[39m\u001b[38;5;124m\"\u001b[39m,\n\u001b[1;32m      9\u001b[0m            template \u001b[38;5;241m=\u001b[39m \u001b[38;5;124m\"\u001b[39m\u001b[38;5;124mseaborn\u001b[39m\u001b[38;5;124m\"\u001b[39m)\u001b[38;5;241m.\u001b[39mshow()\n",
      "\u001b[0;31mNameError\u001b[0m: name 'interact' is not defined"
     ]
    }
   ],
   "source": [
    "@interact(Columns = widgets.Dropdown(options = [None] + list(class_data.labels), value = None))\n",
    "def colored(Columns):\n",
    "    px.scatter(data_frame = class_data.to_df(), \n",
    "           x=\"Shear Force (N)\", \n",
    "           y = \"Adhesive Force (N)\",\n",
    "           color = Columns,\n",
    "           marginal_y = \"histogram\", \n",
    "           marginal_x = \"histogram\",\n",
    "           template = \"seaborn\").show()"
   ]
  },
  {
   "cell_type": "markdown",
   "id": "45e4a1b6",
   "metadata": {},
   "source": [
    "## Your Data"
   ]
  },
  {
   "cell_type": "markdown",
   "id": "567b5ffb",
   "metadata": {},
   "source": [
    "### Upload Your Data"
   ]
  },
  {
   "cell_type": "markdown",
   "id": "8afd7028",
   "metadata": {},
   "source": [
    "You've already uploaded "
   ]
  },
  {
   "cell_type": "code",
   "execution_count": 7,
   "id": "5535a744",
   "metadata": {},
   "outputs": [],
   "source": [
    "mySectionData = ...#Table.read_table(...)\n",
    "myClassData = ...#Table.read_table(...)"
   ]
  },
  {
   "cell_type": "markdown",
   "id": "bf717d34",
   "metadata": {},
   "source": [
    "### Visualize Your Data"
   ]
  },
  {
   "cell_type": "markdown",
   "id": "dc3acdbd",
   "metadata": {},
   "source": [
    "Use the below cell to visualize `my_data` you've uploaded. You'll examine `my_class_data` in the cell after!\n",
    "\n",
    "For reference:\n",
    "\n",
    "|Drowdown Box|Meaning|\n",
    "|-|-|\n",
    "|Kind| Scatter Plot or Histogram|\n",
    "|X-Axis| Column for the X-axis|\n",
    "|Y-Axis (only in Scatter Plot)| Column for the Y-axis|\n",
    "|Top/Side Graph | Extra graphs on the top or side|\n",
    "|Color By| The column to group and add colors for|"
   ]
  },
  {
   "cell_type": "code",
   "execution_count": 8,
   "id": "cbf706c6",
   "metadata": {},
   "outputs": [
    {
     "ename": "NameError",
     "evalue": "name 'visualize' is not defined",
     "output_type": "error",
     "traceback": [
      "\u001b[0;31m---------------------------------------------------------------------------\u001b[0m",
      "\u001b[0;31mNameError\u001b[0m                                 Traceback (most recent call last)",
      "Input \u001b[0;32mIn [8]\u001b[0m, in \u001b[0;36m<module>\u001b[0;34m\u001b[0m\n\u001b[1;32m      1\u001b[0m \u001b[38;5;66;03m#only use once my_data is defined\u001b[39;00m\n\u001b[0;32m----> 2\u001b[0m \u001b[43mvisualize\u001b[49m(my_data)\n",
      "\u001b[0;31mNameError\u001b[0m: name 'visualize' is not defined"
     ]
    }
   ],
   "source": [
    "#only use once myClassData is defined\n",
    "visualize(myClassData)"
   ]
  },
  {
   "cell_type": "code",
   "execution_count": 9,
   "id": "1d6e04d2",
   "metadata": {},
   "outputs": [
    {
     "ename": "NameError",
     "evalue": "name 'visualize' is not defined",
     "output_type": "error",
     "traceback": [
      "\u001b[0;31m---------------------------------------------------------------------------\u001b[0m",
      "\u001b[0;31mNameError\u001b[0m                                 Traceback (most recent call last)",
      "Input \u001b[0;32mIn [9]\u001b[0m, in \u001b[0;36m<module>\u001b[0;34m\u001b[0m\n\u001b[1;32m      1\u001b[0m \u001b[38;5;66;03m#only use once my_class_data is defined\u001b[39;00m\n\u001b[0;32m----> 2\u001b[0m \u001b[43mvisualize\u001b[49m(my_class_data)\n",
      "\u001b[0;31mNameError\u001b[0m: name 'visualize' is not defined"
     ]
    }
   ],
   "source": [
    "#only use once mySectionData is defined\n",
    "visualize(mySectionData)"
   ]
  },
  {
   "cell_type": "markdown",
   "id": "c53ec45a",
   "metadata": {},
   "source": [
    "## Discussion<a id='discussion'></a>\n",
    "> Here are a few questions to get you thinking about this lab:\n",
    "\n",
    "- What patterns do you see in the visualization above?\n",
    "- Do you notice adding color by any variable leads to informative information?\n",
    "- Does the individual section data differ from the class data as a whole?\n",
    "- What do you conclude about the nature of the Gecko-inspired Synthetic Adhesive?\n",
    "- What features of the graph support the hypothesis that it is a “frictional adhesive”?\n",
    "- What is the adhesive’s maximum adhesive performance in Newtons?  In atmospheres (i.e. force/area)?  You’ll need to measure the area of the adhesive, and use the fact that 1 N/cm2 ≈ 0.1 atm.\n",
    "\n",
    "***(please reference section on “To analyze your gecko-inspired adhesive, you will:” in Gecko Lab Assignment)***\n",
    "\n",
    "\n",
    "\n",
    "Congratulations on finishing this Jupyter notebook!\n",
    "\n",
    "If you are interested in data science, a great course to start with is Data 8, designed for students with no previous programming or statistics experience. For the full list of courses and degree programs we offer, click <a href=\"https://data.berkeley.edu/academics/data-science-undergraduate-studies/data-science-academic-enrichment\">here</a>."
   ]
  },
  {
   "cell_type": "code",
   "execution_count": null,
   "id": "ad0adb5a",
   "metadata": {},
   "outputs": [],
   "source": []
  }
 ],
 "metadata": {
  "kernelspec": {
   "display_name": "Python 3 (ipykernel)",
   "language": "python",
   "name": "python3"
  },
  "language_info": {
   "codemirror_mode": {
    "name": "ipython",
    "version": 3
   },
   "file_extension": ".py",
   "mimetype": "text/x-python",
   "name": "python",
   "nbconvert_exporter": "python",
   "pygments_lexer": "ipython3",
   "version": "3.9.10"
  }
 },
 "nbformat": 4,
 "nbformat_minor": 5
}
