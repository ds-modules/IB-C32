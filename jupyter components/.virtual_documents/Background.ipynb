import pandas as pd
import numpy as np
from datascience import *
from utils import *
get_ipython().run_line_magic("pip", " install -q openpyxl")
from IPython.display import *


cleaner = lambda x: x.replace("Sp", "Spring ")
class_data = Table.from_df(pd.read_excel("Data/gecko.xlsx", sheet_name="Class"))
class_data["Collected"] = class_data.apply(cleaner, "Collected")
section_data = pd.read_excel("Data/gecko.xlsx", sheet_name="Sections")
section_data.columns = ['Section', 'Team', 'Mass (g)', 'Angle (deg)', 'Shear Force (N)', 'Adhesive Force (N)']
section_data = Table.from_df(section_data)


class_data.show_interact()
section_data.show_interact()


show_gecko_tables()



