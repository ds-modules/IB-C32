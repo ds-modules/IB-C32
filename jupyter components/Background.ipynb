{
 "cells": [
  {
   "cell_type": "markdown",
   "id": "1c2aadfb",
   "metadata": {
    "toc": true
   },
   "source": [
    "<h1>Table of Contents<span class=\"tocSkip\"></span></h1>\n",
    "<div class=\"toc\"><ul class=\"toc-item\"><li><span><a href=\"#Row-Granularity-and-Feature-Descriptions\" data-toc-modified-id=\"Row-Granularity-and-Feature-Descriptions-1\">Row Granularity and Feature Descriptions</a></span></li><li><span><a href=\"#Load-the-Data\" data-toc-modified-id=\"Load-the-Data-2\">Load the Data</a></span></li></ul></div>"
   ]
  },
  {
   "cell_type": "markdown",
   "id": "3a5637cc-fce0-4bc3-9d86-b67c6c3acc3b",
   "metadata": {},
   "source": [
    "# Data Background"
   ]
  },
  {
   "cell_type": "code",
   "execution_count": 2,
   "id": "3bc94353-da3a-496a-9d66-e4d816d7cea5",
   "metadata": {},
   "outputs": [
    {
     "name": "stdout",
     "output_type": "stream",
     "text": [
      "Note: you may need to restart the kernel to use updated packages.\n"
     ]
    }
   ],
   "source": [
    "import pandas as pd\n",
    "import numpy as np\n",
    "from datascience import *\n",
    "from utils import *\n",
    "%pip install -q openpyxl\n",
    "from IPython.display import *"
   ]
  },
  {
   "cell_type": "markdown",
   "id": "ce356c37-6e49-4c9a-afd9-7e8dd2cf1d0a",
   "metadata": {},
   "source": [
    "<center><pre style=\"font-size:20px; color: gold\">Ignore the note above</pre></center>"
   ]
  },
  {
   "cell_type": "markdown",
   "id": "bf0489ba-ebbf-45f6-9f27-af4cd4f1f6dd",
   "metadata": {},
   "source": [
    "## Row Granularity and Feature Descriptions\n",
    "\n",
    "In just a bit, we'll be loading some data from previous semesters from this project. But first, lets take a moment to get acquainted with it!\n",
    "\n",
    "We'll be loading two tables, `class_data`, and `section_data` (you might already be able to guess what each represents from their names).\n",
    "\n",
    "In both tables, **each row represents one observation, _or_ one point on a scatter plot**.\n",
    "> ***Note:*** The following tables **do not** represent any data you may or may not have collected\n",
    "\n",
    "Each row in both tables has the following attributes:\n",
    "\n",
    "<center><pre>Shared Data Attributes</pre></center>\n",
    "\n",
    "|Name|Description|Units|Coding/Representation|\n",
    "|-|-|-|-|\n",
    "|Mass (g)| The mass of the weight or object |$\\text{Grams}$|`Decimal Number`|\n",
    "|Angle (deg)| Angle at which the weight or object is held or hangs|$\\text{Degrees}$|`Decimal Number`|\n",
    "|Shear Force (N)| The Shear Force Exerted|$\\text{Newtons}$|`Decimal Number`|\n",
    "|Adhesive Force (N)| The Adhesive Force Exerted|$\\text{Newtons}$|`Decimal Number`|\n",
    "\n",
    "The `class_data` table has one other column:\n",
    "\n",
    "<center><pre>Class_Data Attributes</pre></center>\n",
    "\n",
    "|Name|Description|Coding/Representation|\n",
    "|-|-|-|\n",
    "|Collected|The term in which the data was collected|`Letters` (either \"Spring 2020\" or \"Spring 2021\")|\n",
    "\n",
    "The `section_data` table has two other columns:\n",
    "\n",
    "<center><pre>Section_Data Attributes</pre></center>\n",
    "\n",
    "|Name|Description|Coding/Representation|\n",
    "|-|-|-|\n",
    "|Section|The section number in which the data was collected|`Whole Number`|\n",
    "|Team|The unique number of the team that collected the data|`Whole Number`|\n",
    "\n",
    "Let's take a look at the tables!"
   ]
  },
  {
   "cell_type": "markdown",
   "id": "d689f71d-2206-44a2-a04d-94ab656b5ec1",
   "metadata": {},
   "source": [
    "## Load the Data\n",
    "In this section we download some data from previous semesters, and we'll take care of some cleaning for you.\n",
    "The cell below downloads this data, using a library called <code><a href=\"https://pandas.pydata.org/docs/reference/api/pandas.read_excel.html?highlight=read_excel\">pandas</a></code>."
   ]
  },
  {
   "cell_type": "code",
   "execution_count": 5,
   "id": "cc2abe0e-e10f-4a58-9a99-2bab9d73c01b",
   "metadata": {},
   "outputs": [],
   "source": [
    "cleaner = lambda x: x.replace(\"Sp\", \"Spring \")\n",
    "class_data = Table.from_df(pd.read_excel(\"Data/gecko.xlsx\", sheet_name=\"Class\"))\n",
    "class_data[\"Collected\"] = class_data.apply(cleaner, \"Collected\")\n",
    "section_data = pd.read_excel(\"Data/gecko.xlsx\", sheet_name=\"Sections\")\n",
    "section_data.columns = ['Section', 'Team', 'Mass (g)', 'Angle (deg)', 'Shear Force (N)', 'Adhesive Force (N)']\n",
    "section_data = Table.from_df(section_data)"
   ]
  },
  {
   "cell_type": "code",
   "execution_count": 6,
   "id": "941d562f-f7a0-40d6-9ad7-b339f0590b02",
   "metadata": {
    "scrolled": true,
    "tags": []
   },
   "outputs": [
    {
     "data": {
      "text/markdown": [
       "<pre>Use the slider below to select how many rows to show<pre>"
      ],
      "text/plain": [
       "<IPython.core.display.Markdown object>"
      ]
     },
     "metadata": {},
     "output_type": "display_data"
    },
    {
     "data": {
      "application/vnd.jupyter.widget-view+json": {
       "model_id": "709df4d57c4b4dfb9b9a1de3730364b3",
       "version_major": 2,
       "version_minor": 0
      },
      "text/plain": [
       "interactive(children=(IntSlider(value=5, description='Rows', max=543, min=1), Output()), _dom_classes=('widget…"
      ]
     },
     "metadata": {},
     "output_type": "display_data"
    },
    {
     "data": {
      "text/markdown": [
       "<pre>Use the slider below to select how many rows to show<pre>"
      ],
      "text/plain": [
       "<IPython.core.display.Markdown object>"
      ]
     },
     "metadata": {},
     "output_type": "display_data"
    },
    {
     "data": {
      "application/vnd.jupyter.widget-view+json": {
       "model_id": "42390bf4636043fb90cdf791156bdcf1",
       "version_major": 2,
       "version_minor": 0
      },
      "text/plain": [
       "interactive(children=(IntSlider(value=5, description='Rows', max=203, min=1), Output()), _dom_classes=('widget…"
      ]
     },
     "metadata": {},
     "output_type": "display_data"
    }
   ],
   "source": [
    "class_data.show_interact()\n",
    "section_data.show_interact()"
   ]
  },
  {
   "cell_type": "markdown",
   "id": "9c67b920-c946-47b7-828b-60a944d991ef",
   "metadata": {},
   "source": [
    "Use the cell below to look at the data using some specific filter!\n",
    "\n",
    "<center><b>Just Run this Cell</b></center>"
   ]
  },
  {
   "cell_type": "code",
   "execution_count": 7,
   "id": "ac5283ca-8279-4639-9025-7db45dcd9daa",
   "metadata": {
    "scrolled": true,
    "tags": []
   },
   "outputs": [
    {
     "data": {
      "text/markdown": [
       " "
      ],
      "text/plain": [
       "<IPython.core.display.Markdown object>"
      ]
     },
     "metadata": {},
     "output_type": "display_data"
    },
    {
     "data": {
      "application/vnd.jupyter.widget-view+json": {
       "model_id": "c86b4e15e3eb4f78ab9dc89cfb912d5c",
       "version_major": 2,
       "version_minor": 0
      },
      "text/plain": [
       "interactive(children=(ToggleButton(value=False, button_style='warning', description='Show ALL Tables', icon='e…"
      ]
     },
     "metadata": {},
     "output_type": "display_data"
    }
   ],
   "source": [
    "show_gecko_tables()"
   ]
  },
  {
   "cell_type": "code",
   "execution_count": null,
   "id": "100beae9",
   "metadata": {},
   "outputs": [],
   "source": []
  }
 ],
 "metadata": {
  "kernelspec": {
   "display_name": "Python 3 (ipykernel)",
   "language": "python",
   "name": "python3"
  },
  "language_info": {
   "codemirror_mode": {
    "name": "ipython",
    "version": 3
   },
   "file_extension": ".py",
   "mimetype": "text/x-python",
   "name": "python",
   "nbconvert_exporter": "python",
   "pygments_lexer": "ipython3",
   "version": "3.10.1"
  },
  "toc": {
   "base_numbering": 1,
   "nav_menu": {},
   "number_sections": false,
   "sideBar": true,
   "skip_h1_title": true,
   "title_cell": "Table of Contents",
   "title_sidebar": "Contents",
   "toc_cell": true,
   "toc_position": {},
   "toc_section_display": true,
   "toc_window_display": false
  },
  "widgets": {
   "application/vnd.jupyter.widget-state+json": {
    "state": {
     "16d69c5c280f4e54a4e73be967be01db": {
      "model_module": "@jupyter-widgets/controls",
      "model_module_version": "1.5.0",
      "model_name": "DropdownModel",
      "state": {
       "_options_labels": [
        "Spring 2020",
        "Spring 2021"
       ],
       "description": "Term",
       "index": 0,
       "layout": "IPY_MODEL_b6baa3169a004329a8db1569361eaade",
       "style": "IPY_MODEL_ce902382a21940c1ba0410a0d724f869"
      }
     },
     "17bfece364e44ce084f326a34ad29840": {
      "model_module": "@jupyter-widgets/base",
      "model_module_version": "1.2.0",
      "model_name": "LayoutModel",
      "state": {}
     },
     "279bf14ca82d44028255ad8ae6650ae5": {
      "model_module": "@jupyter-widgets/controls",
      "model_module_version": "1.5.0",
      "model_name": "VBoxModel",
      "state": {
       "_dom_classes": [
        "widget-interact"
       ],
       "children": [
        "IPY_MODEL_b247f44956954a79be1d5a436f8b6504",
        "IPY_MODEL_cce03531b58c4ab388ac10629208b9d6",
        "IPY_MODEL_6690acd437e44e8a875d3b393104bb47"
       ],
       "layout": "IPY_MODEL_5bea7a68d8f142598231c98eaeb95a3f"
      }
     },
     "2f6b661db4d342d282b6a5da8d2e03c2": {
      "model_module": "@jupyter-widgets/controls",
      "model_module_version": "1.5.0",
      "model_name": "SliderStyleModel",
      "state": {
       "description_width": ""
      }
     },
     "30c9afae89514209ba4562ab02135768": {
      "model_module": "@jupyter-widgets/base",
      "model_module_version": "1.2.0",
      "model_name": "LayoutModel",
      "state": {}
     },
     "43187af94aac403da1f390e7d556b0d8": {
      "model_module": "@jupyter-widgets/output",
      "model_module_version": "1.0.0",
      "model_name": "OutputModel",
      "state": {
       "layout": "IPY_MODEL_f0d6e16dd42d4df1ab1428a878b95059",
       "outputs": [
        {
         "data": {
          "text/html": "<table border=\"1\" class=\"dataframe\">\n    <thead>\n        <tr>\n            <th>Collected</th> <th>Mass (g)</th> <th>Angle (deg)</th> <th>Shear Force (N)</th> <th>Adhesive Force (N)</th>\n        </tr>\n    </thead>\n    <tbody>\n        <tr>\n            <td>Spring 2020</td> <td>17.5    </td> <td>35         </td> <td>0.140485       </td> <td>0.0983684         </td>\n        </tr>\n        <tr>\n            <td>Spring 2020</td> <td>17.5    </td> <td>38         </td> <td>0.135144       </td> <td>0.105586          </td>\n        </tr>\n        <tr>\n            <td>Spring 2020</td> <td>17.5    </td> <td>41         </td> <td>0.129433       </td> <td>0.112514          </td>\n        </tr>\n        <tr>\n            <td>Spring 2020</td> <td>30.9    </td> <td>25         </td> <td>0.274448       </td> <td>0.127977          </td>\n        </tr>\n        <tr>\n            <td>Spring 2020</td> <td>30.9    </td> <td>25         </td> <td>0.274448       </td> <td>0.127977          </td>\n        </tr>\n    </tbody>\n</table>\n<p>... (298 rows omitted)</p>",
          "text/plain": "<IPython.core.display.HTML object>"
         },
         "metadata": {},
         "output_type": "display_data"
        }
       ]
      }
     },
     "43bae82ffa8a415a9871330ea02f8aff": {
      "model_module": "@jupyter-widgets/controls",
      "model_module_version": "1.5.0",
      "model_name": "DescriptionStyleModel",
      "state": {
       "description_width": ""
      }
     },
     "4cfd5e50552a4a5fbbbd4095261ed238": {
      "model_module": "@jupyter-widgets/controls",
      "model_module_version": "1.5.0",
      "model_name": "DescriptionStyleModel",
      "state": {
       "description_width": ""
      }
     },
     "57153aba54b84e3cb79c64550b503da7": {
      "model_module": "@jupyter-widgets/base",
      "model_module_version": "1.2.0",
      "model_name": "LayoutModel",
      "state": {}
     },
     "5bea7a68d8f142598231c98eaeb95a3f": {
      "model_module": "@jupyter-widgets/base",
      "model_module_version": "1.2.0",
      "model_name": "LayoutModel",
      "state": {}
     },
     "5c108cd259c04d6a8137c56b6ffedb89": {
      "model_module": "@jupyter-widgets/base",
      "model_module_version": "1.2.0",
      "model_name": "LayoutModel",
      "state": {}
     },
     "60007d9563f44c209fb270bfeb1a0f43": {
      "model_module": "@jupyter-widgets/controls",
      "model_module_version": "1.5.0",
      "model_name": "IntSliderModel",
      "state": {
       "description": "Rows",
       "layout": "IPY_MODEL_30c9afae89514209ba4562ab02135768",
       "max": 203,
       "min": 1,
       "style": "IPY_MODEL_81bbf16a4bc6485bab9e322d27fbb1f6",
       "value": 5
      }
     },
     "6142d812e71545418c39ec8f37412c4a": {
      "model_module": "@jupyter-widgets/controls",
      "model_module_version": "1.5.0",
      "model_name": "VBoxModel",
      "state": {
       "_dom_classes": [
        "widget-interact"
       ],
       "children": [
        "IPY_MODEL_8a2b317eccf54a88bd3c7979f6f7aac3",
        "IPY_MODEL_77b5342649ed49a7b707fcd02720671c"
       ],
       "layout": "IPY_MODEL_9b45b945fc2c4782858eb55aff2d880b"
      }
     },
     "63412f410e3740eea7ba1d9a84983252": {
      "model_module": "@jupyter-widgets/base",
      "model_module_version": "1.2.0",
      "model_name": "LayoutModel",
      "state": {}
     },
     "6690acd437e44e8a875d3b393104bb47": {
      "model_module": "@jupyter-widgets/output",
      "model_module_version": "1.0.0",
      "model_name": "OutputModel",
      "state": {
       "layout": "IPY_MODEL_5c108cd259c04d6a8137c56b6ffedb89",
       "outputs": [
        {
         "data": {
          "application/vnd.jupyter.widget-view+json": {
           "model_id": "7c0e037ebde646e18fa7838b248f9ccc",
           "version_major": 2,
           "version_minor": 0
          },
          "text/plain": "interactive(children=(Dropdown(description='Term', options=('Spring 2020', 'Spring 2021'), value='Spring 2020'…"
         },
         "metadata": {},
         "output_type": "display_data"
        }
       ]
      }
     },
     "6d3004accd6841f0851d25bb543668b8": {
      "model_module": "@jupyter-widgets/base",
      "model_module_version": "1.2.0",
      "model_name": "LayoutModel",
      "state": {}
     },
     "77b5342649ed49a7b707fcd02720671c": {
      "model_module": "@jupyter-widgets/output",
      "model_module_version": "1.0.0",
      "model_name": "OutputModel",
      "state": {
       "layout": "IPY_MODEL_6d3004accd6841f0851d25bb543668b8",
       "outputs": [
        {
         "data": {
          "text/html": "<table border=\"1\" class=\"dataframe\">\n    <thead>\n        <tr>\n            <th>Collected</th> <th>Mass (g)</th> <th>Angle (deg)</th> <th>Shear Force (N)</th> <th>Adhesive Force (N)</th>\n        </tr>\n    </thead>\n    <tbody>\n        <tr>\n            <td>Spring 2021</td> <td>11.71   </td> <td>28         </td> <td>0.101325       </td> <td>0.0538756         </td>\n        </tr>\n        <tr>\n            <td>Spring 2021</td> <td>11.71   </td> <td>26         </td> <td>0.103144       </td> <td>0.0503066         </td>\n        </tr>\n        <tr>\n            <td>Spring 2021</td> <td>11.71   </td> <td>32         </td> <td>0.0973203      </td> <td>0.0608125         </td>\n        </tr>\n        <tr>\n            <td>Spring 2021</td> <td>21.71   </td> <td>22         </td> <td>0.197266       </td> <td>0.0797005         </td>\n        </tr>\n        <tr>\n            <td>Spring 2021</td> <td>21.71   </td> <td>24         </td> <td>0.194364       </td> <td>0.0865365         </td>\n        </tr>\n    </tbody>\n</table>\n<p>... (538 rows omitted)</p>",
          "text/plain": "<IPython.core.display.HTML object>"
         },
         "metadata": {},
         "output_type": "display_data"
        }
       ]
      }
     },
     "7c0e037ebde646e18fa7838b248f9ccc": {
      "model_module": "@jupyter-widgets/controls",
      "model_module_version": "1.5.0",
      "model_name": "VBoxModel",
      "state": {
       "_dom_classes": [
        "widget-interact"
       ],
       "children": [
        "IPY_MODEL_16d69c5c280f4e54a4e73be967be01db",
        "IPY_MODEL_f2abe04b16584fdb811ab4c503daff69",
        "IPY_MODEL_43187af94aac403da1f390e7d556b0d8"
       ],
       "layout": "IPY_MODEL_aff85dbbae704c6ab837470cac1d55d5"
      }
     },
     "81bbf16a4bc6485bab9e322d27fbb1f6": {
      "model_module": "@jupyter-widgets/controls",
      "model_module_version": "1.5.0",
      "model_name": "SliderStyleModel",
      "state": {
       "description_width": ""
      }
     },
     "8290588cda324ba9914ccba4dce8cac0": {
      "model_module": "@jupyter-widgets/base",
      "model_module_version": "1.2.0",
      "model_name": "LayoutModel",
      "state": {}
     },
     "881f38764048466bbdd986312440fcbf": {
      "model_module": "@jupyter-widgets/output",
      "model_module_version": "1.0.0",
      "model_name": "OutputModel",
      "state": {
       "layout": "IPY_MODEL_bfe89572b3b94962b6523c218f9f5c43",
       "outputs": [
        {
         "data": {
          "text/html": "<table border=\"1\" class=\"dataframe\">\n    <thead>\n        <tr>\n            <th>Section</th> <th>Team</th> <th>Mass (g)</th> <th>Angle (deg)</th> <th>Shear Force (N)</th> <th>Adhesive Force (N)</th>\n        </tr>\n    </thead>\n    <tbody>\n        <tr>\n            <td>1      </td> <td>4   </td> <td>18.05   </td> <td>24         </td> <td>0.161597       </td> <td>0.0719476         </td>\n        </tr>\n        <tr>\n            <td>1      </td> <td>4   </td> <td>6.71    </td> <td>30         </td> <td>0.0569481      </td> <td>0.032879          </td>\n        </tr>\n        <tr>\n            <td>1      </td> <td>4   </td> <td>12.38   </td> <td>30         </td> <td>0.10507        </td> <td>0.060662          </td>\n        </tr>\n        <tr>\n            <td>1      </td> <td>4   </td> <td>18.05   </td> <td>23         </td> <td>0.162828       </td> <td>0.0691164         </td>\n        </tr>\n        <tr>\n            <td>1      </td> <td>4   </td> <td>18.05   </td> <td>16         </td> <td>0.170038       </td> <td>0.0487575         </td>\n        </tr>\n    </tbody>\n</table>\n<p>... (198 rows omitted)</p>",
          "text/plain": "<IPython.core.display.HTML object>"
         },
         "metadata": {},
         "output_type": "display_data"
        }
       ]
      }
     },
     "8a2b317eccf54a88bd3c7979f6f7aac3": {
      "model_module": "@jupyter-widgets/controls",
      "model_module_version": "1.5.0",
      "model_name": "IntSliderModel",
      "state": {
       "description": "Rows",
       "layout": "IPY_MODEL_57153aba54b84e3cb79c64550b503da7",
       "max": 543,
       "min": 1,
       "style": "IPY_MODEL_f19763684b0e4f658e61e79184bb14f5",
       "value": 5
      }
     },
     "8d49544b28954ad98eca42f24b2a22b0": {
      "model_module": "@jupyter-widgets/base",
      "model_module_version": "1.2.0",
      "model_name": "LayoutModel",
      "state": {}
     },
     "9b45b945fc2c4782858eb55aff2d880b": {
      "model_module": "@jupyter-widgets/base",
      "model_module_version": "1.2.0",
      "model_name": "LayoutModel",
      "state": {}
     },
     "aff85dbbae704c6ab837470cac1d55d5": {
      "model_module": "@jupyter-widgets/base",
      "model_module_version": "1.2.0",
      "model_name": "LayoutModel",
      "state": {}
     },
     "b247f44956954a79be1d5a436f8b6504": {
      "model_module": "@jupyter-widgets/controls",
      "model_module_version": "1.5.0",
      "model_name": "ToggleButtonModel",
      "state": {
       "button_style": "warning",
       "description": "Show ALL Tables",
       "icon": "eye",
       "layout": "IPY_MODEL_63412f410e3740eea7ba1d9a84983252",
       "style": "IPY_MODEL_43bae82ffa8a415a9871330ea02f8aff"
      }
     },
     "b6baa3169a004329a8db1569361eaade": {
      "model_module": "@jupyter-widgets/base",
      "model_module_version": "1.2.0",
      "model_name": "LayoutModel",
      "state": {}
     },
     "bfe89572b3b94962b6523c218f9f5c43": {
      "model_module": "@jupyter-widgets/base",
      "model_module_version": "1.2.0",
      "model_name": "LayoutModel",
      "state": {}
     },
     "cce03531b58c4ab388ac10629208b9d6": {
      "model_module": "@jupyter-widgets/controls",
      "model_module_version": "1.5.0",
      "model_name": "DropdownModel",
      "state": {
       "_options_labels": [
        "Term",
        "Section",
        "Team"
       ],
       "description": "Filter",
       "index": 0,
       "layout": "IPY_MODEL_8d49544b28954ad98eca42f24b2a22b0",
       "style": "IPY_MODEL_4cfd5e50552a4a5fbbbd4095261ed238"
      }
     },
     "ce902382a21940c1ba0410a0d724f869": {
      "model_module": "@jupyter-widgets/controls",
      "model_module_version": "1.5.0",
      "model_name": "DescriptionStyleModel",
      "state": {
       "description_width": ""
      }
     },
     "f0cd8d87ab244bddba072819a1728c16": {
      "model_module": "@jupyter-widgets/controls",
      "model_module_version": "1.5.0",
      "model_name": "VBoxModel",
      "state": {
       "_dom_classes": [
        "widget-interact"
       ],
       "children": [
        "IPY_MODEL_60007d9563f44c209fb270bfeb1a0f43",
        "IPY_MODEL_881f38764048466bbdd986312440fcbf"
       ],
       "layout": "IPY_MODEL_17bfece364e44ce084f326a34ad29840"
      }
     },
     "f0d6e16dd42d4df1ab1428a878b95059": {
      "model_module": "@jupyter-widgets/base",
      "model_module_version": "1.2.0",
      "model_name": "LayoutModel",
      "state": {}
     },
     "f19763684b0e4f658e61e79184bb14f5": {
      "model_module": "@jupyter-widgets/controls",
      "model_module_version": "1.5.0",
      "model_name": "SliderStyleModel",
      "state": {
       "description_width": ""
      }
     },
     "f2abe04b16584fdb811ab4c503daff69": {
      "model_module": "@jupyter-widgets/controls",
      "model_module_version": "1.5.0",
      "model_name": "IntSliderModel",
      "state": {
       "description": "Rows",
       "layout": "IPY_MODEL_8290588cda324ba9914ccba4dce8cac0",
       "max": 300,
       "min": 1,
       "style": "IPY_MODEL_2f6b661db4d342d282b6a5da8d2e03c2",
       "value": 5
      }
     }
    },
    "version_major": 2,
    "version_minor": 0
   }
  }
 },
 "nbformat": 4,
 "nbformat_minor": 5
}
