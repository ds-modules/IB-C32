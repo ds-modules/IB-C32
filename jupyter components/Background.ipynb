{
 "cells": [
  {
   "cell_type": "markdown",
   "id": "1c2aadfb",
   "metadata": {
    "toc": true
   },
   "source": [
    "<h1>Table of Contents<span class=\"tocSkip\"></span></h1>\n",
    "<div class=\"toc\"><ul class=\"toc-item\"><li><span><a href=\"#Row-Granularity-and-Feature-Descriptions\" data-toc-modified-id=\"Row-Granularity-and-Feature-Descriptions-1\">Row Granularity and Feature Descriptions</a></span></li><li><span><a href=\"#Load-the-Data\" data-toc-modified-id=\"Load-the-Data-2\">Load the Data</a></span></li></ul></div>"
   ]
  },
  {
   "cell_type": "markdown",
   "id": "3a5637cc-fce0-4bc3-9d86-b67c6c3acc3b",
   "metadata": {},
   "source": [
    "# Data Background"
   ]
  },
  {
   "cell_type": "code",
   "execution_count": 1,
   "id": "3bc94353-da3a-496a-9d66-e4d816d7cea5",
   "metadata": {
    "scrolled": true
   },
   "outputs": [
    {
     "name": "stdout",
     "output_type": "stream",
     "text": [
      "Note: you may need to restart the kernel to use updated packages.\n"
     ]
    }
   ],
   "source": [
    "import pandas as pd\n",
    "import numpy as np\n",
    "from datascience import *\n",
    "from utils import *\n",
    "%pip install -q openpyxl\n",
    "from IPython.display import *"
   ]
  },
  {
   "cell_type": "markdown",
   "id": "ce356c37-6e49-4c9a-afd9-7e8dd2cf1d0a",
   "metadata": {},
   "source": [
    "<center><pre style=\"font-size:20px; color: gold\">Ignore the note above</pre></center>"
   ]
  },
  {
   "cell_type": "markdown",
   "id": "bf0489ba-ebbf-45f6-9f27-af4cd4f1f6dd",
   "metadata": {},
   "source": [
    "## Row Granularity and Feature Descriptions\n",
    "\n",
    "In just a bit, we'll be loading some data from previous semesters from this project. But first, lets take a moment to get acquainted with it!\n",
    "\n",
    "We'll be loading two tables, `class_data`, and `section_data` (you might already be able to guess what each represents from their names).\n",
    "\n",
    "In both tables, **each row represents one observation, _or_ one point on a scatter plot**.\n",
    "> ***Note:*** The following tables **do not** represent any data you may or may not have collected\n",
    "\n",
    "Each row in both tables has the following attributes:\n",
    "\n",
    "<center><pre>Shared Data Attributes</pre></center>\n",
    "\n",
    "|Name|Description|Units|Coding/Representation|\n",
    "|-|-|-|-|\n",
    "|Mass (g)| The mass of the weight or object |$\\text{Grams}$|`Decimal Number`|\n",
    "|Angle (deg)| Angle at which the weight or object is held or hangs|$\\text{Degrees}$|`Decimal Number`|\n",
    "|Shear Force (N)| The Shear Force Exerted|$\\text{Newtons}$|`Decimal Number`|\n",
    "|Adhesive Force (N)| The Adhesive Force Exerted|$\\text{Newtons}$|`Decimal Number`|\n",
    "\n",
    "The `class_data` table has one other column:\n",
    "\n",
    "<center><pre>Class_Data Attributes</pre></center>\n",
    "\n",
    "|Name|Description|Coding/Representation|\n",
    "|-|-|-|\n",
    "|Collected|The term in which the data was collected|`Letters` (either \"Spring 2020\" or \"Spring 2021\")|\n",
    "\n",
    "The `section_data` table has two other columns:\n",
    "\n",
    "<center><pre>Section_Data Attributes</pre></center>\n",
    "\n",
    "|Name|Description|Coding/Representation|\n",
    "|-|-|-|\n",
    "|Section|The section number in which the data was collected|`Whole Number`|\n",
    "|Team|The unique number of the team that collected the data|`Whole Number`|\n",
    "\n",
    "Let's take a look at the tables!"
   ]
  },
  {
   "cell_type": "markdown",
   "id": "d689f71d-2206-44a2-a04d-94ab656b5ec1",
   "metadata": {},
   "source": [
    "## Load the Data\n",
    "In this section we download some data from previous semesters, and we'll take care of some cleaning for you.\n",
    "The cell below downloads this data, using a library called <code><a href=\"https://pandas.pydata.org/docs/reference/api/pandas.read_excel.html?highlight=read_excel\">pandas</a></code>."
   ]
  },
  {
   "cell_type": "code",
   "execution_count": 6,
   "id": "cc2abe0e-e10f-4a58-9a99-2bab9d73c01b",
   "metadata": {
    "scrolled": true
   },
   "outputs": [],
   "source": [
    "cleaner = lambda x: x.replace(\"Sp\", \"Spring \")\n",
    "class_data = Table.from_df(pd.read_excel(\"Data/gecko.xlsx\", sheet_name=\"Class\"))\n",
    "class_data[\"Collected\"] = class_data.apply(cleaner, \"Collected\")\n",
    "section_data = pd.read_excel(\"Data/gecko.xlsx\", sheet_name=\"Sections\")\n",
    "section_data.columns = ['Section', 'Team', 'Mass (g)', 'Angle (deg)', 'Shear Force (N)', 'Adhesive Force (N)']\n",
    "section_data = Table.from_df(section_data)"
   ]
  },
  {
   "cell_type": "code",
   "execution_count": 7,
   "id": "941d562f-f7a0-40d6-9ad7-b339f0590b02",
   "metadata": {
    "tags": []
   },
   "outputs": [
    {
     "data": {
      "text/markdown": [
       "<pre>Use the slider below to select how many rows to show<pre>"
      ],
      "text/plain": [
       "<IPython.core.display.Markdown object>"
      ]
     },
     "metadata": {},
     "output_type": "display_data"
    },
    {
     "data": {
      "application/vnd.jupyter.widget-view+json": {
       "model_id": "786fdffab6274d0eba2f8625e552fbb6",
       "version_major": 2,
       "version_minor": 0
      },
      "text/plain": [
       "interactive(children=(IntSlider(value=5, description='Rows', max=543, min=1), Output()), _dom_classes=('widget…"
      ]
     },
     "metadata": {},
     "output_type": "display_data"
    },
    {
     "data": {
      "text/markdown": [
       "<pre>Use the slider below to select how many rows to show<pre>"
      ],
      "text/plain": [
       "<IPython.core.display.Markdown object>"
      ]
     },
     "metadata": {},
     "output_type": "display_data"
    },
    {
     "data": {
      "application/vnd.jupyter.widget-view+json": {
       "model_id": "7f87f887e66d41698c505eecb017b1a4",
       "version_major": 2,
       "version_minor": 0
      },
      "text/plain": [
       "interactive(children=(IntSlider(value=5, description='Rows', max=203, min=1), Output()), _dom_classes=('widget…"
      ]
     },
     "metadata": {},
     "output_type": "display_data"
    }
   ],
   "source": [
    "class_data.show_interact()\n",
    "section_data.show_interact()"
   ]
  },
  {
   "cell_type": "markdown",
   "id": "9c67b920-c946-47b7-828b-60a944d991ef",
   "metadata": {},
   "source": [
    "Use the cell below to look at the data using some specific filter!\n",
    "\n",
    "<center><b>Just Run this Cell</b></center>"
   ]
  },
  {
   "cell_type": "code",
   "execution_count": 9,
   "id": "ac5283ca-8279-4639-9025-7db45dcd9daa",
   "metadata": {
    "tags": []
   },
   "outputs": [
    {
     "data": {
      "text/markdown": [
       "\n",
       "_**NOTE:**_ \n",
       "- To show ***ALL*** data, click the orange button\n",
       "    - Click it again to reset\n",
       "- Use the first dropdown box to choose what filter you'd like to use \n",
       "- Use the second box to chose what value you'd like to look for using the selected filter \n",
       "- Use the slider to pick how many rows of the table to show"
      ],
      "text/plain": [
       "<IPython.core.display.Markdown object>"
      ]
     },
     "metadata": {},
     "output_type": "display_data"
    },
    {
     "data": {
      "text/markdown": [
       " "
      ],
      "text/plain": [
       "<IPython.core.display.Markdown object>"
      ]
     },
     "metadata": {},
     "output_type": "display_data"
    },
    {
     "data": {
      "application/vnd.jupyter.widget-view+json": {
       "model_id": "40d2f537bcf0417dbe3757764103c841",
       "version_major": 2,
       "version_minor": 0
      },
      "text/plain": [
       "interactive(children=(ToggleButton(value=False, button_style='warning', description='Show ALL Tables', icon='e…"
      ]
     },
     "metadata": {},
     "output_type": "display_data"
    }
   ],
   "source": [
    "show_gecko_tables()"
   ]
  },
  {
   "cell_type": "code",
   "execution_count": null,
   "id": "969bd684",
   "metadata": {},
   "outputs": [],
   "source": []
  }
 ],
 "metadata": {
  "kernelspec": {
   "display_name": "Python 3 (ipykernel)",
   "language": "python",
   "name": "python3"
  },
  "language_info": {
   "codemirror_mode": {
    "name": "ipython",
    "version": 3
   },
   "file_extension": ".py",
   "mimetype": "text/x-python",
   "name": "python",
   "nbconvert_exporter": "python",
   "pygments_lexer": "ipython3",
   "version": "3.10.1"
  },
  "toc": {
   "base_numbering": 1,
   "nav_menu": {},
   "number_sections": false,
   "sideBar": true,
   "skip_h1_title": true,
   "title_cell": "Table of Contents",
   "title_sidebar": "Contents",
   "toc_cell": true,
   "toc_position": {},
   "toc_section_display": true,
   "toc_window_display": false
  },
  "widgets": {
   "application/vnd.jupyter.widget-state+json": {
    "state": {
     "055df75f2b284b70acb3b49027c53ded": {
      "model_module": "@jupyter-widgets/base",
      "model_module_version": "1.2.0",
      "model_name": "LayoutModel",
      "state": {}
     },
     "061249bf75074c35bd673ca51a7459cf": {
      "model_module": "@jupyter-widgets/base",
      "model_module_version": "1.2.0",
      "model_name": "LayoutModel",
      "state": {}
     },
     "0bc49aff57b94488880b190d504ea025": {
      "model_module": "@jupyter-widgets/base",
      "model_module_version": "1.2.0",
      "model_name": "LayoutModel",
      "state": {}
     },
     "10e00aa4328e43a79bb5ad30f53e73ae": {
      "model_module": "@jupyter-widgets/base",
      "model_module_version": "1.2.0",
      "model_name": "LayoutModel",
      "state": {}
     },
     "1224781b3b964ad4a4babf36775aadf6": {
      "model_module": "@jupyter-widgets/controls",
      "model_module_version": "1.5.0",
      "model_name": "SliderStyleModel",
      "state": {
       "description_width": ""
      }
     },
     "13250163da2d48f9a4465ee3585a8a29": {
      "model_module": "@jupyter-widgets/controls",
      "model_module_version": "1.5.0",
      "model_name": "DropdownModel",
      "state": {
       "_options_labels": [
        "Term",
        "Section",
        "Team"
       ],
       "description": "Filter",
       "index": 0,
       "layout": "IPY_MODEL_e2be68476725421dadbc946939d40d40",
       "style": "IPY_MODEL_faf99fa865a24020a86876b1936e483a"
      }
     },
     "14d034a5fb1840df83f068f5c46e3198": {
      "model_module": "@jupyter-widgets/controls",
      "model_module_version": "1.5.0",
      "model_name": "IntSliderModel",
      "state": {
       "description": "Rows",
       "layout": "IPY_MODEL_5f34bb341158467e9203b86949b77479",
       "max": 203,
       "min": 1,
       "style": "IPY_MODEL_778b9a6121944a70b91db2b42d508613",
       "value": 10
      }
     },
     "1782b9b83c004af0a7bf57bebca770d9": {
      "model_module": "@jupyter-widgets/controls",
      "model_module_version": "1.5.0",
      "model_name": "SliderStyleModel",
      "state": {
       "description_width": ""
      }
     },
     "1ec8478cbb1e476f94489c9a36423277": {
      "model_module": "@jupyter-widgets/controls",
      "model_module_version": "1.5.0",
      "model_name": "IntSliderModel",
      "state": {
       "description": "Rows",
       "layout": "IPY_MODEL_4e375f75574547b5bfa7b134b573a9db",
       "max": 300,
       "min": 1,
       "style": "IPY_MODEL_2520d2eac4434ababd51c94277edee13",
       "value": 5
      }
     },
     "2104b3a4cdc74a8baea555b6f5de5098": {
      "model_module": "@jupyter-widgets/controls",
      "model_module_version": "1.5.0",
      "model_name": "DropdownModel",
      "state": {
       "_options_labels": [
        "Term",
        "Section",
        "Team"
       ],
       "description": "Filter",
       "index": 0,
       "layout": "IPY_MODEL_10e00aa4328e43a79bb5ad30f53e73ae",
       "style": "IPY_MODEL_912d173367cb4a71b6676eae206c04bd"
      }
     },
     "224b53b163b140acb4f8eba215263029": {
      "model_module": "@jupyter-widgets/base",
      "model_module_version": "1.2.0",
      "model_name": "LayoutModel",
      "state": {}
     },
     "22b4b7c6fe51452fb08db2958e59bdfa": {
      "model_module": "@jupyter-widgets/base",
      "model_module_version": "1.2.0",
      "model_name": "LayoutModel",
      "state": {}
     },
     "2520d2eac4434ababd51c94277edee13": {
      "model_module": "@jupyter-widgets/controls",
      "model_module_version": "1.5.0",
      "model_name": "SliderStyleModel",
      "state": {
       "description_width": ""
      }
     },
     "26d0701d701f4b64a8968743705c128a": {
      "model_module": "@jupyter-widgets/controls",
      "model_module_version": "1.5.0",
      "model_name": "SliderStyleModel",
      "state": {
       "description_width": ""
      }
     },
     "293ee7249d044d0aae8cbb5bbfa98d2d": {
      "model_module": "@jupyter-widgets/base",
      "model_module_version": "1.2.0",
      "model_name": "LayoutModel",
      "state": {}
     },
     "2d63e923b86a4f718d71495194838b15": {
      "model_module": "@jupyter-widgets/controls",
      "model_module_version": "1.5.0",
      "model_name": "DescriptionStyleModel",
      "state": {
       "description_width": ""
      }
     },
     "313460b980fa4bf4a4610d11117878f5": {
      "model_module": "@jupyter-widgets/controls",
      "model_module_version": "1.5.0",
      "model_name": "IntSliderModel",
      "state": {
       "description": "Rows",
       "layout": "IPY_MODEL_36741454c3fd4b2d97b112bd5bda1916",
       "max": 543,
       "min": 1,
       "style": "IPY_MODEL_b88bdc78f1524123b85bd17565a65859",
       "value": 5
      }
     },
     "31caef1861ca4e1f92ba6d686ef44e90": {
      "model_module": "@jupyter-widgets/controls",
      "model_module_version": "1.5.0",
      "model_name": "DropdownModel",
      "state": {
       "_options_labels": [
        "1",
        "2",
        "3",
        "4",
        "5",
        "6"
       ],
       "description": "Section",
       "index": 3,
       "layout": "IPY_MODEL_edbe779dd1b64359930e54694a01e5a3",
       "style": "IPY_MODEL_ab4e848531a34bc3bac99de40535c98a"
      }
     },
     "34791da517b04ed1a15687809d38e49c": {
      "model_module": "@jupyter-widgets/controls",
      "model_module_version": "1.5.0",
      "model_name": "IntSliderModel",
      "state": {
       "description": "Rows",
       "layout": "IPY_MODEL_0bc49aff57b94488880b190d504ea025",
       "max": 300,
       "min": 1,
       "style": "IPY_MODEL_1782b9b83c004af0a7bf57bebca770d9",
       "value": 8
      }
     },
     "36741454c3fd4b2d97b112bd5bda1916": {
      "model_module": "@jupyter-widgets/base",
      "model_module_version": "1.2.0",
      "model_name": "LayoutModel",
      "state": {}
     },
     "3891031b432f4cbbaa49639a321057b7": {
      "model_module": "@jupyter-widgets/controls",
      "model_module_version": "1.5.0",
      "model_name": "SliderStyleModel",
      "state": {
       "description_width": ""
      }
     },
     "3d64d054b4764a4880f3319a51868b51": {
      "model_module": "@jupyter-widgets/controls",
      "model_module_version": "1.5.0",
      "model_name": "DescriptionStyleModel",
      "state": {
       "description_width": ""
      }
     },
     "40d2f537bcf0417dbe3757764103c841": {
      "model_module": "@jupyter-widgets/controls",
      "model_module_version": "1.5.0",
      "model_name": "VBoxModel",
      "state": {
       "_dom_classes": [
        "widget-interact"
       ],
       "children": [
        "IPY_MODEL_58a59383c9544f46ba66989f92d576d6",
        "IPY_MODEL_13250163da2d48f9a4465ee3585a8a29",
        "IPY_MODEL_d18ca8b743bd4073b967176857fbd569"
       ],
       "layout": "IPY_MODEL_8288641660e24fc49d04265520af8bf0"
      }
     },
     "4229c442fa7948ce9273c6b9d6c758dc": {
      "model_module": "@jupyter-widgets/base",
      "model_module_version": "1.2.0",
      "model_name": "LayoutModel",
      "state": {}
     },
     "45bcc2ea87c248fe857d777666c879df": {
      "model_module": "@jupyter-widgets/base",
      "model_module_version": "1.2.0",
      "model_name": "LayoutModel",
      "state": {}
     },
     "48943fa85dd64de790cc56299bf429b2": {
      "model_module": "@jupyter-widgets/output",
      "model_module_version": "1.0.0",
      "model_name": "OutputModel",
      "state": {
       "layout": "IPY_MODEL_45bcc2ea87c248fe857d777666c879df",
       "outputs": [
        {
         "data": {
          "text/html": "<table border=\"1\" class=\"dataframe\">\n    <thead>\n        <tr>\n            <th>Collected</th> <th>Mass (g)</th> <th>Angle (deg)</th> <th>Shear Force (N)</th> <th>Adhesive Force (N)</th>\n        </tr>\n    </thead>\n    <tbody>\n        <tr>\n            <td>Spring 2021</td> <td>11.71   </td> <td>28         </td> <td>0.101325       </td> <td>0.0538756         </td>\n        </tr>\n        <tr>\n            <td>Spring 2021</td> <td>11.71   </td> <td>26         </td> <td>0.103144       </td> <td>0.0503066         </td>\n        </tr>\n        <tr>\n            <td>Spring 2021</td> <td>11.71   </td> <td>32         </td> <td>0.0973203      </td> <td>0.0608125         </td>\n        </tr>\n        <tr>\n            <td>Spring 2021</td> <td>21.71   </td> <td>22         </td> <td>0.197266       </td> <td>0.0797005         </td>\n        </tr>\n        <tr>\n            <td>Spring 2021</td> <td>21.71   </td> <td>24         </td> <td>0.194364       </td> <td>0.0865365         </td>\n        </tr>\n        <tr>\n            <td>Spring 2021</td> <td>21.71   </td> <td>25         </td> <td>0.192824       </td> <td>0.0899154         </td>\n        </tr>\n    </tbody>\n</table>\n<p>... (537 rows omitted)</p>",
          "text/plain": "<IPython.core.display.HTML object>"
         },
         "metadata": {},
         "output_type": "display_data"
        }
       ]
      }
     },
     "4a6d1183f6404b828cf3af4b2abd9df6": {
      "model_module": "@jupyter-widgets/controls",
      "model_module_version": "1.5.0",
      "model_name": "IntSliderModel",
      "state": {
       "description": "Rows",
       "layout": "IPY_MODEL_ac9fe24d3e52407b98bc88a98752fb34",
       "max": 543,
       "min": 1,
       "style": "IPY_MODEL_1224781b3b964ad4a4babf36775aadf6",
       "value": 6
      }
     },
     "4a73510ee084405faf8b8a53eee31583": {
      "model_module": "@jupyter-widgets/controls",
      "model_module_version": "1.5.0",
      "model_name": "DropdownModel",
      "state": {
       "_options_labels": [
        "Spring 2020",
        "Spring 2021"
       ],
       "description": "Term",
       "index": 0,
       "layout": "IPY_MODEL_055df75f2b284b70acb3b49027c53ded",
       "style": "IPY_MODEL_e6d378492bfb4fb0a9b1e1e99cc77ac3"
      }
     },
     "4b40f176a78649ef93c9478fc9b83810": {
      "model_module": "@jupyter-widgets/base",
      "model_module_version": "1.2.0",
      "model_name": "LayoutModel",
      "state": {}
     },
     "4cf74c2249764ff1b74b2a4eb8735bb1": {
      "model_module": "@jupyter-widgets/output",
      "model_module_version": "1.0.0",
      "model_name": "OutputModel",
      "state": {
       "layout": "IPY_MODEL_c0f96a5664fd4a7d8948839c91b451df",
       "outputs": [
        {
         "data": {
          "text/html": "<table border=\"1\" class=\"dataframe\">\n    <thead>\n        <tr>\n            <th>Collected</th> <th>Mass (g)</th> <th>Angle (deg)</th> <th>Shear Force (N)</th> <th>Adhesive Force (N)</th>\n        </tr>\n    </thead>\n    <tbody>\n        <tr>\n            <td>Spring 2020</td> <td>17.5    </td> <td>35         </td> <td>0.140485       </td> <td>0.0983684         </td>\n        </tr>\n        <tr>\n            <td>Spring 2020</td> <td>17.5    </td> <td>38         </td> <td>0.135144       </td> <td>0.105586          </td>\n        </tr>\n        <tr>\n            <td>Spring 2020</td> <td>17.5    </td> <td>41         </td> <td>0.129433       </td> <td>0.112514          </td>\n        </tr>\n        <tr>\n            <td>Spring 2020</td> <td>30.9    </td> <td>25         </td> <td>0.274448       </td> <td>0.127977          </td>\n        </tr>\n        <tr>\n            <td>Spring 2020</td> <td>30.9    </td> <td>25         </td> <td>0.274448       </td> <td>0.127977          </td>\n        </tr>\n    </tbody>\n</table>\n<p>... (298 rows omitted)</p>",
          "text/plain": "<IPython.core.display.HTML object>"
         },
         "metadata": {},
         "output_type": "display_data"
        }
       ]
      }
     },
     "4d49c38dea0d43bda2aed9e5d3c3f642": {
      "model_module": "@jupyter-widgets/controls",
      "model_module_version": "1.5.0",
      "model_name": "SliderStyleModel",
      "state": {
       "description_width": ""
      }
     },
     "4e375f75574547b5bfa7b134b573a9db": {
      "model_module": "@jupyter-widgets/base",
      "model_module_version": "1.2.0",
      "model_name": "LayoutModel",
      "state": {}
     },
     "4f48af5bba0d431c9a91998955429e45": {
      "model_module": "@jupyter-widgets/controls",
      "model_module_version": "1.5.0",
      "model_name": "DropdownModel",
      "state": {
       "_options_labels": [
        "Spring 2020",
        "Spring 2021"
       ],
       "description": "Term",
       "index": 0,
       "layout": "IPY_MODEL_9d579327b02949bb99ccd6f502b3b382",
       "style": "IPY_MODEL_df82474612554561bcb0df29b2c2b050"
      }
     },
     "50eebba133074d89a238fe5f1c55817a": {
      "model_module": "@jupyter-widgets/base",
      "model_module_version": "1.2.0",
      "model_name": "LayoutModel",
      "state": {}
     },
     "559eae4e1c50413fb4335c4d0f2b4b9d": {
      "model_module": "@jupyter-widgets/controls",
      "model_module_version": "1.5.0",
      "model_name": "DescriptionStyleModel",
      "state": {
       "description_width": ""
      }
     },
     "58a59383c9544f46ba66989f92d576d6": {
      "model_module": "@jupyter-widgets/controls",
      "model_module_version": "1.5.0",
      "model_name": "ToggleButtonModel",
      "state": {
       "button_style": "warning",
       "description": "Show ALL Tables",
       "icon": "eye",
       "layout": "IPY_MODEL_6b56a634f5f2432b9314d2a4cb878887",
       "style": "IPY_MODEL_559eae4e1c50413fb4335c4d0f2b4b9d"
      }
     },
     "5cc7f43008a44b1f9632b81e8d33536d": {
      "model_module": "@jupyter-widgets/base",
      "model_module_version": "1.2.0",
      "model_name": "LayoutModel",
      "state": {}
     },
     "5f34bb341158467e9203b86949b77479": {
      "model_module": "@jupyter-widgets/base",
      "model_module_version": "1.2.0",
      "model_name": "LayoutModel",
      "state": {}
     },
     "618a7d00722043fc85cfd1ad53de10ee": {
      "model_module": "@jupyter-widgets/output",
      "model_module_version": "1.0.0",
      "model_name": "OutputModel",
      "state": {
       "layout": "IPY_MODEL_c658c0dd51c9447f880ed187a50d98de",
       "outputs": [
        {
         "data": {
          "text/html": "<table border=\"1\" class=\"dataframe\">\n    <thead>\n        <tr>\n            <th>Section</th> <th>Team</th> <th>Mass</th> <th>Angle</th> <th>Shear Force</th> <th>Adhesive Force</th>\n        </tr>\n    </thead>\n    <tbody>\n        <tr>\n            <td>4      </td> <td>15  </td> <td>12.61 </td> <td>20   </td> <td>0.116125   </td> <td>0.0422662     </td>\n        </tr>\n        <tr>\n            <td>4      </td> <td>19  </td> <td>11.246</td> <td>10   </td> <td>0.108536   </td> <td>0.0191379     </td>\n        </tr>\n        <tr>\n            <td>4      </td> <td>19  </td> <td>8.978 </td> <td>20   </td> <td>0.0826783  </td> <td>0.0300924     </td>\n        </tr>\n        <tr>\n            <td>4      </td> <td>19  </td> <td>20    </td> <td>25   </td> <td>0.177636   </td> <td>0.0828332     </td>\n        </tr>\n        <tr>\n            <td>4      </td> <td>20  </td> <td>18.05 </td> <td>17   </td> <td>0.169161   </td> <td>0.0517176     </td>\n        </tr>\n    </tbody>\n</table>\n<p>... (29 rows omitted)</p>",
          "text/plain": "<IPython.core.display.HTML object>"
         },
         "metadata": {},
         "output_type": "display_data"
        }
       ]
      }
     },
     "655a66e744b643dea061296e47999e4d": {
      "model_module": "@jupyter-widgets/output",
      "model_module_version": "1.0.0",
      "model_name": "OutputModel",
      "state": {
       "layout": "IPY_MODEL_73d186a1baa0472e99f4b6bc72584b12",
       "outputs": [
        {
         "data": {
          "text/html": "<table border=\"1\" class=\"dataframe\">\n    <thead>\n        <tr>\n            <th>Collected</th> <th>Mass (g)</th> <th>Angle (deg)</th> <th>Shear Force (N)</th> <th>Adhesive Force (N)</th>\n        </tr>\n    </thead>\n    <tbody>\n        <tr>\n            <td>Spring 2021</td> <td>11.71   </td> <td>28         </td> <td>0.101325       </td> <td>0.0538756         </td>\n        </tr>\n        <tr>\n            <td>Spring 2021</td> <td>11.71   </td> <td>26         </td> <td>0.103144       </td> <td>0.0503066         </td>\n        </tr>\n        <tr>\n            <td>Spring 2021</td> <td>11.71   </td> <td>32         </td> <td>0.0973203      </td> <td>0.0608125         </td>\n        </tr>\n        <tr>\n            <td>Spring 2021</td> <td>21.71   </td> <td>22         </td> <td>0.197266       </td> <td>0.0797005         </td>\n        </tr>\n        <tr>\n            <td>Spring 2021</td> <td>21.71   </td> <td>24         </td> <td>0.194364       </td> <td>0.0865365         </td>\n        </tr>\n        <tr>\n            <td>Spring 2021</td> <td>21.71   </td> <td>25         </td> <td>0.192824       </td> <td>0.0899154         </td>\n        </tr>\n        <tr>\n            <td>Spring 2021</td> <td>41.71   </td> <td>12         </td> <td>0.399826       </td> <td>0.0849856         </td>\n        </tr>\n        <tr>\n            <td>Spring 2021</td> <td>41.71   </td> <td>12         </td> <td>0.399826       </td> <td>0.0849856         </td>\n        </tr>\n    </tbody>\n</table>\n<p>... (232 rows omitted)</p>",
          "text/plain": "<IPython.core.display.HTML object>"
         },
         "metadata": {},
         "output_type": "display_data"
        }
       ]
      }
     },
     "67469a40216d4944bb781932df0d9062": {
      "model_module": "@jupyter-widgets/base",
      "model_module_version": "1.2.0",
      "model_name": "LayoutModel",
      "state": {}
     },
     "693c5f84cf9d46bc8dc353317348144e": {
      "model_module": "@jupyter-widgets/controls",
      "model_module_version": "1.5.0",
      "model_name": "ToggleButtonModel",
      "state": {
       "button_style": "warning",
       "description": "Show ALL Tables",
       "icon": "eye",
       "layout": "IPY_MODEL_b7b057b72a9e488eaf2e89c7b6e92909",
       "style": "IPY_MODEL_b878117184044521a28e663e34d77781"
      }
     },
     "6b56a634f5f2432b9314d2a4cb878887": {
      "model_module": "@jupyter-widgets/base",
      "model_module_version": "1.2.0",
      "model_name": "LayoutModel",
      "state": {}
     },
     "6dbea0427e3944ae9f6e30a4e5eb7319": {
      "model_module": "@jupyter-widgets/base",
      "model_module_version": "1.2.0",
      "model_name": "LayoutModel",
      "state": {}
     },
     "6fb26e31d26d40ceac752b0c0012cfe7": {
      "model_module": "@jupyter-widgets/base",
      "model_module_version": "1.2.0",
      "model_name": "LayoutModel",
      "state": {}
     },
     "70675cdf45a743e7b42a5cde2f644832": {
      "model_module": "@jupyter-widgets/controls",
      "model_module_version": "1.5.0",
      "model_name": "VBoxModel",
      "state": {
       "_dom_classes": [
        "widget-interact"
       ],
       "children": [
        "IPY_MODEL_313460b980fa4bf4a4610d11117878f5",
        "IPY_MODEL_95f6e9975dd741f48ca27e6bdbc163f3"
       ],
       "layout": "IPY_MODEL_ade11311ec9d4022a76af63b482f009f"
      }
     },
     "7243787a27764089bed1b626cf1a937d": {
      "model_module": "@jupyter-widgets/base",
      "model_module_version": "1.2.0",
      "model_name": "LayoutModel",
      "state": {}
     },
     "73d186a1baa0472e99f4b6bc72584b12": {
      "model_module": "@jupyter-widgets/base",
      "model_module_version": "1.2.0",
      "model_name": "LayoutModel",
      "state": {}
     },
     "766bc5b1e6cd41c2bed7c58a70c6f297": {
      "model_module": "@jupyter-widgets/controls",
      "model_module_version": "1.5.0",
      "model_name": "ToggleButtonModel",
      "state": {
       "button_style": "warning",
       "description": "Show ALL Tables",
       "icon": "eye",
       "layout": "IPY_MODEL_4b40f176a78649ef93c9478fc9b83810",
       "style": "IPY_MODEL_ce91278f33fb459e924d5e69250087ab",
       "value": true
      }
     },
     "778b9a6121944a70b91db2b42d508613": {
      "model_module": "@jupyter-widgets/controls",
      "model_module_version": "1.5.0",
      "model_name": "SliderStyleModel",
      "state": {
       "description_width": ""
      }
     },
     "786fdffab6274d0eba2f8625e552fbb6": {
      "model_module": "@jupyter-widgets/controls",
      "model_module_version": "1.5.0",
      "model_name": "VBoxModel",
      "state": {
       "_dom_classes": [
        "widget-interact"
       ],
       "children": [
        "IPY_MODEL_4a6d1183f6404b828cf3af4b2abd9df6",
        "IPY_MODEL_48943fa85dd64de790cc56299bf429b2"
       ],
       "layout": "IPY_MODEL_293ee7249d044d0aae8cbb5bbfa98d2d"
      }
     },
     "7940c689ce4c488f8407c30fadbbbea1": {
      "model_module": "@jupyter-widgets/base",
      "model_module_version": "1.2.0",
      "model_name": "LayoutModel",
      "state": {}
     },
     "798006c3407047bf85cf44eb626f6361": {
      "model_module": "@jupyter-widgets/base",
      "model_module_version": "1.2.0",
      "model_name": "LayoutModel",
      "state": {}
     },
     "79fe2cecfcbb4fa9ac89eab799d97068": {
      "model_module": "@jupyter-widgets/base",
      "model_module_version": "1.2.0",
      "model_name": "LayoutModel",
      "state": {}
     },
     "7d1ac2df6d73449fa79c804b227f9ff8": {
      "model_module": "@jupyter-widgets/controls",
      "model_module_version": "1.5.0",
      "model_name": "DropdownModel",
      "state": {
       "_options_labels": [
        "Term",
        "Section",
        "Team"
       ],
       "description": "Filter",
       "index": 2,
       "layout": "IPY_MODEL_8e5a906bbc5a43bc9df828e1e32dc44b",
       "style": "IPY_MODEL_3d64d054b4764a4880f3319a51868b51"
      }
     },
     "7de2eb447f754884a2c2186f8c6e9e74": {
      "model_module": "@jupyter-widgets/controls",
      "model_module_version": "1.5.0",
      "model_name": "VBoxModel",
      "state": {
       "_dom_classes": [
        "widget-interact"
       ],
       "children": [
        "IPY_MODEL_a28494ac08c744d690659fc3ef8c5226",
        "IPY_MODEL_becde9ff826b4a6595c770a93270b9d3",
        "IPY_MODEL_c5ad1e49fb974880b4cdafe4767d5dbc"
       ],
       "layout": "IPY_MODEL_86a546eb12e249c7b554d943cbd68b4e"
      }
     },
     "7f87f887e66d41698c505eecb017b1a4": {
      "model_module": "@jupyter-widgets/controls",
      "model_module_version": "1.5.0",
      "model_name": "VBoxModel",
      "state": {
       "_dom_classes": [
        "widget-interact"
       ],
       "children": [
        "IPY_MODEL_f956fcfae5b24c7da266c3d279b2ae55",
        "IPY_MODEL_d797504aaecf45e6b6dd3a113c83be7d"
       ],
       "layout": "IPY_MODEL_a9b2468e323341feb1f9c068072c0282"
      }
     },
     "8288641660e24fc49d04265520af8bf0": {
      "model_module": "@jupyter-widgets/base",
      "model_module_version": "1.2.0",
      "model_name": "LayoutModel",
      "state": {}
     },
     "853d6a711cfd4fccb389cbb9b2a84fd2": {
      "model_module": "@jupyter-widgets/controls",
      "model_module_version": "1.5.0",
      "model_name": "SliderStyleModel",
      "state": {
       "description_width": ""
      }
     },
     "86a546eb12e249c7b554d943cbd68b4e": {
      "model_module": "@jupyter-widgets/base",
      "model_module_version": "1.2.0",
      "model_name": "LayoutModel",
      "state": {}
     },
     "898e6fe09d72492ebb8e00b7bf9c9f0b": {
      "model_module": "@jupyter-widgets/base",
      "model_module_version": "1.2.0",
      "model_name": "LayoutModel",
      "state": {}
     },
     "8b40627eb8654574be71d96a9a4cbcad": {
      "model_module": "@jupyter-widgets/controls",
      "model_module_version": "1.5.0",
      "model_name": "IntSliderModel",
      "state": {
       "description": "Rows",
       "layout": "IPY_MODEL_6fb26e31d26d40ceac752b0c0012cfe7",
       "max": 50,
       "min": 1,
       "style": "IPY_MODEL_26d0701d701f4b64a8968743705c128a",
       "value": 5
      }
     },
     "8e5a906bbc5a43bc9df828e1e32dc44b": {
      "model_module": "@jupyter-widgets/base",
      "model_module_version": "1.2.0",
      "model_name": "LayoutModel",
      "state": {}
     },
     "912d173367cb4a71b6676eae206c04bd": {
      "model_module": "@jupyter-widgets/controls",
      "model_module_version": "1.5.0",
      "model_name": "DescriptionStyleModel",
      "state": {
       "description_width": ""
      }
     },
     "9458154f5b1f4888b3354b0c8ef37d12": {
      "model_module": "@jupyter-widgets/base",
      "model_module_version": "1.2.0",
      "model_name": "LayoutModel",
      "state": {}
     },
     "95f6e9975dd741f48ca27e6bdbc163f3": {
      "model_module": "@jupyter-widgets/output",
      "model_module_version": "1.0.0",
      "model_name": "OutputModel",
      "state": {
       "layout": "IPY_MODEL_bb219d0f1f66435bb9e8a87a595d0edd",
       "outputs": [
        {
         "data": {
          "text/html": "<table border=\"1\" class=\"dataframe\">\n    <thead>\n        <tr>\n            <th>Collected</th> <th>Mass (g)</th> <th>Angle (deg)</th> <th>Shear Force (N)</th> <th>Adhesive Force (N)</th>\n        </tr>\n    </thead>\n    <tbody>\n        <tr>\n            <td>Spring 2021</td> <td>11.71   </td> <td>28         </td> <td>0.101325       </td> <td>0.0538756         </td>\n        </tr>\n        <tr>\n            <td>Spring 2021</td> <td>11.71   </td> <td>26         </td> <td>0.103144       </td> <td>0.0503066         </td>\n        </tr>\n        <tr>\n            <td>Spring 2021</td> <td>11.71   </td> <td>32         </td> <td>0.0973203      </td> <td>0.0608125         </td>\n        </tr>\n        <tr>\n            <td>Spring 2021</td> <td>21.71   </td> <td>22         </td> <td>0.197266       </td> <td>0.0797005         </td>\n        </tr>\n        <tr>\n            <td>Spring 2021</td> <td>21.71   </td> <td>24         </td> <td>0.194364       </td> <td>0.0865365         </td>\n        </tr>\n    </tbody>\n</table>\n<p>... (538 rows omitted)</p>",
          "text/plain": "<IPython.core.display.HTML object>"
         },
         "metadata": {},
         "output_type": "display_data"
        }
       ]
      }
     },
     "9d579327b02949bb99ccd6f502b3b382": {
      "model_module": "@jupyter-widgets/base",
      "model_module_version": "1.2.0",
      "model_name": "LayoutModel",
      "state": {}
     },
     "a28494ac08c744d690659fc3ef8c5226": {
      "model_module": "@jupyter-widgets/controls",
      "model_module_version": "1.5.0",
      "model_name": "DropdownModel",
      "state": {
       "_options_labels": [
        "3",
        "4",
        "5",
        "6",
        "7",
        "8",
        "9",
        "10",
        "11",
        "12",
        "13",
        "15",
        "16",
        "17",
        "18",
        "19",
        "20",
        "21",
        "22",
        "23",
        "24",
        "26",
        "28",
        "29",
        "30",
        "32",
        "33",
        "34",
        "35",
        "36"
       ],
       "description": "Team",
       "index": 14,
       "layout": "IPY_MODEL_9458154f5b1f4888b3354b0c8ef37d12",
       "style": "IPY_MODEL_2d63e923b86a4f718d71495194838b15"
      }
     },
     "a9b2468e323341feb1f9c068072c0282": {
      "model_module": "@jupyter-widgets/base",
      "model_module_version": "1.2.0",
      "model_name": "LayoutModel",
      "state": {}
     },
     "aacc8fc861d1421fb872576b44672eb0": {
      "model_module": "@jupyter-widgets/base",
      "model_module_version": "1.2.0",
      "model_name": "LayoutModel",
      "state": {}
     },
     "ab4e848531a34bc3bac99de40535c98a": {
      "model_module": "@jupyter-widgets/controls",
      "model_module_version": "1.5.0",
      "model_name": "DescriptionStyleModel",
      "state": {
       "description_width": ""
      }
     },
     "ac07ae969042414d8749db66eedef94f": {
      "model_module": "@jupyter-widgets/controls",
      "model_module_version": "1.5.0",
      "model_name": "VBoxModel",
      "state": {
       "_dom_classes": [
        "widget-interact"
       ],
       "children": [
        "IPY_MODEL_4a73510ee084405faf8b8a53eee31583",
        "IPY_MODEL_1ec8478cbb1e476f94489c9a36423277",
        "IPY_MODEL_d73aafa810ae499c94fc9fdfed70c338"
       ],
       "layout": "IPY_MODEL_6dbea0427e3944ae9f6e30a4e5eb7319"
      }
     },
     "ac9fe24d3e52407b98bc88a98752fb34": {
      "model_module": "@jupyter-widgets/base",
      "model_module_version": "1.2.0",
      "model_name": "LayoutModel",
      "state": {}
     },
     "ade11311ec9d4022a76af63b482f009f": {
      "model_module": "@jupyter-widgets/base",
      "model_module_version": "1.2.0",
      "model_name": "LayoutModel",
      "state": {}
     },
     "b7b057b72a9e488eaf2e89c7b6e92909": {
      "model_module": "@jupyter-widgets/base",
      "model_module_version": "1.2.0",
      "model_name": "LayoutModel",
      "state": {}
     },
     "b878117184044521a28e663e34d77781": {
      "model_module": "@jupyter-widgets/controls",
      "model_module_version": "1.5.0",
      "model_name": "DescriptionStyleModel",
      "state": {
       "description_width": ""
      }
     },
     "b88bdc78f1524123b85bd17565a65859": {
      "model_module": "@jupyter-widgets/controls",
      "model_module_version": "1.5.0",
      "model_name": "SliderStyleModel",
      "state": {
       "description_width": ""
      }
     },
     "bb219d0f1f66435bb9e8a87a595d0edd": {
      "model_module": "@jupyter-widgets/base",
      "model_module_version": "1.2.0",
      "model_name": "LayoutModel",
      "state": {}
     },
     "be3ab831bfad4526bef1f289b35feb49": {
      "model_module": "@jupyter-widgets/output",
      "model_module_version": "1.0.0",
      "model_name": "OutputModel",
      "state": {
       "layout": "IPY_MODEL_cccb9f314cc449b888de7fb294fbbf24",
       "outputs": [
        {
         "data": {
          "text/markdown": "<pre>All Class Data:",
          "text/plain": "<IPython.core.display.Markdown object>"
         },
         "metadata": {},
         "output_type": "display_data"
        },
        {
         "data": {
          "text/html": "<table border=\"1\" class=\"dataframe\">\n    <thead>\n        <tr>\n            <th>Collected</th> <th>Mass (g)</th> <th>Angle (deg)</th> <th>Shear Force (N)</th> <th>Adhesive Force (N)</th>\n        </tr>\n    </thead>\n    <tbody>\n        <tr>\n            <td>Spring 2021</td> <td>11.71   </td> <td>28         </td> <td>0.101325       </td> <td>0.0538756         </td>\n        </tr>\n        <tr>\n            <td>Spring 2021</td> <td>11.71   </td> <td>26         </td> <td>0.103144       </td> <td>0.0503066         </td>\n        </tr>\n        <tr>\n            <td>Spring 2021</td> <td>11.71   </td> <td>32         </td> <td>0.0973203      </td> <td>0.0608125         </td>\n        </tr>\n        <tr>\n            <td>Spring 2021</td> <td>21.71   </td> <td>22         </td> <td>0.197266       </td> <td>0.0797005         </td>\n        </tr>\n        <tr>\n            <td>Spring 2021</td> <td>21.71   </td> <td>24         </td> <td>0.194364       </td> <td>0.0865365         </td>\n        </tr>\n        <tr>\n            <td>Spring 2021</td> <td>21.71   </td> <td>25         </td> <td>0.192824       </td> <td>0.0899154         </td>\n        </tr>\n        <tr>\n            <td>Spring 2021</td> <td>41.71   </td> <td>12         </td> <td>0.399826       </td> <td>0.0849856         </td>\n        </tr>\n        <tr>\n            <td>Spring 2021</td> <td>41.71   </td> <td>12         </td> <td>0.399826       </td> <td>0.0849856         </td>\n        </tr>\n        <tr>\n            <td>Spring 2021</td> <td>41.71   </td> <td>14         </td> <td>0.396616       </td> <td>0.0988875         </td>\n        </tr>\n        <tr>\n            <td>Spring 2021</td> <td>6.71    </td> <td>30         </td> <td>0.0569481      </td> <td>0.032879          </td>\n        </tr>\n        <tr>\n            <td>Spring 2021</td> <td>16.71   </td> <td>25         </td> <td>0.148415       </td> <td>0.0692071         </td>\n        </tr>\n        <tr>\n            <td>Spring 2021</td> <td>22.38   </td> <td>22.5       </td> <td>0.202629       </td> <td>0.0839317         </td>\n        </tr>\n        <tr>\n            <td>Spring 2021</td> <td>22.38   </td> <td>22.5       </td> <td>0.202629       </td> <td>0.0839317         </td>\n        </tr>\n        <tr>\n            <td>Spring 2021</td> <td>12.38   </td> <td>17         </td> <td>0.116023       </td> <td>0.0354717         </td>\n        </tr>\n        <tr>\n            <td>Spring 2021</td> <td>6.71    </td> <td>20         </td> <td>0.0617923      </td> <td>0.0224906         </td>\n        </tr>\n        <tr>\n            <td>Spring 2021</td> <td>22.38   </td> <td>25         </td> <td>0.198775       </td> <td>0.0926903         </td>\n        </tr>\n        <tr>\n            <td>Spring 2021</td> <td>16.71   </td> <td>25         </td> <td>0.148415       </td> <td>0.0692071         </td>\n        </tr>\n        <tr>\n            <td>Spring 2021</td> <td>12.38   </td> <td>22         </td> <td>0.11249        </td> <td>0.0454488         </td>\n        </tr>\n        <tr>\n            <td>Spring 2021</td> <td>12.38   </td> <td>20         </td> <td>0.114007       </td> <td>0.0414953         </td>\n        </tr>\n        <tr>\n            <td>Spring 2021</td> <td>12.38   </td> <td>20         </td> <td>0.114007       </td> <td>0.0414953         </td>\n        </tr>\n        <tr>\n            <td>Spring 2021</td> <td>18.05   </td> <td>16         </td> <td>0.170038       </td> <td>0.0487575         </td>\n        </tr>\n        <tr>\n            <td>Spring 2021</td> <td>16.71   </td> <td>22.5       </td> <td>0.151293       </td> <td>0.0626675         </td>\n        </tr>\n        <tr>\n            <td>Spring 2021</td> <td>18.05   </td> <td>15         </td> <td>0.170863       </td> <td>0.0457825         </td>\n        </tr>\n        <tr>\n            <td>Spring 2021</td> <td>18.05   </td> <td>16         </td> <td>0.170038       </td> <td>0.0487575         </td>\n        </tr>\n        <tr>\n            <td>Spring 2021</td> <td>18.05   </td> <td>17         </td> <td>0.169161       </td> <td>0.0517176         </td>\n        </tr>\n        <tr>\n            <td>Spring 2021</td> <td>23.72   </td> <td>10         </td> <td>0.228924       </td> <td>0.0403656         </td>\n        </tr>\n        <tr>\n            <td>Spring 2021</td> <td>23.72   </td> <td>11         </td> <td>0.228185       </td> <td>0.0443547         </td>\n        </tr>\n        <tr>\n            <td>Spring 2021</td> <td>12.38   </td> <td>20         </td> <td>0.114007       </td> <td>0.0414953         </td>\n        </tr>\n        <tr>\n            <td>Spring 2021</td> <td>6.71    </td> <td>37.5       </td> <td>0.0521693      </td> <td>0.0400309         </td>\n        </tr>\n        <tr>\n            <td>Spring 2021</td> <td>23.72   </td> <td>11         </td> <td>0.228185       </td> <td>0.0443547         </td>\n        </tr>\n        <tr>\n            <td>Spring 2021</td> <td>11.21   </td> <td>30         </td> <td>0.0951398      </td> <td>0.054929          </td>\n        </tr>\n        <tr>\n            <td>Spring 2021</td> <td>7.0874  </td> <td>24         </td> <td>0.0634517      </td> <td>0.0282505         </td>\n        </tr>\n        <tr>\n            <td>Spring 2021</td> <td>15.81   </td> <td>25         </td> <td>0.140422       </td> <td>0.0654796         </td>\n        </tr>\n        <tr>\n            <td>Spring 2021</td> <td>33.5    </td> <td>16         </td> <td>0.315582       </td> <td>0.0904917         </td>\n        </tr>\n        <tr>\n            <td>Spring 2021</td> <td>26.8    </td> <td>20         </td> <td>0.246801       </td> <td>0.0898282         </td>\n        </tr>\n        <tr>\n            <td>Spring 2021</td> <td>14.1748 </td> <td>23         </td> <td>0.12787        </td> <td>0.0542776         </td>\n        </tr>\n        <tr>\n            <td>Spring 2021</td> <td>49.6    </td> <td>15         </td> <td>0.469517       </td> <td>0.125807          </td>\n        </tr>\n        <tr>\n            <td>Spring 2021</td> <td>40.73   </td> <td>15         </td> <td>0.385553       </td> <td>0.103309          </td>\n        </tr>\n        <tr>\n            <td>Spring 2021</td> <td>11.89   </td> <td>8          </td> <td>0.115388       </td> <td>0.0162167         </td>\n        </tr>\n        <tr>\n            <td>Spring 2021</td> <td>52.07   </td> <td>20         </td> <td>0.479512       </td> <td>0.174528          </td>\n        </tr>\n        <tr>\n            <td>Spring 2021</td> <td>12.38   </td> <td>30         </td> <td>0.10507        </td> <td>0.060662          </td>\n        </tr>\n        <tr>\n            <td>Spring 2021</td> <td>11.34   </td> <td>22         </td> <td>0.10304        </td> <td>0.0416308         </td>\n        </tr>\n        <tr>\n            <td>Spring 2021</td> <td>17.01   </td> <td>17         </td> <td>0.159414       </td> <td>0.0487378         </td>\n        </tr>\n        <tr>\n            <td>Spring 2021</td> <td>7       </td> <td>20         </td> <td>0.0644629      </td> <td>0.0234626         </td>\n        </tr>\n        <tr>\n            <td>Spring 2021</td> <td>14      </td> <td>13         </td> <td>0.133684       </td> <td>0.0308633         </td>\n        </tr>\n        <tr>\n            <td>Spring 2021</td> <td>21      </td> <td>8          </td> <td>0.203797       </td> <td>0.0286418         </td>\n        </tr>\n        <tr>\n            <td>Spring 2021</td> <td>8.978   </td> <td>25         </td> <td>0.0797409      </td> <td>0.0371838         </td>\n        </tr>\n        <tr>\n            <td>Spring 2021</td> <td>12.38   </td> <td>30         </td> <td>0.10507        </td> <td>0.060662          </td>\n        </tr>\n        <tr>\n            <td>Spring 2021</td> <td>18.05   </td> <td>22         </td> <td>0.16401        </td> <td>0.0662642         </td>\n        </tr>\n        <tr>\n            <td>Spring 2021</td> <td>15      </td> <td>19         </td> <td>0.138991       </td> <td>0.0478585         </td>\n        </tr>\n        <tr>\n            <td>Spring 2021</td> <td>23.72   </td> <td>17         </td> <td>0.222299       </td> <td>0.0679636         </td>\n        </tr>\n        <tr>\n            <td>Spring 2021</td> <td>12.38   </td> <td>27         </td> <td>0.1081         </td> <td>0.0550799         </td>\n        </tr>\n        <tr>\n            <td>Spring 2021</td> <td>18.05   </td> <td>23         </td> <td>0.162828       </td> <td>0.0691164         </td>\n        </tr>\n        <tr>\n            <td>Spring 2021</td> <td>22.59   </td> <td>20         </td> <td>0.208031       </td> <td>0.0757171         </td>\n        </tr>\n        <tr>\n            <td>Spring 2021</td> <td>6.71    </td> <td>35         </td> <td>0.0538658      </td> <td>0.0377172         </td>\n        </tr>\n        <tr>\n            <td>Spring 2021</td> <td>6.71    </td> <td>37.5       </td> <td>0.0521693      </td> <td>0.0400309         </td>\n        </tr>\n        <tr>\n            <td>Spring 2021</td> <td>6.71    </td> <td>35         </td> <td>0.0538658      </td> <td>0.0377172         </td>\n        </tr>\n        <tr>\n            <td>Spring 2021</td> <td>22.68   </td> <td>19         </td> <td>0.210155       </td> <td>0.0723621         </td>\n        </tr>\n        <tr>\n            <td>Spring 2021</td> <td>12.5    </td> <td>48         </td> <td>0.0819685      </td> <td>0.0910352         </td>\n        </tr>\n        <tr>\n            <td>Spring 2021</td> <td>19.21   </td> <td>48         </td> <td>0.125969       </td> <td>0.139903          </td>\n        </tr>\n        <tr>\n            <td>Spring 2021</td> <td>28.35   </td> <td>13         </td> <td>0.270709       </td> <td>0.0624982         </td>\n        </tr>\n        <tr>\n            <td>Spring 2021</td> <td>56.7    </td> <td>10         </td> <td>0.547218       </td> <td>0.0964893         </td>\n        </tr>\n        <tr>\n            <td>Spring 2021</td> <td>14.2    </td> <td>30         </td> <td>0.120516       </td> <td>0.06958           </td>\n        </tr>\n        <tr>\n            <td>Spring 2021</td> <td>12.93   </td> <td>25         </td> <td>0.114842       </td> <td>0.0535517         </td>\n        </tr>\n        <tr>\n            <td>Spring 2021</td> <td>11.71   </td> <td>25         </td> <td>0.104006       </td> <td>0.0484988         </td>\n        </tr>\n        <tr>\n            <td>Spring 2021</td> <td>16.63   </td> <td>10         </td> <td>0.160498       </td> <td>0.0283001         </td>\n        </tr>\n        <tr>\n            <td>Spring 2021</td> <td>19.15   </td> <td>14         </td> <td>0.182095       </td> <td>0.0454015         </td>\n        </tr>\n        <tr>\n            <td>Spring 2021</td> <td>16.04   </td> <td>22         </td> <td>0.145746       </td> <td>0.0588852         </td>\n        </tr>\n        <tr>\n            <td>Spring 2021</td> <td>12.38   </td> <td>21         </td> <td>0.113266       </td> <td>0.0434786         </td>\n        </tr>\n        <tr>\n            <td>Spring 2021</td> <td>18.05   </td> <td>20         </td> <td>0.166222       </td> <td>0.0604999         </td>\n        </tr>\n        <tr>\n            <td>Spring 2021</td> <td>23.72   </td> <td>16         </td> <td>0.223451       </td> <td>0.0640736         </td>\n        </tr>\n        <tr>\n            <td>Spring 2021</td> <td>29.39   </td> <td>15         </td> <td>0.278208       </td> <td>0.0745456         </td>\n        </tr>\n        <tr>\n            <td>Spring 2021</td> <td>12.38   </td> <td>25         </td> <td>0.109957       </td> <td>0.0512737         </td>\n        </tr>\n        <tr>\n            <td>Spring 2021</td> <td>9.21    </td> <td>22         </td> <td>0.0836858      </td> <td>0.0338112         </td>\n        </tr>\n        <tr>\n            <td>Spring 2021</td> <td>11.71   </td> <td>18         </td> <td>0.109141       </td> <td>0.0354622         </td>\n        </tr>\n        <tr>\n            <td>Spring 2021</td> <td>7.53    </td> <td>30         </td> <td>0.0639075      </td> <td>0.036897          </td>\n        </tr>\n        <tr>\n            <td>Spring 2021</td> <td>12.61   </td> <td>20         </td> <td>0.116125       </td> <td>0.0422662         </td>\n        </tr>\n        <tr>\n            <td>Spring 2021</td> <td>8.978   </td> <td>19         </td> <td>0.0831909      </td> <td>0.0286449         </td>\n        </tr>\n        <tr>\n            <td>Spring 2021</td> <td>11      </td> <td>22         </td> <td>0.0999504      </td> <td>0.0403826         </td>\n        </tr>\n        <tr>\n            <td>Spring 2021</td> <td>11.82   </td> <td>25         </td> <td>0.104983       </td> <td>0.0489544         </td>\n        </tr>\n        <tr>\n            <td>Spring 2021</td> <td>22      </td> <td>17.5       </td> <td>0.205621       </td> <td>0.0648322         </td>\n        </tr>\n        <tr>\n            <td>Spring 2021</td> <td>35      </td> <td>14         </td> <td>0.332811       </td> <td>0.0829792         </td>\n        </tr>\n        <tr>\n            <td>Spring 2021</td> <td>9.21    </td> <td>30         </td> <td>0.0781657      </td> <td>0.045129          </td>\n        </tr>\n        <tr>\n            <td>Spring 2021</td> <td>9.01    </td> <td>35         </td> <td>0.0723295      </td> <td>0.0506457         </td>\n        </tr>\n        <tr>\n            <td>Spring 2021</td> <td>12.38   </td> <td>25         </td> <td>0.109957       </td> <td>0.0512737         </td>\n        </tr>\n        <tr>\n            <td>Spring 2021</td> <td>11.51   </td> <td>25         </td> <td>0.10223        </td> <td>0.0476705         </td>\n        </tr>\n        <tr>\n            <td>Spring 2021</td> <td>11.7    </td> <td>25         </td> <td>0.103917       </td> <td>0.0484574         </td>\n        </tr>\n        <tr>\n            <td>Spring 2021</td> <td>7.938   </td> <td>32         </td> <td>0.0659717      </td> <td>0.0412237         </td>\n        </tr>\n        <tr>\n            <td>Spring 2021</td> <td>11.47   </td> <td>30         </td> <td>0.0973465      </td> <td>0.056203          </td>\n        </tr>\n        <tr>\n            <td>Spring 2021</td> <td>11.246  </td> <td>10         </td> <td>0.108536       </td> <td>0.0191379         </td>\n        </tr>\n        <tr>\n            <td>Spring 2021</td> <td>8.978   </td> <td>20         </td> <td>0.0826783      </td> <td>0.0300924         </td>\n        </tr>\n        <tr>\n            <td>Spring 2021</td> <td>20      </td> <td>25         </td> <td>0.177636       </td> <td>0.0828332         </td>\n        </tr>\n        <tr>\n            <td>Spring 2021</td> <td>8       </td> <td>22         </td> <td>0.0726912      </td> <td>0.0293692         </td>\n        </tr>\n        <tr>\n            <td>Spring 2021</td> <td>12.38   </td> <td>17         </td> <td>0.116023       </td> <td>0.0354717         </td>\n        </tr>\n        <tr>\n            <td>Spring 2021</td> <td>18.05   </td> <td>20         </td> <td>0.166222       </td> <td>0.0604999         </td>\n        </tr>\n        <tr>\n            <td>Spring 2021</td> <td>23.72   </td> <td>23         </td> <td>0.213977       </td> <td>0.0908278         </td>\n        </tr>\n        <tr>\n            <td>Spring 2021</td> <td>9.71    </td> <td>40         </td> <td>0.0728953      </td> <td>0.0611664         </td>\n        </tr>\n        <tr>\n            <td>Spring 2021</td> <td>36.71   </td> <td>20         </td> <td>0.338062       </td> <td>0.123044          </td>\n        </tr>\n        <tr>\n            <td>Spring 2021</td> <td>22.6796 </td> <td>35         </td> <td>0.182065       </td> <td>0.127483          </td>\n        </tr>\n        <tr>\n            <td>Spring 2021</td> <td>18.05   </td> <td>18.5       </td> <td>0.167749       </td> <td>0.056128          </td>\n        </tr>\n        <tr>\n            <td>Spring 2021</td> <td>23.72   </td> <td>22.5       </td> <td>0.214761       </td> <td>0.0889571         </td>\n        </tr>\n        <tr>\n            <td>Spring 2021</td> <td>18.05   </td> <td>25         </td> <td>0.160317       </td> <td>0.0747569         </td>\n        </tr>\n        <tr>\n            <td>Spring 2021</td> <td>11.478  </td> <td>25         </td> <td>0.101945       </td> <td>0.047538          </td>\n        </tr>\n        <tr>\n            <td>Spring 2021</td> <td>12.38   </td> <td>18         </td> <td>0.115386       </td> <td>0.0374912         </td>\n        </tr>\n        <tr>\n            <td>Spring 2021</td> <td>30      </td> <td>15         </td> <td>0.283982       </td> <td>0.0760928         </td>\n        </tr>\n        <tr>\n            <td>Spring 2021</td> <td>18.05   </td> <td>25         </td> <td>0.160317       </td> <td>0.0747569         </td>\n        </tr>\n        <tr>\n            <td>Spring 2021</td> <td>52      </td> <td>7          </td> <td>0.505802       </td> <td>0.0621046         </td>\n        </tr>\n        <tr>\n            <td>Spring 2021</td> <td>12.38   </td> <td>30         </td> <td>0.10507        </td> <td>0.060662          </td>\n        </tr>\n        <tr>\n            <td>Spring 2021</td> <td>6.71    </td> <td>45         </td> <td>0.0464979      </td> <td>0.0464979         </td>\n        </tr>\n        <tr>\n            <td>Spring 2021</td> <td>20.8848 </td> <td>20         </td> <td>0.192328       </td> <td>0.0700016         </td>\n        </tr>\n        <tr>\n            <td>Spring 2021</td> <td>35.0596 </td> <td>13         </td> <td>0.334778       </td> <td>0.0772896         </td>\n        </tr>\n        <tr>\n            <td>Spring 2021</td> <td>6.71    </td> <td>25         </td> <td>0.059597       </td> <td>0.0277905         </td>\n        </tr>\n        <tr>\n            <td>Spring 2021</td> <td>6.71    </td> <td>25         </td> <td>0.059597       </td> <td>0.0277905         </td>\n        </tr>\n        <tr>\n            <td>Spring 2021</td> <td>6.71    </td> <td>20         </td> <td>0.0617923      </td> <td>0.0224906         </td>\n        </tr>\n        <tr>\n            <td>Spring 2021</td> <td>53      </td> <td>15         </td> <td>0.501702       </td> <td>0.134431          </td>\n        </tr>\n        <tr>\n            <td>Spring 2021</td> <td>12.3    </td> <td>25         </td> <td>0.109246       </td> <td>0.0509424         </td>\n        </tr>\n        <tr>\n            <td>Spring 2021</td> <td>17.9    </td> <td>22.5       </td> <td>0.162067       </td> <td>0.0671303         </td>\n        </tr>\n        <tr>\n            <td>Spring 2021</td> <td>11.71   </td> <td>24         </td> <td>0.104837       </td> <td>0.0466763         </td>\n        </tr>\n        <tr>\n            <td>Spring 2021</td> <td>16.71   </td> <td>22.5       </td> <td>0.151293       </td> <td>0.0626675         </td>\n        </tr>\n        <tr>\n            <td>Spring 2021</td> <td>21.71   </td> <td>19.5       </td> <td>0.200555       </td> <td>0.0710201         </td>\n        </tr>\n        <tr>\n            <td>Spring 2021</td> <td>10      </td> <td>27         </td> <td>0.0873186      </td> <td>0.0444911         </td>\n        </tr>\n        <tr>\n            <td>Spring 2021</td> <td>6.71    </td> <td>26         </td> <td>0.0591029      </td> <td>0.0288264         </td>\n        </tr>\n        <tr>\n            <td>Spring 2021</td> <td>12.38   </td> <td>20         </td> <td>0.114007       </td> <td>0.0414953         </td>\n        </tr>\n        <tr>\n            <td>Spring 2021</td> <td>23.72   </td> <td>15         </td> <td>0.224535       </td> <td>0.060164          </td>\n        </tr>\n        <tr>\n            <td>Spring 2021</td> <td>23.72   </td> <td>15         </td> <td>0.224535       </td> <td>0.060164          </td>\n        </tr>\n        <tr>\n            <td>Spring 2021</td> <td>29.39   </td> <td>20         </td> <td>0.270652       </td> <td>0.0985093         </td>\n        </tr>\n        <tr>\n            <td>Spring 2021</td> <td>35.06   </td> <td>22.5       </td> <td>0.317434       </td> <td>0.131485          </td>\n        </tr>\n        <tr>\n            <td>Spring 2021</td> <td>46.4    </td> <td>25         </td> <td>0.412116       </td> <td>0.192173          </td>\n        </tr>\n        <tr>\n            <td>Spring 2021</td> <td>40.73   </td> <td>22.5       </td> <td>0.36877        </td> <td>0.15275           </td>\n        </tr>\n        <tr>\n            <td>Spring 2021</td> <td>52.07   </td> <td>25         </td> <td>0.462476       </td> <td>0.215656          </td>\n        </tr>\n        <tr>\n            <td>Spring 2021</td> <td>11.71   </td> <td>19         </td> <td>0.108506       </td> <td>0.0373616         </td>\n        </tr>\n        <tr>\n            <td>Spring 2021</td> <td>16.71   </td> <td>16         </td> <td>0.157414       </td> <td>0.0451378         </td>\n        </tr>\n        <tr>\n            <td>Spring 2021</td> <td>21.71   </td> <td>17         </td> <td>0.203461       </td> <td>0.0622044         </td>\n        </tr>\n        <tr>\n            <td>Spring 2021</td> <td>18.05   </td> <td>17         </td> <td>0.169161       </td> <td>0.0517176         </td>\n        </tr>\n        <tr>\n            <td>Spring 2021</td> <td>29.39   </td> <td>12         </td> <td>0.281728       </td> <td>0.0598831         </td>\n        </tr>\n        <tr>\n            <td>Spring 2021</td> <td>40.73   </td> <td>7          </td> <td>0.396179       </td> <td>0.0486446         </td>\n        </tr>\n        <tr>\n            <td>Spring 2021</td> <td>56.7    </td> <td>15         </td> <td>0.536726       </td> <td>0.143815          </td>\n        </tr>\n        <tr>\n            <td>Spring 2021</td> <td>11.5    </td> <td>20         </td> <td>0.105903       </td> <td>0.0385457         </td>\n        </tr>\n        <tr>\n            <td>Spring 2021</td> <td>34.5    </td> <td>15         </td> <td>0.32658        </td> <td>0.0875067         </td>\n        </tr>\n        <tr>\n            <td>Spring 2021</td> <td>57.5    </td> <td>11         </td> <td>0.553147       </td> <td>0.107521          </td>\n        </tr>\n        <tr>\n            <td>Spring 2021</td> <td>13.21   </td> <td>21         </td> <td>0.120859       </td> <td>0.0463936         </td>\n        </tr>\n        <tr>\n            <td>Spring 2021</td> <td>19.71   </td> <td>20         </td> <td>0.181509       </td> <td>0.0660639         </td>\n        </tr>\n        <tr>\n            <td>Spring 2021</td> <td>26.21   </td> <td>18         </td> <td>0.244286       </td> <td>0.0793735         </td>\n        </tr>\n        <tr>\n            <td>Spring 2021</td> <td>12.38   </td> <td>23.5       </td> <td>0.111261       </td> <td>0.0483778         </td>\n        </tr>\n        <tr>\n            <td>Spring 2021</td> <td>18.05   </td> <td>21.5       </td> <td>0.164582       </td> <td>0.0648304         </td>\n        </tr>\n        <tr>\n            <td>Spring 2021</td> <td>23.72   </td> <td>19.5       </td> <td>0.219123       </td> <td>0.0775954         </td>\n        </tr>\n        <tr>\n            <td>Spring 2021</td> <td>12.38   </td> <td>14         </td> <td>0.11772        </td> <td>0.0293509         </td>\n        </tr>\n        <tr>\n            <td>Spring 2021</td> <td>18.05   </td> <td>10         </td> <td>0.174203       </td> <td>0.0307166         </td>\n        </tr>\n        <tr>\n            <td>Spring 2021</td> <td>23.72   </td> <td>6          </td> <td>0.231183       </td> <td>0.0242983         </td>\n        </tr>\n        <tr>\n            <td>Spring 2021</td> <td>9.21    </td> <td>32         </td> <td>0.0765431      </td> <td>0.0478295         </td>\n        </tr>\n        <tr>\n            <td>Spring 2021</td> <td>11.71   </td> <td>28         </td> <td>0.101325       </td> <td>0.0538756         </td>\n        </tr>\n        <tr>\n            <td>Spring 2021</td> <td>12.38   </td> <td>26         </td> <td>0.109045       </td> <td>0.0531849         </td>\n        </tr>\n        <tr>\n            <td>Spring 2021</td> <td>18.05   </td> <td>17         </td> <td>0.169161       </td> <td>0.0517176         </td>\n        </tr>\n        <tr>\n            <td>Spring 2021</td> <td>5.67    </td> <td>23         </td> <td>0.0511488      </td> <td>0.0217114         </td>\n        </tr>\n        <tr>\n            <td>Spring 2021</td> <td>8.978   </td> <td>29         </td> <td>0.0769529      </td> <td>0.0426557         </td>\n        </tr>\n        <tr>\n            <td>Spring 2021</td> <td>6.71    </td> <td>25         </td> <td>0.059597       </td> <td>0.0277905         </td>\n        </tr>\n        <tr>\n            <td>Spring 2021</td> <td>12.38   </td> <td>20         </td> <td>0.114007       </td> <td>0.0414953         </td>\n        </tr>\n        <tr>\n            <td>Spring 2021</td> <td>18.05   </td> <td>35         </td> <td>0.1449         </td> <td>0.10146           </td>\n        </tr>\n        <tr>\n            <td>Spring 2021</td> <td>18.05   </td> <td>16         </td> <td>0.170038       </td> <td>0.0487575         </td>\n        </tr>\n        <tr>\n            <td>Spring 2021</td> <td>12.38   </td> <td>24         </td> <td>0.110835       </td> <td>0.0493469         </td>\n        </tr>\n        <tr>\n            <td>Spring 2021</td> <td>8.978   </td> <td>31         </td> <td>0.0754174      </td> <td>0.0453153         </td>\n        </tr>\n        <tr>\n            <td>Spring 2021</td> <td>11.81   </td> <td>25         </td> <td>0.104894       </td> <td>0.048913          </td>\n        </tr>\n        <tr>\n            <td>Spring 2021</td> <td>17.21   </td> <td>26         </td> <td>0.151589       </td> <td>0.0739348         </td>\n        </tr>\n        <tr>\n            <td>Spring 2021</td> <td>26.61   </td> <td>23         </td> <td>0.240047       </td> <td>0.101894          </td>\n        </tr>\n        <tr>\n            <td>Spring 2021</td> <td>6.71    </td> <td>40         </td> <td>0.0503736      </td> <td>0.0422684         </td>\n        </tr>\n        <tr>\n            <td>Spring 2021</td> <td>11.71   </td> <td>32.5       </td> <td>0.0967859      </td> <td>0.0616594         </td>\n        </tr>\n        <tr>\n            <td>Spring 2021</td> <td>16.7    </td> <td>27.5       </td> <td>0.145168       </td> <td>0.0755698         </td>\n        </tr>\n        <tr>\n            <td>Spring 2021</td> <td>23.72   </td> <td>17.5       </td> <td>0.221697       </td> <td>0.0699009         </td>\n        </tr>\n        <tr>\n            <td>Spring 2021</td> <td>40.73   </td> <td>15         </td> <td>0.385553       </td> <td>0.103309          </td>\n        </tr>\n        <tr>\n            <td>Spring 2021</td> <td>57.74   </td> <td>12.5       </td> <td>0.552439       </td> <td>0.122473          </td>\n        </tr>\n        <tr>\n            <td>Spring 2021</td> <td>23.52   </td> <td>15         </td> <td>0.222642       </td> <td>0.0596568         </td>\n        </tr>\n        <tr>\n            <td>Spring 2021</td> <td>22.01   </td> <td>19.5       </td> <td>0.203326       </td> <td>0.0720015         </td>\n        </tr>\n        <tr>\n            <td>Spring 2021</td> <td>12.32   </td> <td>24.3       </td> <td>0.110039       </td> <td>0.0496846         </td>\n        </tr>\n        <tr>\n            <td>Spring 2021</td> <td>10.32   </td> <td>28.7       </td> <td>0.0887111      </td> <td>0.0485679         </td>\n        </tr>\n        <tr>\n            <td>Spring 2021</td> <td>12.38   </td> <td>26         </td> <td>0.109045       </td> <td>0.0531849         </td>\n        </tr>\n        <tr>\n            <td>Spring 2021</td> <td>18.05   </td> <td>21         </td> <td>0.165141       </td> <td>0.0633917         </td>\n        </tr>\n        <tr>\n            <td>Spring 2021</td> <td>18.05   </td> <td>17         </td> <td>0.169161       </td> <td>0.0517176         </td>\n        </tr>\n        <tr>\n            <td>Spring 2021</td> <td>16.608  </td> <td>20         </td> <td>0.152943       </td> <td>0.0556667         </td>\n        </tr>\n        <tr>\n            <td>Spring 2021</td> <td>27.046  </td> <td>15         </td> <td>0.256019       </td> <td>0.0686002         </td>\n        </tr>\n        <tr>\n            <td>Spring 2021</td> <td>37.716  </td> <td>12.5       </td> <td>0.360855       </td> <td>0.0799997         </td>\n        </tr>\n        <tr>\n            <td>Spring 2021</td> <td>21      </td> <td>4          </td> <td>0.205299       </td> <td>0.0143559         </td>\n        </tr>\n        <tr>\n            <td>Spring 2021</td> <td>8.1     </td> <td>20         </td> <td>0.0745928      </td> <td>0.0271496         </td>\n        </tr>\n        <tr>\n            <td>Spring 2021</td> <td>16.2    </td> <td>10         </td> <td>0.156348       </td> <td>0.0275684         </td>\n        </tr>\n        <tr>\n            <td>Spring 2021</td> <td>24.3    </td> <td>8          </td> <td>0.235822       </td> <td>0.0331427         </td>\n        </tr>\n        <tr>\n            <td>Spring 2021</td> <td>12.38   </td> <td>25         </td> <td>0.109957       </td> <td>0.0512737         </td>\n        </tr>\n        <tr>\n            <td>Spring 2021</td> <td>18.05   </td> <td>25         </td> <td>0.160317       </td> <td>0.0747569         </td>\n        </tr>\n        <tr>\n            <td>Spring 2021</td> <td>23.72   </td> <td>20         </td> <td>0.218437       </td> <td>0.0795046         </td>\n        </tr>\n        <tr>\n            <td>Spring 2021</td> <td>29.39   </td> <td>10         </td> <td>0.283646       </td> <td>0.0500145         </td>\n        </tr>\n        <tr>\n            <td>Spring 2021</td> <td>18.05   </td> <td>5          </td> <td>0.176217       </td> <td>0.015417          </td>\n        </tr>\n        <tr>\n            <td>Spring 2021</td> <td>12.38   </td> <td>10         </td> <td>0.119481       </td> <td>0.0210677         </td>\n        </tr>\n        <tr>\n            <td>Spring 2021</td> <td>9.21    </td> <td>20         </td> <td>0.0848148      </td> <td>0.0308701         </td>\n        </tr>\n        <tr>\n            <td>Spring 2021</td> <td>5.67    </td> <td>25         </td> <td>0.0503599      </td> <td>0.0234832         </td>\n        </tr>\n        <tr>\n            <td>Spring 2021</td> <td>11.34   </td> <td>18         </td> <td>0.105693       </td> <td>0.0343417         </td>\n        </tr>\n        <tr>\n            <td>Spring 2021</td> <td>17.01   </td> <td>15         </td> <td>0.161018       </td> <td>0.0431446         </td>\n        </tr>\n        <tr>\n            <td>Spring 2021</td> <td>11.71   </td> <td>20         </td> <td>0.107837       </td> <td>0.0392495         </td>\n        </tr>\n        <tr>\n            <td>Spring 2021</td> <td>16.71   </td> <td>23         </td> <td>0.15074        </td> <td>0.0639853         </td>\n        </tr>\n        <tr>\n            <td>Spring 2021</td> <td>21.71   </td> <td>17         </td> <td>0.203461       </td> <td>0.0622044         </td>\n        </tr>\n        <tr>\n            <td>Spring 2021</td> <td>6.71    </td> <td>40         </td> <td>0.0503736      </td> <td>0.0422684         </td>\n        </tr>\n        <tr>\n            <td>Spring 2021</td> <td>11.8    </td> <td>19.2       </td> <td>0.109208       </td> <td>0.0380301         </td>\n        </tr>\n        <tr>\n            <td>Spring 2021</td> <td>6.71    </td> <td>25         </td> <td>0.059597       </td> <td>0.0277905         </td>\n        </tr>\n        <tr>\n            <td>Spring 2021</td> <td>12.38   </td> <td>22         </td> <td>0.11249        </td> <td>0.0454488         </td>\n        </tr>\n        <tr>\n            <td>Spring 2021</td> <td>18.05   </td> <td>23         </td> <td>0.162828       </td> <td>0.0691164         </td>\n        </tr>\n        <tr>\n            <td>Spring 2021</td> <td>6.71    </td> <td>30         </td> <td>0.0569481      </td> <td>0.032879          </td>\n        </tr>\n        <tr>\n            <td>Spring 2021</td> <td>12.38   </td> <td>26         </td> <td>0.109045       </td> <td>0.0531849         </td>\n        </tr>\n        <tr>\n            <td>Spring 2021</td> <td>18.05   </td> <td>24         </td> <td>0.161597       </td> <td>0.0719476         </td>\n        </tr>\n        <tr>\n            <td>Spring 2021</td> <td>12.44   </td> <td>20         </td> <td>0.11456        </td> <td>0.0416964         </td>\n        </tr>\n        <tr>\n            <td>Spring 2021</td> <td>11.59   </td> <td>26         </td> <td>0.102087       </td> <td>0.0497911         </td>\n        </tr>\n        <tr>\n            <td>Spring 2021</td> <td>17.53   </td> <td>19         </td> <td>0.162434       </td> <td>0.0559307         </td>\n        </tr>\n        <tr>\n            <td>Spring 2021</td> <td>17      </td> <td>22         </td> <td>0.154469       </td> <td>0.0624095         </td>\n        </tr>\n        <tr>\n            <td>Spring 2021</td> <td>18.05   </td> <td>13         </td> <td>0.172356       </td> <td>0.0397916         </td>\n        </tr>\n        <tr>\n            <td>Spring 2021</td> <td>29.39   </td> <td>10         </td> <td>0.283646       </td> <td>0.0500145         </td>\n        </tr>\n        <tr>\n            <td>Spring 2021</td> <td>40.73   </td> <td>5          </td> <td>0.397635       </td> <td>0.0347886         </td>\n        </tr>\n        <tr>\n            <td>Spring 2021</td> <td>52.07   </td> <td>3          </td> <td>0.509587       </td> <td>0.0267063         </td>\n        </tr>\n        <tr>\n            <td>Spring 2021</td> <td>12.38   </td> <td>20.5       </td> <td>0.113641       </td> <td>0.0424886         </td>\n        </tr>\n        <tr>\n            <td>Spring 2021</td> <td>23.72   </td> <td>21         </td> <td>0.217016       </td> <td>0.0833048         </td>\n        </tr>\n        <tr>\n            <td>Spring 2021</td> <td>18.05   </td> <td>23         </td> <td>0.162828       </td> <td>0.0691164         </td>\n        </tr>\n        <tr>\n            <td>Spring 2021</td> <td>12.38   </td> <td>24         </td> <td>0.110835       </td> <td>0.0493469         </td>\n        </tr>\n        <tr>\n            <td>Spring 2021</td> <td>18.05   </td> <td>19         </td> <td>0.167253       </td> <td>0.0575898         </td>\n        </tr>\n        <tr>\n            <td>Spring 2021</td> <td>23.72   </td> <td>16         </td> <td>0.223451       </td> <td>0.0640736         </td>\n        </tr>\n        <tr>\n            <td>Spring 2021</td> <td>12.38   </td> <td>20         </td> <td>0.114007       </td> <td>0.0414953         </td>\n        </tr>\n        <tr>\n            <td>Spring 2021</td> <td>18.05   </td> <td>18         </td> <td>0.168232       </td> <td>0.054662          </td>\n        </tr>\n        <tr>\n            <td>Spring 2021</td> <td>23.72   </td> <td>17.5       </td> <td>0.221697       </td> <td>0.0699009         </td>\n        </tr>\n        <tr>\n            <td>Spring 2021</td> <td>6.71    </td> <td>30         </td> <td>0.0569481      </td> <td>0.032879          </td>\n        </tr>\n        <tr>\n            <td>Spring 2021</td> <td>12.38   </td> <td>30         </td> <td>0.10507        </td> <td>0.060662          </td>\n        </tr>\n        <tr>\n            <td>Spring 2021</td> <td>18.05   </td> <td>23         </td> <td>0.162828       </td> <td>0.0691164         </td>\n        </tr>\n        <tr>\n            <td>Spring 2021</td> <td>9.21    </td> <td>20         </td> <td>0.0848148      </td> <td>0.0308701         </td>\n        </tr>\n        <tr>\n            <td>Spring 2021</td> <td>6.71    </td> <td>7.5        </td> <td>0.0651954      </td> <td>0.00858314        </td>\n        </tr>\n        <tr>\n            <td>Spring 2021</td> <td>10.47   </td> <td>2.5        </td> <td>0.102508       </td> <td>0.00447561        </td>\n        </tr>\n        <tr>\n            <td>Spring 2021</td> <td>12.33   </td> <td>0          </td> <td>0.120834       </td> <td>0                 </td>\n        </tr>\n        <tr>\n            <td>Spring 2021</td> <td>18.05   </td> <td>16         </td> <td>0.170038       </td> <td>0.0487575         </td>\n        </tr>\n        <tr>\n            <td>Spring 2021</td> <td>18.05   </td> <td>23         </td> <td>0.162828       </td> <td>0.0691164         </td>\n        </tr>\n        <tr>\n            <td>Spring 2021</td> <td>18.05   </td> <td>21         </td> <td>0.165141       </td> <td>0.0633917         </td>\n        </tr>\n        <tr>\n            <td>Spring 2021</td> <td>12.38   </td> <td>25         </td> <td>0.109957       </td> <td>0.0512737         </td>\n        </tr>\n        <tr>\n            <td>Spring 2021</td> <td>18.05   </td> <td>20         </td> <td>0.166222       </td> <td>0.0604999         </td>\n        </tr>\n        <tr>\n            <td>Spring 2021</td> <td>23.72   </td> <td>16         </td> <td>0.223451       </td> <td>0.0640736         </td>\n        </tr>\n        <tr>\n            <td>Spring 2021</td> <td>18.05   </td> <td>15         </td> <td>0.170863       </td> <td>0.0457825         </td>\n        </tr>\n        <tr>\n            <td>Spring 2021</td> <td>29.39   </td> <td>10         </td> <td>0.283646       </td> <td>0.0500145         </td>\n        </tr>\n        <tr>\n            <td>Spring 2021</td> <td>53      </td> <td>12.5       </td> <td>0.507088       </td> <td>0.112419          </td>\n        </tr>\n        <tr>\n            <td>Spring 2021</td> <td>23.72   </td> <td>17         </td> <td>0.222299       </td> <td>0.0679636         </td>\n        </tr>\n        <tr>\n            <td>Spring 2021</td> <td>23.72   </td> <td>13         </td> <td>0.226498       </td> <td>0.0522912         </td>\n        </tr>\n        <tr>\n            <td>Spring 2020</td> <td>17.5    </td> <td>35         </td> <td>0.140485       </td> <td>0.0983684         </td>\n        </tr>\n        <tr>\n            <td>Spring 2020</td> <td>17.5    </td> <td>38         </td> <td>0.135144       </td> <td>0.105586          </td>\n        </tr>\n        <tr>\n            <td>Spring 2020</td> <td>17.5    </td> <td>41         </td> <td>0.129433       </td> <td>0.112514          </td>\n        </tr>\n        <tr>\n            <td>Spring 2020</td> <td>30.9    </td> <td>25         </td> <td>0.274448       </td> <td>0.127977          </td>\n        </tr>\n        <tr>\n            <td>Spring 2020</td> <td>30.9    </td> <td>25         </td> <td>0.274448       </td> <td>0.127977          </td>\n        </tr>\n        <tr>\n            <td>Spring 2020</td> <td>30.9    </td> <td>27         </td> <td>0.269815       </td> <td>0.137477          </td>\n        </tr>\n        <tr>\n            <td>Spring 2020</td> <td>44.3    </td> <td>25         </td> <td>0.393464       </td> <td>0.183475          </td>\n        </tr>\n        <tr>\n            <td>Spring 2020</td> <td>71.1    </td> <td>15         </td> <td>0.673038       </td> <td>0.18034           </td>\n        </tr>\n        <tr>\n            <td>Spring 2020</td> <td>71.1    </td> <td>10         </td> <td>0.686194       </td> <td>0.120995          </td>\n        </tr>\n        <tr>\n            <td>Spring 2020</td> <td>17.5    </td> <td>20         </td> <td>0.161157       </td> <td>0.0586565         </td>\n        </tr>\n        <tr>\n            <td>Spring 2020</td> <td>17.5    </td> <td>30         </td> <td>0.148523       </td> <td>0.08575           </td>\n        </tr>\n        <tr>\n            <td>Spring 2020</td> <td>17.5    </td> <td>30         </td> <td>0.148523       </td> <td>0.08575           </td>\n        </tr>\n        <tr>\n            <td>Spring 2020</td> <td>30.9    </td> <td>28         </td> <td>0.267374       </td> <td>0.142165          </td>\n        </tr>\n        <tr>\n            <td>Spring 2020</td> <td>30.9    </td> <td>25         </td> <td>0.274448       </td> <td>0.127977          </td>\n        </tr>\n        <tr>\n            <td>Spring 2020</td> <td>30.9    </td> <td>25         </td> <td>0.274448       </td> <td>0.127977          </td>\n        </tr>\n        <tr>\n            <td>Spring 2020</td> <td>44.3    </td> <td>20         </td> <td>0.407958       </td> <td>0.148485          </td>\n        </tr>\n        <tr>\n            <td>Spring 2020</td> <td>44.3    </td> <td>20         </td> <td>0.407958       </td> <td>0.148485          </td>\n        </tr>\n        <tr>\n            <td>Spring 2020</td> <td>44.3    </td> <td>25         </td> <td>0.393464       </td> <td>0.183475          </td>\n        </tr>\n        <tr>\n            <td>Spring 2020</td> <td>17.5    </td> <td>30         </td> <td>0.148523       </td> <td>0.08575           </td>\n        </tr>\n        <tr>\n            <td>Spring 2020</td> <td>17.5    </td> <td>25         </td> <td>0.155432       </td> <td>0.072479          </td>\n        </tr>\n        <tr>\n            <td>Spring 2020</td> <td>17.5    </td> <td>24         </td> <td>0.156673       </td> <td>0.0697553         </td>\n        </tr>\n        <tr>\n            <td>Spring 2020</td> <td>30.9    </td> <td>22         </td> <td>0.28077        </td> <td>0.113438          </td>\n        </tr>\n        <tr>\n            <td>Spring 2020</td> <td>30.9    </td> <td>28         </td> <td>0.267374       </td> <td>0.142165          </td>\n        </tr>\n        <tr>\n            <td>Spring 2020</td> <td>30.9    </td> <td>26         </td> <td>0.272173       </td> <td>0.132748          </td>\n        </tr>\n        <tr>\n            <td>Spring 2020</td> <td>44.3    </td> <td>20         </td> <td>0.407958       </td> <td>0.148485          </td>\n        </tr>\n        <tr>\n            <td>Spring 2020</td> <td>44.3    </td> <td>22         </td> <td>0.402528       </td> <td>0.162632          </td>\n        </tr>\n        <tr>\n            <td>Spring 2020</td> <td>57.7    </td> <td>18         </td> <td>0.537784       </td> <td>0.174737          </td>\n        </tr>\n        <tr>\n            <td>Spring 2020</td> <td>57.7    </td> <td>17         </td> <td>0.540752       </td> <td>0.165325          </td>\n        </tr>\n        <tr>\n            <td>Spring 2020</td> <td>57.7    </td> <td>18         </td> <td>0.537784       </td> <td>0.174737          </td>\n        </tr>\n        <tr>\n            <td>Spring 2020</td> <td>17.5    </td> <td>24         </td> <td>0.156673       </td> <td>0.0697553         </td>\n        </tr>\n        <tr>\n            <td>Spring 2020</td> <td>17.5    </td> <td>20         </td> <td>0.161157       </td> <td>0.0586565         </td>\n        </tr>\n        <tr>\n            <td>Spring 2020</td> <td>17.5    </td> <td>20         </td> <td>0.161157       </td> <td>0.0586565         </td>\n        </tr>\n        <tr>\n            <td>Spring 2020</td> <td>30.9    </td> <td>25         </td> <td>0.274448       </td> <td>0.127977          </td>\n        </tr>\n        <tr>\n            <td>Spring 2020</td> <td>30.9    </td> <td>24         </td> <td>0.27664        </td> <td>0.123168          </td>\n        </tr>\n        <tr>\n            <td>Spring 2020</td> <td>30.9    </td> <td>24         </td> <td>0.27664        </td> <td>0.123168          </td>\n        </tr>\n        <tr>\n            <td>Spring 2020</td> <td>44.3    </td> <td>15         </td> <td>0.419347       </td> <td>0.112364          </td>\n        </tr>\n        <tr>\n            <td>Spring 2020</td> <td>44.3    </td> <td>19         </td> <td>0.410487       </td> <td>0.141342          </td>\n        </tr>\n        <tr>\n            <td>Spring 2020</td> <td>44.3    </td> <td>17         </td> <td>0.41517        </td> <td>0.12693           </td>\n        </tr>\n        <tr>\n            <td>Spring 2020</td> <td>57.7    </td> <td>19         </td> <td>0.534653       </td> <td>0.184096          </td>\n        </tr>\n        <tr>\n            <td>Spring 2020</td> <td>57.7    </td> <td>15         </td> <td>0.546192       </td> <td>0.146352          </td>\n        </tr>\n        <tr>\n            <td>Spring 2020</td> <td>57.7    </td> <td>14         </td> <td>0.548663       </td> <td>0.136797          </td>\n        </tr>\n        <tr>\n            <td>Spring 2020</td> <td>17.5    </td> <td>25         </td> <td>0.155432       </td> <td>0.072479          </td>\n        </tr>\n        <tr>\n            <td>Spring 2020</td> <td>17.5    </td> <td>25         </td> <td>0.155432       </td> <td>0.072479          </td>\n        </tr>\n        <tr>\n            <td>Spring 2020</td> <td>17.5    </td> <td>21         </td> <td>0.160109       </td> <td>0.0614601         </td>\n        </tr>\n        <tr>\n            <td>Spring 2020</td> <td>30.9    </td> <td>20         </td> <td>0.284558       </td> <td>0.103571          </td>\n        </tr>\n        <tr>\n            <td>Spring 2020</td> <td>44.3    </td> <td>18         </td> <td>0.412892       </td> <td>0.134157          </td>\n        </tr>\n        <tr>\n            <td>Spring 2020</td> <td>17.5    </td> <td>47         </td> <td>0.116963       </td> <td>0.125427          </td>\n        </tr>\n        <tr>\n            <td>Spring 2020</td> <td>17.5    </td> <td>55         </td> <td>0.0983684      </td> <td>0.140485          </td>\n        </tr>\n        <tr>\n            <td>Spring 2020</td> <td>17.5    </td> <td>45         </td> <td>0.121269       </td> <td>0.121269          </td>\n        </tr>\n        <tr>\n            <td>Spring 2020</td> <td>30.9    </td> <td>37         </td> <td>0.241843       </td> <td>0.182242          </td>\n        </tr>\n        <tr>\n            <td>Spring 2020</td> <td>30.9    </td> <td>41         </td> <td>0.228541       </td> <td>0.198668          </td>\n        </tr>\n        <tr>\n            <td>Spring 2020</td> <td>30.9    </td> <td>38         </td> <td>0.238625       </td> <td>0.186435          </td>\n        </tr>\n        <tr>\n            <td>Spring 2020</td> <td>44.3    </td> <td>24         </td> <td>0.396607       </td> <td>0.176581          </td>\n        </tr>\n        <tr>\n            <td>Spring 2020</td> <td>44.3    </td> <td>25         </td> <td>0.393464       </td> <td>0.183475          </td>\n        </tr>\n        <tr>\n            <td>Spring 2020</td> <td>44.3    </td> <td>26         </td> <td>0.390202       </td> <td>0.190314          </td>\n        </tr>\n        <tr>\n            <td>Spring 2020</td> <td>17.5    </td> <td>30         </td> <td>0.148523       </td> <td>0.08575           </td>\n        </tr>\n        <tr>\n            <td>Spring 2020</td> <td>17.5    </td> <td>30         </td> <td>0.148523       </td> <td>0.08575           </td>\n        </tr>\n        <tr>\n            <td>Spring 2020</td> <td>17.5    </td> <td>30         </td> <td>0.148523       </td> <td>0.08575           </td>\n        </tr>\n        <tr>\n            <td>Spring 2020</td> <td>30.9    </td> <td>20         </td> <td>0.284558       </td> <td>0.103571          </td>\n        </tr>\n        <tr>\n            <td>Spring 2020</td> <td>30.9    </td> <td>25         </td> <td>0.274448       </td> <td>0.127977          </td>\n        </tr>\n        <tr>\n            <td>Spring 2020</td> <td>30.9    </td> <td>24         </td> <td>0.27664        </td> <td>0.123168          </td>\n        </tr>\n        <tr>\n            <td>Spring 2020</td> <td>44.3    </td> <td>27         </td> <td>0.386822       </td> <td>0.197095          </td>\n        </tr>\n        <tr>\n            <td>Spring 2020</td> <td>44.3    </td> <td>17.5       </td> <td>0.414047       </td> <td>0.130548          </td>\n        </tr>\n        <tr>\n            <td>Spring 2020</td> <td>44.3    </td> <td>19         </td> <td>0.410487       </td> <td>0.141342          </td>\n        </tr>\n        <tr>\n            <td>Spring 2020</td> <td>17.5    </td> <td>39         </td> <td>0.133281       </td> <td>0.107928          </td>\n        </tr>\n        <tr>\n            <td>Spring 2020</td> <td>17.5    </td> <td>25         </td> <td>0.155432       </td> <td>0.072479          </td>\n        </tr>\n        <tr>\n            <td>Spring 2020</td> <td>17.5    </td> <td>30         </td> <td>0.148523       </td> <td>0.08575           </td>\n        </tr>\n        <tr>\n            <td>Spring 2020</td> <td>30.9    </td> <td>20         </td> <td>0.284558       </td> <td>0.103571          </td>\n        </tr>\n        <tr>\n            <td>Spring 2020</td> <td>30.9    </td> <td>27         </td> <td>0.269815       </td> <td>0.137477          </td>\n        </tr>\n        <tr>\n            <td>Spring 2020</td> <td>30.9    </td> <td>25         </td> <td>0.274448       </td> <td>0.127977          </td>\n        </tr>\n        <tr>\n            <td>Spring 2020</td> <td>44.3    </td> <td>24         </td> <td>0.396607       </td> <td>0.176581          </td>\n        </tr>\n        <tr>\n            <td>Spring 2020</td> <td>57.7    </td> <td>20         </td> <td>0.531359       </td> <td>0.193399          </td>\n        </tr>\n        <tr>\n            <td>Spring 2020</td> <td>57.7    </td> <td>20         </td> <td>0.531359       </td> <td>0.193399          </td>\n        </tr>\n        <tr>\n            <td>Spring 2020</td> <td>17.5    </td> <td>35         </td> <td>0.140485       </td> <td>0.0983684         </td>\n        </tr>\n        <tr>\n            <td>Spring 2020</td> <td>17.5    </td> <td>30         </td> <td>0.148523       </td> <td>0.08575           </td>\n        </tr>\n        <tr>\n            <td>Spring 2020</td> <td>17.5    </td> <td>23         </td> <td>0.157867       </td> <td>0.0670104         </td>\n        </tr>\n        <tr>\n            <td>Spring 2020</td> <td>30.9    </td> <td>10         </td> <td>0.298219       </td> <td>0.0525841         </td>\n        </tr>\n        <tr>\n            <td>Spring 2020</td> <td>30.9    </td> <td>20         </td> <td>0.284558       </td> <td>0.103571          </td>\n        </tr>\n        <tr>\n            <td>Spring 2020</td> <td>30.9    </td> <td>25         </td> <td>0.274448       </td> <td>0.127977          </td>\n        </tr>\n        <tr>\n            <td>Spring 2020</td> <td>44.3    </td> <td>20         </td> <td>0.407958       </td> <td>0.148485          </td>\n        </tr>\n        <tr>\n            <td>Spring 2020</td> <td>17.5    </td> <td>35         </td> <td>0.140485       </td> <td>0.0983684         </td>\n        </tr>\n        <tr>\n            <td>Spring 2020</td> <td>17.5    </td> <td>45         </td> <td>0.121269       </td> <td>0.121269          </td>\n        </tr>\n        <tr>\n            <td>Spring 2020</td> <td>17.5    </td> <td>35         </td> <td>0.140485       </td> <td>0.0983684         </td>\n        </tr>\n        <tr>\n            <td>Spring 2020</td> <td>30.9    </td> <td>30         </td> <td>0.26225        </td> <td>0.15141           </td>\n        </tr>\n        <tr>\n            <td>Spring 2020</td> <td>30.9    </td> <td>25         </td> <td>0.274448       </td> <td>0.127977          </td>\n        </tr>\n        <tr>\n            <td>Spring 2020</td> <td>30.9    </td> <td>25         </td> <td>0.274448       </td> <td>0.127977          </td>\n        </tr>\n        <tr>\n            <td>Spring 2020</td> <td>44.3    </td> <td>20         </td> <td>0.407958       </td> <td>0.148485          </td>\n        </tr>\n        <tr>\n            <td>Spring 2020</td> <td>44.3    </td> <td>20         </td> <td>0.407958       </td> <td>0.148485          </td>\n        </tr>\n        <tr>\n            <td>Spring 2020</td> <td>44.3    </td> <td>20         </td> <td>0.407958       </td> <td>0.148485          </td>\n        </tr>\n        <tr>\n            <td>Spring 2020</td> <td>17.5    </td> <td>37         </td> <td>0.136966       </td> <td>0.103211          </td>\n        </tr>\n        <tr>\n            <td>Spring 2020</td> <td>17.5    </td> <td>30         </td> <td>0.148523       </td> <td>0.08575           </td>\n        </tr>\n        <tr>\n            <td>Spring 2020</td> <td>17.5    </td> <td>24         </td> <td>0.156673       </td> <td>0.0697553         </td>\n        </tr>\n        <tr>\n            <td>Spring 2020</td> <td>30.9    </td> <td>25         </td> <td>0.274448       </td> <td>0.127977          </td>\n        </tr>\n        <tr>\n            <td>Spring 2020</td> <td>30.9    </td> <td>26         </td> <td>0.272173       </td> <td>0.132748          </td>\n        </tr>\n        <tr>\n            <td>Spring 2020</td> <td>30.9    </td> <td>32         </td> <td>0.256806       </td> <td>0.16047           </td>\n        </tr>\n        <tr>\n            <td>Spring 2020</td> <td>44.3    </td> <td>24         </td> <td>0.396607       </td> <td>0.176581          </td>\n        </tr>\n        <tr>\n            <td>Spring 2020</td> <td>44.3    </td> <td>23         </td> <td>0.399628       </td> <td>0.169632          </td>\n        </tr>\n        <tr>\n            <td>Spring 2020</td> <td>17.5    </td> <td>34         </td> <td>0.14218        </td> <td>0.0959016         </td>\n        </tr>\n        <tr>\n            <td>Spring 2020</td> <td>17.5    </td> <td>45         </td> <td>0.121269       </td> <td>0.121269          </td>\n        </tr>\n        <tr>\n            <td>Spring 2020</td> <td>17.5    </td> <td>33         </td> <td>0.143832       </td> <td>0.0934056         </td>\n        </tr>\n        <tr>\n            <td>Spring 2020</td> <td>30.9    </td> <td>28         </td> <td>0.267374       </td> <td>0.142165          </td>\n        </tr>\n        <tr>\n            <td>Spring 2020</td> <td>30.9    </td> <td>23         </td> <td>0.278747       </td> <td>0.118321          </td>\n        </tr>\n        <tr>\n            <td>Spring 2020</td> <td>30.9    </td> <td>20         </td> <td>0.284558       </td> <td>0.103571          </td>\n        </tr>\n        <tr>\n            <td>Spring 2020</td> <td>44.3    </td> <td>19         </td> <td>0.410487       </td> <td>0.141342          </td>\n        </tr>\n        <tr>\n            <td>Spring 2020</td> <td>44.3    </td> <td>17         </td> <td>0.41517        </td> <td>0.12693           </td>\n        </tr>\n        <tr>\n            <td>Spring 2020</td> <td>44.3    </td> <td>19         </td> <td>0.410487       </td> <td>0.141342          </td>\n        </tr>\n        <tr>\n            <td>Spring 2020</td> <td>17.5    </td> <td>15         </td> <td>0.165656       </td> <td>0.0443875         </td>\n        </tr>\n        <tr>\n            <td>Spring 2020</td> <td>17.5    </td> <td>18         </td> <td>0.163106       </td> <td>0.0529964         </td>\n        </tr>\n        <tr>\n            <td>Spring 2020</td> <td>17.5    </td> <td>30         </td> <td>0.148523       </td> <td>0.08575           </td>\n        </tr>\n        <tr>\n            <td>Spring 2020</td> <td>17.5    </td> <td>15         </td> <td>0.165656       </td> <td>0.0443875         </td>\n        </tr>\n        <tr>\n            <td>Spring 2020</td> <td>44.3    </td> <td>10         </td> <td>0.427544       </td> <td>0.0753876         </td>\n        </tr>\n        <tr>\n            <td>Spring 2020</td> <td>44.3    </td> <td>10         </td> <td>0.427544       </td> <td>0.0753876         </td>\n        </tr>\n        <tr>\n            <td>Spring 2020</td> <td>44.3    </td> <td>16         </td> <td>0.417322       </td> <td>0.119665          </td>\n        </tr>\n        <tr>\n            <td>Spring 2020</td> <td>57.7    </td> <td>13         </td> <td>0.550967       </td> <td>0.127201          </td>\n        </tr>\n        <tr>\n            <td>Spring 2020</td> <td>57.7    </td> <td>13         </td> <td>0.550967       </td> <td>0.127201          </td>\n        </tr>\n        <tr>\n            <td>Spring 2020</td> <td>57.7    </td> <td>14         </td> <td>0.548663       </td> <td>0.136797          </td>\n        </tr>\n        <tr>\n            <td>Spring 2020</td> <td>17.5    </td> <td>22.5       </td> <td>0.158445       </td> <td>0.0656302         </td>\n        </tr>\n        <tr>\n            <td>Spring 2020</td> <td>17.5    </td> <td>20         </td> <td>0.161157       </td> <td>0.0586565         </td>\n        </tr>\n        <tr>\n            <td>Spring 2020</td> <td>17.5    </td> <td>25         </td> <td>0.155432       </td> <td>0.072479          </td>\n        </tr>\n        <tr>\n            <td>Spring 2020</td> <td>30.9    </td> <td>20         </td> <td>0.284558       </td> <td>0.103571          </td>\n        </tr>\n        <tr>\n            <td>Spring 2020</td> <td>30.9    </td> <td>22.5       </td> <td>0.279769       </td> <td>0.115884          </td>\n        </tr>\n        <tr>\n            <td>Spring 2020</td> <td>30.9    </td> <td>20         </td> <td>0.284558       </td> <td>0.103571          </td>\n        </tr>\n        <tr>\n            <td>Spring 2020</td> <td>44.3    </td> <td>20         </td> <td>0.407958       </td> <td>0.148485          </td>\n        </tr>\n        <tr>\n            <td>Spring 2020</td> <td>44.3    </td> <td>15         </td> <td>0.419347       </td> <td>0.112364          </td>\n        </tr>\n        <tr>\n            <td>Spring 2020</td> <td>44.3    </td> <td>15         </td> <td>0.419347       </td> <td>0.112364          </td>\n        </tr>\n        <tr>\n            <td>Spring 2020</td> <td>57.7    </td> <td>25         </td> <td>0.512481       </td> <td>0.238974          </td>\n        </tr>\n        <tr>\n            <td>Spring 2020</td> <td>57.7    </td> <td>15         </td> <td>0.546192       </td> <td>0.146352          </td>\n        </tr>\n        <tr>\n            <td>Spring 2020</td> <td>57.7    </td> <td>17.5       </td> <td>0.539289       </td> <td>0.170037          </td>\n        </tr>\n        <tr>\n            <td>Spring 2020</td> <td>44.3    </td> <td>15         </td> <td>0.419347       </td> <td>0.112364          </td>\n        </tr>\n        <tr>\n            <td>Spring 2020</td> <td>44.3    </td> <td>15         </td> <td>0.419347       </td> <td>0.112364          </td>\n        </tr>\n        <tr>\n            <td>Spring 2020</td> <td>44.3    </td> <td>17.5       </td> <td>0.414047       </td> <td>0.130548          </td>\n        </tr>\n        <tr>\n            <td>Spring 2020</td> <td>57.7    </td> <td>17.5       </td> <td>0.539289       </td> <td>0.170037          </td>\n        </tr>\n        <tr>\n            <td>Spring 2020</td> <td>57.7    </td> <td>20         </td> <td>0.531359       </td> <td>0.193399          </td>\n        </tr>\n        <tr>\n            <td>Spring 2020</td> <td>57.7    </td> <td>17.5       </td> <td>0.539289       </td> <td>0.170037          </td>\n        </tr>\n        <tr>\n            <td>Spring 2020</td> <td>17.5    </td> <td>38         </td> <td>0.135144       </td> <td>0.105586          </td>\n        </tr>\n        <tr>\n            <td>Spring 2020</td> <td>30.9    </td> <td>25         </td> <td>0.274448       </td> <td>0.127977          </td>\n        </tr>\n        <tr>\n            <td>Spring 2020</td> <td>44.3    </td> <td>20         </td> <td>0.407958       </td> <td>0.148485          </td>\n        </tr>\n        <tr>\n            <td>Spring 2020</td> <td>44.3    </td> <td>22         </td> <td>0.402528       </td> <td>0.162632          </td>\n        </tr>\n        <tr>\n            <td>Spring 2020</td> <td>57.7    </td> <td>20         </td> <td>0.531359       </td> <td>0.193399          </td>\n        </tr>\n        <tr>\n            <td>Spring 2020</td> <td>17.5    </td> <td>39         </td> <td>0.133281       </td> <td>0.107928          </td>\n        </tr>\n        <tr>\n            <td>Spring 2020</td> <td>17.5    </td> <td>38         </td> <td>0.135144       </td> <td>0.105586          </td>\n        </tr>\n        <tr>\n            <td>Spring 2020</td> <td>17.5    </td> <td>40         </td> <td>0.131377       </td> <td>0.110238          </td>\n        </tr>\n        <tr>\n            <td>Spring 2020</td> <td>30.9    </td> <td>30         </td> <td>0.26225        </td> <td>0.15141           </td>\n        </tr>\n        <tr>\n            <td>Spring 2020</td> <td>30.9    </td> <td>29         </td> <td>0.264852       </td> <td>0.14681           </td>\n        </tr>\n        <tr>\n            <td>Spring 2020</td> <td>30.9    </td> <td>30         </td> <td>0.26225        </td> <td>0.15141           </td>\n        </tr>\n        <tr>\n            <td>Spring 2020</td> <td>44.3    </td> <td>30         </td> <td>0.375976       </td> <td>0.21707           </td>\n        </tr>\n        <tr>\n            <td>Spring 2020</td> <td>44.3    </td> <td>29         </td> <td>0.379707       </td> <td>0.210475          </td>\n        </tr>\n        <tr>\n            <td>Spring 2020</td> <td>44.3    </td> <td>27         </td> <td>0.386822       </td> <td>0.197095          </td>\n        </tr>\n        <tr>\n            <td>Spring 2020</td> <td>57.7    </td> <td>25         </td> <td>0.512481       </td> <td>0.238974          </td>\n        </tr>\n        <tr>\n            <td>Spring 2020</td> <td>57.7    </td> <td>26         </td> <td>0.508232       </td> <td>0.247881          </td>\n        </tr>\n        <tr>\n            <td>Spring 2020</td> <td>57.7    </td> <td>26         </td> <td>0.508232       </td> <td>0.247881          </td>\n        </tr>\n        <tr>\n            <td>Spring 2020</td> <td>44.3    </td> <td>24         </td> <td>0.396607       </td> <td>0.176581          </td>\n        </tr>\n        <tr>\n            <td>Spring 2020</td> <td>44.3    </td> <td>27         </td> <td>0.386822       </td> <td>0.197095          </td>\n        </tr>\n        <tr>\n            <td>Spring 2020</td> <td>44.3    </td> <td>24         </td> <td>0.396607       </td> <td>0.176581          </td>\n        </tr>\n        <tr>\n            <td>Spring 2020</td> <td>57.7    </td> <td>20         </td> <td>0.531359       </td> <td>0.193399          </td>\n        </tr>\n        <tr>\n            <td>Spring 2020</td> <td>57.7    </td> <td>20         </td> <td>0.531359       </td> <td>0.193399          </td>\n        </tr>\n        <tr>\n            <td>Spring 2020</td> <td>57.7    </td> <td>20         </td> <td>0.531359       </td> <td>0.193399          </td>\n        </tr>\n        <tr>\n            <td>Spring 2020</td> <td>44.3    </td> <td>15         </td> <td>0.419347       </td> <td>0.112364          </td>\n        </tr>\n        <tr>\n            <td>Spring 2020</td> <td>44.3    </td> <td>18         </td> <td>0.412892       </td> <td>0.134157          </td>\n        </tr>\n        <tr>\n            <td>Spring 2020</td> <td>44.3    </td> <td>19         </td> <td>0.410487       </td> <td>0.141342          </td>\n        </tr>\n        <tr>\n            <td>Spring 2020</td> <td>57.7    </td> <td>18         </td> <td>0.537784       </td> <td>0.174737          </td>\n        </tr>\n        <tr>\n            <td>Spring 2020</td> <td>57.7    </td> <td>15         </td> <td>0.546192       </td> <td>0.146352          </td>\n        </tr>\n        <tr>\n            <td>Spring 2020</td> <td>57.7    </td> <td>12         </td> <td>0.553103       </td> <td>0.117566          </td>\n        </tr>\n        <tr>\n            <td>Spring 2020</td> <td>17.5    </td> <td>30         </td> <td>0.148523       </td> <td>0.08575           </td>\n        </tr>\n        <tr>\n            <td>Spring 2020</td> <td>30.9    </td> <td>10         </td> <td>0.298219       </td> <td>0.0525841         </td>\n        </tr>\n        <tr>\n            <td>Spring 2020</td> <td>30.9    </td> <td>15         </td> <td>0.292502       </td> <td>0.0783756         </td>\n        </tr>\n        <tr>\n            <td>Spring 2020</td> <td>44.3    </td> <td>18         </td> <td>0.412892       </td> <td>0.134157          </td>\n        </tr>\n        <tr>\n            <td>Spring 2020</td> <td>57.7    </td> <td>15         </td> <td>0.546192       </td> <td>0.146352          </td>\n        </tr>\n        <tr>\n            <td>Spring 2020</td> <td>17.5    </td> <td>31         </td> <td>0.147004       </td> <td>0.088329          </td>\n        </tr>\n        <tr>\n            <td>Spring 2020</td> <td>17.5    </td> <td>32         </td> <td>0.14544        </td> <td>0.0908812         </td>\n        </tr>\n        <tr>\n            <td>Spring 2020</td> <td>17.5    </td> <td>35         </td> <td>0.140485       </td> <td>0.0983684         </td>\n        </tr>\n        <tr>\n            <td>Spring 2020</td> <td>30.9    </td> <td>27         </td> <td>0.269815       </td> <td>0.137477          </td>\n        </tr>\n        <tr>\n            <td>Spring 2020</td> <td>30.9    </td> <td>27         </td> <td>0.269815       </td> <td>0.137477          </td>\n        </tr>\n        <tr>\n            <td>Spring 2020</td> <td>30.9    </td> <td>25         </td> <td>0.274448       </td> <td>0.127977          </td>\n        </tr>\n        <tr>\n            <td>Spring 2020</td> <td>44.3    </td> <td>23         </td> <td>0.399628       </td> <td>0.169632          </td>\n        </tr>\n        <tr>\n            <td>Spring 2020</td> <td>44.3    </td> <td>20         </td> <td>0.407958       </td> <td>0.148485          </td>\n        </tr>\n        <tr>\n            <td>Spring 2020</td> <td>44.3    </td> <td>22         </td> <td>0.402528       </td> <td>0.162632          </td>\n        </tr>\n        <tr>\n            <td>Spring 2020</td> <td>57.7    </td> <td>18         </td> <td>0.537784       </td> <td>0.174737          </td>\n        </tr>\n        <tr>\n            <td>Spring 2020</td> <td>57.7    </td> <td>18         </td> <td>0.537784       </td> <td>0.174737          </td>\n        </tr>\n        <tr>\n            <td>Spring 2020</td> <td>57.7    </td> <td>16         </td> <td>0.543555       </td> <td>0.155862          </td>\n        </tr>\n        <tr>\n            <td>Spring 2020</td> <td>17.5    </td> <td>35         </td> <td>0.140485       </td> <td>0.0983684         </td>\n        </tr>\n        <tr>\n            <td>Spring 2020</td> <td>17.5    </td> <td>35         </td> <td>0.140485       </td> <td>0.0983684         </td>\n        </tr>\n        <tr>\n            <td>Spring 2020</td> <td>17.5    </td> <td>25         </td> <td>0.155432       </td> <td>0.072479          </td>\n        </tr>\n        <tr>\n            <td>Spring 2020</td> <td>30.9    </td> <td>23         </td> <td>0.278747       </td> <td>0.118321          </td>\n        </tr>\n        <tr>\n            <td>Spring 2020</td> <td>30.9    </td> <td>24         </td> <td>0.27664        </td> <td>0.123168          </td>\n        </tr>\n        <tr>\n            <td>Spring 2020</td> <td>30.9    </td> <td>25         </td> <td>0.274448       </td> <td>0.127977          </td>\n        </tr>\n        <tr>\n            <td>Spring 2020</td> <td>17.5    </td> <td>25         </td> <td>0.155432       </td> <td>0.072479          </td>\n        </tr>\n        <tr>\n            <td>Spring 2020</td> <td>17.5    </td> <td>32         </td> <td>0.14544        </td> <td>0.0908812         </td>\n        </tr>\n        <tr>\n            <td>Spring 2020</td> <td>17.5    </td> <td>35         </td> <td>0.140485       </td> <td>0.0983684         </td>\n        </tr>\n        <tr>\n            <td>Spring 2020</td> <td>44.3    </td> <td>22         </td> <td>0.402528       </td> <td>0.162632          </td>\n        </tr>\n        <tr>\n            <td>Spring 2020</td> <td>44.3    </td> <td>25         </td> <td>0.393464       </td> <td>0.183475          </td>\n        </tr>\n        <tr>\n            <td>Spring 2020</td> <td>44.3    </td> <td>25         </td> <td>0.393464       </td> <td>0.183475          </td>\n        </tr>\n        <tr>\n            <td>Spring 2020</td> <td>44.3    </td> <td>28         </td> <td>0.383323       </td> <td>0.203816          </td>\n        </tr>\n        <tr>\n            <td>Spring 2020</td> <td>57.7    </td> <td>20         </td> <td>0.531359       </td> <td>0.193399          </td>\n        </tr>\n        <tr>\n            <td>Spring 2020</td> <td>57.7    </td> <td>24         </td> <td>0.516573       </td> <td>0.229993          </td>\n        </tr>\n        <tr>\n            <td>Spring 2020</td> <td>57.7    </td> <td>20         </td> <td>0.531359       </td> <td>0.193399          </td>\n        </tr>\n        <tr>\n            <td>Spring 2020</td> <td>17.5    </td> <td>33         </td> <td>0.143832       </td> <td>0.0934056         </td>\n        </tr>\n        <tr>\n            <td>Spring 2020</td> <td>17.5    </td> <td>30         </td> <td>0.148523       </td> <td>0.08575           </td>\n        </tr>\n        <tr>\n            <td>Spring 2020</td> <td>17.5    </td> <td>36         </td> <td>0.138746       </td> <td>0.100805          </td>\n        </tr>\n        <tr>\n            <td>Spring 2020</td> <td>30.9    </td> <td>30         </td> <td>0.26225        </td> <td>0.15141           </td>\n        </tr>\n        <tr>\n            <td>Spring 2020</td> <td>30.9    </td> <td>26         </td> <td>0.272173       </td> <td>0.132748          </td>\n        </tr>\n        <tr>\n            <td>Spring 2020</td> <td>30.9    </td> <td>25         </td> <td>0.274448       </td> <td>0.127977          </td>\n        </tr>\n        <tr>\n            <td>Spring 2020</td> <td>44.3    </td> <td>25         </td> <td>0.393464       </td> <td>0.183475          </td>\n        </tr>\n        <tr>\n            <td>Spring 2020</td> <td>44.3    </td> <td>21         </td> <td>0.405305       </td> <td>0.155582          </td>\n        </tr>\n        <tr>\n            <td>Spring 2020</td> <td>44.3    </td> <td>28         </td> <td>0.383323       </td> <td>0.203816          </td>\n        </tr>\n        <tr>\n            <td>Spring 2020</td> <td>57.7    </td> <td>22         </td> <td>0.524285       </td> <td>0.211825          </td>\n        </tr>\n        <tr>\n            <td>Spring 2020</td> <td>57.7    </td> <td>22         </td> <td>0.524285       </td> <td>0.211825          </td>\n        </tr>\n        <tr>\n            <td>Spring 2020</td> <td>57.7    </td> <td>24         </td> <td>0.516573       </td> <td>0.229993          </td>\n        </tr>\n        <tr>\n            <td>Spring 2020</td> <td>57.7    </td> <td>20         </td> <td>0.531359       </td> <td>0.193399          </td>\n        </tr>\n        <tr>\n            <td>Spring 2020</td> <td>17.5    </td> <td>30         </td> <td>0.148523       </td> <td>0.08575           </td>\n        </tr>\n        <tr>\n            <td>Spring 2020</td> <td>17.5    </td> <td>32         </td> <td>0.14544        </td> <td>0.0908812         </td>\n        </tr>\n        <tr>\n            <td>Spring 2020</td> <td>17.5    </td> <td>36         </td> <td>0.138746       </td> <td>0.100805          </td>\n        </tr>\n        <tr>\n            <td>Spring 2020</td> <td>30.9    </td> <td>24         </td> <td>0.27664        </td> <td>0.123168          </td>\n        </tr>\n        <tr>\n            <td>Spring 2020</td> <td>30.9    </td> <td>24         </td> <td>0.27664        </td> <td>0.123168          </td>\n        </tr>\n        <tr>\n            <td>Spring 2020</td> <td>30.9    </td> <td>21         </td> <td>0.282707       </td> <td>0.108521          </td>\n        </tr>\n        <tr>\n            <td>Spring 2020</td> <td>30.9    </td> <td>14         </td> <td>0.293825       </td> <td>0.0732588         </td>\n        </tr>\n        <tr>\n            <td>Spring 2020</td> <td>44.3    </td> <td>16         </td> <td>0.417322       </td> <td>0.119665          </td>\n        </tr>\n        <tr>\n            <td>Spring 2020</td> <td>44.3    </td> <td>14         </td> <td>0.421244       </td> <td>0.105028          </td>\n        </tr>\n        <tr>\n            <td>Spring 2020</td> <td>44.3    </td> <td>13         </td> <td>0.423013       </td> <td>0.0976603         </td>\n        </tr>\n        <tr>\n            <td>Spring 2020</td> <td>57.7    </td> <td>12         </td> <td>0.553103       </td> <td>0.117566          </td>\n        </tr>\n        <tr>\n            <td>Spring 2020</td> <td>57.7    </td> <td>10         </td> <td>0.556869       </td> <td>0.0981911         </td>\n        </tr>\n        <tr>\n            <td>Spring 2020</td> <td>57.7    </td> <td>12         </td> <td>0.553103       </td> <td>0.117566          </td>\n        </tr>\n        <tr>\n            <td>Spring 2020</td> <td>17.5    </td> <td>25         </td> <td>0.155432       </td> <td>0.072479          </td>\n        </tr>\n        <tr>\n            <td>Spring 2020</td> <td>17.5    </td> <td>25         </td> <td>0.155432       </td> <td>0.072479          </td>\n        </tr>\n        <tr>\n            <td>Spring 2020</td> <td>17.5    </td> <td>25         </td> <td>0.155432       </td> <td>0.072479          </td>\n        </tr>\n        <tr>\n            <td>Spring 2020</td> <td>17.5    </td> <td>22         </td> <td>0.159012       </td> <td>0.064245          </td>\n        </tr>\n        <tr>\n            <td>Spring 2020</td> <td>30.9    </td> <td>14         </td> <td>0.293825       </td> <td>0.0732588         </td>\n        </tr>\n        <tr>\n            <td>Spring 2020</td> <td>30.9    </td> <td>18         </td> <td>0.287999       </td> <td>0.0935765         </td>\n        </tr>\n        <tr>\n            <td>Spring 2020</td> <td>30.9    </td> <td>15         </td> <td>0.292502       </td> <td>0.0783756         </td>\n        </tr>\n        <tr>\n            <td>Spring 2020</td> <td>44.3    </td> <td>14         </td> <td>0.421244       </td> <td>0.105028          </td>\n        </tr>\n        <tr>\n            <td>Spring 2020</td> <td>44.3    </td> <td>19         </td> <td>0.410487       </td> <td>0.141342          </td>\n        </tr>\n        <tr>\n            <td>Spring 2020</td> <td>44.3    </td> <td>18         </td> <td>0.412892       </td> <td>0.134157          </td>\n        </tr>\n        <tr>\n            <td>Spring 2020</td> <td>57.7    </td> <td>16         </td> <td>0.543555       </td> <td>0.155862          </td>\n        </tr>\n        <tr>\n            <td>Spring 2020</td> <td>57.7    </td> <td>15         </td> <td>0.546192       </td> <td>0.146352          </td>\n        </tr>\n        <tr>\n            <td>Spring 2020</td> <td>57.7    </td> <td>15         </td> <td>0.546192       </td> <td>0.146352          </td>\n        </tr>\n        <tr>\n            <td>Spring 2020</td> <td>17.5    </td> <td>40         </td> <td>0.131377       </td> <td>0.110238          </td>\n        </tr>\n        <tr>\n            <td>Spring 2020</td> <td>17.5    </td> <td>30         </td> <td>0.148523       </td> <td>0.08575           </td>\n        </tr>\n        <tr>\n            <td>Spring 2020</td> <td>17.5    </td> <td>30         </td> <td>0.148523       </td> <td>0.08575           </td>\n        </tr>\n        <tr>\n            <td>Spring 2020</td> <td>30.9    </td> <td>25         </td> <td>0.274448       </td> <td>0.127977          </td>\n        </tr>\n        <tr>\n            <td>Spring 2020</td> <td>30.9    </td> <td>30         </td> <td>0.26225        </td> <td>0.15141           </td>\n        </tr>\n        <tr>\n            <td>Spring 2020</td> <td>30.9    </td> <td>30         </td> <td>0.26225        </td> <td>0.15141           </td>\n        </tr>\n        <tr>\n            <td>Spring 2020</td> <td>44.3    </td> <td>20         </td> <td>0.407958       </td> <td>0.148485          </td>\n        </tr>\n        <tr>\n            <td>Spring 2020</td> <td>57.7    </td> <td>20         </td> <td>0.531359       </td> <td>0.193399          </td>\n        </tr>\n        <tr>\n            <td>Spring 2020</td> <td>44.3    </td> <td>20         </td> <td>0.407958       </td> <td>0.148485          </td>\n        </tr>\n        <tr>\n            <td>Spring 2020</td> <td>57.7    </td> <td>20         </td> <td>0.531359       </td> <td>0.193399          </td>\n        </tr>\n        <tr>\n            <td>Spring 2020</td> <td>57.7    </td> <td>20         </td> <td>0.531359       </td> <td>0.193399          </td>\n        </tr>\n        <tr>\n            <td>Spring 2020</td> <td>57.7    </td> <td>22         </td> <td>0.524285       </td> <td>0.211825          </td>\n        </tr>\n        <tr>\n            <td>Spring 2020</td> <td>44.3    </td> <td>21         </td> <td>0.405305       </td> <td>0.155582          </td>\n        </tr>\n        <tr>\n            <td>Spring 2020</td> <td>44.3    </td> <td>22         </td> <td>0.402528       </td> <td>0.162632          </td>\n        </tr>\n        <tr>\n            <td>Spring 2020</td> <td>57.7    </td> <td>18         </td> <td>0.537784       </td> <td>0.174737          </td>\n        </tr>\n        <tr>\n            <td>Spring 2020</td> <td>57.7    </td> <td>18         </td> <td>0.537784       </td> <td>0.174737          </td>\n        </tr>\n        <tr>\n            <td>Spring 2020</td> <td>57.7    </td> <td>18         </td> <td>0.537784       </td> <td>0.174737          </td>\n        </tr>\n        <tr>\n            <td>Spring 2020</td> <td>44.3    </td> <td>20         </td> <td>0.407958       </td> <td>0.148485          </td>\n        </tr>\n        <tr>\n            <td>Spring 2020</td> <td>44.3    </td> <td>24         </td> <td>0.396607       </td> <td>0.176581          </td>\n        </tr>\n        <tr>\n            <td>Spring 2020</td> <td>44.3    </td> <td>20         </td> <td>0.407958       </td> <td>0.148485          </td>\n        </tr>\n        <tr>\n            <td>Spring 2020</td> <td>44.3    </td> <td>23         </td> <td>0.399628       </td> <td>0.169632          </td>\n        </tr>\n        <tr>\n            <td>Spring 2020</td> <td>57.7    </td> <td>25         </td> <td>0.512481       </td> <td>0.238974          </td>\n        </tr>\n        <tr>\n            <td>Spring 2020</td> <td>57.7    </td> <td>21         </td> <td>0.527902       </td> <td>0.202643          </td>\n        </tr>\n        <tr>\n            <td>Spring 2020</td> <td>57.7    </td> <td>21         </td> <td>0.527902       </td> <td>0.202643          </td>\n        </tr>\n        <tr>\n            <td>Spring 2020</td> <td>17.5    </td> <td>35         </td> <td>0.140485       </td> <td>0.0983684         </td>\n        </tr>\n        <tr>\n            <td>Spring 2020</td> <td>17.5    </td> <td>37         </td> <td>0.136966       </td> <td>0.103211          </td>\n        </tr>\n        <tr>\n            <td>Spring 2020</td> <td>17.5    </td> <td>30         </td> <td>0.148523       </td> <td>0.08575           </td>\n        </tr>\n        <tr>\n            <td>Spring 2020</td> <td>30.9    </td> <td>26         </td> <td>0.272173       </td> <td>0.132748          </td>\n        </tr>\n        <tr>\n            <td>Spring 2020</td> <td>30.9    </td> <td>25         </td> <td>0.274448       </td> <td>0.127977          </td>\n        </tr>\n        <tr>\n            <td>Spring 2020</td> <td>30.9    </td> <td>24         </td> <td>0.27664        </td> <td>0.123168          </td>\n        </tr>\n        <tr>\n            <td>Spring 2020</td> <td>44.3    </td> <td>23         </td> <td>0.399628       </td> <td>0.169632          </td>\n        </tr>\n        <tr>\n            <td>Spring 2020</td> <td>44.3    </td> <td>22         </td> <td>0.402528       </td> <td>0.162632          </td>\n        </tr>\n        <tr>\n            <td>Spring 2020</td> <td>44.3    </td> <td>22         </td> <td>0.402528       </td> <td>0.162632          </td>\n        </tr>\n        <tr>\n            <td>Spring 2020</td> <td>57.7    </td> <td>22         </td> <td>0.524285       </td> <td>0.211825          </td>\n        </tr>\n        <tr>\n            <td>Spring 2020</td> <td>57.7    </td> <td>21         </td> <td>0.527902       </td> <td>0.202643          </td>\n        </tr>\n        <tr>\n            <td>Spring 2020</td> <td>57.7    </td> <td>21         </td> <td>0.527902       </td> <td>0.202643          </td>\n        </tr>\n        <tr>\n            <td>Spring 2020</td> <td>17.5    </td> <td>34         </td> <td>0.14218        </td> <td>0.0959016         </td>\n        </tr>\n        <tr>\n            <td>Spring 2020</td> <td>17.5    </td> <td>24         </td> <td>0.156673       </td> <td>0.0697553         </td>\n        </tr>\n        <tr>\n            <td>Spring 2020</td> <td>17.5    </td> <td>19         </td> <td>0.162156       </td> <td>0.0558349         </td>\n        </tr>\n        <tr>\n            <td>Spring 2020</td> <td>30.9    </td> <td>22         </td> <td>0.28077        </td> <td>0.113438          </td>\n        </tr>\n        <tr>\n            <td>Spring 2020</td> <td>30.9    </td> <td>27         </td> <td>0.269815       </td> <td>0.137477          </td>\n        </tr>\n        <tr>\n            <td>Spring 2020</td> <td>30.9    </td> <td>28         </td> <td>0.267374       </td> <td>0.142165          </td>\n        </tr>\n        <tr>\n            <td>Spring 2020</td> <td>44.3    </td> <td>28         </td> <td>0.383323       </td> <td>0.203816          </td>\n        </tr>\n        <tr>\n            <td>Spring 2020</td> <td>44.3    </td> <td>28         </td> <td>0.383323       </td> <td>0.203816          </td>\n        </tr>\n        <tr>\n            <td>Spring 2020</td> <td>44.3    </td> <td>22         </td> <td>0.402528       </td> <td>0.162632          </td>\n        </tr>\n        <tr>\n            <td>Spring 2020</td> <td>17.5    </td> <td>15         </td> <td>0.165656       </td> <td>0.0443875         </td>\n        </tr>\n        <tr>\n            <td>Spring 2020</td> <td>17.5    </td> <td>14         </td> <td>0.166406       </td> <td>0.0414896         </td>\n        </tr>\n        <tr>\n            <td>Spring 2020</td> <td>17.5    </td> <td>16         </td> <td>0.164856       </td> <td>0.0472718         </td>\n        </tr>\n        <tr>\n            <td>Spring 2020</td> <td>17.5    </td> <td>18         </td> <td>0.163106       </td> <td>0.0529964         </td>\n        </tr>\n        <tr>\n            <td>Spring 2020</td> <td>17.5    </td> <td>18         </td> <td>0.163106       </td> <td>0.0529964         </td>\n        </tr>\n        <tr>\n            <td>Spring 2020</td> <td>17.5    </td> <td>17         </td> <td>0.164006       </td> <td>0.0501417         </td>\n        </tr>\n        <tr>\n            <td>Spring 2020</td> <td>30.9    </td> <td>12         </td> <td>0.296203       </td> <td>0.0629598         </td>\n        </tr>\n        <tr>\n            <td>Spring 2020</td> <td>30.9    </td> <td>12         </td> <td>0.296203       </td> <td>0.0629598         </td>\n        </tr>\n        <tr>\n            <td>Spring 2020</td> <td>30.9    </td> <td>15         </td> <td>0.292502       </td> <td>0.0783756         </td>\n        </tr>\n        <tr>\n            <td>Spring 2020</td> <td>30.9    </td> <td>15         </td> <td>0.292502       </td> <td>0.0783756         </td>\n        </tr>\n        <tr>\n            <td>Spring 2020</td> <td>44.3    </td> <td>13         </td> <td>0.423013       </td> <td>0.0976603         </td>\n        </tr>\n        <tr>\n            <td>Spring 2020</td> <td>44.3    </td> <td>15         </td> <td>0.419347       </td> <td>0.112364          </td>\n        </tr>\n        <tr>\n            <td>Spring 2020</td> <td>44.3    </td> <td>13         </td> <td>0.423013       </td> <td>0.0976603         </td>\n        </tr>\n        <tr>\n            <td>Spring 2020</td> <td>57.7    </td> <td>12         </td> <td>0.553103       </td> <td>0.117566          </td>\n        </tr>\n        <tr>\n            <td>Spring 2020</td> <td>57.7    </td> <td>13         </td> <td>0.550967       </td> <td>0.127201          </td>\n        </tr>\n        <tr>\n            <td>Spring 2020</td> <td>57.7    </td> <td>14         </td> <td>0.548663       </td> <td>0.136797          </td>\n        </tr>\n        <tr>\n            <td>Spring 2020</td> <td>17.5    </td> <td>25         </td> <td>0.155432       </td> <td>0.072479          </td>\n        </tr>\n        <tr>\n            <td>Spring 2020</td> <td>30.9    </td> <td>22         </td> <td>0.28077        </td> <td>0.113438          </td>\n        </tr>\n        <tr>\n            <td>Spring 2020</td> <td>44.3    </td> <td>20         </td> <td>0.407958       </td> <td>0.148485          </td>\n        </tr>\n        <tr>\n            <td>Spring 2020</td> <td>57.7    </td> <td>18         </td> <td>0.537784       </td> <td>0.174737          </td>\n        </tr>\n        <tr>\n            <td>Spring 2020</td> <td>17.5    </td> <td>16         </td> <td>0.164856       </td> <td>0.0472718         </td>\n        </tr>\n        <tr>\n            <td>Spring 2020</td> <td>30.9    </td> <td>17         </td> <td>0.289588       </td> <td>0.088536          </td>\n        </tr>\n        <tr>\n            <td>Spring 2020</td> <td>57.7    </td> <td>15         </td> <td>0.546192       </td> <td>0.146352          </td>\n        </tr>\n    </tbody>\n</table>",
          "text/plain": "<IPython.core.display.HTML object>"
         },
         "metadata": {},
         "output_type": "display_data"
        },
        {
         "data": {
          "text/markdown": "<pre>All Section Data:",
          "text/plain": "<IPython.core.display.Markdown object>"
         },
         "metadata": {},
         "output_type": "display_data"
        },
        {
         "data": {
          "text/html": "<table border=\"1\" class=\"dataframe\">\n    <thead>\n        <tr>\n            <th>Section</th> <th>Team</th> <th>Mass</th> <th>Angle</th> <th>Shear Force</th> <th>Adhesive Force</th>\n        </tr>\n    </thead>\n    <tbody>\n        <tr>\n            <td>1      </td> <td>4   </td> <td>18.05  </td> <td>24   </td> <td>0.161597   </td> <td>0.0719476     </td>\n        </tr>\n        <tr>\n            <td>1      </td> <td>4   </td> <td>6.71   </td> <td>30   </td> <td>0.0569481  </td> <td>0.032879      </td>\n        </tr>\n        <tr>\n            <td>1      </td> <td>4   </td> <td>12.38  </td> <td>30   </td> <td>0.10507    </td> <td>0.060662      </td>\n        </tr>\n        <tr>\n            <td>1      </td> <td>4   </td> <td>18.05  </td> <td>23   </td> <td>0.162828   </td> <td>0.0691164     </td>\n        </tr>\n        <tr>\n            <td>1      </td> <td>4   </td> <td>18.05  </td> <td>16   </td> <td>0.170038   </td> <td>0.0487575     </td>\n        </tr>\n        <tr>\n            <td>1      </td> <td>4   </td> <td>23.72  </td> <td>17   </td> <td>0.222299   </td> <td>0.0679636     </td>\n        </tr>\n        <tr>\n            <td>1      </td> <td>4   </td> <td>23.72  </td> <td>13   </td> <td>0.226498   </td> <td>0.0522912     </td>\n        </tr>\n        <tr>\n            <td>1      </td> <td>5   </td> <td>11.71  </td> <td>19   </td> <td>0.108506   </td> <td>0.0373616     </td>\n        </tr>\n        <tr>\n            <td>1      </td> <td>5   </td> <td>16.71  </td> <td>16   </td> <td>0.157414   </td> <td>0.0451378     </td>\n        </tr>\n        <tr>\n            <td>1      </td> <td>5   </td> <td>21.71  </td> <td>17   </td> <td>0.203461   </td> <td>0.0622044     </td>\n        </tr>\n        <tr>\n            <td>1      </td> <td>5   </td> <td>11.71  </td> <td>20   </td> <td>0.107837   </td> <td>0.0392495     </td>\n        </tr>\n        <tr>\n            <td>1      </td> <td>5   </td> <td>16.71  </td> <td>23   </td> <td>0.15074    </td> <td>0.0639853     </td>\n        </tr>\n        <tr>\n            <td>1      </td> <td>5   </td> <td>21.71  </td> <td>17   </td> <td>0.203461   </td> <td>0.0622044     </td>\n        </tr>\n        <tr>\n            <td>1      </td> <td>6   </td> <td>23.72  </td> <td>15   </td> <td>0.224535   </td> <td>0.060164      </td>\n        </tr>\n        <tr>\n            <td>1      </td> <td>6   </td> <td>29.39  </td> <td>20   </td> <td>0.270652   </td> <td>0.0985093     </td>\n        </tr>\n        <tr>\n            <td>1      </td> <td>6   </td> <td>35.06  </td> <td>22.5 </td> <td>0.317434   </td> <td>0.131485      </td>\n        </tr>\n        <tr>\n            <td>1      </td> <td>6   </td> <td>46.4   </td> <td>25   </td> <td>0.412116   </td> <td>0.192173      </td>\n        </tr>\n        <tr>\n            <td>1      </td> <td>6   </td> <td>40.73  </td> <td>22.5 </td> <td>0.36877    </td> <td>0.15275       </td>\n        </tr>\n        <tr>\n            <td>1      </td> <td>6   </td> <td>52.07  </td> <td>25   </td> <td>0.462476   </td> <td>0.215656      </td>\n        </tr>\n        <tr>\n            <td>1      </td> <td>6   </td> <td>12.38  </td> <td>14   </td> <td>0.11772    </td> <td>0.0293509     </td>\n        </tr>\n        <tr>\n            <td>1      </td> <td>6   </td> <td>18.05  </td> <td>10   </td> <td>0.174203   </td> <td>0.0307166     </td>\n        </tr>\n        <tr>\n            <td>1      </td> <td>6   </td> <td>23.72  </td> <td>6    </td> <td>0.231183   </td> <td>0.0242983     </td>\n        </tr>\n        <tr>\n            <td>1      </td> <td>6   </td> <td>12.38  </td> <td>20.5 </td> <td>0.113641   </td> <td>0.0424886     </td>\n        </tr>\n        <tr>\n            <td>1      </td> <td>6   </td> <td>23.72  </td> <td>21   </td> <td>0.217016   </td> <td>0.0833048     </td>\n        </tr>\n        <tr>\n            <td>1      </td> <td>6   </td> <td>18.05  </td> <td>23   </td> <td>0.162828   </td> <td>0.0691164     </td>\n        </tr>\n        <tr>\n            <td>1      </td> <td>3   </td> <td>6.71   </td> <td>26   </td> <td>0.0591029  </td> <td>0.0288264     </td>\n        </tr>\n        <tr>\n            <td>1      </td> <td>3   </td> <td>12.38  </td> <td>20   </td> <td>0.114007   </td> <td>0.0414953     </td>\n        </tr>\n        <tr>\n            <td>1      </td> <td>3   </td> <td>23.72  </td> <td>15   </td> <td>0.224535   </td> <td>0.060164      </td>\n        </tr>\n        <tr>\n            <td>2      </td> <td>7   </td> <td>15     </td> <td>19   </td> <td>0.138991   </td> <td>0.0478585     </td>\n        </tr>\n        <tr>\n            <td>2      </td> <td>7   </td> <td>11.71  </td> <td>24   </td> <td>0.104837   </td> <td>0.0466763     </td>\n        </tr>\n        <tr>\n            <td>2      </td> <td>7   </td> <td>16.71  </td> <td>22.5 </td> <td>0.151293   </td> <td>0.0626675     </td>\n        </tr>\n        <tr>\n            <td>2      </td> <td>7   </td> <td>21.71  </td> <td>19.5 </td> <td>0.200555   </td> <td>0.0710201     </td>\n        </tr>\n        <tr>\n            <td>2      </td> <td>7   </td> <td>10     </td> <td>27   </td> <td>0.0873186  </td> <td>0.0444911     </td>\n        </tr>\n        <tr>\n            <td>2      </td> <td>7   </td> <td>12.38  </td> <td>23.5 </td> <td>0.111261   </td> <td>0.0483778     </td>\n        </tr>\n        <tr>\n            <td>2      </td> <td>7   </td> <td>18.05  </td> <td>21.5 </td> <td>0.164582   </td> <td>0.0648304     </td>\n        </tr>\n        <tr>\n            <td>2      </td> <td>7   </td> <td>23.72  </td> <td>19.5 </td> <td>0.219123   </td> <td>0.0775954     </td>\n        </tr>\n        <tr>\n            <td>2      </td> <td>7   </td> <td>12.38  </td> <td>26   </td> <td>0.109045   </td> <td>0.0531849     </td>\n        </tr>\n        <tr>\n            <td>2      </td> <td>7   </td> <td>18.05  </td> <td>21   </td> <td>0.165141   </td> <td>0.0633917     </td>\n        </tr>\n        <tr>\n            <td>2      </td> <td>7   </td> <td>18.05  </td> <td>17   </td> <td>0.169161   </td> <td>0.0517176     </td>\n        </tr>\n        <tr>\n            <td>2      </td> <td>8   </td> <td>33.5   </td> <td>16   </td> <td>0.315582   </td> <td>0.0904917     </td>\n        </tr>\n        <tr>\n            <td>2      </td> <td>8   </td> <td>12.38  </td> <td>30   </td> <td>0.10507    </td> <td>0.060662      </td>\n        </tr>\n        <tr>\n            <td>2      </td> <td>8   </td> <td>11.34  </td> <td>22   </td> <td>0.10304    </td> <td>0.0416308     </td>\n        </tr>\n        <tr>\n            <td>2      </td> <td>8   </td> <td>17.01  </td> <td>17   </td> <td>0.159414   </td> <td>0.0487378     </td>\n        </tr>\n        <tr>\n            <td>2      </td> <td>8   </td> <td>12.38  </td> <td>30   </td> <td>0.10507    </td> <td>0.060662      </td>\n        </tr>\n        <tr>\n            <td>2      </td> <td>8   </td> <td>18.05  </td> <td>22   </td> <td>0.16401    </td> <td>0.0662642     </td>\n        </tr>\n        <tr>\n            <td>2      </td> <td>8   </td> <td>23.72  </td> <td>17   </td> <td>0.222299   </td> <td>0.0679636     </td>\n        </tr>\n        <tr>\n            <td>2      </td> <td>8   </td> <td>12.3   </td> <td>25   </td> <td>0.109246   </td> <td>0.0509424     </td>\n        </tr>\n        <tr>\n            <td>2      </td> <td>8   </td> <td>17.9   </td> <td>22.5 </td> <td>0.162067   </td> <td>0.0671303     </td>\n        </tr>\n        <tr>\n            <td>2      </td> <td>9   </td> <td>11.21  </td> <td>30   </td> <td>0.0951398  </td> <td>0.054929      </td>\n        </tr>\n        <tr>\n            <td>2      </td> <td>9   </td> <td>7.0874 </td> <td>24   </td> <td>0.0634517  </td> <td>0.0282505     </td>\n        </tr>\n        <tr>\n            <td>2      </td> <td>9   </td> <td>15.81  </td> <td>25   </td> <td>0.140422   </td> <td>0.0654796     </td>\n        </tr>\n        <tr>\n            <td>2      </td> <td>9   </td> <td>26.8   </td> <td>20   </td> <td>0.246801   </td> <td>0.0898282     </td>\n        </tr>\n        <tr>\n            <td>2      </td> <td>9   </td> <td>14.1748</td> <td>23   </td> <td>0.12787    </td> <td>0.0542776     </td>\n        </tr>\n        <tr>\n            <td>2      </td> <td>9   </td> <td>49.6   </td> <td>15   </td> <td>0.469517   </td> <td>0.125807      </td>\n        </tr>\n        <tr>\n            <td>2      </td> <td>9   </td> <td>6      </td> <td>8    </td> <td>0.0582278  </td> <td>0.00818338    </td>\n        </tr>\n        <tr>\n            <td>2      </td> <td>9   </td> <td>15     </td> <td>5    </td> <td>0.146441   </td> <td>0.0128119     </td>\n        </tr>\n        <tr>\n            <td>2      </td> <td>9   </td> <td>21     </td> <td>4    </td> <td>0.205299   </td> <td>0.0143559     </td>\n        </tr>\n        <tr>\n            <td>2      </td> <td>9   </td> <td>22.01  </td> <td>19.5 </td> <td>0.203326   </td> <td>0.0720015     </td>\n        </tr>\n        <tr>\n            <td>2      </td> <td>9   </td> <td>12.32  </td> <td>24.3 </td> <td>0.110039   </td> <td>0.0496846     </td>\n        </tr>\n        <tr>\n            <td>2      </td> <td>9   </td> <td>10.32  </td> <td>28.7 </td> <td>0.0887111  </td> <td>0.0485679     </td>\n        </tr>\n        <tr>\n            <td>2      </td> <td>10  </td> <td>29.31  </td> <td>5    </td> <td>0.286145   </td> <td>0.0250344     </td>\n        </tr>\n        <tr>\n            <td>2      </td> <td>10  </td> <td>40.73  </td> <td>15   </td> <td>0.385553   </td> <td>0.103309      </td>\n        </tr>\n        <tr>\n            <td>2      </td> <td>10  </td> <td>52.07  </td> <td>20   </td> <td>0.479512   </td> <td>0.174528      </td>\n        </tr>\n        <tr>\n            <td>2      </td> <td>10  </td> <td>7      </td> <td>20   </td> <td>0.0644629  </td> <td>0.0234626     </td>\n        </tr>\n        <tr>\n            <td>2      </td> <td>10  </td> <td>14     </td> <td>13   </td> <td>0.133684   </td> <td>0.0308633     </td>\n        </tr>\n        <tr>\n            <td>2      </td> <td>10  </td> <td>21     </td> <td>8    </td> <td>0.203797   </td> <td>0.0286418     </td>\n        </tr>\n        <tr>\n            <td>2      </td> <td>10  </td> <td>12.38  </td> <td>27   </td> <td>0.1081     </td> <td>0.0550799     </td>\n        </tr>\n        <tr>\n            <td>2      </td> <td>10  </td> <td>18.05  </td> <td>23   </td> <td>0.162828   </td> <td>0.0691164     </td>\n        </tr>\n        <tr>\n            <td>2      </td> <td>10  </td> <td>22.59  </td> <td>20   </td> <td>0.208031   </td> <td>0.0757171     </td>\n        </tr>\n        <tr>\n            <td>2      </td> <td>10  </td> <td>22.68  </td> <td>19   </td> <td>0.210155   </td> <td>0.0723621     </td>\n        </tr>\n        <tr>\n            <td>2      </td> <td>11  </td> <td>11.81  </td> <td>25   </td> <td>0.104894   </td> <td>0.048913      </td>\n        </tr>\n        <tr>\n            <td>2      </td> <td>11  </td> <td>17.21  </td> <td>26   </td> <td>0.151589   </td> <td>0.0739348     </td>\n        </tr>\n        <tr>\n            <td>2      </td> <td>11  </td> <td>26.61  </td> <td>23   </td> <td>0.240047   </td> <td>0.101894      </td>\n        </tr>\n        <tr>\n            <td>2      </td> <td>11  </td> <td>23.52  </td> <td>15   </td> <td>0.222642   </td> <td>0.0596568     </td>\n        </tr>\n        <tr>\n            <td>2      </td> <td>11  </td> <td>12.38  </td> <td>50   </td> <td>0.0779856  </td> <td>0.0929396     </td>\n        </tr>\n        <tr>\n            <td>2      </td> <td>11  </td> <td>18.05  </td> <td>40   </td> <td>0.135506   </td> <td>0.113703      </td>\n        </tr>\n        <tr>\n            <td>2      </td> <td>11  </td> <td>23.72  </td> <td>30   </td> <td>0.201313   </td> <td>0.116228      </td>\n        </tr>\n        <tr>\n            <td>2      </td> <td>11  </td> <td>9.21   </td> <td>20   </td> <td>0.0848148  </td> <td>0.0308701     </td>\n        </tr>\n        <tr>\n            <td>2      </td> <td>12  </td> <td>11.89  </td> <td>8    </td> <td>0.115388   </td> <td>0.0162167     </td>\n        </tr>\n        <tr>\n            <td>2      </td> <td>12  </td> <td>8.978  </td> <td>25   </td> <td>0.0797409  </td> <td>0.0371838     </td>\n        </tr>\n        <tr>\n            <td>3      </td> <td>11  </td> <td>18.05  </td> <td>5    </td> <td>0.176217   </td> <td>0.015417      </td>\n        </tr>\n        <tr>\n            <td>3      </td> <td>11  </td> <td>12.38  </td> <td>10   </td> <td>0.119481   </td> <td>0.0210677     </td>\n        </tr>\n        <tr>\n            <td>3      </td> <td>11  </td> <td>9.21   </td> <td>20   </td> <td>0.0848148  </td> <td>0.0308701     </td>\n        </tr>\n        <tr>\n            <td>3      </td> <td>13  </td> <td>14.2   </td> <td>30   </td> <td>0.120516   </td> <td>0.06958       </td>\n        </tr>\n        <tr>\n            <td>3      </td> <td>13  </td> <td>12.93  </td> <td>25   </td> <td>0.114842   </td> <td>0.0535517     </td>\n        </tr>\n        <tr>\n            <td>3      </td> <td>13  </td> <td>11.71  </td> <td>25   </td> <td>0.104006   </td> <td>0.0484988     </td>\n        </tr>\n        <tr>\n            <td>3      </td> <td>13  </td> <td>16.63  </td> <td>10   </td> <td>0.160498   </td> <td>0.0283001     </td>\n        </tr>\n        <tr>\n            <td>3      </td> <td>13  </td> <td>13.11  </td> <td>45   </td> <td>0.0908477  </td> <td>0.0908477     </td>\n        </tr>\n        <tr>\n            <td>3      </td> <td>13  </td> <td>19.15  </td> <td>14   </td> <td>0.182095   </td> <td>0.0454015     </td>\n        </tr>\n        <tr>\n            <td>3      </td> <td>13  </td> <td>16.04  </td> <td>22   </td> <td>0.145746   </td> <td>0.0588852     </td>\n        </tr>\n        <tr>\n            <td>3      </td> <td>13  </td> <td>12.38  </td> <td>21   </td> <td>0.113266   </td> <td>0.0434786     </td>\n        </tr>\n        <tr>\n            <td>3      </td> <td>15  </td> <td>12.5   </td> <td>48   </td> <td>0.0819685  </td> <td>0.0910352     </td>\n        </tr>\n        <tr>\n            <td>3      </td> <td>15  </td> <td>19.21  </td> <td>48   </td> <td>0.125969   </td> <td>0.139903      </td>\n        </tr>\n        <tr>\n            <td>3      </td> <td>15  </td> <td>12.61  </td> <td>20   </td> <td>0.116125   </td> <td>0.0422662     </td>\n        </tr>\n        <tr>\n            <td>3      </td> <td>15  </td> <td>6.71   </td> <td>40   </td> <td>0.0503736  </td> <td>0.0422684     </td>\n        </tr>\n        <tr>\n            <td>3      </td> <td>15  </td> <td>11.71  </td> <td>32.5 </td> <td>0.0967859  </td> <td>0.0616594     </td>\n        </tr>\n        <tr>\n            <td>3      </td> <td>15  </td> <td>16.7   </td> <td>27.5 </td> <td>0.145168   </td> <td>0.0755698     </td>\n        </tr>\n        <tr>\n            <td>3      </td> <td>16  </td> <td>28.35  </td> <td>13   </td> <td>0.270709   </td> <td>0.0624982     </td>\n        </tr>\n        <tr>\n            <td>3      </td> <td>16  </td> <td>56.7   </td> <td>10   </td> <td>0.547218   </td> <td>0.0964893     </td>\n        </tr>\n        <tr>\n            <td>3      </td> <td>16  </td> <td>12.44  </td> <td>20   </td> <td>0.11456    </td> <td>0.0416964     </td>\n        </tr>\n        <tr>\n            <td>3      </td> <td>16  </td> <td>11.59  </td> <td>26   </td> <td>0.102087   </td> <td>0.0497911     </td>\n        </tr>\n        <tr>\n            <td>3      </td> <td>16  </td> <td>17.53  </td> <td>19   </td> <td>0.162434   </td> <td>0.0559307     </td>\n        </tr>\n        <tr>\n            <td>3      </td> <td>16  </td> <td>17     </td> <td>22   </td> <td>0.154469   </td> <td>0.0624095     </td>\n        </tr>\n        <tr>\n            <td>3      </td> <td>17  </td> <td>6.71   </td> <td>40   </td> <td>0.0503736  </td> <td>0.0422684     </td>\n        </tr>\n        <tr>\n            <td>3      </td> <td>18  </td> <td>6.71   </td> <td>25   </td> <td>0.059597   </td> <td>0.0277905     </td>\n        </tr>\n        <tr>\n            <td>3      </td> <td>18  </td> <td>12.38  </td> <td>20   </td> <td>0.114007   </td> <td>0.0414953     </td>\n        </tr>\n        <tr>\n            <td>3      </td> <td>18  </td> <td>18.05  </td> <td>35   </td> <td>0.1449     </td> <td>0.10146       </td>\n        </tr>\n        <tr>\n            <td>4      </td> <td>15  </td> <td>12.61  </td> <td>20   </td> <td>0.116125   </td> <td>0.0422662     </td>\n        </tr>\n        <tr>\n            <td>4      </td> <td>19  </td> <td>11.246 </td> <td>10   </td> <td>0.108536   </td> <td>0.0191379     </td>\n        </tr>\n        <tr>\n            <td>4      </td> <td>19  </td> <td>8.978  </td> <td>20   </td> <td>0.0826783  </td> <td>0.0300924     </td>\n        </tr>\n        <tr>\n            <td>4      </td> <td>19  </td> <td>20     </td> <td>25   </td> <td>0.177636   </td> <td>0.0828332     </td>\n        </tr>\n        <tr>\n            <td>4      </td> <td>20  </td> <td>18.05  </td> <td>17   </td> <td>0.169161   </td> <td>0.0517176     </td>\n        </tr>\n        <tr>\n            <td>4      </td> <td>20  </td> <td>29.39  </td> <td>12   </td> <td>0.281728   </td> <td>0.0598831     </td>\n        </tr>\n        <tr>\n            <td>4      </td> <td>20  </td> <td>40.73  </td> <td>7    </td> <td>0.396179   </td> <td>0.0486446     </td>\n        </tr>\n        <tr>\n            <td>4      </td> <td>21  </td> <td>9.21   </td> <td>22   </td> <td>0.0836858  </td> <td>0.0338112     </td>\n        </tr>\n        <tr>\n            <td>4      </td> <td>21  </td> <td>11.71  </td> <td>18   </td> <td>0.109141   </td> <td>0.0354622     </td>\n        </tr>\n        <tr>\n            <td>4      </td> <td>21  </td> <td>8.978  </td> <td>19   </td> <td>0.0831909  </td> <td>0.0286449     </td>\n        </tr>\n        <tr>\n            <td>4      </td> <td>21  </td> <td>9.21   </td> <td>30   </td> <td>0.0781657  </td> <td>0.045129      </td>\n        </tr>\n        <tr>\n            <td>4      </td> <td>21  </td> <td>9.01   </td> <td>35   </td> <td>0.0723295  </td> <td>0.0506457     </td>\n        </tr>\n        <tr>\n            <td>4      </td> <td>21  </td> <td>11.51  </td> <td>25   </td> <td>0.10223    </td> <td>0.0476705     </td>\n        </tr>\n        <tr>\n            <td>4      </td> <td>21  </td> <td>7.938  </td> <td>32   </td> <td>0.0659717  </td> <td>0.0412237     </td>\n        </tr>\n        <tr>\n            <td>4      </td> <td>21  </td> <td>21     </td> <td>4    </td> <td>0.205299   </td> <td>0.0143559     </td>\n        </tr>\n        <tr>\n            <td>4      </td> <td>22  </td> <td>11     </td> <td>22   </td> <td>0.0999504  </td> <td>0.0403826     </td>\n        </tr>\n        <tr>\n            <td>4      </td> <td>22  </td> <td>22     </td> <td>17.5 </td> <td>0.205621   </td> <td>0.0648322     </td>\n        </tr>\n        <tr>\n            <td>4      </td> <td>22  </td> <td>35     </td> <td>14   </td> <td>0.332811   </td> <td>0.0829792     </td>\n        </tr>\n        <tr>\n            <td>4      </td> <td>22  </td> <td>16.608 </td> <td>20   </td> <td>0.152943   </td> <td>0.0556667     </td>\n        </tr>\n        <tr>\n            <td>4      </td> <td>22  </td> <td>27.046 </td> <td>15   </td> <td>0.256019   </td> <td>0.0686002     </td>\n        </tr>\n        <tr>\n            <td>4      </td> <td>22  </td> <td>37.716 </td> <td>12.5 </td> <td>0.360855   </td> <td>0.0799997     </td>\n        </tr>\n        <tr>\n            <td>4      </td> <td>23  </td> <td>18.05  </td> <td>20   </td> <td>0.166222   </td> <td>0.0604999     </td>\n        </tr>\n        <tr>\n            <td>4      </td> <td>23  </td> <td>23.72  </td> <td>16   </td> <td>0.223451   </td> <td>0.0640736     </td>\n        </tr>\n        <tr>\n            <td>4      </td> <td>23  </td> <td>29.39  </td> <td>15   </td> <td>0.278208   </td> <td>0.0745456     </td>\n        </tr>\n        <tr>\n            <td>4      </td> <td>23  </td> <td>12.38  </td> <td>25   </td> <td>0.109957   </td> <td>0.0512737     </td>\n        </tr>\n        <tr>\n            <td>4      </td> <td>23  </td> <td>7.53   </td> <td>30   </td> <td>0.0639075  </td> <td>0.036897      </td>\n        </tr>\n        <tr>\n            <td>4      </td> <td>23  </td> <td>11.82  </td> <td>25   </td> <td>0.104983   </td> <td>0.0489544     </td>\n        </tr>\n        <tr>\n            <td>4      </td> <td>23  </td> <td>12.38  </td> <td>25   </td> <td>0.109957   </td> <td>0.0512737     </td>\n        </tr>\n        <tr>\n            <td>4      </td> <td>23  </td> <td>11.7   </td> <td>25   </td> <td>0.103917   </td> <td>0.0484574     </td>\n        </tr>\n        <tr>\n            <td>4      </td> <td>23  </td> <td>11.47  </td> <td>30   </td> <td>0.0973465  </td> <td>0.056203      </td>\n        </tr>\n        <tr>\n            <td>4      </td> <td>23  </td> <td>18.05  </td> <td>16   </td> <td>0.170038   </td> <td>0.0487575     </td>\n        </tr>\n        <tr>\n            <td>4      </td> <td>23  </td> <td>12.38  </td> <td>24   </td> <td>0.110835   </td> <td>0.0493469     </td>\n        </tr>\n        <tr>\n            <td>4      </td> <td>23  </td> <td>8.978  </td> <td>31   </td> <td>0.0754174  </td> <td>0.0453153     </td>\n        </tr>\n        <tr>\n            <td>4      </td> <td>24  </td> <td>56.7   </td> <td>15   </td> <td>0.536726   </td> <td>0.143815      </td>\n        </tr>\n        <tr>\n            <td>5      </td> <td>26  </td> <td>18.05  </td> <td>17   </td> <td>0.169161   </td> <td>0.0517176     </td>\n        </tr>\n        <tr>\n            <td>5      </td> <td>26  </td> <td>5.67   </td> <td>23   </td> <td>0.0511488  </td> <td>0.0217114     </td>\n        </tr>\n        <tr>\n            <td>5      </td> <td>26  </td> <td>8.978  </td> <td>29   </td> <td>0.0769529  </td> <td>0.0426557     </td>\n        </tr>\n        <tr>\n            <td>5      </td> <td>28  </td> <td>23.72  </td> <td>22.5 </td> <td>0.214761   </td> <td>0.0889571     </td>\n        </tr>\n        <tr>\n            <td>5      </td> <td>28  </td> <td>18.05  </td> <td>25   </td> <td>0.160317   </td> <td>0.0747569     </td>\n        </tr>\n        <tr>\n            <td>5      </td> <td>28  </td> <td>11.478 </td> <td>25   </td> <td>0.101945   </td> <td>0.047538      </td>\n        </tr>\n        <tr>\n            <td>5      </td> <td>28  </td> <td>8.1    </td> <td>20   </td> <td>0.0745928  </td> <td>0.0271496     </td>\n        </tr>\n        <tr>\n            <td>5      </td> <td>28  </td> <td>16.2   </td> <td>10   </td> <td>0.156348   </td> <td>0.0275684     </td>\n        </tr>\n        <tr>\n            <td>5      </td> <td>28  </td> <td>24.3   </td> <td>8    </td> <td>0.235822   </td> <td>0.0331427     </td>\n        </tr>\n        <tr>\n            <td>5      </td> <td>28  </td> <td>5.67   </td> <td>25   </td> <td>0.0503599  </td> <td>0.0234832     </td>\n        </tr>\n        <tr>\n            <td>5      </td> <td>28  </td> <td>11.34  </td> <td>18   </td> <td>0.105693   </td> <td>0.0343417     </td>\n        </tr>\n        <tr>\n            <td>5      </td> <td>28  </td> <td>17.01  </td> <td>15   </td> <td>0.161018   </td> <td>0.0431446     </td>\n        </tr>\n        <tr>\n            <td>5      </td> <td>29  </td> <td>8      </td> <td>22   </td> <td>0.0726912  </td> <td>0.0293692     </td>\n        </tr>\n        <tr>\n            <td>5      </td> <td>29  </td> <td>12.38  </td> <td>23   </td> <td>0.111679   </td> <td>0.0474051     </td>\n        </tr>\n        <tr>\n            <td>5      </td> <td>29  </td> <td>18.05  </td> <td>20   </td> <td>0.166222   </td> <td>0.0604999     </td>\n        </tr>\n        <tr>\n            <td>5      </td> <td>29  </td> <td>23.72  </td> <td>17   </td> <td>0.222299   </td> <td>0.0679636     </td>\n        </tr>\n        <tr>\n            <td>5      </td> <td>29  </td> <td>12.38  </td> <td>24   </td> <td>0.110835   </td> <td>0.0493469     </td>\n        </tr>\n        <tr>\n            <td>5      </td> <td>29  </td> <td>18.05  </td> <td>19   </td> <td>0.167253   </td> <td>0.0575898     </td>\n        </tr>\n        <tr>\n            <td>5      </td> <td>29  </td> <td>23.72  </td> <td>16   </td> <td>0.223451   </td> <td>0.0640736     </td>\n        </tr>\n        <tr>\n            <td>5      </td> <td>29  </td> <td>12.38  </td> <td>20   </td> <td>0.114007   </td> <td>0.0414953     </td>\n        </tr>\n        <tr>\n            <td>5      </td> <td>29  </td> <td>18.05  </td> <td>18   </td> <td>0.168232   </td> <td>0.054662      </td>\n        </tr>\n        <tr>\n            <td>5      </td> <td>29  </td> <td>23.72  </td> <td>17.5 </td> <td>0.221697   </td> <td>0.0699009     </td>\n        </tr>\n        <tr>\n            <td>5      </td> <td>30  </td> <td>9.71   </td> <td>40   </td> <td>0.0728953  </td> <td>0.0611664     </td>\n        </tr>\n        <tr>\n            <td>5      </td> <td>30  </td> <td>36.71  </td> <td>20   </td> <td>0.338062   </td> <td>0.123044      </td>\n        </tr>\n        <tr>\n            <td>5      </td> <td>30  </td> <td>22.6796</td> <td>35   </td> <td>0.182065   </td> <td>0.127483      </td>\n        </tr>\n        <tr>\n            <td>5      </td> <td>30  </td> <td>18.05  </td> <td>18.5 </td> <td>0.167749   </td> <td>0.056128      </td>\n        </tr>\n        <tr>\n            <td>5      </td> <td>30  </td> <td>12.38  </td> <td>18   </td> <td>0.115386   </td> <td>0.0374912     </td>\n        </tr>\n        <tr>\n            <td>6      </td> <td>32  </td> <td>20.8848</td> <td>20   </td> <td>0.192328   </td> <td>0.0700016     </td>\n        </tr>\n        <tr>\n            <td>6      </td> <td>32  </td> <td>35.0596</td> <td>13   </td> <td>0.334778   </td> <td>0.0772896     </td>\n        </tr>\n        <tr>\n            <td>6      </td> <td>32  </td> <td>11.5   </td> <td>20   </td> <td>0.105903   </td> <td>0.0385457     </td>\n        </tr>\n        <tr>\n            <td>6      </td> <td>32  </td> <td>34.5   </td> <td>15   </td> <td>0.32658    </td> <td>0.0875067     </td>\n        </tr>\n        <tr>\n            <td>6      </td> <td>32  </td> <td>57.5   </td> <td>11   </td> <td>0.553147   </td> <td>0.107521      </td>\n        </tr>\n        <tr>\n            <td>6      </td> <td>32  </td> <td>13.21  </td> <td>21   </td> <td>0.120859   </td> <td>0.0463936     </td>\n        </tr>\n        <tr>\n            <td>6      </td> <td>32  </td> <td>19.71  </td> <td>20   </td> <td>0.181509   </td> <td>0.0660639     </td>\n        </tr>\n        <tr>\n            <td>6      </td> <td>32  </td> <td>26.21  </td> <td>18   </td> <td>0.244286   </td> <td>0.0793735     </td>\n        </tr>\n        <tr>\n            <td>6      </td> <td>32  </td> <td>9.21   </td> <td>32   </td> <td>0.0765431  </td> <td>0.0478295     </td>\n        </tr>\n        <tr>\n            <td>6      </td> <td>32  </td> <td>11.71  </td> <td>28   </td> <td>0.101325   </td> <td>0.0538756     </td>\n        </tr>\n        <tr>\n            <td>6      </td> <td>32  </td> <td>12.38  </td> <td>26   </td> <td>0.109045   </td> <td>0.0531849     </td>\n        </tr>\n        <tr>\n            <td>6      </td> <td>33  </td> <td>30     </td> <td>15   </td> <td>0.283982   </td> <td>0.0760928     </td>\n        </tr>\n        <tr>\n            <td>6      </td> <td>33  </td> <td>18.05  </td> <td>25   </td> <td>0.160317   </td> <td>0.0747569     </td>\n        </tr>\n        <tr>\n            <td>6      </td> <td>33  </td> <td>52     </td> <td>7    </td> <td>0.505802   </td> <td>0.0621046     </td>\n        </tr>\n        <tr>\n            <td>6      </td> <td>33  </td> <td>12.38  </td> <td>30   </td> <td>0.10507    </td> <td>0.060662      </td>\n        </tr>\n        <tr>\n            <td>6      </td> <td>33  </td> <td>6.71   </td> <td>45   </td> <td>0.0464979  </td> <td>0.0464979     </td>\n        </tr>\n        <tr>\n            <td>6      </td> <td>34  </td> <td>53     </td> <td>15   </td> <td>0.501702   </td> <td>0.134431      </td>\n        </tr>\n        <tr>\n            <td>6      </td> <td>35  </td> <td>6.71   </td> <td>25   </td> <td>0.059597   </td> <td>0.0277905     </td>\n        </tr>\n        <tr>\n            <td>6      </td> <td>35  </td> <td>6.71   </td> <td>25   </td> <td>0.059597   </td> <td>0.0277905     </td>\n        </tr>\n        <tr>\n            <td>6      </td> <td>35  </td> <td>6.71   </td> <td>20   </td> <td>0.0617923  </td> <td>0.0224906     </td>\n        </tr>\n        <tr>\n            <td>6      </td> <td>35  </td> <td>12.38  </td> <td>25   </td> <td>0.109957   </td> <td>0.0512737     </td>\n        </tr>\n        <tr>\n            <td>6      </td> <td>35  </td> <td>18.05  </td> <td>25   </td> <td>0.160317   </td> <td>0.0747569     </td>\n        </tr>\n        <tr>\n            <td>6      </td> <td>35  </td> <td>23.72  </td> <td>20   </td> <td>0.218437   </td> <td>0.0795046     </td>\n        </tr>\n        <tr>\n            <td>6      </td> <td>35  </td> <td>29.39  </td> <td>10   </td> <td>0.283646   </td> <td>0.0500145     </td>\n        </tr>\n        <tr>\n            <td>6      </td> <td>36  </td> <td>18.05  </td> <td>13   </td> <td>0.172356   </td> <td>0.0397916     </td>\n        </tr>\n        <tr>\n            <td>6      </td> <td>36  </td> <td>29.39  </td> <td>10   </td> <td>0.283646   </td> <td>0.0500145     </td>\n        </tr>\n        <tr>\n            <td>6      </td> <td>36  </td> <td>40.73  </td> <td>5    </td> <td>0.397635   </td> <td>0.0347886     </td>\n        </tr>\n        <tr>\n            <td>6      </td> <td>36  </td> <td>52.07  </td> <td>3    </td> <td>0.509587   </td> <td>0.0267063     </td>\n        </tr>\n        <tr>\n            <td>6      </td> <td>32  </td> <td>18.05  </td> <td>21   </td> <td>0.165141   </td> <td>0.0633917     </td>\n        </tr>\n        <tr>\n            <td>6      </td> <td>36  </td> <td>12.38  </td> <td>25   </td> <td>0.109957   </td> <td>0.0512737     </td>\n        </tr>\n        <tr>\n            <td>6      </td> <td>36  </td> <td>18.05  </td> <td>20   </td> <td>0.166222   </td> <td>0.0604999     </td>\n        </tr>\n        <tr>\n            <td>6      </td> <td>36  </td> <td>23.72  </td> <td>16   </td> <td>0.223451   </td> <td>0.0640736     </td>\n        </tr>\n        <tr>\n            <td>6      </td> <td>36  </td> <td>18.05  </td> <td>15   </td> <td>0.170863   </td> <td>0.0457825     </td>\n        </tr>\n        <tr>\n            <td>6      </td> <td>36  </td> <td>29.39  </td> <td>10   </td> <td>0.283646   </td> <td>0.0500145     </td>\n        </tr>\n        <tr>\n            <td>6      </td> <td>34  </td> <td>53     </td> <td>12.5 </td> <td>0.507088   </td> <td>0.112419      </td>\n        </tr>\n    </tbody>\n</table>",
          "text/plain": "<IPython.core.display.HTML object>"
         },
         "metadata": {},
         "output_type": "display_data"
        }
       ]
      }
     },
     "becde9ff826b4a6595c770a93270b9d3": {
      "model_module": "@jupyter-widgets/controls",
      "model_module_version": "1.5.0",
      "model_name": "IntSliderModel",
      "state": {
       "description": "Rows",
       "layout": "IPY_MODEL_c87ac732d1e94a24ab58f5975e686cf6",
       "max": 10,
       "min": 1,
       "style": "IPY_MODEL_4d49c38dea0d43bda2aed9e5d3c3f642",
       "value": 4
      }
     },
     "c0f96a5664fd4a7d8948839c91b451df": {
      "model_module": "@jupyter-widgets/base",
      "model_module_version": "1.2.0",
      "model_name": "LayoutModel",
      "state": {}
     },
     "c5ad1e49fb974880b4cdafe4767d5dbc": {
      "model_module": "@jupyter-widgets/output",
      "model_module_version": "1.0.0",
      "model_name": "OutputModel",
      "state": {
       "layout": "IPY_MODEL_aacc8fc861d1421fb872576b44672eb0",
       "outputs": [
        {
         "data": {
          "text/markdown": "<pre>Asked to display 4 rows, but only 3 exist. Showing 3 rows</pre>",
          "text/plain": "<IPython.core.display.Markdown object>"
         },
         "metadata": {},
         "output_type": "display_data"
        },
        {
         "data": {
          "text/html": "<table border=\"1\" class=\"dataframe\">\n    <thead>\n        <tr>\n            <th>Section</th> <th>Team</th> <th>Mass</th> <th>Angle</th> <th>Shear Force</th> <th>Adhesive Force</th>\n        </tr>\n    </thead>\n    <tbody>\n        <tr>\n            <td>3      </td> <td>18  </td> <td>6.71 </td> <td>25   </td> <td>0.059597   </td> <td>0.0277905     </td>\n        </tr>\n        <tr>\n            <td>3      </td> <td>18  </td> <td>12.38</td> <td>20   </td> <td>0.114007   </td> <td>0.0414953     </td>\n        </tr>\n        <tr>\n            <td>3      </td> <td>18  </td> <td>18.05</td> <td>35   </td> <td>0.1449     </td> <td>0.10146       </td>\n        </tr>\n    </tbody>\n</table>",
          "text/plain": "<IPython.core.display.HTML object>"
         },
         "metadata": {},
         "output_type": "display_data"
        }
       ]
      }
     },
     "c658c0dd51c9447f880ed187a50d98de": {
      "model_module": "@jupyter-widgets/base",
      "model_module_version": "1.2.0",
      "model_name": "LayoutModel",
      "state": {}
     },
     "c87ac732d1e94a24ab58f5975e686cf6": {
      "model_module": "@jupyter-widgets/base",
      "model_module_version": "1.2.0",
      "model_name": "LayoutModel",
      "state": {}
     },
     "cc380f62e1604a05a34c017442c2eefe": {
      "model_module": "@jupyter-widgets/output",
      "model_module_version": "1.0.0",
      "model_name": "OutputModel",
      "state": {
       "layout": "IPY_MODEL_5cc7f43008a44b1f9632b81e8d33536d",
       "outputs": [
        {
         "data": {
          "application/vnd.jupyter.widget-view+json": {
           "model_id": "ac07ae969042414d8749db66eedef94f",
           "version_major": 2,
           "version_minor": 0
          },
          "text/plain": "interactive(children=(Dropdown(description='Term', options=('Spring 2020', 'Spring 2021'), value='Spring 2020'…"
         },
         "metadata": {},
         "output_type": "display_data"
        }
       ]
      }
     },
     "cccb9f314cc449b888de7fb294fbbf24": {
      "model_module": "@jupyter-widgets/base",
      "model_module_version": "1.2.0",
      "model_name": "LayoutModel",
      "state": {}
     },
     "cd723e11bb8543b2925363d394a1c46b": {
      "model_module": "@jupyter-widgets/controls",
      "model_module_version": "1.5.0",
      "model_name": "IntSliderModel",
      "state": {
       "description": "Rows",
       "layout": "IPY_MODEL_7243787a27764089bed1b626cf1a937d",
       "max": 300,
       "min": 1,
       "style": "IPY_MODEL_3891031b432f4cbbaa49639a321057b7",
       "value": 5
      }
     },
     "cd7716145744478ca2c7060eb07b7c3b": {
      "model_module": "@jupyter-widgets/controls",
      "model_module_version": "1.5.0",
      "model_name": "VBoxModel",
      "state": {
       "_dom_classes": [
        "widget-interact"
       ],
       "children": [
        "IPY_MODEL_4f48af5bba0d431c9a91998955429e45",
        "IPY_MODEL_cd723e11bb8543b2925363d394a1c46b",
        "IPY_MODEL_4cf74c2249764ff1b74b2a4eb8735bb1"
       ],
       "layout": "IPY_MODEL_67469a40216d4944bb781932df0d9062"
      }
     },
     "cdbed60b22bd4c33b147a245a6f4ffa7": {
      "model_module": "@jupyter-widgets/controls",
      "model_module_version": "1.5.0",
      "model_name": "VBoxModel",
      "state": {
       "_dom_classes": [
        "widget-interact"
       ],
       "children": [
        "IPY_MODEL_e2d499466bd3409b8e8047a481326edc",
        "IPY_MODEL_34791da517b04ed1a15687809d38e49c",
        "IPY_MODEL_655a66e744b643dea061296e47999e4d"
       ],
       "layout": "IPY_MODEL_79fe2cecfcbb4fa9ac89eab799d97068"
      }
     },
     "ce91278f33fb459e924d5e69250087ab": {
      "model_module": "@jupyter-widgets/controls",
      "model_module_version": "1.5.0",
      "model_name": "DescriptionStyleModel",
      "state": {
       "description_width": ""
      }
     },
     "d18ca8b743bd4073b967176857fbd569": {
      "model_module": "@jupyter-widgets/output",
      "model_module_version": "1.0.0",
      "model_name": "OutputModel",
      "state": {
       "layout": "IPY_MODEL_798006c3407047bf85cf44eb626f6361",
       "outputs": [
        {
         "data": {
          "application/vnd.jupyter.widget-view+json": {
           "model_id": "cd7716145744478ca2c7060eb07b7c3b",
           "version_major": 2,
           "version_minor": 0
          },
          "text/plain": "interactive(children=(Dropdown(description='Term', options=('Spring 2020', 'Spring 2021'), value='Spring 2020'…"
         },
         "metadata": {},
         "output_type": "display_data"
        }
       ]
      }
     },
     "d73aafa810ae499c94fc9fdfed70c338": {
      "model_module": "@jupyter-widgets/output",
      "model_module_version": "1.0.0",
      "model_name": "OutputModel",
      "state": {
       "layout": "IPY_MODEL_4229c442fa7948ce9273c6b9d6c758dc",
       "outputs": [
        {
         "data": {
          "text/html": "<table border=\"1\" class=\"dataframe\">\n    <thead>\n        <tr>\n            <th>Collected</th> <th>Mass (g)</th> <th>Angle (deg)</th> <th>Shear Force (N)</th> <th>Adhesive Force (N)</th>\n        </tr>\n    </thead>\n    <tbody>\n        <tr>\n            <td>Spring 2020</td> <td>17.5    </td> <td>35         </td> <td>0.140485       </td> <td>0.0983684         </td>\n        </tr>\n        <tr>\n            <td>Spring 2020</td> <td>17.5    </td> <td>38         </td> <td>0.135144       </td> <td>0.105586          </td>\n        </tr>\n        <tr>\n            <td>Spring 2020</td> <td>17.5    </td> <td>41         </td> <td>0.129433       </td> <td>0.112514          </td>\n        </tr>\n        <tr>\n            <td>Spring 2020</td> <td>30.9    </td> <td>25         </td> <td>0.274448       </td> <td>0.127977          </td>\n        </tr>\n        <tr>\n            <td>Spring 2020</td> <td>30.9    </td> <td>25         </td> <td>0.274448       </td> <td>0.127977          </td>\n        </tr>\n    </tbody>\n</table>\n<p>... (298 rows omitted)</p>",
          "text/plain": "<IPython.core.display.HTML object>"
         },
         "metadata": {},
         "output_type": "display_data"
        }
       ]
      }
     },
     "d797504aaecf45e6b6dd3a113c83be7d": {
      "model_module": "@jupyter-widgets/output",
      "model_module_version": "1.0.0",
      "model_name": "OutputModel",
      "state": {
       "layout": "IPY_MODEL_50eebba133074d89a238fe5f1c55817a",
       "outputs": [
        {
         "data": {
          "text/html": "<table border=\"1\" class=\"dataframe\">\n    <thead>\n        <tr>\n            <th>Section</th> <th>Team</th> <th>Mass (g)</th> <th>Angle (deg)</th> <th>Shear Force (N)</th> <th>Adhesive Force (N)</th>\n        </tr>\n    </thead>\n    <tbody>\n        <tr>\n            <td>1      </td> <td>4   </td> <td>18.05   </td> <td>24         </td> <td>0.161597       </td> <td>0.0719476         </td>\n        </tr>\n        <tr>\n            <td>1      </td> <td>4   </td> <td>6.71    </td> <td>30         </td> <td>0.0569481      </td> <td>0.032879          </td>\n        </tr>\n        <tr>\n            <td>1      </td> <td>4   </td> <td>12.38   </td> <td>30         </td> <td>0.10507        </td> <td>0.060662          </td>\n        </tr>\n        <tr>\n            <td>1      </td> <td>4   </td> <td>18.05   </td> <td>23         </td> <td>0.162828       </td> <td>0.0691164         </td>\n        </tr>\n        <tr>\n            <td>1      </td> <td>4   </td> <td>18.05   </td> <td>16         </td> <td>0.170038       </td> <td>0.0487575         </td>\n        </tr>\n        <tr>\n            <td>1      </td> <td>4   </td> <td>23.72   </td> <td>17         </td> <td>0.222299       </td> <td>0.0679636         </td>\n        </tr>\n    </tbody>\n</table>\n<p>... (197 rows omitted)</p>",
          "text/plain": "<IPython.core.display.HTML object>"
         },
         "metadata": {},
         "output_type": "display_data"
        }
       ]
      }
     },
     "d7a4154a184b445cb2c49393e1b2ad78": {
      "model_module": "@jupyter-widgets/controls",
      "model_module_version": "1.5.0",
      "model_name": "VBoxModel",
      "state": {
       "_dom_classes": [
        "widget-interact"
       ],
       "children": [
        "IPY_MODEL_766bc5b1e6cd41c2bed7c58a70c6f297",
        "IPY_MODEL_7d1ac2df6d73449fa79c804b227f9ff8",
        "IPY_MODEL_be3ab831bfad4526bef1f289b35feb49"
       ],
       "layout": "IPY_MODEL_061249bf75074c35bd673ca51a7459cf"
      }
     },
     "dcb64b0730ee4371b468722a558f645f": {
      "model_module": "@jupyter-widgets/controls",
      "model_module_version": "1.5.0",
      "model_name": "VBoxModel",
      "state": {
       "_dom_classes": [
        "widget-interact"
       ],
       "children": [
        "IPY_MODEL_14d034a5fb1840df83f068f5c46e3198",
        "IPY_MODEL_df9c4b4c17174e5283f8a9be093a896a"
       ],
       "layout": "IPY_MODEL_898e6fe09d72492ebb8e00b7bf9c9f0b"
      }
     },
     "df82474612554561bcb0df29b2c2b050": {
      "model_module": "@jupyter-widgets/controls",
      "model_module_version": "1.5.0",
      "model_name": "DescriptionStyleModel",
      "state": {
       "description_width": ""
      }
     },
     "df9c4b4c17174e5283f8a9be093a896a": {
      "model_module": "@jupyter-widgets/output",
      "model_module_version": "1.0.0",
      "model_name": "OutputModel",
      "state": {
       "layout": "IPY_MODEL_f7eea4535b834fb69f9250249f71497d",
       "outputs": [
        {
         "data": {
          "text/html": "<table border=\"1\" class=\"dataframe\">\n    <thead>\n        <tr>\n            <th>Section</th> <th>Team</th> <th>Mass (g)</th> <th>Angle (deg)</th> <th>Shear Force (N)</th> <th>Adhesive Force (N)</th>\n        </tr>\n    </thead>\n    <tbody>\n        <tr>\n            <td>1      </td> <td>4   </td> <td>18.05   </td> <td>24         </td> <td>0.161597       </td> <td>0.0719476         </td>\n        </tr>\n        <tr>\n            <td>1      </td> <td>4   </td> <td>6.71    </td> <td>30         </td> <td>0.0569481      </td> <td>0.032879          </td>\n        </tr>\n        <tr>\n            <td>1      </td> <td>4   </td> <td>12.38   </td> <td>30         </td> <td>0.10507        </td> <td>0.060662          </td>\n        </tr>\n        <tr>\n            <td>1      </td> <td>4   </td> <td>18.05   </td> <td>23         </td> <td>0.162828       </td> <td>0.0691164         </td>\n        </tr>\n        <tr>\n            <td>1      </td> <td>4   </td> <td>18.05   </td> <td>16         </td> <td>0.170038       </td> <td>0.0487575         </td>\n        </tr>\n        <tr>\n            <td>1      </td> <td>4   </td> <td>23.72   </td> <td>17         </td> <td>0.222299       </td> <td>0.0679636         </td>\n        </tr>\n        <tr>\n            <td>1      </td> <td>4   </td> <td>23.72   </td> <td>13         </td> <td>0.226498       </td> <td>0.0522912         </td>\n        </tr>\n        <tr>\n            <td>1      </td> <td>5   </td> <td>11.71   </td> <td>19         </td> <td>0.108506       </td> <td>0.0373616         </td>\n        </tr>\n        <tr>\n            <td>1      </td> <td>5   </td> <td>16.71   </td> <td>16         </td> <td>0.157414       </td> <td>0.0451378         </td>\n        </tr>\n        <tr>\n            <td>1      </td> <td>5   </td> <td>21.71   </td> <td>17         </td> <td>0.203461       </td> <td>0.0622044         </td>\n        </tr>\n    </tbody>\n</table>\n<p>... (193 rows omitted)</p>",
          "text/plain": "<IPython.core.display.HTML object>"
         },
         "metadata": {},
         "output_type": "display_data"
        }
       ]
      }
     },
     "e2be68476725421dadbc946939d40d40": {
      "model_module": "@jupyter-widgets/base",
      "model_module_version": "1.2.0",
      "model_name": "LayoutModel",
      "state": {}
     },
     "e2d499466bd3409b8e8047a481326edc": {
      "model_module": "@jupyter-widgets/controls",
      "model_module_version": "1.5.0",
      "model_name": "DropdownModel",
      "state": {
       "_options_labels": [
        "Spring 2020",
        "Spring 2021"
       ],
       "description": "Term",
       "index": 1,
       "layout": "IPY_MODEL_f1978c145a3b43d282cafc4ff0690992",
       "style": "IPY_MODEL_edc60f4f3489449bafe12753d0b33469"
      }
     },
     "e3fee64bf71141bb81c702d1f54bb3af": {
      "model_module": "@jupyter-widgets/controls",
      "model_module_version": "1.5.0",
      "model_name": "VBoxModel",
      "state": {
       "_dom_classes": [
        "widget-interact"
       ],
       "children": [
        "IPY_MODEL_31caef1861ca4e1f92ba6d686ef44e90",
        "IPY_MODEL_8b40627eb8654574be71d96a9a4cbcad",
        "IPY_MODEL_618a7d00722043fc85cfd1ad53de10ee"
       ],
       "layout": "IPY_MODEL_22b4b7c6fe51452fb08db2958e59bdfa"
      }
     },
     "e6d378492bfb4fb0a9b1e1e99cc77ac3": {
      "model_module": "@jupyter-widgets/controls",
      "model_module_version": "1.5.0",
      "model_name": "DescriptionStyleModel",
      "state": {
       "description_width": ""
      }
     },
     "edbe779dd1b64359930e54694a01e5a3": {
      "model_module": "@jupyter-widgets/base",
      "model_module_version": "1.2.0",
      "model_name": "LayoutModel",
      "state": {}
     },
     "edc60f4f3489449bafe12753d0b33469": {
      "model_module": "@jupyter-widgets/controls",
      "model_module_version": "1.5.0",
      "model_name": "DescriptionStyleModel",
      "state": {
       "description_width": ""
      }
     },
     "f1978c145a3b43d282cafc4ff0690992": {
      "model_module": "@jupyter-widgets/base",
      "model_module_version": "1.2.0",
      "model_name": "LayoutModel",
      "state": {}
     },
     "f7eea4535b834fb69f9250249f71497d": {
      "model_module": "@jupyter-widgets/base",
      "model_module_version": "1.2.0",
      "model_name": "LayoutModel",
      "state": {}
     },
     "f956fcfae5b24c7da266c3d279b2ae55": {
      "model_module": "@jupyter-widgets/controls",
      "model_module_version": "1.5.0",
      "model_name": "IntSliderModel",
      "state": {
       "description": "Rows",
       "layout": "IPY_MODEL_7940c689ce4c488f8407c30fadbbbea1",
       "max": 203,
       "min": 1,
       "style": "IPY_MODEL_853d6a711cfd4fccb389cbb9b2a84fd2",
       "value": 6
      }
     },
     "faf99fa865a24020a86876b1936e483a": {
      "model_module": "@jupyter-widgets/controls",
      "model_module_version": "1.5.0",
      "model_name": "DescriptionStyleModel",
      "state": {
       "description_width": ""
      }
     },
     "fd0a6078743c48d48078513a50d804f7": {
      "model_module": "@jupyter-widgets/controls",
      "model_module_version": "1.5.0",
      "model_name": "VBoxModel",
      "state": {
       "_dom_classes": [
        "widget-interact"
       ],
       "children": [
        "IPY_MODEL_693c5f84cf9d46bc8dc353317348144e",
        "IPY_MODEL_2104b3a4cdc74a8baea555b6f5de5098",
        "IPY_MODEL_cc380f62e1604a05a34c017442c2eefe"
       ],
       "layout": "IPY_MODEL_224b53b163b140acb4f8eba215263029"
      }
     }
    },
    "version_major": 2,
    "version_minor": 0
   }
  }
 },
 "nbformat": 4,
 "nbformat_minor": 5
}
