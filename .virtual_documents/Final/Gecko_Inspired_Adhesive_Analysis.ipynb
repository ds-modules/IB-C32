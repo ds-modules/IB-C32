# Run the cell by using one of the methods we mentioned above!

print("Hello World!")


import plotly.express as px;
import scipy.constants as constant; import numpy as np; import math # Loads numerical methods
from ipywidgets import *; import utils as utilities # Loads a widgets library that will allow for interactive learning
import pandas as pd; import numpy as np # Loads Data Science Packages
from datascience import *; from IPython.display import * # This loads tools from the datascience library
import openpyxl


print('This line is missing something.'


# Instead of performing this calculation over and over again ...
4 - 2 * (1 + 6 / 3)


# Try assigning it to a variable for future use!
y = 4 - 2 * (1 + 6 / 3)


# We can print the value as follows
y


# We can also use it in other calculations now!
y * 2


# Below we are going to imput our own data!
# We are telling the computer to create a Table and read in some data.

myClassData = Table.read_table("/home/jovyan/...")
mySectionData = Table.read_table("/home/jovyan/...")

#Hint: should look something like pd.read_csv("/home/jovyan/myclassdata.csv")
# This next command will display the top 5 entries. You can change the number
# to view a different amount of entries at time.
myClassData.show(5)
mySectionData.show(5)


utilities.forces_plot()


cleaner = utilities.cleaner
class_data = utilities.class_data
section_data = utilities.section_data


class_data.show_interact()
section_data.show_interact()


utilities.show_gecko_tables()


def ploter(table):
    @interact(x=widgets.Dropdown(options=[None] + list(table.labels), description="Column"), value = None)
    def plot_helper(x):
        if x:
            px.histogram(table.to_df(), x = x, marginal = "box", template='seaborn', title = x).show()
ploter(class_data)


@interact(Columns = widgets.Dropdown(options = [None] + list(class_data.labels), value = None))
def colored(Columns):
    px.scatter(data_frame = class_data.to_df(), 
           x="Shear Force (N)", 
           y = "Adhesive Force (N)",
           color = Columns,
           marginal_y = "histogram", 
           marginal_x = "histogram",
           template = "seaborn").show()


#only use once myClassData is defined
utilities.visualize(myClassData)


#only use once mySectionData is defined
utilities.visualize(mySectionData)
