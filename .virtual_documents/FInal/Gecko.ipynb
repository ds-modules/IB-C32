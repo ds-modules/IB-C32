import plotly.express as px;
import scipy.constants as constant; import numpy as np; import math
from ipywidgets import *; from utils import *
import pandas as pd; import numpy as np
from datascience import *; from IPython.display import *
get_ipython().run_line_magic("pip", " install -q openpyxl")


forces_plot()


cleaner = lambda x: x.replace("Sp", "Spring ")
class_data = Table.from_df(pd.read_excel("Data/gecko.xlsx", sheet_name="Class"))
class_data["Collected"] = class_data.apply(cleaner, "Collected")
section_data = pd.read_excel("Data/gecko.xlsx", sheet_name="Sections")
section_data.columns = ['Section', 'Team', 'Mass (g)', 'Angle (deg)', 'Shear Force (N)', 'Adhesive Force (N)']
section_data = Table.from_df(section_data)


class_data.show_interact()
section_data.show_interact()


show_gecko_tables()


class_data.show_interact()
section_data.show_interact()


@interact(z=widgets.Dropdown(options=[2, 3, 4], description="Column Index:"))
def ploter(z):
    show(" ")
    show(class_data.labels[z], tags = ["pre style='font-size:30px'", "center"])
    px.histogram(x = class_data.column(z), marginal = "box", template='seaborn').show()


px.scatter(data_frame = class_data.to_df(), 
           x="Shear Force (N)", 
           y = "Adhesive Force (N)",
           marginal_y = "histogram", 
           marginal_x = "histogram",
           template ="seaborn")


@interact(Columns = widgets.Dropdown(options = class_data.labels))
def coloered(Columns):
    px.scatter(data_frame = class_data.to_df(), 
           x="Shear Force (N)", 
           y = "Adhesive Force (N)",
           color = Columns,
           marginal_y = "histogram", 
           marginal_x = "histogram",
           template = "seaborn").show()
