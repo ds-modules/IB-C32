{
 "cells": [
  {
   "cell_type": "markdown",
   "id": "df2e2b91",
   "metadata": {},
   "source": [
    "# Visualizations"
   ]
  },
  {
   "cell_type": "markdown",
   "id": "522f2462",
   "metadata": {},
   "source": [
    "Now we will begin visualizing the data you have collected! In this section, we will guide you through the steps of creating three different types of graphs. This will be a continuation of what you learned in Notebook 0 for visualizations. "
   ]
  },
  {
   "cell_type": "code",
   "execution_count": 7,
   "id": "8670777d",
   "metadata": {},
   "outputs": [
    {
     "name": "stdout",
     "output_type": "stream",
     "text": [
      "Collecting datascienceNote: you may need to restart the kernel to use updated packages.\n"
     ]
    },
    {
     "name": "stderr",
     "output_type": "stream",
     "text": [
      "\n",
      "[notice] A new release of pip available: 22.3.1 -> 23.0.1\n",
      "[notice] To update, run: C:\\Users\\tanya\\AppData\\Local\\Microsoft\\WindowsApps\\PythonSoftwareFoundation.Python.3.10_qbz5n2kfra8p0\\python.exe -m pip install --upgrade pip\n"
     ]
    },
    {
     "name": "stdout",
     "output_type": "stream",
     "text": [
      "\n",
      "  Using cached datascience-0.17.6-py3-none-any.whl (732 kB)\n",
      "Collecting folium>=0.9.1\n",
      "  Using cached folium-0.14.0-py2.py3-none-any.whl (102 kB)\n",
      "Requirement already satisfied: scipy in c:\\users\\tanya\\appdata\\local\\packages\\pythonsoftwarefoundation.python.3.10_qbz5n2kfra8p0\\localcache\\local-packages\\python310\\site-packages (from datascience) (1.10.1)\n",
      "Collecting branca\n",
      "  Using cached branca-0.6.0-py3-none-any.whl (24 kB)\n",
      "Requirement already satisfied: numpy in c:\\users\\tanya\\appdata\\local\\packages\\pythonsoftwarefoundation.python.3.10_qbz5n2kfra8p0\\localcache\\local-packages\\python310\\site-packages (from datascience) (1.24.2)\n",
      "Requirement already satisfied: plotly in c:\\users\\tanya\\appdata\\local\\packages\\pythonsoftwarefoundation.python.3.10_qbz5n2kfra8p0\\localcache\\local-packages\\python310\\site-packages (from datascience) (5.13.1)\n",
      "Requirement already satisfied: ipython in c:\\users\\tanya\\appdata\\local\\packages\\pythonsoftwarefoundation.python.3.10_qbz5n2kfra8p0\\localcache\\local-packages\\python310\\site-packages (from datascience) (8.10.0)\n",
      "Collecting matplotlib>=3.0.0\n",
      "  Using cached matplotlib-3.7.0-cp310-cp310-win_amd64.whl (7.6 MB)\n",
      "Collecting pandas\n",
      "  Using cached pandas-1.5.3-cp310-cp310-win_amd64.whl (10.4 MB)\n",
      "Requirement already satisfied: setuptools in c:\\program files\\windowsapps\\pythonsoftwarefoundation.python.3.10_3.10.2800.0_x64__qbz5n2kfra8p0\\lib\\site-packages (from datascience) (65.5.0)\n",
      "Requirement already satisfied: requests in c:\\users\\tanya\\appdata\\local\\packages\\pythonsoftwarefoundation.python.3.10_qbz5n2kfra8p0\\localcache\\local-packages\\python310\\site-packages (from folium>=0.9.1->datascience) (2.28.2)\n",
      "Collecting jinja2>=2.9\n",
      "  Using cached Jinja2-3.1.2-py3-none-any.whl (133 kB)\n",
      "Requirement already satisfied: kiwisolver>=1.0.1 in c:\\users\\tanya\\appdata\\local\\packages\\pythonsoftwarefoundation.python.3.10_qbz5n2kfra8p0\\localcache\\local-packages\\python310\\site-packages (from matplotlib>=3.0.0->datascience) (1.4.4)\n",
      "Requirement already satisfied: fonttools>=4.22.0 in c:\\users\\tanya\\appdata\\local\\packages\\pythonsoftwarefoundation.python.3.10_qbz5n2kfra8p0\\localcache\\local-packages\\python310\\site-packages (from matplotlib>=3.0.0->datascience) (4.38.0)\n",
      "Requirement already satisfied: packaging>=20.0 in c:\\users\\tanya\\appdata\\local\\packages\\pythonsoftwarefoundation.python.3.10_qbz5n2kfra8p0\\localcache\\local-packages\\python310\\site-packages (from matplotlib>=3.0.0->datascience) (23.0)\n",
      "Collecting contourpy>=1.0.1\n",
      "  Using cached contourpy-1.0.7-cp310-cp310-win_amd64.whl (162 kB)\n",
      "Requirement already satisfied: pyparsing>=2.3.1 in c:\\users\\tanya\\appdata\\local\\packages\\pythonsoftwarefoundation.python.3.10_qbz5n2kfra8p0\\localcache\\local-packages\\python310\\site-packages (from matplotlib>=3.0.0->datascience) (3.0.9)\n",
      "Requirement already satisfied: python-dateutil>=2.7 in c:\\users\\tanya\\appdata\\local\\packages\\pythonsoftwarefoundation.python.3.10_qbz5n2kfra8p0\\localcache\\local-packages\\python310\\site-packages (from matplotlib>=3.0.0->datascience) (2.8.2)\n",
      "Requirement already satisfied: pillow>=6.2.0 in c:\\users\\tanya\\appdata\\local\\packages\\pythonsoftwarefoundation.python.3.10_qbz5n2kfra8p0\\localcache\\local-packages\\python310\\site-packages (from matplotlib>=3.0.0->datascience) (9.4.0)\n",
      "Requirement already satisfied: cycler>=0.10 in c:\\users\\tanya\\appdata\\local\\packages\\pythonsoftwarefoundation.python.3.10_qbz5n2kfra8p0\\localcache\\local-packages\\python310\\site-packages (from matplotlib>=3.0.0->datascience) (0.11.0)\n",
      "Requirement already satisfied: traitlets>=5 in c:\\users\\tanya\\appdata\\local\\packages\\pythonsoftwarefoundation.python.3.10_qbz5n2kfra8p0\\localcache\\local-packages\\python310\\site-packages (from ipython->datascience) (5.9.0)\n",
      "Requirement already satisfied: jedi>=0.16 in c:\\users\\tanya\\appdata\\local\\packages\\pythonsoftwarefoundation.python.3.10_qbz5n2kfra8p0\\localcache\\local-packages\\python310\\site-packages (from ipython->datascience) (0.18.2)\n",
      "Requirement already satisfied: matplotlib-inline in c:\\users\\tanya\\appdata\\local\\packages\\pythonsoftwarefoundation.python.3.10_qbz5n2kfra8p0\\localcache\\local-packages\\python310\\site-packages (from ipython->datascience) (0.1.6)\n",
      "Requirement already satisfied: decorator in c:\\users\\tanya\\appdata\\local\\packages\\pythonsoftwarefoundation.python.3.10_qbz5n2kfra8p0\\localcache\\local-packages\\python310\\site-packages (from ipython->datascience) (5.1.1)\n",
      "Requirement already satisfied: colorama in c:\\users\\tanya\\appdata\\local\\packages\\pythonsoftwarefoundation.python.3.10_qbz5n2kfra8p0\\localcache\\local-packages\\python310\\site-packages (from ipython->datascience) (0.4.6)\n",
      "Requirement already satisfied: prompt-toolkit<3.1.0,>=3.0.30 in c:\\users\\tanya\\appdata\\local\\packages\\pythonsoftwarefoundation.python.3.10_qbz5n2kfra8p0\\localcache\\local-packages\\python310\\site-packages (from ipython->datascience) (3.0.37)\n",
      "Requirement already satisfied: backcall in c:\\users\\tanya\\appdata\\local\\packages\\pythonsoftwarefoundation.python.3.10_qbz5n2kfra8p0\\localcache\\local-packages\\python310\\site-packages (from ipython->datascience) (0.2.0)\n",
      "Requirement already satisfied: pickleshare in c:\\users\\tanya\\appdata\\local\\packages\\pythonsoftwarefoundation.python.3.10_qbz5n2kfra8p0\\localcache\\local-packages\\python310\\site-packages (from ipython->datascience) (0.7.5)\n",
      "Requirement already satisfied: pygments>=2.4.0 in c:\\users\\tanya\\appdata\\local\\packages\\pythonsoftwarefoundation.python.3.10_qbz5n2kfra8p0\\localcache\\local-packages\\python310\\site-packages (from ipython->datascience) (2.14.0)\n",
      "Requirement already satisfied: stack-data in c:\\users\\tanya\\appdata\\local\\packages\\pythonsoftwarefoundation.python.3.10_qbz5n2kfra8p0\\localcache\\local-packages\\python310\\site-packages (from ipython->datascience) (0.6.2)\n",
      "Requirement already satisfied: pytz>=2020.1 in c:\\users\\tanya\\appdata\\local\\packages\\pythonsoftwarefoundation.python.3.10_qbz5n2kfra8p0\\localcache\\local-packages\\python310\\site-packages (from pandas->datascience) (2022.7.1)\n",
      "Requirement already satisfied: tenacity>=6.2.0 in c:\\users\\tanya\\appdata\\local\\packages\\pythonsoftwarefoundation.python.3.10_qbz5n2kfra8p0\\localcache\\local-packages\\python310\\site-packages (from plotly->datascience) (8.2.1)\n",
      "Requirement already satisfied: parso<0.9.0,>=0.8.0 in c:\\users\\tanya\\appdata\\local\\packages\\pythonsoftwarefoundation.python.3.10_qbz5n2kfra8p0\\localcache\\local-packages\\python310\\site-packages (from jedi>=0.16->ipython->datascience) (0.8.3)\n",
      "Requirement already satisfied: MarkupSafe>=2.0 in c:\\users\\tanya\\appdata\\local\\packages\\pythonsoftwarefoundation.python.3.10_qbz5n2kfra8p0\\localcache\\local-packages\\python310\\site-packages (from jinja2>=2.9->folium>=0.9.1->datascience) (2.1.2)\n",
      "Requirement already satisfied: wcwidth in c:\\users\\tanya\\appdata\\local\\packages\\pythonsoftwarefoundation.python.3.10_qbz5n2kfra8p0\\localcache\\local-packages\\python310\\site-packages (from prompt-toolkit<3.1.0,>=3.0.30->ipython->datascience) (0.2.6)\n",
      "Requirement already satisfied: six>=1.5 in c:\\users\\tanya\\appdata\\local\\packages\\pythonsoftwarefoundation.python.3.10_qbz5n2kfra8p0\\localcache\\local-packages\\python310\\site-packages (from python-dateutil>=2.7->matplotlib>=3.0.0->datascience) (1.16.0)\n",
      "Requirement already satisfied: urllib3<1.27,>=1.21.1 in c:\\users\\tanya\\appdata\\local\\packages\\pythonsoftwarefoundation.python.3.10_qbz5n2kfra8p0\\localcache\\local-packages\\python310\\site-packages (from requests->folium>=0.9.1->datascience) (1.26.14)\n",
      "Requirement already satisfied: idna<4,>=2.5 in c:\\users\\tanya\\appdata\\local\\packages\\pythonsoftwarefoundation.python.3.10_qbz5n2kfra8p0\\localcache\\local-packages\\python310\\site-packages (from requests->folium>=0.9.1->datascience) (3.4)\n",
      "Requirement already satisfied: certifi>=2017.4.17 in c:\\users\\tanya\\appdata\\local\\packages\\pythonsoftwarefoundation.python.3.10_qbz5n2kfra8p0\\localcache\\local-packages\\python310\\site-packages (from requests->folium>=0.9.1->datascience) (2022.12.7)\n",
      "Requirement already satisfied: charset-normalizer<4,>=2 in c:\\users\\tanya\\appdata\\local\\packages\\pythonsoftwarefoundation.python.3.10_qbz5n2kfra8p0\\localcache\\local-packages\\python310\\site-packages (from requests->folium>=0.9.1->datascience) (3.0.1)\n",
      "Requirement already satisfied: pure-eval in c:\\users\\tanya\\appdata\\local\\packages\\pythonsoftwarefoundation.python.3.10_qbz5n2kfra8p0\\localcache\\local-packages\\python310\\site-packages (from stack-data->ipython->datascience) (0.2.2)\n",
      "Requirement already satisfied: asttokens>=2.1.0 in c:\\users\\tanya\\appdata\\local\\packages\\pythonsoftwarefoundation.python.3.10_qbz5n2kfra8p0\\localcache\\local-packages\\python310\\site-packages (from stack-data->ipython->datascience) (2.2.1)\n",
      "Requirement already satisfied: executing>=1.2.0 in c:\\users\\tanya\\appdata\\local\\packages\\pythonsoftwarefoundation.python.3.10_qbz5n2kfra8p0\\localcache\\local-packages\\python310\\site-packages (from stack-data->ipython->datascience) (1.2.0)\n",
      "Installing collected packages: jinja2, contourpy, pandas, matplotlib, branca, folium, datascience\n",
      "Successfully installed branca-0.6.0 contourpy-1.0.7 datascience-0.17.6 folium-0.14.0 jinja2-3.1.2 matplotlib-3.7.0 pandas-1.5.3\n"
     ]
    }
   ],
   "source": [
    "%pip install datascience"
   ]
  },
  {
   "attachments": {},
   "cell_type": "markdown",
   "id": "177ae777",
   "metadata": {},
   "source": [
    "### Graph Defintions:\n",
    "\n",
    "1. Scatter plots are used to graph one or two numerical distributions. \n",
    "\n",
    "2. Bar plots are\n",
    "\n",
    "3. Line plots are\n"
   ]
  },
  {
   "attachments": {},
   "cell_type": "markdown",
   "id": "9ef0b88e",
   "metadata": {},
   "source": [
    "### Question 1\n",
    "\n",
    "Create a scatter plot using Maximum Running Speed (m/s) and Maximum Gap Distance Crossed to show if they are correlated. \n",
    "\n",
    "**Syntax:** Table.read_table(*table name*).scatter(\"column for x-axis\", \"column for y-axis\")\n"
   ]
  },
  {
   "cell_type": "code",
   "execution_count": 8,
   "id": "b069c116",
   "metadata": {},
   "outputs": [
    {
     "ename": "NameError",
     "evalue": "name 'Table' is not defined",
     "output_type": "error",
     "traceback": [
      "\u001b[1;31m---------------------------------------------------------------------------\u001b[0m",
      "\u001b[1;31mNameError\u001b[0m                                 Traceback (most recent call last)",
      "Cell \u001b[1;32mIn[8], line 1\u001b[0m\n\u001b[1;32m----> 1\u001b[0m Table\u001b[39m.\u001b[39mread_table(\u001b[39m\"\u001b[39m\u001b[39mclean_robot_18.csv\u001b[39m\u001b[39m\"\u001b[39m)\u001b[39m.\u001b[39mscatter(\u001b[39m\"\u001b[39m\u001b[39m...\u001b[39m\u001b[39m\"\u001b[39m, \u001b[39m\"\u001b[39m\u001b[39m...\u001b[39m\u001b[39m\"\u001b[39m)\n",
      "\u001b[1;31mNameError\u001b[0m: name 'Table' is not defined"
     ]
    }
   ],
   "source": [
    "Table.read_table(\"clean_robot_18.csv\").scatter(\"...\", \"...\")"
   ]
  },
  {
   "attachments": {},
   "cell_type": "markdown",
   "id": "d63a8dd6",
   "metadata": {},
   "source": [
    "### Question 2\n",
    "\n",
    "Create a line plot using "
   ]
  },
  {
   "cell_type": "code",
   "execution_count": 5,
   "id": "8656c1ca",
   "metadata": {},
   "outputs": [
    {
     "ename": "NameError",
     "evalue": "name 'Table' is not defined",
     "output_type": "error",
     "traceback": [
      "\u001b[1;31m---------------------------------------------------------------------------\u001b[0m",
      "\u001b[1;31mNameError\u001b[0m                                 Traceback (most recent call last)",
      "Cell \u001b[1;32mIn[5], line 1\u001b[0m\n\u001b[1;32m----> 1\u001b[0m Table\u001b[39m.\u001b[39mread_table(\u001b[39m\"\u001b[39m\u001b[39mclean_robot_18.csv\u001b[39m\u001b[39m\"\u001b[39m)\u001b[39m.\u001b[39mplot(\u001b[39m\"\u001b[39m\u001b[39m...\u001b[39m\u001b[39m\"\u001b[39m, \u001b[39m\"\u001b[39m\u001b[39m...\u001b[39m\u001b[39m\"\u001b[39m)\n",
      "\u001b[1;31mNameError\u001b[0m: name 'Table' is not defined"
     ]
    }
   ],
   "source": [
    "Table.read_table(\"clean_robot_18.csv\").plot(\"...\", \"...\")"
   ]
  },
  {
   "attachments": {},
   "cell_type": "markdown",
   "id": "c67854c7",
   "metadata": {},
   "source": [
    "### Question 3\n",
    "\n",
    "Create a bar plot using the Teams column and the Maximum Gap Distance Crossed column to compare each team's results."
   ]
  },
  {
   "cell_type": "code",
   "execution_count": null,
   "id": "2a705b22",
   "metadata": {},
   "outputs": [],
   "source": []
  }
 ],
 "metadata": {
  "kernelspec": {
   "display_name": "Python 3",
   "language": "python",
   "name": "python3"
  },
  "language_info": {
   "codemirror_mode": {
    "name": "ipython",
    "version": 3
   },
   "file_extension": ".py",
   "mimetype": "text/x-python",
   "name": "python",
   "nbconvert_exporter": "python",
   "pygments_lexer": "ipython3",
   "version": "3.10.10"
  },
  "vscode": {
   "interpreter": {
    "hash": "4ea04e400b16f01640781a171afc03babc080ba1653082daa42af9eb7443282c"
   }
  }
 },
 "nbformat": 4,
 "nbformat_minor": 5
}
