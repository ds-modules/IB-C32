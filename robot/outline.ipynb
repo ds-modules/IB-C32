{
 "cells": [
  {
   "attachments": {},
   "cell_type": "markdown",
   "id": "9f9fa00e",
   "metadata": {},
   "source": [
    "<h1 id=\"todo\">To-Do List</h1>"
   ]
  },
  {
   "attachments": {},
   "cell_type": "markdown",
   "id": "db234b74",
   "metadata": {},
   "source": [
    "- Intro\n",
    "    - <a href=\"#it\">Get Introduction text from Andrew</a>\n",
    "- Visualizations\n",
    "    - <a href=\"#ve\">Add more vizualization examples</a>\n",
    "- Conclusion\n",
    "    - <a href=\"#ct\">Write Conclusion</a>"
   ]
  },
  {
   "attachments": {},
   "cell_type": "markdown",
   "id": "edd97fb4",
   "metadata": {},
   "source": [
    "# Robot Data Exploration Notebook"
   ]
  },
  {
   "attachments": {},
   "cell_type": "markdown",
   "id": "7c79c41f",
   "metadata": {},
   "source": [
    "## Learning Objectives"
   ]
  },
  {
   "attachments": {},
   "cell_type": "markdown",
   "id": "b1c728ee",
   "metadata": {},
   "source": [
    "In this notebook you will:\n",
    "- Review an Introduction on the Robot Lab\n",
    "- Learn about loading data into a Jupyter notebook\n",
    "- Practice two methods of loading data into Jupyter\n",
    "- Leard about different types of visualizations\n",
    "- Create some of your own visualizations from your data"
   ]
  },
  {
   "attachments": {},
   "cell_type": "markdown",
   "id": "a9d13ca8",
   "metadata": {},
   "source": [
    "<hr>\n",
    "<hr>"
   ]
  },
  {
   "attachments": {},
   "cell_type": "markdown",
   "id": "6a105c44",
   "metadata": {},
   "source": [
    "## Introduction"
   ]
  },
  {
   "attachments": {},
   "cell_type": "markdown",
   "id": "9431c52b",
   "metadata": {},
   "source": [
    "<center><a href=#todo style=\"font-size:20px;color:gold\">View To-Do List</a></center>"
   ]
  },
  {
   "attachments": {},
   "cell_type": "markdown",
   "id": "12e93bab",
   "metadata": {},
   "source": [
    "<center><code style=\"font-size:20px;color:purple\" id=\"it\">Intro text given by Andrew</code></centr>"
   ]
  },
  {
   "cell_type": "markdown",
   "id": "414d1000",
   "metadata": {},
   "source": [
    "<hr style=\"border: 2px solid #003262\">\n",
    "<hr style=\"border: 2px solid #C9B676\">"
   ]
  },
  {
   "cell_type": "markdown",
   "id": "e35dfc7a",
   "metadata": {},
   "source": [
    "<hr style=\"border: 2px solid #003262\">\n",
    "<hr style=\"border: 2px solid #C9B676\">"
   ]
  },
  {
   "cell_type": "markdown",
   "id": "58c31660",
   "metadata": {},
   "source": [
    "## Setup"
   ]
  },
  {
   "attachments": {},
   "cell_type": "markdown",
   "id": "230806bf",
   "metadata": {},
   "source": [
    "<div class=\"alert alert-block alert-info\">\n",
    "    <p style=\"font-size:20px\">\n",
    "        Just run this cell to make sure we import the correct modules, and everything will work!\n",
    "    </p>\n",
    "</div>"
   ]
  },
  {
   "cell_type": "code",
   "execution_count": null,
   "id": "cbea98ee",
   "metadata": {},
   "outputs": [],
   "source": [
    "import matplotlib.pyplot as plt\n",
    "from datascience import *\n",
    "from utils import *\n",
    "plt.style.use(\"seaborn\")\n",
    "%matplotlib inline"
   ]
  },
  {
   "cell_type": "markdown",
   "id": "d09586ad",
   "metadata": {},
   "source": [
    "<hr style=\"border: 2px solid #003262\">\n",
    "<hr style=\"border: 2px solid #C9B676\">"
   ]
  },
  {
   "attachments": {},
   "cell_type": "markdown",
   "id": "8ca48270",
   "metadata": {},
   "source": [
    "## Getting the Data"
   ]
  },
  {
   "attachments": {},
   "cell_type": "markdown",
   "id": "a1d28bc6",
   "metadata": {},
   "source": [
    "### Methods in Making Tables"
   ]
  },
  {
   "attachments": {},
   "cell_type": "markdown",
   "id": "0ef6327e",
   "metadata": {},
   "source": [
    "In this portion of the notebook, we will use two different methods to create tables in Jupyter Notebooks using the data we gathered. \n",
    "\n",
    "- **Method 1**: Create arrays that represent columns and put them together to make a table\n",
    "\n",
    "    > This is a bit tedious\n",
    "- **Method 2**: Upload a `.csv` file of the data\n",
    "\n",
    "    > This is a much easier way to have the computer do the work for you!"
   ]
  },
  {
   "attachments": {},
   "cell_type": "markdown",
   "id": "76a8a76a",
   "metadata": {},
   "source": [
    "<div class=\"alert alert-block alert-success\">\n",
    "    <p style=\"font-size:20px\">\n",
    "        Remember, if you have questions on any of the terminology in this notebook, we define all of it for you in Notebook 0; \n",
    "        feel free to use that as a resrource to help you complete this notebook!\n",
    "    </p>\n",
    "</div>"
   ]
  },
  {
   "cell_type": "markdown",
   "id": "22c929f3",
   "metadata": {},
   "source": [
    "<hr>\n",
    "<hr>"
   ]
  },
  {
   "attachments": {},
   "cell_type": "markdown",
   "id": "a0694a83",
   "metadata": {},
   "source": [
    "### Method 1: Appending Columns"
   ]
  },
  {
   "attachments": {},
   "cell_type": "markdown",
   "id": "454ce327",
   "metadata": {},
   "source": [
    "The first method involves creating arrays of our desired column values and assigning each array to a variable. "
   ]
  },
  {
   "cell_type": "markdown",
   "id": "7cb3af47",
   "metadata": {},
   "source": [
    "<hr>\n",
    "<hr>"
   ]
  },
  {
   "attachments": {},
   "cell_type": "markdown",
   "id": "b37ca5f2",
   "metadata": {},
   "source": [
    "#### Example 1"
   ]
  },
  {
   "attachments": {},
   "cell_type": "markdown",
   "id": "4bf7ec43",
   "metadata": {},
   "source": [
    "Here we are using data from a past semester. We will only do the first $10$ rows, as you will see it can be very repetitive.\n",
    "\n",
    "After we create all of the columns, we need to add them to a table. However we don't have a table yet so we have to make a new one. We do this with the line that says `old_data = Table()`. \n",
    "\n",
    "Finally, we need to name the columns and add them to the table, which we do on the line that begins with `old_data = old_data.with_columns(...)`."
   ]
  },
  {
   "cell_type": "code",
   "execution_count": null,
   "id": "fe91bab9",
   "metadata": {},
   "outputs": [],
   "source": [
    "# Each variable will represent a column in our table\n",
    "team_numbers = [1, 2, 4, 4, 4, 4, 4, 4, 5, 7]\n",
    "\n",
    "max_speed = [0.467, 0.938521, 0.861822, 0.983234, 0.9525, 0.888746, 0.870966, 0.870966, 0.57, 1.31]\n",
    "\n",
    "gap_crossing_speed = [0.467, 0.938521, 0.938521, 0.938521, 0.938521, 0.938521, 0.938521, 0.889, 0.05, 1.31]\n",
    "\n",
    "max_distance = [5.08, 4.3, 4.3, 4.3, 4.3, 4.3, 4.3, 8.9, 3.0, 4.0]\n",
    "\n",
    "old_data = Table()\n",
    "\n",
    "old_data = old_data.with_columns(\n",
    "        \"Team Number\", team_numbers, \n",
    "        \"Max Running Speed\", max_speed, \n",
    "        \"Gap Crossing Speed\", gap_crossing_speed, \n",
    "        \"Max Gap Crossing Distance\", max_distance)\n",
    "\n",
    "old_data"
   ]
  },
  {
   "attachments": {},
   "cell_type": "markdown",
   "id": "39f15c8d",
   "metadata": {},
   "source": [
    "As you can see from above, we made our table just by typing in numbers!"
   ]
  },
  {
   "cell_type": "markdown",
   "id": "94efbc7d",
   "metadata": {},
   "source": [
    "<hr>"
   ]
  },
  {
   "attachments": {},
   "cell_type": "markdown",
   "id": "5a95c5a6",
   "metadata": {},
   "source": [
    "#### Question 1"
   ]
  },
  {
   "cell_type": "markdown",
   "id": "39cc9c6d",
   "metadata": {},
   "source": [
    "\n",
    "Now it's your turn! Create a table with the **first $10$ rows** of the data in the _Google Sheet_ where you recorded your data!"
   ]
  },
  {
   "cell_type": "markdown",
   "id": "90a78a47",
   "metadata": {},
   "source": [
    "<hr>"
   ]
  },
  {
   "attachments": {},
   "cell_type": "markdown",
   "id": "4c42d4b1",
   "metadata": {},
   "source": [
    "#### Question 1.0"
   ]
  },
  {
   "cell_type": "markdown",
   "id": "ac774e4a",
   "metadata": {},
   "source": [
    "Create a blank table just like how we did it above."
   ]
  },
  {
   "cell_type": "code",
   "execution_count": null,
   "id": "3d0a0dbc",
   "metadata": {},
   "outputs": [],
   "source": [
    "# Replaces the ... with the appropriate code\n",
    "new_data = ..."
   ]
  },
  {
   "attachments": {},
   "cell_type": "markdown",
   "id": "621c6b2a",
   "metadata": {},
   "source": [
    "#### Question 1.1"
   ]
  },
  {
   "cell_type": "markdown",
   "id": "64ee367c",
   "metadata": {},
   "source": [
    "Enter the data for the `Team Number` column and choose a name for that column\n",
    "\n",
    "<b>Don't forget to run all of the cells!<b>"
   ]
  },
  {
   "cell_type": "code",
   "execution_count": null,
   "id": "0dc94a65",
   "metadata": {},
   "outputs": [],
   "source": [
    "# Replace the ... with the **first 10** column values from the robot data you gathered.\n",
    "team_number = [...]\n",
    "# Replace the ... with the name that you have chosen for the column.\n",
    "team_col_name = \"...\""
   ]
  },
  {
   "cell_type": "code",
   "execution_count": null,
   "id": "38f7818c",
   "metadata": {},
   "outputs": [],
   "source": [
    "# Replace the ... with the **first 10** column values from the robot data you gathered.\n",
    "running_number = [...]\n",
    "# Replace the ... with the name that you have chosen for the column.\n",
    "running_col_name = \"...\""
   ]
  },
  {
   "cell_type": "code",
   "execution_count": null,
   "id": "cfe8ecc4",
   "metadata": {},
   "outputs": [],
   "source": [
    "# Replace the ... with the **first 10** column values from the robot data you gathered.\n",
    "cross_speed = [...]\n",
    "# Replace the ... with the name that you have chosen for the column.\n",
    "cross_speed_col_name = \"...\""
   ]
  },
  {
   "cell_type": "code",
   "execution_count": null,
   "id": "13b40b26",
   "metadata": {},
   "outputs": [],
   "source": [
    "# Replace the ... with the **first 10** column values from the robot data you gathered.\n",
    "cross_distance = [...]\n",
    "# Replace the ... with the name that you have chosen for the column.\n",
    "cross_distance_col_name = \"...\""
   ]
  },
  {
   "cell_type": "code",
   "execution_count": null,
   "id": "8ce7207d",
   "metadata": {},
   "outputs": [],
   "source": [
    "# Replace the ... with the **first 10** column values from the robot data you gathered.\n",
    "washers = [...]\n",
    "# Replace the ... with the name that you have chosen for the column.\n",
    "washers_col_name = \"...\""
   ]
  },
  {
   "cell_type": "markdown",
   "id": "3fadb05d",
   "metadata": {},
   "source": [
    "<hr>"
   ]
  },
  {
   "attachments": {},
   "cell_type": "markdown",
   "id": "131cd6bb",
   "metadata": {},
   "source": [
    "#### Question 1.2"
   ]
  },
  {
   "cell_type": "markdown",
   "id": "8fa2cf29",
   "metadata": {},
   "source": [
    "\n",
    "Now that we have made the columns for the data, we just need to add them to the blank table we made earilier!\n",
    "\n",
    "Fill in the code below to create the table with all the data you just entered\n",
    "\n",
    "> _**HINT:** You only need to use the variables you defined in parts 1.1_"
   ]
  },
  {
   "cell_type": "code",
   "execution_count": null,
   "id": "c45d063b",
   "metadata": {},
   "outputs": [],
   "source": [
    "new_data = new_data.with_columns(\n",
    "    # Replace the ... in the line below with \n",
    "    # the name of the column and the values (in that order)\n",
    "    # for: **team number***\n",
    "    ..., ...,\n",
    "    # Replace the ... in the line below with \n",
    "    # the name of the column and the values (in that order)\n",
    "    # for: **running speed***\n",
    "    ..., ...,\n",
    "    # Replace the ... in the line below with \n",
    "    # the name of the column and the values (in that order)\n",
    "    # for: **crossing speed***\n",
    "    ..., ...,\n",
    "    # Replace the ... in the line below with \n",
    "    # the name of the column and the values (in that order)\n",
    "    # for: **crossing distance***\n",
    "    ..., ...,\n",
    "    # Replace the ... in the line below with \n",
    "    # the name of the column and the values (in that order)\n",
    "    # for: **washers***\n",
    "    ..., ...\n",
    "    )\n",
    "new_data"
   ]
  },
  {
   "attachments": {},
   "cell_type": "markdown",
   "id": "5861aed0",
   "metadata": {},
   "source": [
    "You did it! You made the table by just typing! That will work for data with only a few rows but it quickly gets tiring. \n",
    "\n",
    "So, lets see how we can have the computer do this work for us!"
   ]
  },
  {
   "attachments": {},
   "cell_type": "markdown",
   "id": "ee732230",
   "metadata": {},
   "source": [
    "<hr>\n",
    "<hr>"
   ]
  },
  {
   "attachments": {},
   "cell_type": "markdown",
   "id": "8f91a8e6",
   "metadata": {},
   "source": [
    "### Method 2: Uploading a csv file"
   ]
  },
  {
   "attachments": {},
   "cell_type": "markdown",
   "id": "fe363513",
   "metadata": {},
   "source": [
    "As you can see, the previous method is rather tedious, especially if we want to create a complex table with many columns. In method 2, we create a table by uploading the `csv` file containing the data. This is the preferred and fastest method.  "
   ]
  },
  {
   "cell_type": "markdown",
   "id": "158ff5bf",
   "metadata": {},
   "source": [
    "<hr>"
   ]
  },
  {
   "attachments": {},
   "cell_type": "markdown",
   "id": "b71920a8",
   "metadata": {},
   "source": [
    "#### Question 2.1: Downloading the `csv` File from Google Sheets"
   ]
  },
  {
   "attachments": {},
   "cell_type": "markdown",
   "id": "98fee662",
   "metadata": {},
   "source": [
    "In order to upload data onto _Jupyter Notebooks_, we need to convert the existing Google Sheet into a `csv` (_Comma Separated Values_) file. \n",
    "\n",
    "To do so from the Google Sheet you want to download, go to `File > Download > Comma Separated Values (csv)`\n",
    "\n",
    "**You can also run the cell below to display a 7-second tutorial**"
   ]
  },
  {
   "cell_type": "code",
   "execution_count": null,
   "id": "028a5370",
   "metadata": {},
   "outputs": [],
   "source": [
    "play_video(\"sheets\")"
   ]
  },
  {
   "cell_type": "markdown",
   "id": "96817bda",
   "metadata": {},
   "source": [
    "<hr>"
   ]
  },
  {
   "attachments": {},
   "cell_type": "markdown",
   "id": "9960d7a6",
   "metadata": {},
   "source": [
    "#### Question 2.2: Upoloading the `csv` File to Jupyter"
   ]
  },
  {
   "attachments": {},
   "cell_type": "markdown",
   "id": "8fb2333e",
   "metadata": {},
   "source": [
    "Now, we need to upload the `csv` file to Jupyter. Run the cell below to show a very short clip on how to upload your data."
   ]
  },
  {
   "cell_type": "code",
   "execution_count": null,
   "id": "a7be4923",
   "metadata": {},
   "outputs": [],
   "source": [
    "play_video(\"upload\")"
   ]
  },
  {
   "cell_type": "markdown",
   "id": "4efef54c",
   "metadata": {},
   "source": [
    "<hr>"
   ]
  },
  {
   "attachments": {},
   "cell_type": "markdown",
   "id": "a0dd4906",
   "metadata": {},
   "source": [
    "#### Question 2.3: Rename the `csv` File"
   ]
  },
  {
   "attachments": {},
   "cell_type": "markdown",
   "id": "2d914575",
   "metadata": {},
   "source": [
    "The last step in the process is to change the name of the file. This will make our task of typing out the name of the file much easier! Again, run the cell below for a clip on how to rename a file."
   ]
  },
  {
   "cell_type": "code",
   "execution_count": null,
   "id": "ed9d1678",
   "metadata": {},
   "outputs": [],
   "source": [
    "play_video(\"rename\")"
   ]
  },
  {
   "cell_type": "markdown",
   "id": "c3b4577d",
   "metadata": {},
   "source": [
    "<hr>"
   ]
  },
  {
   "attachments": {},
   "cell_type": "markdown",
   "id": "873e1691",
   "metadata": {},
   "source": [
    "#### Question 2.4: Load the `csv`"
   ]
  },
  {
   "attachments": {},
   "cell_type": "markdown",
   "id": "69d15a40",
   "metadata": {},
   "source": [
    "Now we're done! All we have to do is run the next cell. The only thing you need to do is replace the `...` with the name of the file you chose!\n",
    "\n",
    "> _**HINT:** Make sure your name ends with `.csv`_\n",
    "\n",
    "**Note:** The data may be a little messy, so we defined our own function (called `clean`) to clean it up for you. Don't worrt about understanding how it works!"
   ]
  },
  {
   "cell_type": "code",
   "execution_count": null,
   "id": "4c1c16e9",
   "metadata": {},
   "outputs": [],
   "source": [
    "file_name = \"...\"\n",
    "my_data = Table.read_table(file_name)\n",
    "my_data = clean(my_data)\n",
    "my_data"
   ]
  },
  {
   "attachments": {},
   "cell_type": "markdown",
   "id": "07d56428",
   "metadata": {},
   "source": [
    "Viola! Now, lets make some plots to investigate this data!"
   ]
  },
  {
   "cell_type": "markdown",
   "id": "5cf44c1e",
   "metadata": {},
   "source": [
    "<hr style=\"border: 2px solid #003262\">\n",
    "<hr style=\"border: 2px solid #C9B676\">"
   ]
  },
  {
   "attachments": {},
   "cell_type": "markdown",
   "id": "df2e2b91",
   "metadata": {},
   "source": [
    "# Visualizations"
   ]
  },
  {
   "attachments": {},
   "cell_type": "markdown",
   "id": "5b6f67ef",
   "metadata": {},
   "source": [
    "<center><a href=#todo style=\"font-size:20px;color:gold\">View To-Do List</a></center>\n",
    "<a id=\"ve\">"
   ]
  },
  {
   "attachments": {},
   "cell_type": "markdown",
   "id": "522f2462",
   "metadata": {},
   "source": [
    "Now we will begin visualizing the data you have collected! In this section, we will guide you through the steps of creating two different types of graphs. This will be a continuation of what you learned in Notebook 0 for visualizations (again feel free to use it as a reference here). "
   ]
  },
  {
   "cell_type": "markdown",
   "id": "2b4295df",
   "metadata": {},
   "source": [
    "<hr>"
   ]
  },
  {
   "attachments": {},
   "cell_type": "markdown",
   "id": "177ae777",
   "metadata": {},
   "source": [
    "### Graph Defintions:\n",
    "\n",
    "1. A **scatter plot** consisting of one point for each row of the table. Its first argument is the label of the column to be plotted on the horizontal axis, and its second argument is the label of the column on the vertical. (Data 8 Online Textbook)\n",
    "\n",
    "2. A **line plot** is a continuous line. Its first argument is the column on the horizontal axis, then the second argument is the column on the vertical. (Data 8 Online Textbook)\n",
    "\n",
    "3. A **histogram** is a plot that represents the distibution of a single variable."
   ]
  },
  {
   "cell_type": "markdown",
   "id": "e272e0c5",
   "metadata": {},
   "source": [
    "<hr>"
   ]
  },
  {
   "attachments": {},
   "cell_type": "markdown",
   "id": "9ef0b88e",
   "metadata": {},
   "source": [
    "### Question 3"
   ]
  },
  {
   "attachments": {},
   "cell_type": "markdown",
   "id": "1915b89c",
   "metadata": {},
   "source": [
    "Create a scatter plot using two variables for each sub-part\n",
    "\n",
    "> **Syntax:** `my_table.scatter(\"column name for x-axis\", \"column name for y-axis\")`"
   ]
  },
  {
   "attachments": {},
   "cell_type": "markdown",
   "id": "0095506c",
   "metadata": {},
   "source": [
    "#### Question 3.1\n",
    "\n",
    "Create a scatter plot of _`Maximum Running Speed`_ on the **x-axis** and _`Distance Crossed`_ on the **y-axis**"
   ]
  },
  {
   "cell_type": "code",
   "execution_count": null,
   "id": "b069c116",
   "metadata": {},
   "outputs": [],
   "source": [
    "my_data.scatter(\"...\", \"...\")"
   ]
  },
  {
   "cell_type": "markdown",
   "id": "7dac9e85",
   "metadata": {},
   "source": [
    "<hr>"
   ]
  },
  {
   "attachments": {},
   "cell_type": "markdown",
   "id": "d63a8dd6",
   "metadata": {},
   "source": [
    "### Question 3.2\n",
    "\n",
    "Create a line plot using the Team Number column and the Maximum Gap Distance Crossed column to compare the distances each team was able to cross. \n",
    "\n",
    "**Syntax:** Table.read_table(*file name*).plot(\"column for x-axis\", \"column for y-axis\")"
   ]
  },
  {
   "cell_type": "code",
   "execution_count": null,
   "id": "8656c1ca",
   "metadata": {},
   "outputs": [],
   "source": [
    "Table.read_table(\"clean_robot_18.csv\").plot(\"...\", \"...\")"
   ]
  },
  {
   "cell_type": "markdown",
   "id": "b548082b",
   "metadata": {},
   "source": [
    "<hr>"
   ]
  },
  {
   "attachments": {},
   "cell_type": "markdown",
   "id": "c67854c7",
   "metadata": {},
   "source": [
    "### Question \n",
    "\n",
    "Create a scatter plot using the Maximum Running Speed (m/s) column and the Maximum Gap Distance Crossed column to see how speed affected the distance crossed. \n",
    "\n",
    "Try filling in the blanks using what you have practiced in Question 1. "
   ]
  },
  {
   "cell_type": "code",
   "execution_count": null,
   "id": "2a705b22",
   "metadata": {},
   "outputs": [],
   "source": [
    "Table.read_table(...).scatter(...)"
   ]
  },
  {
   "cell_type": "markdown",
   "id": "1e1afe5d",
   "metadata": {},
   "source": [
    "<hr style=\"border: 2px solid #003262\">\n",
    "<hr style=\"border: 2px solid #C9B676\">"
   ]
  },
  {
   "cell_type": "markdown",
   "id": "f17be624",
   "metadata": {},
   "source": [
    "<center><a href=#todo style=\"font-size:20px;color:gold\">View To-Do List</a></center>"
   ]
  },
  {
   "attachments": {},
   "cell_type": "markdown",
   "id": "12788c2b",
   "metadata": {},
   "source": [
    "## Conclusion\n",
    "\n",
    "<center><code style=\"font-size:20px\" id=\"ct\">Get conclusion text from Andrew or write yourself if he wants you to</code></center>"
   ]
  },
  {
   "attachments": {},
   "cell_type": "markdown",
   "id": "234eeb1a",
   "metadata": {},
   "source": [
    "<hr>\n",
    "<hr>"
   ]
  },
  {
   "cell_type": "markdown",
   "id": "8abd6388",
   "metadata": {},
   "source": [
    "## A Final Request: Feedback Form"
   ]
  },
  {
   "cell_type": "markdown",
   "id": "dc1b2ded",
   "metadata": {},
   "source": [
    "<div class=\"alert alert-block alert-info\">\n",
    "    <p style=\"font-size:20px\">We encourage students to fill out the following feedback form to share your experience with this Module created notebook. This feedback form will take no longer than 5 minutes. At UC Berkeley Data Science Undergraduate Studies – Modules, we appreciate all feedback to improve the learning of students and experience utilizing Jupyter Notebooks for Data Science Education. You can fill out the survey by running the below and clicking the button that appears. Thank you in advance for your time!\n",
    "</div>"
   ]
  },
  {
   "cell_type": "code",
   "execution_count": 5,
   "id": "e4816583",
   "metadata": {},
   "outputs": [
    {
     "data": {
      "text/html": [
       "\n",
       "    <style>\n",
       "    .button {\n",
       "        border: 0;\n",
       "        padding: 16px 32px 16px 32px;\n",
       "        text-align: center;\n",
       "        font-size: 18px;\n",
       "        display: flex;\n",
       "        transition: color 5s, \n",
       "                    background 5s, \n",
       "                    box-shadow 1s ease-out;\n",
       "        cursor: pointer;\n",
       "        color: #003262;\n",
       "        border-radius: 30px;\n",
       "        margin: 10% auto;\n",
       "        background: linear-gradient(145deg, #e2e2e2, #bebebe);\n",
       "        box-shadow: 20px 20px 40px 10px #afafaf, \n",
       "                    -20px -20px 40px 10px #f7f7f7, \n",
       "                    inset 0 0 0px, \n",
       "                    inset 0 0 0px;\n",
       "    }\n",
       "    \n",
       "    .button:hover {\n",
       "        color: #D3D3D3;\n",
       "        background: #003262;\n",
       "        box-shadow: 0 0 0px #000000, \n",
       "                    0 0 0px #000000, \n",
       "                    inset 20px 20px 40px 10px #002a51, \n",
       "                    inset -20px -20px 40px 10px #003b73;\n",
       "    }\n",
       "    </style>\n",
       "\n",
       "    <a href=\"https://forms.gle/hipxf2uFw5Ud4Hyn8\">\n",
       "        <button class=\"button\">\n",
       "            Fill out the feedback form here\n",
       "        </button>\n",
       "    </a>\n",
       "    "
      ],
      "text/plain": [
       "<IPython.core.display.HTML object>"
      ]
     },
     "metadata": {},
     "output_type": "display_data"
    }
   ],
   "source": [
    "feedback_button()"
   ]
  },
  {
   "cell_type": "code",
   "execution_count": null,
   "id": "9593ac4b",
   "metadata": {},
   "outputs": [],
   "source": []
  }
 ],
 "metadata": {
  "kernelspec": {
   "display_name": "Python 3",
   "language": "python",
   "name": "python3"
  },
  "language_info": {
   "codemirror_mode": {
    "name": "ipython",
    "version": 3
   },
   "file_extension": ".py",
   "mimetype": "text/x-python",
   "name": "python",
   "nbconvert_exporter": "python",
   "pygments_lexer": "ipython3",
   "version": "3.10.1"
  },
  "vscode": {
   "interpreter": {
    "hash": "aee8b7b246df8f9039afb4144a1f6fd8d2ca17a180786b69acc140d282b71a49"
   }
  }
 },
 "nbformat": 4,
 "nbformat_minor": 5
}
