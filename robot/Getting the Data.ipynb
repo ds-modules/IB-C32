{
 "cells": [
  {
   "cell_type": "code",
   "execution_count": null,
   "id": "363cc9fe",
   "metadata": {},
   "outputs": [],
   "source": [
    "%pip install datascience\n",
    "%pip install pandas\n",
    "%pip install json\n",
    "%pip install seaborn\n",
    "\n",
    "import pandas as pd, numpy as np, seaborn as sns, matplotlib.pyplot as plt\n",
    "import json, re, os, math, random, warnings, scipy, pickle, time, sys, gc\n",
    "from datascience import *; from IPython.display import *; from ipywidgets import *\n",
    "plt.style.use(\"seaborn\")\n",
    "%matplotlib inline"
   ]
  },
  {
   "cell_type": "markdown",
   "id": "8ca48270",
   "metadata": {},
   "source": [
    "## Uploading a file to Jupyter\n",
    "---\n",
    "\n"
   ]
  },
  {
   "cell_type": "code",
   "execution_count": null,
   "id": "d363c589",
   "metadata": {},
   "outputs": [],
   "source": []
  },
  {
   "cell_type": "markdown",
   "id": "b71920a8",
   "metadata": {},
   "source": [
    "## Downloading a Google Sheet to csv \n",
    "---\n",
    "In order to upload data onto Jupyter Notebooks, we need to convert the existing Google Sheet into a csv. Follow the steps below in order to make the robot data readable for Jupyter Notebooks."
   ]
  },
  {
   "cell_type": "markdown",
   "id": "cd523260",
   "metadata": {
    "slideshow": {
     "slide_type": ""
    }
   },
   "source": []
  },
  {
   "cell_type": "code",
   "execution_count": null,
   "id": "cfa8e0df",
   "metadata": {},
   "outputs": [],
   "source": []
  }
 ],
 "metadata": {
  "kernelspec": {
   "display_name": "Python 3.9.6 64-bit",
   "language": "python",
   "name": "python3"
  },
  "language_info": {
   "codemirror_mode": {
    "name": "ipython",
    "version": 3
   },
   "file_extension": ".py",
   "mimetype": "text/x-python",
   "name": "python",
   "nbconvert_exporter": "python",
   "pygments_lexer": "ipython3",
   "version": "3.9.6"
  },
  "vscode": {
   "interpreter": {
    "hash": "31f2aee4e71d21fbe5cf8b01ff0e069b9275f58929596ceb00d14d90e3e16cd6"
   }
  }
 },
 "nbformat": 4,
 "nbformat_minor": 5
}
