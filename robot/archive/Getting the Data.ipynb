{
 "cells": [
  {
   "cell_type": "code",
   "execution_count": 27,
   "id": "cbea98ee",
   "metadata": {},
   "outputs": [],
   "source": [
    "import pandas as pd, seaborn as sns, matplotlib.pyplot as plt\n",
    "import json, re, os, math, random, warnings, scipy, pickle, time, sys, gc\n",
    "from datascience import *\n",
    "plt.style.use(\"seaborn\")\n",
    "%matplotlib inline"
   ]
  },
  {
   "cell_type": "markdown",
   "id": "8ca48270",
   "metadata": {},
   "source": [
    "## Getting the Data\n",
    "---\n",
    "\n"
   ]
  },
  {
   "cell_type": "markdown",
   "id": "a1d28bc6",
   "metadata": {},
   "source": [
    "### Making a table\n",
    "\n",
    "In this portion of the notebook, we will use two different methods to create tables in Jupyter Notebooks using the data we gathered. \n",
    "\n",
    "- Method 1: Create arrays that represent columns and append them together\n",
    "- Method 2: Upload a csv file of the data"
   ]
  },
  {
   "cell_type": "markdown",
   "id": "a0694a83",
   "metadata": {},
   "source": [
    "### Method 1: Appending Columns\n",
    "---"
   ]
  },
  {
   "cell_type": "markdown",
   "id": "454ce327",
   "metadata": {},
   "source": [
    "The first method involves creating arrays of our desired column values and assigning each array to a variable. An example of how the column, 'Maximum Running Speed (m/s)', is created into an array is provided below."
   ]
  },
  {
   "cell_type": "code",
   "execution_count": 32,
   "id": "fe91bab9",
   "metadata": {},
   "outputs": [],
   "source": [
    "# Each variable will represent a column in our table\n",
    "max_speed = [ 0.467     ,  0.938521  ,  0.861822  ,  0.983234  ,  0.9525    ,\n",
    "        0.888746  ,  0.870966  ,  0.870966  ,  0.57      ,  1.31      ,\n",
    "        1.542     ,  0.27      ,  0.93      ,  0.81      ,  0.37      ,\n",
    "        0.54      ,  1.03      ,  0.79      ,  2.6       ,  0.658     ,\n",
    "        0.743     ,  0.693     ,  0.677     ,  0.688     ,  0.798     ,\n",
    "        0.50562948,  0.436     ,  0.29      ,  0.688     ,  0.47      ]\n"
   ]
  },
  {
   "cell_type": "markdown",
   "id": "5a95c5a6",
   "metadata": {},
   "source": [
    "**Question 1.** Fill in the column values for each variable."
   ]
  },
  {
   "cell_type": "code",
   "execution_count": 33,
   "id": "3a4998d2",
   "metadata": {},
   "outputs": [],
   "source": [
    "# Replace the ellipses with the respective column values from the robot data you gathered.\n",
    "team_number = [...]\n",
    "gap_crossing_number = [...]\n",
    "max_gap_distance_crossed = [...]\n"
   ]
  },
  {
   "cell_type": "markdown",
   "id": "d65d97ce",
   "metadata": {},
   "source": [
    "**Question 2.** After creating columns for team_number, gap_crossing_number, and max_gap_distance_crossed, our next step is to append all of the arrays we created and form a table. In the following code cell, replace the elipses with the array that corresponds to the column name. Then, run the code cell to load the table we created."
   ]
  },
  {
   "cell_type": "code",
   "execution_count": 34,
   "id": "f5fc19d1",
   "metadata": {},
   "outputs": [
    {
     "data": {
      "text/html": [
       "<table border=\"1\" class=\"dataframe\">\n",
       "    <thead>\n",
       "        <tr>\n",
       "            <th>Team Number</th> <th>Maximum Running Speed (m/s)</th> <th>Gap Crossing Speed</th> <th>Maximum Gap Distance Crossed</th>\n",
       "        </tr>\n",
       "    </thead>\n",
       "    <tbody>\n",
       "        <tr>\n",
       "            <td>Ellipsis   </td> <td>Ellipsis                   </td> <td>Ellipsis          </td> <td>Ellipsis                    </td>\n",
       "        </tr>\n",
       "    </tbody>\n",
       "</table>"
      ],
      "text/plain": [
       "Team Number | Maximum Running Speed (m/s) | Gap Crossing Speed | Maximum Gap Distance Crossed\n",
       "Ellipsis    | Ellipsis                    | Ellipsis           | Ellipsis"
      ]
     },
     "execution_count": 34,
     "metadata": {},
     "output_type": "execute_result"
    }
   ],
   "source": [
    "# Replace the ellipses with the appropriate variable name\n",
    "robot_v1 = Table().with_columns( 'Team Number', ...,\n",
    "                            'Maximum Running Speed (m/s)', ...,\n",
    "                            'Gap Crossing Speed', ...,\n",
    "                            'Maximum Gap Distance Crossed', ...)\n",
    "robot_v1"
   ]
  },
  {
   "cell_type": "markdown",
   "id": "8f91a8e6",
   "metadata": {},
   "source": [
    "### Method 2: Uploading a csv file\n",
    "---\n",
    "\n",
    "As you can see, the previous method is rather tedious, especially if we want to create a complex table with many columns. In method 2, we create a table by uploading the csv file containing the data. This is the preferred and fastest method.  "
   ]
  },
  {
   "cell_type": "markdown",
   "id": "b71920a8",
   "metadata": {},
   "source": [
    "**Converting Google Sheets to a csv file:**\n",
    "\n",
    "In order to upload data onto Jupyter Notebooks, we need to convert the existing Google Sheet into a csv (Comma Separated Values) file. To do so from Google Sheets, go to File > Download > Comma Separated Values (csv) \n"
   ]
  },
  {
   "cell_type": "markdown",
   "id": "69d15a40",
   "metadata": {},
   "source": [
    "After successfully converting the Google Sheet into a csv file, we can now load the data as a table. In the code cell below, the function <mark>Table.read_table()</mark> can be used to create a table from any csv file that we input. All we have to do is simply input the name of the csv file as a parameter of the function. "
   ]
  },
  {
   "cell_type": "code",
   "execution_count": 43,
   "id": "013e7673",
   "metadata": {},
   "outputs": [
    {
     "data": {
      "text/html": [
       "<table border=\"1\" class=\"dataframe\">\n",
       "    <thead>\n",
       "        <tr>\n",
       "            <th>Team Number</th> <th>Maximum Running Speed (m/s)</th> <th>Gap Crossing Speed</th> <th>Maxmum Gap Distance Crossed</th>\n",
       "        </tr>\n",
       "    </thead>\n",
       "    <tbody>\n",
       "        <tr>\n",
       "            <td>1          </td> <td>0.467                      </td> <td>0.467             </td> <td>5.08                       </td>\n",
       "        </tr>\n",
       "        <tr>\n",
       "            <td>2          </td> <td>0.938521                   </td> <td>0.938521          </td> <td>4.3                        </td>\n",
       "        </tr>\n",
       "        <tr>\n",
       "            <td>4          </td> <td>0.861822                   </td> <td>0.938521          </td> <td>4.3                        </td>\n",
       "        </tr>\n",
       "        <tr>\n",
       "            <td>4          </td> <td>0.983234                   </td> <td>0.938521          </td> <td>4.3                        </td>\n",
       "        </tr>\n",
       "        <tr>\n",
       "            <td>4          </td> <td>0.9525                     </td> <td>0.938521          </td> <td>4.3                        </td>\n",
       "        </tr>\n",
       "        <tr>\n",
       "            <td>4          </td> <td>0.888746                   </td> <td>0.938521          </td> <td>4.3                        </td>\n",
       "        </tr>\n",
       "        <tr>\n",
       "            <td>4          </td> <td>0.870966                   </td> <td>0.938521          </td> <td>4.3                        </td>\n",
       "        </tr>\n",
       "        <tr>\n",
       "            <td>4          </td> <td>0.870966                   </td> <td>0.889             </td> <td>8.9                        </td>\n",
       "        </tr>\n",
       "        <tr>\n",
       "            <td>5          </td> <td>0.57                       </td> <td>0.05              </td> <td>3                          </td>\n",
       "        </tr>\n",
       "        <tr>\n",
       "            <td>7          </td> <td>1.31                       </td> <td>1.31              </td> <td>4                          </td>\n",
       "        </tr>\n",
       "    </tbody>\n",
       "</table>\n",
       "<p>... (20 rows omitted)</p>"
      ],
      "text/plain": [
       "Team Number | Maximum Running Speed (m/s) | Gap Crossing Speed | Maxmum Gap Distance Crossed\n",
       "1           | 0.467                       | 0.467              | 5.08\n",
       "2           | 0.938521                    | 0.938521           | 4.3\n",
       "4           | 0.861822                    | 0.938521           | 4.3\n",
       "4           | 0.983234                    | 0.938521           | 4.3\n",
       "4           | 0.9525                      | 0.938521           | 4.3\n",
       "4           | 0.888746                    | 0.938521           | 4.3\n",
       "4           | 0.870966                    | 0.938521           | 4.3\n",
       "4           | 0.870966                    | 0.889              | 8.9\n",
       "5           | 0.57                        | 0.05               | 3\n",
       "7           | 1.31                        | 1.31               | 4\n",
       "... (20 rows omitted)"
      ]
     },
     "execution_count": 43,
     "metadata": {},
     "output_type": "execute_result"
    }
   ],
   "source": [
    "# Run the code cell below to load the robot_v2 table from the \"clean_robot_18.csv\" file.\n",
    "robot_v2 = Table.read_table(\"clean_robot_18.csv\")\n",
    "robot_v2"
   ]
  },
  {
   "cell_type": "code",
   "execution_count": null,
   "id": "cadb957c",
   "metadata": {},
   "outputs": [],
   "source": []
  }
 ],
 "metadata": {
  "kernelspec": {
   "display_name": "Python 3.9.13 ('base')",
   "language": "python",
   "name": "python3"
  },
  "language_info": {
   "codemirror_mode": {
    "name": "ipython",
    "version": 3
   },
   "file_extension": ".py",
   "mimetype": "text/x-python",
   "name": "python",
   "nbconvert_exporter": "python",
   "pygments_lexer": "ipython3",
   "version": "3.9.13"
  },
  "vscode": {
   "interpreter": {
    "hash": "97fb5a839dd3c31fe8975853365f2ed450d5c43b2c24623fe890d1deb2404162"
   }
  }
 },
 "nbformat": 4,
 "nbformat_minor": 5
}
