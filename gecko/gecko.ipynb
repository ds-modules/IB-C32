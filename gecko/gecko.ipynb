{
    "cells": [
        {
            "attachments": {},
            "cell_type": "markdown",
            "id": "678874f0",
            "metadata": {},
            "source": [
                "# IB C32 - Gecko Inspired Adhesive Analysis"
            ]
        },
        {
            "cell_type": "markdown",
            "id": "c7c27f71",
            "metadata": {},
            "source": [
                "\n",
                "<hr style=\"border: 2px solid #003262\">\n",
                "<hr style=\"border: 2px solid #C9B676\">"
            ]
        },
        {
            "attachments": {},
            "cell_type": "markdown",
            "id": "a1062caa",
            "metadata": {},
            "source": [
                "## Outline\n",
                "\n",
                "In this notebook you will:\n",
                "- Get an introduction to the experiment\n",
                "    - Get an introduction to the Important Equations\n",
                "- Review background on the variables and functions\n",
                "    - Get a background on the data\n",
                "- Load in your own data\n",
                "    - View your class, section, and team data as a table\n",
                "    - Visualize the data from the class, as well as your own data!"
            ]
        },
        {
            "cell_type": "markdown",
            "id": "0984cf95",
            "metadata": {},
            "source": [
                "<hr style=\"border: 2px solid\">\n",
                "<hr style=\"border: 2px solid\">"
            ]
        },
        {
            "attachments": {},
            "cell_type": "markdown",
            "id": "d98e3afb",
            "metadata": {},
            "source": [
                "## Introduction"
            ]
        },
        {
            "attachments": {},
            "cell_type": "markdown",
            "id": "26988c1e",
            "metadata": {},
            "source": [
                "Recall from the handout that gecko setae function as a ‘**frictional adhesive**’. Due to the orientation of these hair-like structures on the toes of a gecko, the gecko must pull it’s foot back towards its body for the setae to stick to a surface. In other words, the **adhesion force** (perpendicular to a surface) requires a **proximally directed** (pulled towards the body) **shear force** (parallel to a surface).\n",
                "\n",
                "In class, you manufactured a **_Gecko-inspired Synthetic Adhesive_** (GSA). The GSA did not replicate the exact hierarchical structure of a gecko’s foot. Instead, it had **lamellae** designed to function similarly to the **spatulae** on a gecko’s toe.\n",
                "\n",
                "After you manufactured it, you tested the GSA. Using the testing apparatus, you determined the angle of detachment of your GSA when it was loaded with different masses. \n",
                "\n",
                "Using mass ($m$), angle of detachment ($\\alpha$), and the gravitational constant ($g$), you can now calculate the adhesion force ($F_\\perp$) and shear force ($F_\\parallel$) with the following formulae:\n",
                "\n",
                "$$F_\\perp = m \\cdot g \\cdot \\sin(\\alpha)$$\n",
                "$$F_\\parallel = m\\cdot g \\cdot \\cos(\\alpha)$$\n",
                "\n",
                "We’ve prepared the data you submitted in the Google Form so that this notebook can read it. In doing so, we went ahead and calculated shear force and adhesive force for you. \n",
                "\n",
                "Use the following sections to load your data and to learn more about data and tables."
            ]
        },
        {
            "cell_type": "markdown",
            "id": "abb4e718",
            "metadata": {},
            "source": [
                "<hr style=\"border: 2px solid\">\n",
                "<hr style=\"border: 2px solid\">"
            ]
        },
        {
            "attachments": {},
            "cell_type": "markdown",
            "id": "adf3ef58",
            "metadata": {},
            "source": [
                "## Data Background<a id='background'></a>"
            ]
        },
        {
            "attachments": {},
            "cell_type": "markdown",
            "id": "01b69d14",
            "metadata": {},
            "source": [
                "In just a bit, we'll be loading your own data from this project. But first, let’s take a moment to get acquainted with it!\n",
                "\n",
                "In the tables, **each row represents one observation**.\n",
                "\n",
                "The data you will load has the following attributes:\n",
                "\n",
                "|Name|Description|Units|Coding/Representation|\n",
                "|-|-|-|-|\n",
                "|Mass (g)| The mass of the weight or object |Grams|`float (Decimal Number)`|\n",
                "|Angle (deg)| Angle at which the weight or object is held or hangs|Degrees|`float (Decimal Number)`|\n",
                "|Shear Force (N)| The Shear Force Exerted|Newtons|`float (Decimal Number)`|\n",
                "|Adhesive Force (N)| The Adhesive Force Exerted|Newtons|`float (Decimal Number)`|\n"
            ]
        },
        {
            "attachments": {},
            "cell_type": "markdown",
            "id": "f787c4b1",
            "metadata": {},
            "source": [
                "\n",
                "<hr style=\"border: 2px solid #003262\">\n",
                "<hr style=\"border: 2px solid #C9B676\">"
            ]
        },
        {
            "attachments": {},
            "cell_type": "markdown",
            "id": "c3d1eafc",
            "metadata": {},
            "source": [
                "## The Data"
            ]
        },
        {
            "attachments": {},
            "cell_type": "markdown",
            "id": "9ea9630d",
            "metadata": {},
            "source": [
                "### Setup"
            ]
        },
        {
            "attachments": {},
            "cell_type": "markdown",
            "id": "c9513a9a",
            "metadata": {},
            "source": [
                "<div class=\"alert alert-block alert-danger\">\n",
                "    <p style=\"font-size:20px\">\n",
                "    <b>Important:</b> Make sure you run the cell below, or the rest of the notebook won't work!\n",
                "    </p>\n",
                "</div>"
            ]
        },
        {
            "cell_type": "code",
            "execution_count": null,
            "id": "a5db9ec8",
            "metadata": {},
            "outputs": [],
            "source": [
                "from utils import *"
            ]
        },
        {
            "cell_type": "markdown",
            "id": "88f2f2ae",
            "metadata": {},
            "source": [
                "<hr style=\"border: 2px solid\">\n",
                "<hr style=\"border: 2px solid\">"
            ]
        },
        {
            "attachments": {},
            "cell_type": "markdown",
            "id": "92616c30",
            "metadata": {},
            "source": [
                "### Load Your Data\n",
                "Run the cell below, and then you will be prompted to enter your team number so that you can view your own data."
            ]
        },
        {
            "cell_type": "code",
            "execution_count": null,
            "id": "05b2b316",
            "metadata": {},
            "outputs": [],
            "source": [
                "team_input = enter_team_number()"
            ]
        },
        {
            "cell_type": "markdown",
            "id": "871eabeb",
            "metadata": {},
            "source": [
                "<hr style=\"border: 2px solid\">\n",
                "<hr style=\"border: 2px solid\">"
            ]
        },
        {
            "attachments": {},
            "cell_type": "markdown",
            "id": "7b45a036",
            "metadata": {},
            "source": [
                "### View Your Data\n",
                "Just run the cell below to show a table of your data, and one of your section and class's data!"
            ]
        },
        {
            "cell_type": "code",
            "execution_count": null,
            "id": "141bfd8a",
            "metadata": {},
            "outputs": [],
            "source": [
                "team, section, class_data = get_tables(team_input)\n",
                "show_data(class_data)"
            ]
        },
        {
            "attachments": {},
            "cell_type": "markdown",
            "id": "ea5a7fd8",
            "metadata": {},
            "source": [
                "### The Relationship Between Adhesion Force and Shear Force\n",
                "\n",
                "Recall from the handout that the _adhesion force_ and the _shear force_ along the setal shaft of a live gecko can be related to each other using the following equation:\n",
                "\n",
                "$$F_\\perp = F_\\parallel \\cdot \\tan(\\alpha)$$\n",
                "\n",
                "Although the _angle of detachment_ varied with mass for the GSAs you and your classmates synthesized, the angle of detachment for the setal shaft of a live gecko is a constant value. Therefore, we expect a positive correlation between the adhesion force and shear force along the setal shaft. \n",
                "\n",
                "If our GSA functions similarly to the toes of a live gecko, then we also expect there to be a positive correlation between the adhesion force and shear force that we calculated for the GSA.\n",
                "\n",
                "To see whether or not this is the case, we need to be able to visualize the data collected in class."
            ]
        },
        {
            "cell_type": "markdown",
            "id": "788333bb",
            "metadata": {},
            "source": [
                "<hr style=\"border: 2px solid\">\n",
                "<hr style=\"border: 2px solid\">"
            ]
        },
        {
            "attachments": {},
            "cell_type": "markdown",
            "id": "bf717d34",
            "metadata": {},
            "source": [
                "### Visualize Your Data\n",
                "Run the cell below to create a scatter plot of the class data. You’ll notice that each point on the scatter plot corresponds to one row from the table above."
            ]
        },
        {
            "cell_type": "code",
            "execution_count": null,
            "id": "656ef614",
            "metadata": {},
            "outputs": [],
            "source": [
                "plot_data(class_data)"
            ]
        },
        {
            "attachments": {},
            "cell_type": "markdown",
            "id": "8ddde4ed",
            "metadata": {},
            "source": [
                "On the graph above, `Shear Force` is plotted on the **x-axis**, and `Adhesive Force` is plotted on the **y-axis**.\n",
                "\n",
                "Generally speaking, the variable on the x-axis is the _independent variable_, and the variable on the y-axis is the _dependent variable_. \n",
                "\n",
                "Recall that the adhesion force of a frictional adhesive requires, or depends on, a shear force.\n",
                "Look at the graph:\n",
                " - When shear force increases, what happens to adhesive force? \n",
                "    - Does this observation support the hypothesis that the GSA is a _frictional adhesive_?"
            ]
        },
        {
            "cell_type": "markdown",
            "id": "d145be48",
            "metadata": {},
            "source": [
                "\n",
                "<hr style=\"border: 2px solid #003262\">\n",
                "<hr style=\"border: 2px solid #C9B676\">"
            ]
        },
        {
            "attachments": {},
            "cell_type": "markdown",
            "id": "c53ec45a",
            "metadata": {},
            "source": [
                "## Final report\n",
                "\n",
                "The handout contains information about a report that your team will need to submit. In the report, you will show the data that your team and the rest of the class you collected. You will also propose a new invention that relies on gecko adhesion. \n",
                "\n",
                "Refer to the handout for more details, but from this Jupyter notebook, you will need:\n",
                "- A screenshot of the table containing your team’s data\n",
                "- A picture of the scatter plot visualizing the class’s data\n",
                "\n",
                "You will use the information from these data to answer the following questions:\n",
                "- What do you conclude about the nature of the Gecko-inspired Synthetic Adhesive?\n",
                "- What features of the graph support the hypothesis that it is a “frictional adhesive”?\n",
                "- What is the adhesive’s maximum adhesive performance in _Newtons_? In _atmospheres_ (i.e. force/area)? \n",
                "    - You’ll need to measure the area of the adhesive, and use the fact that $1 \\ N/cm^2 \\approx 0.1 \\ atm$."
            ]
        },
        {
            "cell_type": "markdown",
            "id": "c75df043",
            "metadata": {},
            "source": [
                "<hr style=\"border: 2px solid\">\n",
                "<hr style=\"border: 2px solid\">"
            ]
        },
        {
            "attachments": {},
            "cell_type": "markdown",
            "id": "d8d9e8e7",
            "metadata": {},
            "source": [
                "## Conclusion\n",
                "\n",
                "Congratulations on finishing this Jupyter notebook!\n",
                "\n",
                "If you are interested in data science, a great course to start with is Data 8, designed for students with no previous programming or statistics experience. For the full list of courses and degree programs we offer, click <a href=\"https://data.berkeley.edu/academics/data-science-undergraduate-studies/data-science-academic-enrichment\">here</a>."
            ]
        },
        {
            "cell_type": "markdown",
            "id": "8e29cf97",
            "metadata": {},
            "source": [
                "<hr style=\"border: 2px solid\">\n",
                "<hr style=\"border: 2px solid\">"
            ]
        },
        {
            "attachments": {},
            "cell_type": "markdown",
            "id": "a600999f",
            "metadata": {},
            "source": [
                "## A Final Request: Feedback Form"
            ]
        },
        {
            "attachments": {},
            "cell_type": "markdown",
            "id": "2c6dc78e",
            "metadata": {},
            "source": [
                "<div class=\"alert alert-block alert-info\">\n",
                "    <p style=\"font-size:20px\">We encourage students to fill out the following feedback form to share your experience with this Module created notebook. This feedback form will take no longer than 5 minutes. At UC Berkeley Data Science Undergraduate Studies – Modules, we appreciate all feedback to improve the learning of students and experience utilizing Jupyter Notebooks for Data Science Education. You can fill out the survey by running the cell below and clicking the button that appears. Thank you in advance for your time!\n",
                "</div>"
            ]
        },
        {
            "cell_type": "code",
            "execution_count": null,
            "id": "6e064fc0",
            "metadata": {},
            "outputs": [],
            "source": [
                "feedback_button()"
            ]
        }
    ],
    "metadata": {
        "kernelspec": {
            "display_name": "Python 3",
            "language": "python",
            "name": "python3"
        },
        "language_info": {
            "codemirror_mode": {
                "name": "ipython",
                "version": 3
            },
            "file_extension": ".py",
            "mimetype": "text/x-python",
            "name": "python",
            "nbconvert_exporter": "python",
            "pygments_lexer": "ipython3",
            "version": "3.10.1"
        },
        "toc": {
            "base_numbering": 1,
            "nav_menu": {},
            "number_sections": false,
            "sideBar": true,
            "skip_h1_title": true,
            "title_cell": "Table of Contents",
            "title_sidebar": "Contents",
            "toc_cell": true,
            "toc_position": {},
            "toc_section_display": true,
            "toc_window_display": false
        },
        "vscode": {
            "interpreter": {
                "hash": "aee8b7b246df8f9039afb4144a1f6fd8d2ca17a180786b69acc140d282b71a49"
            }
        }
    },
    "nbformat": 4,
    "nbformat_minor": 5
}
