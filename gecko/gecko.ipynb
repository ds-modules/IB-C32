{
 "cells": [
  {
   "attachments": {},
   "cell_type": "markdown",
   "id": "678874f0",
   "metadata": {},
   "source": [
    "# IB C32 - Gecko Inspired Adhesive Analysis"
   ]
  },
  {
   "attachments": {},
   "cell_type": "markdown",
   "id": "a1062caa",
   "metadata": {},
   "source": [
    "## Outline\n",
    "\n",
    "In this notebook you will:\n",
    "- Get an introduction to the experiment\n",
    "    - Get an introduction to the Important Equations\n",
    "- Review background on the variables and functions\n",
    "    - Get a background on the data\n",
    "- Load in your own data\n",
    "    - View your class, section, and team data as a table\n",
    "    - Visualize the data from the class, as well as your own data!"
   ]
  },
  {
   "attachments": {},
   "cell_type": "markdown",
   "id": "f83bbd25",
   "metadata": {},
   "source": [
    "<hr style=\"border: 2px solid #003262\">\n",
    "<hr style=\"border: 2px solid #C9B676\">"
   ]
  },
  {
   "cell_type": "markdown",
   "id": "d98e3afb",
   "metadata": {},
   "source": [
    "### **Introduction** <a id='intro'></a>"
   ]
  },
  {
   "cell_type": "markdown",
   "id": "bbc9f84b",
   "metadata": {},
   "source": [
    "If geckos had not evolved, it is possible that **humans would never have invented adhesive nanostructures** (Autumn and Gravish, 2008). Geckos use millions of adhesive setae on their toes to climb vertical surfaces at speeds of over $1 \\frac{m}{s}$. Climbing presents a significant challenge for an adhesive in requiring both strong attachment and easy rapid removal. Conventional pressure-sensitive adhesives (PSAs) are either strong and difficult to remove (e.g. duct tape) or weak and easy to remove (e.g. sticky notes). The gecko adhesive differs dramatically from conventional adhesives. Conventional PSAs are soft viscoelastic polymers that degrade, foul, self-adhere and attach accidentally to inappropriate surfaces. In contrast, gecko toes bear angled arrays of branched, hair-like setae formed from stiff, hydrophobic keratin (like your hair or finger nails) that act as a bed of angled springs with similar relative stiffness to that of PSAs. Setae are self-cleaning and maintain function for months during repeated use in dirty conditions. Setae function as an anisotropic (direction dependent) ‘frictional adhesive’ (Autumn et al., 2006a,b) where adhesion force (perpendicular to the surface) requires a proximally directed (pulled to body) shear force (parallel to the surface).\n",
    "\n",
    "The actual structure of the adhesive is hierarchical in nature and extends across the macro-, meso-, micro-, and even nanoscale. The whole hierarchical structure of a gecko, such as the Tokay, includes four feet, each foot with five toes, each toe with approximately 20 rows of lamellae (scansors), each lamella with many setal arrays consisting of thousands of setae, which amounts to approximately 200,000 setae per toe, and each seta consisting of hundreds to 1,000 spatulae at its end with sizes near 200 nm. Over the years since we discovered how geckos stick (Autumn et al, 2000, 2002), many investigators have shown that all levels of the hierarchy contribute to function, not just the nano-sized, spatular split-ends.\n"
   ]
  },
  {
   "cell_type": "markdown",
   "id": "cdf16461",
   "metadata": {},
   "source": [
    "<hr style=\"border: 2px solid #003262\">\n",
    "<hr style=\"border: 2px solid #C9B676\">"
   ]
  },
  {
   "cell_type": "markdown",
   "id": "9e62295b",
   "metadata": {},
   "source": [
    "### Introduction to Equations <a id='introequations'></a>"
   ]
  },
  {
   "cell_type": "markdown",
   "id": "45ea7d1a",
   "metadata": {},
   "source": [
    "In this notebook, you will be calculating force in one of two ways. \n",
    "\n",
    "The first is called the *Adhesive Force*, which we will represent with $F_\\perp$. You can think of this as the force exerted **perpendicular** (or orthogonally) to the surface. The second force we will calculate is the *Shear Force*, which we will abbreviate similarly as $F_\\parallel$. You can think of this as the force exerted **parallel** to the surface. \n",
    "\n",
    "You can measure the values of each formula by changing the angle of attachment away from vertical $(90°)$ as if the gecko was on the underside of an over-hang.\n",
    "\n",
    "In a more typical material, the shear force (also referred to as friction) is equal to the coefficient of friction $(\\mu)$ times the normal load $(F_\\perp)$. We can represent this relationship as follow: \n",
    "\n",
    "$F_\\parallel = \\mu \\times F_\\perp$"
   ]
  },
  {
   "cell_type": "markdown",
   "id": "fc0a24a5",
   "metadata": {},
   "source": [
    "When setae are dragged along their natural curvature, they exhibit a response that violates this law. As shear force is increased $(F_\\parallel)$, an adhesive force results $(-F_\\perp)$, perpendicular to the surface pulling away from the surface). It has been shown that **the angle of the setal shaft to the surface $(\\alpha)$ must be kept below $30°$ or detachment occurs**. The requirement of shear force to maintain adhesion is an advantage because it provides precise control over adhesion via friction or shear force [(Autumn et al. 2006)](https://journals.biologists.com/jeb/article/209/18/3558/16105/Effective-elastic-modulus-of-isolated-gecko-setal), allowing strong attachment and easy removal.\n",
    "\n",
    "So, we can resolve the force $(F)$ along the setal shaft as follows:\n",
    "\n",
    "$F_\\perp = mg \\cdot \\sin(\\alpha)$\n",
    "\n",
    "$F_\\parallel = mg \\cdot \\cos(\\alpha)$\n",
    "\n",
    "where m is mass and g is acceleration due to gravity (mg = the weight of the object you will hang from your adhesive, plus the weight of the adhesive itself), then:\n",
    "\n",
    "$F_\\perp = F_\\parallel \\cdot \\tan(\\alpha)$\n",
    "\n",
    "As you add weight to your GSA sample, you will measure the angle at which your sample detaches and then calculate the shear $(F_\\parallel)$ and adhesive forces $(F_\\perp)$."
   ]
  },
  {
   "cell_type": "markdown",
   "id": "e215f5a8",
   "metadata": {},
   "source": [
    "<hr style=\"border: 2px solid #003262\">\n",
    "<hr style=\"border: 2px solid #C9B676\">"
   ]
  },
  {
   "cell_type": "markdown",
   "id": "14139c61",
   "metadata": {},
   "source": [
    "### Functions and Variables\n",
    "#### Variables\n",
    "\n",
    "|Symbol|Meaning|\n",
    "|------|-------|\n",
    "|$\\alpha$ | Angle of the setal shaft to surface [`degrees or radians`]|\n",
    "|$m$ | Mass of the Object [`grams or kilograms`]|\n",
    "|$g$ | Gravitational Constant of Earth $\\approx 9.807 \\ m/s^2$ [`unit of acceletation`]|\n",
    "|$\\mu$ | Coefficient of Friction [`no units`]|\n",
    "|$F_\\parallel$ | Shear Force [`Newtons`] |\n",
    "|$F_\\perp$ | Adhesive Force [`Newtons`] |\n",
    "\n",
    "#### Formulae\n",
    "\n",
    "$$\\text{General Shear Force Equation: } F_\\parallel = \\mu \\times F_\\perp$$\n",
    "\n",
    "$$\\text{Special Adhesive Force Equation: } F_\\perp = F_\\parallel \\cdot \\tan(\\alpha)$$\n",
    "\n",
    "$$\\text{Shear Force From Angle Equation: }F_\\parallel = mg \\cdot \\cos(\\alpha)$$\n",
    "\n",
    "$$\\text{Adhesive Force From Angle Equation: }F_\\parallel = mg \\cdot \\sin(\\alpha)$$"
   ]
  },
  {
   "cell_type": "markdown",
   "id": "fd0b1e54",
   "metadata": {},
   "source": [
    "<hr style=\"border: 2px solid #003262\">\n",
    "<hr style=\"border: 2px solid #C9B676\">"
   ]
  },
  {
   "cell_type": "markdown",
   "id": "adf3ef58",
   "metadata": {},
   "source": [
    "### Data Background<a id='background'></a>"
   ]
  },
  {
   "cell_type": "markdown",
   "id": "01b69d14",
   "metadata": {},
   "source": [
    "#### Row Granularity and Feature Descriptions\n",
    "\n",
    "In just a bit, we'll be loading some data from previous semesters from this project. But first, lets take a moment to get acquainted with it!\n",
    "\n",
    "We'll be loading two tables, `class_data`, and `section_data` (you might already be able to guess what each represents from their names).\n",
    "\n",
    "In both tables, **each row represents one observation, _or_ one point on a scatter plot**.\n",
    "> ***Note:*** The following tables **do not** represent any data you may or may not have collected\n",
    "\n",
    "Each row in both tables has the following attributes:\n",
    "\n",
    "<center><pre>Shared Data Attributes</pre></center>\n",
    "\n",
    "|Name|Description|Units|Coding/Representation|\n",
    "|-|-|-|-|\n",
    "|Mass (g)| The mass of the weight or object |Grams|`Decimal Number`|\n",
    "|Angle (deg)| Angle at which the weight or object is held or hangs|Degrees|`Decimal Number`|\n",
    "|Shear Force (N)| The Shear Force Exerted|Newtons|`Decimal Number`|\n",
    "|Adhesive Force (N)| The Adhesive Force Exerted|Newtons|`Decimal Number`|\n",
    "\n",
    "The `class_data` table has one other column:\n",
    "\n",
    "<center><pre>Class_Data Attributes</pre></center>\n",
    "\n",
    "|Name|Description|Coding/Representation|\n",
    "|-|-|-|\n",
    "|Collected|The term in which the data was collected|`Letters` (either \"Spring 2020\" or \"Spring 2021\")|\n",
    "\n",
    "The `section_data` table has two other columns:\n",
    "\n",
    "<center><pre>Section_Data Attributes</pre></center>\n",
    "\n",
    "|Name|Description|Coding/Representation|\n",
    "|-|-|-|\n",
    "|Section|The section number in which the data was collected|`Whole Number`|\n",
    "|Team|The unique number of the team that collected the data|`Whole Number`|\n",
    "\n",
    "Let's take a look at the tables!"
   ]
  },
  {
   "attachments": {},
   "cell_type": "markdown",
   "id": "f787c4b1",
   "metadata": {},
   "source": [
    "\n",
    "<hr style=\"border: 2px solid #003262\">\n",
    "<hr style=\"border: 2px solid #C9B676\">"
   ]
  },
  {
   "cell_type": "markdown",
   "id": "45e4a1b6",
   "metadata": {},
   "source": [
    "## Your Data"
   ]
  },
  {
   "attachments": {},
   "cell_type": "markdown",
   "id": "92616c30",
   "metadata": {},
   "source": [
    "### Load Your Data\n",
    "Just run the cell below. You will be prompted to enter your team number so that we can distinguish between what data is yours and what data is from the rest of the class."
   ]
  },
  {
   "cell_type": "code",
   "execution_count": 5,
   "id": "311292a2",
   "metadata": {},
   "outputs": [
    {
     "data": {
      "text/html": [
       "<div>\n",
       "<style scoped>\n",
       "    .dataframe tbody tr th:only-of-type {\n",
       "        vertical-align: middle;\n",
       "    }\n",
       "\n",
       "    .dataframe tbody tr th {\n",
       "        vertical-align: top;\n",
       "    }\n",
       "\n",
       "    .dataframe thead th {\n",
       "        text-align: right;\n",
       "    }\n",
       "</style>\n",
       "<table border=\"1\" class=\"dataframe\">\n",
       "  <thead>\n",
       "    <tr style=\"text-align: right;\">\n",
       "      <th></th>\n",
       "      <th>Team</th>\n",
       "      <th>Mass</th>\n",
       "      <th>Angle</th>\n",
       "      <th>ShearForce</th>\n",
       "      <th>AdhesiveForce</th>\n",
       "      <th>section</th>\n",
       "    </tr>\n",
       "  </thead>\n",
       "  <tbody>\n",
       "    <tr>\n",
       "      <th>0</th>\n",
       "      <td>1</td>\n",
       "      <td>4.1</td>\n",
       "      <td>40.0</td>\n",
       "      <td>0.030780</td>\n",
       "      <td>0.025827</td>\n",
       "      <td>1</td>\n",
       "    </tr>\n",
       "    <tr>\n",
       "      <th>1</th>\n",
       "      <td>1</td>\n",
       "      <td>4.1</td>\n",
       "      <td>50.0</td>\n",
       "      <td>0.025827</td>\n",
       "      <td>0.030780</td>\n",
       "      <td>1</td>\n",
       "    </tr>\n",
       "    <tr>\n",
       "      <th>2</th>\n",
       "      <td>1</td>\n",
       "      <td>4.1</td>\n",
       "      <td>60.0</td>\n",
       "      <td>0.020090</td>\n",
       "      <td>0.034797</td>\n",
       "      <td>1</td>\n",
       "    </tr>\n",
       "    <tr>\n",
       "      <th>3</th>\n",
       "      <td>1</td>\n",
       "      <td>17.5</td>\n",
       "      <td>35.0</td>\n",
       "      <td>0.140485</td>\n",
       "      <td>0.098368</td>\n",
       "      <td>1</td>\n",
       "    </tr>\n",
       "    <tr>\n",
       "      <th>4</th>\n",
       "      <td>1</td>\n",
       "      <td>17.5</td>\n",
       "      <td>38.0</td>\n",
       "      <td>0.135144</td>\n",
       "      <td>0.105586</td>\n",
       "      <td>1</td>\n",
       "    </tr>\n",
       "    <tr>\n",
       "      <th>...</th>\n",
       "      <td>...</td>\n",
       "      <td>...</td>\n",
       "      <td>...</td>\n",
       "      <td>...</td>\n",
       "      <td>...</td>\n",
       "      <td>...</td>\n",
       "    </tr>\n",
       "    <tr>\n",
       "      <th>303</th>\n",
       "      <td>34</td>\n",
       "      <td>44.3</td>\n",
       "      <td>20.0</td>\n",
       "      <td>0.407958</td>\n",
       "      <td>0.148485</td>\n",
       "      <td>6</td>\n",
       "    </tr>\n",
       "    <tr>\n",
       "      <th>304</th>\n",
       "      <td>34</td>\n",
       "      <td>57.7</td>\n",
       "      <td>18.0</td>\n",
       "      <td>0.537784</td>\n",
       "      <td>0.174737</td>\n",
       "      <td>6</td>\n",
       "    </tr>\n",
       "    <tr>\n",
       "      <th>305</th>\n",
       "      <td>35</td>\n",
       "      <td>17.5</td>\n",
       "      <td>16.0</td>\n",
       "      <td>0.164856</td>\n",
       "      <td>0.047272</td>\n",
       "      <td>6</td>\n",
       "    </tr>\n",
       "    <tr>\n",
       "      <th>306</th>\n",
       "      <td>35</td>\n",
       "      <td>30.9</td>\n",
       "      <td>17.0</td>\n",
       "      <td>0.289588</td>\n",
       "      <td>0.088536</td>\n",
       "      <td>6</td>\n",
       "    </tr>\n",
       "    <tr>\n",
       "      <th>307</th>\n",
       "      <td>35</td>\n",
       "      <td>57.7</td>\n",
       "      <td>15.0</td>\n",
       "      <td>0.546192</td>\n",
       "      <td>0.146352</td>\n",
       "      <td>6</td>\n",
       "    </tr>\n",
       "  </tbody>\n",
       "</table>\n",
       "<p>308 rows × 6 columns</p>\n",
       "</div>"
      ],
      "text/plain": [
       "     Team  Mass  Angle  ShearForce  AdhesiveForce  section\n",
       "0       1   4.1   40.0    0.030780       0.025827        1\n",
       "1       1   4.1   50.0    0.025827       0.030780        1\n",
       "2       1   4.1   60.0    0.020090       0.034797        1\n",
       "3       1  17.5   35.0    0.140485       0.098368        1\n",
       "4       1  17.5   38.0    0.135144       0.105586        1\n",
       "..    ...   ...    ...         ...            ...      ...\n",
       "303    34  44.3   20.0    0.407958       0.148485        6\n",
       "304    34  57.7   18.0    0.537784       0.174737        6\n",
       "305    35  17.5   16.0    0.164856       0.047272        6\n",
       "306    35  30.9   17.0    0.289588       0.088536        6\n",
       "307    35  57.7   15.0    0.546192       0.146352        6\n",
       "\n",
       "[308 rows x 6 columns]"
      ]
     },
     "execution_count": 5,
     "metadata": {},
     "output_type": "execute_result"
    }
   ],
   "source": [
    "data = get_data()\n"
   ]
  },
  {
   "cell_type": "code",
   "execution_count": 1,
   "id": "05b2b316",
   "metadata": {},
   "outputs": [],
   "source": [
    "# code to load in their data and a widget for them to enter their team number"
   ]
  },
  {
   "attachments": {},
   "cell_type": "markdown",
   "id": "7b45a036",
   "metadata": {},
   "source": [
    "### View Your Data\n",
    "Just run the cell below to show a table of your data, and one of your section and class's data!"
   ]
  },
  {
   "cell_type": "code",
   "execution_count": null,
   "id": "141bfd8a",
   "metadata": {},
   "outputs": [],
   "source": [
    "# code to show all three of the tables\n"
   ]
  },
  {
   "attachments": {},
   "cell_type": "markdown",
   "id": "bf717d34",
   "metadata": {},
   "source": [
    "### Visualize Your Data\n",
    "Below you'll be able to view a scatter plot of your data overlayed with the rest of the data from the class!"
   ]
  },
  {
   "cell_type": "code",
   "execution_count": null,
   "id": "656ef614",
   "metadata": {},
   "outputs": [],
   "source": [
    "# code to plot the scatter and color based on their team number"
   ]
  },
  {
   "cell_type": "markdown",
   "id": "c53ec45a",
   "metadata": {},
   "source": [
    "## Discussion<a id='discussion'></a>\n",
    "> Here are a few questions to get you thinking about this lab:\n",
    "\n",
    "- What patterns do you see in the visualization above?\n",
    "- Do you notice adding color by any variable leads to informative information?\n",
    "- Does the individual section data differ from the class data as a whole?\n",
    "- What do you conclude about the nature of the Gecko-inspired Synthetic Adhesive?\n",
    "- What features of the graph support the hypothesis that it is a “frictional adhesive”?\n",
    "- What is the adhesive’s maximum adhesive performance in Newtons?  In atmospheres (i.e. force/area)?  You’ll need to measure the area of the adhesive, and use the fact that 1 N/cm2 ≈ 0.1 atm.\n",
    "\n",
    "***(please reference section on “To analyze your gecko-inspired adhesive, you will:” in Gecko Lab Assignment)***\n",
    "\n",
    "\n",
    "\n",
    "Congratulations on finishing this Jupyter notebook!\n",
    "\n",
    "If you are interested in data science, a great course to start with is Data 8, designed for students with no previous programming or statistics experience. For the full list of courses and degree programs we offer, click <a href=\"https://data.berkeley.edu/academics/data-science-undergraduate-studies/data-science-academic-enrichment\">here</a>."
   ]
  }
 ],
 "metadata": {
  "kernelspec": {
   "display_name": "Python 3",
   "language": "python",
   "name": "python3"
  },
  "language_info": {
   "codemirror_mode": {
    "name": "ipython",
    "version": 3
   },
   "file_extension": ".py",
   "mimetype": "text/x-python",
   "name": "python",
   "nbconvert_exporter": "python",
   "pygments_lexer": "ipython3",
   "version": "3.10.1"
  },
  "toc": {
   "base_numbering": 1,
   "nav_menu": {},
   "number_sections": false,
   "sideBar": true,
   "skip_h1_title": true,
   "title_cell": "Table of Contents",
   "title_sidebar": "Contents",
   "toc_cell": true,
   "toc_position": {},
   "toc_section_display": true,
   "toc_window_display": false
  },
  "vscode": {
   "interpreter": {
    "hash": "aee8b7b246df8f9039afb4144a1f6fd8d2ca17a180786b69acc140d282b71a49"
   }
  }
 },
 "nbformat": 4,
 "nbformat_minor": 5
}
