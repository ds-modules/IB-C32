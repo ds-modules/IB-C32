{
    "cells": [
        {
            "attachments": {},
            "cell_type": "markdown",
            "id": "678874f0",
            "metadata": {},
            "source": [
                "# IB C32 - Gecko Inspired Adhesive Analysis"
            ]
        },
        {
            "cell_type": "markdown",
            "id": "c7c27f71",
            "metadata": {},
            "source": [
                "\n",
                "<hr style=\"border: 2px solid #003262\">\n",
                "<hr style=\"border: 2px solid #C9B676\">"
            ]
        },
        {
            "attachments": {},
            "cell_type": "markdown",
            "id": "a1062caa",
            "metadata": {},
            "source": [
                "## Outline\n",
                "\n",
                "In this notebook you will:\n",
                "- Get an introduction to the experiment\n",
                "    - Get an introduction to the Important Equations\n",
                "- Review background on the variables and functions\n",
                "    - Get a background on the data\n",
                "- Load in your own data\n",
                "    - View your class, section, and team data as a table\n",
                "    - Visualize the data from the class, as well as your own data!"
            ]
        },
        {
            "attachments": {},
            "cell_type": "markdown",
            "id": "f83bbd25",
            "metadata": {},
            "source": [
                "<hr style=\"border: 2px solid #003262\">\n",
                "<hr style=\"border: 2px solid #C9B676\">"
            ]
        },
        {
            "attachments": {},
            "cell_type": "markdown",
            "id": "d98e3afb",
            "metadata": {},
            "source": [
                "## Introduction"
            ]
        },
        {
            "attachments": {},
            "cell_type": "markdown",
            "id": "e4d6eb58",
            "metadata": {},
            "source": [
                "### Inspiration"
            ]
        },
        {
            "cell_type": "markdown",
            "id": "bbc9f84b",
            "metadata": {},
            "source": [
                "If geckos had not evolved, it is possible that **humans would never have invented adhesive nanostructures** (Autumn and Gravish, 2008). Geckos use millions of adhesive setae on their toes to climb vertical surfaces at speeds of over $1 \\frac{m}{s}$. Climbing presents a significant challenge for an adhesive in requiring both strong attachment and easy rapid removal. Conventional pressure-sensitive adhesives (PSAs) are either strong and difficult to remove (e.g. duct tape) or weak and easy to remove (e.g. sticky notes). The gecko adhesive differs dramatically from conventional adhesives. Conventional PSAs are soft viscoelastic polymers that degrade, foul, self-adhere and attach accidentally to inappropriate surfaces. In contrast, gecko toes bear angled arrays of branched, hair-like setae formed from stiff, hydrophobic keratin (like your hair or finger nails) that act as a bed of angled springs with similar relative stiffness to that of PSAs. Setae are self-cleaning and maintain function for months during repeated use in dirty conditions. Setae function as an anisotropic (direction dependent) ‘frictional adhesive’ (Autumn et al., 2006a,b) where adhesion force (perpendicular to the surface) requires a proximally directed (pulled to body) shear force (parallel to the surface).\n",
                "\n",
                "The actual structure of the adhesive is hierarchical in nature and extends across the macro-, meso-, micro-, and even nanoscale. The whole hierarchical structure of a gecko, such as the Tokay, includes four feet, each foot with five toes, each toe with approximately 20 rows of lamellae (scansors), each lamella with many setal arrays consisting of thousands of setae, which amounts to approximately 200,000 setae per toe, and each seta consisting of hundreds to 1,000 spatulae at its end with sizes near 200 nm. Over the years since we discovered how geckos stick (Autumn et al, 2000, 2002), many investigators have shown that all levels of the hierarchy contribute to function, not just the nano-sized, spatular split-ends.\n"
            ]
        },
        {
            "attachments": {},
            "cell_type": "markdown",
            "id": "cdf16461",
            "metadata": {},
            "source": [
                "<hr style=\"border: 2px solid\">\n",
                "<hr style=\"border: 2px solid\">"
            ]
        },
        {
            "attachments": {},
            "cell_type": "markdown",
            "id": "9e62295b",
            "metadata": {},
            "source": [
                "### Equations"
            ]
        },
        {
            "cell_type": "markdown",
            "id": "45ea7d1a",
            "metadata": {},
            "source": [
                "In this notebook, you will be calculating force in one of two ways. \n",
                "\n",
                "The first is called the *Adhesive Force*, which we will represent with $F_\\perp$. You can think of this as the force exerted **perpendicular** (or orthogonally) to the surface. The second force we will calculate is the *Shear Force*, which we will abbreviate similarly as $F_\\parallel$. You can think of this as the force exerted **parallel** to the surface. \n",
                "\n",
                "You can measure the values of each formula by changing the angle of attachment away from vertical $(90°)$ as if the gecko was on the underside of an over-hang.\n",
                "\n",
                "In a more typical material, the shear force (also referred to as friction) is equal to the coefficient of friction $(\\mu)$ times the normal load $(F_\\perp)$. We can represent this relationship as follow: \n",
                "\n",
                "$F_\\parallel = \\mu \\times F_\\perp$"
            ]
        },
        {
            "cell_type": "markdown",
            "id": "fc0a24a5",
            "metadata": {},
            "source": [
                "When setae are dragged along their natural curvature, they exhibit a response that violates this law. As shear force is increased $(F_\\parallel)$, an adhesive force results $(-F_\\perp)$, perpendicular to the surface pulling away from the surface). It has been shown that **the angle of the setal shaft to the surface $(\\alpha)$ must be kept below $30°$ or detachment occurs**. The requirement of shear force to maintain adhesion is an advantage because it provides precise control over adhesion via friction or shear force [(Autumn et al. 2006)](https://journals.biologists.com/jeb/article/209/18/3558/16105/Effective-elastic-modulus-of-isolated-gecko-setal), allowing strong attachment and easy removal.\n",
                "\n",
                "So, we can resolve the force $(F)$ along the setal shaft as follows:\n",
                "\n",
                "$F_\\perp = mg \\cdot \\sin(\\alpha)$\n",
                "\n",
                "$F_\\parallel = mg \\cdot \\cos(\\alpha)$\n",
                "\n",
                "where m is mass and g is acceleration due to gravity (mg = the weight of the object you will hang from your adhesive, plus the weight of the adhesive itself), then:\n",
                "\n",
                "$F_\\perp = F_\\parallel \\cdot \\tan(\\alpha)$\n",
                "\n",
                "As you add weight to your GSA sample, you will measure the angle at which your sample detaches and then calculate the shear $(F_\\parallel)$ and adhesive forces $(F_\\perp)$."
            ]
        },
        {
            "cell_type": "markdown",
            "id": "5f412a17",
            "metadata": {},
            "source": [
                "<hr style=\"border: 2px solid\">\n",
                "<hr style=\"border: 2px solid\">"
            ]
        },
        {
            "cell_type": "markdown",
            "id": "14139c61",
            "metadata": {},
            "source": [
                "### Functions and Variables\n",
                "#### Variables\n",
                "\n",
                "|Symbol|Meaning|\n",
                "|------|-------|\n",
                "|$\\alpha$ | Angle of the setal shaft to surface [`degrees or radians`]|\n",
                "|$m$ | Mass of the Object [`grams or kilograms`]|\n",
                "|$g$ | Gravitational Constant of Earth $\\approx 9.807 \\ m/s^2$ [`unit of acceletation`]|\n",
                "|$\\mu$ | Coefficient of Friction [`no units`]|\n",
                "|$F_\\parallel$ | Shear Force [`Newtons`] |\n",
                "|$F_\\perp$ | Adhesive Force [`Newtons`] |\n",
                "\n",
                "#### Formulae\n",
                "\n",
                "$$\\text{General Shear Force Equation: } F_\\parallel = \\mu \\times F_\\perp$$\n",
                "\n",
                "$$\\text{Special Adhesive Force Equation: } F_\\perp = F_\\parallel \\cdot \\tan(\\alpha)$$\n",
                "\n",
                "$$\\text{Shear Force From Angle Equation: }F_\\parallel = mg \\cdot \\cos(\\alpha)$$\n",
                "\n",
                "$$\\text{Adhesive Force From Angle Equation: }F_\\parallel = mg \\cdot \\sin(\\alpha)$$"
            ]
        },
        {
            "cell_type": "markdown",
            "id": "755edcd7",
            "metadata": {},
            "source": [
                "<hr style=\"border: 2px solid\">\n",
                "<hr style=\"border: 2px solid\">"
            ]
        },
        {
            "cell_type": "markdown",
            "id": "adf3ef58",
            "metadata": {},
            "source": [
                "### Data Background<a id='background'></a>"
            ]
        },
        {
            "attachments": {},
            "cell_type": "markdown",
            "id": "01b69d14",
            "metadata": {},
            "source": [
                "#### Row Granularity and Feature Descriptions\n",
                "\n",
                "In just a bit, we'll be loading some data from previous semesters from this project. But first, lets take a moment to get acquainted with it!\n",
                "\n",
                "In both tables, **each row represents one observation, _or_ one point on a scatter plot**.\n",
                "\n",
                "The data you will load has the following attributes:\n",
                "\n",
                "|Name|Description|Units|Coding/Representation|\n",
                "|-|-|-|-|\n",
                "|Mass (g)| The mass of the weight or object |Grams|`Decimal Number`|\n",
                "|Angle (deg)| Angle at which the weight or object is held or hangs|Degrees|`Decimal Number`|\n",
                "|Shear Force (N)| The Shear Force Exerted|Newtons|`Decimal Number`|\n",
                "|Adhesive Force (N)| The Adhesive Force Exerted|Newtons|`Decimal Number`|\n"
            ]
        },
        {
            "attachments": {},
            "cell_type": "markdown",
            "id": "f787c4b1",
            "metadata": {},
            "source": [
                "\n",
                "<hr style=\"border: 2px solid #003262\">\n",
                "<hr style=\"border: 2px solid #C9B676\">"
            ]
        },
        {
            "attachments": {},
            "cell_type": "markdown",
            "id": "c3d1eafc",
            "metadata": {},
            "source": [
                "## The Data"
            ]
        },
        {
            "attachments": {},
            "cell_type": "markdown",
            "id": "9ea9630d",
            "metadata": {},
            "source": [
                "### Setup"
            ]
        },
        {
            "attachments": {},
            "cell_type": "markdown",
            "id": "c9513a9a",
            "metadata": {},
            "source": [
                "<div class=\"alert alert-block alert-danger\">\n",
                "    <p style=\"font-size:20px\">\n",
                "    <b>Important:</b> Make sure you run the cell below, or the rest of the notebook won't work!\n",
                "    </p>\n",
                "</div>"
            ]
        },
        {
            "cell_type": "code",
            "execution_count": null,
            "id": "a5db9ec8",
            "metadata": {},
            "outputs": [],
            "source": [
                "from utils import *"
            ]
        },
        {
            "cell_type": "markdown",
            "id": "88f2f2ae",
            "metadata": {},
            "source": [
                "<hr style=\"border: 2px solid\">\n",
                "<hr style=\"border: 2px solid\">"
            ]
        },
        {
            "attachments": {},
            "cell_type": "markdown",
            "id": "92616c30",
            "metadata": {},
            "source": [
                "### Load Your Data\n",
                "Just run the cell below. You will be prompted to enter your team number so that we can distinguish between what data is yours and what data is from the rest of the class."
            ]
        },
        {
            "cell_type": "code",
            "execution_count": null,
            "id": "05b2b316",
            "metadata": {},
            "outputs": [],
            "source": [
                "team_input = enter_team_number()"
            ]
        },
        {
            "cell_type": "markdown",
            "id": "871eabeb",
            "metadata": {},
            "source": [
                "<hr style=\"border: 2px solid\">\n",
                "<hr style=\"border: 2px solid\">"
            ]
        },
        {
            "attachments": {},
            "cell_type": "markdown",
            "id": "7b45a036",
            "metadata": {},
            "source": [
                "### View Your Data\n",
                "Just run the cell below to show a table of your data, and one of your section and class's data!"
            ]
        },
        {
            "cell_type": "code",
            "execution_count": null,
            "id": "141bfd8a",
            "metadata": {},
            "outputs": [],
            "source": [
                "team, section, class_data = get_tables(team_input)\n",
                "show_data(class_data)"
            ]
        },
        {
            "cell_type": "markdown",
            "id": "788333bb",
            "metadata": {},
            "source": [
                "<hr style=\"border: 2px solid\">\n",
                "<hr style=\"border: 2px solid\">"
            ]
        },
        {
            "attachments": {},
            "cell_type": "markdown",
            "id": "bf717d34",
            "metadata": {},
            "source": [
                "### Visualize Your Data\n",
                "Below you'll be able to view a scatter plot of your data overlayed with the rest of the data from the class!"
            ]
        },
        {
            "cell_type": "code",
            "execution_count": null,
            "id": "656ef614",
            "metadata": {},
            "outputs": [],
            "source": [
                "plot_data(class_data)"
            ]
        },
        {
            "cell_type": "markdown",
            "id": "d145be48",
            "metadata": {},
            "source": [
                "\n",
                "<hr style=\"border: 2px solid #003262\">\n",
                "<hr style=\"border: 2px solid #C9B676\">"
            ]
        },
        {
            "attachments": {},
            "cell_type": "markdown",
            "id": "c53ec45a",
            "metadata": {},
            "source": [
                "## Discussion<a id='discussion'></a>\n",
                "> Here are a few questions to get you thinking about this lab:\n",
                "\n",
                "- What patterns do you see in the visualization above?\n",
                "- Do you notice adding color by any variable leads to informative information?\n",
                "- Does the individual section data differ from the class data as a whole?\n",
                "- What do you conclude about the nature of the Gecko-inspired Synthetic Adhesive?\n",
                "- What features of the graph support the hypothesis that it is a “frictional adhesive”?\n",
                "- What is the adhesive’s maximum adhesive performance in Newtons?  In atmospheres (i.e. force/area)?  You’ll need to measure the area of the adhesive, and use the fact that 1 N/cm2 ≈ 0.1 atm.\n",
                "\n",
                "***(please reference section on “To analyze your gecko-inspired adhesive, you will:” in Gecko Lab Assignment)***"
            ]
        },
        {
            "cell_type": "markdown",
            "id": "c75df043",
            "metadata": {},
            "source": [
                "<hr style=\"border: 2px solid\">\n",
                "<hr style=\"border: 2px solid\">"
            ]
        },
        {
            "attachments": {},
            "cell_type": "markdown",
            "id": "d8d9e8e7",
            "metadata": {},
            "source": [
                "## Conclusion\n",
                "\n",
                "Congratulations on finishing this Jupyter notebook!\n",
                "\n",
                "If you are interested in data science, a great course to start with is Data 8, designed for students with no previous programming or statistics experience. For the full list of courses and degree programs we offer, click <a href=\"https://data.berkeley.edu/academics/data-science-undergraduate-studies/data-science-academic-enrichment\">here</a>."
            ]
        },
        {
            "cell_type": "markdown",
            "id": "468b2c81",
            "metadata": {},
            "source": [
                "\n",
                "<hr style=\"border: 2px solid #003262\">\n",
                "<hr style=\"border: 2px solid #C9B676\">"
            ]
        },
        {
            "attachments": {},
            "cell_type": "markdown",
            "id": "a600999f",
            "metadata": {},
            "source": [
                "## A Final Request: Feedback Form"
            ]
        },
        {
            "attachments": {},
            "cell_type": "markdown",
            "id": "2c6dc78e",
            "metadata": {},
            "source": [
                "<div class=\"alert alert-block alert-info\">\n",
                "    <p style=\"font-size:20px\">We encourage students to fill out the following feedback form to share your experience with this Module created notebook. This feedback form will take no longer than 5 minutes. At UC Berkeley Data Science Undergraduate Studies – Modules, we appreciate all feedback to improve the learning of students and experience utilizing Jupyter Notebooks for Data Science Education. You can fill out the survey by running the cell below and clicking the button that appears. Thank you in advance for your time!\n",
                "</div>"
            ]
        },
        {
            "cell_type": "code",
            "execution_count": null,
            "id": "6e064fc0",
            "metadata": {},
            "outputs": [],
            "source": []
        }
    ],
    "metadata": {
        "kernelspec": {
            "display_name": "Python 3",
            "language": "python",
            "name": "python3"
        },
        "language_info": {
            "codemirror_mode": {
                "name": "ipython",
                "version": 3
            },
            "file_extension": ".py",
            "mimetype": "text/x-python",
            "name": "python",
            "nbconvert_exporter": "python",
            "pygments_lexer": "ipython3",
            "version": "3.10.1"
        },
        "toc": {
            "base_numbering": 1,
            "nav_menu": {},
            "number_sections": false,
            "sideBar": true,
            "skip_h1_title": true,
            "title_cell": "Table of Contents",
            "title_sidebar": "Contents",
            "toc_cell": true,
            "toc_position": {},
            "toc_section_display": true,
            "toc_window_display": false
        },
        "vscode": {
            "interpreter": {
                "hash": "aee8b7b246df8f9039afb4144a1f6fd8d2ca17a180786b69acc140d282b71a49"
            }
        }
    },
    "nbformat": 4,
    "nbformat_minor": 5
}
