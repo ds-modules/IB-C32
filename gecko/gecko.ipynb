{
    "cells": [
        {
            "attachments": {},
            "cell_type": "markdown",
            "id": "678874f0",
            "metadata": {},
            "source": [
                "# IB C32 - Gecko Inspired Adhesive Analysis"
            ]
        },
        {
            "cell_type": "markdown",
            "id": "c7c27f71",
            "metadata": {},
            "source": [
                "\n",
                "<hr style=\"border: 2px solid #003262\">\n",
                "<hr style=\"border: 2px solid #C9B676\">"
            ]
        },
        {
            "attachments": {},
            "cell_type": "markdown",
            "id": "a1062caa",
            "metadata": {},
            "source": [
                "## Outline\n",
                "\n",
                "In this notebook you will:\n",
                "- Get an introduction to the experiment\n",
                "    - Get an introduction to the Important Equations\n",
                "- Review background on the variables and functions\n",
                "    - Get a background on the data\n",
                "- Load in your own data\n",
                "    - View your class, section, and team data as a table\n",
                "    - Visualize the data from the class, as well as your own data!"
            ]
        },
        {
            "attachments": {},
            "cell_type": "markdown",
            "id": "f83bbd25",
            "metadata": {},
            "source": [
                "<hr style=\"border: 2px solid #003262\">\n",
                "<hr style=\"border: 2px solid #C9B676\">"
            ]
        },
        {
            "attachments": {},
            "cell_type": "markdown",
            "id": "d98e3afb",
            "metadata": {},
            "source": [
                "## Introduction"
            ]
        },
        {
            "attachments": {},
            "cell_type": "markdown",
            "id": "e4d6eb58",
            "metadata": {},
            "source": [
                "### Inspiration"
            ]
        },
        {
            "attachments": {},
            "cell_type": "markdown",
            "id": "bbc9f84b",
            "metadata": {},
            "source": [
                "If geckos had not evolved, it is possible that **humans would never have invented adhesive nanostructures** ([Autumn and Gravish, 2008](https://www.semanticscholar.org/paper/Nick-Gravish-Gecko-adhesion-%3A-evolutionary-Autumn-Gravish/650e3089c8f20137ec7a470b144aab0a76d5c377)). Geckos use millions of adhesive setae on their toes to climb vertical surfaces at speeds of over $1 \\frac{m}{s}$. Climbing presents a significant challenge for an adhesive in requiring both strong attachment and easy rapid removal. Conventional pressure-sensitive adhesives (PSAs) are either strong and difficult to remove (e.g. duct tape) or weak and easy to remove (e.g. sticky notes). The gecko adhesive differs dramatically from conventional adhesives. Conventional PSAs are soft viscoelastic polymers that degrade, foul, self-adhere and attach accidentally to inappropriate surfaces. In contrast, gecko toes bear angled arrays of branched, hair-like setae formed from stiff, hydrophobic keratin (like your hair or finger nails) that act as a bed of angled springs with similar relative stiffness to that of PSAs. Setae are self-cleaning and maintain function for months during repeated use in dirty conditions. Setae function as an anisotropic (direction dependent) ‘frictional adhesive’ (Autumn et al., 2006a,b) where adhesion force (perpendicular to the surface) requires a proximally directed (pulled to body) shear force (parallel to the surface).\n",
                "\n",
                "The actual structure of the adhesive is hierarchical in nature and extends across the macro-, meso-, micro-, and even nanoscale. The whole hierarchical structure of a gecko, such as the Tokay, includes four feet, each foot with five toes, each toe with approximately 20 rows of lamellae (scansors), each lamella with many setal arrays consisting of thousands of setae, which amounts to approximately 200,000 setae per toe, and each seta consisting of hundreds to 1,000 spatulae at its end with sizes near 200 nm. Over the years since we discovered how geckos stick (Autumn et al, 2000, 2002), many investigators have shown that all levels of the hierarchy contribute to function, not just the nano-sized, spatular split-ends.\n"
            ]
        },
        {
            "attachments": {},
            "cell_type": "markdown",
            "id": "cdf16461",
            "metadata": {},
            "source": [
                "<hr style=\"border: 2px solid\">\n",
                "<hr style=\"border: 2px solid\">"
            ]
        },
        {
            "attachments": {},
            "cell_type": "markdown",
            "id": "9e62295b",
            "metadata": {},
            "source": [
                "### Equations"
            ]
        },
        {
            "attachments": {},
            "cell_type": "markdown",
            "id": "45ea7d1a",
            "metadata": {},
            "source": [
                "In this notebook, you will be calculating force in one of two ways. \n",
                "\n",
                "The first is called the *Adhesive Force*, which we will represent with $F_\\perp$. You can think of this as the force exerted **perpendicular** (or orthogonally) to the surface. The second force we will calculate is the *Shear Force*, which we will abbreviate similarly as $F_\\parallel$. You can think of this as the force exerted **parallel** to the surface. \n",
                "\n",
                "You can measure the values of each formula by changing the angle of attachment away from vertical $(90°)$ as if the gecko was on the underside of an over-hang.\n",
                "\n",
                "In a more typical material, the shear force (also referred to as friction) is equal to the coefficient of friction $(\\mu)$ times the normal load $(F_\\perp)$. We can represent this relationship as follows: \n",
                "\n",
                "$F_\\parallel = \\mu \\times F_\\perp$"
            ]
        },
        {
            "cell_type": "markdown",
            "id": "fc0a24a5",
            "metadata": {},
            "source": [
                "When setae are dragged along their natural curvature, they exhibit a response that violates this law. As shear force is increased $(F_\\parallel)$, an adhesive force results $(-F_\\perp)$, perpendicular to the surface pulling away from the surface). It has been shown that **the angle of the setal shaft to the surface $(\\alpha)$ must be kept below $30°$ or detachment occurs**. The requirement of shear force to maintain adhesion is an advantage because it provides precise control over adhesion via friction or shear force [(Autumn et al. 2006)](https://journals.biologists.com/jeb/article/209/18/3558/16105/Effective-elastic-modulus-of-isolated-gecko-setal), allowing strong attachment and easy removal.\n",
                "\n",
                "So, we can resolve the force $(F)$ along the setal shaft as follows:\n",
                "\n",
                "$F_\\perp = mg \\cdot \\sin(\\alpha)$\n",
                "\n",
                "$F_\\parallel = mg \\cdot \\cos(\\alpha)$\n",
                "\n",
                "where m is mass and g is acceleration due to gravity (mg = the weight of the object you will hang from your adhesive, plus the weight of the adhesive itself), then:\n",
                "\n",
                "$F_\\perp = F_\\parallel \\cdot \\tan(\\alpha)$\n",
                "\n",
                "As you add weight to your GSA sample, you will measure the angle at which your sample detaches and then calculate the shear $(F_\\parallel)$ and adhesive forces $(F_\\perp)$."
            ]
        },
        {
            "cell_type": "markdown",
            "id": "5f412a17",
            "metadata": {},
            "source": [
                "<hr style=\"border: 2px solid\">\n",
                "<hr style=\"border: 2px solid\">"
            ]
        },
        {
            "cell_type": "markdown",
            "id": "14139c61",
            "metadata": {},
            "source": [
                "### Functions and Variables\n",
                "#### Variables\n",
                "\n",
                "|Symbol|Meaning|\n",
                "|------|-------|\n",
                "|$\\alpha$ | Angle of the setal shaft to surface [`degrees or radians`]|\n",
                "|$m$ | Mass of the Object [`grams or kilograms`]|\n",
                "|$g$ | Gravitational Constant of Earth $\\approx 9.807 \\ m/s^2$ [`unit of acceletation`]|\n",
                "|$\\mu$ | Coefficient of Friction [`no units`]|\n",
                "|$F_\\parallel$ | Shear Force [`Newtons`] |\n",
                "|$F_\\perp$ | Adhesive Force [`Newtons`] |\n",
                "\n",
                "#### Formulae\n",
                "\n",
                "$$\\text{General Shear Force Equation: } F_\\parallel = \\mu \\times F_\\perp$$\n",
                "\n",
                "$$\\text{Special Adhesive Force Equation: } F_\\perp = F_\\parallel \\cdot \\tan(\\alpha)$$\n",
                "\n",
                "$$\\text{Shear Force From Angle Equation: }F_\\parallel = mg \\cdot \\cos(\\alpha)$$\n",
                "\n",
                "$$\\text{Adhesive Force From Angle Equation: }F_\\parallel = mg \\cdot \\sin(\\alpha)$$"
            ]
        },
        {
            "cell_type": "markdown",
            "id": "755edcd7",
            "metadata": {},
            "source": [
                "<hr style=\"border: 2px solid\">\n",
                "<hr style=\"border: 2px solid\">"
            ]
        },
        {
            "cell_type": "markdown",
            "id": "adf3ef58",
            "metadata": {},
            "source": [
                "### Data Background<a id='background'></a>"
            ]
        },
        {
            "attachments": {},
            "cell_type": "markdown",
            "id": "01b69d14",
            "metadata": {},
            "source": [
                "#### Row Granularity and Feature Descriptions\n",
                "\n",
                "In just a bit, we'll be loading your own data from this project. But first, lets take a moment to get acquainted with it!\n",
                "\n",
                "In both tables, **each row represents one observation, _or_ one point on a scatter plot**.\n",
                "\n",
                "The data you will load has the following attributes:\n",
                "\n",
                "|Name|Description|Units|Coding/Representation|\n",
                "|-|-|-|-|\n",
                "|Mass (g)| The mass of the weight or object |Grams|`float (Decimal Number)`|\n",
                "|Angle (deg)| Angle at which the weight or object is held or hangs|Degrees|`float (Decimal Number)`|\n",
                "|Shear Force (N)| The Shear Force Exerted|Newtons|`float (Decimal Number)`|\n",
                "|Adhesive Force (N)| The Adhesive Force Exerted|Newtons|`float (Decimal Number)`|\n"
            ]
        },
        {
            "attachments": {},
            "cell_type": "markdown",
            "id": "f787c4b1",
            "metadata": {},
            "source": [
                "\n",
                "<hr style=\"border: 2px solid #003262\">\n",
                "<hr style=\"border: 2px solid #C9B676\">"
            ]
        },
        {
            "attachments": {},
            "cell_type": "markdown",
            "id": "c3d1eafc",
            "metadata": {},
            "source": [
                "## The Data"
            ]
        },
        {
            "attachments": {},
            "cell_type": "markdown",
            "id": "9ea9630d",
            "metadata": {},
            "source": [
                "### Setup"
            ]
        },
        {
            "attachments": {},
            "cell_type": "markdown",
            "id": "c9513a9a",
            "metadata": {},
            "source": [
                "<div class=\"alert alert-block alert-danger\">\n",
                "    <p style=\"font-size:20px\">\n",
                "    <b>Important:</b> Make sure you run the cell below, or the rest of the notebook won't work!\n",
                "    </p>\n",
                "</div>"
            ]
        },
        {
            "cell_type": "code",
            "execution_count": 1,
            "id": "a5db9ec8",
            "metadata": {},
            "outputs": [],
            "source": [
                "from utils import *"
            ]
        },
        {
            "cell_type": "markdown",
            "id": "88f2f2ae",
            "metadata": {},
            "source": [
                "<hr style=\"border: 2px solid\">\n",
                "<hr style=\"border: 2px solid\">"
            ]
        },
        {
            "attachments": {},
            "cell_type": "markdown",
            "id": "92616c30",
            "metadata": {},
            "source": [
                "### Load Your Data\n",
                "Just run the cell below. You will be prompted to enter your team number so that we can distinguish between what data is yours and what data is from the rest of the class."
            ]
        },
        {
            "cell_type": "code",
            "execution_count": 2,
            "id": "05b2b316",
            "metadata": {},
            "outputs": [
                {
                    "data": {
                        "text/markdown": [
                            "<h2>Select a team number to get data for.</h2>"
                        ],
                        "text/plain": [
                            "<IPython.core.display.Markdown object>"
                        ]
                    },
                    "metadata": {},
                    "output_type": "display_data"
                },
                {
                    "data": {
                        "text/markdown": [
                            "<h3><blockquote>You can also use the arrow keys to change the team number, or simply type it into the box.</blockquote></h3>"
                        ],
                        "text/plain": [
                            "<IPython.core.display.Markdown object>"
                        ]
                    },
                    "metadata": {},
                    "output_type": "display_data"
                },
                {
                    "data": {
                        "application/vnd.jupyter.widget-view+json": {
                            "model_id": "6d54428d3031413a83708f0feb13ef53",
                            "version_major": 2,
                            "version_minor": 0
                        },
                        "text/plain": [
                            "BoundedIntText(value=1, description='Team:', max=35, min=1)"
                        ]
                    },
                    "metadata": {},
                    "output_type": "display_data"
                }
            ],
            "source": [
                "team_input = enter_team_number()"
            ]
        },
        {
            "cell_type": "markdown",
            "id": "871eabeb",
            "metadata": {},
            "source": [
                "<hr style=\"border: 2px solid\">\n",
                "<hr style=\"border: 2px solid\">"
            ]
        },
        {
            "attachments": {},
            "cell_type": "markdown",
            "id": "7b45a036",
            "metadata": {},
            "source": [
                "### View Your Data\n",
                "Just run the cell below to show a table of your data, and one of your section and class's data!"
            ]
        },
        {
            "cell_type": "code",
            "execution_count": 3,
            "id": "141bfd8a",
            "metadata": {},
            "outputs": [
                {
                    "data": {
                        "text/markdown": [
                            "<h2>Use the dropdown menu to select a group to view.</h2>"
                        ],
                        "text/plain": [
                            "<IPython.core.display.Markdown object>"
                        ]
                    },
                    "metadata": {},
                    "output_type": "display_data"
                },
                {
                    "data": {
                        "text/markdown": [
                            "<h3>Then, use the slider to determine how many rows to show.</h3>"
                        ],
                        "text/plain": [
                            "<IPython.core.display.Markdown object>"
                        ]
                    },
                    "metadata": {},
                    "output_type": "display_data"
                },
                {
                    "data": {
                        "text/markdown": [
                            "<h3><blockquote>Note: You can also click the number next to the slider to change the number of rows.</blockquote></h3>"
                        ],
                        "text/plain": [
                            "<IPython.core.display.Markdown object>"
                        ]
                    },
                    "metadata": {},
                    "output_type": "display_data"
                },
                {
                    "data": {
                        "text/markdown": [
                            "<center><h1>Make sure you take a screenshot of the \"My Team\" table to submit!</h1></center>"
                        ],
                        "text/plain": [
                            "<IPython.core.display.Markdown object>"
                        ]
                    },
                    "metadata": {},
                    "output_type": "display_data"
                },
                {
                    "data": {
                        "application/vnd.jupyter.widget-view+json": {
                            "model_id": "01658a3efac24ddb93d83922b77b1291",
                            "version_major": 2,
                            "version_minor": 0
                        },
                        "text/plain": [
                            "interactive(children=(Dropdown(description='group', options=('My Team', 'My Section', 'Rest of Class'), value=…"
                        ]
                    },
                    "metadata": {},
                    "output_type": "display_data"
                }
            ],
            "source": [
                "team, section, class_data = get_tables(team_input)\n",
                "show_data(class_data)"
            ]
        },
        {
            "cell_type": "markdown",
            "id": "788333bb",
            "metadata": {},
            "source": [
                "<hr style=\"border: 2px solid\">\n",
                "<hr style=\"border: 2px solid\">"
            ]
        },
        {
            "attachments": {},
            "cell_type": "markdown",
            "id": "bf717d34",
            "metadata": {},
            "source": [
                "### Visualize Your Data\n",
                "Below you'll be able to view a scatter plot of your data overlayed with the rest of the data from the class!"
            ]
        },
        {
            "cell_type": "code",
            "execution_count": 4,
            "id": "656ef614",
            "metadata": {},
            "outputs": [
                {
                    "data": {
                        "text/markdown": [
                            "<h2>Use the dropdown menu to select a column to plot on the x-axis and y-axis.</h2>"
                        ],
                        "text/plain": [
                            "<IPython.core.display.Markdown object>"
                        ]
                    },
                    "metadata": {},
                    "output_type": "display_data"
                },
                {
                    "data": {
                        "text/markdown": [
                            "<h3>Then, use the checkbox to toggle trend lines.</h3>"
                        ],
                        "text/plain": [
                            "<IPython.core.display.Markdown object>"
                        ]
                    },
                    "metadata": {},
                    "output_type": "display_data"
                },
                {
                    "data": {
                        "text/markdown": [
                            "<center><h1>Make sure to save the graph as an image to submit!</h1></center>"
                        ],
                        "text/plain": [
                            "<IPython.core.display.Markdown object>"
                        ]
                    },
                    "metadata": {},
                    "output_type": "display_data"
                },
                {
                    "data": {
                        "text/markdown": [
                            "<center><h2>To do that, hover over the top right corner of the graph and click the camera button!</h2></center>"
                        ],
                        "text/plain": [
                            "<IPython.core.display.Markdown object>"
                        ]
                    },
                    "metadata": {},
                    "output_type": "display_data"
                },
                {
                    "data": {
                        "application/vnd.jupyter.widget-view+json": {
                            "model_id": "a16f558d35344e47a5b28b824fc22430",
                            "version_major": 2,
                            "version_minor": 0
                        },
                        "text/plain": [
                            "interactive(children=(Dropdown(description='x', options=('Mass (g)', 'Angle (degrees)', 'Shear Force (N)', 'Ad…"
                        ]
                    },
                    "metadata": {},
                    "output_type": "display_data"
                },
                {
                    "data": {
                        "application/vnd.plotly.v1+json": {
                            "config": {
                                "plotlyServerURL": "https://plot.ly"
                            },
                            "data": [
                                {
                                    "hovertemplate": "Group=My Team<br>Mass (g)=%{x}<br>Angle (degrees)=%{y}<extra></extra>",
                                    "legendgroup": "My Team",
                                    "marker": {
                                        "color": "rgb(76,114,176)",
                                        "symbol": "circle"
                                    },
                                    "mode": "markers",
                                    "name": "My Team",
                                    "orientation": "v",
                                    "showlegend": true,
                                    "type": "scatter",
                                    "x": [
                                        4.1,
                                        4.1,
                                        4.1,
                                        17.5,
                                        17.5,
                                        17.5,
                                        30.9,
                                        30.9,
                                        30.9,
                                        44.3,
                                        71.1,
                                        71.1
                                    ],
                                    "xaxis": "x",
                                    "y": [
                                        40,
                                        50,
                                        60,
                                        35,
                                        38,
                                        41,
                                        25,
                                        25,
                                        27,
                                        25,
                                        15,
                                        10
                                    ],
                                    "yaxis": "y"
                                },
                                {
                                    "hovertemplate": "Group=My Section<br>Mass (g)=%{x}<br>Angle (degrees)=%{y}<extra></extra>",
                                    "legendgroup": "My Section",
                                    "marker": {
                                        "color": "rgb(221,132,82)",
                                        "symbol": "circle"
                                    },
                                    "mode": "markers",
                                    "name": "My Section",
                                    "orientation": "v",
                                    "showlegend": true,
                                    "type": "scatter",
                                    "x": [
                                        17.5,
                                        17.5,
                                        17.5,
                                        30.9,
                                        30.9,
                                        30.9,
                                        44.3,
                                        44.3,
                                        44.3,
                                        17.5,
                                        17.5,
                                        17.5,
                                        30.9,
                                        30.9,
                                        30.9,
                                        44.3,
                                        44.3,
                                        57.7,
                                        57.7,
                                        57.7,
                                        17.5,
                                        17.5,
                                        17.5,
                                        30.9,
                                        30.9,
                                        30.9,
                                        44.3,
                                        44.3,
                                        44.3,
                                        57.7,
                                        57.7,
                                        57.7,
                                        17.5,
                                        17.5,
                                        17.5,
                                        30.9,
                                        44.3,
                                        57.7,
                                        17.5,
                                        17.5,
                                        17.5,
                                        30.9,
                                        30.9,
                                        30.9,
                                        44.3,
                                        44.3,
                                        44.3
                                    ],
                                    "xaxis": "x",
                                    "y": [
                                        20,
                                        30,
                                        30,
                                        28,
                                        25,
                                        25,
                                        20,
                                        20,
                                        25,
                                        30,
                                        25,
                                        24,
                                        22,
                                        28,
                                        26,
                                        20,
                                        22,
                                        18,
                                        17,
                                        18,
                                        24,
                                        20,
                                        20,
                                        25,
                                        24,
                                        24,
                                        15,
                                        19,
                                        17,
                                        19,
                                        15,
                                        14,
                                        25,
                                        25,
                                        21,
                                        20,
                                        18,
                                        0,
                                        47,
                                        55,
                                        45,
                                        37,
                                        41,
                                        38,
                                        24,
                                        25,
                                        26
                                    ],
                                    "yaxis": "y"
                                },
                                {
                                    "hovertemplate": "Group=Rest of Class<br>Mass (g)=%{x}<br>Angle (degrees)=%{y}<extra></extra>",
                                    "legendgroup": "Rest of Class",
                                    "marker": {
                                        "color": "rgb(85,168,104)",
                                        "symbol": "circle"
                                    },
                                    "mode": "markers",
                                    "name": "Rest of Class",
                                    "orientation": "v",
                                    "showlegend": true,
                                    "type": "scatter",
                                    "x": [
                                        17.5,
                                        17.5,
                                        17.5,
                                        30.9,
                                        30.9,
                                        30.9,
                                        44.3,
                                        44.3,
                                        44.3,
                                        17.5,
                                        17.5,
                                        17.5,
                                        30.9,
                                        30.9,
                                        30.9,
                                        44.3,
                                        57.7,
                                        57.7,
                                        17.5,
                                        17.5,
                                        17.5,
                                        30.9,
                                        30.9,
                                        30.9,
                                        44.3,
                                        17.5,
                                        17.5,
                                        17.5,
                                        30.9,
                                        30.9,
                                        30.9,
                                        44.3,
                                        44.3,
                                        44.3,
                                        17.5,
                                        17.5,
                                        17.5,
                                        30.9,
                                        30.9,
                                        30.9,
                                        44.3,
                                        44.3,
                                        17.5,
                                        17.5,
                                        17.5,
                                        30.9,
                                        30.9,
                                        30.9,
                                        44.3,
                                        44.3,
                                        44.3,
                                        17.5,
                                        17.5,
                                        17.5,
                                        17.5,
                                        44.3,
                                        44.3,
                                        44.3,
                                        57.7,
                                        57.7,
                                        57.7,
                                        17.5,
                                        17.5,
                                        17.5,
                                        30.9,
                                        30.9,
                                        30.9,
                                        44.3,
                                        44.3,
                                        44.3,
                                        57.7,
                                        57.7,
                                        57.7,
                                        44.3,
                                        44.3,
                                        44.3,
                                        57.7,
                                        57.7,
                                        57.7,
                                        17.5,
                                        30.9,
                                        44.3,
                                        44.3,
                                        57.7,
                                        17.5,
                                        17.5,
                                        17.5,
                                        30.9,
                                        30.9,
                                        30.9,
                                        44.3,
                                        44.3,
                                        44.3,
                                        57.7,
                                        57.7,
                                        57.7,
                                        44.3,
                                        44.3,
                                        44.3,
                                        57.7,
                                        57.7,
                                        57.7,
                                        44.3,
                                        44.3,
                                        44.3,
                                        57.7,
                                        57.7,
                                        57.7,
                                        17.5,
                                        30.9,
                                        30.9,
                                        44.3,
                                        57.7,
                                        17.5,
                                        17.5,
                                        17.5,
                                        30.9,
                                        30.9,
                                        30.9,
                                        44.3,
                                        44.3,
                                        44.3,
                                        57.7,
                                        57.7,
                                        57.7,
                                        17.5,
                                        17.5,
                                        17.5,
                                        30.9,
                                        30.9,
                                        30.9,
                                        17.5,
                                        17.5,
                                        17.5,
                                        44.3,
                                        44.3,
                                        44.3,
                                        44.3,
                                        57.7,
                                        57.7,
                                        57.7,
                                        17.5,
                                        17.5,
                                        17.5,
                                        30.9,
                                        30.9,
                                        30.9,
                                        44.3,
                                        44.3,
                                        44.3,
                                        57.7,
                                        57.7,
                                        57.7,
                                        57.7,
                                        17.5,
                                        17.5,
                                        17.5,
                                        30.9,
                                        30.9,
                                        30.9,
                                        30.9,
                                        44.3,
                                        44.3,
                                        44.3,
                                        57.7,
                                        57.7,
                                        57.7,
                                        17.5,
                                        17.5,
                                        17.5,
                                        17.5,
                                        30.9,
                                        30.9,
                                        30.9,
                                        44.3,
                                        44.3,
                                        44.3,
                                        57.7,
                                        57.7,
                                        57.7,
                                        17.5,
                                        17.5,
                                        17.5,
                                        30.9,
                                        30.9,
                                        30.9,
                                        44.3,
                                        57.7,
                                        44.3,
                                        57.7,
                                        57.7,
                                        57.7,
                                        44.3,
                                        44.3,
                                        57.7,
                                        57.7,
                                        57.7,
                                        44.3,
                                        44.3,
                                        44.3,
                                        44.3,
                                        57.7,
                                        57.7,
                                        57.7,
                                        17.5,
                                        17.5,
                                        17.5,
                                        30.9,
                                        30.9,
                                        30.9,
                                        44.3,
                                        44.3,
                                        44.3,
                                        57.7,
                                        57.7,
                                        57.7,
                                        17.5,
                                        17.5,
                                        17.5,
                                        30.9,
                                        30.9,
                                        30.9,
                                        44.3,
                                        44.3,
                                        44.3,
                                        17.5,
                                        17.5,
                                        17.5,
                                        17.5,
                                        17.5,
                                        17.5,
                                        30.9,
                                        30.9,
                                        30.9,
                                        30.9,
                                        30.9,
                                        44.3,
                                        44.3,
                                        44.3,
                                        57.7,
                                        57.7,
                                        57.7,
                                        17.5,
                                        30.9,
                                        44.3,
                                        57.7,
                                        17.5,
                                        30.9,
                                        57.7
                                    ],
                                    "xaxis": "x",
                                    "y": [
                                        30,
                                        30,
                                        30,
                                        20,
                                        25,
                                        24,
                                        27,
                                        17.5,
                                        19,
                                        39,
                                        25,
                                        30,
                                        20,
                                        27,
                                        25,
                                        24,
                                        20,
                                        20,
                                        35,
                                        30,
                                        23,
                                        10,
                                        20,
                                        25,
                                        20,
                                        35,
                                        45,
                                        35,
                                        30,
                                        25,
                                        25,
                                        20,
                                        20,
                                        20,
                                        37,
                                        30,
                                        24,
                                        25,
                                        26,
                                        32,
                                        24,
                                        23,
                                        34,
                                        45,
                                        33,
                                        28,
                                        23,
                                        20,
                                        19,
                                        17,
                                        19,
                                        15,
                                        18,
                                        30,
                                        15,
                                        10,
                                        10,
                                        16,
                                        13,
                                        13,
                                        14,
                                        22.5,
                                        20,
                                        25,
                                        20,
                                        22.5,
                                        20,
                                        20,
                                        15,
                                        15,
                                        25,
                                        15,
                                        17.5,
                                        15,
                                        15,
                                        17.5,
                                        17.5,
                                        20,
                                        17.5,
                                        38,
                                        25,
                                        20,
                                        22,
                                        20,
                                        39,
                                        38,
                                        40,
                                        30,
                                        29,
                                        30,
                                        30,
                                        29,
                                        27,
                                        25,
                                        26,
                                        26,
                                        24,
                                        27,
                                        24,
                                        20,
                                        20,
                                        20,
                                        15,
                                        18,
                                        19,
                                        18,
                                        15,
                                        12,
                                        30,
                                        10,
                                        15,
                                        18,
                                        15,
                                        31,
                                        32,
                                        35,
                                        27,
                                        27,
                                        25,
                                        23,
                                        20,
                                        22,
                                        18,
                                        18,
                                        16,
                                        35,
                                        35,
                                        25,
                                        23,
                                        24,
                                        25,
                                        25,
                                        32,
                                        35,
                                        22,
                                        25,
                                        25,
                                        28,
                                        20,
                                        24,
                                        20,
                                        33,
                                        30,
                                        36,
                                        30,
                                        26,
                                        25,
                                        25,
                                        21,
                                        28,
                                        22,
                                        22,
                                        24,
                                        20,
                                        30,
                                        32,
                                        36,
                                        24,
                                        24,
                                        21,
                                        14,
                                        16,
                                        14,
                                        13,
                                        12,
                                        10,
                                        12,
                                        25,
                                        25,
                                        25,
                                        22,
                                        14,
                                        18,
                                        15,
                                        14,
                                        19,
                                        18,
                                        16,
                                        15,
                                        15,
                                        40,
                                        30,
                                        30,
                                        25,
                                        30,
                                        30,
                                        20,
                                        20,
                                        20,
                                        20,
                                        20,
                                        22,
                                        21,
                                        22,
                                        18,
                                        18,
                                        18,
                                        20,
                                        24,
                                        20,
                                        23,
                                        25,
                                        21,
                                        21,
                                        35,
                                        37,
                                        30,
                                        26,
                                        25,
                                        24,
                                        23,
                                        22,
                                        22,
                                        22,
                                        21,
                                        21,
                                        34,
                                        24,
                                        19,
                                        22,
                                        27,
                                        28,
                                        28,
                                        28,
                                        22,
                                        15,
                                        14,
                                        16,
                                        18,
                                        18,
                                        17,
                                        7,
                                        12,
                                        12,
                                        15,
                                        15,
                                        13,
                                        15,
                                        13,
                                        12,
                                        13,
                                        14,
                                        25,
                                        22,
                                        20,
                                        18,
                                        16,
                                        17,
                                        15
                                    ],
                                    "yaxis": "y"
                                }
                            ],
                            "layout": {
                                "height": 800,
                                "legend": {
                                    "title": {
                                        "text": "Group"
                                    },
                                    "tracegroupgap": 0
                                },
                                "template": {
                                    "data": {
                                        "bar": [
                                            {
                                                "error_x": {
                                                    "color": "rgb(36,36,36)"
                                                },
                                                "error_y": {
                                                    "color": "rgb(36,36,36)"
                                                },
                                                "marker": {
                                                    "line": {
                                                        "color": "rgb(234,234,242)",
                                                        "width": 0.5
                                                    },
                                                    "pattern": {
                                                        "fillmode": "overlay",
                                                        "size": 10,
                                                        "solidity": 0.2
                                                    }
                                                },
                                                "type": "bar"
                                            }
                                        ],
                                        "barpolar": [
                                            {
                                                "marker": {
                                                    "line": {
                                                        "color": "rgb(234,234,242)",
                                                        "width": 0.5
                                                    },
                                                    "pattern": {
                                                        "fillmode": "overlay",
                                                        "size": 10,
                                                        "solidity": 0.2
                                                    }
                                                },
                                                "type": "barpolar"
                                            }
                                        ],
                                        "carpet": [
                                            {
                                                "aaxis": {
                                                    "endlinecolor": "rgb(36,36,36)",
                                                    "gridcolor": "white",
                                                    "linecolor": "white",
                                                    "minorgridcolor": "white",
                                                    "startlinecolor": "rgb(36,36,36)"
                                                },
                                                "baxis": {
                                                    "endlinecolor": "rgb(36,36,36)",
                                                    "gridcolor": "white",
                                                    "linecolor": "white",
                                                    "minorgridcolor": "white",
                                                    "startlinecolor": "rgb(36,36,36)"
                                                },
                                                "type": "carpet"
                                            }
                                        ],
                                        "choropleth": [
                                            {
                                                "colorbar": {
                                                    "outlinewidth": 0,
                                                    "tickcolor": "rgb(36,36,36)",
                                                    "ticklen": 8,
                                                    "ticks": "outside",
                                                    "tickwidth": 2
                                                },
                                                "type": "choropleth"
                                            }
                                        ],
                                        "contour": [
                                            {
                                                "colorbar": {
                                                    "outlinewidth": 0,
                                                    "tickcolor": "rgb(36,36,36)",
                                                    "ticklen": 8,
                                                    "ticks": "outside",
                                                    "tickwidth": 2
                                                },
                                                "colorscale": [
                                                    [
                                                        0,
                                                        "rgb(2,4,25)"
                                                    ],
                                                    [
                                                        0.06274509803921569,
                                                        "rgb(24,15,41)"
                                                    ],
                                                    [
                                                        0.12549019607843137,
                                                        "rgb(47,23,57)"
                                                    ],
                                                    [
                                                        0.18823529411764706,
                                                        "rgb(71,28,72)"
                                                    ],
                                                    [
                                                        0.25098039215686274,
                                                        "rgb(97,30,82)"
                                                    ],
                                                    [
                                                        0.3137254901960784,
                                                        "rgb(123,30,89)"
                                                    ],
                                                    [
                                                        0.3764705882352941,
                                                        "rgb(150,27,91)"
                                                    ],
                                                    [
                                                        0.4392156862745098,
                                                        "rgb(177,22,88)"
                                                    ],
                                                    [
                                                        0.5019607843137255,
                                                        "rgb(203,26,79)"
                                                    ],
                                                    [
                                                        0.5647058823529412,
                                                        "rgb(223,47,67)"
                                                    ],
                                                    [
                                                        0.6274509803921569,
                                                        "rgb(236,76,61)"
                                                    ],
                                                    [
                                                        0.6901960784313725,
                                                        "rgb(242,107,73)"
                                                    ],
                                                    [
                                                        0.7529411764705882,
                                                        "rgb(244,135,95)"
                                                    ],
                                                    [
                                                        0.8156862745098039,
                                                        "rgb(245,162,122)"
                                                    ],
                                                    [
                                                        0.8784313725490196,
                                                        "rgb(246,188,153)"
                                                    ],
                                                    [
                                                        0.9411764705882353,
                                                        "rgb(247,212,187)"
                                                    ],
                                                    [
                                                        1,
                                                        "rgb(250,234,220)"
                                                    ]
                                                ],
                                                "type": "contour"
                                            }
                                        ],
                                        "contourcarpet": [
                                            {
                                                "colorbar": {
                                                    "outlinewidth": 0,
                                                    "tickcolor": "rgb(36,36,36)",
                                                    "ticklen": 8,
                                                    "ticks": "outside",
                                                    "tickwidth": 2
                                                },
                                                "type": "contourcarpet"
                                            }
                                        ],
                                        "heatmap": [
                                            {
                                                "colorbar": {
                                                    "outlinewidth": 0,
                                                    "tickcolor": "rgb(36,36,36)",
                                                    "ticklen": 8,
                                                    "ticks": "outside",
                                                    "tickwidth": 2
                                                },
                                                "colorscale": [
                                                    [
                                                        0,
                                                        "rgb(2,4,25)"
                                                    ],
                                                    [
                                                        0.06274509803921569,
                                                        "rgb(24,15,41)"
                                                    ],
                                                    [
                                                        0.12549019607843137,
                                                        "rgb(47,23,57)"
                                                    ],
                                                    [
                                                        0.18823529411764706,
                                                        "rgb(71,28,72)"
                                                    ],
                                                    [
                                                        0.25098039215686274,
                                                        "rgb(97,30,82)"
                                                    ],
                                                    [
                                                        0.3137254901960784,
                                                        "rgb(123,30,89)"
                                                    ],
                                                    [
                                                        0.3764705882352941,
                                                        "rgb(150,27,91)"
                                                    ],
                                                    [
                                                        0.4392156862745098,
                                                        "rgb(177,22,88)"
                                                    ],
                                                    [
                                                        0.5019607843137255,
                                                        "rgb(203,26,79)"
                                                    ],
                                                    [
                                                        0.5647058823529412,
                                                        "rgb(223,47,67)"
                                                    ],
                                                    [
                                                        0.6274509803921569,
                                                        "rgb(236,76,61)"
                                                    ],
                                                    [
                                                        0.6901960784313725,
                                                        "rgb(242,107,73)"
                                                    ],
                                                    [
                                                        0.7529411764705882,
                                                        "rgb(244,135,95)"
                                                    ],
                                                    [
                                                        0.8156862745098039,
                                                        "rgb(245,162,122)"
                                                    ],
                                                    [
                                                        0.8784313725490196,
                                                        "rgb(246,188,153)"
                                                    ],
                                                    [
                                                        0.9411764705882353,
                                                        "rgb(247,212,187)"
                                                    ],
                                                    [
                                                        1,
                                                        "rgb(250,234,220)"
                                                    ]
                                                ],
                                                "type": "heatmap"
                                            }
                                        ],
                                        "heatmapgl": [
                                            {
                                                "colorbar": {
                                                    "outlinewidth": 0,
                                                    "tickcolor": "rgb(36,36,36)",
                                                    "ticklen": 8,
                                                    "ticks": "outside",
                                                    "tickwidth": 2
                                                },
                                                "colorscale": [
                                                    [
                                                        0,
                                                        "rgb(2,4,25)"
                                                    ],
                                                    [
                                                        0.06274509803921569,
                                                        "rgb(24,15,41)"
                                                    ],
                                                    [
                                                        0.12549019607843137,
                                                        "rgb(47,23,57)"
                                                    ],
                                                    [
                                                        0.18823529411764706,
                                                        "rgb(71,28,72)"
                                                    ],
                                                    [
                                                        0.25098039215686274,
                                                        "rgb(97,30,82)"
                                                    ],
                                                    [
                                                        0.3137254901960784,
                                                        "rgb(123,30,89)"
                                                    ],
                                                    [
                                                        0.3764705882352941,
                                                        "rgb(150,27,91)"
                                                    ],
                                                    [
                                                        0.4392156862745098,
                                                        "rgb(177,22,88)"
                                                    ],
                                                    [
                                                        0.5019607843137255,
                                                        "rgb(203,26,79)"
                                                    ],
                                                    [
                                                        0.5647058823529412,
                                                        "rgb(223,47,67)"
                                                    ],
                                                    [
                                                        0.6274509803921569,
                                                        "rgb(236,76,61)"
                                                    ],
                                                    [
                                                        0.6901960784313725,
                                                        "rgb(242,107,73)"
                                                    ],
                                                    [
                                                        0.7529411764705882,
                                                        "rgb(244,135,95)"
                                                    ],
                                                    [
                                                        0.8156862745098039,
                                                        "rgb(245,162,122)"
                                                    ],
                                                    [
                                                        0.8784313725490196,
                                                        "rgb(246,188,153)"
                                                    ],
                                                    [
                                                        0.9411764705882353,
                                                        "rgb(247,212,187)"
                                                    ],
                                                    [
                                                        1,
                                                        "rgb(250,234,220)"
                                                    ]
                                                ],
                                                "type": "heatmapgl"
                                            }
                                        ],
                                        "histogram": [
                                            {
                                                "marker": {
                                                    "pattern": {
                                                        "fillmode": "overlay",
                                                        "size": 10,
                                                        "solidity": 0.2
                                                    }
                                                },
                                                "type": "histogram"
                                            }
                                        ],
                                        "histogram2d": [
                                            {
                                                "colorbar": {
                                                    "outlinewidth": 0,
                                                    "tickcolor": "rgb(36,36,36)",
                                                    "ticklen": 8,
                                                    "ticks": "outside",
                                                    "tickwidth": 2
                                                },
                                                "colorscale": [
                                                    [
                                                        0,
                                                        "rgb(2,4,25)"
                                                    ],
                                                    [
                                                        0.06274509803921569,
                                                        "rgb(24,15,41)"
                                                    ],
                                                    [
                                                        0.12549019607843137,
                                                        "rgb(47,23,57)"
                                                    ],
                                                    [
                                                        0.18823529411764706,
                                                        "rgb(71,28,72)"
                                                    ],
                                                    [
                                                        0.25098039215686274,
                                                        "rgb(97,30,82)"
                                                    ],
                                                    [
                                                        0.3137254901960784,
                                                        "rgb(123,30,89)"
                                                    ],
                                                    [
                                                        0.3764705882352941,
                                                        "rgb(150,27,91)"
                                                    ],
                                                    [
                                                        0.4392156862745098,
                                                        "rgb(177,22,88)"
                                                    ],
                                                    [
                                                        0.5019607843137255,
                                                        "rgb(203,26,79)"
                                                    ],
                                                    [
                                                        0.5647058823529412,
                                                        "rgb(223,47,67)"
                                                    ],
                                                    [
                                                        0.6274509803921569,
                                                        "rgb(236,76,61)"
                                                    ],
                                                    [
                                                        0.6901960784313725,
                                                        "rgb(242,107,73)"
                                                    ],
                                                    [
                                                        0.7529411764705882,
                                                        "rgb(244,135,95)"
                                                    ],
                                                    [
                                                        0.8156862745098039,
                                                        "rgb(245,162,122)"
                                                    ],
                                                    [
                                                        0.8784313725490196,
                                                        "rgb(246,188,153)"
                                                    ],
                                                    [
                                                        0.9411764705882353,
                                                        "rgb(247,212,187)"
                                                    ],
                                                    [
                                                        1,
                                                        "rgb(250,234,220)"
                                                    ]
                                                ],
                                                "type": "histogram2d"
                                            }
                                        ],
                                        "histogram2dcontour": [
                                            {
                                                "colorbar": {
                                                    "outlinewidth": 0,
                                                    "tickcolor": "rgb(36,36,36)",
                                                    "ticklen": 8,
                                                    "ticks": "outside",
                                                    "tickwidth": 2
                                                },
                                                "colorscale": [
                                                    [
                                                        0,
                                                        "rgb(2,4,25)"
                                                    ],
                                                    [
                                                        0.06274509803921569,
                                                        "rgb(24,15,41)"
                                                    ],
                                                    [
                                                        0.12549019607843137,
                                                        "rgb(47,23,57)"
                                                    ],
                                                    [
                                                        0.18823529411764706,
                                                        "rgb(71,28,72)"
                                                    ],
                                                    [
                                                        0.25098039215686274,
                                                        "rgb(97,30,82)"
                                                    ],
                                                    [
                                                        0.3137254901960784,
                                                        "rgb(123,30,89)"
                                                    ],
                                                    [
                                                        0.3764705882352941,
                                                        "rgb(150,27,91)"
                                                    ],
                                                    [
                                                        0.4392156862745098,
                                                        "rgb(177,22,88)"
                                                    ],
                                                    [
                                                        0.5019607843137255,
                                                        "rgb(203,26,79)"
                                                    ],
                                                    [
                                                        0.5647058823529412,
                                                        "rgb(223,47,67)"
                                                    ],
                                                    [
                                                        0.6274509803921569,
                                                        "rgb(236,76,61)"
                                                    ],
                                                    [
                                                        0.6901960784313725,
                                                        "rgb(242,107,73)"
                                                    ],
                                                    [
                                                        0.7529411764705882,
                                                        "rgb(244,135,95)"
                                                    ],
                                                    [
                                                        0.8156862745098039,
                                                        "rgb(245,162,122)"
                                                    ],
                                                    [
                                                        0.8784313725490196,
                                                        "rgb(246,188,153)"
                                                    ],
                                                    [
                                                        0.9411764705882353,
                                                        "rgb(247,212,187)"
                                                    ],
                                                    [
                                                        1,
                                                        "rgb(250,234,220)"
                                                    ]
                                                ],
                                                "type": "histogram2dcontour"
                                            }
                                        ],
                                        "mesh3d": [
                                            {
                                                "colorbar": {
                                                    "outlinewidth": 0,
                                                    "tickcolor": "rgb(36,36,36)",
                                                    "ticklen": 8,
                                                    "ticks": "outside",
                                                    "tickwidth": 2
                                                },
                                                "type": "mesh3d"
                                            }
                                        ],
                                        "parcoords": [
                                            {
                                                "line": {
                                                    "colorbar": {
                                                        "outlinewidth": 0,
                                                        "tickcolor": "rgb(36,36,36)",
                                                        "ticklen": 8,
                                                        "ticks": "outside",
                                                        "tickwidth": 2
                                                    }
                                                },
                                                "type": "parcoords"
                                            }
                                        ],
                                        "pie": [
                                            {
                                                "automargin": true,
                                                "type": "pie"
                                            }
                                        ],
                                        "scatter": [
                                            {
                                                "fillpattern": {
                                                    "fillmode": "overlay",
                                                    "size": 10,
                                                    "solidity": 0.2
                                                },
                                                "type": "scatter"
                                            }
                                        ],
                                        "scatter3d": [
                                            {
                                                "line": {
                                                    "colorbar": {
                                                        "outlinewidth": 0,
                                                        "tickcolor": "rgb(36,36,36)",
                                                        "ticklen": 8,
                                                        "ticks": "outside",
                                                        "tickwidth": 2
                                                    }
                                                },
                                                "marker": {
                                                    "colorbar": {
                                                        "outlinewidth": 0,
                                                        "tickcolor": "rgb(36,36,36)",
                                                        "ticklen": 8,
                                                        "ticks": "outside",
                                                        "tickwidth": 2
                                                    }
                                                },
                                                "type": "scatter3d"
                                            }
                                        ],
                                        "scattercarpet": [
                                            {
                                                "marker": {
                                                    "colorbar": {
                                                        "outlinewidth": 0,
                                                        "tickcolor": "rgb(36,36,36)",
                                                        "ticklen": 8,
                                                        "ticks": "outside",
                                                        "tickwidth": 2
                                                    }
                                                },
                                                "type": "scattercarpet"
                                            }
                                        ],
                                        "scattergeo": [
                                            {
                                                "marker": {
                                                    "colorbar": {
                                                        "outlinewidth": 0,
                                                        "tickcolor": "rgb(36,36,36)",
                                                        "ticklen": 8,
                                                        "ticks": "outside",
                                                        "tickwidth": 2
                                                    }
                                                },
                                                "type": "scattergeo"
                                            }
                                        ],
                                        "scattergl": [
                                            {
                                                "marker": {
                                                    "colorbar": {
                                                        "outlinewidth": 0,
                                                        "tickcolor": "rgb(36,36,36)",
                                                        "ticklen": 8,
                                                        "ticks": "outside",
                                                        "tickwidth": 2
                                                    }
                                                },
                                                "type": "scattergl"
                                            }
                                        ],
                                        "scattermapbox": [
                                            {
                                                "marker": {
                                                    "colorbar": {
                                                        "outlinewidth": 0,
                                                        "tickcolor": "rgb(36,36,36)",
                                                        "ticklen": 8,
                                                        "ticks": "outside",
                                                        "tickwidth": 2
                                                    }
                                                },
                                                "type": "scattermapbox"
                                            }
                                        ],
                                        "scatterpolar": [
                                            {
                                                "marker": {
                                                    "colorbar": {
                                                        "outlinewidth": 0,
                                                        "tickcolor": "rgb(36,36,36)",
                                                        "ticklen": 8,
                                                        "ticks": "outside",
                                                        "tickwidth": 2
                                                    }
                                                },
                                                "type": "scatterpolar"
                                            }
                                        ],
                                        "scatterpolargl": [
                                            {
                                                "marker": {
                                                    "colorbar": {
                                                        "outlinewidth": 0,
                                                        "tickcolor": "rgb(36,36,36)",
                                                        "ticklen": 8,
                                                        "ticks": "outside",
                                                        "tickwidth": 2
                                                    }
                                                },
                                                "type": "scatterpolargl"
                                            }
                                        ],
                                        "scatterternary": [
                                            {
                                                "marker": {
                                                    "colorbar": {
                                                        "outlinewidth": 0,
                                                        "tickcolor": "rgb(36,36,36)",
                                                        "ticklen": 8,
                                                        "ticks": "outside",
                                                        "tickwidth": 2
                                                    }
                                                },
                                                "type": "scatterternary"
                                            }
                                        ],
                                        "surface": [
                                            {
                                                "colorbar": {
                                                    "outlinewidth": 0,
                                                    "tickcolor": "rgb(36,36,36)",
                                                    "ticklen": 8,
                                                    "ticks": "outside",
                                                    "tickwidth": 2
                                                },
                                                "colorscale": [
                                                    [
                                                        0,
                                                        "rgb(2,4,25)"
                                                    ],
                                                    [
                                                        0.06274509803921569,
                                                        "rgb(24,15,41)"
                                                    ],
                                                    [
                                                        0.12549019607843137,
                                                        "rgb(47,23,57)"
                                                    ],
                                                    [
                                                        0.18823529411764706,
                                                        "rgb(71,28,72)"
                                                    ],
                                                    [
                                                        0.25098039215686274,
                                                        "rgb(97,30,82)"
                                                    ],
                                                    [
                                                        0.3137254901960784,
                                                        "rgb(123,30,89)"
                                                    ],
                                                    [
                                                        0.3764705882352941,
                                                        "rgb(150,27,91)"
                                                    ],
                                                    [
                                                        0.4392156862745098,
                                                        "rgb(177,22,88)"
                                                    ],
                                                    [
                                                        0.5019607843137255,
                                                        "rgb(203,26,79)"
                                                    ],
                                                    [
                                                        0.5647058823529412,
                                                        "rgb(223,47,67)"
                                                    ],
                                                    [
                                                        0.6274509803921569,
                                                        "rgb(236,76,61)"
                                                    ],
                                                    [
                                                        0.6901960784313725,
                                                        "rgb(242,107,73)"
                                                    ],
                                                    [
                                                        0.7529411764705882,
                                                        "rgb(244,135,95)"
                                                    ],
                                                    [
                                                        0.8156862745098039,
                                                        "rgb(245,162,122)"
                                                    ],
                                                    [
                                                        0.8784313725490196,
                                                        "rgb(246,188,153)"
                                                    ],
                                                    [
                                                        0.9411764705882353,
                                                        "rgb(247,212,187)"
                                                    ],
                                                    [
                                                        1,
                                                        "rgb(250,234,220)"
                                                    ]
                                                ],
                                                "type": "surface"
                                            }
                                        ],
                                        "table": [
                                            {
                                                "cells": {
                                                    "fill": {
                                                        "color": "rgb(231,231,240)"
                                                    },
                                                    "line": {
                                                        "color": "white"
                                                    }
                                                },
                                                "header": {
                                                    "fill": {
                                                        "color": "rgb(183,183,191)"
                                                    },
                                                    "line": {
                                                        "color": "white"
                                                    }
                                                },
                                                "type": "table"
                                            }
                                        ]
                                    },
                                    "layout": {
                                        "annotationdefaults": {
                                            "arrowcolor": "rgb(67,103,167)"
                                        },
                                        "autotypenumbers": "strict",
                                        "coloraxis": {
                                            "colorbar": {
                                                "outlinewidth": 0,
                                                "tickcolor": "rgb(36,36,36)",
                                                "ticklen": 8,
                                                "ticks": "outside",
                                                "tickwidth": 2
                                            }
                                        },
                                        "colorscale": {
                                            "sequential": [
                                                [
                                                    0,
                                                    "rgb(2,4,25)"
                                                ],
                                                [
                                                    0.06274509803921569,
                                                    "rgb(24,15,41)"
                                                ],
                                                [
                                                    0.12549019607843137,
                                                    "rgb(47,23,57)"
                                                ],
                                                [
                                                    0.18823529411764706,
                                                    "rgb(71,28,72)"
                                                ],
                                                [
                                                    0.25098039215686274,
                                                    "rgb(97,30,82)"
                                                ],
                                                [
                                                    0.3137254901960784,
                                                    "rgb(123,30,89)"
                                                ],
                                                [
                                                    0.3764705882352941,
                                                    "rgb(150,27,91)"
                                                ],
                                                [
                                                    0.4392156862745098,
                                                    "rgb(177,22,88)"
                                                ],
                                                [
                                                    0.5019607843137255,
                                                    "rgb(203,26,79)"
                                                ],
                                                [
                                                    0.5647058823529412,
                                                    "rgb(223,47,67)"
                                                ],
                                                [
                                                    0.6274509803921569,
                                                    "rgb(236,76,61)"
                                                ],
                                                [
                                                    0.6901960784313725,
                                                    "rgb(242,107,73)"
                                                ],
                                                [
                                                    0.7529411764705882,
                                                    "rgb(244,135,95)"
                                                ],
                                                [
                                                    0.8156862745098039,
                                                    "rgb(245,162,122)"
                                                ],
                                                [
                                                    0.8784313725490196,
                                                    "rgb(246,188,153)"
                                                ],
                                                [
                                                    0.9411764705882353,
                                                    "rgb(247,212,187)"
                                                ],
                                                [
                                                    1,
                                                    "rgb(250,234,220)"
                                                ]
                                            ],
                                            "sequentialminus": [
                                                [
                                                    0,
                                                    "rgb(2,4,25)"
                                                ],
                                                [
                                                    0.06274509803921569,
                                                    "rgb(24,15,41)"
                                                ],
                                                [
                                                    0.12549019607843137,
                                                    "rgb(47,23,57)"
                                                ],
                                                [
                                                    0.18823529411764706,
                                                    "rgb(71,28,72)"
                                                ],
                                                [
                                                    0.25098039215686274,
                                                    "rgb(97,30,82)"
                                                ],
                                                [
                                                    0.3137254901960784,
                                                    "rgb(123,30,89)"
                                                ],
                                                [
                                                    0.3764705882352941,
                                                    "rgb(150,27,91)"
                                                ],
                                                [
                                                    0.4392156862745098,
                                                    "rgb(177,22,88)"
                                                ],
                                                [
                                                    0.5019607843137255,
                                                    "rgb(203,26,79)"
                                                ],
                                                [
                                                    0.5647058823529412,
                                                    "rgb(223,47,67)"
                                                ],
                                                [
                                                    0.6274509803921569,
                                                    "rgb(236,76,61)"
                                                ],
                                                [
                                                    0.6901960784313725,
                                                    "rgb(242,107,73)"
                                                ],
                                                [
                                                    0.7529411764705882,
                                                    "rgb(244,135,95)"
                                                ],
                                                [
                                                    0.8156862745098039,
                                                    "rgb(245,162,122)"
                                                ],
                                                [
                                                    0.8784313725490196,
                                                    "rgb(246,188,153)"
                                                ],
                                                [
                                                    0.9411764705882353,
                                                    "rgb(247,212,187)"
                                                ],
                                                [
                                                    1,
                                                    "rgb(250,234,220)"
                                                ]
                                            ]
                                        },
                                        "colorway": [
                                            "rgb(76,114,176)",
                                            "rgb(221,132,82)",
                                            "rgb(85,168,104)",
                                            "rgb(196,78,82)",
                                            "rgb(129,114,179)",
                                            "rgb(147,120,96)",
                                            "rgb(218,139,195)",
                                            "rgb(140,140,140)",
                                            "rgb(204,185,116)",
                                            "rgb(100,181,205)"
                                        ],
                                        "font": {
                                            "color": "rgb(36,36,36)"
                                        },
                                        "geo": {
                                            "bgcolor": "white",
                                            "lakecolor": "white",
                                            "landcolor": "rgb(234,234,242)",
                                            "showlakes": true,
                                            "showland": true,
                                            "subunitcolor": "white"
                                        },
                                        "hoverlabel": {
                                            "align": "left"
                                        },
                                        "hovermode": "closest",
                                        "paper_bgcolor": "white",
                                        "plot_bgcolor": "rgb(234,234,242)",
                                        "polar": {
                                            "angularaxis": {
                                                "gridcolor": "white",
                                                "linecolor": "white",
                                                "showgrid": true,
                                                "ticks": ""
                                            },
                                            "bgcolor": "rgb(234,234,242)",
                                            "radialaxis": {
                                                "gridcolor": "white",
                                                "linecolor": "white",
                                                "showgrid": true,
                                                "ticks": ""
                                            }
                                        },
                                        "scene": {
                                            "xaxis": {
                                                "backgroundcolor": "rgb(234,234,242)",
                                                "gridcolor": "white",
                                                "gridwidth": 2,
                                                "linecolor": "white",
                                                "showbackground": true,
                                                "showgrid": true,
                                                "ticks": "",
                                                "zerolinecolor": "white"
                                            },
                                            "yaxis": {
                                                "backgroundcolor": "rgb(234,234,242)",
                                                "gridcolor": "white",
                                                "gridwidth": 2,
                                                "linecolor": "white",
                                                "showbackground": true,
                                                "showgrid": true,
                                                "ticks": "",
                                                "zerolinecolor": "white"
                                            },
                                            "zaxis": {
                                                "backgroundcolor": "rgb(234,234,242)",
                                                "gridcolor": "white",
                                                "gridwidth": 2,
                                                "linecolor": "white",
                                                "showbackground": true,
                                                "showgrid": true,
                                                "ticks": "",
                                                "zerolinecolor": "white"
                                            }
                                        },
                                        "shapedefaults": {
                                            "fillcolor": "rgb(67,103,167)",
                                            "line": {
                                                "width": 0
                                            },
                                            "opacity": 0.5
                                        },
                                        "ternary": {
                                            "aaxis": {
                                                "gridcolor": "white",
                                                "linecolor": "white",
                                                "showgrid": true,
                                                "ticks": ""
                                            },
                                            "baxis": {
                                                "gridcolor": "white",
                                                "linecolor": "white",
                                                "showgrid": true,
                                                "ticks": ""
                                            },
                                            "bgcolor": "rgb(234,234,242)",
                                            "caxis": {
                                                "gridcolor": "white",
                                                "linecolor": "white",
                                                "showgrid": true,
                                                "ticks": ""
                                            }
                                        },
                                        "xaxis": {
                                            "automargin": true,
                                            "gridcolor": "white",
                                            "linecolor": "white",
                                            "showgrid": true,
                                            "ticks": "",
                                            "title": {
                                                "standoff": 15
                                            },
                                            "zerolinecolor": "white"
                                        },
                                        "yaxis": {
                                            "automargin": true,
                                            "gridcolor": "white",
                                            "linecolor": "white",
                                            "showgrid": true,
                                            "ticks": "",
                                            "title": {
                                                "standoff": 15
                                            },
                                            "zerolinecolor": "white"
                                        }
                                    }
                                },
                                "title": {
                                    "text": "Mass (g) vs Angle (degrees)"
                                },
                                "width": 800,
                                "xaxis": {
                                    "anchor": "y",
                                    "domain": [
                                        0,
                                        1
                                    ],
                                    "title": {
                                        "text": "Mass (g)"
                                    }
                                },
                                "yaxis": {
                                    "anchor": "x",
                                    "domain": [
                                        0,
                                        1
                                    ],
                                    "title": {
                                        "text": "Angle (degrees)"
                                    }
                                }
                            }
                        }
                    },
                    "metadata": {},
                    "output_type": "display_data"
                }
            ],
            "source": [
                "plot_data(class_data)"
            ]
        },
        {
            "cell_type": "markdown",
            "id": "d145be48",
            "metadata": {},
            "source": [
                "\n",
                "<hr style=\"border: 2px solid #003262\">\n",
                "<hr style=\"border: 2px solid #C9B676\">"
            ]
        },
        {
            "attachments": {},
            "cell_type": "markdown",
            "id": "c53ec45a",
            "metadata": {},
            "source": [
                "## Discussion<a id='discussion'></a>\n",
                "> Here are a few questions to get you thinking about this lab:\n",
                "\n",
                "- What patterns do you see in the visualization above?\n",
                "- Do you notice adding color by any variable leads to informative information?\n",
                "- Does the individual section data differ from the class data as a whole?\n",
                "- What do you conclude about the nature of the Gecko-inspired Synthetic Adhesive?\n",
                "- What features of the graph support the hypothesis that it is a “frictional adhesive”?\n",
                "- What is the adhesive’s maximum adhesive performance in Newtons?  In atmospheres (i.e. force/area)?  You’ll need to measure the area of the adhesive, and use the fact that 1 N/cm2 ≈ 0.1 atm.\n",
                "\n",
                "***(please reference section on “To analyze your gecko-inspired adhesive, you will:” in Gecko Lab Assignment)***"
            ]
        },
        {
            "cell_type": "markdown",
            "id": "c75df043",
            "metadata": {},
            "source": [
                "<hr style=\"border: 2px solid\">\n",
                "<hr style=\"border: 2px solid\">"
            ]
        },
        {
            "attachments": {},
            "cell_type": "markdown",
            "id": "d8d9e8e7",
            "metadata": {},
            "source": [
                "## Conclusion\n",
                "\n",
                "Congratulations on finishing this Jupyter notebook!\n",
                "\n",
                "If you are interested in data science, a great course to start with is Data 8, designed for students with no previous programming or statistics experience. For the full list of courses and degree programs we offer, click <a href=\"https://data.berkeley.edu/academics/data-science-undergraduate-studies/data-science-academic-enrichment\">here</a>."
            ]
        },
        {
            "cell_type": "markdown",
            "id": "468b2c81",
            "metadata": {},
            "source": [
                "\n",
                "<hr style=\"border: 2px solid #003262\">\n",
                "<hr style=\"border: 2px solid #C9B676\">"
            ]
        },
        {
            "attachments": {},
            "cell_type": "markdown",
            "id": "a600999f",
            "metadata": {},
            "source": [
                "## A Final Request: Feedback Form"
            ]
        },
        {
            "attachments": {},
            "cell_type": "markdown",
            "id": "2c6dc78e",
            "metadata": {},
            "source": [
                "<div class=\"alert alert-block alert-info\">\n",
                "    <p style=\"font-size:20px\">We encourage students to fill out the following feedback form to share your experience with this Module created notebook. This feedback form will take no longer than 5 minutes. At UC Berkeley Data Science Undergraduate Studies – Modules, we appreciate all feedback to improve the learning of students and experience utilizing Jupyter Notebooks for Data Science Education. You can fill out the survey by running the cell below and clicking the button that appears. Thank you in advance for your time!\n",
                "</div>"
            ]
        },
        {
            "cell_type": "code",
            "execution_count": null,
            "id": "6e064fc0",
            "metadata": {},
            "outputs": [],
            "source": [
                "feedback_button()"
            ]
        }
    ],
    "metadata": {
        "kernelspec": {
            "display_name": "Python 3",
            "language": "python",
            "name": "python3"
        },
        "language_info": {
            "codemirror_mode": {
                "name": "ipython",
                "version": 3
            },
            "file_extension": ".py",
            "mimetype": "text/x-python",
            "name": "python",
            "nbconvert_exporter": "python",
            "pygments_lexer": "ipython3",
            "version": "3.10.1"
        },
        "toc": {
            "base_numbering": 1,
            "nav_menu": {},
            "number_sections": false,
            "sideBar": true,
            "skip_h1_title": true,
            "title_cell": "Table of Contents",
            "title_sidebar": "Contents",
            "toc_cell": true,
            "toc_position": {},
            "toc_section_display": true,
            "toc_window_display": false
        },
        "vscode": {
            "interpreter": {
                "hash": "aee8b7b246df8f9039afb4144a1f6fd8d2ca17a180786b69acc140d282b71a49"
            }
        }
    },
    "nbformat": 4,
    "nbformat_minor": 5
}
