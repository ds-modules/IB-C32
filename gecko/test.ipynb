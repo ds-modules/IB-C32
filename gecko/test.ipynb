{
 "cells": [
  {
   "attachments": {},
   "cell_type": "markdown",
   "metadata": {},
   "source": [
    "# Imports"
   ]
  },
  {
   "cell_type": "code",
   "execution_count": 33,
   "metadata": {},
   "outputs": [],
   "source": [
    "from datascience import *\n",
    "from IPython.display import *\n",
    "from ipywidgets import *\n",
    "import pandas as pd\n",
    "import numpy as np\n",
    "import plotly.express as px;\n",
    "import scipy.constants as constant \n",
    "import math\n",
    "from ipywidgets import *\n",
    "import re\n",
    "import json\n",
    "import dataframe_image as dfi\n",
    "from typing import *"
   ]
  },
  {
   "attachments": {},
   "cell_type": "markdown",
   "metadata": {},
   "source": [
    "# General Utilities"
   ]
  },
  {
   "cell_type": "code",
   "execution_count": 55,
   "metadata": {},
   "outputs": [],
   "source": [
    "# Dict reader\n",
    "def read(fp: str, full_fp: bool = False) -> dict:\n",
    "    \"\"\"\n",
    "    ### Creates a dictionary of the given JSON file\n",
    "\n",
    "    Parameters\n",
    "    ----------\n",
    "    fp : `str`\n",
    "        The file path of the JSON file\n",
    "        such that file is named `data/json/<fp>.json`\n",
    "\n",
    "    full_fp : `bool`\n",
    "        Whether the filepath is the full filepath or not\n",
    "\n",
    "    Returns\n",
    "    -------\n",
    "    `dict`\n",
    "        A dictionary of the JSON file\n",
    "\n",
    "    Examples\n",
    "    --------\n",
    "    >>> read(\"example.json\")\n",
    "    {'a': 1, 'b': 2, 'c': 3}\n",
    "    \"\"\"\n",
    "    if not full_fp:\n",
    "        fp = f\"{fp}.json\"\n",
    "    return json.load(open(fp, \"r\"))\n",
    "\n",
    "def show(*args, tags = []):\n",
    "    \"\"\"Pretty Display\"\"\"\n",
    "    assert (tags == []) or (type(tags[0]) == str), \"tags must contain strings\"\n",
    "    for i in args:\n",
    "        if type(i) != str:\n",
    "            i = str(i)\n",
    "        for tag in tags:\n",
    "            i = f\"<{tag}>{i}</{tag}>\"\n",
    "        display(Markdown(i))"
   ]
  },
  {
   "attachments": {},
   "cell_type": "markdown",
   "metadata": {},
   "source": [
    "# Get and Clean the Data"
   ]
  },
  {
   "cell_type": "code",
   "execution_count": 60,
   "metadata": {},
   "outputs": [
    {
     "data": {
      "text/markdown": [
       "<h2>Select a team to get data for.</h2>"
      ],
      "text/plain": [
       "<IPython.core.display.Markdown object>"
      ]
     },
     "metadata": {},
     "output_type": "display_data"
    },
    {
     "data": {
      "text/markdown": [
       "<h3>You can also use the arrow keys to change the team number, or simply type it into the box.</h3>"
      ],
      "text/plain": [
       "<IPython.core.display.Markdown object>"
      ]
     },
     "metadata": {},
     "output_type": "display_data"
    },
    {
     "data": {
      "text/markdown": [
       "<blockquote><h3>Note: If typing your team number, click out of the 'Team:' box once you are done</h3></blockquote>"
      ],
      "text/plain": [
       "<IPython.core.display.Markdown object>"
      ]
     },
     "metadata": {},
     "output_type": "display_data"
    },
    {
     "data": {
      "application/vnd.jupyter.widget-view+json": {
       "model_id": "78258a9bb83c414c949504d399088599",
       "version_major": 2,
       "version_minor": 0
      },
      "text/plain": [
       "interactive(children=(BoundedIntText(value=1, description='Team:', max=35, min=1), Output()), _dom_classes=('w…"
      ]
     },
     "metadata": {},
     "output_type": "display_data"
    }
   ],
   "source": [
    "def get_data() -> pd.DataFrame:\n",
    "    \"\"\"\n",
    "    Get data from the Google Sheet and add the section column.\n",
    "    \n",
    "    Parameters\n",
    "    ----------\n",
    "    \n",
    "    None\n",
    "    \n",
    "    Returns\n",
    "    -------\n",
    "    pd.DataFrame\n",
    "        Data from the database with the section column.\n",
    "    \"\"\"\n",
    "    df = fetch_data()\n",
    "    df = add_section_column(df)\n",
    "    df = rename_columns(df)\n",
    "    return df\n",
    "\n",
    "def fetch_data() -> pd.DataFrame:\n",
    "    \"\"\"\n",
    "    Fetches data via google sheets from a fixed url.\n",
    "    \n",
    "    Parameters\n",
    "    ----------\n",
    "    \n",
    "    None\n",
    "    \n",
    "    Returns\n",
    "    -------\n",
    "    \n",
    "    data : pd.DataFrame\n",
    "        The data from the google sheet\n",
    "    \"\"\"\n",
    "    url = \"https://docs.google.com/spreadsheets/d/1RH96Rjr_bC5bcpd3DqY5shsuEMtxlk4NN39pUYrGeNA/edit#gid=0\"\n",
    "    csv_url = re.sub(\"/edit#gid=\", \"/export?format=csv&gid=\", url)\n",
    "    data = pd.read_csv(csv_url)\n",
    "    return data\n",
    "\n",
    "def add_section_column(data : pd.DataFrame) -> pd.DataFrame:\n",
    "    \"\"\"\n",
    "    Adds a column to the data that contains the section number.\n",
    "    \n",
    "    Parameters\n",
    "    ----------\n",
    "    \n",
    "    data : pd.DataFrame\n",
    "        The data from the google sheet\n",
    "    \n",
    "    Returns\n",
    "    -------\n",
    "    \n",
    "    data : pd.DataFrame\n",
    "        The data with the section column added and columns reordered.\n",
    "    \"\"\"\n",
    "    section_dict = read(\"teams\")\n",
    "    section_from_team = lambda team: section_dict[str(team)]\n",
    "    data[\"Section\"] = data[\"Team\"].apply(section_from_team)\n",
    "    data = data[[\"Team\", \"Section\", \"Mass\", \"Angle\", \"ShearForce\", \"AdhesiveForce\"]]\n",
    "    return data\n",
    "\n",
    "def rename_columns(data : pd.DataFrame) -> pd.DataFrame:\n",
    "    \"\"\"\n",
    "    Renames the columns of the data to be more readable.\n",
    "    \n",
    "    Parameters\n",
    "    ----------\n",
    "    \n",
    "    data : pd.DataFrame\n",
    "        The data from the google sheet\n",
    "    \n",
    "    Returns\n",
    "    -------\n",
    "    \n",
    "    data : pd.DataFrame\n",
    "        The data with the columns renamed.\n",
    "    \"\"\"\n",
    "    data = data.rename(columns={\"Mass\": \"Mass (g)\", \"Angle\": \"Angle (degrees)\", \"ShearForce\": \"Shear Force (N)\", \"AdhesiveForce\": \"Adhesive Force (N)\"})\n",
    "    return data\n",
    "\n",
    "def section_from_team(team : int) -> int:\n",
    "    \"\"\" \n",
    "    Gets the section number for a given team.\n",
    "    \n",
    "    Parameters\n",
    "    ----------\n",
    "    \n",
    "    team : int\n",
    "        The team number to get the section for.\n",
    "    \n",
    "    Returns\n",
    "    -------\n",
    "    \n",
    "    int : The section number for the given team.\n",
    "    \n",
    "    \"\"\"\n",
    "    sections = read(\"teams\")\n",
    "    return sections[str(team)]\n",
    "\n",
    "def get_data_for_team(team : int) -> pd.DataFrame:\n",
    "    \"\"\"\n",
    "    Gets data for a specific team.\n",
    "    \n",
    "    Parameters\n",
    "    ----------\n",
    "    \n",
    "    team : int\n",
    "        The team number to get data for.\n",
    "    \n",
    "    Returns\n",
    "    -------\n",
    "    \n",
    "    team_data : pd.DataFrame\n",
    "        The data for the given team.\n",
    "    \"\"\"\n",
    "    team = team\n",
    "    section = section_from_team(team)\n",
    "    data = get_data()\n",
    "    team_data = data[data[\"Team\"] == team]\n",
    "    return team_data\n",
    "\n",
    "def select_team():\n",
    "    \"\"\"\n",
    "    Use this function to select a team and get the data for that team.\n",
    "    Utilizes the interact function from ipywidgets.\n",
    "    \n",
    "    Parameters\n",
    "    ----------\n",
    "    \n",
    "    None\n",
    "    \n",
    "    Returns\n",
    "    -------\n",
    "    \n",
    "    pd.DataFrame : The data filtered for the selected team.\n",
    "    \n",
    "    \"\"\"\n",
    "    show(\"Select a team to get data for.\", tags=[\"h2\"])\n",
    "    show(\"You can also use the arrow keys to change the team number, or simply type it into the box.\", tags=[\"h3\"])\n",
    "    show(\"Note: If typing your team number, click out of the 'Team:' box once you are done\", tags=[\"h3\", \"blockquote\"])\n",
    "    w = (interact(get_data_for_team, team=BoundedIntText(value=1, min=1, max=35, step=1, description=\"Team:\")))\n",
    "    return w.widget.result\n",
    "\n",
    "def get_info(df : pd.DataFrame) -> Tuple[int, int]:\n",
    "    \"\"\"\n",
    "    Retrieves the team and section number from the data.\n",
    "    \n",
    "    Parameters\n",
    "    ----------\n",
    "    \n",
    "    df : pd.DataFrame\n",
    "        The data for a spcecific team.\n",
    "    \n",
    "    Returns\n",
    "    -------\n",
    "    \n",
    "    tuple : A tuple containing the team number and section number.\n",
    "    \"\"\"\n",
    "    section = df[\"Section\"].iloc[0]\n",
    "    team = df[\"Team\"].iloc[0]\n",
    "    return (team, section)\n",
    "\n",
    "data = select_team()\n",
    "team, section = get_info(data)"
   ]
  },
  {
   "cell_type": "code",
   "execution_count": null,
   "metadata": {},
   "outputs": [],
   "source": []
  }
 ],
 "metadata": {
  "kernelspec": {
   "display_name": "Python 3",
   "language": "python",
   "name": "python3"
  },
  "language_info": {
   "codemirror_mode": {
    "name": "ipython",
    "version": 3
   },
   "file_extension": ".py",
   "mimetype": "text/x-python",
   "name": "python",
   "nbconvert_exporter": "python",
   "pygments_lexer": "ipython3",
   "version": "3.10.1"
  },
  "orig_nbformat": 4,
  "vscode": {
   "interpreter": {
    "hash": "aee8b7b246df8f9039afb4144a1f6fd8d2ca17a180786b69acc140d282b71a49"
   }
  }
 },
 "nbformat": 4,
 "nbformat_minor": 2
}
